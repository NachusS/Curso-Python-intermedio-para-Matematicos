{
 "cells": [
  {
   "cell_type": "markdown",
   "metadata": {},
   "source": [
    "# [<font size=\"10\">NumPy<font>](http://www.numpy.org) $:=$ `Numerical Python` \n",
    "\n",
    "<img src=\"../images/NumPy_logo.svg\" />"
   ]
  },
  {
   "cell_type": "markdown",
   "metadata": {},
   "source": [
    "Según la [página](http://www.numpy.org) oficial (traducción): **NumPy** es el paquete fundamental para la computación científica con Python. Contiene entre otras cosas:\n",
    "\n",
    "* Un poderoso objeto de matriz N-dimensional.\n",
    "* Funciones sofisticadas.\n",
    "* Herramientas para la integración de código C/C++ y Fortran.\n",
    "* Álgebra lineal útil, transformada de Fourier y capacidades de números aleatorios.\n",
    "\n",
    "Además de sus obvios usos científicos, NumPy también se puede usar como un eficiente contenedor multidimensional de datos genéricos. Se pueden definir tipos de datos arbitrarios. Esto permite que NumPy se integre a la perfección con una amplia variedad de bases de datos."
   ]
  },
  {
   "cell_type": "markdown",
   "metadata": {},
   "source": [
    "La versiones de desarrollo más recientes están disponibles a través de los repositorios oficiales alojados en [Github](https://github.com/numpy/numpy)."
   ]
  },
  {
   "cell_type": "markdown",
   "metadata": {},
   "source": [
    "En definitiva, [NumPy](https://numpy.org/) es una librería de Python especializada en el **cálculo numérico** y el **análisis de datos**, especialmente para un **gran volumen de datos**.\n",
    "\n",
    "Incorpora una nueva clase de objetos llamados **arrays** que permite representar **colecciones de datos de un mismo tipo** en varias dimensiones, y funciones muy eficientes para su manipulación.\n",
    "\n",
    "La ventaja de Numpy frente a las listas predefinidas en Python es que el procesamiento de los arrays se realiza mucho más rápido (hasta 50 veces más) que las listas, lo cual la hace ideal para el procesamiento de vectores y matrices de grandes dimensiones."
   ]
  },
  {
   "cell_type": "markdown",
   "metadata": {},
   "source": [
    "# ¿Cómo instalar NumPy?"
   ]
  },
  {
   "cell_type": "markdown",
   "metadata": {},
   "source": [
    "Puede instalarse tipeando en la terminal:\n",
    "\n",
    "* `conda install numpy`\n",
    "* `git clone https://github.com/numpy/numpy.git`"
   ]
  },
  {
   "cell_type": "markdown",
   "metadata": {},
   "source": [
    "# ¿Cómo utilizar NumPy?"
   ]
  },
  {
   "cell_type": "markdown",
   "metadata": {},
   "source": [
    "La manera recomendada es cargar **NumPy** como se hace a continuación: "
   ]
  },
  {
   "cell_type": "code",
   "execution_count": 1,
   "metadata": {
    "jupyter": {
     "outputs_hidden": true
    }
   },
   "outputs": [],
   "source": [
    "import numpy as np"
   ]
  },
  {
   "cell_type": "code",
   "execution_count": 2,
   "metadata": {},
   "outputs": [
    {
     "data": {
      "text/plain": [
       "<module 'numpy' from 'C:\\\\ProgramData\\\\Anaconda3\\\\lib\\\\site-packages\\\\numpy\\\\__init__.py'>"
      ]
     },
     "execution_count": 2,
     "metadata": {},
     "output_type": "execute_result"
    }
   ],
   "source": [
    "np"
   ]
  },
  {
   "cell_type": "markdown",
   "metadata": {},
   "source": [
    "Teniendo Numpy cargado, averiguemos el número de versión instalada."
   ]
  },
  {
   "cell_type": "code",
   "execution_count": 4,
   "metadata": {
    "jupyter": {
     "outputs_hidden": true
    }
   },
   "outputs": [
    {
     "data": {
      "text/plain": [
       "'1.18.5'"
      ]
     },
     "execution_count": 4,
     "metadata": {},
     "output_type": "execute_result"
    }
   ],
   "source": [
    "np.__version__"
   ]
  },
  {
   "cell_type": "markdown",
   "metadata": {},
   "source": [
    "# ¿Qué nos provee Numpy?"
   ]
  },
  {
   "cell_type": "markdown",
   "metadata": {},
   "source": [
    "La documentación oficial se encuentra [aquí](https://numpy.org/doc/1.23/)."
   ]
  },
  {
   "cell_type": "markdown",
   "metadata": {},
   "source": [
    "# Números populares"
   ]
  },
  {
   "cell_type": "markdown",
   "metadata": {},
   "source": [
    "#### Número [$\\pi$](https://es.wikipedia.org/wiki/Número_π)\n",
    "\n",
    "<img src=\"../images/NUMERO_PI.jpg\" />"
   ]
  },
  {
   "cell_type": "code",
   "execution_count": 6,
   "metadata": {
    "jupyter": {
     "outputs_hidden": true
    }
   },
   "outputs": [
    {
     "data": {
      "text/plain": [
       "3.141592653589793"
      ]
     },
     "execution_count": 6,
     "metadata": {},
     "output_type": "execute_result"
    }
   ],
   "source": [
    "np.pi"
   ]
  },
  {
   "cell_type": "code",
   "execution_count": 7,
   "metadata": {
    "jupyter": {
     "outputs_hidden": true
    }
   },
   "outputs": [
    {
     "data": {
      "text/plain": [
       "float"
      ]
     },
     "execution_count": 7,
     "metadata": {},
     "output_type": "execute_result"
    }
   ],
   "source": [
    "#Averiguamos el tipo de variable\n",
    "type(np.pi)"
   ]
  },
  {
   "cell_type": "markdown",
   "metadata": {},
   "source": [
    "#### Número [$e$](https://es.wikipedia.org/wiki/Número_e)\n",
    "\n",
    "<img src=\"../images/napier_10000.svg\" />"
   ]
  },
  {
   "cell_type": "code",
   "execution_count": 8,
   "metadata": {
    "jupyter": {
     "outputs_hidden": true
    }
   },
   "outputs": [
    {
     "data": {
      "text/plain": [
       "2.718281828459045"
      ]
     },
     "execution_count": 8,
     "metadata": {},
     "output_type": "execute_result"
    }
   ],
   "source": [
    "np.e"
   ]
  },
  {
   "cell_type": "code",
   "execution_count": 9,
   "metadata": {
    "jupyter": {
     "outputs_hidden": true
    }
   },
   "outputs": [
    {
     "data": {
      "text/plain": [
       "float"
      ]
     },
     "execution_count": 9,
     "metadata": {},
     "output_type": "execute_result"
    }
   ],
   "source": [
    "#Averiguamos el tipo de variable\n",
    "type(np.e)"
   ]
  },
  {
   "cell_type": "markdown",
   "metadata": {},
   "source": [
    "# La clase **array** \n",
    "Un array es una estructura de datos de un mismo tipo organizada en forma de tabla o cuadrícula de distintas dimensiones.\n",
    "\n",
    "Las dimensiones de un array también se conocen como ejes.\n",
    "![arrays](../images/arrays.png)\n",
    "\n",
    "## Creación de arrays\n",
    "Para crear un array se utiliza la siguiente función de NumPy\n",
    "\n",
    "* `np.array(lista)` : Crea un array a partir de la **lista o tupla** en formato lista, devuelviendo una referencia a él. El **número de dimensiones** del array dependerá de las listas o tuplas anidadas en lista:\n",
    "\n",
    "* Para una lista de valores se crea un array de una dimensión, también conocido como **vector**.\n",
    "\n",
    "* Para una lista de listas de valores se crea un array de dos dimensiones, también conocido como **matriz**.\n",
    "\n",
    "* Para una lista de listas de listas de valores se crea un array de tres dimensiones, también conocido como **cubo**.\n",
    "\n",
    "Y así sucesivamente. No hay límite en el número de dimensiones del array más allá de la memoria disponible en el sistema.\n",
    "\n",
    " **Los elementos de la lista o tupla deben ser del mismo tipo**."
   ]
  },
  {
   "cell_type": "code",
   "execution_count": 43,
   "metadata": {},
   "outputs": [
    {
     "name": "stdout",
     "output_type": "stream",
     "text": [
      "[1 2 3]\n",
      "----------\n",
      "(3,)\n"
     ]
    }
   ],
   "source": [
    "# Ejemplos:\n",
    "# Array de una dimensión\n",
    "a1 = np.array([1, 2, 3])\n",
    "print(a1)\n",
    "print(\"-\"*10)\n",
    "print(a1.shape)"
   ]
  },
  {
   "cell_type": "code",
   "execution_count": 42,
   "metadata": {},
   "outputs": [
    {
     "name": "stdout",
     "output_type": "stream",
     "text": [
      "[[1 2 3]\n",
      " [4 5 6]]\n",
      "----------\n",
      "(2, 3)\n"
     ]
    }
   ],
   "source": [
    "# Array de dos dimensiones\n",
    "a2 = np.array([[1, 2, 3], [4, 5, 6]])\n",
    "print(a2)\n",
    "print(\"-\"*10)\n",
    "print(a2.shape)"
   ]
  },
  {
   "cell_type": "code",
   "execution_count": 32,
   "metadata": {},
   "outputs": [
    {
     "name": "stdout",
     "output_type": "stream",
     "text": [
      "[[[ 1  2  3]\n",
      "  [ 4  5  6]]\n",
      "\n",
      " [[ 7  8  9]\n",
      "  [10 11 12]]]\n",
      "----------\n",
      "(2, 2, 3)\n"
     ]
    }
   ],
   "source": [
    "# Array de tres dimensiones\n",
    "a3 = np.array([[[1, 2, 3], [4, 5, 6]], [[7, 8, 9], [10, 11, 12]]])\n",
    "print(a3)\n",
    "print(\"-\"*10)\n",
    "print(a3.shape)"
   ]
  },
  {
   "cell_type": "markdown",
   "metadata": {},
   "source": [
    "# Arrays o Arreglos. Definiciones."
   ]
  },
  {
   "cell_type": "markdown",
   "metadata": {},
   "source": [
    "En el paquete `NumPy` la terminología usada para vectores, matrices y conjuntos de datos de dimensión mayor es la de un  `array` (arreglo). \n",
    "\n",
    "<img src='../images/1_O2_46c16UdgmXzen4VktMg.png' title= https://towardsdatascience.com/two-cool-features-of-python-numpy-mutating-by-slicing-and-broadcasting-3b0b86e8b4c7 />"
   ]
  },
  {
   "cell_type": "markdown",
   "metadata": {},
   "source": [
    "## Creando arrays de `NumPy`\n",
    "\n",
    "Existen varias formas para inicializar nuevos arrays de `NumPy`, por ejemplo desde\n",
    "\n",
    "* Listas o tuplas Python.\n",
    "* Usando funciones dedicadas a generar arreglos `NumPy`, como `np.arange`, `np.linspace`, etc.\n",
    "* Leyendo datos desde archivos."
   ]
  },
  {
   "cell_type": "markdown",
   "metadata": {},
   "source": [
    "### Creación de un vector (arreglo 1D)\n",
    "\n",
    "Por ejemplo, para crear nuevos arreglos de matrices y vectores desde listas Python podemos usar la función `numpy.array`."
   ]
  },
  {
   "cell_type": "code",
   "execution_count": 44,
   "metadata": {
    "jupyter": {
     "outputs_hidden": true
    }
   },
   "outputs": [],
   "source": [
    "#creando una lista\n",
    "lista = [1, 2, 3, 4]"
   ]
  },
  {
   "cell_type": "code",
   "execution_count": 45,
   "metadata": {
    "jupyter": {
     "outputs_hidden": true
    }
   },
   "outputs": [
    {
     "data": {
      "text/plain": [
       "list"
      ]
     },
     "execution_count": 45,
     "metadata": {},
     "output_type": "execute_result"
    }
   ],
   "source": [
    "type(lista)"
   ]
  },
  {
   "cell_type": "code",
   "execution_count": 46,
   "metadata": {
    "jupyter": {
     "outputs_hidden": true
    }
   },
   "outputs": [
    {
     "data": {
      "text/plain": [
       "array([1, 2, 3, 4])"
      ]
     },
     "execution_count": 46,
     "metadata": {},
     "output_type": "execute_result"
    }
   ],
   "source": [
    "# un vector: el argumento de la función array es una lista de Python\n",
    "array1d = np.array(lista)\n",
    "array1d"
   ]
  },
  {
   "cell_type": "code",
   "execution_count": 47,
   "metadata": {
    "jupyter": {
     "outputs_hidden": true
    }
   },
   "outputs": [
    {
     "name": "stdout",
     "output_type": "stream",
     "text": [
      "<class 'numpy.ndarray'>\n",
      "(4,)\n"
     ]
    }
   ],
   "source": [
    "# Ver el tipo de dato y su estructura o forma.\n",
    "print(type(array1d))\n",
    "print(array1d.shape)"
   ]
  },
  {
   "cell_type": "markdown",
   "metadata": {},
   "source": [
    "## Indexado de vector"
   ]
  },
  {
   "cell_type": "markdown",
   "metadata": {},
   "source": [
    "Acceso a los distintos elementos o componentes de la lista creada."
   ]
  },
  {
   "cell_type": "code",
   "execution_count": 48,
   "metadata": {
    "jupyter": {
     "outputs_hidden": true
    }
   },
   "outputs": [
    {
     "data": {
      "text/plain": [
       "1"
      ]
     },
     "execution_count": 48,
     "metadata": {},
     "output_type": "execute_result"
    }
   ],
   "source": [
    "lista[0]"
   ]
  },
  {
   "cell_type": "code",
   "execution_count": 49,
   "metadata": {
    "jupyter": {
     "outputs_hidden": true
    }
   },
   "outputs": [
    {
     "data": {
      "text/plain": [
       "2"
      ]
     },
     "execution_count": 49,
     "metadata": {},
     "output_type": "execute_result"
    }
   ],
   "source": [
    "lista[1]"
   ]
  },
  {
   "cell_type": "code",
   "execution_count": 50,
   "metadata": {
    "jupyter": {
     "outputs_hidden": true
    }
   },
   "outputs": [
    {
     "data": {
      "text/plain": [
       "1"
      ]
     },
     "execution_count": 50,
     "metadata": {},
     "output_type": "execute_result"
    }
   ],
   "source": [
    "array1d[0]"
   ]
  },
  {
   "cell_type": "code",
   "execution_count": 51,
   "metadata": {
    "jupyter": {
     "outputs_hidden": true
    }
   },
   "outputs": [
    {
     "ename": "IndexError",
     "evalue": "index 4 is out of bounds for axis 0 with size 4",
     "output_type": "error",
     "traceback": [
      "\u001b[1;31m---------------------------------------------------------------------------\u001b[0m",
      "\u001b[1;31mIndexError\u001b[0m                                Traceback (most recent call last)",
      "\u001b[1;32m<ipython-input-51-ae8131bfe916>\u001b[0m in \u001b[0;36m<module>\u001b[1;34m\u001b[0m\n\u001b[1;32m----> 1\u001b[1;33m \u001b[0marray1d\u001b[0m\u001b[1;33m[\u001b[0m\u001b[1;36m4\u001b[0m\u001b[1;33m]\u001b[0m\u001b[1;33m\u001b[0m\u001b[1;33m\u001b[0m\u001b[0m\n\u001b[0m",
      "\u001b[1;31mIndexError\u001b[0m: index 4 is out of bounds for axis 0 with size 4"
     ]
    }
   ],
   "source": [
    "array1d[4]"
   ]
  },
  {
   "cell_type": "markdown",
   "metadata": {},
   "source": [
    "Hasta el momento el arreglo `np.ndarray` se parece a una lista Python (anidada). Entonces, **¿por qué simplemente no usar listas para hacer cálculos en lugar de crear un tipo nuevo de array? **\n",
    "\n",
    "Existen varias razones:\n",
    "\n",
    "* Las listas Python son muy generales. Ellas pueden contener cualquier tipo de objeto. Sus tipos son asignados dinámicamente. Ellas no permiten usar funciones matemáticas tales como la multiplicación de matrices, el producto escalar, etc. El implementar tales funciones para las listas Python no sería muy eficiente debido a la asignación dinámica de su tipo.\n",
    "* Los arreglos Numpy tienen tipo **estático** y **homogéneo**. El tipo de elementos es determinado cuando se crea el arreglo.\n",
    "* Los arreglos Numpy son eficientes en el uso de memoria.\n",
    "* Debido a su tipo estático, se pueden desarrollar implementaciones rápidas de funciones matemáticas tales como la multiplicación y la suma de arreglos `NumPy` usando lenguajes compilados (se usan C y Fortran)."
   ]
  },
  {
   "cell_type": "markdown",
   "metadata": {},
   "source": [
    "## ¿Un vector es igual a una lista?"
   ]
  },
  {
   "cell_type": "markdown",
   "metadata": {},
   "source": [
    "**No**. Las operaciones permitidas para las listas son diferentes a las que poseen los vectores. Justifiquemos..."
   ]
  },
  {
   "cell_type": "code",
   "execution_count": 54,
   "metadata": {
    "jupyter": {
     "outputs_hidden": true
    }
   },
   "outputs": [
    {
     "data": {
      "text/plain": [
       "False"
      ]
     },
     "execution_count": 54,
     "metadata": {},
     "output_type": "execute_result"
    }
   ],
   "source": [
    "#Comprobacion del mismo tipo de dato?\n",
    "array1d is lista"
   ]
  },
  {
   "cell_type": "code",
   "execution_count": 55,
   "metadata": {
    "jupyter": {
     "outputs_hidden": true
    }
   },
   "outputs": [
    {
     "data": {
      "text/plain": [
       "array([ True,  True,  True,  True])"
      ]
     },
     "execution_count": 55,
     "metadata": {},
     "output_type": "execute_result"
    }
   ],
   "source": [
    "lista == array1d"
   ]
  },
  {
   "cell_type": "code",
   "execution_count": 58,
   "metadata": {
    "jupyter": {
     "outputs_hidden": true
    }
   },
   "outputs": [
    {
     "data": {
      "text/plain": [
       "[1, 2, 3, 4, 1, 2, 3, 4, 1, 2, 3, 4]"
      ]
     },
     "execution_count": 58,
     "metadata": {},
     "output_type": "execute_result"
    }
   ],
   "source": [
    "# Operaciones sobre la lista\n",
    "3*lista"
   ]
  },
  {
   "cell_type": "code",
   "execution_count": 59,
   "metadata": {
    "jupyter": {
     "outputs_hidden": true
    }
   },
   "outputs": [
    {
     "data": {
      "text/plain": [
       "array([ 3,  6,  9, 12])"
      ]
     },
     "execution_count": 59,
     "metadata": {},
     "output_type": "execute_result"
    }
   ],
   "source": [
    "# Operaciones sobre el array\n",
    "3*array1d"
   ]
  },
  {
   "cell_type": "code",
   "execution_count": 61,
   "metadata": {
    "jupyter": {
     "outputs_hidden": true
    }
   },
   "outputs": [],
   "source": [
    "#Definimos tres listas\n",
    "l01 = [1, 2, 3]\n",
    "l02 = [4, 5, 6]\n",
    "l03 = [7, 8, 9, 10, 11]"
   ]
  },
  {
   "cell_type": "code",
   "execution_count": 62,
   "metadata": {
    "jupyter": {
     "outputs_hidden": true
    }
   },
   "outputs": [
    {
     "data": {
      "text/plain": [
       "[1, 2, 3, 4, 5, 6]"
      ]
     },
     "execution_count": 62,
     "metadata": {},
     "output_type": "execute_result"
    }
   ],
   "source": [
    "#Suma de listas\n",
    "l01 + l02"
   ]
  },
  {
   "cell_type": "code",
   "execution_count": 63,
   "metadata": {
    "jupyter": {
     "outputs_hidden": true
    }
   },
   "outputs": [
    {
     "data": {
      "text/plain": [
       "[1, 2, 3, 7, 8, 9, 10, 11]"
      ]
     },
     "execution_count": 63,
     "metadata": {},
     "output_type": "execute_result"
    }
   ],
   "source": [
    "#Suma de listas\n",
    "l01 + l03"
   ]
  },
  {
   "cell_type": "code",
   "execution_count": 64,
   "metadata": {
    "jupyter": {
     "outputs_hidden": true
    }
   },
   "outputs": [
    {
     "data": {
      "text/plain": [
       "[1, 2, 3, 4, 5, 6, 7, 8, 9, 10, 11]"
      ]
     },
     "execution_count": 64,
     "metadata": {},
     "output_type": "execute_result"
    }
   ],
   "source": [
    "#Suma de listas\n",
    "l01 + l02 + l03"
   ]
  },
  {
   "cell_type": "markdown",
   "metadata": {},
   "source": [
    "ahora definimos las mismas operaciones pero sobre arrays de numpy. Utilizamos las listas generadas."
   ]
  },
  {
   "cell_type": "code",
   "execution_count": 65,
   "metadata": {
    "jupyter": {
     "outputs_hidden": true
    }
   },
   "outputs": [],
   "source": [
    "#Definimos tres vectores\n",
    "v01 = np.array(l01)\n",
    "v02 = np.array(l02)\n",
    "v03 = np.array(l03)"
   ]
  },
  {
   "cell_type": "code",
   "execution_count": 66,
   "metadata": {
    "jupyter": {
     "outputs_hidden": true
    }
   },
   "outputs": [
    {
     "data": {
      "text/plain": [
       "array([1, 2, 3])"
      ]
     },
     "execution_count": 66,
     "metadata": {},
     "output_type": "execute_result"
    }
   ],
   "source": [
    "v01"
   ]
  },
  {
   "cell_type": "code",
   "execution_count": 67,
   "metadata": {
    "jupyter": {
     "outputs_hidden": true
    }
   },
   "outputs": [
    {
     "data": {
      "text/plain": [
       "array([4, 5, 6])"
      ]
     },
     "execution_count": 67,
     "metadata": {},
     "output_type": "execute_result"
    }
   ],
   "source": [
    "v02"
   ]
  },
  {
   "cell_type": "code",
   "execution_count": 68,
   "metadata": {
    "jupyter": {
     "outputs_hidden": true
    }
   },
   "outputs": [
    {
     "data": {
      "text/plain": [
       "array([ 7,  8,  9, 10, 11])"
      ]
     },
     "execution_count": 68,
     "metadata": {},
     "output_type": "execute_result"
    }
   ],
   "source": [
    "v03"
   ]
  },
  {
   "cell_type": "code",
   "execution_count": 69,
   "metadata": {
    "jupyter": {
     "outputs_hidden": true
    }
   },
   "outputs": [
    {
     "data": {
      "text/plain": [
       "array([5, 7, 9])"
      ]
     },
     "execution_count": 69,
     "metadata": {},
     "output_type": "execute_result"
    }
   ],
   "source": [
    "#Suma de vectores\n",
    "v01 + v02"
   ]
  },
  {
   "cell_type": "code",
   "execution_count": 71,
   "metadata": {
    "jupyter": {
     "outputs_hidden": true
    }
   },
   "outputs": [
    {
     "ename": "ValueError",
     "evalue": "operands could not be broadcast together with shapes (3,) (5,) ",
     "output_type": "error",
     "traceback": [
      "\u001b[1;31m---------------------------------------------------------------------------\u001b[0m",
      "\u001b[1;31mValueError\u001b[0m                                Traceback (most recent call last)",
      "\u001b[1;32m<ipython-input-71-1880bb35cb13>\u001b[0m in \u001b[0;36m<module>\u001b[1;34m\u001b[0m\n\u001b[0;32m      1\u001b[0m \u001b[1;31m#Suma de vectores. Importante observacion:\u001b[0m\u001b[1;33m\u001b[0m\u001b[1;33m\u001b[0m\u001b[1;33m\u001b[0m\u001b[0m\n\u001b[1;32m----> 2\u001b[1;33m \u001b[0mv01\u001b[0m \u001b[1;33m+\u001b[0m \u001b[0mv03\u001b[0m\u001b[1;33m\u001b[0m\u001b[1;33m\u001b[0m\u001b[0m\n\u001b[0m",
      "\u001b[1;31mValueError\u001b[0m: operands could not be broadcast together with shapes (3,) (5,) "
     ]
    }
   ],
   "source": [
    "#Suma de vectores. Importante observacion:\n",
    "v01 + v03"
   ]
  },
  {
   "cell_type": "code",
   "execution_count": 73,
   "metadata": {
    "jupyter": {
     "outputs_hidden": true
    }
   },
   "outputs": [
    {
     "ename": "ValueError",
     "evalue": "operands could not be broadcast together with shapes (3,) (5,) ",
     "output_type": "error",
     "traceback": [
      "\u001b[1;31m---------------------------------------------------------------------------\u001b[0m",
      "\u001b[1;31mValueError\u001b[0m                                Traceback (most recent call last)",
      "\u001b[1;32m<ipython-input-73-1308bdbd15ca>\u001b[0m in \u001b[0;36m<module>\u001b[1;34m\u001b[0m\n\u001b[0;32m      1\u001b[0m \u001b[1;31m#Suma de vectores. Volvemos al error.\u001b[0m\u001b[1;33m\u001b[0m\u001b[1;33m\u001b[0m\u001b[1;33m\u001b[0m\u001b[0m\n\u001b[1;32m----> 2\u001b[1;33m \u001b[0mv01\u001b[0m \u001b[1;33m+\u001b[0m \u001b[0mv02\u001b[0m \u001b[1;33m+\u001b[0m \u001b[0mv03\u001b[0m\u001b[1;33m\u001b[0m\u001b[1;33m\u001b[0m\u001b[0m\n\u001b[0m",
      "\u001b[1;31mValueError\u001b[0m: operands could not be broadcast together with shapes (3,) (5,) "
     ]
    }
   ],
   "source": [
    "#Suma de vectores. Volvemos al error.\n",
    "v01 + v02 + v03"
   ]
  },
  {
   "cell_type": "markdown",
   "metadata": {},
   "source": [
    "## Atributos de un array\n",
    "Existen varios atributos y funciones que describen las características de un array.\n",
    "\n",
    "* `a.ndim` : Devuelve el número de dimensiones del array a.\n",
    "\n",
    "* `a.shape` : Devuelve una tupla con las dimensiones del array a.\n",
    "\n",
    "* `a.size` : Devuelve el número de elementos del array a.\n",
    "\n",
    "* `a.dtype`: Devuelve el tipo de datos de los elementos del array a.\n"
   ]
  },
  {
   "cell_type": "code",
   "execution_count": 74,
   "metadata": {
    "jupyter": {
     "outputs_hidden": true
    }
   },
   "outputs": [
    {
     "data": {
      "text/plain": [
       "(3,)"
      ]
     },
     "execution_count": 74,
     "metadata": {},
     "output_type": "execute_result"
    }
   ],
   "source": [
    "# Utilizamos la funcion np.shape()\n",
    "np.shape(v01)"
   ]
  },
  {
   "cell_type": "code",
   "execution_count": 78,
   "metadata": {
    "jupyter": {
     "outputs_hidden": true
    }
   },
   "outputs": [
    {
     "data": {
      "text/plain": [
       "(3,)"
      ]
     },
     "execution_count": 78,
     "metadata": {},
     "output_type": "execute_result"
    }
   ],
   "source": [
    "# Utilizamos el método del objeto array. (objeto.shape)\n",
    "v01.shape"
   ]
  },
  {
   "cell_type": "code",
   "execution_count": 76,
   "metadata": {
    "jupyter": {
     "outputs_hidden": true
    }
   },
   "outputs": [
    {
     "data": {
      "text/plain": [
       "(3,)"
      ]
     },
     "execution_count": 76,
     "metadata": {},
     "output_type": "execute_result"
    }
   ],
   "source": [
    "v02.shape"
   ]
  },
  {
   "cell_type": "code",
   "execution_count": 77,
   "metadata": {
    "jupyter": {
     "outputs_hidden": true
    }
   },
   "outputs": [
    {
     "data": {
      "text/plain": [
       "(5,)"
      ]
     },
     "execution_count": 77,
     "metadata": {},
     "output_type": "execute_result"
    }
   ],
   "source": [
    "v03.shape"
   ]
  },
  {
   "cell_type": "markdown",
   "metadata": {},
   "source": [
    "**Los vectores** sólo se pueden sumar si tienen la misma forma."
   ]
  },
  {
   "cell_type": "markdown",
   "metadata": {},
   "source": [
    "El **número de elementos** de un arreglo puede obtenerse usando la propiedad `ndarray.size`:"
   ]
  },
  {
   "cell_type": "code",
   "execution_count": 79,
   "metadata": {
    "jupyter": {
     "outputs_hidden": true
    }
   },
   "outputs": [
    {
     "data": {
      "text/plain": [
       "3"
      ]
     },
     "execution_count": 79,
     "metadata": {},
     "output_type": "execute_result"
    }
   ],
   "source": [
    "np.size(v01)"
   ]
  },
  {
   "cell_type": "markdown",
   "metadata": {},
   "source": [
    "O equivalentemente."
   ]
  },
  {
   "cell_type": "code",
   "execution_count": 80,
   "metadata": {
    "jupyter": {
     "outputs_hidden": true
    }
   },
   "outputs": [
    {
     "data": {
      "text/plain": [
       "3"
      ]
     },
     "execution_count": 80,
     "metadata": {},
     "output_type": "execute_result"
    }
   ],
   "source": [
    "v01.size"
   ]
  },
  {
   "cell_type": "code",
   "execution_count": 81,
   "metadata": {
    "jupyter": {
     "outputs_hidden": true
    }
   },
   "outputs": [
    {
     "data": {
      "text/plain": [
       "3"
      ]
     },
     "execution_count": 81,
     "metadata": {},
     "output_type": "execute_result"
    }
   ],
   "source": [
    "v02.size"
   ]
  },
  {
   "cell_type": "code",
   "execution_count": 82,
   "metadata": {
    "jupyter": {
     "outputs_hidden": true
    }
   },
   "outputs": [
    {
     "data": {
      "text/plain": [
       "5"
      ]
     },
     "execution_count": 82,
     "metadata": {},
     "output_type": "execute_result"
    }
   ],
   "source": [
    "v03.size"
   ]
  },
  {
   "cell_type": "markdown",
   "metadata": {},
   "source": [
    "**Otras operaciones:**"
   ]
  },
  {
   "cell_type": "code",
   "execution_count": 83,
   "metadata": {
    "jupyter": {
     "outputs_hidden": true
    }
   },
   "outputs": [
    {
     "ename": "TypeError",
     "evalue": "can't multiply sequence by non-int of type 'list'",
     "output_type": "error",
     "traceback": [
      "\u001b[1;31m---------------------------------------------------------------------------\u001b[0m",
      "\u001b[1;31mTypeError\u001b[0m                                 Traceback (most recent call last)",
      "\u001b[1;32m<ipython-input-83-47c50ba72ab4>\u001b[0m in \u001b[0;36m<module>\u001b[1;34m\u001b[0m\n\u001b[0;32m      1\u001b[0m \u001b[1;31m# Multiplicando listas\u001b[0m\u001b[1;33m\u001b[0m\u001b[1;33m\u001b[0m\u001b[1;33m\u001b[0m\u001b[0m\n\u001b[1;32m----> 2\u001b[1;33m \u001b[0ml01\u001b[0m\u001b[1;33m*\u001b[0m\u001b[0ml02\u001b[0m\u001b[1;33m\u001b[0m\u001b[1;33m\u001b[0m\u001b[0m\n\u001b[0m",
      "\u001b[1;31mTypeError\u001b[0m: can't multiply sequence by non-int of type 'list'"
     ]
    }
   ],
   "source": [
    "# Multiplicando listas\n",
    "l01*l02"
   ]
  },
  {
   "cell_type": "code",
   "execution_count": 84,
   "metadata": {
    "jupyter": {
     "outputs_hidden": true
    }
   },
   "outputs": [
    {
     "data": {
      "text/plain": [
       "array([ 4, 10, 18])"
      ]
     },
     "execution_count": 84,
     "metadata": {},
     "output_type": "execute_result"
    }
   ],
   "source": [
    "#Multiplicando vectores\n",
    "v01*v02"
   ]
  },
  {
   "cell_type": "code",
   "execution_count": 85,
   "metadata": {
    "jupyter": {
     "outputs_hidden": true
    }
   },
   "outputs": [
    {
     "ename": "ValueError",
     "evalue": "operands could not be broadcast together with shapes (3,) (5,) ",
     "output_type": "error",
     "traceback": [
      "\u001b[1;31m---------------------------------------------------------------------------\u001b[0m",
      "\u001b[1;31mValueError\u001b[0m                                Traceback (most recent call last)",
      "\u001b[1;32m<ipython-input-85-667b9699da0d>\u001b[0m in \u001b[0;36m<module>\u001b[1;34m\u001b[0m\n\u001b[0;32m      1\u001b[0m \u001b[1;31m#Multiplicando vectores\u001b[0m\u001b[1;33m\u001b[0m\u001b[1;33m\u001b[0m\u001b[1;33m\u001b[0m\u001b[0m\n\u001b[1;32m----> 2\u001b[1;33m \u001b[0mv01\u001b[0m\u001b[1;33m*\u001b[0m\u001b[0mv03\u001b[0m\u001b[1;33m\u001b[0m\u001b[1;33m\u001b[0m\u001b[0m\n\u001b[0m",
      "\u001b[1;31mValueError\u001b[0m: operands could not be broadcast together with shapes (3,) (5,) "
     ]
    }
   ],
   "source": [
    "#Multiplicando vectores\n",
    "v01*v03"
   ]
  },
  {
   "cell_type": "markdown",
   "metadata": {},
   "source": [
    "Las listas no se pueden multiplicar, mientras que los vectores sí. La multiplicación se realiza elemento a elemento y sólo si poseen la misma forma."
   ]
  },
  {
   "cell_type": "code",
   "execution_count": 86,
   "metadata": {
    "jupyter": {
     "outputs_hidden": true
    }
   },
   "outputs": [
    {
     "ename": "TypeError",
     "evalue": "unsupported operand type(s) for /: 'list' and 'list'",
     "output_type": "error",
     "traceback": [
      "\u001b[1;31m---------------------------------------------------------------------------\u001b[0m",
      "\u001b[1;31mTypeError\u001b[0m                                 Traceback (most recent call last)",
      "\u001b[1;32m<ipython-input-86-a679f3f8b289>\u001b[0m in \u001b[0;36m<module>\u001b[1;34m\u001b[0m\n\u001b[0;32m      1\u001b[0m \u001b[1;31m# Dividiendo listas\u001b[0m\u001b[1;33m\u001b[0m\u001b[1;33m\u001b[0m\u001b[1;33m\u001b[0m\u001b[0m\n\u001b[1;32m----> 2\u001b[1;33m \u001b[0ml01\u001b[0m\u001b[1;33m/\u001b[0m\u001b[0ml02\u001b[0m\u001b[1;33m\u001b[0m\u001b[1;33m\u001b[0m\u001b[0m\n\u001b[0m",
      "\u001b[1;31mTypeError\u001b[0m: unsupported operand type(s) for /: 'list' and 'list'"
     ]
    }
   ],
   "source": [
    "# Dividiendo listas\n",
    "l01/l02"
   ]
  },
  {
   "cell_type": "code",
   "execution_count": 87,
   "metadata": {
    "jupyter": {
     "outputs_hidden": true
    }
   },
   "outputs": [
    {
     "data": {
      "text/plain": [
       "array([0.25, 0.4 , 0.5 ])"
      ]
     },
     "execution_count": 87,
     "metadata": {},
     "output_type": "execute_result"
    }
   ],
   "source": [
    "#Dividiendo vectores\n",
    "v01/v02"
   ]
  },
  {
   "cell_type": "code",
   "execution_count": 88,
   "metadata": {
    "jupyter": {
     "outputs_hidden": true
    }
   },
   "outputs": [
    {
     "ename": "ValueError",
     "evalue": "operands could not be broadcast together with shapes (3,) (5,) ",
     "output_type": "error",
     "traceback": [
      "\u001b[1;31m---------------------------------------------------------------------------\u001b[0m",
      "\u001b[1;31mValueError\u001b[0m                                Traceback (most recent call last)",
      "\u001b[1;32m<ipython-input-88-6f1bfef7877b>\u001b[0m in \u001b[0;36m<module>\u001b[1;34m\u001b[0m\n\u001b[0;32m      1\u001b[0m \u001b[1;31m#Dividiendo vectores\u001b[0m\u001b[1;33m\u001b[0m\u001b[1;33m\u001b[0m\u001b[1;33m\u001b[0m\u001b[0m\n\u001b[1;32m----> 2\u001b[1;33m \u001b[0mv01\u001b[0m\u001b[1;33m/\u001b[0m\u001b[0mv03\u001b[0m\u001b[1;33m\u001b[0m\u001b[1;33m\u001b[0m\u001b[0m\n\u001b[0m",
      "\u001b[1;31mValueError\u001b[0m: operands could not be broadcast together with shapes (3,) (5,) "
     ]
    }
   ],
   "source": [
    "#Dividiendo vectores\n",
    "v01/v03"
   ]
  },
  {
   "cell_type": "markdown",
   "metadata": {},
   "source": [
    "Las listas no se pueden dividir, mientras que los vectores sí. La división se realiza elemento a elemento y sólo si poseen la misma forma."
   ]
  },
  {
   "cell_type": "markdown",
   "metadata": {},
   "source": [
    "### Operaciones escalar-arreglo\n",
    "\n",
    "Podemos usar los operadores aritméticos usuales para multiplicar, sumar, restar, y dividir arreglos por números (escalares)."
   ]
  },
  {
   "cell_type": "code",
   "execution_count": 89,
   "metadata": {
    "jupyter": {
     "outputs_hidden": true
    }
   },
   "outputs": [
    {
     "data": {
      "text/plain": [
       "array([ 3,  6,  9, 12])"
      ]
     },
     "execution_count": 89,
     "metadata": {},
     "output_type": "execute_result"
    }
   ],
   "source": [
    "escalar = 3\n",
    "#escalar = 3.\n",
    "escalar*array1d"
   ]
  },
  {
   "cell_type": "code",
   "execution_count": 90,
   "metadata": {
    "jupyter": {
     "outputs_hidden": true
    }
   },
   "outputs": [
    {
     "data": {
      "text/plain": [
       "array([4, 5, 6, 7])"
      ]
     },
     "execution_count": 90,
     "metadata": {},
     "output_type": "execute_result"
    }
   ],
   "source": [
    "array1d+escalar"
   ]
  },
  {
   "cell_type": "markdown",
   "metadata": {},
   "source": [
    "### Operaciones elemento a elemento entre arreglos\n",
    "\n",
    "Cuando sumamos, sustraemos, multiplicamos y dividimos dos arreglos, el comportamiento por defecto es operar *elemento a elemento*:"
   ]
  },
  {
   "cell_type": "code",
   "execution_count": 91,
   "metadata": {
    "jupyter": {
     "outputs_hidden": true
    }
   },
   "outputs": [
    {
     "data": {
      "text/plain": [
       "array([ 1,  4,  9, 16], dtype=int32)"
      ]
     },
     "execution_count": 91,
     "metadata": {},
     "output_type": "execute_result"
    }
   ],
   "source": [
    "# elevar al cuadrado\n",
    "array1d**2"
   ]
  },
  {
   "cell_type": "markdown",
   "metadata": {},
   "source": [
    "Ejemplos aplicación distintas **funciones al vector**:"
   ]
  },
  {
   "cell_type": "code",
   "execution_count": 92,
   "metadata": {
    "jupyter": {
     "outputs_hidden": true
    }
   },
   "outputs": [
    {
     "data": {
      "text/plain": [
       "array([ 1.55740772, -2.18503986, -0.14254654,  1.15782128])"
      ]
     },
     "execution_count": 92,
     "metadata": {},
     "output_type": "execute_result"
    }
   ],
   "source": [
    "# tangente Equivalent to np.sin(x)/np.cos(x)\n",
    "np.tan(array1d)"
   ]
  },
  {
   "cell_type": "code",
   "execution_count": 94,
   "metadata": {
    "jupyter": {
     "outputs_hidden": true
    }
   },
   "outputs": [
    {
     "data": {
      "text/plain": [
       "array([ 2.71828183,  7.3890561 , 20.08553692, 54.59815003])"
      ]
     },
     "execution_count": 94,
     "metadata": {},
     "output_type": "execute_result"
    }
   ],
   "source": [
    "# exponencial\n",
    "np.exp(array1d)"
   ]
  },
  {
   "cell_type": "code",
   "execution_count": 95,
   "metadata": {
    "jupyter": {
     "outputs_hidden": true
    }
   },
   "outputs": [
    {
     "data": {
      "text/plain": [
       "array([ 0.54030231, -0.41614684, -0.9899925 , -0.65364362])"
      ]
     },
     "execution_count": 95,
     "metadata": {},
     "output_type": "execute_result"
    }
   ],
   "source": [
    "# coseno\n",
    "np.cos(array1d)"
   ]
  },
  {
   "cell_type": "code",
   "execution_count": 96,
   "metadata": {
    "jupyter": {
     "outputs_hidden": true
    }
   },
   "outputs": [
    {
     "data": {
      "text/plain": [
       "array([1.        , 1.41421356, 1.73205081, 2.        ])"
      ]
     },
     "execution_count": 96,
     "metadata": {},
     "output_type": "execute_result"
    }
   ],
   "source": [
    "# raíz cuadrada\n",
    "array1d**0.5"
   ]
  },
  {
   "cell_type": "code",
   "execution_count": 97,
   "metadata": {
    "jupyter": {
     "outputs_hidden": true
    }
   },
   "outputs": [
    {
     "data": {
      "text/plain": [
       "array([1.        , 1.41421356, 1.73205081, 2.        ])"
      ]
     },
     "execution_count": 97,
     "metadata": {},
     "output_type": "execute_result"
    }
   ],
   "source": [
    "# raíz cuadrada\n",
    "np.sqrt(array1d)"
   ]
  },
  {
   "cell_type": "markdown",
   "metadata": {},
   "source": [
    "# Creando un arreglo 2D"
   ]
  },
  {
   "cell_type": "code",
   "execution_count": 122,
   "metadata": {
    "jupyter": {
     "outputs_hidden": true
    }
   },
   "outputs": [
    {
     "data": {
      "text/plain": [
       "[[1, 2, 3], [4, 5, 6]]"
      ]
     },
     "execution_count": 122,
     "metadata": {},
     "output_type": "execute_result"
    }
   ],
   "source": [
    "#Creando lista anidada\n",
    "lista_anidada = [l01, l02]\n",
    "#lista_anidada = [l01, [4., 5., 6.]]\n",
    "lista_anidada"
   ]
  },
  {
   "cell_type": "code",
   "execution_count": 123,
   "metadata": {
    "jupyter": {
     "outputs_hidden": true
    }
   },
   "outputs": [
    {
     "data": {
      "text/plain": [
       "array([[1, 2, 3],\n",
       "       [4, 5, 6]])"
      ]
     },
     "execution_count": 123,
     "metadata": {},
     "output_type": "execute_result"
    }
   ],
   "source": [
    "#Creando un arreglo 2D: el argumento de la función np.array es una lista anidada de Python\n",
    "array2d = np.array(lista_anidada)\n",
    "array2d"
   ]
  },
  {
   "cell_type": "markdown",
   "metadata": {},
   "source": [
    "Usando la propiedad `dtype` (tipo de dato) de un `ndarray`, podemos ver qué tipo de dato contiene un arreglo:"
   ]
  },
  {
   "cell_type": "code",
   "execution_count": 124,
   "metadata": {
    "jupyter": {
     "outputs_hidden": true
    }
   },
   "outputs": [
    {
     "data": {
      "text/plain": [
       "(dtype('int32'), dtype('int32'))"
      ]
     },
     "execution_count": 124,
     "metadata": {},
     "output_type": "execute_result"
    }
   ],
   "source": [
    "array1d.dtype, array2d.dtype\n",
    "#Volver a definir matriz"
   ]
  },
  {
   "cell_type": "code",
   "execution_count": 125,
   "metadata": {
    "jupyter": {
     "outputs_hidden": true
    }
   },
   "outputs": [
    {
     "data": {
      "text/plain": [
       "(numpy.ndarray, numpy.ndarray)"
      ]
     },
     "execution_count": 125,
     "metadata": {},
     "output_type": "execute_result"
    }
   ],
   "source": [
    "#Tipo de array1d y array2d\n",
    "type(array1d), type(array2d)"
   ]
  },
  {
   "cell_type": "markdown",
   "metadata": {},
   "source": [
    "Los objetos `array1d` y `array2d` son ambos del tipo `ndarray` que provee el módulo `NumPy`."
   ]
  },
  {
   "cell_type": "code",
   "execution_count": 126,
   "metadata": {
    "jupyter": {
     "outputs_hidden": true
    }
   },
   "outputs": [
    {
     "data": {
      "text/plain": [
       "((4,), (2, 3))"
      ]
     },
     "execution_count": 126,
     "metadata": {},
     "output_type": "execute_result"
    }
   ],
   "source": [
    "#Forma de array1d y array2d\n",
    "array1d.shape, array2d.shape"
   ]
  },
  {
   "cell_type": "code",
   "execution_count": 127,
   "metadata": {
    "jupyter": {
     "outputs_hidden": true
    }
   },
   "outputs": [
    {
     "data": {
      "text/plain": [
       "(4, 6)"
      ]
     },
     "execution_count": 127,
     "metadata": {},
     "output_type": "execute_result"
    }
   ],
   "source": [
    "#Tamaño de array1d y array2d\n",
    "array1d.size, array2d.size"
   ]
  },
  {
   "cell_type": "markdown",
   "metadata": {},
   "source": [
    "# Indexado y visualización de arreglos multidimensionales\n",
    "\n",
    "<img src='../images/1_Ikn1J6siiiCSk4ivYUhdgw.png' title= https://medium.com/datadriveninvestor/artificial-intelligence-series-part-2-numpy-walkthrough-64461f26af4f />"
   ]
  },
  {
   "cell_type": "code",
   "execution_count": 128,
   "metadata": {
    "jupyter": {
     "outputs_hidden": true
    }
   },
   "outputs": [],
   "source": [
    "%matplotlib notebook\n",
    "import matplotlib.pyplot as plt\n",
    "from mpl_toolkits.mplot3d import Axes3D \n",
    "plt.rcParams['font.family'] = 'serif'"
   ]
  },
  {
   "cell_type": "markdown",
   "metadata": {},
   "source": [
    "#### 1D array"
   ]
  },
  {
   "cell_type": "code",
   "execution_count": 129,
   "metadata": {
    "jupyter": {
     "outputs_hidden": true
    }
   },
   "outputs": [
    {
     "data": {
      "text/plain": [
       "array([ 7,  2,  9, 10])"
      ]
     },
     "execution_count": 129,
     "metadata": {},
     "output_type": "execute_result"
    }
   ],
   "source": [
    "array1d = np.array([7, 2, 9, 10])\n",
    "array1d"
   ]
  },
  {
   "cell_type": "code",
   "execution_count": 130,
   "metadata": {
    "jupyter": {
     "outputs_hidden": true
    }
   },
   "outputs": [
    {
     "data": {
      "text/plain": [
       "1"
      ]
     },
     "execution_count": 130,
     "metadata": {},
     "output_type": "execute_result"
    }
   ],
   "source": [
    "array1d.ndim"
   ]
  },
  {
   "cell_type": "code",
   "execution_count": 131,
   "metadata": {
    "jupyter": {
     "outputs_hidden": true
    }
   },
   "outputs": [
    {
     "data": {
      "text/plain": [
       "(4,)"
      ]
     },
     "execution_count": 131,
     "metadata": {},
     "output_type": "execute_result"
    }
   ],
   "source": [
    "array1d.shape"
   ]
  },
  {
   "cell_type": "markdown",
   "metadata": {},
   "source": [
    "`array1d` es un vector, tiene por lo tanto sólo una dimensión, y requiere un índice."
   ]
  },
  {
   "cell_type": "code",
   "execution_count": 132,
   "metadata": {
    "jupyter": {
     "outputs_hidden": true
    }
   },
   "outputs": [
    {
     "data": {
      "application/javascript": [
       "/* Put everything inside the global mpl namespace */\n",
       "window.mpl = {};\n",
       "\n",
       "\n",
       "mpl.get_websocket_type = function() {\n",
       "    if (typeof(WebSocket) !== 'undefined') {\n",
       "        return WebSocket;\n",
       "    } else if (typeof(MozWebSocket) !== 'undefined') {\n",
       "        return MozWebSocket;\n",
       "    } else {\n",
       "        alert('Your browser does not have WebSocket support. ' +\n",
       "              'Please try Chrome, Safari or Firefox ≥ 6. ' +\n",
       "              'Firefox 4 and 5 are also supported but you ' +\n",
       "              'have to enable WebSockets in about:config.');\n",
       "    };\n",
       "}\n",
       "\n",
       "mpl.figure = function(figure_id, websocket, ondownload, parent_element) {\n",
       "    this.id = figure_id;\n",
       "\n",
       "    this.ws = websocket;\n",
       "\n",
       "    this.supports_binary = (this.ws.binaryType != undefined);\n",
       "\n",
       "    if (!this.supports_binary) {\n",
       "        var warnings = document.getElementById(\"mpl-warnings\");\n",
       "        if (warnings) {\n",
       "            warnings.style.display = 'block';\n",
       "            warnings.textContent = (\n",
       "                \"This browser does not support binary websocket messages. \" +\n",
       "                    \"Performance may be slow.\");\n",
       "        }\n",
       "    }\n",
       "\n",
       "    this.imageObj = new Image();\n",
       "\n",
       "    this.context = undefined;\n",
       "    this.message = undefined;\n",
       "    this.canvas = undefined;\n",
       "    this.rubberband_canvas = undefined;\n",
       "    this.rubberband_context = undefined;\n",
       "    this.format_dropdown = undefined;\n",
       "\n",
       "    this.image_mode = 'full';\n",
       "\n",
       "    this.root = $('<div/>');\n",
       "    this._root_extra_style(this.root)\n",
       "    this.root.attr('style', 'display: inline-block');\n",
       "\n",
       "    $(parent_element).append(this.root);\n",
       "\n",
       "    this._init_header(this);\n",
       "    this._init_canvas(this);\n",
       "    this._init_toolbar(this);\n",
       "\n",
       "    var fig = this;\n",
       "\n",
       "    this.waiting = false;\n",
       "\n",
       "    this.ws.onopen =  function () {\n",
       "            fig.send_message(\"supports_binary\", {value: fig.supports_binary});\n",
       "            fig.send_message(\"send_image_mode\", {});\n",
       "            if (mpl.ratio != 1) {\n",
       "                fig.send_message(\"set_dpi_ratio\", {'dpi_ratio': mpl.ratio});\n",
       "            }\n",
       "            fig.send_message(\"refresh\", {});\n",
       "        }\n",
       "\n",
       "    this.imageObj.onload = function() {\n",
       "            if (fig.image_mode == 'full') {\n",
       "                // Full images could contain transparency (where diff images\n",
       "                // almost always do), so we need to clear the canvas so that\n",
       "                // there is no ghosting.\n",
       "                fig.context.clearRect(0, 0, fig.canvas.width, fig.canvas.height);\n",
       "            }\n",
       "            fig.context.drawImage(fig.imageObj, 0, 0);\n",
       "        };\n",
       "\n",
       "    this.imageObj.onunload = function() {\n",
       "        fig.ws.close();\n",
       "    }\n",
       "\n",
       "    this.ws.onmessage = this._make_on_message_function(this);\n",
       "\n",
       "    this.ondownload = ondownload;\n",
       "}\n",
       "\n",
       "mpl.figure.prototype._init_header = function() {\n",
       "    var titlebar = $(\n",
       "        '<div class=\"ui-dialog-titlebar ui-widget-header ui-corner-all ' +\n",
       "        'ui-helper-clearfix\"/>');\n",
       "    var titletext = $(\n",
       "        '<div class=\"ui-dialog-title\" style=\"width: 100%; ' +\n",
       "        'text-align: center; padding: 3px;\"/>');\n",
       "    titlebar.append(titletext)\n",
       "    this.root.append(titlebar);\n",
       "    this.header = titletext[0];\n",
       "}\n",
       "\n",
       "\n",
       "\n",
       "mpl.figure.prototype._canvas_extra_style = function(canvas_div) {\n",
       "\n",
       "}\n",
       "\n",
       "\n",
       "mpl.figure.prototype._root_extra_style = function(canvas_div) {\n",
       "\n",
       "}\n",
       "\n",
       "mpl.figure.prototype._init_canvas = function() {\n",
       "    var fig = this;\n",
       "\n",
       "    var canvas_div = $('<div/>');\n",
       "\n",
       "    canvas_div.attr('style', 'position: relative; clear: both; outline: 0');\n",
       "\n",
       "    function canvas_keyboard_event(event) {\n",
       "        return fig.key_event(event, event['data']);\n",
       "    }\n",
       "\n",
       "    canvas_div.keydown('key_press', canvas_keyboard_event);\n",
       "    canvas_div.keyup('key_release', canvas_keyboard_event);\n",
       "    this.canvas_div = canvas_div\n",
       "    this._canvas_extra_style(canvas_div)\n",
       "    this.root.append(canvas_div);\n",
       "\n",
       "    var canvas = $('<canvas/>');\n",
       "    canvas.addClass('mpl-canvas');\n",
       "    canvas.attr('style', \"left: 0; top: 0; z-index: 0; outline: 0\")\n",
       "\n",
       "    this.canvas = canvas[0];\n",
       "    this.context = canvas[0].getContext(\"2d\");\n",
       "\n",
       "    var backingStore = this.context.backingStorePixelRatio ||\n",
       "\tthis.context.webkitBackingStorePixelRatio ||\n",
       "\tthis.context.mozBackingStorePixelRatio ||\n",
       "\tthis.context.msBackingStorePixelRatio ||\n",
       "\tthis.context.oBackingStorePixelRatio ||\n",
       "\tthis.context.backingStorePixelRatio || 1;\n",
       "\n",
       "    mpl.ratio = (window.devicePixelRatio || 1) / backingStore;\n",
       "\n",
       "    var rubberband = $('<canvas/>');\n",
       "    rubberband.attr('style', \"position: absolute; left: 0; top: 0; z-index: 1;\")\n",
       "\n",
       "    var pass_mouse_events = true;\n",
       "\n",
       "    canvas_div.resizable({\n",
       "        start: function(event, ui) {\n",
       "            pass_mouse_events = false;\n",
       "        },\n",
       "        resize: function(event, ui) {\n",
       "            fig.request_resize(ui.size.width, ui.size.height);\n",
       "        },\n",
       "        stop: function(event, ui) {\n",
       "            pass_mouse_events = true;\n",
       "            fig.request_resize(ui.size.width, ui.size.height);\n",
       "        },\n",
       "    });\n",
       "\n",
       "    function mouse_event_fn(event) {\n",
       "        if (pass_mouse_events)\n",
       "            return fig.mouse_event(event, event['data']);\n",
       "    }\n",
       "\n",
       "    rubberband.mousedown('button_press', mouse_event_fn);\n",
       "    rubberband.mouseup('button_release', mouse_event_fn);\n",
       "    // Throttle sequential mouse events to 1 every 20ms.\n",
       "    rubberband.mousemove('motion_notify', mouse_event_fn);\n",
       "\n",
       "    rubberband.mouseenter('figure_enter', mouse_event_fn);\n",
       "    rubberband.mouseleave('figure_leave', mouse_event_fn);\n",
       "\n",
       "    canvas_div.on(\"wheel\", function (event) {\n",
       "        event = event.originalEvent;\n",
       "        event['data'] = 'scroll'\n",
       "        if (event.deltaY < 0) {\n",
       "            event.step = 1;\n",
       "        } else {\n",
       "            event.step = -1;\n",
       "        }\n",
       "        mouse_event_fn(event);\n",
       "    });\n",
       "\n",
       "    canvas_div.append(canvas);\n",
       "    canvas_div.append(rubberband);\n",
       "\n",
       "    this.rubberband = rubberband;\n",
       "    this.rubberband_canvas = rubberband[0];\n",
       "    this.rubberband_context = rubberband[0].getContext(\"2d\");\n",
       "    this.rubberband_context.strokeStyle = \"#000000\";\n",
       "\n",
       "    this._resize_canvas = function(width, height) {\n",
       "        // Keep the size of the canvas, canvas container, and rubber band\n",
       "        // canvas in synch.\n",
       "        canvas_div.css('width', width)\n",
       "        canvas_div.css('height', height)\n",
       "\n",
       "        canvas.attr('width', width * mpl.ratio);\n",
       "        canvas.attr('height', height * mpl.ratio);\n",
       "        canvas.attr('style', 'width: ' + width + 'px; height: ' + height + 'px;');\n",
       "\n",
       "        rubberband.attr('width', width);\n",
       "        rubberband.attr('height', height);\n",
       "    }\n",
       "\n",
       "    // Set the figure to an initial 600x600px, this will subsequently be updated\n",
       "    // upon first draw.\n",
       "    this._resize_canvas(600, 600);\n",
       "\n",
       "    // Disable right mouse context menu.\n",
       "    $(this.rubberband_canvas).bind(\"contextmenu\",function(e){\n",
       "        return false;\n",
       "    });\n",
       "\n",
       "    function set_focus () {\n",
       "        canvas.focus();\n",
       "        canvas_div.focus();\n",
       "    }\n",
       "\n",
       "    window.setTimeout(set_focus, 100);\n",
       "}\n",
       "\n",
       "mpl.figure.prototype._init_toolbar = function() {\n",
       "    var fig = this;\n",
       "\n",
       "    var nav_element = $('<div/>');\n",
       "    nav_element.attr('style', 'width: 100%');\n",
       "    this.root.append(nav_element);\n",
       "\n",
       "    // Define a callback function for later on.\n",
       "    function toolbar_event(event) {\n",
       "        return fig.toolbar_button_onclick(event['data']);\n",
       "    }\n",
       "    function toolbar_mouse_event(event) {\n",
       "        return fig.toolbar_button_onmouseover(event['data']);\n",
       "    }\n",
       "\n",
       "    for(var toolbar_ind in mpl.toolbar_items) {\n",
       "        var name = mpl.toolbar_items[toolbar_ind][0];\n",
       "        var tooltip = mpl.toolbar_items[toolbar_ind][1];\n",
       "        var image = mpl.toolbar_items[toolbar_ind][2];\n",
       "        var method_name = mpl.toolbar_items[toolbar_ind][3];\n",
       "\n",
       "        if (!name) {\n",
       "            // put a spacer in here.\n",
       "            continue;\n",
       "        }\n",
       "        var button = $('<button/>');\n",
       "        button.addClass('ui-button ui-widget ui-state-default ui-corner-all ' +\n",
       "                        'ui-button-icon-only');\n",
       "        button.attr('role', 'button');\n",
       "        button.attr('aria-disabled', 'false');\n",
       "        button.click(method_name, toolbar_event);\n",
       "        button.mouseover(tooltip, toolbar_mouse_event);\n",
       "\n",
       "        var icon_img = $('<span/>');\n",
       "        icon_img.addClass('ui-button-icon-primary ui-icon');\n",
       "        icon_img.addClass(image);\n",
       "        icon_img.addClass('ui-corner-all');\n",
       "\n",
       "        var tooltip_span = $('<span/>');\n",
       "        tooltip_span.addClass('ui-button-text');\n",
       "        tooltip_span.html(tooltip);\n",
       "\n",
       "        button.append(icon_img);\n",
       "        button.append(tooltip_span);\n",
       "\n",
       "        nav_element.append(button);\n",
       "    }\n",
       "\n",
       "    var fmt_picker_span = $('<span/>');\n",
       "\n",
       "    var fmt_picker = $('<select/>');\n",
       "    fmt_picker.addClass('mpl-toolbar-option ui-widget ui-widget-content');\n",
       "    fmt_picker_span.append(fmt_picker);\n",
       "    nav_element.append(fmt_picker_span);\n",
       "    this.format_dropdown = fmt_picker[0];\n",
       "\n",
       "    for (var ind in mpl.extensions) {\n",
       "        var fmt = mpl.extensions[ind];\n",
       "        var option = $(\n",
       "            '<option/>', {selected: fmt === mpl.default_extension}).html(fmt);\n",
       "        fmt_picker.append(option);\n",
       "    }\n",
       "\n",
       "    // Add hover states to the ui-buttons\n",
       "    $( \".ui-button\" ).hover(\n",
       "        function() { $(this).addClass(\"ui-state-hover\");},\n",
       "        function() { $(this).removeClass(\"ui-state-hover\");}\n",
       "    );\n",
       "\n",
       "    var status_bar = $('<span class=\"mpl-message\"/>');\n",
       "    nav_element.append(status_bar);\n",
       "    this.message = status_bar[0];\n",
       "}\n",
       "\n",
       "mpl.figure.prototype.request_resize = function(x_pixels, y_pixels) {\n",
       "    // Request matplotlib to resize the figure. Matplotlib will then trigger a resize in the client,\n",
       "    // which will in turn request a refresh of the image.\n",
       "    this.send_message('resize', {'width': x_pixels, 'height': y_pixels});\n",
       "}\n",
       "\n",
       "mpl.figure.prototype.send_message = function(type, properties) {\n",
       "    properties['type'] = type;\n",
       "    properties['figure_id'] = this.id;\n",
       "    this.ws.send(JSON.stringify(properties));\n",
       "}\n",
       "\n",
       "mpl.figure.prototype.send_draw_message = function() {\n",
       "    if (!this.waiting) {\n",
       "        this.waiting = true;\n",
       "        this.ws.send(JSON.stringify({type: \"draw\", figure_id: this.id}));\n",
       "    }\n",
       "}\n",
       "\n",
       "\n",
       "mpl.figure.prototype.handle_save = function(fig, msg) {\n",
       "    var format_dropdown = fig.format_dropdown;\n",
       "    var format = format_dropdown.options[format_dropdown.selectedIndex].value;\n",
       "    fig.ondownload(fig, format);\n",
       "}\n",
       "\n",
       "\n",
       "mpl.figure.prototype.handle_resize = function(fig, msg) {\n",
       "    var size = msg['size'];\n",
       "    if (size[0] != fig.canvas.width || size[1] != fig.canvas.height) {\n",
       "        fig._resize_canvas(size[0], size[1]);\n",
       "        fig.send_message(\"refresh\", {});\n",
       "    };\n",
       "}\n",
       "\n",
       "mpl.figure.prototype.handle_rubberband = function(fig, msg) {\n",
       "    var x0 = msg['x0'] / mpl.ratio;\n",
       "    var y0 = (fig.canvas.height - msg['y0']) / mpl.ratio;\n",
       "    var x1 = msg['x1'] / mpl.ratio;\n",
       "    var y1 = (fig.canvas.height - msg['y1']) / mpl.ratio;\n",
       "    x0 = Math.floor(x0) + 0.5;\n",
       "    y0 = Math.floor(y0) + 0.5;\n",
       "    x1 = Math.floor(x1) + 0.5;\n",
       "    y1 = Math.floor(y1) + 0.5;\n",
       "    var min_x = Math.min(x0, x1);\n",
       "    var min_y = Math.min(y0, y1);\n",
       "    var width = Math.abs(x1 - x0);\n",
       "    var height = Math.abs(y1 - y0);\n",
       "\n",
       "    fig.rubberband_context.clearRect(\n",
       "        0, 0, fig.canvas.width / mpl.ratio, fig.canvas.height / mpl.ratio);\n",
       "\n",
       "    fig.rubberband_context.strokeRect(min_x, min_y, width, height);\n",
       "}\n",
       "\n",
       "mpl.figure.prototype.handle_figure_label = function(fig, msg) {\n",
       "    // Updates the figure title.\n",
       "    fig.header.textContent = msg['label'];\n",
       "}\n",
       "\n",
       "mpl.figure.prototype.handle_cursor = function(fig, msg) {\n",
       "    var cursor = msg['cursor'];\n",
       "    switch(cursor)\n",
       "    {\n",
       "    case 0:\n",
       "        cursor = 'pointer';\n",
       "        break;\n",
       "    case 1:\n",
       "        cursor = 'default';\n",
       "        break;\n",
       "    case 2:\n",
       "        cursor = 'crosshair';\n",
       "        break;\n",
       "    case 3:\n",
       "        cursor = 'move';\n",
       "        break;\n",
       "    }\n",
       "    fig.rubberband_canvas.style.cursor = cursor;\n",
       "}\n",
       "\n",
       "mpl.figure.prototype.handle_message = function(fig, msg) {\n",
       "    fig.message.textContent = msg['message'];\n",
       "}\n",
       "\n",
       "mpl.figure.prototype.handle_draw = function(fig, msg) {\n",
       "    // Request the server to send over a new figure.\n",
       "    fig.send_draw_message();\n",
       "}\n",
       "\n",
       "mpl.figure.prototype.handle_image_mode = function(fig, msg) {\n",
       "    fig.image_mode = msg['mode'];\n",
       "}\n",
       "\n",
       "mpl.figure.prototype.updated_canvas_event = function() {\n",
       "    // Called whenever the canvas gets updated.\n",
       "    this.send_message(\"ack\", {});\n",
       "}\n",
       "\n",
       "// A function to construct a web socket function for onmessage handling.\n",
       "// Called in the figure constructor.\n",
       "mpl.figure.prototype._make_on_message_function = function(fig) {\n",
       "    return function socket_on_message(evt) {\n",
       "        if (evt.data instanceof Blob) {\n",
       "            /* FIXME: We get \"Resource interpreted as Image but\n",
       "             * transferred with MIME type text/plain:\" errors on\n",
       "             * Chrome.  But how to set the MIME type?  It doesn't seem\n",
       "             * to be part of the websocket stream */\n",
       "            evt.data.type = \"image/png\";\n",
       "\n",
       "            /* Free the memory for the previous frames */\n",
       "            if (fig.imageObj.src) {\n",
       "                (window.URL || window.webkitURL).revokeObjectURL(\n",
       "                    fig.imageObj.src);\n",
       "            }\n",
       "\n",
       "            fig.imageObj.src = (window.URL || window.webkitURL).createObjectURL(\n",
       "                evt.data);\n",
       "            fig.updated_canvas_event();\n",
       "            fig.waiting = false;\n",
       "            return;\n",
       "        }\n",
       "        else if (typeof evt.data === 'string' && evt.data.slice(0, 21) == \"data:image/png;base64\") {\n",
       "            fig.imageObj.src = evt.data;\n",
       "            fig.updated_canvas_event();\n",
       "            fig.waiting = false;\n",
       "            return;\n",
       "        }\n",
       "\n",
       "        var msg = JSON.parse(evt.data);\n",
       "        var msg_type = msg['type'];\n",
       "\n",
       "        // Call the  \"handle_{type}\" callback, which takes\n",
       "        // the figure and JSON message as its only arguments.\n",
       "        try {\n",
       "            var callback = fig[\"handle_\" + msg_type];\n",
       "        } catch (e) {\n",
       "            console.log(\"No handler for the '\" + msg_type + \"' message type: \", msg);\n",
       "            return;\n",
       "        }\n",
       "\n",
       "        if (callback) {\n",
       "            try {\n",
       "                // console.log(\"Handling '\" + msg_type + \"' message: \", msg);\n",
       "                callback(fig, msg);\n",
       "            } catch (e) {\n",
       "                console.log(\"Exception inside the 'handler_\" + msg_type + \"' callback:\", e, e.stack, msg);\n",
       "            }\n",
       "        }\n",
       "    };\n",
       "}\n",
       "\n",
       "// from http://stackoverflow.com/questions/1114465/getting-mouse-location-in-canvas\n",
       "mpl.findpos = function(e) {\n",
       "    //this section is from http://www.quirksmode.org/js/events_properties.html\n",
       "    var targ;\n",
       "    if (!e)\n",
       "        e = window.event;\n",
       "    if (e.target)\n",
       "        targ = e.target;\n",
       "    else if (e.srcElement)\n",
       "        targ = e.srcElement;\n",
       "    if (targ.nodeType == 3) // defeat Safari bug\n",
       "        targ = targ.parentNode;\n",
       "\n",
       "    // jQuery normalizes the pageX and pageY\n",
       "    // pageX,Y are the mouse positions relative to the document\n",
       "    // offset() returns the position of the element relative to the document\n",
       "    var x = e.pageX - $(targ).offset().left;\n",
       "    var y = e.pageY - $(targ).offset().top;\n",
       "\n",
       "    return {\"x\": x, \"y\": y};\n",
       "};\n",
       "\n",
       "/*\n",
       " * return a copy of an object with only non-object keys\n",
       " * we need this to avoid circular references\n",
       " * http://stackoverflow.com/a/24161582/3208463\n",
       " */\n",
       "function simpleKeys (original) {\n",
       "  return Object.keys(original).reduce(function (obj, key) {\n",
       "    if (typeof original[key] !== 'object')\n",
       "        obj[key] = original[key]\n",
       "    return obj;\n",
       "  }, {});\n",
       "}\n",
       "\n",
       "mpl.figure.prototype.mouse_event = function(event, name) {\n",
       "    var canvas_pos = mpl.findpos(event)\n",
       "\n",
       "    if (name === 'button_press')\n",
       "    {\n",
       "        this.canvas.focus();\n",
       "        this.canvas_div.focus();\n",
       "    }\n",
       "\n",
       "    var x = canvas_pos.x * mpl.ratio;\n",
       "    var y = canvas_pos.y * mpl.ratio;\n",
       "\n",
       "    this.send_message(name, {x: x, y: y, button: event.button,\n",
       "                             step: event.step,\n",
       "                             guiEvent: simpleKeys(event)});\n",
       "\n",
       "    /* This prevents the web browser from automatically changing to\n",
       "     * the text insertion cursor when the button is pressed.  We want\n",
       "     * to control all of the cursor setting manually through the\n",
       "     * 'cursor' event from matplotlib */\n",
       "    event.preventDefault();\n",
       "    return false;\n",
       "}\n",
       "\n",
       "mpl.figure.prototype._key_event_extra = function(event, name) {\n",
       "    // Handle any extra behaviour associated with a key event\n",
       "}\n",
       "\n",
       "mpl.figure.prototype.key_event = function(event, name) {\n",
       "\n",
       "    // Prevent repeat events\n",
       "    if (name == 'key_press')\n",
       "    {\n",
       "        if (event.which === this._key)\n",
       "            return;\n",
       "        else\n",
       "            this._key = event.which;\n",
       "    }\n",
       "    if (name == 'key_release')\n",
       "        this._key = null;\n",
       "\n",
       "    var value = '';\n",
       "    if (event.ctrlKey && event.which != 17)\n",
       "        value += \"ctrl+\";\n",
       "    if (event.altKey && event.which != 18)\n",
       "        value += \"alt+\";\n",
       "    if (event.shiftKey && event.which != 16)\n",
       "        value += \"shift+\";\n",
       "\n",
       "    value += 'k';\n",
       "    value += event.which.toString();\n",
       "\n",
       "    this._key_event_extra(event, name);\n",
       "\n",
       "    this.send_message(name, {key: value,\n",
       "                             guiEvent: simpleKeys(event)});\n",
       "    return false;\n",
       "}\n",
       "\n",
       "mpl.figure.prototype.toolbar_button_onclick = function(name) {\n",
       "    if (name == 'download') {\n",
       "        this.handle_save(this, null);\n",
       "    } else {\n",
       "        this.send_message(\"toolbar_button\", {name: name});\n",
       "    }\n",
       "};\n",
       "\n",
       "mpl.figure.prototype.toolbar_button_onmouseover = function(tooltip) {\n",
       "    this.message.textContent = tooltip;\n",
       "};\n",
       "mpl.toolbar_items = [[\"Home\", \"Reset original view\", \"fa fa-home icon-home\", \"home\"], [\"Back\", \"Back to previous view\", \"fa fa-arrow-left icon-arrow-left\", \"back\"], [\"Forward\", \"Forward to next view\", \"fa fa-arrow-right icon-arrow-right\", \"forward\"], [\"\", \"\", \"\", \"\"], [\"Pan\", \"Pan axes with left mouse, zoom with right\", \"fa fa-arrows icon-move\", \"pan\"], [\"Zoom\", \"Zoom to rectangle\", \"fa fa-square-o icon-check-empty\", \"zoom\"], [\"\", \"\", \"\", \"\"], [\"Download\", \"Download plot\", \"fa fa-floppy-o icon-save\", \"download\"]];\n",
       "\n",
       "mpl.extensions = [\"eps\", \"jpeg\", \"pdf\", \"png\", \"ps\", \"raw\", \"svg\", \"tif\"];\n",
       "\n",
       "mpl.default_extension = \"png\";var comm_websocket_adapter = function(comm) {\n",
       "    // Create a \"websocket\"-like object which calls the given IPython comm\n",
       "    // object with the appropriate methods. Currently this is a non binary\n",
       "    // socket, so there is still some room for performance tuning.\n",
       "    var ws = {};\n",
       "\n",
       "    ws.close = function() {\n",
       "        comm.close()\n",
       "    };\n",
       "    ws.send = function(m) {\n",
       "        //console.log('sending', m);\n",
       "        comm.send(m);\n",
       "    };\n",
       "    // Register the callback with on_msg.\n",
       "    comm.on_msg(function(msg) {\n",
       "        //console.log('receiving', msg['content']['data'], msg);\n",
       "        // Pass the mpl event to the overridden (by mpl) onmessage function.\n",
       "        ws.onmessage(msg['content']['data'])\n",
       "    });\n",
       "    return ws;\n",
       "}\n",
       "\n",
       "mpl.mpl_figure_comm = function(comm, msg) {\n",
       "    // This is the function which gets called when the mpl process\n",
       "    // starts-up an IPython Comm through the \"matplotlib\" channel.\n",
       "\n",
       "    var id = msg.content.data.id;\n",
       "    // Get hold of the div created by the display call when the Comm\n",
       "    // socket was opened in Python.\n",
       "    var element = $(\"#\" + id);\n",
       "    var ws_proxy = comm_websocket_adapter(comm)\n",
       "\n",
       "    function ondownload(figure, format) {\n",
       "        window.open(figure.imageObj.src);\n",
       "    }\n",
       "\n",
       "    var fig = new mpl.figure(id, ws_proxy,\n",
       "                           ondownload,\n",
       "                           element.get(0));\n",
       "\n",
       "    // Call onopen now - mpl needs it, as it is assuming we've passed it a real\n",
       "    // web socket which is closed, not our websocket->open comm proxy.\n",
       "    ws_proxy.onopen();\n",
       "\n",
       "    fig.parent_element = element.get(0);\n",
       "    fig.cell_info = mpl.find_output_cell(\"<div id='\" + id + \"'></div>\");\n",
       "    if (!fig.cell_info) {\n",
       "        console.error(\"Failed to find cell for figure\", id, fig);\n",
       "        return;\n",
       "    }\n",
       "\n",
       "    var output_index = fig.cell_info[2]\n",
       "    var cell = fig.cell_info[0];\n",
       "\n",
       "};\n",
       "\n",
       "mpl.figure.prototype.handle_close = function(fig, msg) {\n",
       "    var width = fig.canvas.width/mpl.ratio\n",
       "    fig.root.unbind('remove')\n",
       "\n",
       "    // Update the output cell to use the data from the current canvas.\n",
       "    fig.push_to_output();\n",
       "    var dataURL = fig.canvas.toDataURL();\n",
       "    // Re-enable the keyboard manager in IPython - without this line, in FF,\n",
       "    // the notebook keyboard shortcuts fail.\n",
       "    IPython.keyboard_manager.enable()\n",
       "    $(fig.parent_element).html('<img src=\"' + dataURL + '\" width=\"' + width + '\">');\n",
       "    fig.close_ws(fig, msg);\n",
       "}\n",
       "\n",
       "mpl.figure.prototype.close_ws = function(fig, msg){\n",
       "    fig.send_message('closing', msg);\n",
       "    // fig.ws.close()\n",
       "}\n",
       "\n",
       "mpl.figure.prototype.push_to_output = function(remove_interactive) {\n",
       "    // Turn the data on the canvas into data in the output cell.\n",
       "    var width = this.canvas.width/mpl.ratio\n",
       "    var dataURL = this.canvas.toDataURL();\n",
       "    this.cell_info[1]['text/html'] = '<img src=\"' + dataURL + '\" width=\"' + width + '\">';\n",
       "}\n",
       "\n",
       "mpl.figure.prototype.updated_canvas_event = function() {\n",
       "    // Tell IPython that the notebook contents must change.\n",
       "    IPython.notebook.set_dirty(true);\n",
       "    this.send_message(\"ack\", {});\n",
       "    var fig = this;\n",
       "    // Wait a second, then push the new image to the DOM so\n",
       "    // that it is saved nicely (might be nice to debounce this).\n",
       "    setTimeout(function () { fig.push_to_output() }, 1000);\n",
       "}\n",
       "\n",
       "mpl.figure.prototype._init_toolbar = function() {\n",
       "    var fig = this;\n",
       "\n",
       "    var nav_element = $('<div/>');\n",
       "    nav_element.attr('style', 'width: 100%');\n",
       "    this.root.append(nav_element);\n",
       "\n",
       "    // Define a callback function for later on.\n",
       "    function toolbar_event(event) {\n",
       "        return fig.toolbar_button_onclick(event['data']);\n",
       "    }\n",
       "    function toolbar_mouse_event(event) {\n",
       "        return fig.toolbar_button_onmouseover(event['data']);\n",
       "    }\n",
       "\n",
       "    for(var toolbar_ind in mpl.toolbar_items){\n",
       "        var name = mpl.toolbar_items[toolbar_ind][0];\n",
       "        var tooltip = mpl.toolbar_items[toolbar_ind][1];\n",
       "        var image = mpl.toolbar_items[toolbar_ind][2];\n",
       "        var method_name = mpl.toolbar_items[toolbar_ind][3];\n",
       "\n",
       "        if (!name) { continue; };\n",
       "\n",
       "        var button = $('<button class=\"btn btn-default\" href=\"#\" title=\"' + name + '\"><i class=\"fa ' + image + ' fa-lg\"></i></button>');\n",
       "        button.click(method_name, toolbar_event);\n",
       "        button.mouseover(tooltip, toolbar_mouse_event);\n",
       "        nav_element.append(button);\n",
       "    }\n",
       "\n",
       "    // Add the status bar.\n",
       "    var status_bar = $('<span class=\"mpl-message\" style=\"text-align:right; float: right;\"/>');\n",
       "    nav_element.append(status_bar);\n",
       "    this.message = status_bar[0];\n",
       "\n",
       "    // Add the close button to the window.\n",
       "    var buttongrp = $('<div class=\"btn-group inline pull-right\"></div>');\n",
       "    var button = $('<button class=\"btn btn-mini btn-primary\" href=\"#\" title=\"Stop Interaction\"><i class=\"fa fa-power-off icon-remove icon-large\"></i></button>');\n",
       "    button.click(function (evt) { fig.handle_close(fig, {}); } );\n",
       "    button.mouseover('Stop Interaction', toolbar_mouse_event);\n",
       "    buttongrp.append(button);\n",
       "    var titlebar = this.root.find($('.ui-dialog-titlebar'));\n",
       "    titlebar.prepend(buttongrp);\n",
       "}\n",
       "\n",
       "mpl.figure.prototype._root_extra_style = function(el){\n",
       "    var fig = this\n",
       "    el.on(\"remove\", function(){\n",
       "\tfig.close_ws(fig, {});\n",
       "    });\n",
       "}\n",
       "\n",
       "mpl.figure.prototype._canvas_extra_style = function(el){\n",
       "    // this is important to make the div 'focusable\n",
       "    el.attr('tabindex', 0)\n",
       "    // reach out to IPython and tell the keyboard manager to turn it's self\n",
       "    // off when our div gets focus\n",
       "\n",
       "    // location in version 3\n",
       "    if (IPython.notebook.keyboard_manager) {\n",
       "        IPython.notebook.keyboard_manager.register_events(el);\n",
       "    }\n",
       "    else {\n",
       "        // location in version 2\n",
       "        IPython.keyboard_manager.register_events(el);\n",
       "    }\n",
       "\n",
       "}\n",
       "\n",
       "mpl.figure.prototype._key_event_extra = function(event, name) {\n",
       "    var manager = IPython.notebook.keyboard_manager;\n",
       "    if (!manager)\n",
       "        manager = IPython.keyboard_manager;\n",
       "\n",
       "    // Check for shift+enter\n",
       "    if (event.shiftKey && event.which == 13) {\n",
       "        this.canvas_div.blur();\n",
       "        // select the cell after this one\n",
       "        var index = IPython.notebook.find_cell_index(this.cell_info[0]);\n",
       "        IPython.notebook.select(index + 1);\n",
       "    }\n",
       "}\n",
       "\n",
       "mpl.figure.prototype.handle_save = function(fig, msg) {\n",
       "    fig.ondownload(fig, null);\n",
       "}\n",
       "\n",
       "\n",
       "mpl.find_output_cell = function(html_output) {\n",
       "    // Return the cell and output element which can be found *uniquely* in the notebook.\n",
       "    // Note - this is a bit hacky, but it is done because the \"notebook_saving.Notebook\"\n",
       "    // IPython event is triggered only after the cells have been serialised, which for\n",
       "    // our purposes (turning an active figure into a static one), is too late.\n",
       "    var cells = IPython.notebook.get_cells();\n",
       "    var ncells = cells.length;\n",
       "    for (var i=0; i<ncells; i++) {\n",
       "        var cell = cells[i];\n",
       "        if (cell.cell_type === 'code'){\n",
       "            for (var j=0; j<cell.output_area.outputs.length; j++) {\n",
       "                var data = cell.output_area.outputs[j];\n",
       "                if (data.data) {\n",
       "                    // IPython >= 3 moved mimebundle to data attribute of output\n",
       "                    data = data.data;\n",
       "                }\n",
       "                if (data['text/html'] == html_output) {\n",
       "                    return [cell, data, j];\n",
       "                }\n",
       "            }\n",
       "        }\n",
       "    }\n",
       "}\n",
       "\n",
       "// Register the function which deals with the matplotlib target/channel.\n",
       "// The kernel may be null if the page has been refreshed.\n",
       "if (IPython.notebook.kernel != null) {\n",
       "    IPython.notebook.kernel.comm_manager.register_target('matplotlib', mpl.mpl_figure_comm);\n",
       "}\n"
      ],
      "text/plain": [
       "<IPython.core.display.Javascript object>"
      ]
     },
     "metadata": {},
     "output_type": "display_data"
    },
    {
     "data": {
      "text/html": [
       "<img src=\"data:image/png;base64,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\" width=\"600\">"
      ],
      "text/plain": [
       "<IPython.core.display.HTML object>"
      ]
     },
     "metadata": {},
     "output_type": "display_data"
    },
    {
     "data": {
      "text/plain": [
       "Text(0, 0.5, 'Elemts  en arreglo 1D')"
      ]
     },
     "execution_count": 132,
     "metadata": {},
     "output_type": "execute_result"
    }
   ],
   "source": [
    "plt.figure(figsize=(6,6))\n",
    "plt.plot(array1d,'o')\n",
    "plt.grid()\n",
    "plt.xlabel(r'Indice $i$',fontsize=18)\n",
    "plt.ylabel(r'Elemts  en arreglo 1D',fontsize=18)"
   ]
  },
  {
   "cell_type": "code",
   "execution_count": 133,
   "metadata": {
    "jupyter": {
     "outputs_hidden": true
    }
   },
   "outputs": [
    {
     "data": {
      "text/plain": [
       "7"
      ]
     },
     "execution_count": 133,
     "metadata": {},
     "output_type": "execute_result"
    }
   ],
   "source": [
    "array1d[0]"
   ]
  },
  {
   "cell_type": "code",
   "execution_count": 134,
   "metadata": {
    "jupyter": {
     "outputs_hidden": true
    }
   },
   "outputs": [
    {
     "data": {
      "text/plain": [
       "(7, 2, 9, 10)"
      ]
     },
     "execution_count": 134,
     "metadata": {},
     "output_type": "execute_result"
    }
   ],
   "source": [
    "array1d[0], array1d[1], array1d[2], array1d[3] #,array1d[4]"
   ]
  },
  {
   "cell_type": "code",
   "execution_count": 135,
   "metadata": {
    "jupyter": {
     "outputs_hidden": true
    }
   },
   "outputs": [
    {
     "name": "stdout",
     "output_type": "stream",
     "text": [
      "0 7\n",
      "1 2\n",
      "2 9\n",
      "3 10\n"
     ]
    }
   ],
   "source": [
    "for i in range(4):\n",
    "    print(i, array1d[i])\n",
    "#    print('array1d[%s] = %2.1f'%(i, array1d[i]))"
   ]
  },
  {
   "cell_type": "markdown",
   "metadata": {},
   "source": [
    "Se pueden sumar los elementos de un arreglo 1D así:"
   ]
  },
  {
   "cell_type": "code",
   "execution_count": 136,
   "metadata": {
    "jupyter": {
     "outputs_hidden": true
    }
   },
   "outputs": [
    {
     "data": {
      "text/plain": [
       "28"
      ]
     },
     "execution_count": 136,
     "metadata": {},
     "output_type": "execute_result"
    }
   ],
   "source": [
    "sum(array1d)"
   ]
  },
  {
   "cell_type": "code",
   "execution_count": 137,
   "metadata": {
    "jupyter": {
     "outputs_hidden": true
    }
   },
   "outputs": [
    {
     "data": {
      "text/plain": [
       "28"
      ]
     },
     "execution_count": 137,
     "metadata": {},
     "output_type": "execute_result"
    }
   ],
   "source": [
    "np.sum(array1d)"
   ]
  },
  {
   "cell_type": "code",
   "execution_count": 138,
   "metadata": {
    "jupyter": {
     "outputs_hidden": true
    }
   },
   "outputs": [
    {
     "data": {
      "text/plain": [
       "28"
      ]
     },
     "execution_count": 138,
     "metadata": {},
     "output_type": "execute_result"
    }
   ],
   "source": [
    "array1d.sum()"
   ]
  },
  {
   "cell_type": "markdown",
   "metadata": {},
   "source": [
    "Se pueden multiplicar los elementos de un arreglo 1D así:"
   ]
  },
  {
   "cell_type": "code",
   "execution_count": 139,
   "metadata": {
    "jupyter": {
     "outputs_hidden": true
    }
   },
   "outputs": [
    {
     "data": {
      "text/plain": [
       "1260"
      ]
     },
     "execution_count": 139,
     "metadata": {},
     "output_type": "execute_result"
    }
   ],
   "source": [
    "np.prod(array1d)"
   ]
  },
  {
   "cell_type": "code",
   "execution_count": 140,
   "metadata": {
    "jupyter": {
     "outputs_hidden": true
    }
   },
   "outputs": [
    {
     "data": {
      "text/plain": [
       "array([ 7,  9, 18, 28], dtype=int32)"
      ]
     },
     "execution_count": 140,
     "metadata": {},
     "output_type": "execute_result"
    }
   ],
   "source": [
    "#suma acumulada\n",
    "np.cumsum(array1d)"
   ]
  },
  {
   "cell_type": "code",
   "execution_count": 141,
   "metadata": {
    "jupyter": {
     "outputs_hidden": true
    }
   },
   "outputs": [
    {
     "data": {
      "text/plain": [
       "array([   7,   14,  126, 1260], dtype=int32)"
      ]
     },
     "execution_count": 141,
     "metadata": {},
     "output_type": "execute_result"
    }
   ],
   "source": [
    "#producto acumulado\n",
    "np.cumproduct(array1d)"
   ]
  },
  {
   "cell_type": "markdown",
   "metadata": {},
   "source": [
    "#### 2D array"
   ]
  },
  {
   "cell_type": "code",
   "execution_count": 142,
   "metadata": {
    "jupyter": {
     "outputs_hidden": true
    }
   },
   "outputs": [
    {
     "data": {
      "text/plain": [
       "array([[5.2, 3. , 4.5],\n",
       "       [9.1, 0.1, 0.3]])"
      ]
     },
     "execution_count": 142,
     "metadata": {},
     "output_type": "execute_result"
    }
   ],
   "source": [
    "array2d = np.array([[5.2, 3.0, 4.5],\n",
    "                   [9.1, 0.1, 0.3]])\n",
    "array2d"
   ]
  },
  {
   "cell_type": "code",
   "execution_count": 143,
   "metadata": {
    "jupyter": {
     "outputs_hidden": true
    }
   },
   "outputs": [
    {
     "data": {
      "text/plain": [
       "2"
      ]
     },
     "execution_count": 143,
     "metadata": {},
     "output_type": "execute_result"
    }
   ],
   "source": [
    "array2d.ndim"
   ]
  },
  {
   "cell_type": "code",
   "execution_count": 144,
   "metadata": {
    "jupyter": {
     "outputs_hidden": true
    }
   },
   "outputs": [
    {
     "data": {
      "text/plain": [
       "(2, 3)"
      ]
     },
     "execution_count": 144,
     "metadata": {},
     "output_type": "execute_result"
    }
   ],
   "source": [
    "array2d.shape"
   ]
  },
  {
   "cell_type": "markdown",
   "metadata": {},
   "source": [
    "`array2d` es una matriz, es decir un arreglo bidimensional, requiere dos índices."
   ]
  },
  {
   "cell_type": "code",
   "execution_count": 145,
   "metadata": {
    "jupyter": {
     "outputs_hidden": true
    }
   },
   "outputs": [
    {
     "data": {
      "text/plain": [
       "(array([[0, 1],\n",
       "        [0, 1],\n",
       "        [0, 1]]),\n",
       " array([[0, 0],\n",
       "        [1, 1],\n",
       "        [2, 2]]))"
      ]
     },
     "execution_count": 145,
     "metadata": {},
     "output_type": "execute_result"
    }
   ],
   "source": [
    "i,j = np.arange(2),np.arange(3)\n",
    "I, J = np.meshgrid(i,j)\n",
    "I, J"
   ]
  },
  {
   "cell_type": "markdown",
   "metadata": {
    "collapsed": true,
    "jupyter": {
     "outputs_hidden": true
    }
   },
   "source": [
    "Visualizar los resultados "
   ]
  },
  {
   "cell_type": "code",
   "execution_count": 146,
   "metadata": {
    "jupyter": {
     "outputs_hidden": true
    }
   },
   "outputs": [
    {
     "data": {
      "application/javascript": [
       "/* Put everything inside the global mpl namespace */\n",
       "window.mpl = {};\n",
       "\n",
       "\n",
       "mpl.get_websocket_type = function() {\n",
       "    if (typeof(WebSocket) !== 'undefined') {\n",
       "        return WebSocket;\n",
       "    } else if (typeof(MozWebSocket) !== 'undefined') {\n",
       "        return MozWebSocket;\n",
       "    } else {\n",
       "        alert('Your browser does not have WebSocket support. ' +\n",
       "              'Please try Chrome, Safari or Firefox ≥ 6. ' +\n",
       "              'Firefox 4 and 5 are also supported but you ' +\n",
       "              'have to enable WebSockets in about:config.');\n",
       "    };\n",
       "}\n",
       "\n",
       "mpl.figure = function(figure_id, websocket, ondownload, parent_element) {\n",
       "    this.id = figure_id;\n",
       "\n",
       "    this.ws = websocket;\n",
       "\n",
       "    this.supports_binary = (this.ws.binaryType != undefined);\n",
       "\n",
       "    if (!this.supports_binary) {\n",
       "        var warnings = document.getElementById(\"mpl-warnings\");\n",
       "        if (warnings) {\n",
       "            warnings.style.display = 'block';\n",
       "            warnings.textContent = (\n",
       "                \"This browser does not support binary websocket messages. \" +\n",
       "                    \"Performance may be slow.\");\n",
       "        }\n",
       "    }\n",
       "\n",
       "    this.imageObj = new Image();\n",
       "\n",
       "    this.context = undefined;\n",
       "    this.message = undefined;\n",
       "    this.canvas = undefined;\n",
       "    this.rubberband_canvas = undefined;\n",
       "    this.rubberband_context = undefined;\n",
       "    this.format_dropdown = undefined;\n",
       "\n",
       "    this.image_mode = 'full';\n",
       "\n",
       "    this.root = $('<div/>');\n",
       "    this._root_extra_style(this.root)\n",
       "    this.root.attr('style', 'display: inline-block');\n",
       "\n",
       "    $(parent_element).append(this.root);\n",
       "\n",
       "    this._init_header(this);\n",
       "    this._init_canvas(this);\n",
       "    this._init_toolbar(this);\n",
       "\n",
       "    var fig = this;\n",
       "\n",
       "    this.waiting = false;\n",
       "\n",
       "    this.ws.onopen =  function () {\n",
       "            fig.send_message(\"supports_binary\", {value: fig.supports_binary});\n",
       "            fig.send_message(\"send_image_mode\", {});\n",
       "            if (mpl.ratio != 1) {\n",
       "                fig.send_message(\"set_dpi_ratio\", {'dpi_ratio': mpl.ratio});\n",
       "            }\n",
       "            fig.send_message(\"refresh\", {});\n",
       "        }\n",
       "\n",
       "    this.imageObj.onload = function() {\n",
       "            if (fig.image_mode == 'full') {\n",
       "                // Full images could contain transparency (where diff images\n",
       "                // almost always do), so we need to clear the canvas so that\n",
       "                // there is no ghosting.\n",
       "                fig.context.clearRect(0, 0, fig.canvas.width, fig.canvas.height);\n",
       "            }\n",
       "            fig.context.drawImage(fig.imageObj, 0, 0);\n",
       "        };\n",
       "\n",
       "    this.imageObj.onunload = function() {\n",
       "        fig.ws.close();\n",
       "    }\n",
       "\n",
       "    this.ws.onmessage = this._make_on_message_function(this);\n",
       "\n",
       "    this.ondownload = ondownload;\n",
       "}\n",
       "\n",
       "mpl.figure.prototype._init_header = function() {\n",
       "    var titlebar = $(\n",
       "        '<div class=\"ui-dialog-titlebar ui-widget-header ui-corner-all ' +\n",
       "        'ui-helper-clearfix\"/>');\n",
       "    var titletext = $(\n",
       "        '<div class=\"ui-dialog-title\" style=\"width: 100%; ' +\n",
       "        'text-align: center; padding: 3px;\"/>');\n",
       "    titlebar.append(titletext)\n",
       "    this.root.append(titlebar);\n",
       "    this.header = titletext[0];\n",
       "}\n",
       "\n",
       "\n",
       "\n",
       "mpl.figure.prototype._canvas_extra_style = function(canvas_div) {\n",
       "\n",
       "}\n",
       "\n",
       "\n",
       "mpl.figure.prototype._root_extra_style = function(canvas_div) {\n",
       "\n",
       "}\n",
       "\n",
       "mpl.figure.prototype._init_canvas = function() {\n",
       "    var fig = this;\n",
       "\n",
       "    var canvas_div = $('<div/>');\n",
       "\n",
       "    canvas_div.attr('style', 'position: relative; clear: both; outline: 0');\n",
       "\n",
       "    function canvas_keyboard_event(event) {\n",
       "        return fig.key_event(event, event['data']);\n",
       "    }\n",
       "\n",
       "    canvas_div.keydown('key_press', canvas_keyboard_event);\n",
       "    canvas_div.keyup('key_release', canvas_keyboard_event);\n",
       "    this.canvas_div = canvas_div\n",
       "    this._canvas_extra_style(canvas_div)\n",
       "    this.root.append(canvas_div);\n",
       "\n",
       "    var canvas = $('<canvas/>');\n",
       "    canvas.addClass('mpl-canvas');\n",
       "    canvas.attr('style', \"left: 0; top: 0; z-index: 0; outline: 0\")\n",
       "\n",
       "    this.canvas = canvas[0];\n",
       "    this.context = canvas[0].getContext(\"2d\");\n",
       "\n",
       "    var backingStore = this.context.backingStorePixelRatio ||\n",
       "\tthis.context.webkitBackingStorePixelRatio ||\n",
       "\tthis.context.mozBackingStorePixelRatio ||\n",
       "\tthis.context.msBackingStorePixelRatio ||\n",
       "\tthis.context.oBackingStorePixelRatio ||\n",
       "\tthis.context.backingStorePixelRatio || 1;\n",
       "\n",
       "    mpl.ratio = (window.devicePixelRatio || 1) / backingStore;\n",
       "\n",
       "    var rubberband = $('<canvas/>');\n",
       "    rubberband.attr('style', \"position: absolute; left: 0; top: 0; z-index: 1;\")\n",
       "\n",
       "    var pass_mouse_events = true;\n",
       "\n",
       "    canvas_div.resizable({\n",
       "        start: function(event, ui) {\n",
       "            pass_mouse_events = false;\n",
       "        },\n",
       "        resize: function(event, ui) {\n",
       "            fig.request_resize(ui.size.width, ui.size.height);\n",
       "        },\n",
       "        stop: function(event, ui) {\n",
       "            pass_mouse_events = true;\n",
       "            fig.request_resize(ui.size.width, ui.size.height);\n",
       "        },\n",
       "    });\n",
       "\n",
       "    function mouse_event_fn(event) {\n",
       "        if (pass_mouse_events)\n",
       "            return fig.mouse_event(event, event['data']);\n",
       "    }\n",
       "\n",
       "    rubberband.mousedown('button_press', mouse_event_fn);\n",
       "    rubberband.mouseup('button_release', mouse_event_fn);\n",
       "    // Throttle sequential mouse events to 1 every 20ms.\n",
       "    rubberband.mousemove('motion_notify', mouse_event_fn);\n",
       "\n",
       "    rubberband.mouseenter('figure_enter', mouse_event_fn);\n",
       "    rubberband.mouseleave('figure_leave', mouse_event_fn);\n",
       "\n",
       "    canvas_div.on(\"wheel\", function (event) {\n",
       "        event = event.originalEvent;\n",
       "        event['data'] = 'scroll'\n",
       "        if (event.deltaY < 0) {\n",
       "            event.step = 1;\n",
       "        } else {\n",
       "            event.step = -1;\n",
       "        }\n",
       "        mouse_event_fn(event);\n",
       "    });\n",
       "\n",
       "    canvas_div.append(canvas);\n",
       "    canvas_div.append(rubberband);\n",
       "\n",
       "    this.rubberband = rubberband;\n",
       "    this.rubberband_canvas = rubberband[0];\n",
       "    this.rubberband_context = rubberband[0].getContext(\"2d\");\n",
       "    this.rubberband_context.strokeStyle = \"#000000\";\n",
       "\n",
       "    this._resize_canvas = function(width, height) {\n",
       "        // Keep the size of the canvas, canvas container, and rubber band\n",
       "        // canvas in synch.\n",
       "        canvas_div.css('width', width)\n",
       "        canvas_div.css('height', height)\n",
       "\n",
       "        canvas.attr('width', width * mpl.ratio);\n",
       "        canvas.attr('height', height * mpl.ratio);\n",
       "        canvas.attr('style', 'width: ' + width + 'px; height: ' + height + 'px;');\n",
       "\n",
       "        rubberband.attr('width', width);\n",
       "        rubberband.attr('height', height);\n",
       "    }\n",
       "\n",
       "    // Set the figure to an initial 600x600px, this will subsequently be updated\n",
       "    // upon first draw.\n",
       "    this._resize_canvas(600, 600);\n",
       "\n",
       "    // Disable right mouse context menu.\n",
       "    $(this.rubberband_canvas).bind(\"contextmenu\",function(e){\n",
       "        return false;\n",
       "    });\n",
       "\n",
       "    function set_focus () {\n",
       "        canvas.focus();\n",
       "        canvas_div.focus();\n",
       "    }\n",
       "\n",
       "    window.setTimeout(set_focus, 100);\n",
       "}\n",
       "\n",
       "mpl.figure.prototype._init_toolbar = function() {\n",
       "    var fig = this;\n",
       "\n",
       "    var nav_element = $('<div/>');\n",
       "    nav_element.attr('style', 'width: 100%');\n",
       "    this.root.append(nav_element);\n",
       "\n",
       "    // Define a callback function for later on.\n",
       "    function toolbar_event(event) {\n",
       "        return fig.toolbar_button_onclick(event['data']);\n",
       "    }\n",
       "    function toolbar_mouse_event(event) {\n",
       "        return fig.toolbar_button_onmouseover(event['data']);\n",
       "    }\n",
       "\n",
       "    for(var toolbar_ind in mpl.toolbar_items) {\n",
       "        var name = mpl.toolbar_items[toolbar_ind][0];\n",
       "        var tooltip = mpl.toolbar_items[toolbar_ind][1];\n",
       "        var image = mpl.toolbar_items[toolbar_ind][2];\n",
       "        var method_name = mpl.toolbar_items[toolbar_ind][3];\n",
       "\n",
       "        if (!name) {\n",
       "            // put a spacer in here.\n",
       "            continue;\n",
       "        }\n",
       "        var button = $('<button/>');\n",
       "        button.addClass('ui-button ui-widget ui-state-default ui-corner-all ' +\n",
       "                        'ui-button-icon-only');\n",
       "        button.attr('role', 'button');\n",
       "        button.attr('aria-disabled', 'false');\n",
       "        button.click(method_name, toolbar_event);\n",
       "        button.mouseover(tooltip, toolbar_mouse_event);\n",
       "\n",
       "        var icon_img = $('<span/>');\n",
       "        icon_img.addClass('ui-button-icon-primary ui-icon');\n",
       "        icon_img.addClass(image);\n",
       "        icon_img.addClass('ui-corner-all');\n",
       "\n",
       "        var tooltip_span = $('<span/>');\n",
       "        tooltip_span.addClass('ui-button-text');\n",
       "        tooltip_span.html(tooltip);\n",
       "\n",
       "        button.append(icon_img);\n",
       "        button.append(tooltip_span);\n",
       "\n",
       "        nav_element.append(button);\n",
       "    }\n",
       "\n",
       "    var fmt_picker_span = $('<span/>');\n",
       "\n",
       "    var fmt_picker = $('<select/>');\n",
       "    fmt_picker.addClass('mpl-toolbar-option ui-widget ui-widget-content');\n",
       "    fmt_picker_span.append(fmt_picker);\n",
       "    nav_element.append(fmt_picker_span);\n",
       "    this.format_dropdown = fmt_picker[0];\n",
       "\n",
       "    for (var ind in mpl.extensions) {\n",
       "        var fmt = mpl.extensions[ind];\n",
       "        var option = $(\n",
       "            '<option/>', {selected: fmt === mpl.default_extension}).html(fmt);\n",
       "        fmt_picker.append(option);\n",
       "    }\n",
       "\n",
       "    // Add hover states to the ui-buttons\n",
       "    $( \".ui-button\" ).hover(\n",
       "        function() { $(this).addClass(\"ui-state-hover\");},\n",
       "        function() { $(this).removeClass(\"ui-state-hover\");}\n",
       "    );\n",
       "\n",
       "    var status_bar = $('<span class=\"mpl-message\"/>');\n",
       "    nav_element.append(status_bar);\n",
       "    this.message = status_bar[0];\n",
       "}\n",
       "\n",
       "mpl.figure.prototype.request_resize = function(x_pixels, y_pixels) {\n",
       "    // Request matplotlib to resize the figure. Matplotlib will then trigger a resize in the client,\n",
       "    // which will in turn request a refresh of the image.\n",
       "    this.send_message('resize', {'width': x_pixels, 'height': y_pixels});\n",
       "}\n",
       "\n",
       "mpl.figure.prototype.send_message = function(type, properties) {\n",
       "    properties['type'] = type;\n",
       "    properties['figure_id'] = this.id;\n",
       "    this.ws.send(JSON.stringify(properties));\n",
       "}\n",
       "\n",
       "mpl.figure.prototype.send_draw_message = function() {\n",
       "    if (!this.waiting) {\n",
       "        this.waiting = true;\n",
       "        this.ws.send(JSON.stringify({type: \"draw\", figure_id: this.id}));\n",
       "    }\n",
       "}\n",
       "\n",
       "\n",
       "mpl.figure.prototype.handle_save = function(fig, msg) {\n",
       "    var format_dropdown = fig.format_dropdown;\n",
       "    var format = format_dropdown.options[format_dropdown.selectedIndex].value;\n",
       "    fig.ondownload(fig, format);\n",
       "}\n",
       "\n",
       "\n",
       "mpl.figure.prototype.handle_resize = function(fig, msg) {\n",
       "    var size = msg['size'];\n",
       "    if (size[0] != fig.canvas.width || size[1] != fig.canvas.height) {\n",
       "        fig._resize_canvas(size[0], size[1]);\n",
       "        fig.send_message(\"refresh\", {});\n",
       "    };\n",
       "}\n",
       "\n",
       "mpl.figure.prototype.handle_rubberband = function(fig, msg) {\n",
       "    var x0 = msg['x0'] / mpl.ratio;\n",
       "    var y0 = (fig.canvas.height - msg['y0']) / mpl.ratio;\n",
       "    var x1 = msg['x1'] / mpl.ratio;\n",
       "    var y1 = (fig.canvas.height - msg['y1']) / mpl.ratio;\n",
       "    x0 = Math.floor(x0) + 0.5;\n",
       "    y0 = Math.floor(y0) + 0.5;\n",
       "    x1 = Math.floor(x1) + 0.5;\n",
       "    y1 = Math.floor(y1) + 0.5;\n",
       "    var min_x = Math.min(x0, x1);\n",
       "    var min_y = Math.min(y0, y1);\n",
       "    var width = Math.abs(x1 - x0);\n",
       "    var height = Math.abs(y1 - y0);\n",
       "\n",
       "    fig.rubberband_context.clearRect(\n",
       "        0, 0, fig.canvas.width / mpl.ratio, fig.canvas.height / mpl.ratio);\n",
       "\n",
       "    fig.rubberband_context.strokeRect(min_x, min_y, width, height);\n",
       "}\n",
       "\n",
       "mpl.figure.prototype.handle_figure_label = function(fig, msg) {\n",
       "    // Updates the figure title.\n",
       "    fig.header.textContent = msg['label'];\n",
       "}\n",
       "\n",
       "mpl.figure.prototype.handle_cursor = function(fig, msg) {\n",
       "    var cursor = msg['cursor'];\n",
       "    switch(cursor)\n",
       "    {\n",
       "    case 0:\n",
       "        cursor = 'pointer';\n",
       "        break;\n",
       "    case 1:\n",
       "        cursor = 'default';\n",
       "        break;\n",
       "    case 2:\n",
       "        cursor = 'crosshair';\n",
       "        break;\n",
       "    case 3:\n",
       "        cursor = 'move';\n",
       "        break;\n",
       "    }\n",
       "    fig.rubberband_canvas.style.cursor = cursor;\n",
       "}\n",
       "\n",
       "mpl.figure.prototype.handle_message = function(fig, msg) {\n",
       "    fig.message.textContent = msg['message'];\n",
       "}\n",
       "\n",
       "mpl.figure.prototype.handle_draw = function(fig, msg) {\n",
       "    // Request the server to send over a new figure.\n",
       "    fig.send_draw_message();\n",
       "}\n",
       "\n",
       "mpl.figure.prototype.handle_image_mode = function(fig, msg) {\n",
       "    fig.image_mode = msg['mode'];\n",
       "}\n",
       "\n",
       "mpl.figure.prototype.updated_canvas_event = function() {\n",
       "    // Called whenever the canvas gets updated.\n",
       "    this.send_message(\"ack\", {});\n",
       "}\n",
       "\n",
       "// A function to construct a web socket function for onmessage handling.\n",
       "// Called in the figure constructor.\n",
       "mpl.figure.prototype._make_on_message_function = function(fig) {\n",
       "    return function socket_on_message(evt) {\n",
       "        if (evt.data instanceof Blob) {\n",
       "            /* FIXME: We get \"Resource interpreted as Image but\n",
       "             * transferred with MIME type text/plain:\" errors on\n",
       "             * Chrome.  But how to set the MIME type?  It doesn't seem\n",
       "             * to be part of the websocket stream */\n",
       "            evt.data.type = \"image/png\";\n",
       "\n",
       "            /* Free the memory for the previous frames */\n",
       "            if (fig.imageObj.src) {\n",
       "                (window.URL || window.webkitURL).revokeObjectURL(\n",
       "                    fig.imageObj.src);\n",
       "            }\n",
       "\n",
       "            fig.imageObj.src = (window.URL || window.webkitURL).createObjectURL(\n",
       "                evt.data);\n",
       "            fig.updated_canvas_event();\n",
       "            fig.waiting = false;\n",
       "            return;\n",
       "        }\n",
       "        else if (typeof evt.data === 'string' && evt.data.slice(0, 21) == \"data:image/png;base64\") {\n",
       "            fig.imageObj.src = evt.data;\n",
       "            fig.updated_canvas_event();\n",
       "            fig.waiting = false;\n",
       "            return;\n",
       "        }\n",
       "\n",
       "        var msg = JSON.parse(evt.data);\n",
       "        var msg_type = msg['type'];\n",
       "\n",
       "        // Call the  \"handle_{type}\" callback, which takes\n",
       "        // the figure and JSON message as its only arguments.\n",
       "        try {\n",
       "            var callback = fig[\"handle_\" + msg_type];\n",
       "        } catch (e) {\n",
       "            console.log(\"No handler for the '\" + msg_type + \"' message type: \", msg);\n",
       "            return;\n",
       "        }\n",
       "\n",
       "        if (callback) {\n",
       "            try {\n",
       "                // console.log(\"Handling '\" + msg_type + \"' message: \", msg);\n",
       "                callback(fig, msg);\n",
       "            } catch (e) {\n",
       "                console.log(\"Exception inside the 'handler_\" + msg_type + \"' callback:\", e, e.stack, msg);\n",
       "            }\n",
       "        }\n",
       "    };\n",
       "}\n",
       "\n",
       "// from http://stackoverflow.com/questions/1114465/getting-mouse-location-in-canvas\n",
       "mpl.findpos = function(e) {\n",
       "    //this section is from http://www.quirksmode.org/js/events_properties.html\n",
       "    var targ;\n",
       "    if (!e)\n",
       "        e = window.event;\n",
       "    if (e.target)\n",
       "        targ = e.target;\n",
       "    else if (e.srcElement)\n",
       "        targ = e.srcElement;\n",
       "    if (targ.nodeType == 3) // defeat Safari bug\n",
       "        targ = targ.parentNode;\n",
       "\n",
       "    // jQuery normalizes the pageX and pageY\n",
       "    // pageX,Y are the mouse positions relative to the document\n",
       "    // offset() returns the position of the element relative to the document\n",
       "    var x = e.pageX - $(targ).offset().left;\n",
       "    var y = e.pageY - $(targ).offset().top;\n",
       "\n",
       "    return {\"x\": x, \"y\": y};\n",
       "};\n",
       "\n",
       "/*\n",
       " * return a copy of an object with only non-object keys\n",
       " * we need this to avoid circular references\n",
       " * http://stackoverflow.com/a/24161582/3208463\n",
       " */\n",
       "function simpleKeys (original) {\n",
       "  return Object.keys(original).reduce(function (obj, key) {\n",
       "    if (typeof original[key] !== 'object')\n",
       "        obj[key] = original[key]\n",
       "    return obj;\n",
       "  }, {});\n",
       "}\n",
       "\n",
       "mpl.figure.prototype.mouse_event = function(event, name) {\n",
       "    var canvas_pos = mpl.findpos(event)\n",
       "\n",
       "    if (name === 'button_press')\n",
       "    {\n",
       "        this.canvas.focus();\n",
       "        this.canvas_div.focus();\n",
       "    }\n",
       "\n",
       "    var x = canvas_pos.x * mpl.ratio;\n",
       "    var y = canvas_pos.y * mpl.ratio;\n",
       "\n",
       "    this.send_message(name, {x: x, y: y, button: event.button,\n",
       "                             step: event.step,\n",
       "                             guiEvent: simpleKeys(event)});\n",
       "\n",
       "    /* This prevents the web browser from automatically changing to\n",
       "     * the text insertion cursor when the button is pressed.  We want\n",
       "     * to control all of the cursor setting manually through the\n",
       "     * 'cursor' event from matplotlib */\n",
       "    event.preventDefault();\n",
       "    return false;\n",
       "}\n",
       "\n",
       "mpl.figure.prototype._key_event_extra = function(event, name) {\n",
       "    // Handle any extra behaviour associated with a key event\n",
       "}\n",
       "\n",
       "mpl.figure.prototype.key_event = function(event, name) {\n",
       "\n",
       "    // Prevent repeat events\n",
       "    if (name == 'key_press')\n",
       "    {\n",
       "        if (event.which === this._key)\n",
       "            return;\n",
       "        else\n",
       "            this._key = event.which;\n",
       "    }\n",
       "    if (name == 'key_release')\n",
       "        this._key = null;\n",
       "\n",
       "    var value = '';\n",
       "    if (event.ctrlKey && event.which != 17)\n",
       "        value += \"ctrl+\";\n",
       "    if (event.altKey && event.which != 18)\n",
       "        value += \"alt+\";\n",
       "    if (event.shiftKey && event.which != 16)\n",
       "        value += \"shift+\";\n",
       "\n",
       "    value += 'k';\n",
       "    value += event.which.toString();\n",
       "\n",
       "    this._key_event_extra(event, name);\n",
       "\n",
       "    this.send_message(name, {key: value,\n",
       "                             guiEvent: simpleKeys(event)});\n",
       "    return false;\n",
       "}\n",
       "\n",
       "mpl.figure.prototype.toolbar_button_onclick = function(name) {\n",
       "    if (name == 'download') {\n",
       "        this.handle_save(this, null);\n",
       "    } else {\n",
       "        this.send_message(\"toolbar_button\", {name: name});\n",
       "    }\n",
       "};\n",
       "\n",
       "mpl.figure.prototype.toolbar_button_onmouseover = function(tooltip) {\n",
       "    this.message.textContent = tooltip;\n",
       "};\n",
       "mpl.toolbar_items = [[\"Home\", \"Reset original view\", \"fa fa-home icon-home\", \"home\"], [\"Back\", \"Back to previous view\", \"fa fa-arrow-left icon-arrow-left\", \"back\"], [\"Forward\", \"Forward to next view\", \"fa fa-arrow-right icon-arrow-right\", \"forward\"], [\"\", \"\", \"\", \"\"], [\"Pan\", \"Pan axes with left mouse, zoom with right\", \"fa fa-arrows icon-move\", \"pan\"], [\"Zoom\", \"Zoom to rectangle\", \"fa fa-square-o icon-check-empty\", \"zoom\"], [\"\", \"\", \"\", \"\"], [\"Download\", \"Download plot\", \"fa fa-floppy-o icon-save\", \"download\"]];\n",
       "\n",
       "mpl.extensions = [\"eps\", \"jpeg\", \"pdf\", \"png\", \"ps\", \"raw\", \"svg\", \"tif\"];\n",
       "\n",
       "mpl.default_extension = \"png\";var comm_websocket_adapter = function(comm) {\n",
       "    // Create a \"websocket\"-like object which calls the given IPython comm\n",
       "    // object with the appropriate methods. Currently this is a non binary\n",
       "    // socket, so there is still some room for performance tuning.\n",
       "    var ws = {};\n",
       "\n",
       "    ws.close = function() {\n",
       "        comm.close()\n",
       "    };\n",
       "    ws.send = function(m) {\n",
       "        //console.log('sending', m);\n",
       "        comm.send(m);\n",
       "    };\n",
       "    // Register the callback with on_msg.\n",
       "    comm.on_msg(function(msg) {\n",
       "        //console.log('receiving', msg['content']['data'], msg);\n",
       "        // Pass the mpl event to the overridden (by mpl) onmessage function.\n",
       "        ws.onmessage(msg['content']['data'])\n",
       "    });\n",
       "    return ws;\n",
       "}\n",
       "\n",
       "mpl.mpl_figure_comm = function(comm, msg) {\n",
       "    // This is the function which gets called when the mpl process\n",
       "    // starts-up an IPython Comm through the \"matplotlib\" channel.\n",
       "\n",
       "    var id = msg.content.data.id;\n",
       "    // Get hold of the div created by the display call when the Comm\n",
       "    // socket was opened in Python.\n",
       "    var element = $(\"#\" + id);\n",
       "    var ws_proxy = comm_websocket_adapter(comm)\n",
       "\n",
       "    function ondownload(figure, format) {\n",
       "        window.open(figure.imageObj.src);\n",
       "    }\n",
       "\n",
       "    var fig = new mpl.figure(id, ws_proxy,\n",
       "                           ondownload,\n",
       "                           element.get(0));\n",
       "\n",
       "    // Call onopen now - mpl needs it, as it is assuming we've passed it a real\n",
       "    // web socket which is closed, not our websocket->open comm proxy.\n",
       "    ws_proxy.onopen();\n",
       "\n",
       "    fig.parent_element = element.get(0);\n",
       "    fig.cell_info = mpl.find_output_cell(\"<div id='\" + id + \"'></div>\");\n",
       "    if (!fig.cell_info) {\n",
       "        console.error(\"Failed to find cell for figure\", id, fig);\n",
       "        return;\n",
       "    }\n",
       "\n",
       "    var output_index = fig.cell_info[2]\n",
       "    var cell = fig.cell_info[0];\n",
       "\n",
       "};\n",
       "\n",
       "mpl.figure.prototype.handle_close = function(fig, msg) {\n",
       "    var width = fig.canvas.width/mpl.ratio\n",
       "    fig.root.unbind('remove')\n",
       "\n",
       "    // Update the output cell to use the data from the current canvas.\n",
       "    fig.push_to_output();\n",
       "    var dataURL = fig.canvas.toDataURL();\n",
       "    // Re-enable the keyboard manager in IPython - without this line, in FF,\n",
       "    // the notebook keyboard shortcuts fail.\n",
       "    IPython.keyboard_manager.enable()\n",
       "    $(fig.parent_element).html('<img src=\"' + dataURL + '\" width=\"' + width + '\">');\n",
       "    fig.close_ws(fig, msg);\n",
       "}\n",
       "\n",
       "mpl.figure.prototype.close_ws = function(fig, msg){\n",
       "    fig.send_message('closing', msg);\n",
       "    // fig.ws.close()\n",
       "}\n",
       "\n",
       "mpl.figure.prototype.push_to_output = function(remove_interactive) {\n",
       "    // Turn the data on the canvas into data in the output cell.\n",
       "    var width = this.canvas.width/mpl.ratio\n",
       "    var dataURL = this.canvas.toDataURL();\n",
       "    this.cell_info[1]['text/html'] = '<img src=\"' + dataURL + '\" width=\"' + width + '\">';\n",
       "}\n",
       "\n",
       "mpl.figure.prototype.updated_canvas_event = function() {\n",
       "    // Tell IPython that the notebook contents must change.\n",
       "    IPython.notebook.set_dirty(true);\n",
       "    this.send_message(\"ack\", {});\n",
       "    var fig = this;\n",
       "    // Wait a second, then push the new image to the DOM so\n",
       "    // that it is saved nicely (might be nice to debounce this).\n",
       "    setTimeout(function () { fig.push_to_output() }, 1000);\n",
       "}\n",
       "\n",
       "mpl.figure.prototype._init_toolbar = function() {\n",
       "    var fig = this;\n",
       "\n",
       "    var nav_element = $('<div/>');\n",
       "    nav_element.attr('style', 'width: 100%');\n",
       "    this.root.append(nav_element);\n",
       "\n",
       "    // Define a callback function for later on.\n",
       "    function toolbar_event(event) {\n",
       "        return fig.toolbar_button_onclick(event['data']);\n",
       "    }\n",
       "    function toolbar_mouse_event(event) {\n",
       "        return fig.toolbar_button_onmouseover(event['data']);\n",
       "    }\n",
       "\n",
       "    for(var toolbar_ind in mpl.toolbar_items){\n",
       "        var name = mpl.toolbar_items[toolbar_ind][0];\n",
       "        var tooltip = mpl.toolbar_items[toolbar_ind][1];\n",
       "        var image = mpl.toolbar_items[toolbar_ind][2];\n",
       "        var method_name = mpl.toolbar_items[toolbar_ind][3];\n",
       "\n",
       "        if (!name) { continue; };\n",
       "\n",
       "        var button = $('<button class=\"btn btn-default\" href=\"#\" title=\"' + name + '\"><i class=\"fa ' + image + ' fa-lg\"></i></button>');\n",
       "        button.click(method_name, toolbar_event);\n",
       "        button.mouseover(tooltip, toolbar_mouse_event);\n",
       "        nav_element.append(button);\n",
       "    }\n",
       "\n",
       "    // Add the status bar.\n",
       "    var status_bar = $('<span class=\"mpl-message\" style=\"text-align:right; float: right;\"/>');\n",
       "    nav_element.append(status_bar);\n",
       "    this.message = status_bar[0];\n",
       "\n",
       "    // Add the close button to the window.\n",
       "    var buttongrp = $('<div class=\"btn-group inline pull-right\"></div>');\n",
       "    var button = $('<button class=\"btn btn-mini btn-primary\" href=\"#\" title=\"Stop Interaction\"><i class=\"fa fa-power-off icon-remove icon-large\"></i></button>');\n",
       "    button.click(function (evt) { fig.handle_close(fig, {}); } );\n",
       "    button.mouseover('Stop Interaction', toolbar_mouse_event);\n",
       "    buttongrp.append(button);\n",
       "    var titlebar = this.root.find($('.ui-dialog-titlebar'));\n",
       "    titlebar.prepend(buttongrp);\n",
       "}\n",
       "\n",
       "mpl.figure.prototype._root_extra_style = function(el){\n",
       "    var fig = this\n",
       "    el.on(\"remove\", function(){\n",
       "\tfig.close_ws(fig, {});\n",
       "    });\n",
       "}\n",
       "\n",
       "mpl.figure.prototype._canvas_extra_style = function(el){\n",
       "    // this is important to make the div 'focusable\n",
       "    el.attr('tabindex', 0)\n",
       "    // reach out to IPython and tell the keyboard manager to turn it's self\n",
       "    // off when our div gets focus\n",
       "\n",
       "    // location in version 3\n",
       "    if (IPython.notebook.keyboard_manager) {\n",
       "        IPython.notebook.keyboard_manager.register_events(el);\n",
       "    }\n",
       "    else {\n",
       "        // location in version 2\n",
       "        IPython.keyboard_manager.register_events(el);\n",
       "    }\n",
       "\n",
       "}\n",
       "\n",
       "mpl.figure.prototype._key_event_extra = function(event, name) {\n",
       "    var manager = IPython.notebook.keyboard_manager;\n",
       "    if (!manager)\n",
       "        manager = IPython.keyboard_manager;\n",
       "\n",
       "    // Check for shift+enter\n",
       "    if (event.shiftKey && event.which == 13) {\n",
       "        this.canvas_div.blur();\n",
       "        // select the cell after this one\n",
       "        var index = IPython.notebook.find_cell_index(this.cell_info[0]);\n",
       "        IPython.notebook.select(index + 1);\n",
       "    }\n",
       "}\n",
       "\n",
       "mpl.figure.prototype.handle_save = function(fig, msg) {\n",
       "    fig.ondownload(fig, null);\n",
       "}\n",
       "\n",
       "\n",
       "mpl.find_output_cell = function(html_output) {\n",
       "    // Return the cell and output element which can be found *uniquely* in the notebook.\n",
       "    // Note - this is a bit hacky, but it is done because the \"notebook_saving.Notebook\"\n",
       "    // IPython event is triggered only after the cells have been serialised, which for\n",
       "    // our purposes (turning an active figure into a static one), is too late.\n",
       "    var cells = IPython.notebook.get_cells();\n",
       "    var ncells = cells.length;\n",
       "    for (var i=0; i<ncells; i++) {\n",
       "        var cell = cells[i];\n",
       "        if (cell.cell_type === 'code'){\n",
       "            for (var j=0; j<cell.output_area.outputs.length; j++) {\n",
       "                var data = cell.output_area.outputs[j];\n",
       "                if (data.data) {\n",
       "                    // IPython >= 3 moved mimebundle to data attribute of output\n",
       "                    data = data.data;\n",
       "                }\n",
       "                if (data['text/html'] == html_output) {\n",
       "                    return [cell, data, j];\n",
       "                }\n",
       "            }\n",
       "        }\n",
       "    }\n",
       "}\n",
       "\n",
       "// Register the function which deals with the matplotlib target/channel.\n",
       "// The kernel may be null if the page has been refreshed.\n",
       "if (IPython.notebook.kernel != null) {\n",
       "    IPython.notebook.kernel.comm_manager.register_target('matplotlib', mpl.mpl_figure_comm);\n",
       "}\n"
      ],
      "text/plain": [
       "<IPython.core.display.Javascript object>"
      ]
     },
     "metadata": {},
     "output_type": "display_data"
    },
    {
     "data": {
      "text/html": [
       "<img src=\"data:image/png;base64,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\" width=\"800\">"
      ],
      "text/plain": [
       "<IPython.core.display.HTML object>"
      ]
     },
     "metadata": {},
     "output_type": "display_data"
    },
    {
     "data": {
      "text/plain": [
       "Text(0, 0.5, 'Indice $j$')"
      ]
     },
     "execution_count": 146,
     "metadata": {},
     "output_type": "execute_result"
    }
   ],
   "source": [
    "fig = plt.figure(figsize=(8,8))\n",
    "plt.scatter(I,J,s=1000*array2d)\n",
    "plt.title(r'Elemts  en arreglo 2D', fontsize=18)\n",
    "plt.xlabel(r'Indice $i$', fontsize=18)\n",
    "plt.ylabel(r'Indice $j$', fontsize=18)"
   ]
  },
  {
   "cell_type": "code",
   "execution_count": 147,
   "metadata": {
    "jupyter": {
     "outputs_hidden": true
    }
   },
   "outputs": [
    {
     "data": {
      "text/plain": [
       "(5.2, 3.0, 4.5)"
      ]
     },
     "execution_count": 147,
     "metadata": {},
     "output_type": "execute_result"
    }
   ],
   "source": [
    "#Imprime elementos de fila = 0 contada desde arriba hacia abajo\n",
    "array2d[0,0], array2d[0,1], array2d[0,2]"
   ]
  },
  {
   "cell_type": "code",
   "execution_count": 148,
   "metadata": {
    "jupyter": {
     "outputs_hidden": true
    }
   },
   "outputs": [
    {
     "data": {
      "text/plain": [
       "(9.1, 0.1, 0.3)"
      ]
     },
     "execution_count": 148,
     "metadata": {},
     "output_type": "execute_result"
    }
   ],
   "source": [
    "#Imprime elementos de fila = 1 contada desde arriba hacia abajo\n",
    "array2d[1,0], array2d[1,1], array2d[1,2]"
   ]
  },
  {
   "cell_type": "code",
   "execution_count": 149,
   "metadata": {
    "jupyter": {
     "outputs_hidden": true
    }
   },
   "outputs": [
    {
     "ename": "IndexError",
     "evalue": "index 2 is out of bounds for axis 0 with size 2",
     "output_type": "error",
     "traceback": [
      "\u001b[1;31m---------------------------------------------------------------------------\u001b[0m",
      "\u001b[1;31mIndexError\u001b[0m                                Traceback (most recent call last)",
      "\u001b[1;32m<ipython-input-149-116c0af88bd8>\u001b[0m in \u001b[0;36m<module>\u001b[1;34m\u001b[0m\n\u001b[0;32m      1\u001b[0m \u001b[1;31m#La fila = 2 no está definida\u001b[0m\u001b[1;33m\u001b[0m\u001b[1;33m\u001b[0m\u001b[1;33m\u001b[0m\u001b[0m\n\u001b[1;32m----> 2\u001b[1;33m \u001b[0marray2d\u001b[0m\u001b[1;33m[\u001b[0m\u001b[1;36m2\u001b[0m\u001b[1;33m,\u001b[0m\u001b[1;36m0\u001b[0m\u001b[1;33m]\u001b[0m\u001b[1;33m\u001b[0m\u001b[1;33m\u001b[0m\u001b[0m\n\u001b[0m",
      "\u001b[1;31mIndexError\u001b[0m: index 2 is out of bounds for axis 0 with size 2"
     ]
    }
   ],
   "source": [
    "#La fila = 2 no está definida\n",
    "array2d[2,0]"
   ]
  },
  {
   "cell_type": "code",
   "execution_count": 150,
   "metadata": {
    "jupyter": {
     "outputs_hidden": true
    }
   },
   "outputs": [
    {
     "name": "stdout",
     "output_type": "stream",
     "text": [
      "0 0 5.2\n",
      "0 1 3.0\n",
      "0 2 4.5\n",
      "1 0 9.1\n",
      "1 1 0.1\n",
      "1 2 0.3\n"
     ]
    }
   ],
   "source": [
    "for i in range(2):\n",
    "    for j in range(3):\n",
    "        print(i,j,array2d[i,j])\n",
    "#        print('array2d[%s,%s] = %2.1f'%(i, j, array2d[i, j]))"
   ]
  },
  {
   "cell_type": "markdown",
   "metadata": {},
   "source": [
    "Se pueden sumar los elementos de un arreglo 2D así:"
   ]
  },
  {
   "cell_type": "code",
   "execution_count": 151,
   "metadata": {
    "jupyter": {
     "outputs_hidden": true
    }
   },
   "outputs": [
    {
     "data": {
      "text/plain": [
       "22.2"
      ]
     },
     "execution_count": 151,
     "metadata": {},
     "output_type": "execute_result"
    }
   ],
   "source": [
    "array2d.sum()"
   ]
  },
  {
   "cell_type": "markdown",
   "metadata": {},
   "source": [
    "Se pueden sumar los elementos del `axis=0` de un arreglo 2D así:"
   ]
  },
  {
   "cell_type": "code",
   "execution_count": 152,
   "metadata": {
    "jupyter": {
     "outputs_hidden": true
    }
   },
   "outputs": [
    {
     "data": {
      "text/plain": [
       "array([14.3,  3.1,  4.8])"
      ]
     },
     "execution_count": 152,
     "metadata": {},
     "output_type": "execute_result"
    }
   ],
   "source": [
    "#Suma elementos sobre axis=0\n",
    "array2d.sum(axis=0)"
   ]
  },
  {
   "cell_type": "markdown",
   "metadata": {},
   "source": [
    "Se pueden sumar los elementos del `axis=1` de un arreglo 2D así:"
   ]
  },
  {
   "cell_type": "code",
   "execution_count": 153,
   "metadata": {
    "jupyter": {
     "outputs_hidden": true
    }
   },
   "outputs": [
    {
     "data": {
      "text/plain": [
       "array([12.7,  9.5])"
      ]
     },
     "execution_count": 153,
     "metadata": {},
     "output_type": "execute_result"
    }
   ],
   "source": [
    "#Suma elementos sobre axis=1\n",
    "array2d.sum(axis=1)"
   ]
  },
  {
   "cell_type": "markdown",
   "metadata": {},
   "source": [
    "Note que:"
   ]
  },
  {
   "cell_type": "code",
   "execution_count": 154,
   "metadata": {
    "jupyter": {
     "outputs_hidden": true
    }
   },
   "outputs": [
    {
     "data": {
      "text/plain": [
       "(22.200000000000003, 22.2)"
      ]
     },
     "execution_count": 154,
     "metadata": {},
     "output_type": "execute_result"
    }
   ],
   "source": [
    "array2d.sum(axis=0).sum(), array2d.sum(axis=1).sum() #Es la suma de todos los elementos del arreglo"
   ]
  },
  {
   "cell_type": "markdown",
   "metadata": {},
   "source": [
    "Similarmente:"
   ]
  },
  {
   "cell_type": "code",
   "execution_count": 155,
   "metadata": {
    "jupyter": {
     "outputs_hidden": true
    }
   },
   "outputs": [
    {
     "data": {
      "text/plain": [
       "(array([47.32,  0.3 ,  1.35]), array([70.2  ,  0.273]))"
      ]
     },
     "execution_count": 155,
     "metadata": {},
     "output_type": "execute_result"
    }
   ],
   "source": [
    "np.prod(array2d,axis=0), np.prod(array2d,axis=1)"
   ]
  },
  {
   "cell_type": "markdown",
   "metadata": {},
   "source": [
    "#### 3D array"
   ]
  },
  {
   "cell_type": "code",
   "execution_count": 156,
   "metadata": {
    "jupyter": {
     "outputs_hidden": true
    }
   },
   "outputs": [
    {
     "data": {
      "text/plain": [
       "array([[[ 1,  2],\n",
       "        [ 4,  3],\n",
       "        [ 7,  4]],\n",
       "\n",
       "       [[ 2,  3],\n",
       "        [ 9,  8],\n",
       "        [ 7,  5]],\n",
       "\n",
       "       [[ 1,  2],\n",
       "        [ 3,  2],\n",
       "        [ 0,  2]],\n",
       "\n",
       "       [[ 9, 10],\n",
       "        [ 6,  5],\n",
       "        [ 9,  8]]])"
      ]
     },
     "execution_count": 156,
     "metadata": {},
     "output_type": "execute_result"
    }
   ],
   "source": [
    "array3d = np.array([[[1,2], [4,3], [7,4]],\n",
    "                   [[2,3], [9,8], [7,5]],\n",
    "                   [[1,2], [3,2], [0,2]],\n",
    "                   [[9,10], [6,5], [9,8]]])\n",
    "array3d"
   ]
  },
  {
   "cell_type": "code",
   "execution_count": 157,
   "metadata": {
    "jupyter": {
     "outputs_hidden": true
    }
   },
   "outputs": [
    {
     "data": {
      "text/plain": [
       "(4, 3, 2)"
      ]
     },
     "execution_count": 157,
     "metadata": {},
     "output_type": "execute_result"
    }
   ],
   "source": [
    "array3d.shape"
   ]
  },
  {
   "cell_type": "markdown",
   "metadata": {},
   "source": [
    "`array3d` es una \"paralelepípedo rectangular\", es decir un arreglo tridimensional, requiere tres índices."
   ]
  },
  {
   "cell_type": "code",
   "execution_count": 158,
   "metadata": {
    "jupyter": {
     "outputs_hidden": true
    }
   },
   "outputs": [
    {
     "data": {
      "text/plain": [
       "(array([[[0, 0],\n",
       "         [1, 1],\n",
       "         [2, 2],\n",
       "         [3, 3]],\n",
       " \n",
       "        [[0, 0],\n",
       "         [1, 1],\n",
       "         [2, 2],\n",
       "         [3, 3]],\n",
       " \n",
       "        [[0, 0],\n",
       "         [1, 1],\n",
       "         [2, 2],\n",
       "         [3, 3]]]),\n",
       " array([[[0, 0],\n",
       "         [0, 0],\n",
       "         [0, 0],\n",
       "         [0, 0]],\n",
       " \n",
       "        [[1, 1],\n",
       "         [1, 1],\n",
       "         [1, 1],\n",
       "         [1, 1]],\n",
       " \n",
       "        [[2, 2],\n",
       "         [2, 2],\n",
       "         [2, 2],\n",
       "         [2, 2]]]),\n",
       " array([[[0, 1],\n",
       "         [0, 1],\n",
       "         [0, 1],\n",
       "         [0, 1]],\n",
       " \n",
       "        [[0, 1],\n",
       "         [0, 1],\n",
       "         [0, 1],\n",
       "         [0, 1]],\n",
       " \n",
       "        [[0, 1],\n",
       "         [0, 1],\n",
       "         [0, 1],\n",
       "         [0, 1]]]))"
      ]
     },
     "execution_count": 158,
     "metadata": {},
     "output_type": "execute_result"
    }
   ],
   "source": [
    "x, y, z = np.arange(4), np.arange(3), np.arange(2)\n",
    "X, Y, Z = np.meshgrid(x, y, z)\n",
    "X,Y,Z"
   ]
  },
  {
   "cell_type": "code",
   "execution_count": null,
   "metadata": {
    "collapsed": true,
    "jupyter": {
     "outputs_hidden": true
    }
   },
   "outputs": [],
   "source": [
    "#ax.scatter3D?"
   ]
  },
  {
   "cell_type": "code",
   "execution_count": 159,
   "metadata": {
    "jupyter": {
     "outputs_hidden": true
    }
   },
   "outputs": [
    {
     "data": {
      "application/javascript": [
       "/* Put everything inside the global mpl namespace */\n",
       "window.mpl = {};\n",
       "\n",
       "\n",
       "mpl.get_websocket_type = function() {\n",
       "    if (typeof(WebSocket) !== 'undefined') {\n",
       "        return WebSocket;\n",
       "    } else if (typeof(MozWebSocket) !== 'undefined') {\n",
       "        return MozWebSocket;\n",
       "    } else {\n",
       "        alert('Your browser does not have WebSocket support. ' +\n",
       "              'Please try Chrome, Safari or Firefox ≥ 6. ' +\n",
       "              'Firefox 4 and 5 are also supported but you ' +\n",
       "              'have to enable WebSockets in about:config.');\n",
       "    };\n",
       "}\n",
       "\n",
       "mpl.figure = function(figure_id, websocket, ondownload, parent_element) {\n",
       "    this.id = figure_id;\n",
       "\n",
       "    this.ws = websocket;\n",
       "\n",
       "    this.supports_binary = (this.ws.binaryType != undefined);\n",
       "\n",
       "    if (!this.supports_binary) {\n",
       "        var warnings = document.getElementById(\"mpl-warnings\");\n",
       "        if (warnings) {\n",
       "            warnings.style.display = 'block';\n",
       "            warnings.textContent = (\n",
       "                \"This browser does not support binary websocket messages. \" +\n",
       "                    \"Performance may be slow.\");\n",
       "        }\n",
       "    }\n",
       "\n",
       "    this.imageObj = new Image();\n",
       "\n",
       "    this.context = undefined;\n",
       "    this.message = undefined;\n",
       "    this.canvas = undefined;\n",
       "    this.rubberband_canvas = undefined;\n",
       "    this.rubberband_context = undefined;\n",
       "    this.format_dropdown = undefined;\n",
       "\n",
       "    this.image_mode = 'full';\n",
       "\n",
       "    this.root = $('<div/>');\n",
       "    this._root_extra_style(this.root)\n",
       "    this.root.attr('style', 'display: inline-block');\n",
       "\n",
       "    $(parent_element).append(this.root);\n",
       "\n",
       "    this._init_header(this);\n",
       "    this._init_canvas(this);\n",
       "    this._init_toolbar(this);\n",
       "\n",
       "    var fig = this;\n",
       "\n",
       "    this.waiting = false;\n",
       "\n",
       "    this.ws.onopen =  function () {\n",
       "            fig.send_message(\"supports_binary\", {value: fig.supports_binary});\n",
       "            fig.send_message(\"send_image_mode\", {});\n",
       "            if (mpl.ratio != 1) {\n",
       "                fig.send_message(\"set_dpi_ratio\", {'dpi_ratio': mpl.ratio});\n",
       "            }\n",
       "            fig.send_message(\"refresh\", {});\n",
       "        }\n",
       "\n",
       "    this.imageObj.onload = function() {\n",
       "            if (fig.image_mode == 'full') {\n",
       "                // Full images could contain transparency (where diff images\n",
       "                // almost always do), so we need to clear the canvas so that\n",
       "                // there is no ghosting.\n",
       "                fig.context.clearRect(0, 0, fig.canvas.width, fig.canvas.height);\n",
       "            }\n",
       "            fig.context.drawImage(fig.imageObj, 0, 0);\n",
       "        };\n",
       "\n",
       "    this.imageObj.onunload = function() {\n",
       "        fig.ws.close();\n",
       "    }\n",
       "\n",
       "    this.ws.onmessage = this._make_on_message_function(this);\n",
       "\n",
       "    this.ondownload = ondownload;\n",
       "}\n",
       "\n",
       "mpl.figure.prototype._init_header = function() {\n",
       "    var titlebar = $(\n",
       "        '<div class=\"ui-dialog-titlebar ui-widget-header ui-corner-all ' +\n",
       "        'ui-helper-clearfix\"/>');\n",
       "    var titletext = $(\n",
       "        '<div class=\"ui-dialog-title\" style=\"width: 100%; ' +\n",
       "        'text-align: center; padding: 3px;\"/>');\n",
       "    titlebar.append(titletext)\n",
       "    this.root.append(titlebar);\n",
       "    this.header = titletext[0];\n",
       "}\n",
       "\n",
       "\n",
       "\n",
       "mpl.figure.prototype._canvas_extra_style = function(canvas_div) {\n",
       "\n",
       "}\n",
       "\n",
       "\n",
       "mpl.figure.prototype._root_extra_style = function(canvas_div) {\n",
       "\n",
       "}\n",
       "\n",
       "mpl.figure.prototype._init_canvas = function() {\n",
       "    var fig = this;\n",
       "\n",
       "    var canvas_div = $('<div/>');\n",
       "\n",
       "    canvas_div.attr('style', 'position: relative; clear: both; outline: 0');\n",
       "\n",
       "    function canvas_keyboard_event(event) {\n",
       "        return fig.key_event(event, event['data']);\n",
       "    }\n",
       "\n",
       "    canvas_div.keydown('key_press', canvas_keyboard_event);\n",
       "    canvas_div.keyup('key_release', canvas_keyboard_event);\n",
       "    this.canvas_div = canvas_div\n",
       "    this._canvas_extra_style(canvas_div)\n",
       "    this.root.append(canvas_div);\n",
       "\n",
       "    var canvas = $('<canvas/>');\n",
       "    canvas.addClass('mpl-canvas');\n",
       "    canvas.attr('style', \"left: 0; top: 0; z-index: 0; outline: 0\")\n",
       "\n",
       "    this.canvas = canvas[0];\n",
       "    this.context = canvas[0].getContext(\"2d\");\n",
       "\n",
       "    var backingStore = this.context.backingStorePixelRatio ||\n",
       "\tthis.context.webkitBackingStorePixelRatio ||\n",
       "\tthis.context.mozBackingStorePixelRatio ||\n",
       "\tthis.context.msBackingStorePixelRatio ||\n",
       "\tthis.context.oBackingStorePixelRatio ||\n",
       "\tthis.context.backingStorePixelRatio || 1;\n",
       "\n",
       "    mpl.ratio = (window.devicePixelRatio || 1) / backingStore;\n",
       "\n",
       "    var rubberband = $('<canvas/>');\n",
       "    rubberband.attr('style', \"position: absolute; left: 0; top: 0; z-index: 1;\")\n",
       "\n",
       "    var pass_mouse_events = true;\n",
       "\n",
       "    canvas_div.resizable({\n",
       "        start: function(event, ui) {\n",
       "            pass_mouse_events = false;\n",
       "        },\n",
       "        resize: function(event, ui) {\n",
       "            fig.request_resize(ui.size.width, ui.size.height);\n",
       "        },\n",
       "        stop: function(event, ui) {\n",
       "            pass_mouse_events = true;\n",
       "            fig.request_resize(ui.size.width, ui.size.height);\n",
       "        },\n",
       "    });\n",
       "\n",
       "    function mouse_event_fn(event) {\n",
       "        if (pass_mouse_events)\n",
       "            return fig.mouse_event(event, event['data']);\n",
       "    }\n",
       "\n",
       "    rubberband.mousedown('button_press', mouse_event_fn);\n",
       "    rubberband.mouseup('button_release', mouse_event_fn);\n",
       "    // Throttle sequential mouse events to 1 every 20ms.\n",
       "    rubberband.mousemove('motion_notify', mouse_event_fn);\n",
       "\n",
       "    rubberband.mouseenter('figure_enter', mouse_event_fn);\n",
       "    rubberband.mouseleave('figure_leave', mouse_event_fn);\n",
       "\n",
       "    canvas_div.on(\"wheel\", function (event) {\n",
       "        event = event.originalEvent;\n",
       "        event['data'] = 'scroll'\n",
       "        if (event.deltaY < 0) {\n",
       "            event.step = 1;\n",
       "        } else {\n",
       "            event.step = -1;\n",
       "        }\n",
       "        mouse_event_fn(event);\n",
       "    });\n",
       "\n",
       "    canvas_div.append(canvas);\n",
       "    canvas_div.append(rubberband);\n",
       "\n",
       "    this.rubberband = rubberband;\n",
       "    this.rubberband_canvas = rubberband[0];\n",
       "    this.rubberband_context = rubberband[0].getContext(\"2d\");\n",
       "    this.rubberband_context.strokeStyle = \"#000000\";\n",
       "\n",
       "    this._resize_canvas = function(width, height) {\n",
       "        // Keep the size of the canvas, canvas container, and rubber band\n",
       "        // canvas in synch.\n",
       "        canvas_div.css('width', width)\n",
       "        canvas_div.css('height', height)\n",
       "\n",
       "        canvas.attr('width', width * mpl.ratio);\n",
       "        canvas.attr('height', height * mpl.ratio);\n",
       "        canvas.attr('style', 'width: ' + width + 'px; height: ' + height + 'px;');\n",
       "\n",
       "        rubberband.attr('width', width);\n",
       "        rubberband.attr('height', height);\n",
       "    }\n",
       "\n",
       "    // Set the figure to an initial 600x600px, this will subsequently be updated\n",
       "    // upon first draw.\n",
       "    this._resize_canvas(600, 600);\n",
       "\n",
       "    // Disable right mouse context menu.\n",
       "    $(this.rubberband_canvas).bind(\"contextmenu\",function(e){\n",
       "        return false;\n",
       "    });\n",
       "\n",
       "    function set_focus () {\n",
       "        canvas.focus();\n",
       "        canvas_div.focus();\n",
       "    }\n",
       "\n",
       "    window.setTimeout(set_focus, 100);\n",
       "}\n",
       "\n",
       "mpl.figure.prototype._init_toolbar = function() {\n",
       "    var fig = this;\n",
       "\n",
       "    var nav_element = $('<div/>');\n",
       "    nav_element.attr('style', 'width: 100%');\n",
       "    this.root.append(nav_element);\n",
       "\n",
       "    // Define a callback function for later on.\n",
       "    function toolbar_event(event) {\n",
       "        return fig.toolbar_button_onclick(event['data']);\n",
       "    }\n",
       "    function toolbar_mouse_event(event) {\n",
       "        return fig.toolbar_button_onmouseover(event['data']);\n",
       "    }\n",
       "\n",
       "    for(var toolbar_ind in mpl.toolbar_items) {\n",
       "        var name = mpl.toolbar_items[toolbar_ind][0];\n",
       "        var tooltip = mpl.toolbar_items[toolbar_ind][1];\n",
       "        var image = mpl.toolbar_items[toolbar_ind][2];\n",
       "        var method_name = mpl.toolbar_items[toolbar_ind][3];\n",
       "\n",
       "        if (!name) {\n",
       "            // put a spacer in here.\n",
       "            continue;\n",
       "        }\n",
       "        var button = $('<button/>');\n",
       "        button.addClass('ui-button ui-widget ui-state-default ui-corner-all ' +\n",
       "                        'ui-button-icon-only');\n",
       "        button.attr('role', 'button');\n",
       "        button.attr('aria-disabled', 'false');\n",
       "        button.click(method_name, toolbar_event);\n",
       "        button.mouseover(tooltip, toolbar_mouse_event);\n",
       "\n",
       "        var icon_img = $('<span/>');\n",
       "        icon_img.addClass('ui-button-icon-primary ui-icon');\n",
       "        icon_img.addClass(image);\n",
       "        icon_img.addClass('ui-corner-all');\n",
       "\n",
       "        var tooltip_span = $('<span/>');\n",
       "        tooltip_span.addClass('ui-button-text');\n",
       "        tooltip_span.html(tooltip);\n",
       "\n",
       "        button.append(icon_img);\n",
       "        button.append(tooltip_span);\n",
       "\n",
       "        nav_element.append(button);\n",
       "    }\n",
       "\n",
       "    var fmt_picker_span = $('<span/>');\n",
       "\n",
       "    var fmt_picker = $('<select/>');\n",
       "    fmt_picker.addClass('mpl-toolbar-option ui-widget ui-widget-content');\n",
       "    fmt_picker_span.append(fmt_picker);\n",
       "    nav_element.append(fmt_picker_span);\n",
       "    this.format_dropdown = fmt_picker[0];\n",
       "\n",
       "    for (var ind in mpl.extensions) {\n",
       "        var fmt = mpl.extensions[ind];\n",
       "        var option = $(\n",
       "            '<option/>', {selected: fmt === mpl.default_extension}).html(fmt);\n",
       "        fmt_picker.append(option);\n",
       "    }\n",
       "\n",
       "    // Add hover states to the ui-buttons\n",
       "    $( \".ui-button\" ).hover(\n",
       "        function() { $(this).addClass(\"ui-state-hover\");},\n",
       "        function() { $(this).removeClass(\"ui-state-hover\");}\n",
       "    );\n",
       "\n",
       "    var status_bar = $('<span class=\"mpl-message\"/>');\n",
       "    nav_element.append(status_bar);\n",
       "    this.message = status_bar[0];\n",
       "}\n",
       "\n",
       "mpl.figure.prototype.request_resize = function(x_pixels, y_pixels) {\n",
       "    // Request matplotlib to resize the figure. Matplotlib will then trigger a resize in the client,\n",
       "    // which will in turn request a refresh of the image.\n",
       "    this.send_message('resize', {'width': x_pixels, 'height': y_pixels});\n",
       "}\n",
       "\n",
       "mpl.figure.prototype.send_message = function(type, properties) {\n",
       "    properties['type'] = type;\n",
       "    properties['figure_id'] = this.id;\n",
       "    this.ws.send(JSON.stringify(properties));\n",
       "}\n",
       "\n",
       "mpl.figure.prototype.send_draw_message = function() {\n",
       "    if (!this.waiting) {\n",
       "        this.waiting = true;\n",
       "        this.ws.send(JSON.stringify({type: \"draw\", figure_id: this.id}));\n",
       "    }\n",
       "}\n",
       "\n",
       "\n",
       "mpl.figure.prototype.handle_save = function(fig, msg) {\n",
       "    var format_dropdown = fig.format_dropdown;\n",
       "    var format = format_dropdown.options[format_dropdown.selectedIndex].value;\n",
       "    fig.ondownload(fig, format);\n",
       "}\n",
       "\n",
       "\n",
       "mpl.figure.prototype.handle_resize = function(fig, msg) {\n",
       "    var size = msg['size'];\n",
       "    if (size[0] != fig.canvas.width || size[1] != fig.canvas.height) {\n",
       "        fig._resize_canvas(size[0], size[1]);\n",
       "        fig.send_message(\"refresh\", {});\n",
       "    };\n",
       "}\n",
       "\n",
       "mpl.figure.prototype.handle_rubberband = function(fig, msg) {\n",
       "    var x0 = msg['x0'] / mpl.ratio;\n",
       "    var y0 = (fig.canvas.height - msg['y0']) / mpl.ratio;\n",
       "    var x1 = msg['x1'] / mpl.ratio;\n",
       "    var y1 = (fig.canvas.height - msg['y1']) / mpl.ratio;\n",
       "    x0 = Math.floor(x0) + 0.5;\n",
       "    y0 = Math.floor(y0) + 0.5;\n",
       "    x1 = Math.floor(x1) + 0.5;\n",
       "    y1 = Math.floor(y1) + 0.5;\n",
       "    var min_x = Math.min(x0, x1);\n",
       "    var min_y = Math.min(y0, y1);\n",
       "    var width = Math.abs(x1 - x0);\n",
       "    var height = Math.abs(y1 - y0);\n",
       "\n",
       "    fig.rubberband_context.clearRect(\n",
       "        0, 0, fig.canvas.width / mpl.ratio, fig.canvas.height / mpl.ratio);\n",
       "\n",
       "    fig.rubberband_context.strokeRect(min_x, min_y, width, height);\n",
       "}\n",
       "\n",
       "mpl.figure.prototype.handle_figure_label = function(fig, msg) {\n",
       "    // Updates the figure title.\n",
       "    fig.header.textContent = msg['label'];\n",
       "}\n",
       "\n",
       "mpl.figure.prototype.handle_cursor = function(fig, msg) {\n",
       "    var cursor = msg['cursor'];\n",
       "    switch(cursor)\n",
       "    {\n",
       "    case 0:\n",
       "        cursor = 'pointer';\n",
       "        break;\n",
       "    case 1:\n",
       "        cursor = 'default';\n",
       "        break;\n",
       "    case 2:\n",
       "        cursor = 'crosshair';\n",
       "        break;\n",
       "    case 3:\n",
       "        cursor = 'move';\n",
       "        break;\n",
       "    }\n",
       "    fig.rubberband_canvas.style.cursor = cursor;\n",
       "}\n",
       "\n",
       "mpl.figure.prototype.handle_message = function(fig, msg) {\n",
       "    fig.message.textContent = msg['message'];\n",
       "}\n",
       "\n",
       "mpl.figure.prototype.handle_draw = function(fig, msg) {\n",
       "    // Request the server to send over a new figure.\n",
       "    fig.send_draw_message();\n",
       "}\n",
       "\n",
       "mpl.figure.prototype.handle_image_mode = function(fig, msg) {\n",
       "    fig.image_mode = msg['mode'];\n",
       "}\n",
       "\n",
       "mpl.figure.prototype.updated_canvas_event = function() {\n",
       "    // Called whenever the canvas gets updated.\n",
       "    this.send_message(\"ack\", {});\n",
       "}\n",
       "\n",
       "// A function to construct a web socket function for onmessage handling.\n",
       "// Called in the figure constructor.\n",
       "mpl.figure.prototype._make_on_message_function = function(fig) {\n",
       "    return function socket_on_message(evt) {\n",
       "        if (evt.data instanceof Blob) {\n",
       "            /* FIXME: We get \"Resource interpreted as Image but\n",
       "             * transferred with MIME type text/plain:\" errors on\n",
       "             * Chrome.  But how to set the MIME type?  It doesn't seem\n",
       "             * to be part of the websocket stream */\n",
       "            evt.data.type = \"image/png\";\n",
       "\n",
       "            /* Free the memory for the previous frames */\n",
       "            if (fig.imageObj.src) {\n",
       "                (window.URL || window.webkitURL).revokeObjectURL(\n",
       "                    fig.imageObj.src);\n",
       "            }\n",
       "\n",
       "            fig.imageObj.src = (window.URL || window.webkitURL).createObjectURL(\n",
       "                evt.data);\n",
       "            fig.updated_canvas_event();\n",
       "            fig.waiting = false;\n",
       "            return;\n",
       "        }\n",
       "        else if (typeof evt.data === 'string' && evt.data.slice(0, 21) == \"data:image/png;base64\") {\n",
       "            fig.imageObj.src = evt.data;\n",
       "            fig.updated_canvas_event();\n",
       "            fig.waiting = false;\n",
       "            return;\n",
       "        }\n",
       "\n",
       "        var msg = JSON.parse(evt.data);\n",
       "        var msg_type = msg['type'];\n",
       "\n",
       "        // Call the  \"handle_{type}\" callback, which takes\n",
       "        // the figure and JSON message as its only arguments.\n",
       "        try {\n",
       "            var callback = fig[\"handle_\" + msg_type];\n",
       "        } catch (e) {\n",
       "            console.log(\"No handler for the '\" + msg_type + \"' message type: \", msg);\n",
       "            return;\n",
       "        }\n",
       "\n",
       "        if (callback) {\n",
       "            try {\n",
       "                // console.log(\"Handling '\" + msg_type + \"' message: \", msg);\n",
       "                callback(fig, msg);\n",
       "            } catch (e) {\n",
       "                console.log(\"Exception inside the 'handler_\" + msg_type + \"' callback:\", e, e.stack, msg);\n",
       "            }\n",
       "        }\n",
       "    };\n",
       "}\n",
       "\n",
       "// from http://stackoverflow.com/questions/1114465/getting-mouse-location-in-canvas\n",
       "mpl.findpos = function(e) {\n",
       "    //this section is from http://www.quirksmode.org/js/events_properties.html\n",
       "    var targ;\n",
       "    if (!e)\n",
       "        e = window.event;\n",
       "    if (e.target)\n",
       "        targ = e.target;\n",
       "    else if (e.srcElement)\n",
       "        targ = e.srcElement;\n",
       "    if (targ.nodeType == 3) // defeat Safari bug\n",
       "        targ = targ.parentNode;\n",
       "\n",
       "    // jQuery normalizes the pageX and pageY\n",
       "    // pageX,Y are the mouse positions relative to the document\n",
       "    // offset() returns the position of the element relative to the document\n",
       "    var x = e.pageX - $(targ).offset().left;\n",
       "    var y = e.pageY - $(targ).offset().top;\n",
       "\n",
       "    return {\"x\": x, \"y\": y};\n",
       "};\n",
       "\n",
       "/*\n",
       " * return a copy of an object with only non-object keys\n",
       " * we need this to avoid circular references\n",
       " * http://stackoverflow.com/a/24161582/3208463\n",
       " */\n",
       "function simpleKeys (original) {\n",
       "  return Object.keys(original).reduce(function (obj, key) {\n",
       "    if (typeof original[key] !== 'object')\n",
       "        obj[key] = original[key]\n",
       "    return obj;\n",
       "  }, {});\n",
       "}\n",
       "\n",
       "mpl.figure.prototype.mouse_event = function(event, name) {\n",
       "    var canvas_pos = mpl.findpos(event)\n",
       "\n",
       "    if (name === 'button_press')\n",
       "    {\n",
       "        this.canvas.focus();\n",
       "        this.canvas_div.focus();\n",
       "    }\n",
       "\n",
       "    var x = canvas_pos.x * mpl.ratio;\n",
       "    var y = canvas_pos.y * mpl.ratio;\n",
       "\n",
       "    this.send_message(name, {x: x, y: y, button: event.button,\n",
       "                             step: event.step,\n",
       "                             guiEvent: simpleKeys(event)});\n",
       "\n",
       "    /* This prevents the web browser from automatically changing to\n",
       "     * the text insertion cursor when the button is pressed.  We want\n",
       "     * to control all of the cursor setting manually through the\n",
       "     * 'cursor' event from matplotlib */\n",
       "    event.preventDefault();\n",
       "    return false;\n",
       "}\n",
       "\n",
       "mpl.figure.prototype._key_event_extra = function(event, name) {\n",
       "    // Handle any extra behaviour associated with a key event\n",
       "}\n",
       "\n",
       "mpl.figure.prototype.key_event = function(event, name) {\n",
       "\n",
       "    // Prevent repeat events\n",
       "    if (name == 'key_press')\n",
       "    {\n",
       "        if (event.which === this._key)\n",
       "            return;\n",
       "        else\n",
       "            this._key = event.which;\n",
       "    }\n",
       "    if (name == 'key_release')\n",
       "        this._key = null;\n",
       "\n",
       "    var value = '';\n",
       "    if (event.ctrlKey && event.which != 17)\n",
       "        value += \"ctrl+\";\n",
       "    if (event.altKey && event.which != 18)\n",
       "        value += \"alt+\";\n",
       "    if (event.shiftKey && event.which != 16)\n",
       "        value += \"shift+\";\n",
       "\n",
       "    value += 'k';\n",
       "    value += event.which.toString();\n",
       "\n",
       "    this._key_event_extra(event, name);\n",
       "\n",
       "    this.send_message(name, {key: value,\n",
       "                             guiEvent: simpleKeys(event)});\n",
       "    return false;\n",
       "}\n",
       "\n",
       "mpl.figure.prototype.toolbar_button_onclick = function(name) {\n",
       "    if (name == 'download') {\n",
       "        this.handle_save(this, null);\n",
       "    } else {\n",
       "        this.send_message(\"toolbar_button\", {name: name});\n",
       "    }\n",
       "};\n",
       "\n",
       "mpl.figure.prototype.toolbar_button_onmouseover = function(tooltip) {\n",
       "    this.message.textContent = tooltip;\n",
       "};\n",
       "mpl.toolbar_items = [[\"Home\", \"Reset original view\", \"fa fa-home icon-home\", \"home\"], [\"Back\", \"Back to previous view\", \"fa fa-arrow-left icon-arrow-left\", \"back\"], [\"Forward\", \"Forward to next view\", \"fa fa-arrow-right icon-arrow-right\", \"forward\"], [\"\", \"\", \"\", \"\"], [\"Pan\", \"Pan axes with left mouse, zoom with right\", \"fa fa-arrows icon-move\", \"pan\"], [\"Zoom\", \"Zoom to rectangle\", \"fa fa-square-o icon-check-empty\", \"zoom\"], [\"\", \"\", \"\", \"\"], [\"Download\", \"Download plot\", \"fa fa-floppy-o icon-save\", \"download\"]];\n",
       "\n",
       "mpl.extensions = [\"eps\", \"jpeg\", \"pdf\", \"png\", \"ps\", \"raw\", \"svg\", \"tif\"];\n",
       "\n",
       "mpl.default_extension = \"png\";var comm_websocket_adapter = function(comm) {\n",
       "    // Create a \"websocket\"-like object which calls the given IPython comm\n",
       "    // object with the appropriate methods. Currently this is a non binary\n",
       "    // socket, so there is still some room for performance tuning.\n",
       "    var ws = {};\n",
       "\n",
       "    ws.close = function() {\n",
       "        comm.close()\n",
       "    };\n",
       "    ws.send = function(m) {\n",
       "        //console.log('sending', m);\n",
       "        comm.send(m);\n",
       "    };\n",
       "    // Register the callback with on_msg.\n",
       "    comm.on_msg(function(msg) {\n",
       "        //console.log('receiving', msg['content']['data'], msg);\n",
       "        // Pass the mpl event to the overridden (by mpl) onmessage function.\n",
       "        ws.onmessage(msg['content']['data'])\n",
       "    });\n",
       "    return ws;\n",
       "}\n",
       "\n",
       "mpl.mpl_figure_comm = function(comm, msg) {\n",
       "    // This is the function which gets called when the mpl process\n",
       "    // starts-up an IPython Comm through the \"matplotlib\" channel.\n",
       "\n",
       "    var id = msg.content.data.id;\n",
       "    // Get hold of the div created by the display call when the Comm\n",
       "    // socket was opened in Python.\n",
       "    var element = $(\"#\" + id);\n",
       "    var ws_proxy = comm_websocket_adapter(comm)\n",
       "\n",
       "    function ondownload(figure, format) {\n",
       "        window.open(figure.imageObj.src);\n",
       "    }\n",
       "\n",
       "    var fig = new mpl.figure(id, ws_proxy,\n",
       "                           ondownload,\n",
       "                           element.get(0));\n",
       "\n",
       "    // Call onopen now - mpl needs it, as it is assuming we've passed it a real\n",
       "    // web socket which is closed, not our websocket->open comm proxy.\n",
       "    ws_proxy.onopen();\n",
       "\n",
       "    fig.parent_element = element.get(0);\n",
       "    fig.cell_info = mpl.find_output_cell(\"<div id='\" + id + \"'></div>\");\n",
       "    if (!fig.cell_info) {\n",
       "        console.error(\"Failed to find cell for figure\", id, fig);\n",
       "        return;\n",
       "    }\n",
       "\n",
       "    var output_index = fig.cell_info[2]\n",
       "    var cell = fig.cell_info[0];\n",
       "\n",
       "};\n",
       "\n",
       "mpl.figure.prototype.handle_close = function(fig, msg) {\n",
       "    var width = fig.canvas.width/mpl.ratio\n",
       "    fig.root.unbind('remove')\n",
       "\n",
       "    // Update the output cell to use the data from the current canvas.\n",
       "    fig.push_to_output();\n",
       "    var dataURL = fig.canvas.toDataURL();\n",
       "    // Re-enable the keyboard manager in IPython - without this line, in FF,\n",
       "    // the notebook keyboard shortcuts fail.\n",
       "    IPython.keyboard_manager.enable()\n",
       "    $(fig.parent_element).html('<img src=\"' + dataURL + '\" width=\"' + width + '\">');\n",
       "    fig.close_ws(fig, msg);\n",
       "}\n",
       "\n",
       "mpl.figure.prototype.close_ws = function(fig, msg){\n",
       "    fig.send_message('closing', msg);\n",
       "    // fig.ws.close()\n",
       "}\n",
       "\n",
       "mpl.figure.prototype.push_to_output = function(remove_interactive) {\n",
       "    // Turn the data on the canvas into data in the output cell.\n",
       "    var width = this.canvas.width/mpl.ratio\n",
       "    var dataURL = this.canvas.toDataURL();\n",
       "    this.cell_info[1]['text/html'] = '<img src=\"' + dataURL + '\" width=\"' + width + '\">';\n",
       "}\n",
       "\n",
       "mpl.figure.prototype.updated_canvas_event = function() {\n",
       "    // Tell IPython that the notebook contents must change.\n",
       "    IPython.notebook.set_dirty(true);\n",
       "    this.send_message(\"ack\", {});\n",
       "    var fig = this;\n",
       "    // Wait a second, then push the new image to the DOM so\n",
       "    // that it is saved nicely (might be nice to debounce this).\n",
       "    setTimeout(function () { fig.push_to_output() }, 1000);\n",
       "}\n",
       "\n",
       "mpl.figure.prototype._init_toolbar = function() {\n",
       "    var fig = this;\n",
       "\n",
       "    var nav_element = $('<div/>');\n",
       "    nav_element.attr('style', 'width: 100%');\n",
       "    this.root.append(nav_element);\n",
       "\n",
       "    // Define a callback function for later on.\n",
       "    function toolbar_event(event) {\n",
       "        return fig.toolbar_button_onclick(event['data']);\n",
       "    }\n",
       "    function toolbar_mouse_event(event) {\n",
       "        return fig.toolbar_button_onmouseover(event['data']);\n",
       "    }\n",
       "\n",
       "    for(var toolbar_ind in mpl.toolbar_items){\n",
       "        var name = mpl.toolbar_items[toolbar_ind][0];\n",
       "        var tooltip = mpl.toolbar_items[toolbar_ind][1];\n",
       "        var image = mpl.toolbar_items[toolbar_ind][2];\n",
       "        var method_name = mpl.toolbar_items[toolbar_ind][3];\n",
       "\n",
       "        if (!name) { continue; };\n",
       "\n",
       "        var button = $('<button class=\"btn btn-default\" href=\"#\" title=\"' + name + '\"><i class=\"fa ' + image + ' fa-lg\"></i></button>');\n",
       "        button.click(method_name, toolbar_event);\n",
       "        button.mouseover(tooltip, toolbar_mouse_event);\n",
       "        nav_element.append(button);\n",
       "    }\n",
       "\n",
       "    // Add the status bar.\n",
       "    var status_bar = $('<span class=\"mpl-message\" style=\"text-align:right; float: right;\"/>');\n",
       "    nav_element.append(status_bar);\n",
       "    this.message = status_bar[0];\n",
       "\n",
       "    // Add the close button to the window.\n",
       "    var buttongrp = $('<div class=\"btn-group inline pull-right\"></div>');\n",
       "    var button = $('<button class=\"btn btn-mini btn-primary\" href=\"#\" title=\"Stop Interaction\"><i class=\"fa fa-power-off icon-remove icon-large\"></i></button>');\n",
       "    button.click(function (evt) { fig.handle_close(fig, {}); } );\n",
       "    button.mouseover('Stop Interaction', toolbar_mouse_event);\n",
       "    buttongrp.append(button);\n",
       "    var titlebar = this.root.find($('.ui-dialog-titlebar'));\n",
       "    titlebar.prepend(buttongrp);\n",
       "}\n",
       "\n",
       "mpl.figure.prototype._root_extra_style = function(el){\n",
       "    var fig = this\n",
       "    el.on(\"remove\", function(){\n",
       "\tfig.close_ws(fig, {});\n",
       "    });\n",
       "}\n",
       "\n",
       "mpl.figure.prototype._canvas_extra_style = function(el){\n",
       "    // this is important to make the div 'focusable\n",
       "    el.attr('tabindex', 0)\n",
       "    // reach out to IPython and tell the keyboard manager to turn it's self\n",
       "    // off when our div gets focus\n",
       "\n",
       "    // location in version 3\n",
       "    if (IPython.notebook.keyboard_manager) {\n",
       "        IPython.notebook.keyboard_manager.register_events(el);\n",
       "    }\n",
       "    else {\n",
       "        // location in version 2\n",
       "        IPython.keyboard_manager.register_events(el);\n",
       "    }\n",
       "\n",
       "}\n",
       "\n",
       "mpl.figure.prototype._key_event_extra = function(event, name) {\n",
       "    var manager = IPython.notebook.keyboard_manager;\n",
       "    if (!manager)\n",
       "        manager = IPython.keyboard_manager;\n",
       "\n",
       "    // Check for shift+enter\n",
       "    if (event.shiftKey && event.which == 13) {\n",
       "        this.canvas_div.blur();\n",
       "        // select the cell after this one\n",
       "        var index = IPython.notebook.find_cell_index(this.cell_info[0]);\n",
       "        IPython.notebook.select(index + 1);\n",
       "    }\n",
       "}\n",
       "\n",
       "mpl.figure.prototype.handle_save = function(fig, msg) {\n",
       "    fig.ondownload(fig, null);\n",
       "}\n",
       "\n",
       "\n",
       "mpl.find_output_cell = function(html_output) {\n",
       "    // Return the cell and output element which can be found *uniquely* in the notebook.\n",
       "    // Note - this is a bit hacky, but it is done because the \"notebook_saving.Notebook\"\n",
       "    // IPython event is triggered only after the cells have been serialised, which for\n",
       "    // our purposes (turning an active figure into a static one), is too late.\n",
       "    var cells = IPython.notebook.get_cells();\n",
       "    var ncells = cells.length;\n",
       "    for (var i=0; i<ncells; i++) {\n",
       "        var cell = cells[i];\n",
       "        if (cell.cell_type === 'code'){\n",
       "            for (var j=0; j<cell.output_area.outputs.length; j++) {\n",
       "                var data = cell.output_area.outputs[j];\n",
       "                if (data.data) {\n",
       "                    // IPython >= 3 moved mimebundle to data attribute of output\n",
       "                    data = data.data;\n",
       "                }\n",
       "                if (data['text/html'] == html_output) {\n",
       "                    return [cell, data, j];\n",
       "                }\n",
       "            }\n",
       "        }\n",
       "    }\n",
       "}\n",
       "\n",
       "// Register the function which deals with the matplotlib target/channel.\n",
       "// The kernel may be null if the page has been refreshed.\n",
       "if (IPython.notebook.kernel != null) {\n",
       "    IPython.notebook.kernel.comm_manager.register_target('matplotlib', mpl.mpl_figure_comm);\n",
       "}\n"
      ],
      "text/plain": [
       "<IPython.core.display.Javascript object>"
      ]
     },
     "metadata": {},
     "output_type": "display_data"
    },
    {
     "data": {
      "text/html": [
       "<img src=\"data:image/png;base64,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\" width=\"800\">"
      ],
      "text/plain": [
       "<IPython.core.display.HTML object>"
      ]
     },
     "metadata": {},
     "output_type": "display_data"
    },
    {
     "data": {
      "text/plain": [
       "Text(0.5, 0.92, 'Elems de arreglo 3D')"
      ]
     },
     "execution_count": 159,
     "metadata": {},
     "output_type": "execute_result"
    }
   ],
   "source": [
    "fig = plt.figure(figsize=(8,6))\n",
    "ax = fig.gca(projection='3d')\n",
    "ax.scatter3D(X, Y, Z, s=100*array3d)\n",
    "ax.set_label(r'Elemts  en arreglo 3D')\n",
    "ax.set_xlabel(r'Indice $i$', fontsize=18)\n",
    "ax.set_ylabel(r'Indice $j$', fontsize=18)\n",
    "ax.set_zlabel(r'Indice $k$', fontsize=18)\n",
    "ax.set_title('Elems de arreglo 3D',fontsize=18)"
   ]
  },
  {
   "cell_type": "code",
   "execution_count": 160,
   "metadata": {
    "jupyter": {
     "outputs_hidden": true
    }
   },
   "outputs": [
    {
     "data": {
      "text/plain": [
       "9"
      ]
     },
     "execution_count": 160,
     "metadata": {},
     "output_type": "execute_result"
    }
   ],
   "source": [
    "array3d[1,1,0]"
   ]
  },
  {
   "cell_type": "code",
   "execution_count": 161,
   "metadata": {
    "jupyter": {
     "outputs_hidden": true
    }
   },
   "outputs": [
    {
     "data": {
      "text/plain": [
       "(1, 2, 1, 9)"
      ]
     },
     "execution_count": 161,
     "metadata": {},
     "output_type": "execute_result"
    }
   ],
   "source": [
    "# Se varía axis=0\n",
    "j = 0 \n",
    "k = 0\n",
    "array3d[0,j,k], array3d[1,j,k], array3d[2,j,k], array3d[3,j,k]"
   ]
  },
  {
   "cell_type": "code",
   "execution_count": 162,
   "metadata": {
    "jupyter": {
     "outputs_hidden": true
    }
   },
   "outputs": [
    {
     "data": {
      "text/plain": [
       "(2, 3, 2, 10)"
      ]
     },
     "execution_count": 162,
     "metadata": {},
     "output_type": "execute_result"
    }
   ],
   "source": [
    "# Se varía axis=0\n",
    "j = 0 \n",
    "k = 1\n",
    "array3d[0,j,k], array3d[1,j,k], array3d[2,j,k], array3d[3,j,k]"
   ]
  },
  {
   "cell_type": "code",
   "execution_count": 163,
   "metadata": {
    "jupyter": {
     "outputs_hidden": true
    }
   },
   "outputs": [
    {
     "ename": "IndexError",
     "evalue": "index 2 is out of bounds for axis 2 with size 2",
     "output_type": "error",
     "traceback": [
      "\u001b[1;31m---------------------------------------------------------------------------\u001b[0m",
      "\u001b[1;31mIndexError\u001b[0m                                Traceback (most recent call last)",
      "\u001b[1;32m<ipython-input-163-e68c193a7a74>\u001b[0m in \u001b[0;36m<module>\u001b[1;34m\u001b[0m\n\u001b[0;32m      2\u001b[0m \u001b[0mj\u001b[0m \u001b[1;33m=\u001b[0m \u001b[1;36m0\u001b[0m\u001b[1;33m\u001b[0m\u001b[1;33m\u001b[0m\u001b[0m\n\u001b[0;32m      3\u001b[0m \u001b[0mk\u001b[0m \u001b[1;33m=\u001b[0m \u001b[1;36m2\u001b[0m\u001b[1;33m\u001b[0m\u001b[1;33m\u001b[0m\u001b[0m\n\u001b[1;32m----> 4\u001b[1;33m \u001b[0marray3d\u001b[0m\u001b[1;33m[\u001b[0m\u001b[1;36m0\u001b[0m\u001b[1;33m,\u001b[0m\u001b[0mj\u001b[0m\u001b[1;33m,\u001b[0m\u001b[0mk\u001b[0m\u001b[1;33m]\u001b[0m\u001b[1;33m,\u001b[0m \u001b[0marray3d\u001b[0m\u001b[1;33m[\u001b[0m\u001b[1;36m1\u001b[0m\u001b[1;33m,\u001b[0m\u001b[0mj\u001b[0m\u001b[1;33m,\u001b[0m\u001b[0mk\u001b[0m\u001b[1;33m]\u001b[0m\u001b[1;33m,\u001b[0m \u001b[0marray3d\u001b[0m\u001b[1;33m[\u001b[0m\u001b[1;36m2\u001b[0m\u001b[1;33m,\u001b[0m\u001b[0mj\u001b[0m\u001b[1;33m,\u001b[0m\u001b[0mk\u001b[0m\u001b[1;33m]\u001b[0m\u001b[1;33m,\u001b[0m \u001b[0marray3d\u001b[0m\u001b[1;33m[\u001b[0m\u001b[1;36m3\u001b[0m\u001b[1;33m,\u001b[0m\u001b[0mj\u001b[0m\u001b[1;33m,\u001b[0m\u001b[0mk\u001b[0m\u001b[1;33m]\u001b[0m\u001b[1;33m\u001b[0m\u001b[1;33m\u001b[0m\u001b[0m\n\u001b[0m",
      "\u001b[1;31mIndexError\u001b[0m: index 2 is out of bounds for axis 2 with size 2"
     ]
    }
   ],
   "source": [
    "# Se varía axis=0 y se saca de rango\n",
    "j = 0 \n",
    "k = 2\n",
    "array3d[0,j,k], array3d[1,j,k], array3d[2,j,k], array3d[3,j,k]"
   ]
  },
  {
   "cell_type": "code",
   "execution_count": 164,
   "metadata": {
    "jupyter": {
     "outputs_hidden": true
    }
   },
   "outputs": [
    {
     "data": {
      "text/plain": [
       "(1, 4, 7)"
      ]
     },
     "execution_count": 164,
     "metadata": {},
     "output_type": "execute_result"
    }
   ],
   "source": [
    "# Se varía axis=1\n",
    "i = 0\n",
    "k = 0\n",
    "array3d[i,0,k], array3d[i,1,k], array3d[i,2,k]"
   ]
  },
  {
   "cell_type": "code",
   "execution_count": 165,
   "metadata": {
    "jupyter": {
     "outputs_hidden": true
    }
   },
   "outputs": [
    {
     "data": {
      "text/plain": [
       "(2, 9, 7)"
      ]
     },
     "execution_count": 165,
     "metadata": {},
     "output_type": "execute_result"
    }
   ],
   "source": [
    "# Se varía axis=1\n",
    "i = 1\n",
    "k = 0\n",
    "array3d[i,0,k], array3d[i,1,k], array3d[i,2,k]"
   ]
  },
  {
   "cell_type": "code",
   "execution_count": 166,
   "metadata": {
    "jupyter": {
     "outputs_hidden": true
    }
   },
   "outputs": [
    {
     "data": {
      "text/plain": [
       "(1, 3, 0)"
      ]
     },
     "execution_count": 166,
     "metadata": {},
     "output_type": "execute_result"
    }
   ],
   "source": [
    "# Se varía axis=1\n",
    "i = 2\n",
    "k = 0\n",
    "array3d[i,0,k], array3d[i,1,k], array3d[i,2,k]"
   ]
  },
  {
   "cell_type": "code",
   "execution_count": 167,
   "metadata": {
    "jupyter": {
     "outputs_hidden": true
    }
   },
   "outputs": [
    {
     "data": {
      "text/plain": [
       "(9, 6, 9)"
      ]
     },
     "execution_count": 167,
     "metadata": {},
     "output_type": "execute_result"
    }
   ],
   "source": [
    "# Se varía axis=1\n",
    "i = 3\n",
    "k = 0\n",
    "array3d[i,0,k], array3d[i,1,k], array3d[i,2,k]"
   ]
  },
  {
   "cell_type": "code",
   "execution_count": 168,
   "metadata": {
    "jupyter": {
     "outputs_hidden": true
    }
   },
   "outputs": [
    {
     "name": "stdout",
     "output_type": "stream",
     "text": [
      "0 0 0 1\n",
      "0 0 1 2\n",
      "0 1 0 4\n",
      "0 1 1 3\n",
      "0 2 0 7\n",
      "0 2 1 4\n",
      "1 0 0 2\n",
      "1 0 1 3\n",
      "1 1 0 9\n",
      "1 1 1 8\n",
      "1 2 0 7\n",
      "1 2 1 5\n",
      "2 0 0 1\n",
      "2 0 1 2\n",
      "2 1 0 3\n",
      "2 1 1 2\n",
      "2 2 0 0\n",
      "2 2 1 2\n",
      "3 0 0 9\n",
      "3 0 1 10\n",
      "3 1 0 6\n",
      "3 1 1 5\n",
      "3 2 0 9\n",
      "3 2 1 8\n"
     ]
    }
   ],
   "source": [
    "for i in range(4):\n",
    "    for j in range(3):\n",
    "        for k in range(2):\n",
    "            print(i, j, k, array3d[i, j, k])\n",
    "#            print('array3d[%s,%s,%s] = %d'%(i, j, k, array3d[i, j, k]))"
   ]
  },
  {
   "cell_type": "code",
   "execution_count": null,
   "metadata": {
    "collapsed": true,
    "jupyter": {
     "outputs_hidden": true
    }
   },
   "outputs": [],
   "source": [
    "#Comparando los 3 arreglos multidimensionales."
   ]
  },
  {
   "cell_type": "code",
   "execution_count": 169,
   "metadata": {
    "jupyter": {
     "outputs_hidden": true
    }
   },
   "outputs": [
    {
     "data": {
      "text/plain": [
       "(4, 8, 4)"
      ]
     },
     "execution_count": 169,
     "metadata": {},
     "output_type": "execute_result"
    }
   ],
   "source": [
    "array1d.itemsize, array2d.itemsize, array3d.itemsize # los bits de cada elemento"
   ]
  },
  {
   "cell_type": "code",
   "execution_count": 170,
   "metadata": {
    "jupyter": {
     "outputs_hidden": true
    }
   },
   "outputs": [
    {
     "data": {
      "text/plain": [
       "(16, 48, 96)"
      ]
     },
     "execution_count": 170,
     "metadata": {},
     "output_type": "execute_result"
    }
   ],
   "source": [
    "array1d.nbytes, array2d.nbytes, array3d.nbytes # número de bytes"
   ]
  },
  {
   "cell_type": "code",
   "execution_count": 171,
   "metadata": {
    "jupyter": {
     "outputs_hidden": true
    }
   },
   "outputs": [
    {
     "data": {
      "text/plain": [
       "(1, 2, 3)"
      ]
     },
     "execution_count": 171,
     "metadata": {},
     "output_type": "execute_result"
    }
   ],
   "source": [
    "array1d.ndim, array2d.ndim, array3d.ndim # número de dimensiones"
   ]
  },
  {
   "cell_type": "markdown",
   "metadata": {},
   "source": [
    "## Reasignando elementos de arreglo"
   ]
  },
  {
   "cell_type": "code",
   "execution_count": 172,
   "metadata": {
    "jupyter": {
     "outputs_hidden": true
    }
   },
   "outputs": [
    {
     "data": {
      "text/plain": [
       "array([ 7,  2,  9, 10])"
      ]
     },
     "execution_count": 172,
     "metadata": {},
     "output_type": "execute_result"
    }
   ],
   "source": [
    "array1d"
   ]
  },
  {
   "cell_type": "code",
   "execution_count": 173,
   "metadata": {
    "jupyter": {
     "outputs_hidden": true
    }
   },
   "outputs": [],
   "source": [
    "array1d[1] = 30."
   ]
  },
  {
   "cell_type": "code",
   "execution_count": 174,
   "metadata": {
    "jupyter": {
     "outputs_hidden": true
    }
   },
   "outputs": [
    {
     "data": {
      "text/plain": [
       "array([ 7, 30,  9, 10])"
      ]
     },
     "execution_count": 174,
     "metadata": {},
     "output_type": "execute_result"
    }
   ],
   "source": [
    "array1d"
   ]
  },
  {
   "cell_type": "markdown",
   "metadata": {},
   "source": [
    "Se obtiene un error si intentamos asignar un valor de un tipo equivocado a un elemento de un arreglo numpy:"
   ]
  },
  {
   "cell_type": "code",
   "execution_count": 175,
   "metadata": {
    "jupyter": {
     "outputs_hidden": true
    }
   },
   "outputs": [
    {
     "data": {
      "text/plain": [
       "array([[5.2, 3. , 4.5],\n",
       "       [9.1, 0.1, 0.3]])"
      ]
     },
     "execution_count": 175,
     "metadata": {},
     "output_type": "execute_result"
    }
   ],
   "source": [
    "array2d"
   ]
  },
  {
   "cell_type": "code",
   "execution_count": 176,
   "metadata": {
    "jupyter": {
     "outputs_hidden": true
    }
   },
   "outputs": [
    {
     "ename": "ValueError",
     "evalue": "could not convert string to float: 'Hola Mundo'",
     "output_type": "error",
     "traceback": [
      "\u001b[1;31m---------------------------------------------------------------------------\u001b[0m",
      "\u001b[1;31mValueError\u001b[0m                                Traceback (most recent call last)",
      "\u001b[1;32m<ipython-input-176-35e6816302f4>\u001b[0m in \u001b[0;36m<module>\u001b[1;34m\u001b[0m\n\u001b[0;32m      1\u001b[0m \u001b[1;31m#Intentando reasignar valor\u001b[0m\u001b[1;33m\u001b[0m\u001b[1;33m\u001b[0m\u001b[1;33m\u001b[0m\u001b[0m\n\u001b[1;32m----> 2\u001b[1;33m \u001b[0marray2d\u001b[0m\u001b[1;33m[\u001b[0m\u001b[1;36m0\u001b[0m\u001b[1;33m,\u001b[0m\u001b[1;36m0\u001b[0m\u001b[1;33m]\u001b[0m \u001b[1;33m=\u001b[0m \u001b[1;34m\"Hola Mundo\"\u001b[0m\u001b[1;33m\u001b[0m\u001b[1;33m\u001b[0m\u001b[0m\n\u001b[0m",
      "\u001b[1;31mValueError\u001b[0m: could not convert string to float: 'Hola Mundo'"
     ]
    }
   ],
   "source": [
    "#Intentando reasignar valor\n",
    "array2d[0,0] = \"Hola Mundo\""
   ]
  },
  {
   "cell_type": "code",
   "execution_count": null,
   "metadata": {
    "collapsed": true,
    "jupyter": {
     "outputs_hidden": true
    }
   },
   "outputs": [],
   "source": [
    "#Intentando reasignar valor\n",
    "array2d[0,0] = [3, 5, 7]"
   ]
  },
  {
   "cell_type": "code",
   "execution_count": null,
   "metadata": {
    "collapsed": true,
    "jupyter": {
     "outputs_hidden": true
    }
   },
   "outputs": [],
   "source": [
    "#Intentando reasignar valor\n",
    "array2d[0,0] = (3, 5, 7)"
   ]
  },
  {
   "cell_type": "markdown",
   "metadata": {},
   "source": [
    "Si lo deseamos, podemos definir explícitamente el tipo de datos de un arreglo cuando lo creamos, usando el argumento `dtype`: "
   ]
  },
  {
   "cell_type": "code",
   "execution_count": 177,
   "metadata": {
    "jupyter": {
     "outputs_hidden": true
    }
   },
   "outputs": [
    {
     "data": {
      "text/plain": [
       "array([[1.+0.j, 2.+0.j],\n",
       "       [3.+0.j, 4.+0.j]])"
      ]
     },
     "execution_count": 177,
     "metadata": {},
     "output_type": "execute_result"
    }
   ],
   "source": [
    "array2d = np.array([[1, 2], [3, 4]], dtype=complex)\n",
    "array2d"
   ]
  },
  {
   "cell_type": "markdown",
   "metadata": {},
   "source": [
    "Algunos tipos comunes que pueden ser usados con `dtype` son: `int`, `float`, `complex`, `bool`, `object`, etc.\n",
    "\n",
    "Podemos también definir explícitamente el número de bit de los tipos de datos, por ejemplo: `int64`, `int16`, `float64`, `complex64`."
   ]
  },
  {
   "cell_type": "code",
   "execution_count": 178,
   "metadata": {
    "jupyter": {
     "outputs_hidden": true
    }
   },
   "outputs": [
    {
     "data": {
      "text/plain": [
       "array([[1.+0.j, 2.+0.j],\n",
       "       [3.+0.j, 4.+0.j]], dtype=complex64)"
      ]
     },
     "execution_count": 178,
     "metadata": {},
     "output_type": "execute_result"
    }
   ],
   "source": [
    "array2d = np.array([[1, 2], [3, 4]], dtype=np.complex64)\n",
    "array2d"
   ]
  },
  {
   "cell_type": "code",
   "execution_count": 179,
   "metadata": {
    "jupyter": {
     "outputs_hidden": true
    }
   },
   "outputs": [
    {
     "data": {
      "text/plain": [
       "array([['a', 'b'],\n",
       "       ['c', 'd']], dtype='<U1')"
      ]
     },
     "execution_count": 179,
     "metadata": {},
     "output_type": "execute_result"
    }
   ],
   "source": [
    "array2d = np.array([['a', 'b'], ['c', 'd']])\n",
    "array2d"
   ]
  },
  {
   "cell_type": "code",
   "execution_count": 180,
   "metadata": {
    "jupyter": {
     "outputs_hidden": true
    }
   },
   "outputs": [
    {
     "data": {
      "text/plain": [
       "array([['1', 'a b c'],\n",
       "       ['3', '4']], dtype='<U11')"
      ]
     },
     "execution_count": 180,
     "metadata": {},
     "output_type": "execute_result"
    }
   ],
   "source": [
    "array2d = np.array([[1, 'a b c'], [3, 4]])\n",
    "array2d"
   ]
  },
  {
   "cell_type": "code",
   "execution_count": 181,
   "metadata": {
    "jupyter": {
     "outputs_hidden": true
    }
   },
   "outputs": [
    {
     "data": {
      "text/plain": [
       "array([[1, 'a b c'],\n",
       "       [3, array([ 7, 30,  9, 10])]], dtype=object)"
      ]
     },
     "execution_count": 181,
     "metadata": {},
     "output_type": "execute_result"
    }
   ],
   "source": [
    "array2d = np.array([[1, 'a b c'], [3, array1d]])\n",
    "array2d"
   ]
  },
  {
   "cell_type": "code",
   "execution_count": 182,
   "metadata": {
    "jupyter": {
     "outputs_hidden": true
    }
   },
   "outputs": [
    {
     "data": {
      "text/plain": [
       "array([[1, 'a b c'],\n",
       "       [list([7, 5]), 4]], dtype=object)"
      ]
     },
     "execution_count": 182,
     "metadata": {},
     "output_type": "execute_result"
    }
   ],
   "source": [
    "array2d = np.array([[1, 'a b c'], [[7,5], 4]])\n",
    "array2d"
   ]
  },
  {
   "cell_type": "markdown",
   "metadata": {},
   "source": [
    "## Corte de índices, Seleccion Rangos\n",
    "\n",
    "Corte (slicing) de índices es el nombre para la sintaxis `M[desde:hasta:paso]` para extraer una parte de un arreglo:"
   ]
  },
  {
   "cell_type": "markdown",
   "metadata": {},
   "source": [
    "#### 1D"
   ]
  },
  {
   "cell_type": "code",
   "execution_count": 183,
   "metadata": {
    "jupyter": {
     "outputs_hidden": true
    }
   },
   "outputs": [
    {
     "data": {
      "text/plain": [
       "array([1, 2, 3, 4, 5])"
      ]
     },
     "execution_count": 183,
     "metadata": {},
     "output_type": "execute_result"
    }
   ],
   "source": [
    "array1d = np.array([1,2,3,4,5])\n",
    "array1d"
   ]
  },
  {
   "cell_type": "code",
   "execution_count": 184,
   "metadata": {
    "jupyter": {
     "outputs_hidden": true
    }
   },
   "outputs": [
    {
     "data": {
      "text/plain": [
       "array([2, 3])"
      ]
     },
     "execution_count": 184,
     "metadata": {},
     "output_type": "execute_result"
    }
   ],
   "source": [
    "#recordemos\n",
    "inicio = 1\n",
    "final = 3 # end NO es incluido\n",
    "paso = 1 # 1por defecto\n",
    "#paso = 2 \n",
    "array1d[inicio:final:paso]"
   ]
  },
  {
   "cell_type": "markdown",
   "metadata": {},
   "source": [
    "Los cortes de índices son *mutables*: si se les asigna un nuevo valor el arreglo original es modificado:"
   ]
  },
  {
   "cell_type": "code",
   "execution_count": 185,
   "metadata": {
    "jupyter": {
     "outputs_hidden": true
    }
   },
   "outputs": [
    {
     "data": {
      "text/plain": [
       "array([ 1, -2, -3,  4,  5])"
      ]
     },
     "execution_count": 185,
     "metadata": {},
     "output_type": "execute_result"
    }
   ],
   "source": [
    "array1d[1:3] = [-2,-3]\n",
    "array1d"
   ]
  },
  {
   "cell_type": "markdown",
   "metadata": {},
   "source": [
    "Podemos omitir cualquiera de los tres parámetros en  `M[desde:hasta:paso]`:"
   ]
  },
  {
   "cell_type": "code",
   "execution_count": 186,
   "metadata": {
    "jupyter": {
     "outputs_hidden": true
    }
   },
   "outputs": [
    {
     "data": {
      "text/plain": [
       "array([ 1, -2, -3,  4,  5])"
      ]
     },
     "execution_count": 186,
     "metadata": {},
     "output_type": "execute_result"
    }
   ],
   "source": [
    "array1d[::] # desde, hasta y paso asumen los valores por defecto"
   ]
  },
  {
   "cell_type": "code",
   "execution_count": 187,
   "metadata": {
    "jupyter": {
     "outputs_hidden": true
    }
   },
   "outputs": [
    {
     "data": {
      "text/plain": [
       "array([ 1, -3,  5])"
      ]
     },
     "execution_count": 187,
     "metadata": {},
     "output_type": "execute_result"
    }
   ],
   "source": [
    "array1d[::2] # el paso es 2, desde y hasta se asumen desde el comienzo hasta el fin del arreglo"
   ]
  },
  {
   "cell_type": "code",
   "execution_count": 188,
   "metadata": {
    "jupyter": {
     "outputs_hidden": true
    }
   },
   "outputs": [
    {
     "data": {
      "text/plain": [
       "array([ 1, -2, -3])"
      ]
     },
     "execution_count": 188,
     "metadata": {},
     "output_type": "execute_result"
    }
   ],
   "source": [
    "array1d[:3] # primeros tres elementos"
   ]
  },
  {
   "cell_type": "code",
   "execution_count": 189,
   "metadata": {
    "jupyter": {
     "outputs_hidden": true
    }
   },
   "outputs": [
    {
     "data": {
      "text/plain": [
       "array([4, 5])"
      ]
     },
     "execution_count": 189,
     "metadata": {},
     "output_type": "execute_result"
    }
   ],
   "source": [
    "array1d[3:] # elementos desde el índice 3"
   ]
  },
  {
   "cell_type": "markdown",
   "metadata": {},
   "source": [
    "Los índices negativos se cuentan desde el fin del arreglo (los índices positivos desde el comienzo):"
   ]
  },
  {
   "cell_type": "code",
   "execution_count": 190,
   "metadata": {
    "jupyter": {
     "outputs_hidden": true
    }
   },
   "outputs": [],
   "source": [
    "array1d = np.array([1, 2, 3, 4, 5])"
   ]
  },
  {
   "cell_type": "code",
   "execution_count": 191,
   "metadata": {
    "jupyter": {
     "outputs_hidden": true
    }
   },
   "outputs": [
    {
     "data": {
      "text/plain": [
       "5"
      ]
     },
     "execution_count": 191,
     "metadata": {},
     "output_type": "execute_result"
    }
   ],
   "source": [
    "array1d[-1] # el último elemento del arreglo"
   ]
  },
  {
   "cell_type": "code",
   "execution_count": 192,
   "metadata": {
    "jupyter": {
     "outputs_hidden": true
    }
   },
   "outputs": [
    {
     "data": {
      "text/plain": [
       "array([3, 4, 5])"
      ]
     },
     "execution_count": 192,
     "metadata": {},
     "output_type": "execute_result"
    }
   ],
   "source": [
    "array1d[-3:] # los últimos 3 elementos"
   ]
  },
  {
   "cell_type": "markdown",
   "metadata": {},
   "source": [
    "#### 2D"
   ]
  },
  {
   "cell_type": "markdown",
   "metadata": {},
   "source": [
    "El corte de índices funciona exactamente del mismo modo para arreglos multidimensionales:"
   ]
  },
  {
   "cell_type": "code",
   "execution_count": 193,
   "metadata": {
    "jupyter": {
     "outputs_hidden": true
    }
   },
   "outputs": [
    {
     "data": {
      "text/plain": [
       "array([1, 'a b c'], dtype=object)"
      ]
     },
     "execution_count": 193,
     "metadata": {},
     "output_type": "execute_result"
    }
   ],
   "source": [
    "#selecciona fila=0\n",
    "i = 0\n",
    "array2d[i,:]"
   ]
  },
  {
   "cell_type": "code",
   "execution_count": 194,
   "metadata": {
    "jupyter": {
     "outputs_hidden": true
    }
   },
   "outputs": [
    {
     "data": {
      "text/plain": [
       "array([list([7, 5]), 4], dtype=object)"
      ]
     },
     "execution_count": 194,
     "metadata": {},
     "output_type": "execute_result"
    }
   ],
   "source": [
    "#selecciona fila=1\n",
    "i = 1\n",
    "array2d[i,:]"
   ]
  },
  {
   "cell_type": "code",
   "execution_count": 195,
   "metadata": {
    "jupyter": {
     "outputs_hidden": true
    }
   },
   "outputs": [
    {
     "data": {
      "text/plain": [
       "array([1, list([7, 5])], dtype=object)"
      ]
     },
     "execution_count": 195,
     "metadata": {},
     "output_type": "execute_result"
    }
   ],
   "source": [
    "#selecciona col=0\n",
    "j = 0\n",
    "array2d[:,j]"
   ]
  },
  {
   "cell_type": "code",
   "execution_count": 196,
   "metadata": {
    "jupyter": {
     "outputs_hidden": true
    }
   },
   "outputs": [
    {
     "data": {
      "text/plain": [
       "array(['a b c', 4], dtype=object)"
      ]
     },
     "execution_count": 196,
     "metadata": {},
     "output_type": "execute_result"
    }
   ],
   "source": [
    "#selecciona col=1\n",
    "j = 1\n",
    "array2d[:,j]"
   ]
  },
  {
   "cell_type": "code",
   "execution_count": 197,
   "metadata": {
    "jupyter": {
     "outputs_hidden": true
    }
   },
   "outputs": [
    {
     "ename": "IndexError",
     "evalue": "index 2 is out of bounds for axis 1 with size 2",
     "output_type": "error",
     "traceback": [
      "\u001b[1;31m---------------------------------------------------------------------------\u001b[0m",
      "\u001b[1;31mIndexError\u001b[0m                                Traceback (most recent call last)",
      "\u001b[1;32m<ipython-input-197-2ee10ab5f2d7>\u001b[0m in \u001b[0;36m<module>\u001b[1;34m\u001b[0m\n\u001b[0;32m      1\u001b[0m \u001b[1;31m#selecciona col=2\u001b[0m\u001b[1;33m\u001b[0m\u001b[1;33m\u001b[0m\u001b[1;33m\u001b[0m\u001b[0m\n\u001b[0;32m      2\u001b[0m \u001b[0mj\u001b[0m \u001b[1;33m=\u001b[0m \u001b[1;36m2\u001b[0m\u001b[1;33m\u001b[0m\u001b[1;33m\u001b[0m\u001b[0m\n\u001b[1;32m----> 3\u001b[1;33m \u001b[0marray2d\u001b[0m\u001b[1;33m[\u001b[0m\u001b[1;33m:\u001b[0m\u001b[1;33m,\u001b[0m\u001b[0mj\u001b[0m\u001b[1;33m]\u001b[0m\u001b[1;33m\u001b[0m\u001b[1;33m\u001b[0m\u001b[0m\n\u001b[0m",
      "\u001b[1;31mIndexError\u001b[0m: index 2 is out of bounds for axis 1 with size 2"
     ]
    }
   ],
   "source": [
    "#selecciona col=2\n",
    "j = 2\n",
    "array2d[:,j]"
   ]
  },
  {
   "cell_type": "code",
   "execution_count": 198,
   "metadata": {
    "jupyter": {
     "outputs_hidden": true
    }
   },
   "outputs": [
    {
     "data": {
      "text/plain": [
       "array([[ 0,  1,  2,  3,  4],\n",
       "       [10, 11, 12, 13, 14],\n",
       "       [20, 21, 22, 23, 24],\n",
       "       [30, 31, 32, 33, 34],\n",
       "       [40, 41, 42, 43, 44]])"
      ]
     },
     "execution_count": 198,
     "metadata": {},
     "output_type": "execute_result"
    }
   ],
   "source": [
    "# Se define matriz con una lista comprimida\n",
    "array2d = np.array([[n+m*10 for n in range(5)] for m in range(5)])\n",
    "array2d"
   ]
  },
  {
   "cell_type": "code",
   "execution_count": 199,
   "metadata": {
    "jupyter": {
     "outputs_hidden": true
    }
   },
   "outputs": [
    {
     "data": {
      "text/plain": [
       "array([[11, 12, 13],\n",
       "       [21, 22, 23],\n",
       "       [31, 32, 33]])"
      ]
     },
     "execution_count": 199,
     "metadata": {},
     "output_type": "execute_result"
    }
   ],
   "source": [
    "# un bloque parte del arreglo original\n",
    "array2d[1:4, 1:4]"
   ]
  },
  {
   "cell_type": "code",
   "execution_count": 200,
   "metadata": {
    "jupyter": {
     "outputs_hidden": true
    }
   },
   "outputs": [
    {
     "data": {
      "text/plain": [
       "array([[ 0,  2,  4],\n",
       "       [20, 22, 24],\n",
       "       [40, 42, 44]])"
      ]
     },
     "execution_count": 200,
     "metadata": {},
     "output_type": "execute_result"
    }
   ],
   "source": [
    "# elemento por medio\n",
    "array2d[::2, ::2]"
   ]
  },
  {
   "cell_type": "markdown",
   "metadata": {},
   "source": [
    "#### 3D"
   ]
  },
  {
   "cell_type": "code",
   "execution_count": 201,
   "metadata": {
    "jupyter": {
     "outputs_hidden": true
    }
   },
   "outputs": [
    {
     "data": {
      "text/plain": [
       "array([[1, 2],\n",
       "       [4, 3],\n",
       "       [7, 4]])"
      ]
     },
     "execution_count": 201,
     "metadata": {},
     "output_type": "execute_result"
    }
   ],
   "source": [
    "#selecciona fila=0\n",
    "i = 0\n",
    "array3d[i,:,:]"
   ]
  },
  {
   "cell_type": "code",
   "execution_count": 202,
   "metadata": {
    "jupyter": {
     "outputs_hidden": true
    }
   },
   "outputs": [
    {
     "data": {
      "text/plain": [
       "array([[ 1,  2],\n",
       "       [ 2,  3],\n",
       "       [ 1,  2],\n",
       "       [ 9, 10]])"
      ]
     },
     "execution_count": 202,
     "metadata": {},
     "output_type": "execute_result"
    }
   ],
   "source": [
    "#selecciona col=0\n",
    "j = 0\n",
    "array3d[:,j,:]"
   ]
  },
  {
   "cell_type": "code",
   "execution_count": 203,
   "metadata": {
    "jupyter": {
     "outputs_hidden": true
    }
   },
   "outputs": [
    {
     "data": {
      "text/plain": [
       "array([[1, 4, 7],\n",
       "       [2, 9, 7],\n",
       "       [1, 3, 0],\n",
       "       [9, 6, 9]])"
      ]
     },
     "execution_count": 203,
     "metadata": {},
     "output_type": "execute_result"
    }
   ],
   "source": [
    "#selecciona anch=0\n",
    "k = 0\n",
    "array3d[:,:,k]"
   ]
  },
  {
   "cell_type": "markdown",
   "metadata": {},
   "source": [
    "### Indexado Fancy\n",
    "\n",
    "Se llama indexado fancy cuando una arreglo o una lista es usado en lugar de un índice: "
   ]
  },
  {
   "cell_type": "code",
   "execution_count": 204,
   "metadata": {
    "jupyter": {
     "outputs_hidden": true
    }
   },
   "outputs": [],
   "source": [
    "indices_fila = [1, 2, 3]"
   ]
  },
  {
   "cell_type": "code",
   "execution_count": 205,
   "metadata": {
    "jupyter": {
     "outputs_hidden": true
    }
   },
   "outputs": [
    {
     "data": {
      "text/plain": [
       "array([2, 3, 4])"
      ]
     },
     "execution_count": 205,
     "metadata": {},
     "output_type": "execute_result"
    }
   ],
   "source": [
    "array1d[indices_fila]"
   ]
  },
  {
   "cell_type": "code",
   "execution_count": 206,
   "metadata": {
    "jupyter": {
     "outputs_hidden": true
    }
   },
   "outputs": [
    {
     "data": {
      "text/plain": [
       "array([[10, 11, 12, 13, 14],\n",
       "       [20, 21, 22, 23, 24],\n",
       "       [30, 31, 32, 33, 34]])"
      ]
     },
     "execution_count": 206,
     "metadata": {},
     "output_type": "execute_result"
    }
   ],
   "source": [
    "array2d[indices_fila]"
   ]
  },
  {
   "cell_type": "code",
   "execution_count": 207,
   "metadata": {
    "jupyter": {
     "outputs_hidden": true
    }
   },
   "outputs": [],
   "source": [
    "indices_col = [1, 2, -1] # recuerde que el índice -1 corresponde al último elemento"
   ]
  },
  {
   "cell_type": "code",
   "execution_count": 208,
   "metadata": {
    "jupyter": {
     "outputs_hidden": true
    }
   },
   "outputs": [
    {
     "data": {
      "text/plain": [
       "array([2, 3, 5])"
      ]
     },
     "execution_count": 208,
     "metadata": {},
     "output_type": "execute_result"
    }
   ],
   "source": [
    "array1d[indices_col]"
   ]
  },
  {
   "cell_type": "code",
   "execution_count": 209,
   "metadata": {
    "jupyter": {
     "outputs_hidden": true
    }
   },
   "outputs": [
    {
     "data": {
      "text/plain": [
       "array([[10, 11, 12, 13, 14],\n",
       "       [20, 21, 22, 23, 24],\n",
       "       [40, 41, 42, 43, 44]])"
      ]
     },
     "execution_count": 209,
     "metadata": {},
     "output_type": "execute_result"
    }
   ],
   "source": [
    "array2d[indices_col]"
   ]
  },
  {
   "cell_type": "markdown",
   "metadata": {},
   "source": [
    "## Filtrado de elementos de un array\n",
    "Una característica muy útil de los arrays es que es muy fácil obtener otro array con los elementos que cumplen una condición.\n",
    "\n",
    "* `a[condicion]` : Devuelve una lista con los elementos del array a que cumplen la condición condicion."
   ]
  },
  {
   "cell_type": "code",
   "execution_count": 228,
   "metadata": {},
   "outputs": [
    {
     "name": "stdout",
     "output_type": "stream",
     "text": [
      "[2 4 6]\n"
     ]
    }
   ],
   "source": [
    "a = np.array([[1, 2, 3], [4, 5, 6]])\n",
    "\n",
    "# Obtener todos los numeros pares de la matriz\n",
    "print(a[(a % 2 == 0)])"
   ]
  },
  {
   "cell_type": "code",
   "execution_count": 229,
   "metadata": {},
   "outputs": [
    {
     "name": "stdout",
     "output_type": "stream",
     "text": [
      "[4 6]\n"
     ]
    }
   ],
   "source": [
    "print(a[(a % 2 == 0) &  (a > 2)])"
   ]
  },
  {
   "cell_type": "markdown",
   "metadata": {},
   "source": [
    "### **Otro tipo de filtrado con mascaras:**\n",
    "\n",
    "Podemos también usar **máscaras de índices**: Si la máscara de índice es un arreglo `NumPy` con tipo de dato booleano (`bool`), entonces un elemento es seleccionado (True) o no (False) dependiendo del valor de la máscara de índice en la posición de cada elemento: "
   ]
  },
  {
   "cell_type": "code",
   "execution_count": 210,
   "metadata": {
    "jupyter": {
     "outputs_hidden": true
    }
   },
   "outputs": [
    {
     "data": {
      "text/plain": [
       "array([0, 1, 2, 3, 4])"
      ]
     },
     "execution_count": 210,
     "metadata": {},
     "output_type": "execute_result"
    }
   ],
   "source": [
    "array1d = np.array([n for n in range(5)])\n",
    "array1d"
   ]
  },
  {
   "cell_type": "code",
   "execution_count": 211,
   "metadata": {
    "jupyter": {
     "outputs_hidden": true
    }
   },
   "outputs": [
    {
     "data": {
      "text/plain": [
       "array([0, 2])"
      ]
     },
     "execution_count": 211,
     "metadata": {},
     "output_type": "execute_result"
    }
   ],
   "source": [
    "masc_filas00 = [0,2]\n",
    "array1d[masc_filas00]"
   ]
  },
  {
   "cell_type": "code",
   "execution_count": 212,
   "metadata": {
    "jupyter": {
     "outputs_hidden": true
    }
   },
   "outputs": [
    {
     "data": {
      "text/plain": [
       "array([0, 2])"
      ]
     },
     "execution_count": 212,
     "metadata": {},
     "output_type": "execute_result"
    }
   ],
   "source": [
    "# lo mismo\n",
    "masc_fila01 = np.array([True, False, True, False, False])\n",
    "array1d[masc_fila01]"
   ]
  },
  {
   "cell_type": "code",
   "execution_count": 213,
   "metadata": {
    "jupyter": {
     "outputs_hidden": true
    }
   },
   "outputs": [
    {
     "data": {
      "text/plain": [
       "array([0, 2])"
      ]
     },
     "execution_count": 213,
     "metadata": {},
     "output_type": "execute_result"
    }
   ],
   "source": [
    "# lo mismo\n",
    "masc_fila02 = np.array([1,0,1,0,0], dtype=bool)\n",
    "array1d[masc_fila02]"
   ]
  },
  {
   "cell_type": "markdown",
   "metadata": {},
   "source": [
    "Esta característica es muy útil para seleccionar en forma condicional elementos de un arreglo, usando por ejemplo los operadores de comparación:"
   ]
  },
  {
   "cell_type": "code",
   "execution_count": 214,
   "metadata": {
    "jupyter": {
     "outputs_hidden": true
    }
   },
   "outputs": [
    {
     "data": {
      "text/plain": [
       "array([0. , 0.5, 1. , 1.5, 2. , 2.5, 3. , 3.5, 4. , 4.5, 5. , 5.5, 6. ,\n",
       "       6.5, 7. , 7.5, 8. , 8.5, 9. , 9.5])"
      ]
     },
     "execution_count": 214,
     "metadata": {},
     "output_type": "execute_result"
    }
   ],
   "source": [
    "array1d = np.arange(0, 10, 0.5)\n",
    "array1d"
   ]
  },
  {
   "cell_type": "code",
   "execution_count": 215,
   "metadata": {
    "jupyter": {
     "outputs_hidden": true
    }
   },
   "outputs": [
    {
     "data": {
      "text/plain": [
       "array([False, False, False, False, False, False, False, False, False,\n",
       "       False, False,  True,  True,  True,  True, False, False, False,\n",
       "       False, False])"
      ]
     },
     "execution_count": 215,
     "metadata": {},
     "output_type": "execute_result"
    }
   ],
   "source": [
    "#masc = (array1d==1)\n",
    "#masc = (5 < array1d)\n",
    "#masc = (array1d < 1)\n",
    "masc = (5 < array1d) * (array1d < 7.5) #ambas condiciones juntas\n",
    "masc"
   ]
  },
  {
   "cell_type": "code",
   "execution_count": 216,
   "metadata": {
    "jupyter": {
     "outputs_hidden": true
    }
   },
   "outputs": [
    {
     "data": {
      "text/plain": [
       "array([5.5, 6. , 6.5, 7. ])"
      ]
     },
     "execution_count": 216,
     "metadata": {},
     "output_type": "execute_result"
    }
   ],
   "source": [
    "array1d[masc]"
   ]
  },
  {
   "cell_type": "markdown",
   "metadata": {},
   "source": [
    "## Funciones para extraer información desde arreglos y para crear nuevos arreglos"
   ]
  },
  {
   "cell_type": "markdown",
   "metadata": {},
   "source": [
    "#### np.min y np.max"
   ]
  },
  {
   "cell_type": "code",
   "execution_count": 219,
   "metadata": {
    "jupyter": {
     "outputs_hidden": true
    }
   },
   "outputs": [
    {
     "data": {
      "text/plain": [
       "(0.0, 0, 0)"
      ]
     },
     "execution_count": 219,
     "metadata": {},
     "output_type": "execute_result"
    }
   ],
   "source": [
    "np.min(array1d), np.min(array2d), np.min(array3d)"
   ]
  },
  {
   "cell_type": "code",
   "execution_count": 220,
   "metadata": {
    "jupyter": {
     "outputs_hidden": true
    }
   },
   "outputs": [
    {
     "data": {
      "text/plain": [
       "(0.0, 0, 0)"
      ]
     },
     "execution_count": 220,
     "metadata": {},
     "output_type": "execute_result"
    }
   ],
   "source": [
    "#otra forma de hacer lo mismo\n",
    "array1d.min(),array2d.min(),array3d.min()"
   ]
  },
  {
   "cell_type": "code",
   "execution_count": 221,
   "metadata": {
    "jupyter": {
     "outputs_hidden": true
    }
   },
   "outputs": [
    {
     "data": {
      "text/plain": [
       "(9.5, 44, 10)"
      ]
     },
     "execution_count": 221,
     "metadata": {},
     "output_type": "execute_result"
    }
   ],
   "source": [
    "np.max(array1d), np.max(array2d), np.max(array3d)"
   ]
  },
  {
   "cell_type": "code",
   "execution_count": 222,
   "metadata": {
    "jupyter": {
     "outputs_hidden": true
    }
   },
   "outputs": [
    {
     "data": {
      "text/plain": [
       "(9.5, 44, 10)"
      ]
     },
     "execution_count": 222,
     "metadata": {},
     "output_type": "execute_result"
    }
   ],
   "source": [
    "#otra forma de hacer lo mismo\n",
    "array1d.max(),array2d.max(),array3d.max()"
   ]
  },
  {
   "cell_type": "markdown",
   "metadata": {},
   "source": [
    "#### mean"
   ]
  },
  {
   "cell_type": "code",
   "execution_count": 223,
   "metadata": {
    "jupyter": {
     "outputs_hidden": true
    }
   },
   "outputs": [
    {
     "data": {
      "text/plain": [
       "(4.75, 22.0, 4.666666666666667)"
      ]
     },
     "execution_count": 223,
     "metadata": {},
     "output_type": "execute_result"
    }
   ],
   "source": [
    "np.mean(array1d), np.mean(array2d), np.mean(array3d)"
   ]
  },
  {
   "cell_type": "code",
   "execution_count": 224,
   "metadata": {
    "jupyter": {
     "outputs_hidden": true
    }
   },
   "outputs": [
    {
     "data": {
      "text/plain": [
       "(4.75, 22.0, 4.666666666666667)"
      ]
     },
     "execution_count": 224,
     "metadata": {},
     "output_type": "execute_result"
    }
   ],
   "source": [
    "#otra forma de hacer lo mismo\n",
    "array1d.mean(),array2d.mean(),array3d.mean()"
   ]
  },
  {
   "cell_type": "markdown",
   "metadata": {},
   "source": [
    "#### Desviación estándar y varianza"
   ]
  },
  {
   "cell_type": "code",
   "execution_count": 225,
   "metadata": {
    "jupyter": {
     "outputs_hidden": true
    }
   },
   "outputs": [
    {
     "data": {
      "text/plain": [
       "(2.883140648667699, 14.212670403551895, 2.9814239699997196)"
      ]
     },
     "execution_count": 225,
     "metadata": {},
     "output_type": "execute_result"
    }
   ],
   "source": [
    "np.std(array1d), np.std(array2d), np.std(array3d)"
   ]
  },
  {
   "cell_type": "code",
   "execution_count": 226,
   "metadata": {
    "jupyter": {
     "outputs_hidden": true
    }
   },
   "outputs": [
    {
     "data": {
      "text/plain": [
       "(8.3125, 202.0, 8.88888888888889)"
      ]
     },
     "execution_count": 226,
     "metadata": {},
     "output_type": "execute_result"
    }
   ],
   "source": [
    "np.var(array1d), np.var(array2d), np.var(array3d)"
   ]
  },
  {
   "cell_type": "markdown",
   "metadata": {},
   "source": [
    "#### np.where\n",
    "\n",
    "Las máscaras de índices pueden ser convertidas en posiciones de índices usando la función `np.where` (dónde):"
   ]
  },
  {
   "cell_type": "code",
   "execution_count": 231,
   "metadata": {
    "jupyter": {
     "outputs_hidden": true
    }
   },
   "outputs": [
    {
     "name": "stdout",
     "output_type": "stream",
     "text": [
      "[False False False False False False False False False False False  True\n",
      "  True  True  True False False False False False]\n",
      "(array([11, 12, 13, 14], dtype=int64),)\n"
     ]
    },
    {
     "data": {
      "text/plain": [
       "(array([11, 12, 13, 14], dtype=int64),)"
      ]
     },
     "execution_count": 231,
     "metadata": {},
     "output_type": "execute_result"
    }
   ],
   "source": [
    "print(masc)\n",
    "print(indices)\n",
    "\n",
    "indices = np.where(masc)\n",
    "indices"
   ]
  },
  {
   "cell_type": "code",
   "execution_count": 232,
   "metadata": {
    "jupyter": {
     "outputs_hidden": true
    }
   },
   "outputs": [
    {
     "data": {
      "text/plain": [
       "array([5.5, 6. , 6.5, 7. ])"
      ]
     },
     "execution_count": 232,
     "metadata": {},
     "output_type": "execute_result"
    }
   ],
   "source": [
    "array1d[indices] # este indexado es equivalente al indexado fancy x[masc]"
   ]
  },
  {
   "cell_type": "markdown",
   "metadata": {},
   "source": [
    "#### np.diag\n",
    "\n",
    "Con la función `np.diag` podemos extraer la diagonal y las subdiagonales de un arreglo:"
   ]
  },
  {
   "cell_type": "code",
   "execution_count": 233,
   "metadata": {
    "jupyter": {
     "outputs_hidden": true
    }
   },
   "outputs": [
    {
     "data": {
      "text/plain": [
       "array([[ 0,  1,  2,  3,  4],\n",
       "       [10, 11, 12, 13, 14],\n",
       "       [20, 21, 22, 23, 24],\n",
       "       [30, 31, 32, 33, 34],\n",
       "       [40, 41, 42, 43, 44]])"
      ]
     },
     "execution_count": 233,
     "metadata": {},
     "output_type": "execute_result"
    }
   ],
   "source": [
    "array2d"
   ]
  },
  {
   "cell_type": "code",
   "execution_count": 234,
   "metadata": {
    "jupyter": {
     "outputs_hidden": true
    }
   },
   "outputs": [
    {
     "data": {
      "text/plain": [
       "array([ 0, 11, 22, 33, 44])"
      ]
     },
     "execution_count": 234,
     "metadata": {},
     "output_type": "execute_result"
    }
   ],
   "source": [
    "np.diag(array2d)"
   ]
  },
  {
   "cell_type": "code",
   "execution_count": 235,
   "metadata": {
    "jupyter": {
     "outputs_hidden": true
    }
   },
   "outputs": [
    {
     "data": {
      "text/plain": [
       "array([10, 21, 32, 43])"
      ]
     },
     "execution_count": 235,
     "metadata": {},
     "output_type": "execute_result"
    }
   ],
   "source": [
    "# Desplazamiento de la diagonal:\n",
    "np.diag(array2d, -1)"
   ]
  },
  {
   "cell_type": "code",
   "execution_count": 236,
   "metadata": {},
   "outputs": [
    {
     "data": {
      "text/plain": [
       "array([20, 31, 42])"
      ]
     },
     "execution_count": 236,
     "metadata": {},
     "output_type": "execute_result"
    }
   ],
   "source": [
    "np.diag(array2d, -2)"
   ]
  },
  {
   "cell_type": "markdown",
   "metadata": {},
   "source": [
    "#### np.take\n",
    "\n",
    "La función `np.take` es similar al indexado fancy descrito anteriormente:"
   ]
  },
  {
   "cell_type": "code",
   "execution_count": 237,
   "metadata": {
    "jupyter": {
     "outputs_hidden": true
    }
   },
   "outputs": [
    {
     "data": {
      "text/plain": [
       "array([-3, -2, -1,  0,  1,  2])"
      ]
     },
     "execution_count": 237,
     "metadata": {},
     "output_type": "execute_result"
    }
   ],
   "source": [
    "array1d = np.arange(-3,3)\n",
    "array1d"
   ]
  },
  {
   "cell_type": "code",
   "execution_count": null,
   "metadata": {
    "collapsed": true,
    "jupyter": {
     "outputs_hidden": true
    }
   },
   "outputs": [],
   "source": [
    "#np.take?"
   ]
  },
  {
   "cell_type": "code",
   "execution_count": 238,
   "metadata": {
    "jupyter": {
     "outputs_hidden": true
    }
   },
   "outputs": [
    {
     "data": {
      "text/plain": [
       "array([-2,  0,  2])"
      ]
     },
     "execution_count": 238,
     "metadata": {},
     "output_type": "execute_result"
    }
   ],
   "source": [
    "indices_fila = [1, 3, 5]\n",
    "array1d[indices_fila] # indexado fancy"
   ]
  },
  {
   "cell_type": "code",
   "execution_count": 239,
   "metadata": {
    "jupyter": {
     "outputs_hidden": true
    }
   },
   "outputs": [
    {
     "data": {
      "text/plain": [
       "array([-2,  0,  2])"
      ]
     },
     "execution_count": 239,
     "metadata": {},
     "output_type": "execute_result"
    }
   ],
   "source": [
    "array1d.take(indices_fila)"
   ]
  },
  {
   "cell_type": "markdown",
   "metadata": {},
   "source": [
    "Pero la función `np.take` también funciona sobre listas y otros objetos:"
   ]
  },
  {
   "cell_type": "code",
   "execution_count": 240,
   "metadata": {
    "jupyter": {
     "outputs_hidden": true
    }
   },
   "outputs": [
    {
     "data": {
      "text/plain": [
       "array([-2,  0,  2])"
      ]
     },
     "execution_count": 240,
     "metadata": {},
     "output_type": "execute_result"
    }
   ],
   "source": [
    "np.take([-3, -2, -1,  0,  1,  2], indices_fila)"
   ]
  },
  {
   "cell_type": "markdown",
   "metadata": {},
   "source": [
    "También funciona sobre los ejes de un arreglo multidimensional."
   ]
  },
  {
   "cell_type": "code",
   "execution_count": 241,
   "metadata": {
    "jupyter": {
     "outputs_hidden": true
    }
   },
   "outputs": [
    {
     "data": {
      "text/plain": [
       "array([[ 0,  1,  2,  3,  4],\n",
       "       [10, 11, 12, 13, 14],\n",
       "       [20, 21, 22, 23, 24],\n",
       "       [30, 31, 32, 33, 34],\n",
       "       [40, 41, 42, 43, 44]])"
      ]
     },
     "execution_count": 241,
     "metadata": {},
     "output_type": "execute_result"
    }
   ],
   "source": [
    "array2d"
   ]
  },
  {
   "cell_type": "code",
   "execution_count": 242,
   "metadata": {
    "jupyter": {
     "outputs_hidden": true
    }
   },
   "outputs": [
    {
     "data": {
      "text/plain": [
       "array([[10, 11, 12, 13, 14],\n",
       "       [30, 31, 32, 33, 34]])"
      ]
     },
     "execution_count": 242,
     "metadata": {},
     "output_type": "execute_result"
    }
   ],
   "source": [
    "np.take(array2d,[1,3],axis=0)"
   ]
  },
  {
   "cell_type": "code",
   "execution_count": 243,
   "metadata": {
    "jupyter": {
     "outputs_hidden": true
    }
   },
   "outputs": [
    {
     "data": {
      "text/plain": [
       "array([[ 0,  2],\n",
       "       [10, 12],\n",
       "       [20, 22],\n",
       "       [30, 32],\n",
       "       [40, 42]])"
      ]
     },
     "execution_count": 243,
     "metadata": {},
     "output_type": "execute_result"
    }
   ],
   "source": [
    "np.take(array2d,[0,2],axis=1)"
   ]
  },
  {
   "cell_type": "code",
   "execution_count": 244,
   "metadata": {
    "jupyter": {
     "outputs_hidden": true
    }
   },
   "outputs": [
    {
     "data": {
      "text/plain": [
       "array([ 1,  4, 12, 14])"
      ]
     },
     "execution_count": 244,
     "metadata": {},
     "output_type": "execute_result"
    }
   ],
   "source": [
    "np.take(array2d, [1,4,7,9]) #Es como si hubiera aplanado el arreglo"
   ]
  },
  {
   "cell_type": "code",
   "execution_count": 245,
   "metadata": {
    "jupyter": {
     "outputs_hidden": true
    }
   },
   "outputs": [
    {
     "data": {
      "text/plain": [
       "array([ 0,  1,  2,  3,  4, 10, 11, 12, 13, 14, 20, 21, 22, 23, 24, 30, 31,\n",
       "       32, 33, 34, 40, 41, 42, 43, 44])"
      ]
     },
     "execution_count": 245,
     "metadata": {},
     "output_type": "execute_result"
    }
   ],
   "source": [
    "array2d_aplanado = array2d.flatten()\n",
    "array2d_aplanado"
   ]
  },
  {
   "cell_type": "code",
   "execution_count": 246,
   "metadata": {
    "jupyter": {
     "outputs_hidden": true
    }
   },
   "outputs": [
    {
     "data": {
      "text/plain": [
       "array([ 1,  4, 12, 14])"
      ]
     },
     "execution_count": 246,
     "metadata": {},
     "output_type": "execute_result"
    }
   ],
   "source": [
    "array2d_aplanado[[1,4,7,9]]"
   ]
  },
  {
   "cell_type": "markdown",
   "metadata": {},
   "source": [
    "## Más propiedades de los arreglos NumPy"
   ]
  },
  {
   "cell_type": "markdown",
   "metadata": {},
   "source": [
    "#### Usando funciones que generan arreglos\n",
    "\n",
    "En el caso de arreglos más grandes no es práctico inicializar los datos manualmente, usando listas Python explícitas. En su lugar, podemos usar una de las muchas funciones en `numpy` que generan arreglos de diferentes formas. Algunas de los más comunes son:"
   ]
  },
  {
   "cell_type": "markdown",
   "metadata": {},
   "source": [
    "#### np.arange"
   ]
  },
  {
   "cell_type": "code",
   "execution_count": 247,
   "metadata": {
    "jupyter": {
     "outputs_hidden": true
    }
   },
   "outputs": [
    {
     "data": {
      "text/plain": [
       "array([0, 1, 2, 3, 4, 5, 6, 7, 8, 9])"
      ]
     },
     "execution_count": 247,
     "metadata": {},
     "output_type": "execute_result"
    }
   ],
   "source": [
    "# Se crea un arreglo con valores en un rango\n",
    "x = np.arange(0, 10, 1) # argumentos: desde, hasta (no se incluye!), paso\n",
    "x"
   ]
  },
  {
   "cell_type": "code",
   "execution_count": null,
   "metadata": {
    "collapsed": true,
    "jupyter": {
     "outputs_hidden": true
    }
   },
   "outputs": [],
   "source": [
    "#np.arange?"
   ]
  },
  {
   "cell_type": "code",
   "execution_count": 248,
   "metadata": {
    "jupyter": {
     "outputs_hidden": true
    }
   },
   "outputs": [
    {
     "data": {
      "text/plain": [
       "array([-1.00000000e+00, -9.00000000e-01, -8.00000000e-01, -7.00000000e-01,\n",
       "       -6.00000000e-01, -5.00000000e-01, -4.00000000e-01, -3.00000000e-01,\n",
       "       -2.00000000e-01, -1.00000000e-01, -2.22044605e-16,  1.00000000e-01,\n",
       "        2.00000000e-01,  3.00000000e-01,  4.00000000e-01,  5.00000000e-01,\n",
       "        6.00000000e-01,  7.00000000e-01,  8.00000000e-01,  9.00000000e-01])"
      ]
     },
     "execution_count": 248,
     "metadata": {},
     "output_type": "execute_result"
    }
   ],
   "source": [
    "x = np.arange(-1,1,0.1)\n",
    "x"
   ]
  },
  {
   "cell_type": "markdown",
   "metadata": {},
   "source": [
    "#### np.linspace y np.logspace"
   ]
  },
  {
   "cell_type": "code",
   "execution_count": 249,
   "metadata": {
    "jupyter": {
     "outputs_hidden": true
    }
   },
   "outputs": [
    {
     "data": {
      "text/plain": [
       "array([ 0.,  1.,  2.,  3.,  4.,  5.,  6.,  7.,  8.,  9., 10.])"
      ]
     },
     "execution_count": 249,
     "metadata": {},
     "output_type": "execute_result"
    }
   ],
   "source": [
    "# Usando np.linspace, ambos elementos de los extremos SON incluidos. Formato: (desde, hasta, número de elementos)\n",
    "x = np.linspace(0, 10, 11) \n",
    "x"
   ]
  },
  {
   "cell_type": "code",
   "execution_count": 250,
   "metadata": {
    "jupyter": {
     "outputs_hidden": true
    }
   },
   "outputs": [
    {
     "data": {
      "text/plain": [
       "array([1.00000000e+00, 2.71828183e+00, 7.38905610e+00, 2.00855369e+01,\n",
       "       5.45981500e+01, 1.48413159e+02, 4.03428793e+02, 1.09663316e+03,\n",
       "       2.98095799e+03, 8.10308393e+03, 2.20264658e+04])"
      ]
     },
     "execution_count": 250,
     "metadata": {},
     "output_type": "execute_result"
    }
   ],
   "source": [
    "# np.logspace también incluye el punto final. Por defecto base=10\n",
    "x = np.logspace(0, 10, 11, base=np.e) \n",
    "#produce np.e elevado a cada valor en np.linspace(0, 10, 11), e.d. np.arra([np.e**0, np.e**1, ..., np.e**10])\n",
    "x"
   ]
  },
  {
   "cell_type": "markdown",
   "metadata": {},
   "source": [
    "#### np.mgrid"
   ]
  },
  {
   "cell_type": "code",
   "execution_count": 251,
   "metadata": {
    "jupyter": {
     "outputs_hidden": true
    }
   },
   "outputs": [],
   "source": [
    "x, y = np.mgrid[0:5, 0:5] #similar a meshgrid en MATLAB"
   ]
  },
  {
   "cell_type": "code",
   "execution_count": 252,
   "metadata": {
    "jupyter": {
     "outputs_hidden": true
    }
   },
   "outputs": [
    {
     "data": {
      "text/plain": [
       "array([[0, 0, 0, 0, 0],\n",
       "       [1, 1, 1, 1, 1],\n",
       "       [2, 2, 2, 2, 2],\n",
       "       [3, 3, 3, 3, 3],\n",
       "       [4, 4, 4, 4, 4]])"
      ]
     },
     "execution_count": 252,
     "metadata": {},
     "output_type": "execute_result"
    }
   ],
   "source": [
    "x"
   ]
  },
  {
   "cell_type": "code",
   "execution_count": 253,
   "metadata": {
    "jupyter": {
     "outputs_hidden": true
    }
   },
   "outputs": [
    {
     "data": {
      "text/plain": [
       "array([[0, 1, 2, 3, 4],\n",
       "       [0, 1, 2, 3, 4],\n",
       "       [0, 1, 2, 3, 4],\n",
       "       [0, 1, 2, 3, 4],\n",
       "       [0, 1, 2, 3, 4]])"
      ]
     },
     "execution_count": 253,
     "metadata": {},
     "output_type": "execute_result"
    }
   ],
   "source": [
    "y"
   ]
  },
  {
   "cell_type": "code",
   "execution_count": null,
   "metadata": {
    "collapsed": true,
    "jupyter": {
     "outputs_hidden": true
    }
   },
   "outputs": [],
   "source": [
    "#np.mgrid?"
   ]
  },
  {
   "cell_type": "markdown",
   "metadata": {},
   "source": [
    "#### Datos aleatorios"
   ]
  },
  {
   "cell_type": "code",
   "execution_count": null,
   "metadata": {
    "collapsed": true,
    "jupyter": {
     "outputs_hidden": true
    }
   },
   "outputs": [],
   "source": [
    "#np.random?"
   ]
  },
  {
   "cell_type": "code",
   "execution_count": 254,
   "metadata": {
    "jupyter": {
     "outputs_hidden": true
    }
   },
   "outputs": [
    {
     "data": {
      "text/plain": [
       "array([0.90667144, 0.30570824, 0.0586999 , 0.94519259, 0.81778898,\n",
       "       0.01166435, 0.84566021, 0.44894786, 0.37854799, 0.45207711])"
      ]
     },
     "execution_count": 254,
     "metadata": {},
     "output_type": "execute_result"
    }
   ],
   "source": [
    "# números aleatorios con distribución de probabilidad uniforme en [0,1]\n",
    "x = np.random.rand(10)\n",
    "x"
   ]
  },
  {
   "cell_type": "code",
   "execution_count": 255,
   "metadata": {
    "jupyter": {
     "outputs_hidden": true
    }
   },
   "outputs": [
    {
     "data": {
      "text/plain": [
       "array([[-1.90892209, -2.13923175,  0.40155054, -0.54988415],\n",
       "       [ 0.24131312,  0.86246792, -0.6873267 ,  0.06490331],\n",
       "       [ 0.92720401, -0.34020852, -0.45130125,  1.5395802 ]])"
      ]
     },
     "execution_count": 255,
     "metadata": {},
     "output_type": "execute_result"
    }
   ],
   "source": [
    "# números aleatorios con distribución normal (gaussiana de media 0 y varianza 1).\n",
    "x = np.random.randn(3,4)\n",
    "x"
   ]
  },
  {
   "cell_type": "markdown",
   "metadata": {},
   "source": [
    "#### np.diag"
   ]
  },
  {
   "cell_type": "code",
   "execution_count": 256,
   "metadata": {
    "jupyter": {
     "outputs_hidden": true
    }
   },
   "outputs": [
    {
     "data": {
      "text/plain": [
       "array([[1, 0, 0],\n",
       "       [0, 2, 0],\n",
       "       [0, 0, 3]])"
      ]
     },
     "execution_count": 256,
     "metadata": {},
     "output_type": "execute_result"
    }
   ],
   "source": [
    "# una matriz diagonal\n",
    "m = np.diag([1,2,3])\n",
    "m"
   ]
  },
  {
   "cell_type": "code",
   "execution_count": null,
   "metadata": {
    "collapsed": true,
    "jupyter": {
     "outputs_hidden": true
    }
   },
   "outputs": [],
   "source": [
    "#np.diag?"
   ]
  },
  {
   "cell_type": "code",
   "execution_count": 257,
   "metadata": {
    "jupyter": {
     "outputs_hidden": true
    }
   },
   "outputs": [
    {
     "data": {
      "text/plain": [
       "array([[0, 1, 0, 0],\n",
       "       [0, 0, 2, 0],\n",
       "       [0, 0, 0, 3],\n",
       "       [0, 0, 0, 0]])"
      ]
     },
     "execution_count": 257,
     "metadata": {},
     "output_type": "execute_result"
    }
   ],
   "source": [
    "# diagonal desplazada desde la diagonal principal\n",
    "m = np.diag([1, 2, 3], k=1) \n",
    "m"
   ]
  },
  {
   "cell_type": "code",
   "execution_count": 258,
   "metadata": {
    "jupyter": {
     "outputs_hidden": true
    }
   },
   "outputs": [
    {
     "data": {
      "text/plain": [
       "array([[0, 0, 0, 0],\n",
       "       [1, 0, 0, 0],\n",
       "       [0, 2, 0, 0],\n",
       "       [0, 0, 3, 0]])"
      ]
     },
     "execution_count": 258,
     "metadata": {},
     "output_type": "execute_result"
    }
   ],
   "source": [
    "# diagonal desplazada desde la diagonal principal\n",
    "m = np.diag([1, 2, 3], k=-1) \n",
    "m"
   ]
  },
  {
   "cell_type": "markdown",
   "metadata": {},
   "source": [
    "#### np.zeros, np.ones y np.empty"
   ]
  },
  {
   "cell_type": "code",
   "execution_count": 259,
   "metadata": {
    "jupyter": {
     "outputs_hidden": true
    }
   },
   "outputs": [
    {
     "data": {
      "text/plain": [
       "array([[0., 0., 0., 0., 0.],\n",
       "       [0., 0., 0., 0., 0.],\n",
       "       [0., 0., 0., 0., 0.],\n",
       "       [0., 0., 0., 0., 0.]])"
      ]
     },
     "execution_count": 259,
     "metadata": {},
     "output_type": "execute_result"
    }
   ],
   "source": [
    "#Se crea una matriz de forma (4, 5) con todos los elementos nulos \n",
    "m = np.zeros((4, 5))\n",
    "m"
   ]
  },
  {
   "cell_type": "code",
   "execution_count": 260,
   "metadata": {
    "jupyter": {
     "outputs_hidden": true
    }
   },
   "outputs": [],
   "source": [
    "#np.zeros?"
   ]
  },
  {
   "cell_type": "code",
   "execution_count": 261,
   "metadata": {
    "jupyter": {
     "outputs_hidden": true
    }
   },
   "outputs": [
    {
     "data": {
      "text/plain": [
       "array([[1., 1., 1.],\n",
       "       [1., 1., 1.],\n",
       "       [1., 1., 1.],\n",
       "       [1., 1., 1.]])"
      ]
     },
     "execution_count": 261,
     "metadata": {},
     "output_type": "execute_result"
    }
   ],
   "source": [
    "#Se crea una matriz de forma (4, 3) con todos los elementos iguales a 1\n",
    "m = np.ones((4, 3))\n",
    "m"
   ]
  },
  {
   "cell_type": "code",
   "execution_count": 262,
   "metadata": {
    "jupyter": {
     "outputs_hidden": true
    }
   },
   "outputs": [],
   "source": [
    "#np.ones?"
   ]
  },
  {
   "cell_type": "code",
   "execution_count": 263,
   "metadata": {
    "jupyter": {
     "outputs_hidden": true
    }
   },
   "outputs": [
    {
     "data": {
      "text/plain": [
       "array([[0., 0., 0., 0., 0.],\n",
       "       [0., 0., 0., 0., 0.],\n",
       "       [0., 0., 0., 0., 0.],\n",
       "       [0., 0., 0., 0., 0.]])"
      ]
     },
     "execution_count": 263,
     "metadata": {},
     "output_type": "execute_result"
    }
   ],
   "source": [
    "#Se crea una matriz de forma (4, 5) con todos los elementos vacíos\n",
    "m = np.empty((4, 5))\n",
    "m"
   ]
  },
  {
   "cell_type": "code",
   "execution_count": 264,
   "metadata": {
    "jupyter": {
     "outputs_hidden": true
    }
   },
   "outputs": [],
   "source": [
    "#np.empty?\n",
    "# Comprobacion del tiempo de ejecución:"
   ]
  },
  {
   "cell_type": "code",
   "execution_count": 265,
   "metadata": {
    "jupyter": {
     "outputs_hidden": true
    }
   },
   "outputs": [
    {
     "name": "stdout",
     "output_type": "stream",
     "text": [
      "323 ns ± 2.62 ns per loop (mean ± std. dev. of 7 runs, 1000000 loops each)\n"
     ]
    }
   ],
   "source": [
    "%timeit m = np.zeros((4, 5))"
   ]
  },
  {
   "cell_type": "code",
   "execution_count": 266,
   "metadata": {
    "jupyter": {
     "outputs_hidden": true
    }
   },
   "outputs": [
    {
     "name": "stdout",
     "output_type": "stream",
     "text": [
      "305 ns ± 1.44 ns per loop (mean ± std. dev. of 7 runs, 1000000 loops each)\n"
     ]
    }
   ],
   "source": [
    "%timeit m = np.empty((4, 5))"
   ]
  },
  {
   "cell_type": "code",
   "execution_count": 267,
   "metadata": {
    "jupyter": {
     "outputs_hidden": true
    }
   },
   "outputs": [
    {
     "name": "stdout",
     "output_type": "stream",
     "text": [
      "1.65 µs ± 21.2 ns per loop (mean ± std. dev. of 7 runs, 1000000 loops each)\n"
     ]
    }
   ],
   "source": [
    "%timeit m = np.ones((4, 5))"
   ]
  },
  {
   "cell_type": "markdown",
   "metadata": {},
   "source": [
    "## Álgebra matricial\n",
    "Numpy incorpora funciones para realizar las principales operaciones **algebraicas con vectores y matrices**. La mayoría de los métodos algebráicos se agrupan en el **submódulo linalg**."
   ]
  },
  {
   "cell_type": "markdown",
   "metadata": {},
   "source": [
    "### Producto escalar de dos vectores\n",
    "Para realizar el producto escalar de dos vectores se utiliza el operador **@** o el siguiente método:\n",
    "\n",
    "* `u.dot(v)`: Devuelve el producto escalar de los vectores u y v."
   ]
  },
  {
   "cell_type": "code",
   "execution_count": 101,
   "metadata": {},
   "outputs": [
    {
     "name": "stdout",
     "output_type": "stream",
     "text": [
      "4\n"
     ]
    }
   ],
   "source": [
    "import numpy as np\n",
    "a = np.array([1, 2, 3])\n",
    "b = np.array([1, 0, 1])\n",
    "print(a @ b)"
   ]
  },
  {
   "cell_type": "code",
   "execution_count": 102,
   "metadata": {},
   "outputs": [
    {
     "name": "stdout",
     "output_type": "stream",
     "text": [
      "4\n"
     ]
    }
   ],
   "source": [
    "print(a.dot(b))"
   ]
  },
  {
   "cell_type": "markdown",
   "metadata": {},
   "source": [
    "### Módulo de un vector\n",
    "Para calcular el módulo de un vector se utiliza el siguiente método:\n",
    "\n",
    "* `norm(v)`: Devuelve el módulo del vector v."
   ]
  },
  {
   "cell_type": "code",
   "execution_count": 103,
   "metadata": {},
   "outputs": [
    {
     "name": "stdout",
     "output_type": "stream",
     "text": [
      "5.0\n"
     ]
    }
   ],
   "source": [
    "a = np.array([3, 4])\n",
    "print(np.linalg.norm(a))"
   ]
  },
  {
   "cell_type": "markdown",
   "metadata": {},
   "source": [
    "### Producto de dos matrices\n",
    "Para realizar el producto matricial se utiliza el mismo operador @ y método que para el producto escalar de vectores:\n",
    "\n",
    "* `a.dot(b)` : Devuelve el producto matricial de las matrices a y b siempre y cuando sus dimensiones sean compatibles."
   ]
  },
  {
   "cell_type": "code",
   "execution_count": 104,
   "metadata": {},
   "outputs": [
    {
     "name": "stdout",
     "output_type": "stream",
     "text": [
      "[[14 14]\n",
      " [32 32]]\n"
     ]
    }
   ],
   "source": [
    "a = np.array([[1, 2, 3], [4, 5, 6]])\n",
    "b = np.array([[1, 1], [2, 2], [3, 3]])\n",
    "print(a @ b)"
   ]
  },
  {
   "cell_type": "code",
   "execution_count": 105,
   "metadata": {},
   "outputs": [
    {
     "name": "stdout",
     "output_type": "stream",
     "text": [
      "[[14 14]\n",
      " [32 32]]\n"
     ]
    }
   ],
   "source": [
    "print(a.dot(b))"
   ]
  },
  {
   "cell_type": "markdown",
   "metadata": {},
   "source": [
    "### Matriz traspuesta\n",
    "Para trasponer una matriz se utiliza el método\n",
    "\n",
    "* `a.T` : Devuelve la matriz traspuesta de la matriz a."
   ]
  },
  {
   "cell_type": "code",
   "execution_count": 106,
   "metadata": {},
   "outputs": [
    {
     "name": "stdout",
     "output_type": "stream",
     "text": [
      "[[1 4]\n",
      " [2 5]\n",
      " [3 6]]\n"
     ]
    }
   ],
   "source": [
    "a = np.array([[1, 2, 3], [4, 5, 6]])\n",
    "print(a.T)"
   ]
  },
  {
   "cell_type": "markdown",
   "metadata": {},
   "source": [
    "### Traza de una matriz\n",
    "La traza de una matriz cuadrada se calcula con el siguiente método:\n",
    "\n",
    "* `a.trace()` : Devuelve la traza (suma de la diagonal principal) de la matriz cuadrada a."
   ]
  },
  {
   "cell_type": "code",
   "execution_count": 107,
   "metadata": {},
   "outputs": [
    {
     "name": "stdout",
     "output_type": "stream",
     "text": [
      "[[1 2 3]\n",
      " [4 5 6]\n",
      " [7 8 9]]\n",
      "15\n"
     ]
    }
   ],
   "source": [
    "a = np.array([[1, 2, 3], [4, 5, 6], [7, 8, 9]])\n",
    "print(a)\n",
    "print(a.trace())"
   ]
  },
  {
   "cell_type": "markdown",
   "metadata": {},
   "source": [
    "### Determinante de una matriz\n",
    "El determinante de una matriz cuadrada se calcula con la siguiente función:\n",
    "\n",
    "* `det(a)` : Devuelve el determinante de la matriz cuadrada a."
   ]
  },
  {
   "cell_type": "code",
   "execution_count": 108,
   "metadata": {},
   "outputs": [
    {
     "name": "stdout",
     "output_type": "stream",
     "text": [
      "-2.0000000000000004\n"
     ]
    }
   ],
   "source": [
    "a = np.array([[1, 2], [3, 4]])\n",
    "print(np.linalg.det(a))"
   ]
  },
  {
   "cell_type": "markdown",
   "metadata": {},
   "source": [
    "### Matriz inversa\n",
    "La inversa de una matriz se calcula con la siguiente función:\n",
    "\n",
    "* `inv(a)` : Devuelve la matriz inversa de la matriz cuadrada a."
   ]
  },
  {
   "cell_type": "code",
   "execution_count": 109,
   "metadata": {},
   "outputs": [
    {
     "name": "stdout",
     "output_type": "stream",
     "text": [
      "[[-2.   1. ]\n",
      " [ 1.5 -0.5]]\n"
     ]
    }
   ],
   "source": [
    "a = np.array([[1, 2], [3, 4]])\n",
    "print(np.linalg.inv(a))"
   ]
  },
  {
   "cell_type": "markdown",
   "metadata": {},
   "source": [
    "### Autovalores de una matriz\n",
    "Los autovalores de una matriz cuadrada se calculan con la siguiente función:\n",
    "\n",
    "* `eigvals(a)` : Devuelve los autovalores de la matriz cuadrada a."
   ]
  },
  {
   "cell_type": "code",
   "execution_count": 111,
   "metadata": {},
   "outputs": [
    {
     "name": "stdout",
     "output_type": "stream",
     "text": [
      "[ 3.00000000e+00  1.00000000e+00 -3.36770206e-17]\n"
     ]
    }
   ],
   "source": [
    "a = np.array([[1, 1, 0], [1, 2, 1], [0, 1, 1]])\n",
    "print(np.linalg.eigvals(a))"
   ]
  },
  {
   "cell_type": "markdown",
   "metadata": {},
   "source": [
    "### Autovectores de una matriz\n",
    "Los autovectores de una matriz cuadrada se calculan con la siguiente función:\n",
    "\n",
    "* `eig(a)` : Devuelve los autovalores y los autovectores asociados de la matriz cuadrada a."
   ]
  },
  {
   "cell_type": "code",
   "execution_count": 112,
   "metadata": {},
   "outputs": [
    {
     "name": "stdout",
     "output_type": "stream",
     "text": [
      "(array([ 3.00000000e+00,  1.00000000e+00, -3.36770206e-17]), array([[-4.08248290e-01,  7.07106781e-01,  5.77350269e-01],\n",
      "       [-8.16496581e-01,  2.61239546e-16, -5.77350269e-01],\n",
      "       [-4.08248290e-01, -7.07106781e-01,  5.77350269e-01]]))\n"
     ]
    }
   ],
   "source": [
    "a = np.array([[1, 1, 0], [1, 2, 1], [0, 1, 1]])\n",
    "print(np.linalg.eig(a))"
   ]
  },
  {
   "cell_type": "markdown",
   "metadata": {},
   "source": [
    "### Solución de un sistema de ecuaciones\n",
    "Para resolver un sistema de ecuaciones lineales se utiliza la función siguiente:\n",
    "\n",
    "* `solve(a, b)` : Devuelve la solución del sistema de ecuaciones lineales con los **coeficientes de la matriz** **a** y los **términos independientes** de la **matriz b**."
   ]
  },
  {
   "cell_type": "code",
   "execution_count": 113,
   "metadata": {},
   "outputs": [
    {
     "name": "stdout",
     "output_type": "stream",
     "text": [
      "[-1.  1.]\n"
     ]
    }
   ],
   "source": [
    "# Sistema de dos ecuaciones y dos incógnitas\n",
    "# x + 2y = 1\n",
    "# 3x + 5y = 2 \n",
    "# Representaion del sistema de ecuaciones:\n",
    "\n",
    "a = np.array([[1, 2], [3, 5]])\n",
    "b = np.array([1, 2])\n",
    "\n",
    "print(np.linalg.solve(a, b))"
   ]
  },
  {
   "cell_type": "markdown",
   "metadata": {},
   "source": [
    "## Entrada/Salida desde/hasta archivos\n",
    "\n",
    "\n",
    "### Valores separados por coma (Comma-separated values, CSV)\n",
    "\n",
    "Un formato muy común para archivos de datos es el de valores separados por comas, o formatos relacionados, como por ejemplo TSV (tab-separated values, valores separados por tabs). Para leer datos desde tales archivos a un arreglo `NumPy` podemos usar la función `numpy.genfromtxt`. Por ejemplo, "
   ]
  },
  {
   "cell_type": "code",
   "execution_count": null,
   "metadata": {
    "jupyter": {
     "outputs_hidden": true
    }
   },
   "outputs": [],
   "source": [
    "# Solo en linux\n",
    "!head '../data/stockholm_td_adj.dat' # despliega las primeras líneas del archivo stockholm_td_adj.dat.\n",
    "#Se puede hacer lo mismo con la terminal"
   ]
  },
  {
   "cell_type": "code",
   "execution_count": 115,
   "metadata": {
    "jupyter": {
     "outputs_hidden": true
    }
   },
   "outputs": [
    {
     "data": {
      "text/plain": [
       "'../data/stockholm_td_adj.dat'"
      ]
     },
     "execution_count": 115,
     "metadata": {},
     "output_type": "execute_result"
    }
   ],
   "source": [
    "path_data = '../data/stockholm_td_adj.dat'\n",
    "path_data"
   ]
  },
  {
   "cell_type": "markdown",
   "metadata": {},
   "source": [
    "#### np.genfromtxt"
   ]
  },
  {
   "cell_type": "code",
   "execution_count": 117,
   "metadata": {
    "jupyter": {
     "outputs_hidden": true
    }
   },
   "outputs": [
    {
     "data": {
      "text/plain": [
       "array([[ 1.800e+03,  1.000e+00,  1.000e+00, ..., -6.100e+00, -6.100e+00,\n",
       "         1.000e+00],\n",
       "       [ 1.800e+03,  1.000e+00,  2.000e+00, ..., -1.540e+01, -1.540e+01,\n",
       "         1.000e+00],\n",
       "       [ 1.800e+03,  1.000e+00,  3.000e+00, ..., -1.500e+01, -1.500e+01,\n",
       "         1.000e+00],\n",
       "       ...,\n",
       "       [ 2.011e+03,  1.200e+01,  2.900e+01, ...,  4.200e+00,  4.200e+00,\n",
       "         1.000e+00],\n",
       "       [ 2.011e+03,  1.200e+01,  3.000e+01, ..., -1.000e-01, -1.000e-01,\n",
       "         1.000e+00],\n",
       "       [ 2.011e+03,  1.200e+01,  3.100e+01, ..., -3.300e+00, -3.300e+00,\n",
       "         1.000e+00]])"
      ]
     },
     "execution_count": 117,
     "metadata": {},
     "output_type": "execute_result"
    }
   ],
   "source": [
    "data = np.genfromtxt(path_data)  # asigna los datos del archivo al arreglo data\n",
    "data"
   ]
  },
  {
   "cell_type": "code",
   "execution_count": 118,
   "metadata": {
    "jupyter": {
     "outputs_hidden": true
    }
   },
   "outputs": [
    {
     "data": {
      "text/plain": [
       "array([1800., 1800., 1800., ..., 2011., 2011., 2011.])"
      ]
     },
     "execution_count": 118,
     "metadata": {},
     "output_type": "execute_result"
    }
   ],
   "source": [
    "data[:,0] #año"
   ]
  },
  {
   "cell_type": "code",
   "execution_count": 119,
   "metadata": {
    "jupyter": {
     "outputs_hidden": true
    }
   },
   "outputs": [
    {
     "data": {
      "text/plain": [
       "array([ 1.,  1.,  1., ..., 12., 12., 12.])"
      ]
     },
     "execution_count": 119,
     "metadata": {},
     "output_type": "execute_result"
    }
   ],
   "source": [
    "data[:,1] #mes"
   ]
  },
  {
   "cell_type": "code",
   "execution_count": 120,
   "metadata": {
    "jupyter": {
     "outputs_hidden": true
    }
   },
   "outputs": [
    {
     "data": {
      "text/plain": [
       "array([ 1.,  2.,  3., ..., 29., 30., 31.])"
      ]
     },
     "execution_count": 120,
     "metadata": {},
     "output_type": "execute_result"
    }
   ],
   "source": [
    "data[:,2] #día"
   ]
  },
  {
   "cell_type": "code",
   "execution_count": 268,
   "metadata": {
    "jupyter": {
     "outputs_hidden": true
    }
   },
   "outputs": [
    {
     "data": {
      "application/javascript": [
       "/* Put everything inside the global mpl namespace */\n",
       "window.mpl = {};\n",
       "\n",
       "\n",
       "mpl.get_websocket_type = function() {\n",
       "    if (typeof(WebSocket) !== 'undefined') {\n",
       "        return WebSocket;\n",
       "    } else if (typeof(MozWebSocket) !== 'undefined') {\n",
       "        return MozWebSocket;\n",
       "    } else {\n",
       "        alert('Your browser does not have WebSocket support. ' +\n",
       "              'Please try Chrome, Safari or Firefox ≥ 6. ' +\n",
       "              'Firefox 4 and 5 are also supported but you ' +\n",
       "              'have to enable WebSockets in about:config.');\n",
       "    };\n",
       "}\n",
       "\n",
       "mpl.figure = function(figure_id, websocket, ondownload, parent_element) {\n",
       "    this.id = figure_id;\n",
       "\n",
       "    this.ws = websocket;\n",
       "\n",
       "    this.supports_binary = (this.ws.binaryType != undefined);\n",
       "\n",
       "    if (!this.supports_binary) {\n",
       "        var warnings = document.getElementById(\"mpl-warnings\");\n",
       "        if (warnings) {\n",
       "            warnings.style.display = 'block';\n",
       "            warnings.textContent = (\n",
       "                \"This browser does not support binary websocket messages. \" +\n",
       "                    \"Performance may be slow.\");\n",
       "        }\n",
       "    }\n",
       "\n",
       "    this.imageObj = new Image();\n",
       "\n",
       "    this.context = undefined;\n",
       "    this.message = undefined;\n",
       "    this.canvas = undefined;\n",
       "    this.rubberband_canvas = undefined;\n",
       "    this.rubberband_context = undefined;\n",
       "    this.format_dropdown = undefined;\n",
       "\n",
       "    this.image_mode = 'full';\n",
       "\n",
       "    this.root = $('<div/>');\n",
       "    this._root_extra_style(this.root)\n",
       "    this.root.attr('style', 'display: inline-block');\n",
       "\n",
       "    $(parent_element).append(this.root);\n",
       "\n",
       "    this._init_header(this);\n",
       "    this._init_canvas(this);\n",
       "    this._init_toolbar(this);\n",
       "\n",
       "    var fig = this;\n",
       "\n",
       "    this.waiting = false;\n",
       "\n",
       "    this.ws.onopen =  function () {\n",
       "            fig.send_message(\"supports_binary\", {value: fig.supports_binary});\n",
       "            fig.send_message(\"send_image_mode\", {});\n",
       "            if (mpl.ratio != 1) {\n",
       "                fig.send_message(\"set_dpi_ratio\", {'dpi_ratio': mpl.ratio});\n",
       "            }\n",
       "            fig.send_message(\"refresh\", {});\n",
       "        }\n",
       "\n",
       "    this.imageObj.onload = function() {\n",
       "            if (fig.image_mode == 'full') {\n",
       "                // Full images could contain transparency (where diff images\n",
       "                // almost always do), so we need to clear the canvas so that\n",
       "                // there is no ghosting.\n",
       "                fig.context.clearRect(0, 0, fig.canvas.width, fig.canvas.height);\n",
       "            }\n",
       "            fig.context.drawImage(fig.imageObj, 0, 0);\n",
       "        };\n",
       "\n",
       "    this.imageObj.onunload = function() {\n",
       "        fig.ws.close();\n",
       "    }\n",
       "\n",
       "    this.ws.onmessage = this._make_on_message_function(this);\n",
       "\n",
       "    this.ondownload = ondownload;\n",
       "}\n",
       "\n",
       "mpl.figure.prototype._init_header = function() {\n",
       "    var titlebar = $(\n",
       "        '<div class=\"ui-dialog-titlebar ui-widget-header ui-corner-all ' +\n",
       "        'ui-helper-clearfix\"/>');\n",
       "    var titletext = $(\n",
       "        '<div class=\"ui-dialog-title\" style=\"width: 100%; ' +\n",
       "        'text-align: center; padding: 3px;\"/>');\n",
       "    titlebar.append(titletext)\n",
       "    this.root.append(titlebar);\n",
       "    this.header = titletext[0];\n",
       "}\n",
       "\n",
       "\n",
       "\n",
       "mpl.figure.prototype._canvas_extra_style = function(canvas_div) {\n",
       "\n",
       "}\n",
       "\n",
       "\n",
       "mpl.figure.prototype._root_extra_style = function(canvas_div) {\n",
       "\n",
       "}\n",
       "\n",
       "mpl.figure.prototype._init_canvas = function() {\n",
       "    var fig = this;\n",
       "\n",
       "    var canvas_div = $('<div/>');\n",
       "\n",
       "    canvas_div.attr('style', 'position: relative; clear: both; outline: 0');\n",
       "\n",
       "    function canvas_keyboard_event(event) {\n",
       "        return fig.key_event(event, event['data']);\n",
       "    }\n",
       "\n",
       "    canvas_div.keydown('key_press', canvas_keyboard_event);\n",
       "    canvas_div.keyup('key_release', canvas_keyboard_event);\n",
       "    this.canvas_div = canvas_div\n",
       "    this._canvas_extra_style(canvas_div)\n",
       "    this.root.append(canvas_div);\n",
       "\n",
       "    var canvas = $('<canvas/>');\n",
       "    canvas.addClass('mpl-canvas');\n",
       "    canvas.attr('style', \"left: 0; top: 0; z-index: 0; outline: 0\")\n",
       "\n",
       "    this.canvas = canvas[0];\n",
       "    this.context = canvas[0].getContext(\"2d\");\n",
       "\n",
       "    var backingStore = this.context.backingStorePixelRatio ||\n",
       "\tthis.context.webkitBackingStorePixelRatio ||\n",
       "\tthis.context.mozBackingStorePixelRatio ||\n",
       "\tthis.context.msBackingStorePixelRatio ||\n",
       "\tthis.context.oBackingStorePixelRatio ||\n",
       "\tthis.context.backingStorePixelRatio || 1;\n",
       "\n",
       "    mpl.ratio = (window.devicePixelRatio || 1) / backingStore;\n",
       "\n",
       "    var rubberband = $('<canvas/>');\n",
       "    rubberband.attr('style', \"position: absolute; left: 0; top: 0; z-index: 1;\")\n",
       "\n",
       "    var pass_mouse_events = true;\n",
       "\n",
       "    canvas_div.resizable({\n",
       "        start: function(event, ui) {\n",
       "            pass_mouse_events = false;\n",
       "        },\n",
       "        resize: function(event, ui) {\n",
       "            fig.request_resize(ui.size.width, ui.size.height);\n",
       "        },\n",
       "        stop: function(event, ui) {\n",
       "            pass_mouse_events = true;\n",
       "            fig.request_resize(ui.size.width, ui.size.height);\n",
       "        },\n",
       "    });\n",
       "\n",
       "    function mouse_event_fn(event) {\n",
       "        if (pass_mouse_events)\n",
       "            return fig.mouse_event(event, event['data']);\n",
       "    }\n",
       "\n",
       "    rubberband.mousedown('button_press', mouse_event_fn);\n",
       "    rubberband.mouseup('button_release', mouse_event_fn);\n",
       "    // Throttle sequential mouse events to 1 every 20ms.\n",
       "    rubberband.mousemove('motion_notify', mouse_event_fn);\n",
       "\n",
       "    rubberband.mouseenter('figure_enter', mouse_event_fn);\n",
       "    rubberband.mouseleave('figure_leave', mouse_event_fn);\n",
       "\n",
       "    canvas_div.on(\"wheel\", function (event) {\n",
       "        event = event.originalEvent;\n",
       "        event['data'] = 'scroll'\n",
       "        if (event.deltaY < 0) {\n",
       "            event.step = 1;\n",
       "        } else {\n",
       "            event.step = -1;\n",
       "        }\n",
       "        mouse_event_fn(event);\n",
       "    });\n",
       "\n",
       "    canvas_div.append(canvas);\n",
       "    canvas_div.append(rubberband);\n",
       "\n",
       "    this.rubberband = rubberband;\n",
       "    this.rubberband_canvas = rubberband[0];\n",
       "    this.rubberband_context = rubberband[0].getContext(\"2d\");\n",
       "    this.rubberband_context.strokeStyle = \"#000000\";\n",
       "\n",
       "    this._resize_canvas = function(width, height) {\n",
       "        // Keep the size of the canvas, canvas container, and rubber band\n",
       "        // canvas in synch.\n",
       "        canvas_div.css('width', width)\n",
       "        canvas_div.css('height', height)\n",
       "\n",
       "        canvas.attr('width', width * mpl.ratio);\n",
       "        canvas.attr('height', height * mpl.ratio);\n",
       "        canvas.attr('style', 'width: ' + width + 'px; height: ' + height + 'px;');\n",
       "\n",
       "        rubberband.attr('width', width);\n",
       "        rubberband.attr('height', height);\n",
       "    }\n",
       "\n",
       "    // Set the figure to an initial 600x600px, this will subsequently be updated\n",
       "    // upon first draw.\n",
       "    this._resize_canvas(600, 600);\n",
       "\n",
       "    // Disable right mouse context menu.\n",
       "    $(this.rubberband_canvas).bind(\"contextmenu\",function(e){\n",
       "        return false;\n",
       "    });\n",
       "\n",
       "    function set_focus () {\n",
       "        canvas.focus();\n",
       "        canvas_div.focus();\n",
       "    }\n",
       "\n",
       "    window.setTimeout(set_focus, 100);\n",
       "}\n",
       "\n",
       "mpl.figure.prototype._init_toolbar = function() {\n",
       "    var fig = this;\n",
       "\n",
       "    var nav_element = $('<div/>');\n",
       "    nav_element.attr('style', 'width: 100%');\n",
       "    this.root.append(nav_element);\n",
       "\n",
       "    // Define a callback function for later on.\n",
       "    function toolbar_event(event) {\n",
       "        return fig.toolbar_button_onclick(event['data']);\n",
       "    }\n",
       "    function toolbar_mouse_event(event) {\n",
       "        return fig.toolbar_button_onmouseover(event['data']);\n",
       "    }\n",
       "\n",
       "    for(var toolbar_ind in mpl.toolbar_items) {\n",
       "        var name = mpl.toolbar_items[toolbar_ind][0];\n",
       "        var tooltip = mpl.toolbar_items[toolbar_ind][1];\n",
       "        var image = mpl.toolbar_items[toolbar_ind][2];\n",
       "        var method_name = mpl.toolbar_items[toolbar_ind][3];\n",
       "\n",
       "        if (!name) {\n",
       "            // put a spacer in here.\n",
       "            continue;\n",
       "        }\n",
       "        var button = $('<button/>');\n",
       "        button.addClass('ui-button ui-widget ui-state-default ui-corner-all ' +\n",
       "                        'ui-button-icon-only');\n",
       "        button.attr('role', 'button');\n",
       "        button.attr('aria-disabled', 'false');\n",
       "        button.click(method_name, toolbar_event);\n",
       "        button.mouseover(tooltip, toolbar_mouse_event);\n",
       "\n",
       "        var icon_img = $('<span/>');\n",
       "        icon_img.addClass('ui-button-icon-primary ui-icon');\n",
       "        icon_img.addClass(image);\n",
       "        icon_img.addClass('ui-corner-all');\n",
       "\n",
       "        var tooltip_span = $('<span/>');\n",
       "        tooltip_span.addClass('ui-button-text');\n",
       "        tooltip_span.html(tooltip);\n",
       "\n",
       "        button.append(icon_img);\n",
       "        button.append(tooltip_span);\n",
       "\n",
       "        nav_element.append(button);\n",
       "    }\n",
       "\n",
       "    var fmt_picker_span = $('<span/>');\n",
       "\n",
       "    var fmt_picker = $('<select/>');\n",
       "    fmt_picker.addClass('mpl-toolbar-option ui-widget ui-widget-content');\n",
       "    fmt_picker_span.append(fmt_picker);\n",
       "    nav_element.append(fmt_picker_span);\n",
       "    this.format_dropdown = fmt_picker[0];\n",
       "\n",
       "    for (var ind in mpl.extensions) {\n",
       "        var fmt = mpl.extensions[ind];\n",
       "        var option = $(\n",
       "            '<option/>', {selected: fmt === mpl.default_extension}).html(fmt);\n",
       "        fmt_picker.append(option);\n",
       "    }\n",
       "\n",
       "    // Add hover states to the ui-buttons\n",
       "    $( \".ui-button\" ).hover(\n",
       "        function() { $(this).addClass(\"ui-state-hover\");},\n",
       "        function() { $(this).removeClass(\"ui-state-hover\");}\n",
       "    );\n",
       "\n",
       "    var status_bar = $('<span class=\"mpl-message\"/>');\n",
       "    nav_element.append(status_bar);\n",
       "    this.message = status_bar[0];\n",
       "}\n",
       "\n",
       "mpl.figure.prototype.request_resize = function(x_pixels, y_pixels) {\n",
       "    // Request matplotlib to resize the figure. Matplotlib will then trigger a resize in the client,\n",
       "    // which will in turn request a refresh of the image.\n",
       "    this.send_message('resize', {'width': x_pixels, 'height': y_pixels});\n",
       "}\n",
       "\n",
       "mpl.figure.prototype.send_message = function(type, properties) {\n",
       "    properties['type'] = type;\n",
       "    properties['figure_id'] = this.id;\n",
       "    this.ws.send(JSON.stringify(properties));\n",
       "}\n",
       "\n",
       "mpl.figure.prototype.send_draw_message = function() {\n",
       "    if (!this.waiting) {\n",
       "        this.waiting = true;\n",
       "        this.ws.send(JSON.stringify({type: \"draw\", figure_id: this.id}));\n",
       "    }\n",
       "}\n",
       "\n",
       "\n",
       "mpl.figure.prototype.handle_save = function(fig, msg) {\n",
       "    var format_dropdown = fig.format_dropdown;\n",
       "    var format = format_dropdown.options[format_dropdown.selectedIndex].value;\n",
       "    fig.ondownload(fig, format);\n",
       "}\n",
       "\n",
       "\n",
       "mpl.figure.prototype.handle_resize = function(fig, msg) {\n",
       "    var size = msg['size'];\n",
       "    if (size[0] != fig.canvas.width || size[1] != fig.canvas.height) {\n",
       "        fig._resize_canvas(size[0], size[1]);\n",
       "        fig.send_message(\"refresh\", {});\n",
       "    };\n",
       "}\n",
       "\n",
       "mpl.figure.prototype.handle_rubberband = function(fig, msg) {\n",
       "    var x0 = msg['x0'] / mpl.ratio;\n",
       "    var y0 = (fig.canvas.height - msg['y0']) / mpl.ratio;\n",
       "    var x1 = msg['x1'] / mpl.ratio;\n",
       "    var y1 = (fig.canvas.height - msg['y1']) / mpl.ratio;\n",
       "    x0 = Math.floor(x0) + 0.5;\n",
       "    y0 = Math.floor(y0) + 0.5;\n",
       "    x1 = Math.floor(x1) + 0.5;\n",
       "    y1 = Math.floor(y1) + 0.5;\n",
       "    var min_x = Math.min(x0, x1);\n",
       "    var min_y = Math.min(y0, y1);\n",
       "    var width = Math.abs(x1 - x0);\n",
       "    var height = Math.abs(y1 - y0);\n",
       "\n",
       "    fig.rubberband_context.clearRect(\n",
       "        0, 0, fig.canvas.width / mpl.ratio, fig.canvas.height / mpl.ratio);\n",
       "\n",
       "    fig.rubberband_context.strokeRect(min_x, min_y, width, height);\n",
       "}\n",
       "\n",
       "mpl.figure.prototype.handle_figure_label = function(fig, msg) {\n",
       "    // Updates the figure title.\n",
       "    fig.header.textContent = msg['label'];\n",
       "}\n",
       "\n",
       "mpl.figure.prototype.handle_cursor = function(fig, msg) {\n",
       "    var cursor = msg['cursor'];\n",
       "    switch(cursor)\n",
       "    {\n",
       "    case 0:\n",
       "        cursor = 'pointer';\n",
       "        break;\n",
       "    case 1:\n",
       "        cursor = 'default';\n",
       "        break;\n",
       "    case 2:\n",
       "        cursor = 'crosshair';\n",
       "        break;\n",
       "    case 3:\n",
       "        cursor = 'move';\n",
       "        break;\n",
       "    }\n",
       "    fig.rubberband_canvas.style.cursor = cursor;\n",
       "}\n",
       "\n",
       "mpl.figure.prototype.handle_message = function(fig, msg) {\n",
       "    fig.message.textContent = msg['message'];\n",
       "}\n",
       "\n",
       "mpl.figure.prototype.handle_draw = function(fig, msg) {\n",
       "    // Request the server to send over a new figure.\n",
       "    fig.send_draw_message();\n",
       "}\n",
       "\n",
       "mpl.figure.prototype.handle_image_mode = function(fig, msg) {\n",
       "    fig.image_mode = msg['mode'];\n",
       "}\n",
       "\n",
       "mpl.figure.prototype.updated_canvas_event = function() {\n",
       "    // Called whenever the canvas gets updated.\n",
       "    this.send_message(\"ack\", {});\n",
       "}\n",
       "\n",
       "// A function to construct a web socket function for onmessage handling.\n",
       "// Called in the figure constructor.\n",
       "mpl.figure.prototype._make_on_message_function = function(fig) {\n",
       "    return function socket_on_message(evt) {\n",
       "        if (evt.data instanceof Blob) {\n",
       "            /* FIXME: We get \"Resource interpreted as Image but\n",
       "             * transferred with MIME type text/plain:\" errors on\n",
       "             * Chrome.  But how to set the MIME type?  It doesn't seem\n",
       "             * to be part of the websocket stream */\n",
       "            evt.data.type = \"image/png\";\n",
       "\n",
       "            /* Free the memory for the previous frames */\n",
       "            if (fig.imageObj.src) {\n",
       "                (window.URL || window.webkitURL).revokeObjectURL(\n",
       "                    fig.imageObj.src);\n",
       "            }\n",
       "\n",
       "            fig.imageObj.src = (window.URL || window.webkitURL).createObjectURL(\n",
       "                evt.data);\n",
       "            fig.updated_canvas_event();\n",
       "            fig.waiting = false;\n",
       "            return;\n",
       "        }\n",
       "        else if (typeof evt.data === 'string' && evt.data.slice(0, 21) == \"data:image/png;base64\") {\n",
       "            fig.imageObj.src = evt.data;\n",
       "            fig.updated_canvas_event();\n",
       "            fig.waiting = false;\n",
       "            return;\n",
       "        }\n",
       "\n",
       "        var msg = JSON.parse(evt.data);\n",
       "        var msg_type = msg['type'];\n",
       "\n",
       "        // Call the  \"handle_{type}\" callback, which takes\n",
       "        // the figure and JSON message as its only arguments.\n",
       "        try {\n",
       "            var callback = fig[\"handle_\" + msg_type];\n",
       "        } catch (e) {\n",
       "            console.log(\"No handler for the '\" + msg_type + \"' message type: \", msg);\n",
       "            return;\n",
       "        }\n",
       "\n",
       "        if (callback) {\n",
       "            try {\n",
       "                // console.log(\"Handling '\" + msg_type + \"' message: \", msg);\n",
       "                callback(fig, msg);\n",
       "            } catch (e) {\n",
       "                console.log(\"Exception inside the 'handler_\" + msg_type + \"' callback:\", e, e.stack, msg);\n",
       "            }\n",
       "        }\n",
       "    };\n",
       "}\n",
       "\n",
       "// from http://stackoverflow.com/questions/1114465/getting-mouse-location-in-canvas\n",
       "mpl.findpos = function(e) {\n",
       "    //this section is from http://www.quirksmode.org/js/events_properties.html\n",
       "    var targ;\n",
       "    if (!e)\n",
       "        e = window.event;\n",
       "    if (e.target)\n",
       "        targ = e.target;\n",
       "    else if (e.srcElement)\n",
       "        targ = e.srcElement;\n",
       "    if (targ.nodeType == 3) // defeat Safari bug\n",
       "        targ = targ.parentNode;\n",
       "\n",
       "    // jQuery normalizes the pageX and pageY\n",
       "    // pageX,Y are the mouse positions relative to the document\n",
       "    // offset() returns the position of the element relative to the document\n",
       "    var x = e.pageX - $(targ).offset().left;\n",
       "    var y = e.pageY - $(targ).offset().top;\n",
       "\n",
       "    return {\"x\": x, \"y\": y};\n",
       "};\n",
       "\n",
       "/*\n",
       " * return a copy of an object with only non-object keys\n",
       " * we need this to avoid circular references\n",
       " * http://stackoverflow.com/a/24161582/3208463\n",
       " */\n",
       "function simpleKeys (original) {\n",
       "  return Object.keys(original).reduce(function (obj, key) {\n",
       "    if (typeof original[key] !== 'object')\n",
       "        obj[key] = original[key]\n",
       "    return obj;\n",
       "  }, {});\n",
       "}\n",
       "\n",
       "mpl.figure.prototype.mouse_event = function(event, name) {\n",
       "    var canvas_pos = mpl.findpos(event)\n",
       "\n",
       "    if (name === 'button_press')\n",
       "    {\n",
       "        this.canvas.focus();\n",
       "        this.canvas_div.focus();\n",
       "    }\n",
       "\n",
       "    var x = canvas_pos.x * mpl.ratio;\n",
       "    var y = canvas_pos.y * mpl.ratio;\n",
       "\n",
       "    this.send_message(name, {x: x, y: y, button: event.button,\n",
       "                             step: event.step,\n",
       "                             guiEvent: simpleKeys(event)});\n",
       "\n",
       "    /* This prevents the web browser from automatically changing to\n",
       "     * the text insertion cursor when the button is pressed.  We want\n",
       "     * to control all of the cursor setting manually through the\n",
       "     * 'cursor' event from matplotlib */\n",
       "    event.preventDefault();\n",
       "    return false;\n",
       "}\n",
       "\n",
       "mpl.figure.prototype._key_event_extra = function(event, name) {\n",
       "    // Handle any extra behaviour associated with a key event\n",
       "}\n",
       "\n",
       "mpl.figure.prototype.key_event = function(event, name) {\n",
       "\n",
       "    // Prevent repeat events\n",
       "    if (name == 'key_press')\n",
       "    {\n",
       "        if (event.which === this._key)\n",
       "            return;\n",
       "        else\n",
       "            this._key = event.which;\n",
       "    }\n",
       "    if (name == 'key_release')\n",
       "        this._key = null;\n",
       "\n",
       "    var value = '';\n",
       "    if (event.ctrlKey && event.which != 17)\n",
       "        value += \"ctrl+\";\n",
       "    if (event.altKey && event.which != 18)\n",
       "        value += \"alt+\";\n",
       "    if (event.shiftKey && event.which != 16)\n",
       "        value += \"shift+\";\n",
       "\n",
       "    value += 'k';\n",
       "    value += event.which.toString();\n",
       "\n",
       "    this._key_event_extra(event, name);\n",
       "\n",
       "    this.send_message(name, {key: value,\n",
       "                             guiEvent: simpleKeys(event)});\n",
       "    return false;\n",
       "}\n",
       "\n",
       "mpl.figure.prototype.toolbar_button_onclick = function(name) {\n",
       "    if (name == 'download') {\n",
       "        this.handle_save(this, null);\n",
       "    } else {\n",
       "        this.send_message(\"toolbar_button\", {name: name});\n",
       "    }\n",
       "};\n",
       "\n",
       "mpl.figure.prototype.toolbar_button_onmouseover = function(tooltip) {\n",
       "    this.message.textContent = tooltip;\n",
       "};\n",
       "mpl.toolbar_items = [[\"Home\", \"Reset original view\", \"fa fa-home icon-home\", \"home\"], [\"Back\", \"Back to previous view\", \"fa fa-arrow-left icon-arrow-left\", \"back\"], [\"Forward\", \"Forward to next view\", \"fa fa-arrow-right icon-arrow-right\", \"forward\"], [\"\", \"\", \"\", \"\"], [\"Pan\", \"Pan axes with left mouse, zoom with right\", \"fa fa-arrows icon-move\", \"pan\"], [\"Zoom\", \"Zoom to rectangle\", \"fa fa-square-o icon-check-empty\", \"zoom\"], [\"\", \"\", \"\", \"\"], [\"Download\", \"Download plot\", \"fa fa-floppy-o icon-save\", \"download\"]];\n",
       "\n",
       "mpl.extensions = [\"eps\", \"jpeg\", \"pdf\", \"png\", \"ps\", \"raw\", \"svg\", \"tif\"];\n",
       "\n",
       "mpl.default_extension = \"png\";var comm_websocket_adapter = function(comm) {\n",
       "    // Create a \"websocket\"-like object which calls the given IPython comm\n",
       "    // object with the appropriate methods. Currently this is a non binary\n",
       "    // socket, so there is still some room for performance tuning.\n",
       "    var ws = {};\n",
       "\n",
       "    ws.close = function() {\n",
       "        comm.close()\n",
       "    };\n",
       "    ws.send = function(m) {\n",
       "        //console.log('sending', m);\n",
       "        comm.send(m);\n",
       "    };\n",
       "    // Register the callback with on_msg.\n",
       "    comm.on_msg(function(msg) {\n",
       "        //console.log('receiving', msg['content']['data'], msg);\n",
       "        // Pass the mpl event to the overridden (by mpl) onmessage function.\n",
       "        ws.onmessage(msg['content']['data'])\n",
       "    });\n",
       "    return ws;\n",
       "}\n",
       "\n",
       "mpl.mpl_figure_comm = function(comm, msg) {\n",
       "    // This is the function which gets called when the mpl process\n",
       "    // starts-up an IPython Comm through the \"matplotlib\" channel.\n",
       "\n",
       "    var id = msg.content.data.id;\n",
       "    // Get hold of the div created by the display call when the Comm\n",
       "    // socket was opened in Python.\n",
       "    var element = $(\"#\" + id);\n",
       "    var ws_proxy = comm_websocket_adapter(comm)\n",
       "\n",
       "    function ondownload(figure, format) {\n",
       "        window.open(figure.imageObj.src);\n",
       "    }\n",
       "\n",
       "    var fig = new mpl.figure(id, ws_proxy,\n",
       "                           ondownload,\n",
       "                           element.get(0));\n",
       "\n",
       "    // Call onopen now - mpl needs it, as it is assuming we've passed it a real\n",
       "    // web socket which is closed, not our websocket->open comm proxy.\n",
       "    ws_proxy.onopen();\n",
       "\n",
       "    fig.parent_element = element.get(0);\n",
       "    fig.cell_info = mpl.find_output_cell(\"<div id='\" + id + \"'></div>\");\n",
       "    if (!fig.cell_info) {\n",
       "        console.error(\"Failed to find cell for figure\", id, fig);\n",
       "        return;\n",
       "    }\n",
       "\n",
       "    var output_index = fig.cell_info[2]\n",
       "    var cell = fig.cell_info[0];\n",
       "\n",
       "};\n",
       "\n",
       "mpl.figure.prototype.handle_close = function(fig, msg) {\n",
       "    var width = fig.canvas.width/mpl.ratio\n",
       "    fig.root.unbind('remove')\n",
       "\n",
       "    // Update the output cell to use the data from the current canvas.\n",
       "    fig.push_to_output();\n",
       "    var dataURL = fig.canvas.toDataURL();\n",
       "    // Re-enable the keyboard manager in IPython - without this line, in FF,\n",
       "    // the notebook keyboard shortcuts fail.\n",
       "    IPython.keyboard_manager.enable()\n",
       "    $(fig.parent_element).html('<img src=\"' + dataURL + '\" width=\"' + width + '\">');\n",
       "    fig.close_ws(fig, msg);\n",
       "}\n",
       "\n",
       "mpl.figure.prototype.close_ws = function(fig, msg){\n",
       "    fig.send_message('closing', msg);\n",
       "    // fig.ws.close()\n",
       "}\n",
       "\n",
       "mpl.figure.prototype.push_to_output = function(remove_interactive) {\n",
       "    // Turn the data on the canvas into data in the output cell.\n",
       "    var width = this.canvas.width/mpl.ratio\n",
       "    var dataURL = this.canvas.toDataURL();\n",
       "    this.cell_info[1]['text/html'] = '<img src=\"' + dataURL + '\" width=\"' + width + '\">';\n",
       "}\n",
       "\n",
       "mpl.figure.prototype.updated_canvas_event = function() {\n",
       "    // Tell IPython that the notebook contents must change.\n",
       "    IPython.notebook.set_dirty(true);\n",
       "    this.send_message(\"ack\", {});\n",
       "    var fig = this;\n",
       "    // Wait a second, then push the new image to the DOM so\n",
       "    // that it is saved nicely (might be nice to debounce this).\n",
       "    setTimeout(function () { fig.push_to_output() }, 1000);\n",
       "}\n",
       "\n",
       "mpl.figure.prototype._init_toolbar = function() {\n",
       "    var fig = this;\n",
       "\n",
       "    var nav_element = $('<div/>');\n",
       "    nav_element.attr('style', 'width: 100%');\n",
       "    this.root.append(nav_element);\n",
       "\n",
       "    // Define a callback function for later on.\n",
       "    function toolbar_event(event) {\n",
       "        return fig.toolbar_button_onclick(event['data']);\n",
       "    }\n",
       "    function toolbar_mouse_event(event) {\n",
       "        return fig.toolbar_button_onmouseover(event['data']);\n",
       "    }\n",
       "\n",
       "    for(var toolbar_ind in mpl.toolbar_items){\n",
       "        var name = mpl.toolbar_items[toolbar_ind][0];\n",
       "        var tooltip = mpl.toolbar_items[toolbar_ind][1];\n",
       "        var image = mpl.toolbar_items[toolbar_ind][2];\n",
       "        var method_name = mpl.toolbar_items[toolbar_ind][3];\n",
       "\n",
       "        if (!name) { continue; };\n",
       "\n",
       "        var button = $('<button class=\"btn btn-default\" href=\"#\" title=\"' + name + '\"><i class=\"fa ' + image + ' fa-lg\"></i></button>');\n",
       "        button.click(method_name, toolbar_event);\n",
       "        button.mouseover(tooltip, toolbar_mouse_event);\n",
       "        nav_element.append(button);\n",
       "    }\n",
       "\n",
       "    // Add the status bar.\n",
       "    var status_bar = $('<span class=\"mpl-message\" style=\"text-align:right; float: right;\"/>');\n",
       "    nav_element.append(status_bar);\n",
       "    this.message = status_bar[0];\n",
       "\n",
       "    // Add the close button to the window.\n",
       "    var buttongrp = $('<div class=\"btn-group inline pull-right\"></div>');\n",
       "    var button = $('<button class=\"btn btn-mini btn-primary\" href=\"#\" title=\"Stop Interaction\"><i class=\"fa fa-power-off icon-remove icon-large\"></i></button>');\n",
       "    button.click(function (evt) { fig.handle_close(fig, {}); } );\n",
       "    button.mouseover('Stop Interaction', toolbar_mouse_event);\n",
       "    buttongrp.append(button);\n",
       "    var titlebar = this.root.find($('.ui-dialog-titlebar'));\n",
       "    titlebar.prepend(buttongrp);\n",
       "}\n",
       "\n",
       "mpl.figure.prototype._root_extra_style = function(el){\n",
       "    var fig = this\n",
       "    el.on(\"remove\", function(){\n",
       "\tfig.close_ws(fig, {});\n",
       "    });\n",
       "}\n",
       "\n",
       "mpl.figure.prototype._canvas_extra_style = function(el){\n",
       "    // this is important to make the div 'focusable\n",
       "    el.attr('tabindex', 0)\n",
       "    // reach out to IPython and tell the keyboard manager to turn it's self\n",
       "    // off when our div gets focus\n",
       "\n",
       "    // location in version 3\n",
       "    if (IPython.notebook.keyboard_manager) {\n",
       "        IPython.notebook.keyboard_manager.register_events(el);\n",
       "    }\n",
       "    else {\n",
       "        // location in version 2\n",
       "        IPython.keyboard_manager.register_events(el);\n",
       "    }\n",
       "\n",
       "}\n",
       "\n",
       "mpl.figure.prototype._key_event_extra = function(event, name) {\n",
       "    var manager = IPython.notebook.keyboard_manager;\n",
       "    if (!manager)\n",
       "        manager = IPython.keyboard_manager;\n",
       "\n",
       "    // Check for shift+enter\n",
       "    if (event.shiftKey && event.which == 13) {\n",
       "        this.canvas_div.blur();\n",
       "        // select the cell after this one\n",
       "        var index = IPython.notebook.find_cell_index(this.cell_info[0]);\n",
       "        IPython.notebook.select(index + 1);\n",
       "    }\n",
       "}\n",
       "\n",
       "mpl.figure.prototype.handle_save = function(fig, msg) {\n",
       "    fig.ondownload(fig, null);\n",
       "}\n",
       "\n",
       "\n",
       "mpl.find_output_cell = function(html_output) {\n",
       "    // Return the cell and output element which can be found *uniquely* in the notebook.\n",
       "    // Note - this is a bit hacky, but it is done because the \"notebook_saving.Notebook\"\n",
       "    // IPython event is triggered only after the cells have been serialised, which for\n",
       "    // our purposes (turning an active figure into a static one), is too late.\n",
       "    var cells = IPython.notebook.get_cells();\n",
       "    var ncells = cells.length;\n",
       "    for (var i=0; i<ncells; i++) {\n",
       "        var cell = cells[i];\n",
       "        if (cell.cell_type === 'code'){\n",
       "            for (var j=0; j<cell.output_area.outputs.length; j++) {\n",
       "                var data = cell.output_area.outputs[j];\n",
       "                if (data.data) {\n",
       "                    // IPython >= 3 moved mimebundle to data attribute of output\n",
       "                    data = data.data;\n",
       "                }\n",
       "                if (data['text/html'] == html_output) {\n",
       "                    return [cell, data, j];\n",
       "                }\n",
       "            }\n",
       "        }\n",
       "    }\n",
       "}\n",
       "\n",
       "// Register the function which deals with the matplotlib target/channel.\n",
       "// The kernel may be null if the page has been refreshed.\n",
       "if (IPython.notebook.kernel != null) {\n",
       "    IPython.notebook.kernel.comm_manager.register_target('matplotlib', mpl.mpl_figure_comm);\n",
       "}\n"
      ],
      "text/plain": [
       "<IPython.core.display.Javascript object>"
      ]
     },
     "metadata": {},
     "output_type": "display_data"
    },
    {
     "data": {
      "text/html": [
       "<img src=\"data:image/png;base64,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\" width=\"1400\">"
      ],
      "text/plain": [
       "<IPython.core.display.HTML object>"
      ]
     },
     "metadata": {},
     "output_type": "display_data"
    }
   ],
   "source": [
    "fig, ax = plt.subplots(figsize=(14,4))\n",
    "ax.plot(data[:,0]+data[:,1]/12.0+data[:,2]/365, data[:,3])\n",
    "#ax.plot(data[:,0]+data[:,1]/12.0+data[:,2]/365, data[:,4])\n",
    "#ax.plot(data[:,0]+data[:,1]/12.0+data[:,2]/365, data[:,5])\n",
    "ax.axis('tight')\n",
    "ax.set_title('Temperaturas en Estocolmo')\n",
    "ax.set_xlabel(u'Año')\n",
    "ax.set_ylabel(u'Temperatura (°C)');"
   ]
  },
  {
   "cell_type": "markdown",
   "metadata": {},
   "source": [
    "### np.savetxt"
   ]
  },
  {
   "cell_type": "markdown",
   "metadata": {},
   "source": [
    "Generamos una matriz con valores aleatorios."
   ]
  },
  {
   "cell_type": "code",
   "execution_count": 269,
   "metadata": {
    "jupyter": {
     "outputs_hidden": true
    }
   },
   "outputs": [
    {
     "data": {
      "text/plain": [
       "array([[0.34130459, 0.94453734, 0.01477356],\n",
       "       [0.56113922, 0.59834164, 0.55510243],\n",
       "       [0.15229841, 0.12094968, 0.83434458],\n",
       "       [0.03237555, 0.1429294 , 0.04068295]])"
      ]
     },
     "execution_count": 269,
     "metadata": {},
     "output_type": "execute_result"
    }
   ],
   "source": [
    "array2d = np.random.rand(4,3)\n",
    "array2d"
   ]
  },
  {
   "cell_type": "code",
   "execution_count": 270,
   "metadata": {
    "jupyter": {
     "outputs_hidden": true
    }
   },
   "outputs": [],
   "source": [
    "np.savetxt(\"../data/array2d_random00.txt\", array2d)"
   ]
  },
  {
   "cell_type": "code",
   "execution_count": null,
   "metadata": {
    "collapsed": true,
    "jupyter": {
     "outputs_hidden": true
    }
   },
   "outputs": [],
   "source": [
    "#np.savetxt?"
   ]
  },
  {
   "cell_type": "code",
   "execution_count": 271,
   "metadata": {
    "jupyter": {
     "outputs_hidden": true
    }
   },
   "outputs": [],
   "source": [
    "np.savetxt(fname=\"../data/array2d_random01.txt\", X=array2d)"
   ]
  },
  {
   "cell_type": "code",
   "execution_count": null,
   "metadata": {
    "collapsed": true,
    "jupyter": {
     "outputs_hidden": true
    }
   },
   "outputs": [],
   "source": [
    "!head \"../data/array2d_random00.txt\""
   ]
  },
  {
   "cell_type": "code",
   "execution_count": null,
   "metadata": {
    "collapsed": true,
    "jupyter": {
     "outputs_hidden": true
    }
   },
   "outputs": [],
   "source": [
    "!head \"../data/array2d_random01.txt\""
   ]
  },
  {
   "cell_type": "markdown",
   "metadata": {},
   "source": [
    "#### Cabecera de archivo"
   ]
  },
  {
   "cell_type": "code",
   "execution_count": 272,
   "metadata": {
    "jupyter": {
     "outputs_hidden": true
    }
   },
   "outputs": [],
   "source": [
    "np.savetxt(\"../data/array2d_random_with_header.txt\", array2d, header ='Cabecera :D')"
   ]
  },
  {
   "cell_type": "code",
   "execution_count": 273,
   "metadata": {
    "jupyter": {
     "outputs_hidden": true
    }
   },
   "outputs": [
    {
     "name": "stderr",
     "output_type": "stream",
     "text": [
      "\"head\" no se reconoce como un comando interno o externo,\n",
      "programa o archivo por lotes ejecutable.\n"
     ]
    }
   ],
   "source": [
    "!head \"../data/array2d_random_with_header.txt\""
   ]
  },
  {
   "cell_type": "markdown",
   "metadata": {},
   "source": [
    "#### Pie de página de archivo"
   ]
  },
  {
   "cell_type": "code",
   "execution_count": 274,
   "metadata": {
    "jupyter": {
     "outputs_hidden": true
    }
   },
   "outputs": [],
   "source": [
    "np.savetxt(\"../data/array2d_random_with_footer.txt\", array2d, footer ='Pie de página :D')"
   ]
  },
  {
   "cell_type": "code",
   "execution_count": null,
   "metadata": {
    "collapsed": true,
    "jupyter": {
     "outputs_hidden": true
    }
   },
   "outputs": [],
   "source": [
    "!head \"../data/array2d_random_with_footer.txt\""
   ]
  },
  {
   "cell_type": "markdown",
   "metadata": {},
   "source": [
    "#### Delimitadores"
   ]
  },
  {
   "cell_type": "code",
   "execution_count": null,
   "metadata": {
    "collapsed": true,
    "jupyter": {
     "outputs_hidden": true
    }
   },
   "outputs": [],
   "source": [
    "np.savetxt(\"../data/array2d_random_with_delimiter_comma.cvs\", array2d, delimiter =',')"
   ]
  },
  {
   "cell_type": "code",
   "execution_count": null,
   "metadata": {
    "collapsed": true,
    "jupyter": {
     "outputs_hidden": true
    }
   },
   "outputs": [],
   "source": [
    "!head \"../data/array2d_random_with_delimiter_comma.cvs\""
   ]
  },
  {
   "cell_type": "code",
   "execution_count": null,
   "metadata": {
    "collapsed": true,
    "jupyter": {
     "outputs_hidden": true
    }
   },
   "outputs": [],
   "source": [
    "np.savetxt(\"../data/array2d_random_with_delimiter_pointcomma.txt\", array2d, delimiter =';')"
   ]
  },
  {
   "cell_type": "code",
   "execution_count": null,
   "metadata": {
    "collapsed": true,
    "jupyter": {
     "outputs_hidden": true
    }
   },
   "outputs": [],
   "source": [
    "!head \"../data/array2d_random_with_delimiter_pointcomma.txt\""
   ]
  },
  {
   "cell_type": "markdown",
   "metadata": {},
   "source": [
    "#### Formateo de datos"
   ]
  },
  {
   "cell_type": "code",
   "execution_count": null,
   "metadata": {
    "collapsed": true,
    "jupyter": {
     "outputs_hidden": true
    }
   },
   "outputs": [],
   "source": [
    "np.savetxt(\"../data/array2d_random_with_fmt_2.2float.txt\", array2d, fmt ='%2.2f')"
   ]
  },
  {
   "cell_type": "code",
   "execution_count": null,
   "metadata": {
    "collapsed": true,
    "jupyter": {
     "outputs_hidden": true
    }
   },
   "outputs": [],
   "source": [
    "!head \"../data/array2d_random_with_fmt_2.2float.txt\""
   ]
  },
  {
   "cell_type": "code",
   "execution_count": null,
   "metadata": {
    "collapsed": true,
    "jupyter": {
     "outputs_hidden": true
    }
   },
   "outputs": [],
   "source": [
    "np.savetxt(\"../data/array2d_random_with_fmt_3.5float.txt\", array2d, fmt ='%3.5f')"
   ]
  },
  {
   "cell_type": "code",
   "execution_count": null,
   "metadata": {
    "collapsed": true,
    "jupyter": {
     "outputs_hidden": true
    }
   },
   "outputs": [],
   "source": [
    "!head \"../data/array2d_random_with_fmt_3.5float.txt\""
   ]
  },
  {
   "cell_type": "code",
   "execution_count": null,
   "metadata": {
    "collapsed": true,
    "jupyter": {
     "outputs_hidden": true
    }
   },
   "outputs": [],
   "source": [
    "np.savetxt(\"../data/array2d_random_with_fmt_int.txt\", array2d, fmt ='%d')"
   ]
  },
  {
   "cell_type": "code",
   "execution_count": null,
   "metadata": {
    "collapsed": true,
    "jupyter": {
     "outputs_hidden": true
    }
   },
   "outputs": [],
   "source": [
    "!head \"../data/array2d_random_with_fmt_int.txt\""
   ]
  },
  {
   "cell_type": "markdown",
   "metadata": {},
   "source": [
    "Para mayor info sobre los formateadores de strings puede consultar [aquí](https://pyformat.info)."
   ]
  },
  {
   "cell_type": "code",
   "execution_count": null,
   "metadata": {
    "collapsed": true,
    "jupyter": {
     "outputs_hidden": true
    }
   },
   "outputs": [],
   "source": [
    "np.savetxt(\"../data/array3d.txt\", array3d)"
   ]
  },
  {
   "cell_type": "markdown",
   "metadata": {},
   "source": [
    "### El formato de archivo nativo de Numpy\n",
    "\n",
    "Es útil cuando se almacenan arreglos de datos y luego se leen nuevamente con numpy. Use las funciones `numpy.save` y `numpy.load`:"
   ]
  },
  {
   "cell_type": "code",
   "execution_count": null,
   "metadata": {
    "collapsed": true,
    "jupyter": {
     "outputs_hidden": true
    }
   },
   "outputs": [],
   "source": [
    "np.save(\"../data/array2d_random.npy\", array2d)"
   ]
  },
  {
   "cell_type": "code",
   "execution_count": null,
   "metadata": {
    "collapsed": true,
    "jupyter": {
     "outputs_hidden": true
    }
   },
   "outputs": [],
   "source": [
    "#!file \"./data/array2d_random.npy\""
   ]
  },
  {
   "cell_type": "code",
   "execution_count": null,
   "metadata": {
    "collapsed": true,
    "jupyter": {
     "outputs_hidden": true
    }
   },
   "outputs": [],
   "source": [
    "np.load(\"../data/array2d_random.npy\")"
   ]
  },
  {
   "cell_type": "code",
   "execution_count": null,
   "metadata": {
    "collapsed": true,
    "jupyter": {
     "outputs_hidden": true
    }
   },
   "outputs": [],
   "source": [
    "np.save(\"../data/array3d.npy\", array3d)"
   ]
  },
  {
   "cell_type": "code",
   "execution_count": null,
   "metadata": {
    "collapsed": true,
    "jupyter": {
     "outputs_hidden": true
    }
   },
   "outputs": [],
   "source": [
    "np.load(\"../data/array3d.npy\")"
   ]
  },
  {
   "cell_type": "code",
   "execution_count": null,
   "metadata": {
    "collapsed": true,
    "jupyter": {
     "outputs_hidden": true
    }
   },
   "outputs": [],
   "source": [
    "!ls -l \"../data/array2d_random\"*"
   ]
  },
  {
   "cell_type": "markdown",
   "metadata": {},
   "source": [
    "Para mayor info sobre la conveniencia del uso de este formato de archivos puede consultar [aquí](https://towardsdatascience.com/why-you-should-start-using-npy-file-more-often-df2a13cc0161)."
   ]
  },
  {
   "cell_type": "markdown",
   "metadata": {},
   "source": [
    "## Vectorizando funciones\n",
    "\n",
    "Como se ha mencionado en varias ocasiones, para obtener un buen rendimiento deberíamos tratar de evitar realizar bucles sobre los elementos de nuestros vectores y matrices, y en su lugar usar algoritmos vectorizados. El primer paso para convertir un algoritmo escalar a uno vectorizado es asegurarnos de que las funciones que escribamos funcionen con argumentos vectoriales."
   ]
  },
  {
   "cell_type": "code",
   "execution_count": 275,
   "metadata": {
    "jupyter": {
     "outputs_hidden": true
    }
   },
   "outputs": [],
   "source": [
    "def Theta(x):\n",
    "    \"\"\"\n",
    "    Implementación escalar de la función escalón de Heaviside.\n",
    "    \"\"\"\n",
    "    if x >= 0:\n",
    "        return 1\n",
    "    else:\n",
    "        return 0"
   ]
  },
  {
   "cell_type": "code",
   "execution_count": 276,
   "metadata": {
    "jupyter": {
     "outputs_hidden": true
    }
   },
   "outputs": [
    {
     "data": {
      "text/plain": [
       "(0, 1, 1)"
      ]
     },
     "execution_count": 276,
     "metadata": {},
     "output_type": "execute_result"
    }
   ],
   "source": [
    "Theta(-3),Theta(0),Theta(6)"
   ]
  },
  {
   "cell_type": "code",
   "execution_count": 277,
   "metadata": {
    "jupyter": {
     "outputs_hidden": true
    }
   },
   "outputs": [],
   "source": [
    "x = np.array([-3,-2,-1,0,1,2,3])"
   ]
  },
  {
   "cell_type": "code",
   "execution_count": 280,
   "metadata": {
    "jupyter": {
     "outputs_hidden": true
    }
   },
   "outputs": [
    {
     "ename": "ValueError",
     "evalue": "The truth value of an array with more than one element is ambiguous. Use a.any() or a.all()",
     "output_type": "error",
     "traceback": [
      "\u001b[1;31m---------------------------------------------------------------------------\u001b[0m",
      "\u001b[1;31mValueError\u001b[0m                                Traceback (most recent call last)",
      "\u001b[1;32m<ipython-input-280-c8befc840b55>\u001b[0m in \u001b[0;36m<module>\u001b[1;34m\u001b[0m\n\u001b[1;32m----> 1\u001b[1;33m \u001b[0mTheta\u001b[0m\u001b[1;33m(\u001b[0m\u001b[0mx\u001b[0m\u001b[1;33m)\u001b[0m\u001b[1;33m\u001b[0m\u001b[1;33m\u001b[0m\u001b[0m\n\u001b[0m",
      "\u001b[1;32m<ipython-input-275-37c759255d92>\u001b[0m in \u001b[0;36mTheta\u001b[1;34m(x)\u001b[0m\n\u001b[0;32m      3\u001b[0m     \u001b[0mImplementación\u001b[0m \u001b[0mescalar\u001b[0m \u001b[0mde\u001b[0m \u001b[0mla\u001b[0m \u001b[0mfunción\u001b[0m \u001b[0mescalón\u001b[0m \u001b[0mde\u001b[0m \u001b[0mHeaviside\u001b[0m\u001b[1;33m.\u001b[0m\u001b[1;33m\u001b[0m\u001b[1;33m\u001b[0m\u001b[0m\n\u001b[0;32m      4\u001b[0m     \"\"\"\n\u001b[1;32m----> 5\u001b[1;33m     \u001b[1;32mif\u001b[0m \u001b[0mx\u001b[0m \u001b[1;33m>=\u001b[0m \u001b[1;36m0\u001b[0m\u001b[1;33m:\u001b[0m\u001b[1;33m\u001b[0m\u001b[1;33m\u001b[0m\u001b[0m\n\u001b[0m\u001b[0;32m      6\u001b[0m         \u001b[1;32mreturn\u001b[0m \u001b[1;36m1\u001b[0m\u001b[1;33m\u001b[0m\u001b[1;33m\u001b[0m\u001b[0m\n\u001b[0;32m      7\u001b[0m     \u001b[1;32melse\u001b[0m\u001b[1;33m:\u001b[0m\u001b[1;33m\u001b[0m\u001b[1;33m\u001b[0m\u001b[0m\n",
      "\u001b[1;31mValueError\u001b[0m: The truth value of an array with more than one element is ambiguous. Use a.any() or a.all()"
     ]
    }
   ],
   "source": [
    "Theta(x)"
   ]
  },
  {
   "cell_type": "markdown",
   "metadata": {},
   "source": [
    "Ok, eso no funcionó porque no definimos la función `Theta` de modo que pueda manejar argumentos vectoriales. Para obtener una *versión vectorizada* de Theta podemos usar la función `np.vectorize`. En muchos casos, puede vectorizar automáticamente una función:"
   ]
  },
  {
   "cell_type": "code",
   "execution_count": 281,
   "metadata": {
    "jupyter": {
     "outputs_hidden": true
    }
   },
   "outputs": [],
   "source": [
    "Theta_vec = np.vectorize(Theta)"
   ]
  },
  {
   "cell_type": "code",
   "execution_count": 282,
   "metadata": {
    "jupyter": {
     "outputs_hidden": true
    }
   },
   "outputs": [
    {
     "data": {
      "text/plain": [
       "array([0, 0, 0, 1, 1, 1, 1])"
      ]
     },
     "execution_count": 282,
     "metadata": {},
     "output_type": "execute_result"
    }
   ],
   "source": [
    "Theta_vec(x)"
   ]
  },
  {
   "cell_type": "markdown",
   "metadata": {},
   "source": [
    "Podemos también implementar la función de modo que desde el comienzo acepte un argumento vectorial (esto requiere más esfuerzo, para mejorar el rendimiento):"
   ]
  },
  {
   "cell_type": "code",
   "execution_count": 283,
   "metadata": {
    "jupyter": {
     "outputs_hidden": true
    }
   },
   "outputs": [],
   "source": [
    "def Theta2(x):\n",
    "    \"\"\"\n",
    "    Implementación preparada para vectores de la función escalón de Heaviside.\n",
    "    \"\"\"\n",
    "    return 1 * (x >= 0)"
   ]
  },
  {
   "cell_type": "code",
   "execution_count": 284,
   "metadata": {
    "jupyter": {
     "outputs_hidden": true
    }
   },
   "outputs": [
    {
     "data": {
      "text/plain": [
       "(0, 1, 1)"
      ]
     },
     "execution_count": 284,
     "metadata": {},
     "output_type": "execute_result"
    }
   ],
   "source": [
    "Theta2(-3),Theta2(0),Theta2(6)"
   ]
  },
  {
   "cell_type": "code",
   "execution_count": 285,
   "metadata": {
    "jupyter": {
     "outputs_hidden": true
    }
   },
   "outputs": [
    {
     "data": {
      "text/plain": [
       "array([0, 0, 0, 1, 1, 1, 1])"
      ]
     },
     "execution_count": 285,
     "metadata": {},
     "output_type": "execute_result"
    }
   ],
   "source": [
    "Theta2(x)"
   ]
  },
  {
   "cell_type": "markdown",
   "metadata": {},
   "source": [
    "## Copy y \"deep copy\"\n",
    "\n",
    "Para alcanzar un alto desempeño, las asignaciones en Python usualmente no copian los objetos involucrados. Esto es importante cuando se pasan objetos a funciones, para así evitar uso excesivo de memoria copiando cuando no es necesario (término técnico: paso por referencia)"
   ]
  },
  {
   "cell_type": "code",
   "execution_count": 286,
   "metadata": {
    "jupyter": {
     "outputs_hidden": true
    }
   },
   "outputs": [
    {
     "data": {
      "text/plain": [
       "array([[1, 2],\n",
       "       [3, 4]])"
      ]
     },
     "execution_count": 286,
     "metadata": {},
     "output_type": "execute_result"
    }
   ],
   "source": [
    "array2d_original = np.array([[1, 2], [3, 4]])\n",
    "array2d_original"
   ]
  },
  {
   "cell_type": "code",
   "execution_count": 287,
   "metadata": {
    "jupyter": {
     "outputs_hidden": true
    }
   },
   "outputs": [],
   "source": [
    "# ahora array2d_original apunta al mismo arreglo que array2d_original\n",
    "array2d_copiado = array2d_original "
   ]
  },
  {
   "cell_type": "code",
   "execution_count": 288,
   "metadata": {
    "jupyter": {
     "outputs_hidden": true
    }
   },
   "outputs": [
    {
     "data": {
      "text/plain": [
       "(171242160, 171242160)"
      ]
     },
     "execution_count": 288,
     "metadata": {},
     "output_type": "execute_result"
    }
   ],
   "source": [
    "# Posicion Memoria del Id del objeto\n",
    "id(array2d_original),id(array2d_copiado)"
   ]
  },
  {
   "cell_type": "code",
   "execution_count": 289,
   "metadata": {
    "jupyter": {
     "outputs_hidden": true
    }
   },
   "outputs": [],
   "source": [
    "# cambiar array2d_copiado afecta a array2d_original\n",
    "array2d_copiado[0,0] = 10"
   ]
  },
  {
   "cell_type": "code",
   "execution_count": 290,
   "metadata": {
    "jupyter": {
     "outputs_hidden": true
    }
   },
   "outputs": [
    {
     "data": {
      "text/plain": [
       "array([[10,  2],\n",
       "       [ 3,  4]])"
      ]
     },
     "execution_count": 290,
     "metadata": {},
     "output_type": "execute_result"
    }
   ],
   "source": [
    "array2d_copiado"
   ]
  },
  {
   "cell_type": "code",
   "execution_count": 291,
   "metadata": {
    "jupyter": {
     "outputs_hidden": true
    }
   },
   "outputs": [
    {
     "data": {
      "text/plain": [
       "array([[10,  2],\n",
       "       [ 3,  4]])"
      ]
     },
     "execution_count": 291,
     "metadata": {},
     "output_type": "execute_result"
    }
   ],
   "source": [
    "array2d_original"
   ]
  },
  {
   "cell_type": "markdown",
   "metadata": {},
   "source": [
    "Si queremos evitar este comportamiento, para así obtener un nuevo objecto `array2d_copiado` copiado desde `array2d_original`, pero totalmente independiente de `array2d_original`, necesitamos realizar una \"copia profunda\" (\"deep copy\") usando la función `copy`:"
   ]
  },
  {
   "cell_type": "code",
   "execution_count": 292,
   "metadata": {
    "jupyter": {
     "outputs_hidden": true
    }
   },
   "outputs": [],
   "source": [
    "array2d_copiado2 = np.copy(array2d_original)"
   ]
  },
  {
   "cell_type": "code",
   "execution_count": 293,
   "metadata": {
    "jupyter": {
     "outputs_hidden": true
    }
   },
   "outputs": [
    {
     "data": {
      "text/plain": [
       "(171242160, 171363744)"
      ]
     },
     "execution_count": 293,
     "metadata": {},
     "output_type": "execute_result"
    }
   ],
   "source": [
    "id(array2d_original),id(array2d_copiado2)"
   ]
  },
  {
   "cell_type": "code",
   "execution_count": 294,
   "metadata": {
    "jupyter": {
     "outputs_hidden": true
    }
   },
   "outputs": [],
   "source": [
    "# cambiar array2d_copiado2 no afecta a array2d_original\n",
    "array2d_copiado2[0,0] = -5"
   ]
  },
  {
   "cell_type": "code",
   "execution_count": 295,
   "metadata": {
    "jupyter": {
     "outputs_hidden": true
    }
   },
   "outputs": [
    {
     "data": {
      "text/plain": [
       "array([[-5,  2],\n",
       "       [ 3,  4]])"
      ]
     },
     "execution_count": 295,
     "metadata": {},
     "output_type": "execute_result"
    }
   ],
   "source": [
    "array2d_copiado2"
   ]
  },
  {
   "cell_type": "code",
   "execution_count": 296,
   "metadata": {
    "jupyter": {
     "outputs_hidden": true
    }
   },
   "outputs": [
    {
     "data": {
      "text/plain": [
       "array([[10,  2],\n",
       "       [ 3,  4]])"
      ]
     },
     "execution_count": 296,
     "metadata": {},
     "output_type": "execute_result"
    }
   ],
   "source": [
    "array2d_original"
   ]
  },
  {
   "cell_type": "markdown",
   "metadata": {},
   "source": [
    "## Usando arreglos en sentencias condicionales\n",
    "\n",
    "Cuando se usan arreglos en sentencias condicionales, por ejemplo en sentencias `if` y otras expresiones booleanas, necesitamos usar `np.any` o bien `np.all`, que requiere que todos los elementos de un arreglo se evalúen con `True`:"
   ]
  },
  {
   "cell_type": "code",
   "execution_count": 297,
   "metadata": {
    "jupyter": {
     "outputs_hidden": true
    }
   },
   "outputs": [],
   "source": [
    "array2d = np.array([[1,4], [9,16]])"
   ]
  },
  {
   "cell_type": "code",
   "execution_count": 298,
   "metadata": {
    "jupyter": {
     "outputs_hidden": true
    }
   },
   "outputs": [
    {
     "name": "stdout",
     "output_type": "stream",
     "text": [
      "Al menos un elemento del arreglo es mayor que 5\n"
     ]
    }
   ],
   "source": [
    "if np.any(array2d > 5): # equivalente a (array2d > 5).any():\n",
    "    print(\"Al menos un elemento del arreglo es mayor que 5\")\n",
    "else:\n",
    "    print(\"Ningún elemento del arreglo es mayor que 5\")"
   ]
  },
  {
   "cell_type": "code",
   "execution_count": 299,
   "metadata": {
    "jupyter": {
     "outputs_hidden": true
    }
   },
   "outputs": [
    {
     "name": "stdout",
     "output_type": "stream",
     "text": [
      "No todos los elementos del arreglo son mayores que 5\n"
     ]
    }
   ],
   "source": [
    "if np.all(array2d > 5): # equivalente a (array2d > 5).all():\n",
    "    print(\"Todos los elementos del arreglo son mayores que 5\")\n",
    "else:\n",
    "    print(\"No todos los elementos del arreglo son mayores que 5\")"
   ]
  },
  {
   "cell_type": "markdown",
   "metadata": {},
   "source": [
    "**Nota Autor Notebook Original:**\n",
    "> Versión original en inglés de [J.R. Johansson](http://jrjohansson.github.io/) (robert@riken.jp).\n",
    "Traducido/Adaptado por [G.F. Rubilar](http://google.com/+GuillermoRubilar).\n",
    "La última versión de estos [Notebooks](http://ipython.org/notebook.html) está disponible en [https://github.com/PythonUdeC/CPC19](https://github.com/PythonUdeC/CPC19).\n",
    "La última versión del original (en inglés) está disponible en [http://github.com/jrjohansson/scientific-python-lectures](http://github.com/jrjohansson/scientific-python-lectures).\n",
    "Los otros notebooks de esta serie están listados en [http://jrjohansson.github.com](http://jrjohansson.github.com)."
   ]
  },
  {
   "cell_type": "markdown",
   "metadata": {},
   "source": [
    "## Lectura adicional\n",
    "\n",
    "* [Numpy](http://numpy.scipy.org)\n",
    "* http://scipy.org/Tentative_NumPy_Tutorial\n",
    "* http://scipy.org/NumPy_for_Matlab_Users - Una guía de Numpy para usuario de MATLAB."
   ]
  },
  {
   "cell_type": "markdown",
   "metadata": {
    "jupyter": {
     "outputs_hidden": true
    }
   },
   "source": [
    "## Fin de la sección **\"02-NumPy\"**:\n",
    "--------------------------\n",
    "* **Validado por el Alumno:** \n",
    "* **Fecha:**"
   ]
  },
  {
   "cell_type": "code",
   "execution_count": null,
   "metadata": {},
   "outputs": [],
   "source": []
  }
 ],
 "metadata": {
  "kernelspec": {
   "display_name": "Python 3",
   "language": "python",
   "name": "python3"
  },
  "language_info": {
   "codemirror_mode": {
    "name": "ipython",
    "version": 3
   },
   "file_extension": ".py",
   "mimetype": "text/x-python",
   "name": "python",
   "nbconvert_exporter": "python",
   "pygments_lexer": "ipython3",
   "version": "3.8.3"
  }
 },
 "nbformat": 4,
 "nbformat_minor": 4
}
