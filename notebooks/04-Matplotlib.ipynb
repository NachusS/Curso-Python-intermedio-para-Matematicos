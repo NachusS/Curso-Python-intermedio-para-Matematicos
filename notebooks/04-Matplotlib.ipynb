{
 "cells": [
  {
   "cell_type": "markdown",
   "metadata": {},
   "source": [
    "# Matplotlib - gráficos 2D y 3D en Python"
   ]
  },
  {
   "cell_type": "markdown",
   "metadata": {},
   "source": [
    "# Introducción\n",
    "\n",
    "Matplotlib es una excelente librería gráfica 2D y 3D. Algunas de las muchas ventajas de esta librería son:\n",
    "\n",
    "* Es fácil comenzar a crear gráficos.\n",
    "* Incluye soporte para $\\LaTeX$ en leyendas y textos.\n",
    "* Mucho control de cada elemento de la figura, incluyendo el tamaño y la densidad de puntos (dpi). \n",
    "* Formatos de salida de alta calidad, incluyendo PNG, PDF, SVG, EPS.\n",
    "* GUI para la exploración interactiva de figuras *y* soporte para la generación \"headless\" de archivos de figuras.\n",
    "\n",
    "Una de las características claves de Matplotlib y que hace a esta librería **altamente adecuada para generar figuras para publicaciones científicas** es que todos los aspectos de la figura pueden ser controlados *programando*. Esto es importante para la reproducibilidad y conveniente cuando se necesita regenerar la figura con datos actualizados o cambios en su apariencia.\n",
    "\n",
    "Permite crear y personalizar los tipos de gráficos más comunes, entre ellos:\n",
    "\n",
    "* Diagramas de barras\n",
    "* Histograma\n",
    "* Diagramas de sectores\n",
    "* Diagramas de caja y bigotes\n",
    "* Diagramas de violín\n",
    "* Diagramas de dispersión o puntos\n",
    "* Diagramas de lineas\n",
    "* Diagramas de areas\n",
    "* Diagramas de contorno\n",
    "* Mapas de color\n",
    "y combinaciones de todos ellos.\n",
    "\n",
    "Más información en la página de Matplotlib: http://matplotlib.org/  y su [Galeria de Graficos](https://matplotlib.org/stable/gallery/index.html)"
   ]
  },
  {
   "cell_type": "markdown",
   "metadata": {},
   "source": [
    "## Creación de gráficos con matplotlib\n",
    "Para crear un gráfico con matplotlib es habitual seguir los siguientes pasos:\n",
    "\n",
    "* **Importar** el módulo `pyplot`.\n",
    "\n",
    "* **Definir la figura** que contendrá el gráfico, que es la **region (ventana o página)** donde se dibujará y los **ejes** sobre los que se dibujarán los datos. Para ello se utiliza la función `subplots()`.\n",
    "\n",
    "* **Dibujar los datos sobre los ejes**. Para ello se utilizan distintas funciones dependiendo del tipo de gráfico que se quiera.\n",
    "\n",
    "* **Personalizar el gráfico**. Para ello existen multitud de funciones que permiten añadir un título, una leyenda, una rejilla, cambiar colores o personalizar los ejes.\n",
    "\n",
    "* **Guardar el gráfico**. Para ello se utiliza la función `savefig()`.\n",
    "\n",
    "* **Mostrar el gráfico**. Para ello se utiliza la función `show()`."
   ]
  },
  {
   "cell_type": "code",
   "execution_count": null,
   "metadata": {},
   "outputs": [],
   "source": [
    "# Para poder integrar los gráficos de matplotlib en los notebooks es necesario cargar el siguiente Magiccode\n",
    "%matplotlib inline"
   ]
  },
  {
   "cell_type": "markdown",
   "metadata": {},
   "source": [
    "(Lo anterior configura Matplotlib para que muestre figuras en el notebook, en lugar de en una ventana nueva. Más detalles abajo)"
   ]
  },
  {
   "cell_type": "code",
   "execution_count": null,
   "metadata": {},
   "outputs": [],
   "source": [
    "import matplotlib\n",
    "print(\"la versión de matplotlib utilizada para este notebook ha sido 3.5.1 = %s\" % (matplotlib.__version__))"
   ]
  },
  {
   "cell_type": "code",
   "execution_count": null,
   "metadata": {},
   "outputs": [],
   "source": [
    "# Importar el módulo pyplot con el alias plt\n",
    "import matplotlib.pyplot as plt\n",
    "# Crear la figura y los ejes\n",
    "fig, ax = plt.subplots()\n",
    "# Dibujar puntos\n",
    "ax.scatter(x = [1, 2, 3], y = [3, 2, 1])\n",
    "# Guardar el gráfico en formato png\n",
    "dest='../pruebas/'\n",
    "plt.savefig(dest+'diagrama-dispersion.png')\n",
    "# Mostrar el gráfico\n",
    "plt.show()"
   ]
  },
  {
   "cell_type": "markdown",
   "metadata": {},
   "source": [
    "## **Ejemplos básicos**:\n",
    "\n",
    "### Diagramas de dispersión o puntos\n",
    "* `scatter(x, y)`: Dibuja un diagrama de puntos con las coordenadas de la lista x en el eje X y las coordenadas de la lista y en el eje Y. [Documentación oficial Scatter()](https://matplotlib.org/stable/api/_as_gen/matplotlib.pyplot.scatter.html)\n",
    "* Acceso a un ejemplo oficial de este tipo de diagrama [Scatter o dispersión](https://matplotlib.org/stable/gallery/lines_bars_and_markers/scatter_demo2.html#sphx-glr-gallery-lines-bars-and-markers-scatter-demo2-py)"
   ]
  },
  {
   "cell_type": "code",
   "execution_count": null,
   "metadata": {},
   "outputs": [],
   "source": [
    "#import matplotlib.pyplot as plt\n",
    "fig, ax = plt.subplots()\n",
    "ax.scatter([1, 2, 3, 4], [1, 2, 0, 0.5])\n",
    "plt.show()"
   ]
  },
  {
   "cell_type": "markdown",
   "metadata": {},
   "source": [
    "### Diagramas de líneas\n",
    "* `plot(x, y)`: Dibuja un polígono con los vértices dados por las coordenadas de la lista x en el eje X y las coordenadas de la lista y en el eje Y. [Documentación Oficial plot()](https://matplotlib.org/stable/api/_as_gen/matplotlib.pyplot.plot.html)\n",
    "* Acceso a un ejemplo oficial de este tipo de diagrama [de lineas](https://matplotlib.org/stable/gallery/lines_bars_and_markers/multicolored_line.html#sphx-glr-gallery-lines-bars-and-markers-multicolored-line-py)"
   ]
  },
  {
   "cell_type": "code",
   "execution_count": null,
   "metadata": {},
   "outputs": [],
   "source": [
    "#import matplotlib.pyplot as plt\n",
    "fig, ax = plt.subplots()\n",
    "ax.plot([1, 2, 3, 4], [1, 2, 0, 0.5])\n",
    "plt.show()"
   ]
  },
  {
   "cell_type": "markdown",
   "metadata": {},
   "source": [
    "### Diagramas de areas\n",
    "* `fill_between(x, y)`: Dibuja el area bajo el polígono con los vértices dados por las coordenadas de la lista x en el eje X y las coordenadas de la lista y en el eje Y. [Documentacin oficial areas](https://matplotlib.org/stable/api/_as_gen/matplotlib.pyplot.fill_between.html)\n",
    "* Acceso a un ejemplo oficial de este tipo de diagrama [Relleno de areas](https://matplotlib.org/stable/gallery/showcase/integral.html#sphx-glr-gallery-showcase-integral-py)"
   ]
  },
  {
   "cell_type": "code",
   "execution_count": null,
   "metadata": {},
   "outputs": [],
   "source": [
    "#import matplotlib.pyplot as plt\n",
    "fig, ax = plt.subplots()\n",
    "ax.fill_between([1, 2, 3, 4], [1, 2, 0, 0.5])\n",
    "plt.show()"
   ]
  },
  {
   "cell_type": "markdown",
   "metadata": {},
   "source": [
    "### Diagramas de barras verticales\n",
    "* `bar(x, y)`: Dibuja un diagrama de barras verticales donde x es una lista con la posición de las barras en el eje X, e y es una lista con la altura de las barras en el eje Y. [Documentacion oficial bar()](https://matplotlib.org/stable/api/_as_gen/matplotlib.pyplot.bar.html)\n",
    "* Acceso a un ejemplo oficial de este tipo de diagrama [Barras verticales](https://matplotlib.org/stable/gallery/lines_bars_and_markers/bar_label_demo.html#sphx-glr-gallery-lines-bars-and-markers-bar-label-demo-py)"
   ]
  },
  {
   "cell_type": "code",
   "execution_count": null,
   "metadata": {},
   "outputs": [],
   "source": [
    "#import matplotlib.pyplot as plt\n",
    "fig, ax = plt.subplots()\n",
    "ax.bar([1, 2, 3], [3, 2, 1])\n",
    "plt.show()"
   ]
  },
  {
   "cell_type": "markdown",
   "metadata": {},
   "source": [
    "### Diagramas de barras horizontales\n",
    "* `barh(x, y)`: Dibuja un diagrama de barras horizontales donde x es una lista con la posición de las barras en el eje Y, e y es una lista con la longitud de las barras en el eje X. [Documentacion oficial barh()](https://matplotlib.org/stable/api/_as_gen/matplotlib.pyplot.barh.html)\n",
    "* Acceso a un ejemplo oficial de este tipo de diagrama [Barras horizontales](https://matplotlib.org/stable/gallery/lines_bars_and_markers/bar_label_demo.html#sphx-glr-gallery-lines-bars-and-markers-bar-label-demo-py)"
   ]
  },
  {
   "cell_type": "code",
   "execution_count": null,
   "metadata": {},
   "outputs": [],
   "source": [
    "#import matplotlib.pyplot as plt\n",
    "fig, ax = plt.subplots()\n",
    "ax.barh([1, 2, 3], [3, 2, 1])\n",
    "plt.show()"
   ]
  },
  {
   "cell_type": "markdown",
   "metadata": {},
   "source": [
    "### **Histogramas**\n",
    "* `hist(x, bins)`: Dibuja un histograma con las frecuencias resultantes de agrupar los datos de la lista x en las clases definidas por la lista bins. [Documentacion Oficial hist()](https://matplotlib.org/stable/api/_as_gen/matplotlib.pyplot.hist.html)\n",
    "* Acceso a un ejemplo oficial de este tipo de diagrama [Histogramas](https://matplotlib.org/stable/gallery/statistics/histogram_histtypes.html#sphx-glr-gallery-statistics-histogram-histtypes-py)"
   ]
  },
  {
   "cell_type": "code",
   "execution_count": null,
   "metadata": {},
   "outputs": [],
   "source": [
    "import numpy as np\n",
    "import matplotlib.pyplot as plt\n",
    "fig, ax = plt.subplots()\n",
    "x = np.random.normal(5, 1.5, size=1000) # Valor central 5\n",
    "#print(x)\n",
    "ax.hist(x, np.arange(0, 11))\n",
    "plt.show()"
   ]
  },
  {
   "cell_type": "markdown",
   "metadata": {},
   "source": [
    "### Diagramas de sectores\n",
    "* `pie(x)`: Dibuja un diagrama de sectores con las frecuencias de la lista x. [Documentacion Oficial Pie()](https://matplotlib.org/stable/api/_as_gen/matplotlib.pyplot.pie.html)\n",
    "* Acceso a un ejemplo oficial de este tipo de diagrama [Sectores](https://matplotlib.org/stable/gallery/pie_and_polar_charts/bar_of_pie.html#sphx-glr-gallery-pie-and-polar-charts-bar-of-pie-py)"
   ]
  },
  {
   "cell_type": "code",
   "execution_count": null,
   "metadata": {},
   "outputs": [],
   "source": [
    "#import matplotlib.pyplot as plt\n",
    "fig, ax = plt.subplots()\n",
    "ax.pie([5, 4, 3, 2, 1])\n",
    "plt.show()"
   ]
  },
  {
   "cell_type": "markdown",
   "metadata": {},
   "source": [
    "### Diagramas de caja y bigotes\n",
    "* `boxplot(x)`: Dibuja un diagrama de caja y bigotes con los datos de la lista x. [Documentación Oficial boxpot()](https://matplotlib.org/stable/api/_as_gen/matplotlib.pyplot.boxplot.html)\n",
    "* Acceso a un ejemplo oficial de este tipo de diagrama [Caja](https://matplotlib.org/stable/gallery/statistics/boxplot_demo.html#sphx-glr-gallery-statistics-boxplot-demo-py)"
   ]
  },
  {
   "cell_type": "code",
   "execution_count": null,
   "metadata": {},
   "outputs": [],
   "source": [
    "#import matplotlib.pyplot as plt\n",
    "fig, ax = plt.subplots()\n",
    "ax.boxplot([1, 2, 1, 2, 3, 4, 3, 3, 5, 7])\n",
    "plt.show()"
   ]
  },
  {
   "cell_type": "markdown",
   "metadata": {},
   "source": [
    "### Diagramas de violín\n",
    "* `violinplot(x)`: Dibuja un diagrama de violín con los datos de la lista x. [Docmentación Oficial violinplot()](https://matplotlib.org/stable/api/_as_gen/matplotlib.pyplot.violinplot.html)\n",
    "* Acceso a un ejemplo de este tipo de [diagramas violin](https://matplotlib.org/stable/gallery/statistics/customized_violin.html#sphx-glr-gallery-statistics-customized-violin-py)"
   ]
  },
  {
   "cell_type": "code",
   "execution_count": null,
   "metadata": {},
   "outputs": [],
   "source": [
    "#import matplotlib.pyplot as plt\n",
    "fig, ax = plt.subplots()\n",
    "ax.violinplot([1, 2, 1, 2, 3, 4, 3, 3, 5, 7])\n",
    "plt.show()"
   ]
  },
  {
   "cell_type": "markdown",
   "metadata": {},
   "source": [
    "### Diagramas de contorno\n",
    "* `contourf(x, y, z)`: Dibuja un diagrama de contorno con las curvas de nivel de la superficie dada por los puntos con las coordenadas de las listas x, y y z en los ejes X, Y y Z respectivamente. [Documentación Oficial de contourf()](https://matplotlib.org/stable/api/_as_gen/matplotlib.pyplot.contourf.html)\n",
    "* Acceso a un ejemplo oficial de este tipo de diagrama [Contorno](https://matplotlib.org/stable/gallery/images_contours_and_fields/contour_image.html#sphx-glr-gallery-images-contours-and-fields-contour-image-py)"
   ]
  },
  {
   "cell_type": "code",
   "execution_count": null,
   "metadata": {},
   "outputs": [],
   "source": [
    "import matplotlib.pyplot as plt\n",
    "fig, ax = plt.subplots()\n",
    "x = np.linspace(-3.0, 3.0, 100)\n",
    "y = np.linspace(-3.0, 3.0, 100)\n",
    "x, y = np.meshgrid(x, y)\n",
    "z = np.sqrt(x**2 + 2*y**2)\n",
    "ax.contourf(x, y, z)\n",
    "plt.show()"
   ]
  },
  {
   "cell_type": "markdown",
   "metadata": {},
   "source": [
    "### **Mapas de color**\n",
    "* `imshow(x)`: Dibuja un mapa de color a partir de una matriz (array bidimensiona) x.[Documentación Oficial de imshow()](https://matplotlib.org/stable/api/_as_gen/matplotlib.pyplot.imshow.html)\n",
    "* Acceso a un ejemplo oficial de este tipo de diagrama [Maps de Color](https://matplotlib.org/stable/gallery/images_contours_and_fields/image_annotated_heatmap.html#sphx-glr-gallery-images-contours-and-fields-image-annotated-heatmap-py)"
   ]
  },
  {
   "cell_type": "code",
   "execution_count": null,
   "metadata": {},
   "outputs": [],
   "source": [
    "import matplotlib.pyplot as plt\n",
    "fig, ax = plt.subplots()\n",
    "x = np.random.random((16, 16))\n",
    "ax.imshow(x)\n",
    "plt.show()"
   ]
  },
  {
   "cell_type": "markdown",
   "metadata": {},
   "source": [
    "* `hist2d(x, y)`: Dibuja un mapa de color que simula un histograma bidimensional, donde los colores de los cuadrados dependen de las frecuencias de las clases de la muestra dada por las listas x e y. [Documentación Oficial hist2d()](https://matplotlib.org/stable/api/_as_gen/matplotlib.pyplot.hist2d.html)"
   ]
  },
  {
   "cell_type": "code",
   "execution_count": null,
   "metadata": {},
   "outputs": [],
   "source": [
    "import matplotlib.pyplot as plt\n",
    "fig, ax = plt.subplots()\n",
    "x, y = np.random.multivariate_normal(mean=[0.0, 0.0], cov=[[1.0, 0.4], [0.4, 0.5]], size=1000).T\n",
    "ax.hist2d(x, y)\n",
    "plt.show()"
   ]
  },
  {
   "cell_type": "markdown",
   "metadata": {},
   "source": [
    "### **Math Text**\n",
    "* Ejemplos con integracion de Latex, para presentaciones de funciones matemáticas:"
   ]
  },
  {
   "cell_type": "code",
   "execution_count": null,
   "metadata": {},
   "outputs": [],
   "source": [
    "import matplotlib.pyplot as plt\n",
    "\n",
    "fig, ax = plt.subplots()\n",
    "\n",
    "ax.plot([1, 2, 3], label=r'$\\sqrt{x^2}$')\n",
    "ax.legend()\n",
    "\n",
    "ax.set_xlabel(r'$\\Delta_i^j$', fontsize=20)\n",
    "ax.set_ylabel(r'$\\Delta_{i+1}^j$', fontsize=20)\n",
    "ax.set_title(r'$\\Delta_i^j \\hspace{0.4} \\mathrm{versus} \\hspace{0.4} '\n",
    "             r'\\Delta_{i+1}^j$', fontsize=20)\n",
    "\n",
    "tex = r'$\\mathcal{R}\\prod_{i=\\alpha_{i+1}}^\\infty a_i\\sin(2 \\pi f x_i)$'\n",
    "ax.text(1, 1.6, tex, fontsize=20, va='bottom')\n",
    "\n",
    "fig.tight_layout()\n",
    "plt.show()"
   ]
  },
  {
   "cell_type": "markdown",
   "metadata": {},
   "source": [
    "### **Ejemplos de latex sobre Matplotlib**"
   ]
  },
  {
   "cell_type": "code",
   "execution_count": null,
   "metadata": {},
   "outputs": [],
   "source": [
    "import re\n",
    "import subprocess\n",
    "import sys\n",
    "\n",
    "import matplotlib.pyplot as plt\n",
    "\n",
    "\n",
    "# Selection of features following \"Writing mathematical expressions\" tutorial,\n",
    "# with randomly picked examples.\n",
    "mathtext_demos = {\n",
    "    \"Header demo\":\n",
    "        r\"$W^{3\\beta}_{\\delta_1 \\rho_1 \\sigma_2} = \"\n",
    "        r\"U^{3\\beta}_{\\delta_1 \\rho_1} + \\frac{1}{8 \\pi 2} \"\n",
    "        r\"\\int^{\\alpha_2}_{\\alpha_2} d \\alpha^\\prime_2 \\left[\\frac{ \"\n",
    "        r\"U^{2\\beta}_{\\delta_1 \\rho_1} - \\alpha^\\prime_2U^{1\\beta}_\"\n",
    "        r\"{\\rho_1 \\sigma_2} }{U^{0\\beta}_{\\rho_1 \\sigma_2}}\\right]$\",\n",
    "\n",
    "    \"Subscripts and superscripts\":\n",
    "        r\"$\\alpha_i > \\beta_i,\\ \"\n",
    "        r\"\\alpha_{i+1}^j = {\\rm sin}(2\\pi f_j t_i) e^{-5 t_i/\\tau},\\ \"\n",
    "        r\"\\ldots$\",\n",
    "\n",
    "    \"Fractions, binomials and stacked numbers\":\n",
    "        r\"$\\frac{3}{4},\\ \\binom{3}{4},\\ \\genfrac{}{}{0}{}{3}{4},\\ \"\n",
    "        r\"\\left(\\frac{5 - \\frac{1}{x}}{4}\\right),\\ \\ldots$\",\n",
    "\n",
    "    \"Radicals\":\n",
    "        r\"$\\sqrt{2},\\ \\sqrt[3]{x},\\ \\ldots$\",\n",
    "\n",
    "    \"Fonts\":\n",
    "        r\"$\\mathrm{Roman}\\ , \\ \\mathit{Italic}\\ , \\ \\mathtt{Typewriter} \\ \"\n",
    "        r\"\\mathrm{or}\\ \\mathcal{CALLIGRAPHY}$\",\n",
    "\n",
    "    \"Accents\":\n",
    "        r\"$\\acute a,\\ \\bar a,\\ \\breve a,\\ \\dot a,\\ \\ddot a, \\ \\grave a, \\ \"\n",
    "        r\"\\hat a,\\ \\tilde a,\\ \\vec a,\\ \\widehat{xyz},\\ \\widetilde{xyz},\\ \"\n",
    "        r\"\\ldots$\",\n",
    "\n",
    "    \"Greek, Hebrew\":\n",
    "        r\"$\\alpha,\\ \\beta,\\ \\chi,\\ \\delta,\\ \\lambda,\\ \\mu,\\ \"\n",
    "        r\"\\Delta,\\ \\Gamma,\\ \\Omega,\\ \\Phi,\\ \\Pi,\\ \\Upsilon,\\ \\nabla,\\ \"\n",
    "        r\"\\aleph,\\ \\beth,\\ \\daleth,\\ \\gimel,\\ \\ldots$\",\n",
    "\n",
    "    \"Delimiters, functions and Symbols\":\n",
    "        r\"$\\coprod,\\ \\int,\\ \\oint,\\ \\prod,\\ \\sum,\\ \"\n",
    "        r\"\\log,\\ \\sin,\\ \\approx,\\ \\oplus,\\ \\star,\\ \\varpropto,\\ \"\n",
    "        r\"\\infty,\\ \\partial,\\ \\Re,\\ \\leftrightsquigarrow, \\ \\ldots$\",\n",
    "}\n",
    "n_lines = len(mathtext_demos)\n",
    "\n",
    "\n",
    "def doall():\n",
    "    # Colors used in Matplotlib online documentation.\n",
    "    mpl_grey_rgb = (51 / 255, 51 / 255, 51 / 255)\n",
    "\n",
    "    # Creating figure and axis.\n",
    "    fig = plt.figure(figsize=(7, 7))\n",
    "    ax = fig.add_axes([0.01, 0.01, 0.98, 0.90],\n",
    "                      facecolor=\"white\", frameon=True)\n",
    "    ax.set_xlim(0, 1)\n",
    "    ax.set_ylim(0, 1)\n",
    "    ax.set_title(\"Matplotlib's math rendering engine\",\n",
    "                 color=mpl_grey_rgb, fontsize=14, weight='bold')\n",
    "    ax.set_xticks([])\n",
    "    ax.set_yticks([])\n",
    "\n",
    "    # Gap between lines in axes coords\n",
    "    line_axesfrac = 1 / n_lines\n",
    "\n",
    "    # Plot header demonstration formula.\n",
    "    full_demo = mathtext_demos['Header demo']\n",
    "    ax.annotate(full_demo,\n",
    "                xy=(0.5, 1. - 0.59 * line_axesfrac),\n",
    "                color='tab:orange', ha='center', fontsize=20)\n",
    "\n",
    "    # Plot feature demonstration formulae.\n",
    "    for i_line, (title, demo) in enumerate(mathtext_demos.items()):\n",
    "        print(i_line, demo)\n",
    "        if i_line == 0:\n",
    "            continue\n",
    "\n",
    "        baseline = 1 - i_line * line_axesfrac\n",
    "        baseline_next = baseline - line_axesfrac\n",
    "        fill_color = ['white', 'tab:blue'][i_line % 2]\n",
    "        ax.axhspan(baseline, baseline_next, color=fill_color, alpha=0.2)\n",
    "        ax.annotate(f'{title}:',\n",
    "                    xy=(0.06, baseline - 0.3 * line_axesfrac),\n",
    "                    color=mpl_grey_rgb, weight='bold')\n",
    "        ax.annotate(demo,\n",
    "                    xy=(0.04, baseline - 0.75 * line_axesfrac),\n",
    "                    color=mpl_grey_rgb, fontsize=16)\n",
    "\n",
    "    plt.show()\n",
    "\n",
    "\n",
    "if '--latex' in sys.argv:\n",
    "    # Run: python mathtext_examples.py --latex\n",
    "    # Need amsmath and amssymb packages.\n",
    "    with open(\"mathtext_examples.ltx\", \"w\") as fd:\n",
    "        fd.write(\"\\\\documentclass{article}\\n\")\n",
    "        fd.write(\"\\\\usepackage{amsmath, amssymb}\\n\")\n",
    "        fd.write(\"\\\\begin{document}\\n\")\n",
    "        fd.write(\"\\\\begin{enumerate}\\n\")\n",
    "\n",
    "        for s in mathtext_demos.values():\n",
    "            s = re.sub(r\"(?<!\\\\)\\$\", \"$$\", s)\n",
    "            fd.write(\"\\\\item %s\\n\" % s)\n",
    "\n",
    "        fd.write(\"\\\\end{enumerate}\\n\")\n",
    "        fd.write(\"\\\\end{document}\\n\")\n",
    "\n",
    "    subprocess.call([\"pdflatex\", \"mathtext_examples.ltx\"])\n",
    "else:\n",
    "    doall()"
   ]
  },
  {
   "cell_type": "markdown",
   "metadata": {},
   "source": [
    "## **Cambiar el aspecto de los gráficos**\n",
    "Los gráficos creados con Matplotlib son personalizables y puede cambiarse el aspecto de casi todos sus elementos. Los elementos que suelen modificarse más a menudo son:\n",
    "\n",
    "* Colores\n",
    "* Marcadores de puntos\n",
    "* Estilo de líneas\n",
    "* Títulos\n",
    "* Ejes\n",
    "* Leyenda\n",
    "* Rejilla\n",
    "\n",
    "### **Colores**\n",
    "Para cambiar el color de los objetos se utiliza el parámetro **color = nombre-color**, donde nombre-color es una cadena con el nombre del color de entre los [colores disponibles](https://matplotlib.org/3.2.1/gallery/color/named_colors.html)."
   ]
  },
  {
   "cell_type": "code",
   "execution_count": null,
   "metadata": {},
   "outputs": [],
   "source": [
    "import matplotlib.pyplot as plt\n",
    "fig, ax = plt.subplots()\n",
    "dias = ['L', 'M', 'X', 'J', 'V', 'S', 'D']\n",
    "temperaturas = {'Madrid':[28.5, 30.5, 31, 30, 28, 27.5, 30.5], 'Barcelona':[24.5, 25.5, 26.5, 25, 26.5, 24.5, 25]}\n",
    "ax.plot(dias, temperaturas['Madrid'], color = 'tab:purple')\n",
    "ax.plot(dias, temperaturas['Barcelona'], color = 'tab:green')\n",
    "plt.show()"
   ]
  },
  {
   "cell_type": "markdown",
   "metadata": {},
   "source": [
    "### Marcadores\n",
    "Para cambiar la forma de los puntos marcadores se utiliza el parámetro **marker = nombre-marcador** donde nombre-marcador es una cadena con el nombre del marcador de entre los [marcadores disponibles](https://matplotlib.org/3.2.1/api/markers_api.html)"
   ]
  },
  {
   "cell_type": "code",
   "execution_count": null,
   "metadata": {},
   "outputs": [],
   "source": [
    "import matplotlib.pyplot as plt\n",
    "fig, ax = plt.subplots()\n",
    "dias = ['L', 'M', 'X', 'J', 'V', 'S', 'D']\n",
    "temperaturas = {'Madrid':[28.5, 30.5, 31, 30, 28, 27.5, 30.5], 'Barcelona':[24.5, 25.5, 26.5, 25, 26.5, 24.5, 25]}\n",
    "ax.plot(dias, temperaturas['Madrid'], marker = '^')\n",
    "ax.plot(dias, temperaturas['Barcelona'], marker = 'o')\n",
    "plt.show()"
   ]
  },
  {
   "cell_type": "markdown",
   "metadata": {},
   "source": [
    "### Líneas\n",
    "Para cambiar el estilo de las líneas se utiliza el parámetro linestyle = nombre-estilo donde nombre-estilo es una cadena con el nombre del estilo de entre los [estilos disponibles](https://matplotlib.org/3.2.1/gallery/lines_bars_and_markers/linestyles.html)"
   ]
  },
  {
   "cell_type": "code",
   "execution_count": null,
   "metadata": {},
   "outputs": [],
   "source": [
    "import matplotlib.pyplot as plt\n",
    "fig, ax = plt.subplots()\n",
    "dias = ['L', 'M', 'X', 'J', 'V', 'S', 'D']\n",
    "temperaturas = {'Madrid':[28.5, 30.5, 31, 30, 28, 27.5, 30.5], 'Barcelona':[24.5, 25.5, 26.5, 25, 26.5, 24.5, 25]}\n",
    "ax.plot(dias, temperaturas['Madrid'], linestyle = 'dashed')\n",
    "ax.plot(dias, temperaturas['Barcelona'], linestyle = 'dotted')\n",
    "plt.show()"
   ]
  },
  {
   "cell_type": "markdown",
   "metadata": {},
   "source": [
    "### Títulos\n",
    "Para añadir un título principal al gráfico se utiliza el siguiente método:\n",
    "\n",
    "* `ax.set_title(titulo, loc=alineacion, fontdict=fuente)` : Añade un título con el contenido de la cadena titulo a los ejes ax. El parámetro **loc** indica la alineación del título, que puede ser 'left' (izquierda), 'center' (centro) o 'right' (derecha), y el parámetro **fontdict** indica mediante un diccionario las características de la fuente (la el tamaño fontisize, el grosor **fontweight** o el color color)."
   ]
  },
  {
   "cell_type": "code",
   "execution_count": null,
   "metadata": {},
   "outputs": [],
   "source": [
    "import matplotlib.pyplot as plt\n",
    "fig, ax = plt.subplots()\n",
    "dias = ['L', 'M', 'X', 'J', 'V', 'S', 'D']\n",
    "temperaturas = {'Madrid':[28.5, 30.5, 31, 30, 28, 27.5, 30.5], 'Barcelona':[24.5, 25.5, 26.5, 25, 26.5, 24.5, 25]}\n",
    "ax.plot(dias, temperaturas['Madrid'])\n",
    "ax.plot(dias, temperaturas['Barcelona'])\n",
    "ax.set_title('Evolución de la temperatura diaria', loc = \"left\", fontdict = {'fontsize':14, 'fontweight':'bold', 'color':'tab:blue'})\n",
    "plt.show()"
   ]
  },
  {
   "cell_type": "markdown",
   "metadata": {},
   "source": [
    "### Ejes\n",
    "Para cambiar el aspecto de los ejes se suelen utilizar los siguientes métodos:\n",
    "\n",
    "* `ax.set_xlabel(titulo)` : Añade un título con el contenido de la cadena titulo al eje x de ax. Se puede personalizar la alineación y la fuente con los mismos parámetros que para el título principal.\n",
    "* `ax.set_ylabel(titulo)` : Añade un título con el contenido de la cadena titulo al eje y de ax. Se puede personalizar la alineación y la fuente con los mismos parámetros que para el título principal.\n",
    "* `ax.set_xlim([limite-inferior, limite-superior])` : Establece los límites que se muestran en el eje x de ax.\n",
    "* `ax.set_ylim([limite-inferior, limite-superior])` : Establece los límites que se muestran en el eje y de ax.\n",
    "* `ax.set_xticks(marcas)` : Dibuja marcas en el eje x de ax en las posiciones indicadas en la lista marcas.\n",
    "* `ax.set_yticks(marcas)` : Dibuja marcas en el eje y de ax en las posiciones indicadas en la lista marcas.\n",
    "* `ax.set_xscale(escala)` : Establece la escala del eje x de ax, donde el parámetro escala puede ser 'linear' (lineal) o 'log' (logarítmica).\n",
    "* `ax.set_yscale(escala)` : Establece la escala del eje y de ax, donde el parámetro escala puede ser 'linear' (lineal) o 'log' (logarítmica)."
   ]
  },
  {
   "cell_type": "code",
   "execution_count": null,
   "metadata": {},
   "outputs": [],
   "source": [
    "import matplotlib.pyplot as plt\n",
    "fig, ax = plt.subplots()\n",
    "dias = ['L', 'M', 'X', 'J', 'V', 'S', 'D']\n",
    "temperaturas = {'Madrid':[28.5, 30.5, 31, 30, 28, 27.5, 30.5], 'Barcelona':[24.5, 25.5, 26.5, 25, 26.5, 24.5, 25]}\n",
    "ax.plot(dias, temperaturas['Madrid'])\n",
    "ax.plot(dias, temperaturas['Barcelona'])\n",
    "ax.set_xlabel(\"Días\", fontdict = {'fontsize':14, 'fontweight':'bold', 'color':'tab:blue'})\n",
    "ax.set_ylabel(\"Temperatura ºC\")\n",
    "ax.set_ylim([20,35])\n",
    "ax.set_yticks(range(20, 35))\n",
    "plt.show()"
   ]
  },
  {
   "cell_type": "markdown",
   "metadata": {},
   "source": [
    "### Leyenda\n",
    "Para añadir una leyenda a un gráfico se utiliza el siguiente método:\n",
    "\n",
    "* `ax.legend(leyendas, loc = posición)` : Dibuja un leyenda en los ejes ax con los nombres indicados en la lista leyendas. El parámetro **loc** indica la posición en la que se dibuja la leyenda y puede ser 'upper left' (arriba izquierda), 'upper center' (arriba centro), 'upper right' (arriba derecha), 'center left' (centro izquierda), 'center' (centro), 'center right' (centro derecha), 'lower left' (abajo izquierda), 'lower center' (abajo centro), 'lower right' (abajo derecha). Se puede omitir la lista leyendas si se indica la leyenda de cada serie en la función que la dibuja mediante el parámetro **label**."
   ]
  },
  {
   "cell_type": "code",
   "execution_count": null,
   "metadata": {},
   "outputs": [],
   "source": [
    "import matplotlib.pyplot as plt\n",
    "fig, ax = plt.subplots()\n",
    "dias = ['L', 'M', 'X', 'J', 'V', 'S', 'D']\n",
    "temperaturas = {'Madrid':[28.5, 30.5, 31, 30, 28, 27.5, 30.5], 'Barcelona':[24.5, 25.5, 26.5, 25, 26.5, 24.5, 25]}\n",
    "ax.plot(dias, temperaturas['Madrid'], label = 'Madrid')\n",
    "ax.plot(dias, temperaturas['Barcelona'], label = 'Barcelona')\n",
    "ax.legend(loc = 'upper right')\n",
    "plt.show()"
   ]
  },
  {
   "cell_type": "markdown",
   "metadata": {},
   "source": [
    "### Rejilla\n",
    "* `ax.grid(axis=ejes, color=color, linestyle=estilo)` : Dibuja una rejilla en los ejes de **ax**. El parámetro **axis** indica los ejes sobre los que se dibuja la regilla y puede ser 'x' (eje x), 'y' (eje y) o 'both' (ambos). Los parámetros **color** y **linestyle** establecen el color y el estilo de las líneas de la rejilla, y pueden tomar los mismos valores vistos en los apartados de colores y líneas."
   ]
  },
  {
   "cell_type": "code",
   "execution_count": null,
   "metadata": {},
   "outputs": [],
   "source": [
    "import matplotlib.pyplot as plt\n",
    "fig, ax = plt.subplots()\n",
    "dias = ['L', 'M', 'X', 'J', 'V', 'S', 'D']\n",
    "temperaturas = {'Madrid':[28.5, 30.5, 31, 30, 28, 27.5, 30.5], 'Barcelona':[24.5, 25.5, 26.5, 25, 26.5, 24.5, 25]}\n",
    "ax.plot(dias, temperaturas['Madrid'])\n",
    "ax.plot(dias, temperaturas['Barcelona'])\n",
    "ax.grid(axis = 'y', color = 'gray', linestyle = 'dashed')\n",
    "plt.show()"
   ]
  },
  {
   "cell_type": "markdown",
   "metadata": {},
   "source": [
    "### Múltiples gráficos\n",
    "Es posible dibujar varios gráficos en distintos ejes en una misma figura organizados en forma de tabla. Para ello, cuando se inicializa la **figura** y los **ejes**, hay que pasarle a la **función subplots** el número de filas y columnas de la tabla que contendrá los gráficos. Con esto los distintos ejes se organizan en un array y se puede acceder a cada uno de ellos a través de sus índices. Si se quiere que los distintos ejes compartan los mismos límites para los ejes se pueden pasar los parámetros **sharex = True** para el eje x o **sharey = True** para el eje y."
   ]
  },
  {
   "cell_type": "code",
   "execution_count": null,
   "metadata": {},
   "outputs": [],
   "source": [
    "import matplotlib.pyplot as plt\n",
    "fig, ax = plt.subplots(2, 2, sharey = True)\n",
    "dias = ['L', 'M', 'X', 'J', 'V', 'S', 'D']\n",
    "temperaturas = {'Madrid':[28.5, 30.5, 31, 30, 28, 27.5, 30.5], 'Barcelona':[24.5, 25.5, 26.5, 25, 26.5, 24.5, 25]}\n",
    "ax[0, 0].plot(dias, temperaturas['Madrid'])\n",
    "ax[0, 1].plot(dias, temperaturas['Barcelona'], color = 'tab:orange')\n",
    "ax[1, 0].bar(dias, temperaturas['Madrid'])\n",
    "ax[1, 1].bar(dias, temperaturas['Barcelona'], color = 'tab:orange')\n",
    "plt.show()"
   ]
  },
  {
   "cell_type": "markdown",
   "metadata": {},
   "source": [
    "## Integración con Pandas\n",
    "Matplotlib se integra a la perfección con la librería Pandas, permitiendo dibujar gráficos a partir de los datos de las series y DataFrames de Pandas.\n",
    "\n",
    "* `df.plot(kind=tipo, x=columnax, y=columnay, ax=ejes)` : Dibuja un diagrama del tipo indicado por el parámetro **kind** en los ejes indicados en el parámetro **ax**, representando en el eje x la columna del parámetro **x** y en el eje y la columna del parámetro **y**. El parámetro **kind** puede tomar como argumentos 'line' (lineas), 'scatter' (puntos), 'bar' (barras verticales), 'barh' (barras horizontales), 'hist' (histograma), 'box' (cajas), 'density' (densidad), 'area' (area) o 'pie' (sectores). Es posible pasar otros parámetros para indicar el **color**, el **marcador** o el **estilo de línea** como se vió en los apartados anteriores."
   ]
  },
  {
   "cell_type": "code",
   "execution_count": null,
   "metadata": {},
   "outputs": [],
   "source": [
    "import pandas as pd \n",
    "import matplotlib.pyplot as plt\n",
    "df = pd.DataFrame({'Días':['L', 'M', 'X', 'J', 'V', 'S', 'D'], \n",
    "                   'Madrid':[28.5, 30.5, 31, 30, 28, 27.5, 30.5], \n",
    "                   'Barcelona':[24.5, 25.5, 26.5, 25, 26.5, 24.5, 25]})\n",
    "fig, ax = plt.subplots()\n",
    "df.plot(x = 'Días', y = 'Madrid', ax = ax)\n",
    "df.plot(x = 'Días', y = 'Barcelona', ax = ax)\n",
    "plt.show()"
   ]
  },
  {
   "cell_type": "markdown",
   "metadata": {},
   "source": [
    "Si no se indican los parámetros x e y se representa el índice de las filas en el eje x y una serie por cada columna del Dataframe. **Las columnas no numéricas se ignoran**."
   ]
  },
  {
   "cell_type": "code",
   "execution_count": null,
   "metadata": {},
   "outputs": [],
   "source": [
    "import pandas as pd \n",
    "import matplotlib.pyplot as plt\n",
    "df = pd.DataFrame({'Días':['L', 'M', 'X', 'J', 'V', 'S', 'D'], \n",
    "                   'Madrid':[28.5, 30.5, 31, 30, 28, 27.5, 30.5], \n",
    "                   'Barcelona':[24.5, 25.5, 26.5, 25, 26.5, 24.5, 25]})\n",
    "df = df.set_index('Días')\n",
    "fig, ax = plt.subplots()\n",
    "df.plot(ax = ax)\n",
    "plt.show()"
   ]
  },
  {
   "cell_type": "markdown",
   "metadata": {},
   "source": [
    "## Otros Ejemplos y modalidades:\n",
    "\n",
    "Para acceder a las ayudas del módulo y a los métodos con los parámetros aceptados, se puede utilizr:\n",
    "* `dir(plt)`\n",
    "* `help(plt)`"
   ]
  },
  {
   "cell_type": "code",
   "execution_count": null,
   "metadata": {},
   "outputs": [],
   "source": [
    "import matplotlib.pyplot as plt\n",
    "dir(plt)"
   ]
  },
  {
   "cell_type": "markdown",
   "metadata": {},
   "source": [
    "### Ejemplo\n",
    "\n",
    "Una figura simple usando la API tipo Matlab:"
   ]
  },
  {
   "cell_type": "markdown",
   "metadata": {},
   "source": [
    "grafica los puntos con coordenadas (1,1) y (2,2), usando el marcador indicado. Por defecto, `plot` une los puntos por una recta.\n",
    "\n",
    "En general, podemos graficar muchos puntos simplemente indicando el arreglo de las coordenadas horizontales y verticales. En el siguiente ejemplo, se define un arreglo que divide el intervalo $x\\in [0,5]$ en 50 elementos, y grafica los puntos correspondientes a la función cuadrática evaluada en cada punto:"
   ]
  },
  {
   "cell_type": "code",
   "execution_count": null,
   "metadata": {},
   "outputs": [],
   "source": [
    "import numpy as np\n",
    "x = np.linspace(0,5,50)\n",
    "y = x**2\n",
    "#print(x)\n",
    "#print(y)\n",
    "plt.plot(x,y,color='red')"
   ]
  },
  {
   "cell_type": "markdown",
   "metadata": {},
   "source": [
    "Podemos agregar un título, etiquetas para los ejes, y una malla, usando `title`, `xlim`, `ylim` y `grid`:"
   ]
  },
  {
   "cell_type": "code",
   "execution_count": null,
   "metadata": {},
   "outputs": [],
   "source": [
    "plt.plot(x,y,color='red')\n",
    "plt.xlabel('x')\n",
    "plt.ylabel('y')\n",
    "plt.title(u'Título') # el caracter `u` es necesario para incluir acentos en el texto\n",
    "plt.grid()"
   ]
  },
  {
   "cell_type": "markdown",
   "metadata": {},
   "source": [
    "Una de las características distintivas de Matplotlib, es que soporta comandos $\\LaTeX$:"
   ]
  },
  {
   "cell_type": "code",
   "execution_count": null,
   "metadata": {},
   "outputs": [],
   "source": [
    "plt.plot(x,y,color='red')\n",
    "plt.xlabel(r'$\\xi$', fontsize=15)  # el caracter `r` (\"raw\") es necesario para asegurar que los comandos LaTeX sean reconocidos correctamente\n",
    "plt.ylabel(r'$\\beta(\\xi)$', fontsize=15) # fontsize define el tamaño de los caracteres usados\n",
    "plt.title(u'Título') # el caracter `u` es necesario para incluir acentos en el texto\n",
    "plt.grid()"
   ]
  },
  {
   "cell_type": "markdown",
   "metadata": {},
   "source": [
    "También podemos graficar más de un conjunto de datos en un mismo gráfico:"
   ]
  },
  {
   "cell_type": "code",
   "execution_count": null,
   "metadata": {},
   "outputs": [],
   "source": [
    "plt.plot(x,y,color='red')\n",
    "plt.plot(x,np.sin(y),color='green')\n",
    "plt.xlabel(r'$\\alpha$', fontsize=15)  # el caracter `r` (\"raw\") es necesario para asegurar que los comandos LaTeX sean reconocidos correctamente\n",
    "plt.ylabel(r'$\\beta(\\alpha)$', fontsize=15) # fontsize define el tamaño de los caracteres usados\n",
    "plt.title(u'Título') # el caracter `u` es necesario para incluir acentos en el texto\n",
    "plt.grid()"
   ]
  },
  {
   "cell_type": "markdown",
   "metadata": {},
   "source": [
    "Las etiquetas de cada conjunto de puntos puede ser agregada usando `labels` y `legend`:"
   ]
  },
  {
   "cell_type": "code",
   "execution_count": null,
   "metadata": {},
   "outputs": [],
   "source": [
    "plt.plot(x,y,color='red', label='cuadratica')\n",
    "plt.plot(x,np.sin(y),color='green', label='oscilacion')\n",
    "plt.xlabel(r'$\\alpha$', fontsize=15)  # el caracter `r` (\"raw\") es necesario para asegurar que los comandos LaTeX sean reconocidos correctamente\n",
    "plt.ylabel(r'$\\beta(\\alpha)$', fontsize=15) # fontsize define el tamaño de los caracteres usados\n",
    "plt.title(u'Título') # el caracter `u` es necesario para incluir acentos en el texto\n",
    "plt.grid()\n",
    "plt.legend()"
   ]
  },
  {
   "cell_type": "markdown",
   "metadata": {},
   "source": [
    "La posición de las etiquetas puede ser controlado con la opción `loc` de `legend`:"
   ]
  },
  {
   "cell_type": "code",
   "execution_count": null,
   "metadata": {},
   "outputs": [],
   "source": [
    "plt.plot(x,y,color='red', label='cuadratica')\n",
    "plt.plot(x,np.sin(y),color='green', label='oscilacion')\n",
    "plt.xlabel(r'$\\alpha$', fontsize=15)  # el caracter `r` (\"raw\") es necesario para asegurar que los comandos LaTeX sean reconocidos correctamente\n",
    "plt.ylabel(r'$\\beta(\\alpha)$', fontsize=15) # fontsize define el tamaño de los caracteres usados\n",
    "plt.title(u'Título') # el caracter `u` es necesario para incluir acentos en el texto\n",
    "plt.grid()\n",
    "plt.legend(loc=2) # El valor de loc puede ser de 1 a 10 y se colocará en las distintas posiciones del gráfico"
   ]
  },
  {
   "cell_type": "markdown",
   "metadata": {},
   "source": [
    "La mayoría de las funciones gráficas de Matlab están includas en el módulo `pyplot`. Por ejemplo, las funciones `subplot` y `color/symbol`:"
   ]
  },
  {
   "cell_type": "code",
   "execution_count": null,
   "metadata": {},
   "outputs": [],
   "source": [
    "plt.subplot(1,2,1)\n",
    "plt.plot(x, y)\n",
    "plt.grid()\n",
    "plt.subplot(1,2,2)\n",
    "plt.plot(y, x)"
   ]
  },
  {
   "cell_type": "markdown",
   "metadata": {},
   "source": [
    "Lo positivo de la API Pyplot es que es fácil comenzar, y que requiere un mínimo de código para producir gráficos simples. \n",
    "\n",
    "Sin embargo, esta API no es la más adecuada cuando se requiere producir gráficos complejos y/o se requiere controlar cada aspecto del gráfico. En este caso, es recomendable aprender y usar la API gráfica orientada al objeto de Matplotlib. Es muy poderosa y agradable de usar en caso de requerir figuras avanzadas, con sub-gráficos, objetos insertados y otros componentes. Más detalles abajo."
   ]
  },
  {
   "cell_type": "markdown",
   "metadata": {},
   "source": [
    "## Tamaño de la figura, proporción de los ejes y dpi\n",
    "\n",
    "Matplotlib permite especificar la proporción de los ejes, la densidad de puntos (dpi) y el tamaño de la figura cuando el objeto `figure` es creado, usando los argumentos `figsize` y `dpi`. `figsize` es una tupla con el ancho y la altura de la figura en pulgadas, y `dpi` es el número de puntos (pixels) por pulgada.\n",
    "\n",
    "Por ejemplo, para crear una figura de 800 por 400 pixels podemos usar:"
   ]
  },
  {
   "cell_type": "code",
   "execution_count": null,
   "metadata": {},
   "outputs": [],
   "source": [
    "fig = plt.figure(figsize=(8,4), dpi=100)\n",
    "plt.plot(x, y)"
   ]
  },
  {
   "cell_type": "markdown",
   "metadata": {},
   "source": [
    "## Guardando figuras\n",
    "\n",
    "Para guardar una figura en un archivo podemos usar `savefig`:"
   ]
  },
  {
   "cell_type": "code",
   "execution_count": null,
   "metadata": {},
   "outputs": [],
   "source": [
    "plt.plot(x,y)\n",
    "plt.savefig(\"../pruebas/archivo.png\")"
   ]
  },
  {
   "cell_type": "markdown",
   "metadata": {},
   "source": [
    "Podemos, en forma opcional, especificar los dpi, además de elegir entre varios formatos."
   ]
  },
  {
   "cell_type": "code",
   "execution_count": null,
   "metadata": {},
   "outputs": [],
   "source": [
    "fig.savefig(\"../pruebas/archivo.png\", dpi=200)"
   ]
  },
  {
   "cell_type": "code",
   "execution_count": null,
   "metadata": {},
   "outputs": [],
   "source": [
    "fig.savefig(\"../pruebas/archivo.svg\")"
   ]
  },
  {
   "cell_type": "markdown",
   "metadata": {},
   "source": [
    "### ¿Qué formatos están disponibles y cuáles deberían ser usados para objener la mejor calidad?"
   ]
  },
  {
   "cell_type": "markdown",
   "metadata": {},
   "source": [
    "Matplotlib puede crear gráficos de alta calidad en varios formatos, incluyendo PNG, JPG, EPS, SVG y PDF. Para publicaciones científicas, se recomienda usar PDF donde sea posible (y compilar documentos LaTeX con `pdflatex`, que puede incluir las figuras en PDF usando el comando `includegraphics`)."
   ]
  },
  {
   "cell_type": "markdown",
   "metadata": {},
   "source": [
    "## Definiendo colores, anchos y tipos de línea\n",
    "\n",
    "### Colores\n",
    "\n",
    "En Matplotlib podemos definir los colores de las líneas y otros elementos gráficos de distintas maneras. Primero, podemos usar la sintaxis tipo MATLAB donde `'b'` significa azul (blue) `'g'` significa verde (green), etc. La API MATLAB para seleccionar tipos de línea también está disponible: por ejemplo 'b.-' significa línas con puntos azules."
   ]
  },
  {
   "cell_type": "code",
   "execution_count": null,
   "metadata": {},
   "outputs": [],
   "source": [
    "# Selección de color y estilo de línea tipo MATLAB\n",
    "plt.plot(x, x**2, 'b.-') # línea con puntos azul\n",
    "plt.plot(x, x**3, 'g--')\n",
    "#plt.plot(x, x**4, color='r', marker='x') # línea con puntos azul\n",
    "# línea a trazos verde"
   ]
  },
  {
   "cell_type": "code",
   "execution_count": null,
   "metadata": {},
   "outputs": [],
   "source": [
    "También podemos definir colores por su nombre o sus códigos RGB, y opcionalmente suministrar un valor alfa, usando los argumentos  `color` y `alpha` :"
   ]
  },
  {
   "cell_type": "code",
   "execution_count": null,
   "metadata": {},
   "outputs": [],
   "source": [
    "plt.plot(x, x+1, color=\"red\", alpha=0.5) # rojo semi-transparente\n",
    "plt.plot(x, x+2, color=\"#1155dd\")        # código RGB para un color azulado\n",
    "plt.plot(x, x+3, color=\"#15cc55\")        # código RGB para un color verdoso"
   ]
  },
  {
   "cell_type": "markdown",
   "metadata": {},
   "source": [
    "### Estilos de línea y marcadores\n",
    "\n",
    "Para cambiar el ancho de una línea podemos usar el argumento `linewidth` o `lw`, y el estilo de línea puede ser seleccionando usando los argumentos `linestyle` o `ls`:"
   ]
  },
  {
   "cell_type": "code",
   "execution_count": null,
   "metadata": {},
   "outputs": [],
   "source": [
    "plt.plot(x, x+1, color=\"blue\", linewidth=0.25)\n",
    "plt.plot(x, x+2, color=\"blue\", linewidth=0.50)\n",
    "plt.plot(x, x+3, color=\"blue\", linewidth=1.00)\n",
    "plt.plot(x, x+4, color=\"blue\", linewidth=2.00)\n",
    "\n",
    "# posibles opciones de linestype: ‘-‘, ‘–’, ‘-.’, ‘:’, ‘steps’\n",
    "plt.plot(x, x+5, color=\"red\", lw=2, linestyle='-')\n",
    "plt.plot(x, x+6, color=\"red\", lw=2, ls='-.')\n",
    "plt.plot(x, x+7, color=\"red\", lw=2, ls=':')\n",
    "\n",
    "# posibles símbolos de marcadores: '+', 'o', '*', 's', ',', '.', '1', '2', '3', '4', ...\n",
    "plt.plot(x, x+ 9, color=\"green\", lw=2, ls='-', marker='+')\n",
    "plt.plot(x, x+10, color=\"green\", lw=2, ls='-', marker='o')\n",
    "plt.plot(x, x+11, color=\"green\", lw=2, ls='-', marker='s')\n",
    "plt.plot(x, x+12, color=\"green\", lw=2, ls='-', marker='1')\n",
    "\n",
    "# Tamaño y color del marcador\n",
    "plt.plot(x, x+13, color=\"purple\", lw=1, ls='-', marker='o', markersize=2)\n",
    "plt.plot(x, x+14, color=\"purple\", lw=1, ls='-', marker='o', markersize=4)\n",
    "plt.plot(x, x+15, color=\"purple\", lw=1, ls='-', marker='o', markersize=8, markerfacecolor=\"red\")\n",
    "plt.plot(x, x+16, color=\"purple\", lw=1, ls='-', marker='s', markersize=8, \n",
    "        markerfacecolor=\"yellow\", markeredgewidth=2, markeredgecolor=\"blue\");"
   ]
  },
  {
   "cell_type": "markdown",
   "metadata": {},
   "source": [
    "## Controlando la apariencia de los ejes\n",
    "\n",
    "La apariencia de los ejes es un aspecto importante de una figura que comúnmente se requiere modificar para confeccionar un gráfico con calidad de publicación. Necesitamos ser capaces de controlar dónde están ubicados los ticks y las etiquetas, modificar el tamaño de letra y posiblemente las etiquetas usadas en los ejes. En esta sección veremos cómo controlar estas propiedades en una figura de matplotlib.\n",
    "\n",
    "### Rango de los ejes\n",
    "\n",
    "Lo primero que quisieramos configurar es el rango de los ejes. Podemos hacer esto usando  `ylim` y `xlim`, o `axis('tight')` para obtener automáticamente rangos de ejes \"apretados\"."
   ]
  },
  {
   "cell_type": "code",
   "execution_count": null,
   "metadata": {},
   "outputs": [],
   "source": [
    "plt.figure(figsize=(12, 4))\n",
    "\n",
    "plt.subplot(1, 3, 1)\n",
    "plt.plot(x, x**2)\n",
    "plt.plot(x, x**3)\n",
    "plt.title(\"rango de ejes por defecto\")\n",
    "\n",
    "plt.subplot(1, 3, 2)\n",
    "plt.plot(x, x**2)\n",
    "plt.plot(x, x**3)\n",
    "plt.axis('tight')\n",
    "plt.title(\"ejes apretados\")\n",
    "\n",
    "plt.subplot(1, 3, 3)\n",
    "plt.plot(x, x**2)\n",
    "plt.plot(x, x**3)\n",
    "plt.ylim([0, 60])\n",
    "plt.xlim([2, 5])\n",
    "plt.title(\"rango de ejes personalizado\");"
   ]
  },
  {
   "cell_type": "markdown",
   "metadata": {},
   "source": [
    "### Posicionamiento de ticks y etiquetas de ticks personalizadas\n",
    "\n",
    "Podemos determinar explícitamente dónde queremos que aparezcan los ticks de los ejes usando `xticks` y `yticks`, donde ambas funciones toman una lista de valores que determinan dónde se localizarán los ticks sobre el eje (en unidades de los datos), y una lista con los strings a incluir en cada tick. Podemos también usar las funciones `xticklabels` y `yticklabels` para ingresar una lista de etiquetas personalizadas para cada tick:"
   ]
  },
  {
   "cell_type": "code",
   "execution_count": null,
   "metadata": {},
   "outputs": [],
   "source": [
    "plt.plot(x, x**2, lw=2)\n",
    "plt.plot(x, x**3, lw=2)\n",
    "plt.xticks([1, 2, 3, 4, 5],[r'$\\alpha$', r'$\\beta$', r'$\\gamma$', r'$\\delta$', r'$\\epsilon$'], fontsize=15)\n",
    "plt.yticks([0, 50, 100, 150],[r'$\\Psi$', r'$\\Phi$', r'$\\Theta$', r'$\\Sigma$'], fontsize=15)\n",
    "plt.grid()"
   ]
  },
  {
   "cell_type": "markdown",
   "metadata": {},
   "source": [
    "En Matplotlib existen muchos métodos más avanzados para controlar la ubicación de los ticks mayores y menores, como por ejemplo la ubicación automática de acuerdo a distintos criterios. Ver [http://matplotlib.org/api/ticker_api.html]([http://matplotlib.org/api/ticker_api.htm) para más detalles."
   ]
  },
  {
   "cell_type": "markdown",
   "metadata": {},
   "source": [
    "### Mallas de ejes\n",
    "\n",
    "Como vimos, `grid` nos permite activar y desactivar las líneas de malla (grid). También podemos personalizar la apariencia de las líneas de malla, usando los mismos argumentos que usamos previamente con la función `plot`."
   ]
  },
  {
   "cell_type": "code",
   "execution_count": null,
   "metadata": {},
   "outputs": [],
   "source": [
    "plt.subplot(1,2,1)\n",
    "# apariencia por defecto de la malla\n",
    "plt.plot(x, x**2, lw=2)\n",
    "plt.plot(x, x**3, lw=2)\n",
    "plt.grid(True)\n",
    "\n",
    "plt.subplot(1,2,2)\n",
    "# apariencia personalizada de la malla\n",
    "plt.plot(x, x**2, lw=2)\n",
    "plt.plot(x, x**3, lw=2)\n",
    "plt.grid(color='b', alpha=0.5, linestyle='dashed', linewidth=0.5)"
   ]
  },
  {
   "cell_type": "markdown",
   "metadata": {},
   "source": [
    "## Otros estilos de gráficos 2D\n",
    "\n",
    "Además de la función `plot`, existen varias otras funciones para generar distintos tipos de gráficos. Ver la galería de Matplotlib para una lista completa de los tipos disponibles: [http://matplotlib.org/gallery.html](http://matplotlib.org/gallery.html). Algunos de los más útiles se muestran a continuación:"
   ]
  },
  {
   "cell_type": "code",
   "execution_count": null,
   "metadata": {},
   "outputs": [],
   "source": [
    "n = np.array([0,1,2,3,4,5])"
   ]
  },
  {
   "cell_type": "code",
   "execution_count": null,
   "metadata": {},
   "outputs": [],
   "source": [
    "plt.figure(figsize=(10,4))\n",
    "plt.subplot(1,4,1)\n",
    "plt.scatter(n, n**2)\n",
    "plt.subplot(1,4,2)\n",
    "plt.step(n, n**2, lw=2)\n",
    "plt.subplot(1,4,3)\n",
    "plt.bar(n, n**2, align=\"center\", width=0.5, alpha=0.5)\n",
    "plt.subplot(1,4,4)\n",
    "plt.fill_between(x, x**2, x**3, color=\"green\", alpha=0.5);"
   ]
  },
  {
   "cell_type": "code",
   "execution_count": null,
   "metadata": {},
   "outputs": [],
   "source": [
    "# Gráfico polar usando add_axes y proyección polar\n",
    "plt.figure()\n",
    "plt.axes([0, 0, 1, 1], polar=True)\n",
    "t = np.linspace(0, 8*np.pi, 200)\n",
    "plt.plot(t, t, color='violet', lw=3)"
   ]
  },
  {
   "cell_type": "markdown",
   "metadata": {},
   "source": [
    "## Notas de texto\n",
    "\n",
    "Se pueden incluir notas de texto en figuras de Matplotlib usando la función `text`. Tal como los textos en las etiquetas, leyendas, y títulos, incluye soporte para texto en formato LaTeX:"
   ]
  },
  {
   "cell_type": "code",
   "execution_count": null,
   "metadata": {},
   "outputs": [],
   "source": [
    "plt.plot(x, x**2)\n",
    "plt.plot(x, x**3)\n",
    "\n",
    "plt.text(3.5, 20, r\"$y=x^2$\", fontsize=20, color=\"blue\")\n",
    "plt.text(3, 55, r\"$y=x^3$\", fontsize=20, color=\"green\");"
   ]
  },
  {
   "cell_type": "markdown",
   "metadata": {},
   "source": [
    "## Mapas de colores y líneas de contorno\n",
    "\n",
    "Los mapas de colores y las líneas de contorno son útles para graficar funciones de dos variables. En la mayoría de los casos usaremos un mapa de colores para codificar una dimensión de los datos. Existen varios mapas de colores predefinidos, y además definir mapas de colores personalizados es relativamente directo. Para ver una lista de los mapas de colores predefinidos, ver: \n",
    "[http://www.scipy.org/Cookbook/Matplotlib/Show_colormaps](http://www.scipy.org/Cookbook/Matplotlib/Show_colormaps)."
   ]
  },
  {
   "cell_type": "code",
   "execution_count": null,
   "metadata": {},
   "outputs": [],
   "source": [
    "alpha = 0.7\n",
    "phi = 2*np.pi*0.5\n",
    "\n",
    "def flux_qubit_potential(x,y):\n",
    "    return 2 + alpha - 2 * np.cos(2*np.pi*x)*np.cos(2*np.pi*y) - alpha*np.cos(phi-2*x)"
   ]
  },
  {
   "cell_type": "code",
   "execution_count": null,
   "metadata": {},
   "outputs": [],
   "source": [
    "x = np.linspace(0, 1, 100)\n",
    "y = np.linspace(0, 1, 100)\n",
    "X,Y = np.meshgrid(x, y)\n",
    "Z = flux_qubit_potential(X, Y).T"
   ]
  },
  {
   "cell_type": "markdown",
   "metadata": {},
   "source": [
    "### pcolor"
   ]
  },
  {
   "cell_type": "code",
   "execution_count": null,
   "metadata": {},
   "outputs": [],
   "source": [
    "plt.pcolor(X, Y, Z)\n",
    "plt.colorbar()"
   ]
  },
  {
   "cell_type": "markdown",
   "metadata": {},
   "source": [
    "### imshow"
   ]
  },
  {
   "cell_type": "code",
   "execution_count": null,
   "metadata": {},
   "outputs": [],
   "source": [
    "plt.imshow(Z, extent=[0, 1, 0, 1])\n",
    "plt.colorbar()"
   ]
  },
  {
   "cell_type": "markdown",
   "metadata": {},
   "source": [
    "### contour"
   ]
  },
  {
   "cell_type": "code",
   "execution_count": null,
   "metadata": {},
   "outputs": [],
   "source": [
    "plt.contour(Z)"
   ]
  },
  {
   "cell_type": "markdown",
   "metadata": {},
   "source": [
    "## Figuras 3D\n",
    "\n",
    "Para producir gráficos 3D con Matplotlib, primero debemos crear una instancia de ejes de la clase `Axes3D`. Ejes 3D pueden ser agregados al marco de una figura de Matplotlib de la misma forma que para ejes 2D axes. Sin embargo, una forma conveniente para crear una instancia de eje 3D es usar el argumento `projection='3d'`en las funciones `add_axes` o `add_subplot`."
   ]
  },
  {
   "cell_type": "code",
   "execution_count": null,
   "metadata": {},
   "outputs": [],
   "source": [
    "from mpl_toolkits.mplot3d.axes3d import Axes3D"
   ]
  },
  {
   "cell_type": "markdown",
   "metadata": {},
   "source": [
    "### Gráficos de superficies"
   ]
  },
  {
   "cell_type": "code",
   "execution_count": null,
   "metadata": {},
   "outputs": [],
   "source": [
    "ax = plt.subplot(1, 1, 1, projection='3d')\n",
    "ax.plot_surface(X, Y, Z, rstride=1, cstride=1, cmap=cm.coolwarm, linewidth=0, antialiased=False)"
   ]
  },
  {
   "cell_type": "markdown",
   "metadata": {},
   "source": [
    "### Gráficos de mallas (Wire-frame)"
   ]
  },
  {
   "cell_type": "code",
   "execution_count": null,
   "metadata": {},
   "outputs": [],
   "source": [
    "ax = plt.subplot(1, 1, 1, projection='3d')\n",
    "ax.plot_wireframe(X, Y, Z, rstride=4, cstride=4)"
   ]
  },
  {
   "cell_type": "markdown",
   "metadata": {},
   "source": [
    "### Gráficos de contorno con proyecciones"
   ]
  },
  {
   "cell_type": "code",
   "execution_count": null,
   "metadata": {},
   "outputs": [],
   "source": [
    "ax = plt.subplot(1,1,1, projection='3d')\n",
    "\n",
    "ax.plot_surface(X, Y, Z, rstride=4, cstride=4, alpha=0.25)\n",
    "ax.contour(X, Y, Z, zdir='z', offset=-0.5, cmap=cm.coolwarm)\n",
    "ax.contour(X, Y, Z, zdir='x', offset=-0.5, cmap=cm.coolwarm)\n",
    "ax.contour(X, Y, Z, zdir='y', offset=1.5, cmap=cm.coolwarm)"
   ]
  },
  {
   "cell_type": "markdown",
   "metadata": {},
   "source": [
    "### Cambiando el ángulo de visión:\n",
    "\n",
    "Podemos cambiar la perspectiva en un gráfico 3D usando la función `view_init`, que toma dos argumentos: la elevación y el ángulo azimutal (en grados):"
   ]
  },
  {
   "cell_type": "code",
   "execution_count": null,
   "metadata": {},
   "outputs": [],
   "source": [
    "plt.figure(figsize=(12,6))\n",
    "\n",
    "ax=plt.subplot(1,2,1, projection='3d')\n",
    "ax.plot_surface(X, Y, Z, rstride=4, cstride=4, alpha=0.25)\n",
    "ax.view_init(30, 45)\n",
    "\n",
    "ax=plt.subplot(1,2,2, projection='3d')\n",
    "ax.plot_surface(X, Y, Z, rstride=4, cstride=4, alpha=0.25)\n",
    "ax.view_init(70, 30)"
   ]
  },
  {
   "cell_type": "markdown",
   "metadata": {},
   "source": [
    "# La API orientada al objeto de Matplotlib\n",
    "\n",
    "La idea principal de la programación orientada al objeto es que se tienen objetos sobre los cuales se pueden aplicar funciones y acciones, y que ningún estado de un objeto o programa debe ser global (como en pyplot). La ventaja de esta forma de trabajo se manifiesta cuando se requiere crear más de una figura, o cuando una figura contiene sub-figuras. \n",
    "\n",
    "Para usar la API orientada al objeto comenzamos similarmente al ejemplo anterior, pero en lugar de crear una instancia de figura global almacenamos una referencia a la figura recién creada en la variable `fig`, y a partir de ella creamos nuevos ejes `axes` usando el método `add_axes` en la instancia `fig` de la clase `Figure`."
   ]
  },
  {
   "cell_type": "code",
   "execution_count": null,
   "metadata": {},
   "outputs": [],
   "source": [
    "fig = plt.figure()\n",
    "\n",
    "ejes = fig.add_axes([0.1, 0.1, 0.8, 0.8]) # izquierda, abajo, ancho, altura (rango 0 a 1)\n",
    "\n",
    "ejes.plot(x,y, color = 'r')\n",
    "\n",
    "ejes.set_xlabel('x')\n",
    "ejes.set_ylabel('y')\n",
    "ejes.set_title(u'Título');"
   ]
  },
  {
   "cell_type": "markdown",
   "metadata": {},
   "source": [
    "Aunque se requiere algo más de código, la ventaja es que ahora tenemos control completo sobre dónde se ubican los ejes, y además podemos agregar fácilmente más de un eje a la figura."
   ]
  },
  {
   "cell_type": "code",
   "execution_count": null,
   "metadata": {},
   "outputs": [],
   "source": [
    "fig = plt.figure()\n",
    "\n",
    "axes1 = fig.add_axes([0.1, 0.1, 0.8, 0.8]) # ejes principales\n",
    "axes2 = fig.add_axes([0.2, 0.5, 0.4, 0.3]) # ejes del gráfico insertado\n",
    "\n",
    "# figura principal\n",
    "axes1.plot(x,y,'r')\n",
    "axes1.set_xlabel('x')\n",
    "axes1.set_ylabel('y')\n",
    "axes1.set_title(u'Título principal')\n",
    "\n",
    "# figura insertada\n",
    "axes2.plot(y,x,'g')\n",
    "axes2.set_xlabel('y')\n",
    "axes2.set_ylabel('x')\n",
    "axes2.set_title(u'Título secundario');"
   ]
  },
  {
   "cell_type": "markdown",
   "metadata": {},
   "source": [
    "Si no nos importa ser explícitos sobre dónde estarán ubicados los ejes en el marco de nuestra figura, podemos usar uno de los muchos administradores de la distribución de los ejes que tiene Matplotlib. Un favorito es `subplots`, que puede ser usado de la forma siguiente:"
   ]
  },
  {
   "cell_type": "code",
   "execution_count": null,
   "metadata": {},
   "outputs": [],
   "source": [
    "fig, axes = plt.subplots() # crea una nueva figura y un set de ejes\n",
    "\n",
    "axes.plot(x,y,'r')\n",
    "axes.set_xlabel('x')\n",
    "axes.set_ylabel('y')\n",
    "axes.set_title(u'Título');"
   ]
  },
  {
   "cell_type": "code",
   "execution_count": null,
   "metadata": {},
   "outputs": [],
   "source": [
    " # crea una figura, con dos set de ejes, almacenados en el array axes\n",
    "fig, axes = plt.subplots(nrows=1, ncols=2)\n",
    "\n",
    "for ax in axes:\n",
    "    ax.plot(x, y, 'r')\n",
    "    ax.set_xlabel('x')\n",
    "    ax.set_ylabel('y')\n",
    "    ax.set_title(u'Título');"
   ]
  },
  {
   "cell_type": "markdown",
   "metadata": {},
   "source": [
    "Fácil, pero no tan bonito debido a la superposición de los ejes y etiquetas en la parte central, cierto?\n",
    "\n",
    "Podemos mejorar esto usando el método `fig.tight_layout`, que ajusta automáticamente la posición de los ejes en el marco de la figura de modo que no exista contenido que se superponga:"
   ]
  },
  {
   "cell_type": "code",
   "execution_count": null,
   "metadata": {},
   "outputs": [],
   "source": [
    "fig, axes = plt.subplots(nrows=1, ncols=2)\n",
    "\n",
    "for ax in axes:\n",
    "    ax.plot(x, y, 'r')\n",
    "    ax.set_xlabel('x')\n",
    "    ax.set_ylabel('y')\n",
    "    ax.set_title(u'Título')\n",
    "    \n",
    "fig.tight_layout()"
   ]
  },
  {
   "cell_type": "markdown",
   "metadata": {},
   "source": [
    "## Lectura adicional\n",
    "\n",
    "* [http://www.matplotlib.org](http://www.matplotlib.org) - La página del proyecto Matplotlib.\n",
    "* [https://github.com/matplotlib/matplotlib](https://github.com/matplotlib/matplotlib) - El código fuente de Matplotlib.\n",
    "* [http://matplotlib.org/gallery.html](http://matplotlib.org/gallery.html) - Una gran galería que muestra los tipos de gráficos que Matplotlib puede crear. ¡Altamente recomendado!\n",
    "* [http://www.loria.fr/~rougier/teaching/matplotlib/](http://www.loria.fr/~rougier/teaching/matplotlib/) - Un buen tutorial de Matplotlib."
   ]
  },
  {
   "cell_type": "markdown",
   "metadata": {},
   "source": [
    "## Utilidades y enlaces de interés:\n",
    "* CheatSheet de Matplotlit: [CheatSheet](../docs/Matplotlit-cheatsheets-1.pdf)"
   ]
  },
  {
   "cell_type": "markdown",
   "metadata": {},
   "source": [
    "**Generación final de este notebook:**\n",
    "Generado mezclando los notebooks y pagina web de [AprendeconAlf](https://aprendeconalf.es/docencia/python/manual/matplotlib/) y el creador original del notebook.\n",
    "\n",
    "**Nota** sobre Autor original del notebook:\n",
    ">Versión original en inglés de [J.R. Johansson](http://jrjohansson.github.io/) (robert@riken.jp).\n",
    "Traducido/Adaptado por [G.F. Rubilar](http://google.com/+GuillermoRubilar).\n",
    "La última versión de estos [Notebooks](http://ipython.org/notebook.html) está disponible en [http://github.com/PythonUdec/CPC19](http://github.com/PythonUdec/CPC19).\n",
    "La última versión del original (en inglés) está disponible en [http://github.com/jrjohansson/scientific-python-lectures](http://github.com/jrjohansson/scientific-python-lectures).\n",
    "Los otros notebooks de esta serie están listados en [http://jrjohansson.github.com](http://jrjohansson.github.com)."
   ]
  },
  {
   "cell_type": "markdown",
   "metadata": {},
   "source": [
    "## Fin de la sección **\"Matplotlib\"**:\n",
    "--------------------------\n",
    "* **Validado por el Alumno:** \n",
    "* **Fecha:**"
   ]
  },
  {
   "cell_type": "code",
   "execution_count": null,
   "metadata": {},
   "outputs": [],
   "source": []
  }
 ],
 "metadata": {
  "anaconda-cloud": {},
  "kernelspec": {
   "display_name": "Python 3 (ipykernel)",
   "language": "python",
   "name": "python3"
  },
  "language_info": {
   "codemirror_mode": {
    "name": "ipython",
    "version": 3
   },
   "file_extension": ".py",
   "mimetype": "text/x-python",
   "name": "python",
   "nbconvert_exporter": "python",
   "pygments_lexer": "ipython3",
   "version": "3.9.12"
  }
 },
 "nbformat": 4,
 "nbformat_minor": 4
}
