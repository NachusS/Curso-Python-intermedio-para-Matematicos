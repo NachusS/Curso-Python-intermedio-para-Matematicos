{
 "cells": [
  {
   "cell_type": "markdown",
   "metadata": {},
   "source": [
    "# [<font size=\"10\">NumPy<font>](http://www.numpy.org) $:=$ `Numerical Python` \n",
    "\n",
    "<img src=\"./images/NumPy_logo.svg\" />"
   ]
  },
  {
   "cell_type": "markdown",
   "metadata": {},
   "source": [
    "Según la [página](http://www.numpy.org) oficial (traducción): **NumPy** es el paquete fundamental para la computación científica con Python. Contiene entre otras cosas:\n",
    "\n",
    "* Un poderoso objeto de matriz N-dimensional.\n",
    "* Funciones sofisticadas.\n",
    "* Herramientas para la integración de código C/C++ y Fortran.\n",
    "* Álgebra lineal útil, transformada de Fourier y capacidades de números aleatorios.\n",
    "\n",
    "Además de sus obvios usos científicos, NumPy también se puede usar como un eficiente contenedor multidimensional de datos genéricos. Se pueden definir tipos de datos arbitrarios. Esto permite que NumPy se integre a la perfección con una amplia variedad de bases de datos."
   ]
  },
  {
   "cell_type": "markdown",
   "metadata": {},
   "source": [
    "La versiones de desarrollo más recientes están disponibles a través de los repositorios oficiales alojados en [Github](https://github.com/numpy/numpy)."
   ]
  },
  {
   "cell_type": "markdown",
   "metadata": {},
   "source": [
    "# ¿Cómo instalar NumPy?"
   ]
  },
  {
   "cell_type": "markdown",
   "metadata": {},
   "source": [
    "Puede instalarse tipeando en la terminal:\n",
    "\n",
    "* `conda install numpy`\n",
    "* `git clone https://github.com/numpy/numpy.git`"
   ]
  },
  {
   "cell_type": "markdown",
   "metadata": {},
   "source": [
    "# ¿Cómo utilizar NumPy?"
   ]
  },
  {
   "cell_type": "markdown",
   "metadata": {},
   "source": [
    "La manera recomendada es cargar **NumPy** como se hace a continuación: "
   ]
  },
  {
   "cell_type": "code",
   "execution_count": 1,
   "metadata": {},
   "outputs": [],
   "source": [
    "import numpy as np"
   ]
  },
  {
   "cell_type": "code",
   "execution_count": 1,
   "metadata": {},
   "outputs": [],
   "source": [
    "from numpy import *"
   ]
  },
  {
   "cell_type": "code",
   "execution_count": 4,
   "metadata": {},
   "outputs": [],
   "source": [
    "cos?"
   ]
  },
  {
   "cell_type": "code",
   "execution_count": 3,
   "metadata": {},
   "outputs": [],
   "source": [
    "from math import *"
   ]
  },
  {
   "cell_type": "code",
   "execution_count": 138,
   "metadata": {},
   "outputs": [
    {
     "data": {
      "text/plain": [
       "<module 'numpy' from '/Users/estebanvohringer-martinez/opt/anaconda3/lib/python3.8/site-packages/numpy/__init__.py'>"
      ]
     },
     "execution_count": 138,
     "metadata": {},
     "output_type": "execute_result"
    }
   ],
   "source": [
    "np"
   ]
  },
  {
   "cell_type": "code",
   "execution_count": 139,
   "metadata": {},
   "outputs": [],
   "source": [
    "np?"
   ]
  },
  {
   "cell_type": "markdown",
   "metadata": {},
   "source": [
    "Teniendo Numpy cargado, averiguemos el número de versión instalada."
   ]
  },
  {
   "cell_type": "code",
   "execution_count": 140,
   "metadata": {},
   "outputs": [
    {
     "data": {
      "text/plain": [
       "'1.19.2'"
      ]
     },
     "execution_count": 140,
     "metadata": {},
     "output_type": "execute_result"
    }
   ],
   "source": [
    "np.__version__"
   ]
  },
  {
   "cell_type": "markdown",
   "metadata": {},
   "source": [
    "# ¿Qué nos provee Numpy?"
   ]
  },
  {
   "cell_type": "markdown",
   "metadata": {},
   "source": [
    "La documentación oficial se encuentra [aquí](https://docs.scipy.org/doc/)."
   ]
  },
  {
   "cell_type": "markdown",
   "metadata": {},
   "source": [
    "Recientemente también fue publicado un artículo científico sobre numpy en la revista *Nature*\n",
    " [Array programming with NumPy](https://www.nature.com/articles/s41586-020-2649-2)"
   ]
  },
  {
   "cell_type": "markdown",
   "metadata": {},
   "source": [
    "# Números populares"
   ]
  },
  {
   "cell_type": "markdown",
   "metadata": {},
   "source": [
    "#### Número [$\\pi$](https://es.wikipedia.org/wiki/Número_π)\n",
    "\n",
    "<img src=\"./images/NUMERO_PI.jpg\" />"
   ]
  },
  {
   "cell_type": "code",
   "execution_count": 141,
   "metadata": {},
   "outputs": [
    {
     "data": {
      "text/plain": [
       "3.141592653589793"
      ]
     },
     "execution_count": 141,
     "metadata": {},
     "output_type": "execute_result"
    }
   ],
   "source": [
    "np.pi"
   ]
  },
  {
   "cell_type": "code",
   "execution_count": 142,
   "metadata": {},
   "outputs": [
    {
     "data": {
      "text/plain": [
       "float"
      ]
     },
     "execution_count": 142,
     "metadata": {},
     "output_type": "execute_result"
    }
   ],
   "source": [
    "#Averiguamos el tipo de variable\n",
    "type(np.pi)"
   ]
  },
  {
   "cell_type": "markdown",
   "metadata": {},
   "source": [
    "#### Número [$e$](https://es.wikipedia.org/wiki/Número_e)\n",
    "\n",
    "<img src=\"./images/napier_10000.svg\" />"
   ]
  },
  {
   "cell_type": "code",
   "execution_count": 143,
   "metadata": {},
   "outputs": [
    {
     "data": {
      "text/plain": [
       "2.718281828459045"
      ]
     },
     "execution_count": 143,
     "metadata": {},
     "output_type": "execute_result"
    }
   ],
   "source": [
    "np.e"
   ]
  },
  {
   "cell_type": "code",
   "execution_count": 144,
   "metadata": {},
   "outputs": [
    {
     "data": {
      "text/plain": [
       "float"
      ]
     },
     "execution_count": 144,
     "metadata": {},
     "output_type": "execute_result"
    }
   ],
   "source": [
    "#Averiguamos el tipo de variable\n",
    "type(np.e)"
   ]
  },
  {
   "cell_type": "code",
   "execution_count": 145,
   "metadata": {},
   "outputs": [],
   "source": [
    "x = np.pi\n",
    "y = np.float64(np.pi)"
   ]
  },
  {
   "cell_type": "code",
   "execution_count": 146,
   "metadata": {},
   "outputs": [
    {
     "data": {
      "text/plain": [
       "(3.141592653589793, 3.141592653589793)"
      ]
     },
     "execution_count": 146,
     "metadata": {},
     "output_type": "execute_result"
    }
   ],
   "source": [
    "x,y"
   ]
  },
  {
   "cell_type": "code",
   "execution_count": 148,
   "metadata": {},
   "outputs": [
    {
     "data": {
      "text/plain": [
       "(4489880720, 4489880720, 4754271696)"
      ]
     },
     "execution_count": 148,
     "metadata": {},
     "output_type": "execute_result"
    }
   ],
   "source": [
    "id(np.pi),id(x),id(y)"
   ]
  },
  {
   "cell_type": "markdown",
   "metadata": {},
   "source": [
    "#### np.binary_repr()"
   ]
  },
  {
   "cell_type": "code",
   "execution_count": 149,
   "metadata": {},
   "outputs": [
    {
     "data": {
      "text/plain": [
       "'-11'"
      ]
     },
     "execution_count": 149,
     "metadata": {},
     "output_type": "execute_result"
    }
   ],
   "source": [
    "np.binary_repr(-3)#solo funciona con números enteros"
   ]
  },
  {
   "cell_type": "code",
   "execution_count": 150,
   "metadata": {},
   "outputs": [
    {
     "ename": "TypeError",
     "evalue": "'float' object cannot be interpreted as an integer",
     "output_type": "error",
     "traceback": [
      "\u001b[0;31m---------------------------------------------------------------------------\u001b[0m",
      "\u001b[0;31mTypeError\u001b[0m                                 Traceback (most recent call last)",
      "\u001b[0;32m<ipython-input-150-efdcfefacc80>\u001b[0m in \u001b[0;36m<module>\u001b[0;34m\u001b[0m\n\u001b[0;32m----> 1\u001b[0;31m \u001b[0mnp\u001b[0m\u001b[0;34m.\u001b[0m\u001b[0mbinary_repr\u001b[0m\u001b[0;34m(\u001b[0m\u001b[0mnp\u001b[0m\u001b[0;34m.\u001b[0m\u001b[0mpi\u001b[0m\u001b[0;34m)\u001b[0m\u001b[0;34m\u001b[0m\u001b[0;34m\u001b[0m\u001b[0m\n\u001b[0m",
      "\u001b[0;32m~/opt/anaconda3/lib/python3.8/site-packages/numpy/core/numeric.py\u001b[0m in \u001b[0;36mbinary_repr\u001b[0;34m(num, width)\u001b[0m\n\u001b[1;32m   1976\u001b[0m     \u001b[0;31m# Ensure that num is a Python integer to avoid overflow or unwanted\u001b[0m\u001b[0;34m\u001b[0m\u001b[0;34m\u001b[0m\u001b[0;34m\u001b[0m\u001b[0m\n\u001b[1;32m   1977\u001b[0m     \u001b[0;31m# casts to floating point.\u001b[0m\u001b[0;34m\u001b[0m\u001b[0;34m\u001b[0m\u001b[0;34m\u001b[0m\u001b[0m\n\u001b[0;32m-> 1978\u001b[0;31m     \u001b[0mnum\u001b[0m \u001b[0;34m=\u001b[0m \u001b[0moperator\u001b[0m\u001b[0;34m.\u001b[0m\u001b[0mindex\u001b[0m\u001b[0;34m(\u001b[0m\u001b[0mnum\u001b[0m\u001b[0;34m)\u001b[0m\u001b[0;34m\u001b[0m\u001b[0;34m\u001b[0m\u001b[0m\n\u001b[0m\u001b[1;32m   1979\u001b[0m \u001b[0;34m\u001b[0m\u001b[0m\n\u001b[1;32m   1980\u001b[0m     \u001b[0;32mif\u001b[0m \u001b[0mnum\u001b[0m \u001b[0;34m==\u001b[0m \u001b[0;36m0\u001b[0m\u001b[0;34m:\u001b[0m\u001b[0;34m\u001b[0m\u001b[0;34m\u001b[0m\u001b[0m\n",
      "\u001b[0;31mTypeError\u001b[0m: 'float' object cannot be interpreted as an integer"
     ]
    }
   ],
   "source": [
    "np.binary_repr(np.pi)"
   ]
  },
  {
   "cell_type": "markdown",
   "metadata": {},
   "source": [
    "# Arreglos"
   ]
  },
  {
   "cell_type": "markdown",
   "metadata": {},
   "source": [
    "En el paquete `NumPy` la terminología usada para vectores, matrices y conjuntos de datos de dimensión mayor es la de un  `array` (arreglo). \n",
    "\n",
    "<img src='./images/1_O2_46c16UdgmXzen4VktMg.png' title= https://towardsdatascience.com/two-cool-features-of-python-numpy-mutating-by-slicing-and-broadcasting-3b0b86e8b4c7 />"
   ]
  },
  {
   "cell_type": "markdown",
   "metadata": {},
   "source": [
    "## Creando arreglos de `NumPy`\n",
    "\n",
    "Existen varias formas para inicializar nuevos arreglos de `NumPy`, por ejemplo desde\n",
    "\n",
    "* Listas o tuplas Python.\n",
    "* Usando funciones dedicadas a generar arreglos `NumPy`, como `np.arange`, `np.linspace`, etc.\n",
    "* Leyendo datos desde archivos."
   ]
  },
  {
   "cell_type": "markdown",
   "metadata": {},
   "source": [
    "### Creación de un vector (arreglo 1D)\n",
    "\n",
    "Por ejemplo, para crear nuevos arreglos de matrices y vectores desde listas Python podemos usar la función `numpy.array`."
   ]
  },
  {
   "cell_type": "code",
   "execution_count": 151,
   "metadata": {},
   "outputs": [],
   "source": [
    "#creando una lista\n",
    "lista = [1, 2, 3, 4]"
   ]
  },
  {
   "cell_type": "code",
   "execution_count": 152,
   "metadata": {},
   "outputs": [
    {
     "data": {
      "text/plain": [
       "list"
      ]
     },
     "execution_count": 152,
     "metadata": {},
     "output_type": "execute_result"
    }
   ],
   "source": [
    "type(lista)"
   ]
  },
  {
   "cell_type": "code",
   "execution_count": 153,
   "metadata": {},
   "outputs": [
    {
     "data": {
      "text/plain": [
       "array([1, 2, 3, 4])"
      ]
     },
     "execution_count": 153,
     "metadata": {},
     "output_type": "execute_result"
    }
   ],
   "source": [
    "# un vector: el argumento de la función array es una lista de Python\n",
    "array1d = np.array(lista)\n",
    "array1d"
   ]
  },
  {
   "cell_type": "code",
   "execution_count": 154,
   "metadata": {},
   "outputs": [
    {
     "data": {
      "text/plain": [
       "numpy.ndarray"
      ]
     },
     "execution_count": 154,
     "metadata": {},
     "output_type": "execute_result"
    }
   ],
   "source": [
    "type(array1d)"
   ]
  },
  {
   "cell_type": "markdown",
   "metadata": {},
   "source": [
    "## Indexado de vector"
   ]
  },
  {
   "cell_type": "markdown",
   "metadata": {},
   "source": [
    "Imprimimos componentes de la lista creada."
   ]
  },
  {
   "cell_type": "code",
   "execution_count": 155,
   "metadata": {},
   "outputs": [
    {
     "data": {
      "text/plain": [
       "1"
      ]
     },
     "execution_count": 155,
     "metadata": {},
     "output_type": "execute_result"
    }
   ],
   "source": [
    "lista[0]"
   ]
  },
  {
   "cell_type": "code",
   "execution_count": 156,
   "metadata": {},
   "outputs": [
    {
     "data": {
      "text/plain": [
       "2"
      ]
     },
     "execution_count": 156,
     "metadata": {},
     "output_type": "execute_result"
    }
   ],
   "source": [
    "lista[1]"
   ]
  },
  {
   "cell_type": "code",
   "execution_count": 157,
   "metadata": {},
   "outputs": [
    {
     "data": {
      "text/plain": [
       "1"
      ]
     },
     "execution_count": 157,
     "metadata": {},
     "output_type": "execute_result"
    }
   ],
   "source": [
    "array1d[0]"
   ]
  },
  {
   "cell_type": "code",
   "execution_count": 158,
   "metadata": {},
   "outputs": [
    {
     "ename": "IndexError",
     "evalue": "index 4 is out of bounds for axis 0 with size 4",
     "output_type": "error",
     "traceback": [
      "\u001b[0;31m---------------------------------------------------------------------------\u001b[0m",
      "\u001b[0;31mIndexError\u001b[0m                                Traceback (most recent call last)",
      "\u001b[0;32m<ipython-input-158-ae8131bfe916>\u001b[0m in \u001b[0;36m<module>\u001b[0;34m\u001b[0m\n\u001b[0;32m----> 1\u001b[0;31m \u001b[0marray1d\u001b[0m\u001b[0;34m[\u001b[0m\u001b[0;36m4\u001b[0m\u001b[0;34m]\u001b[0m\u001b[0;34m\u001b[0m\u001b[0;34m\u001b[0m\u001b[0m\n\u001b[0m",
      "\u001b[0;31mIndexError\u001b[0m: index 4 is out of bounds for axis 0 with size 4"
     ]
    }
   ],
   "source": [
    "array1d[4]"
   ]
  },
  {
   "cell_type": "markdown",
   "metadata": {},
   "source": [
    "Hasta el momento el arreglo `np.ndarray` luce como una lista Python (anidada). Entonces, ¿por qué simplemente no usar listas para hacer cálculos en lugar de crear un tipo nuevo de arreglo? \n",
    "\n",
    "Existen varias razones:\n",
    "\n",
    "* Las listas Python son muy generales. Ellas pueden contener cualquier tipo de objeto. Sus tipos son asignados dinámicamente. Ellas no permiten usar funciones matemáticas tales como la multiplicación de matrices, el producto escalar, etc. El implementar tales funciones para las listas Python no sería muy eficiente debido a la asignación dinámica de su tipo.\n",
    "* Los arreglos Numpy tienen tipo **estático** y **homogéneo**. El tipo de elementos es determinado cuando se crea el arreglo.\n",
    "* Los arreglos Numpy son eficientes en el uso de memoria.\n",
    "* Debido a su tipo estático, se pueden desarrollar implementaciones rápidas de funciones matemáticas tales como la multiplicación y la suma de arreglos `NumPy` usando lenguajes compilados (se usan C y Fortran)."
   ]
  },
  {
   "cell_type": "markdown",
   "metadata": {},
   "source": [
    "## ¿Un vector es igual a una lista?"
   ]
  },
  {
   "cell_type": "markdown",
   "metadata": {},
   "source": [
    "No. Las operaciones permitidas para las listas son diferentes a las que poseen los vectores. Justifiquemos..."
   ]
  },
  {
   "cell_type": "code",
   "execution_count": 159,
   "metadata": {},
   "outputs": [
    {
     "data": {
      "text/plain": [
       "False"
      ]
     },
     "execution_count": 159,
     "metadata": {},
     "output_type": "execute_result"
    }
   ],
   "source": [
    "array1d is lista"
   ]
  },
  {
   "cell_type": "code",
   "execution_count": 161,
   "metadata": {},
   "outputs": [
    {
     "data": {
      "text/plain": [
       "array([ True,  True,  True,  True])"
      ]
     },
     "execution_count": 161,
     "metadata": {},
     "output_type": "execute_result"
    }
   ],
   "source": [
    "lista == array1d"
   ]
  },
  {
   "cell_type": "code",
   "execution_count": 162,
   "metadata": {},
   "outputs": [
    {
     "data": {
      "text/plain": [
       "[1, 2, 3, 4, 1, 2, 3, 4, 1, 2, 3, 4]"
      ]
     },
     "execution_count": 162,
     "metadata": {},
     "output_type": "execute_result"
    }
   ],
   "source": [
    "3*lista"
   ]
  },
  {
   "cell_type": "code",
   "execution_count": 163,
   "metadata": {},
   "outputs": [
    {
     "data": {
      "text/plain": [
       "array([ 3,  6,  9, 12])"
      ]
     },
     "execution_count": 163,
     "metadata": {},
     "output_type": "execute_result"
    }
   ],
   "source": [
    "3*array1d"
   ]
  },
  {
   "cell_type": "code",
   "execution_count": 164,
   "metadata": {},
   "outputs": [],
   "source": [
    "#Definimos dos listas\n",
    "l01 = [1, 2, 3]\n",
    "l02 = [4, 5, 6]\n",
    "l03 = [7, 8, 9, 10, 11]"
   ]
  },
  {
   "cell_type": "code",
   "execution_count": 165,
   "metadata": {},
   "outputs": [
    {
     "data": {
      "text/plain": [
       "[1, 2, 3, 4, 5, 6]"
      ]
     },
     "execution_count": 165,
     "metadata": {},
     "output_type": "execute_result"
    }
   ],
   "source": [
    "#Suma de listas\n",
    "l01 + l02"
   ]
  },
  {
   "cell_type": "code",
   "execution_count": 166,
   "metadata": {},
   "outputs": [
    {
     "data": {
      "text/plain": [
       "[1, 2, 3, 7, 8, 9, 10, 11]"
      ]
     },
     "execution_count": 166,
     "metadata": {},
     "output_type": "execute_result"
    }
   ],
   "source": [
    "#Suma de listas\n",
    "l01 + l03"
   ]
  },
  {
   "cell_type": "code",
   "execution_count": 167,
   "metadata": {},
   "outputs": [
    {
     "data": {
      "text/plain": [
       "[1, 2, 3, 4, 5, 6, 7, 8, 9, 10, 11]"
      ]
     },
     "execution_count": 167,
     "metadata": {},
     "output_type": "execute_result"
    }
   ],
   "source": [
    "#Suma de listas\n",
    "l01 + l02 + l03"
   ]
  },
  {
   "cell_type": "code",
   "execution_count": 168,
   "metadata": {},
   "outputs": [],
   "source": [
    "#Definimos dos vectores\n",
    "v01 = np.array(l01)\n",
    "v02 = np.array(l02)\n",
    "v03 = np.array(l03)"
   ]
  },
  {
   "cell_type": "code",
   "execution_count": 169,
   "metadata": {},
   "outputs": [
    {
     "data": {
      "text/plain": [
       "array([1, 2, 3])"
      ]
     },
     "execution_count": 169,
     "metadata": {},
     "output_type": "execute_result"
    }
   ],
   "source": [
    "v01"
   ]
  },
  {
   "cell_type": "code",
   "execution_count": 170,
   "metadata": {},
   "outputs": [
    {
     "data": {
      "text/plain": [
       "array([4, 5, 6])"
      ]
     },
     "execution_count": 170,
     "metadata": {},
     "output_type": "execute_result"
    }
   ],
   "source": [
    "v02"
   ]
  },
  {
   "cell_type": "code",
   "execution_count": 171,
   "metadata": {},
   "outputs": [
    {
     "data": {
      "text/plain": [
       "array([ 7,  8,  9, 10, 11])"
      ]
     },
     "execution_count": 171,
     "metadata": {},
     "output_type": "execute_result"
    }
   ],
   "source": [
    "v03"
   ]
  },
  {
   "cell_type": "code",
   "execution_count": 172,
   "metadata": {},
   "outputs": [
    {
     "data": {
      "text/plain": [
       "array([5, 7, 9])"
      ]
     },
     "execution_count": 172,
     "metadata": {},
     "output_type": "execute_result"
    }
   ],
   "source": [
    "#Suma de vectores\n",
    "v01 + v02"
   ]
  },
  {
   "cell_type": "code",
   "execution_count": 173,
   "metadata": {},
   "outputs": [
    {
     "ename": "ValueError",
     "evalue": "operands could not be broadcast together with shapes (3,) (5,) ",
     "output_type": "error",
     "traceback": [
      "\u001b[0;31m---------------------------------------------------------------------------\u001b[0m",
      "\u001b[0;31mValueError\u001b[0m                                Traceback (most recent call last)",
      "\u001b[0;32m<ipython-input-173-6a271a3db0c2>\u001b[0m in \u001b[0;36m<module>\u001b[0;34m\u001b[0m\n\u001b[1;32m      1\u001b[0m \u001b[0;31m#Suma de vectores\u001b[0m\u001b[0;34m\u001b[0m\u001b[0;34m\u001b[0m\u001b[0;34m\u001b[0m\u001b[0m\n\u001b[0;32m----> 2\u001b[0;31m \u001b[0mv01\u001b[0m \u001b[0;34m+\u001b[0m \u001b[0mv03\u001b[0m\u001b[0;34m\u001b[0m\u001b[0;34m\u001b[0m\u001b[0m\n\u001b[0m",
      "\u001b[0;31mValueError\u001b[0m: operands could not be broadcast together with shapes (3,) (5,) "
     ]
    }
   ],
   "source": [
    "#Suma de vectores\n",
    "v01 + v03"
   ]
  },
  {
   "cell_type": "code",
   "execution_count": 174,
   "metadata": {},
   "outputs": [
    {
     "ename": "ValueError",
     "evalue": "operands could not be broadcast together with shapes (3,) (5,) ",
     "output_type": "error",
     "traceback": [
      "\u001b[0;31m---------------------------------------------------------------------------\u001b[0m",
      "\u001b[0;31mValueError\u001b[0m                                Traceback (most recent call last)",
      "\u001b[0;32m<ipython-input-174-182abae6eed1>\u001b[0m in \u001b[0;36m<module>\u001b[0;34m\u001b[0m\n\u001b[1;32m      1\u001b[0m \u001b[0;31m#Suma de vectores\u001b[0m\u001b[0;34m\u001b[0m\u001b[0;34m\u001b[0m\u001b[0;34m\u001b[0m\u001b[0m\n\u001b[0;32m----> 2\u001b[0;31m \u001b[0mv01\u001b[0m \u001b[0;34m+\u001b[0m \u001b[0mv02\u001b[0m \u001b[0;34m+\u001b[0m \u001b[0mv03\u001b[0m\u001b[0;34m\u001b[0m\u001b[0;34m\u001b[0m\u001b[0m\n\u001b[0m",
      "\u001b[0;31mValueError\u001b[0m: operands could not be broadcast together with shapes (3,) (5,) "
     ]
    }
   ],
   "source": [
    "#Suma de vectores\n",
    "v01 + v02 + v03"
   ]
  },
  {
   "cell_type": "markdown",
   "metadata": {},
   "source": [
    "### Análisis de las dimensiones de arreglos "
   ]
  },
  {
   "cell_type": "markdown",
   "metadata": {},
   "source": [
    "Podemos obtener información de la forma (*shape = longitud de dimensiones puestas en una tupla*) de un arreglo usando la propiedad `ndarray.shape`."
   ]
  },
  {
   "cell_type": "code",
   "execution_count": 180,
   "metadata": {},
   "outputs": [
    {
     "data": {
      "text/plain": [
       "(3,)"
      ]
     },
     "execution_count": 180,
     "metadata": {},
     "output_type": "execute_result"
    }
   ],
   "source": [
    "np.shape(v01)"
   ]
  },
  {
   "cell_type": "code",
   "execution_count": 181,
   "metadata": {},
   "outputs": [],
   "source": [
    "#np.shape?"
   ]
  },
  {
   "cell_type": "markdown",
   "metadata": {},
   "source": [
    "O equivalentemente."
   ]
  },
  {
   "cell_type": "code",
   "execution_count": 182,
   "metadata": {},
   "outputs": [
    {
     "data": {
      "text/plain": [
       "(3,)"
      ]
     },
     "execution_count": 182,
     "metadata": {},
     "output_type": "execute_result"
    }
   ],
   "source": [
    "v01.shape"
   ]
  },
  {
   "cell_type": "code",
   "execution_count": 183,
   "metadata": {},
   "outputs": [
    {
     "data": {
      "text/plain": [
       "(3,)"
      ]
     },
     "execution_count": 183,
     "metadata": {},
     "output_type": "execute_result"
    }
   ],
   "source": [
    "v02.shape"
   ]
  },
  {
   "cell_type": "code",
   "execution_count": 184,
   "metadata": {},
   "outputs": [
    {
     "data": {
      "text/plain": [
       "(5,)"
      ]
     },
     "execution_count": 184,
     "metadata": {},
     "output_type": "execute_result"
    }
   ],
   "source": [
    "v03.shape"
   ]
  },
  {
   "cell_type": "markdown",
   "metadata": {},
   "source": [
    "Los vectores sólo se pueden sumar si tienen la misma forma."
   ]
  },
  {
   "cell_type": "markdown",
   "metadata": {},
   "source": [
    "El número de elementos de un arreglo puede obtenerse usando la propiedad `ndarray.size`:"
   ]
  },
  {
   "cell_type": "code",
   "execution_count": 185,
   "metadata": {},
   "outputs": [
    {
     "data": {
      "text/plain": [
       "3"
      ]
     },
     "execution_count": 185,
     "metadata": {},
     "output_type": "execute_result"
    }
   ],
   "source": [
    "np.size(v01)"
   ]
  },
  {
   "cell_type": "markdown",
   "metadata": {},
   "source": [
    "O equivalentemente."
   ]
  },
  {
   "cell_type": "code",
   "execution_count": 186,
   "metadata": {},
   "outputs": [
    {
     "data": {
      "text/plain": [
       "3"
      ]
     },
     "execution_count": 186,
     "metadata": {},
     "output_type": "execute_result"
    }
   ],
   "source": [
    "v01.size"
   ]
  },
  {
   "cell_type": "code",
   "execution_count": 187,
   "metadata": {},
   "outputs": [
    {
     "data": {
      "text/plain": [
       "3"
      ]
     },
     "execution_count": 187,
     "metadata": {},
     "output_type": "execute_result"
    }
   ],
   "source": [
    "v02.size"
   ]
  },
  {
   "cell_type": "code",
   "execution_count": 188,
   "metadata": {},
   "outputs": [
    {
     "data": {
      "text/plain": [
       "5"
      ]
     },
     "execution_count": 188,
     "metadata": {},
     "output_type": "execute_result"
    }
   ],
   "source": [
    "v03.size"
   ]
  },
  {
   "cell_type": "markdown",
   "metadata": {},
   "source": [
    "La dimensión de un arreglo se puede obtener con `ndarray.ndim`\n"
   ]
  },
  {
   "cell_type": "code",
   "execution_count": 189,
   "metadata": {},
   "outputs": [
    {
     "data": {
      "text/plain": [
       "1"
      ]
     },
     "execution_count": 189,
     "metadata": {},
     "output_type": "execute_result"
    }
   ],
   "source": [
    "v03.ndim"
   ]
  },
  {
   "cell_type": "markdown",
   "metadata": {},
   "source": [
    "Operaciones con arreglos y sus diferencias con listas"
   ]
  },
  {
   "cell_type": "code",
   "execution_count": 190,
   "metadata": {},
   "outputs": [
    {
     "ename": "TypeError",
     "evalue": "can't multiply sequence by non-int of type 'list'",
     "output_type": "error",
     "traceback": [
      "\u001b[0;31m---------------------------------------------------------------------------\u001b[0m",
      "\u001b[0;31mTypeError\u001b[0m                                 Traceback (most recent call last)",
      "\u001b[0;32m<ipython-input-190-47c50ba72ab4>\u001b[0m in \u001b[0;36m<module>\u001b[0;34m\u001b[0m\n\u001b[1;32m      1\u001b[0m \u001b[0;31m# Multiplicando listas\u001b[0m\u001b[0;34m\u001b[0m\u001b[0;34m\u001b[0m\u001b[0;34m\u001b[0m\u001b[0m\n\u001b[0;32m----> 2\u001b[0;31m \u001b[0ml01\u001b[0m\u001b[0;34m*\u001b[0m\u001b[0ml02\u001b[0m\u001b[0;34m\u001b[0m\u001b[0;34m\u001b[0m\u001b[0m\n\u001b[0m",
      "\u001b[0;31mTypeError\u001b[0m: can't multiply sequence by non-int of type 'list'"
     ]
    }
   ],
   "source": [
    "# Multiplicando listas\n",
    "l01*l02"
   ]
  },
  {
   "cell_type": "code",
   "execution_count": 191,
   "metadata": {},
   "outputs": [
    {
     "data": {
      "text/plain": [
       "array([ 4, 10, 18])"
      ]
     },
     "execution_count": 191,
     "metadata": {},
     "output_type": "execute_result"
    }
   ],
   "source": [
    "#Multiplicando vectores\n",
    "v01*v02"
   ]
  },
  {
   "cell_type": "code",
   "execution_count": 192,
   "metadata": {},
   "outputs": [
    {
     "ename": "ValueError",
     "evalue": "operands could not be broadcast together with shapes (3,) (5,) ",
     "output_type": "error",
     "traceback": [
      "\u001b[0;31m---------------------------------------------------------------------------\u001b[0m",
      "\u001b[0;31mValueError\u001b[0m                                Traceback (most recent call last)",
      "\u001b[0;32m<ipython-input-192-667b9699da0d>\u001b[0m in \u001b[0;36m<module>\u001b[0;34m\u001b[0m\n\u001b[1;32m      1\u001b[0m \u001b[0;31m#Multiplicando vectores\u001b[0m\u001b[0;34m\u001b[0m\u001b[0;34m\u001b[0m\u001b[0;34m\u001b[0m\u001b[0m\n\u001b[0;32m----> 2\u001b[0;31m \u001b[0mv01\u001b[0m\u001b[0;34m*\u001b[0m\u001b[0mv03\u001b[0m\u001b[0;34m\u001b[0m\u001b[0;34m\u001b[0m\u001b[0m\n\u001b[0m",
      "\u001b[0;31mValueError\u001b[0m: operands could not be broadcast together with shapes (3,) (5,) "
     ]
    }
   ],
   "source": [
    "#Multiplicando vectores\n",
    "v01*v03"
   ]
  },
  {
   "cell_type": "markdown",
   "metadata": {},
   "source": [
    "Las listas no se pueden multiplicar, mientras que los vectores sí. La multiplicación se realiza elemento a elemento y sólo si poseen la misma forma."
   ]
  },
  {
   "cell_type": "code",
   "execution_count": 193,
   "metadata": {},
   "outputs": [
    {
     "ename": "TypeError",
     "evalue": "unsupported operand type(s) for /: 'list' and 'list'",
     "output_type": "error",
     "traceback": [
      "\u001b[0;31m---------------------------------------------------------------------------\u001b[0m",
      "\u001b[0;31mTypeError\u001b[0m                                 Traceback (most recent call last)",
      "\u001b[0;32m<ipython-input-193-a679f3f8b289>\u001b[0m in \u001b[0;36m<module>\u001b[0;34m\u001b[0m\n\u001b[1;32m      1\u001b[0m \u001b[0;31m# Dividiendo listas\u001b[0m\u001b[0;34m\u001b[0m\u001b[0;34m\u001b[0m\u001b[0;34m\u001b[0m\u001b[0m\n\u001b[0;32m----> 2\u001b[0;31m \u001b[0ml01\u001b[0m\u001b[0;34m/\u001b[0m\u001b[0ml02\u001b[0m\u001b[0;34m\u001b[0m\u001b[0;34m\u001b[0m\u001b[0m\n\u001b[0m",
      "\u001b[0;31mTypeError\u001b[0m: unsupported operand type(s) for /: 'list' and 'list'"
     ]
    }
   ],
   "source": [
    "# Dividiendo listas\n",
    "l01/l02"
   ]
  },
  {
   "cell_type": "code",
   "execution_count": 194,
   "metadata": {},
   "outputs": [
    {
     "data": {
      "text/plain": [
       "array([0.25, 0.4 , 0.5 ])"
      ]
     },
     "execution_count": 194,
     "metadata": {},
     "output_type": "execute_result"
    }
   ],
   "source": [
    "#Dividiendo vectores\n",
    "v01/v02"
   ]
  },
  {
   "cell_type": "code",
   "execution_count": 195,
   "metadata": {},
   "outputs": [
    {
     "ename": "ValueError",
     "evalue": "operands could not be broadcast together with shapes (3,) (5,) ",
     "output_type": "error",
     "traceback": [
      "\u001b[0;31m---------------------------------------------------------------------------\u001b[0m",
      "\u001b[0;31mValueError\u001b[0m                                Traceback (most recent call last)",
      "\u001b[0;32m<ipython-input-195-6f1bfef7877b>\u001b[0m in \u001b[0;36m<module>\u001b[0;34m\u001b[0m\n\u001b[1;32m      1\u001b[0m \u001b[0;31m#Dividiendo vectores\u001b[0m\u001b[0;34m\u001b[0m\u001b[0;34m\u001b[0m\u001b[0;34m\u001b[0m\u001b[0m\n\u001b[0;32m----> 2\u001b[0;31m \u001b[0mv01\u001b[0m\u001b[0;34m/\u001b[0m\u001b[0mv03\u001b[0m\u001b[0;34m\u001b[0m\u001b[0;34m\u001b[0m\u001b[0m\n\u001b[0m",
      "\u001b[0;31mValueError\u001b[0m: operands could not be broadcast together with shapes (3,) (5,) "
     ]
    }
   ],
   "source": [
    "#Dividiendo vectores\n",
    "v01/v03"
   ]
  },
  {
   "cell_type": "markdown",
   "metadata": {},
   "source": [
    "Las listas no se pueden dividir, mientras que los vectores sí. La división se realiza elemento a elemento y sólo si poseen la misma forma."
   ]
  },
  {
   "cell_type": "markdown",
   "metadata": {},
   "source": [
    "### Operaciones escalar-arreglo\n",
    "\n",
    "Podemos usar los operadores aritméticos usuales para multiplicar, sumar, restar, y dividir arreglos por números (escalares)."
   ]
  },
  {
   "cell_type": "code",
   "execution_count": 196,
   "metadata": {},
   "outputs": [
    {
     "data": {
      "text/plain": [
       "array([ 3,  6,  9, 12])"
      ]
     },
     "execution_count": 196,
     "metadata": {},
     "output_type": "execute_result"
    }
   ],
   "source": [
    "escalar = 3\n",
    "#escalar = 3.\n",
    "escalar*array1d"
   ]
  },
  {
   "cell_type": "code",
   "execution_count": 197,
   "metadata": {},
   "outputs": [
    {
     "data": {
      "text/plain": [
       "array([4, 5, 6, 7])"
      ]
     },
     "execution_count": 197,
     "metadata": {},
     "output_type": "execute_result"
    }
   ],
   "source": [
    "array1d+escalar"
   ]
  },
  {
   "cell_type": "markdown",
   "metadata": {},
   "source": [
    "### Operaciones elemento a elemento entre arreglos\n",
    "\n",
    "Cuando sumamos, sustraemos, multiplicamos y dividimos dos arreglos, el comportamiento por defecto es operar *elemento a elemento*:"
   ]
  },
  {
   "cell_type": "code",
   "execution_count": 198,
   "metadata": {},
   "outputs": [
    {
     "data": {
      "text/plain": [
       "array([ 1,  4,  9, 16])"
      ]
     },
     "execution_count": 198,
     "metadata": {},
     "output_type": "execute_result"
    }
   ],
   "source": [
    "# elevar al cuadrado\n",
    "array1d**2"
   ]
  },
  {
   "cell_type": "code",
   "execution_count": 199,
   "metadata": {},
   "outputs": [
    {
     "data": {
      "text/plain": [
       "array([ 1.55740772, -2.18503986, -0.14254654,  1.15782128])"
      ]
     },
     "execution_count": 199,
     "metadata": {},
     "output_type": "execute_result"
    }
   ],
   "source": [
    "# tangente\n",
    "np.tan(array1d)"
   ]
  },
  {
   "cell_type": "code",
   "execution_count": 200,
   "metadata": {},
   "outputs": [
    {
     "data": {
      "text/plain": [
       "array([ 2.71828183,  7.3890561 , 20.08553692, 54.59815003])"
      ]
     },
     "execution_count": 200,
     "metadata": {},
     "output_type": "execute_result"
    }
   ],
   "source": [
    "# exponencial\n",
    "np.exp(array1d)"
   ]
  },
  {
   "cell_type": "code",
   "execution_count": 201,
   "metadata": {},
   "outputs": [
    {
     "data": {
      "text/plain": [
       "array([ 0.54030231, -0.41614684, -0.9899925 , -0.65364362])"
      ]
     },
     "execution_count": 201,
     "metadata": {},
     "output_type": "execute_result"
    }
   ],
   "source": [
    "# coseno\n",
    "np.cos(array1d)"
   ]
  },
  {
   "cell_type": "code",
   "execution_count": 202,
   "metadata": {},
   "outputs": [
    {
     "data": {
      "text/plain": [
       "array([1.        , 1.41421356, 1.73205081, 2.        ])"
      ]
     },
     "execution_count": 202,
     "metadata": {},
     "output_type": "execute_result"
    }
   ],
   "source": [
    "# raíz cuadrada\n",
    "array1d**0.5"
   ]
  },
  {
   "cell_type": "code",
   "execution_count": 203,
   "metadata": {},
   "outputs": [
    {
     "data": {
      "text/plain": [
       "array([1.        , 1.41421356, 1.73205081, 2.        ])"
      ]
     },
     "execution_count": 203,
     "metadata": {},
     "output_type": "execute_result"
    }
   ],
   "source": [
    "# raíz cuadrada\n",
    "np.sqrt(array1d)"
   ]
  },
  {
   "cell_type": "markdown",
   "metadata": {},
   "source": [
    "# Creando un arreglo 2D"
   ]
  },
  {
   "cell_type": "code",
   "execution_count": 204,
   "metadata": {},
   "outputs": [
    {
     "data": {
      "text/plain": [
       "[[1, 2, 3], [4, 5, 6]]"
      ]
     },
     "execution_count": 204,
     "metadata": {},
     "output_type": "execute_result"
    }
   ],
   "source": [
    "#Creando lista anidada\n",
    "lista_anidada = [l01, l02]\n",
    "#lista_anidada = [l01, [4., 5., 6.]]\n",
    "lista_anidada"
   ]
  },
  {
   "cell_type": "code",
   "execution_count": 205,
   "metadata": {},
   "outputs": [
    {
     "data": {
      "text/plain": [
       "array([[1, 2, 3],\n",
       "       [4, 5, 6]])"
      ]
     },
     "execution_count": 205,
     "metadata": {},
     "output_type": "execute_result"
    }
   ],
   "source": [
    "#Creando un arreglo 2D: el argumento de la función np.array es una lista anidada de Python\n",
    "array2d = np.array(lista_anidada)\n",
    "array2d"
   ]
  },
  {
   "cell_type": "markdown",
   "metadata": {},
   "source": [
    "Usando la propiedad `dtype` (tipo de dato) de un `ndarray`, podemos ver qué tipo de dato contiene un arreglo:"
   ]
  },
  {
   "cell_type": "code",
   "execution_count": 206,
   "metadata": {},
   "outputs": [
    {
     "data": {
      "text/plain": [
       "(dtype('int64'), dtype('int64'))"
      ]
     },
     "execution_count": 206,
     "metadata": {},
     "output_type": "execute_result"
    }
   ],
   "source": [
    "array1d.dtype, array2d.dtype\n",
    "#Volver a definir matriz"
   ]
  },
  {
   "cell_type": "code",
   "execution_count": 207,
   "metadata": {},
   "outputs": [
    {
     "data": {
      "text/plain": [
       "(numpy.ndarray, numpy.ndarray)"
      ]
     },
     "execution_count": 207,
     "metadata": {},
     "output_type": "execute_result"
    }
   ],
   "source": [
    "#Tipo de array1d y array2d\n",
    "type(array1d), type(array2d)"
   ]
  },
  {
   "cell_type": "markdown",
   "metadata": {},
   "source": [
    "Los objetos `array1d` y `array2d` son ambos del tipo `ndarray` que provee el módulo `NumPy`."
   ]
  },
  {
   "cell_type": "code",
   "execution_count": 208,
   "metadata": {},
   "outputs": [
    {
     "data": {
      "text/plain": [
       "((4,), (2, 3))"
      ]
     },
     "execution_count": 208,
     "metadata": {},
     "output_type": "execute_result"
    }
   ],
   "source": [
    "#Forma de array1d y array2d\n",
    "array1d.shape, array2d.shape"
   ]
  },
  {
   "cell_type": "code",
   "execution_count": 209,
   "metadata": {},
   "outputs": [
    {
     "data": {
      "text/plain": [
       "(4, 6)"
      ]
     },
     "execution_count": 209,
     "metadata": {},
     "output_type": "execute_result"
    }
   ],
   "source": [
    "#Tamaño de array1d y array2d\n",
    "array1d.size, array2d.size"
   ]
  },
  {
   "cell_type": "markdown",
   "metadata": {},
   "source": [
    "# Indexado y visualización de arreglos multidimensionales\n",
    "\n",
    "<img src='./images/1_Ikn1J6siiiCSk4ivYUhdgw.png' title= https://medium.com/datadriveninvestor/artificial-intelligence-series-part-2-numpy-walkthrough-64461f26af4f />"
   ]
  },
  {
   "cell_type": "code",
   "execution_count": 210,
   "metadata": {},
   "outputs": [],
   "source": [
    "%matplotlib notebook\n",
    "import matplotlib.pyplot as plt\n",
    "from mpl_toolkits.mplot3d import Axes3D \n",
    "plt.rcParams['font.family'] = 'serif'"
   ]
  },
  {
   "cell_type": "markdown",
   "metadata": {},
   "source": [
    "#### 1D array"
   ]
  },
  {
   "cell_type": "code",
   "execution_count": 211,
   "metadata": {},
   "outputs": [
    {
     "data": {
      "text/plain": [
       "array([ 7,  2,  9, 10])"
      ]
     },
     "execution_count": 211,
     "metadata": {},
     "output_type": "execute_result"
    }
   ],
   "source": [
    "array1d = np.array([7, 2, 9, 10])\n",
    "array1d"
   ]
  },
  {
   "cell_type": "code",
   "execution_count": 212,
   "metadata": {},
   "outputs": [
    {
     "data": {
      "text/plain": [
       "1"
      ]
     },
     "execution_count": 212,
     "metadata": {},
     "output_type": "execute_result"
    }
   ],
   "source": [
    "array1d.ndim"
   ]
  },
  {
   "cell_type": "code",
   "execution_count": 213,
   "metadata": {},
   "outputs": [
    {
     "data": {
      "text/plain": [
       "(4,)"
      ]
     },
     "execution_count": 213,
     "metadata": {},
     "output_type": "execute_result"
    }
   ],
   "source": [
    "array1d.shape"
   ]
  },
  {
   "cell_type": "markdown",
   "metadata": {},
   "source": [
    "`array1d` es un vector, tiene por lo tanto sólo una dimensión, y requiere un índice."
   ]
  },
  {
   "cell_type": "code",
   "execution_count": 214,
   "metadata": {},
   "outputs": [
    {
     "data": {
      "application/javascript": [
       "/* Put everything inside the global mpl namespace */\n",
       "/* global mpl */\n",
       "window.mpl = {};\n",
       "\n",
       "mpl.get_websocket_type = function () {\n",
       "    if (typeof WebSocket !== 'undefined') {\n",
       "        return WebSocket;\n",
       "    } else if (typeof MozWebSocket !== 'undefined') {\n",
       "        return MozWebSocket;\n",
       "    } else {\n",
       "        alert(\n",
       "            'Your browser does not have WebSocket support. ' +\n",
       "                'Please try Chrome, Safari or Firefox ≥ 6. ' +\n",
       "                'Firefox 4 and 5 are also supported but you ' +\n",
       "                'have to enable WebSockets in about:config.'\n",
       "        );\n",
       "    }\n",
       "};\n",
       "\n",
       "mpl.figure = function (figure_id, websocket, ondownload, parent_element) {\n",
       "    this.id = figure_id;\n",
       "\n",
       "    this.ws = websocket;\n",
       "\n",
       "    this.supports_binary = this.ws.binaryType !== undefined;\n",
       "\n",
       "    if (!this.supports_binary) {\n",
       "        var warnings = document.getElementById('mpl-warnings');\n",
       "        if (warnings) {\n",
       "            warnings.style.display = 'block';\n",
       "            warnings.textContent =\n",
       "                'This browser does not support binary websocket messages. ' +\n",
       "                'Performance may be slow.';\n",
       "        }\n",
       "    }\n",
       "\n",
       "    this.imageObj = new Image();\n",
       "\n",
       "    this.context = undefined;\n",
       "    this.message = undefined;\n",
       "    this.canvas = undefined;\n",
       "    this.rubberband_canvas = undefined;\n",
       "    this.rubberband_context = undefined;\n",
       "    this.format_dropdown = undefined;\n",
       "\n",
       "    this.image_mode = 'full';\n",
       "\n",
       "    this.root = document.createElement('div');\n",
       "    this.root.setAttribute('style', 'display: inline-block');\n",
       "    this._root_extra_style(this.root);\n",
       "\n",
       "    parent_element.appendChild(this.root);\n",
       "\n",
       "    this._init_header(this);\n",
       "    this._init_canvas(this);\n",
       "    this._init_toolbar(this);\n",
       "\n",
       "    var fig = this;\n",
       "\n",
       "    this.waiting = false;\n",
       "\n",
       "    this.ws.onopen = function () {\n",
       "        fig.send_message('supports_binary', { value: fig.supports_binary });\n",
       "        fig.send_message('send_image_mode', {});\n",
       "        if (fig.ratio !== 1) {\n",
       "            fig.send_message('set_dpi_ratio', { dpi_ratio: fig.ratio });\n",
       "        }\n",
       "        fig.send_message('refresh', {});\n",
       "    };\n",
       "\n",
       "    this.imageObj.onload = function () {\n",
       "        if (fig.image_mode === 'full') {\n",
       "            // Full images could contain transparency (where diff images\n",
       "            // almost always do), so we need to clear the canvas so that\n",
       "            // there is no ghosting.\n",
       "            fig.context.clearRect(0, 0, fig.canvas.width, fig.canvas.height);\n",
       "        }\n",
       "        fig.context.drawImage(fig.imageObj, 0, 0);\n",
       "    };\n",
       "\n",
       "    this.imageObj.onunload = function () {\n",
       "        fig.ws.close();\n",
       "    };\n",
       "\n",
       "    this.ws.onmessage = this._make_on_message_function(this);\n",
       "\n",
       "    this.ondownload = ondownload;\n",
       "};\n",
       "\n",
       "mpl.figure.prototype._init_header = function () {\n",
       "    var titlebar = document.createElement('div');\n",
       "    titlebar.classList =\n",
       "        'ui-dialog-titlebar ui-widget-header ui-corner-all ui-helper-clearfix';\n",
       "    var titletext = document.createElement('div');\n",
       "    titletext.classList = 'ui-dialog-title';\n",
       "    titletext.setAttribute(\n",
       "        'style',\n",
       "        'width: 100%; text-align: center; padding: 3px;'\n",
       "    );\n",
       "    titlebar.appendChild(titletext);\n",
       "    this.root.appendChild(titlebar);\n",
       "    this.header = titletext;\n",
       "};\n",
       "\n",
       "mpl.figure.prototype._canvas_extra_style = function (_canvas_div) {};\n",
       "\n",
       "mpl.figure.prototype._root_extra_style = function (_canvas_div) {};\n",
       "\n",
       "mpl.figure.prototype._init_canvas = function () {\n",
       "    var fig = this;\n",
       "\n",
       "    var canvas_div = (this.canvas_div = document.createElement('div'));\n",
       "    canvas_div.setAttribute(\n",
       "        'style',\n",
       "        'border: 1px solid #ddd;' +\n",
       "            'box-sizing: content-box;' +\n",
       "            'clear: both;' +\n",
       "            'min-height: 1px;' +\n",
       "            'min-width: 1px;' +\n",
       "            'outline: 0;' +\n",
       "            'overflow: hidden;' +\n",
       "            'position: relative;' +\n",
       "            'resize: both;'\n",
       "    );\n",
       "\n",
       "    function on_keyboard_event_closure(name) {\n",
       "        return function (event) {\n",
       "            return fig.key_event(event, name);\n",
       "        };\n",
       "    }\n",
       "\n",
       "    canvas_div.addEventListener(\n",
       "        'keydown',\n",
       "        on_keyboard_event_closure('key_press')\n",
       "    );\n",
       "    canvas_div.addEventListener(\n",
       "        'keyup',\n",
       "        on_keyboard_event_closure('key_release')\n",
       "    );\n",
       "\n",
       "    this._canvas_extra_style(canvas_div);\n",
       "    this.root.appendChild(canvas_div);\n",
       "\n",
       "    var canvas = (this.canvas = document.createElement('canvas'));\n",
       "    canvas.classList.add('mpl-canvas');\n",
       "    canvas.setAttribute('style', 'box-sizing: content-box;');\n",
       "\n",
       "    this.context = canvas.getContext('2d');\n",
       "\n",
       "    var backingStore =\n",
       "        this.context.backingStorePixelRatio ||\n",
       "        this.context.webkitBackingStorePixelRatio ||\n",
       "        this.context.mozBackingStorePixelRatio ||\n",
       "        this.context.msBackingStorePixelRatio ||\n",
       "        this.context.oBackingStorePixelRatio ||\n",
       "        this.context.backingStorePixelRatio ||\n",
       "        1;\n",
       "\n",
       "    this.ratio = (window.devicePixelRatio || 1) / backingStore;\n",
       "    if (this.ratio !== 1) {\n",
       "        fig.send_message('set_dpi_ratio', { dpi_ratio: this.ratio });\n",
       "    }\n",
       "\n",
       "    var rubberband_canvas = (this.rubberband_canvas = document.createElement(\n",
       "        'canvas'\n",
       "    ));\n",
       "    rubberband_canvas.setAttribute(\n",
       "        'style',\n",
       "        'box-sizing: content-box; position: absolute; left: 0; top: 0; z-index: 1;'\n",
       "    );\n",
       "\n",
       "    var resizeObserver = new ResizeObserver(function (entries) {\n",
       "        var nentries = entries.length;\n",
       "        for (var i = 0; i < nentries; i++) {\n",
       "            var entry = entries[i];\n",
       "            var width, height;\n",
       "            if (entry.contentBoxSize) {\n",
       "                if (entry.contentBoxSize instanceof Array) {\n",
       "                    // Chrome 84 implements new version of spec.\n",
       "                    width = entry.contentBoxSize[0].inlineSize;\n",
       "                    height = entry.contentBoxSize[0].blockSize;\n",
       "                } else {\n",
       "                    // Firefox implements old version of spec.\n",
       "                    width = entry.contentBoxSize.inlineSize;\n",
       "                    height = entry.contentBoxSize.blockSize;\n",
       "                }\n",
       "            } else {\n",
       "                // Chrome <84 implements even older version of spec.\n",
       "                width = entry.contentRect.width;\n",
       "                height = entry.contentRect.height;\n",
       "            }\n",
       "\n",
       "            // Keep the size of the canvas and rubber band canvas in sync with\n",
       "            // the canvas container.\n",
       "            if (entry.devicePixelContentBoxSize) {\n",
       "                // Chrome 84 implements new version of spec.\n",
       "                canvas.setAttribute(\n",
       "                    'width',\n",
       "                    entry.devicePixelContentBoxSize[0].inlineSize\n",
       "                );\n",
       "                canvas.setAttribute(\n",
       "                    'height',\n",
       "                    entry.devicePixelContentBoxSize[0].blockSize\n",
       "                );\n",
       "            } else {\n",
       "                canvas.setAttribute('width', width * fig.ratio);\n",
       "                canvas.setAttribute('height', height * fig.ratio);\n",
       "            }\n",
       "            canvas.setAttribute(\n",
       "                'style',\n",
       "                'width: ' + width + 'px; height: ' + height + 'px;'\n",
       "            );\n",
       "\n",
       "            rubberband_canvas.setAttribute('width', width);\n",
       "            rubberband_canvas.setAttribute('height', height);\n",
       "\n",
       "            // And update the size in Python. We ignore the initial 0/0 size\n",
       "            // that occurs as the element is placed into the DOM, which should\n",
       "            // otherwise not happen due to the minimum size styling.\n",
       "            if (width != 0 && height != 0) {\n",
       "                fig.request_resize(width, height);\n",
       "            }\n",
       "        }\n",
       "    });\n",
       "    resizeObserver.observe(canvas_div);\n",
       "\n",
       "    function on_mouse_event_closure(name) {\n",
       "        return function (event) {\n",
       "            return fig.mouse_event(event, name);\n",
       "        };\n",
       "    }\n",
       "\n",
       "    rubberband_canvas.addEventListener(\n",
       "        'mousedown',\n",
       "        on_mouse_event_closure('button_press')\n",
       "    );\n",
       "    rubberband_canvas.addEventListener(\n",
       "        'mouseup',\n",
       "        on_mouse_event_closure('button_release')\n",
       "    );\n",
       "    // Throttle sequential mouse events to 1 every 20ms.\n",
       "    rubberband_canvas.addEventListener(\n",
       "        'mousemove',\n",
       "        on_mouse_event_closure('motion_notify')\n",
       "    );\n",
       "\n",
       "    rubberband_canvas.addEventListener(\n",
       "        'mouseenter',\n",
       "        on_mouse_event_closure('figure_enter')\n",
       "    );\n",
       "    rubberband_canvas.addEventListener(\n",
       "        'mouseleave',\n",
       "        on_mouse_event_closure('figure_leave')\n",
       "    );\n",
       "\n",
       "    canvas_div.addEventListener('wheel', function (event) {\n",
       "        if (event.deltaY < 0) {\n",
       "            event.step = 1;\n",
       "        } else {\n",
       "            event.step = -1;\n",
       "        }\n",
       "        on_mouse_event_closure('scroll')(event);\n",
       "    });\n",
       "\n",
       "    canvas_div.appendChild(canvas);\n",
       "    canvas_div.appendChild(rubberband_canvas);\n",
       "\n",
       "    this.rubberband_context = rubberband_canvas.getContext('2d');\n",
       "    this.rubberband_context.strokeStyle = '#000000';\n",
       "\n",
       "    this._resize_canvas = function (width, height, forward) {\n",
       "        if (forward) {\n",
       "            canvas_div.style.width = width + 'px';\n",
       "            canvas_div.style.height = height + 'px';\n",
       "        }\n",
       "    };\n",
       "\n",
       "    // Disable right mouse context menu.\n",
       "    this.rubberband_canvas.addEventListener('contextmenu', function (_e) {\n",
       "        event.preventDefault();\n",
       "        return false;\n",
       "    });\n",
       "\n",
       "    function set_focus() {\n",
       "        canvas.focus();\n",
       "        canvas_div.focus();\n",
       "    }\n",
       "\n",
       "    window.setTimeout(set_focus, 100);\n",
       "};\n",
       "\n",
       "mpl.figure.prototype._init_toolbar = function () {\n",
       "    var fig = this;\n",
       "\n",
       "    var toolbar = document.createElement('div');\n",
       "    toolbar.classList = 'mpl-toolbar';\n",
       "    this.root.appendChild(toolbar);\n",
       "\n",
       "    function on_click_closure(name) {\n",
       "        return function (_event) {\n",
       "            return fig.toolbar_button_onclick(name);\n",
       "        };\n",
       "    }\n",
       "\n",
       "    function on_mouseover_closure(tooltip) {\n",
       "        return function (event) {\n",
       "            if (!event.currentTarget.disabled) {\n",
       "                return fig.toolbar_button_onmouseover(tooltip);\n",
       "            }\n",
       "        };\n",
       "    }\n",
       "\n",
       "    fig.buttons = {};\n",
       "    var buttonGroup = document.createElement('div');\n",
       "    buttonGroup.classList = 'mpl-button-group';\n",
       "    for (var toolbar_ind in mpl.toolbar_items) {\n",
       "        var name = mpl.toolbar_items[toolbar_ind][0];\n",
       "        var tooltip = mpl.toolbar_items[toolbar_ind][1];\n",
       "        var image = mpl.toolbar_items[toolbar_ind][2];\n",
       "        var method_name = mpl.toolbar_items[toolbar_ind][3];\n",
       "\n",
       "        if (!name) {\n",
       "            /* Instead of a spacer, we start a new button group. */\n",
       "            if (buttonGroup.hasChildNodes()) {\n",
       "                toolbar.appendChild(buttonGroup);\n",
       "            }\n",
       "            buttonGroup = document.createElement('div');\n",
       "            buttonGroup.classList = 'mpl-button-group';\n",
       "            continue;\n",
       "        }\n",
       "\n",
       "        var button = (fig.buttons[name] = document.createElement('button'));\n",
       "        button.classList = 'mpl-widget';\n",
       "        button.setAttribute('role', 'button');\n",
       "        button.setAttribute('aria-disabled', 'false');\n",
       "        button.addEventListener('click', on_click_closure(method_name));\n",
       "        button.addEventListener('mouseover', on_mouseover_closure(tooltip));\n",
       "\n",
       "        var icon_img = document.createElement('img');\n",
       "        icon_img.src = '_images/' + image + '.png';\n",
       "        icon_img.srcset = '_images/' + image + '_large.png 2x';\n",
       "        icon_img.alt = tooltip;\n",
       "        button.appendChild(icon_img);\n",
       "\n",
       "        buttonGroup.appendChild(button);\n",
       "    }\n",
       "\n",
       "    if (buttonGroup.hasChildNodes()) {\n",
       "        toolbar.appendChild(buttonGroup);\n",
       "    }\n",
       "\n",
       "    var fmt_picker = document.createElement('select');\n",
       "    fmt_picker.classList = 'mpl-widget';\n",
       "    toolbar.appendChild(fmt_picker);\n",
       "    this.format_dropdown = fmt_picker;\n",
       "\n",
       "    for (var ind in mpl.extensions) {\n",
       "        var fmt = mpl.extensions[ind];\n",
       "        var option = document.createElement('option');\n",
       "        option.selected = fmt === mpl.default_extension;\n",
       "        option.innerHTML = fmt;\n",
       "        fmt_picker.appendChild(option);\n",
       "    }\n",
       "\n",
       "    var status_bar = document.createElement('span');\n",
       "    status_bar.classList = 'mpl-message';\n",
       "    toolbar.appendChild(status_bar);\n",
       "    this.message = status_bar;\n",
       "};\n",
       "\n",
       "mpl.figure.prototype.request_resize = function (x_pixels, y_pixels) {\n",
       "    // Request matplotlib to resize the figure. Matplotlib will then trigger a resize in the client,\n",
       "    // which will in turn request a refresh of the image.\n",
       "    this.send_message('resize', { width: x_pixels, height: y_pixels });\n",
       "};\n",
       "\n",
       "mpl.figure.prototype.send_message = function (type, properties) {\n",
       "    properties['type'] = type;\n",
       "    properties['figure_id'] = this.id;\n",
       "    this.ws.send(JSON.stringify(properties));\n",
       "};\n",
       "\n",
       "mpl.figure.prototype.send_draw_message = function () {\n",
       "    if (!this.waiting) {\n",
       "        this.waiting = true;\n",
       "        this.ws.send(JSON.stringify({ type: 'draw', figure_id: this.id }));\n",
       "    }\n",
       "};\n",
       "\n",
       "mpl.figure.prototype.handle_save = function (fig, _msg) {\n",
       "    var format_dropdown = fig.format_dropdown;\n",
       "    var format = format_dropdown.options[format_dropdown.selectedIndex].value;\n",
       "    fig.ondownload(fig, format);\n",
       "};\n",
       "\n",
       "mpl.figure.prototype.handle_resize = function (fig, msg) {\n",
       "    var size = msg['size'];\n",
       "    if (size[0] !== fig.canvas.width || size[1] !== fig.canvas.height) {\n",
       "        fig._resize_canvas(size[0], size[1], msg['forward']);\n",
       "        fig.send_message('refresh', {});\n",
       "    }\n",
       "};\n",
       "\n",
       "mpl.figure.prototype.handle_rubberband = function (fig, msg) {\n",
       "    var x0 = msg['x0'] / fig.ratio;\n",
       "    var y0 = (fig.canvas.height - msg['y0']) / fig.ratio;\n",
       "    var x1 = msg['x1'] / fig.ratio;\n",
       "    var y1 = (fig.canvas.height - msg['y1']) / fig.ratio;\n",
       "    x0 = Math.floor(x0) + 0.5;\n",
       "    y0 = Math.floor(y0) + 0.5;\n",
       "    x1 = Math.floor(x1) + 0.5;\n",
       "    y1 = Math.floor(y1) + 0.5;\n",
       "    var min_x = Math.min(x0, x1);\n",
       "    var min_y = Math.min(y0, y1);\n",
       "    var width = Math.abs(x1 - x0);\n",
       "    var height = Math.abs(y1 - y0);\n",
       "\n",
       "    fig.rubberband_context.clearRect(\n",
       "        0,\n",
       "        0,\n",
       "        fig.canvas.width / fig.ratio,\n",
       "        fig.canvas.height / fig.ratio\n",
       "    );\n",
       "\n",
       "    fig.rubberband_context.strokeRect(min_x, min_y, width, height);\n",
       "};\n",
       "\n",
       "mpl.figure.prototype.handle_figure_label = function (fig, msg) {\n",
       "    // Updates the figure title.\n",
       "    fig.header.textContent = msg['label'];\n",
       "};\n",
       "\n",
       "mpl.figure.prototype.handle_cursor = function (fig, msg) {\n",
       "    var cursor = msg['cursor'];\n",
       "    switch (cursor) {\n",
       "        case 0:\n",
       "            cursor = 'pointer';\n",
       "            break;\n",
       "        case 1:\n",
       "            cursor = 'default';\n",
       "            break;\n",
       "        case 2:\n",
       "            cursor = 'crosshair';\n",
       "            break;\n",
       "        case 3:\n",
       "            cursor = 'move';\n",
       "            break;\n",
       "    }\n",
       "    fig.rubberband_canvas.style.cursor = cursor;\n",
       "};\n",
       "\n",
       "mpl.figure.prototype.handle_message = function (fig, msg) {\n",
       "    fig.message.textContent = msg['message'];\n",
       "};\n",
       "\n",
       "mpl.figure.prototype.handle_draw = function (fig, _msg) {\n",
       "    // Request the server to send over a new figure.\n",
       "    fig.send_draw_message();\n",
       "};\n",
       "\n",
       "mpl.figure.prototype.handle_image_mode = function (fig, msg) {\n",
       "    fig.image_mode = msg['mode'];\n",
       "};\n",
       "\n",
       "mpl.figure.prototype.handle_history_buttons = function (fig, msg) {\n",
       "    for (var key in msg) {\n",
       "        if (!(key in fig.buttons)) {\n",
       "            continue;\n",
       "        }\n",
       "        fig.buttons[key].disabled = !msg[key];\n",
       "        fig.buttons[key].setAttribute('aria-disabled', !msg[key]);\n",
       "    }\n",
       "};\n",
       "\n",
       "mpl.figure.prototype.handle_navigate_mode = function (fig, msg) {\n",
       "    if (msg['mode'] === 'PAN') {\n",
       "        fig.buttons['Pan'].classList.add('active');\n",
       "        fig.buttons['Zoom'].classList.remove('active');\n",
       "    } else if (msg['mode'] === 'ZOOM') {\n",
       "        fig.buttons['Pan'].classList.remove('active');\n",
       "        fig.buttons['Zoom'].classList.add('active');\n",
       "    } else {\n",
       "        fig.buttons['Pan'].classList.remove('active');\n",
       "        fig.buttons['Zoom'].classList.remove('active');\n",
       "    }\n",
       "};\n",
       "\n",
       "mpl.figure.prototype.updated_canvas_event = function () {\n",
       "    // Called whenever the canvas gets updated.\n",
       "    this.send_message('ack', {});\n",
       "};\n",
       "\n",
       "// A function to construct a web socket function for onmessage handling.\n",
       "// Called in the figure constructor.\n",
       "mpl.figure.prototype._make_on_message_function = function (fig) {\n",
       "    return function socket_on_message(evt) {\n",
       "        if (evt.data instanceof Blob) {\n",
       "            /* FIXME: We get \"Resource interpreted as Image but\n",
       "             * transferred with MIME type text/plain:\" errors on\n",
       "             * Chrome.  But how to set the MIME type?  It doesn't seem\n",
       "             * to be part of the websocket stream */\n",
       "            evt.data.type = 'image/png';\n",
       "\n",
       "            /* Free the memory for the previous frames */\n",
       "            if (fig.imageObj.src) {\n",
       "                (window.URL || window.webkitURL).revokeObjectURL(\n",
       "                    fig.imageObj.src\n",
       "                );\n",
       "            }\n",
       "\n",
       "            fig.imageObj.src = (window.URL || window.webkitURL).createObjectURL(\n",
       "                evt.data\n",
       "            );\n",
       "            fig.updated_canvas_event();\n",
       "            fig.waiting = false;\n",
       "            return;\n",
       "        } else if (\n",
       "            typeof evt.data === 'string' &&\n",
       "            evt.data.slice(0, 21) === 'data:image/png;base64'\n",
       "        ) {\n",
       "            fig.imageObj.src = evt.data;\n",
       "            fig.updated_canvas_event();\n",
       "            fig.waiting = false;\n",
       "            return;\n",
       "        }\n",
       "\n",
       "        var msg = JSON.parse(evt.data);\n",
       "        var msg_type = msg['type'];\n",
       "\n",
       "        // Call the  \"handle_{type}\" callback, which takes\n",
       "        // the figure and JSON message as its only arguments.\n",
       "        try {\n",
       "            var callback = fig['handle_' + msg_type];\n",
       "        } catch (e) {\n",
       "            console.log(\n",
       "                \"No handler for the '\" + msg_type + \"' message type: \",\n",
       "                msg\n",
       "            );\n",
       "            return;\n",
       "        }\n",
       "\n",
       "        if (callback) {\n",
       "            try {\n",
       "                // console.log(\"Handling '\" + msg_type + \"' message: \", msg);\n",
       "                callback(fig, msg);\n",
       "            } catch (e) {\n",
       "                console.log(\n",
       "                    \"Exception inside the 'handler_\" + msg_type + \"' callback:\",\n",
       "                    e,\n",
       "                    e.stack,\n",
       "                    msg\n",
       "                );\n",
       "            }\n",
       "        }\n",
       "    };\n",
       "};\n",
       "\n",
       "// from http://stackoverflow.com/questions/1114465/getting-mouse-location-in-canvas\n",
       "mpl.findpos = function (e) {\n",
       "    //this section is from http://www.quirksmode.org/js/events_properties.html\n",
       "    var targ;\n",
       "    if (!e) {\n",
       "        e = window.event;\n",
       "    }\n",
       "    if (e.target) {\n",
       "        targ = e.target;\n",
       "    } else if (e.srcElement) {\n",
       "        targ = e.srcElement;\n",
       "    }\n",
       "    if (targ.nodeType === 3) {\n",
       "        // defeat Safari bug\n",
       "        targ = targ.parentNode;\n",
       "    }\n",
       "\n",
       "    // pageX,Y are the mouse positions relative to the document\n",
       "    var boundingRect = targ.getBoundingClientRect();\n",
       "    var x = e.pageX - (boundingRect.left + document.body.scrollLeft);\n",
       "    var y = e.pageY - (boundingRect.top + document.body.scrollTop);\n",
       "\n",
       "    return { x: x, y: y };\n",
       "};\n",
       "\n",
       "/*\n",
       " * return a copy of an object with only non-object keys\n",
       " * we need this to avoid circular references\n",
       " * http://stackoverflow.com/a/24161582/3208463\n",
       " */\n",
       "function simpleKeys(original) {\n",
       "    return Object.keys(original).reduce(function (obj, key) {\n",
       "        if (typeof original[key] !== 'object') {\n",
       "            obj[key] = original[key];\n",
       "        }\n",
       "        return obj;\n",
       "    }, {});\n",
       "}\n",
       "\n",
       "mpl.figure.prototype.mouse_event = function (event, name) {\n",
       "    var canvas_pos = mpl.findpos(event);\n",
       "\n",
       "    if (name === 'button_press') {\n",
       "        this.canvas.focus();\n",
       "        this.canvas_div.focus();\n",
       "    }\n",
       "\n",
       "    var x = canvas_pos.x * this.ratio;\n",
       "    var y = canvas_pos.y * this.ratio;\n",
       "\n",
       "    this.send_message(name, {\n",
       "        x: x,\n",
       "        y: y,\n",
       "        button: event.button,\n",
       "        step: event.step,\n",
       "        guiEvent: simpleKeys(event),\n",
       "    });\n",
       "\n",
       "    /* This prevents the web browser from automatically changing to\n",
       "     * the text insertion cursor when the button is pressed.  We want\n",
       "     * to control all of the cursor setting manually through the\n",
       "     * 'cursor' event from matplotlib */\n",
       "    event.preventDefault();\n",
       "    return false;\n",
       "};\n",
       "\n",
       "mpl.figure.prototype._key_event_extra = function (_event, _name) {\n",
       "    // Handle any extra behaviour associated with a key event\n",
       "};\n",
       "\n",
       "mpl.figure.prototype.key_event = function (event, name) {\n",
       "    // Prevent repeat events\n",
       "    if (name === 'key_press') {\n",
       "        if (event.which === this._key) {\n",
       "            return;\n",
       "        } else {\n",
       "            this._key = event.which;\n",
       "        }\n",
       "    }\n",
       "    if (name === 'key_release') {\n",
       "        this._key = null;\n",
       "    }\n",
       "\n",
       "    var value = '';\n",
       "    if (event.ctrlKey && event.which !== 17) {\n",
       "        value += 'ctrl+';\n",
       "    }\n",
       "    if (event.altKey && event.which !== 18) {\n",
       "        value += 'alt+';\n",
       "    }\n",
       "    if (event.shiftKey && event.which !== 16) {\n",
       "        value += 'shift+';\n",
       "    }\n",
       "\n",
       "    value += 'k';\n",
       "    value += event.which.toString();\n",
       "\n",
       "    this._key_event_extra(event, name);\n",
       "\n",
       "    this.send_message(name, { key: value, guiEvent: simpleKeys(event) });\n",
       "    return false;\n",
       "};\n",
       "\n",
       "mpl.figure.prototype.toolbar_button_onclick = function (name) {\n",
       "    if (name === 'download') {\n",
       "        this.handle_save(this, null);\n",
       "    } else {\n",
       "        this.send_message('toolbar_button', { name: name });\n",
       "    }\n",
       "};\n",
       "\n",
       "mpl.figure.prototype.toolbar_button_onmouseover = function (tooltip) {\n",
       "    this.message.textContent = tooltip;\n",
       "};\n",
       "mpl.toolbar_items = [[\"Home\", \"Reset original view\", \"fa fa-home icon-home\", \"home\"], [\"Back\", \"Back to previous view\", \"fa fa-arrow-left icon-arrow-left\", \"back\"], [\"Forward\", \"Forward to next view\", \"fa fa-arrow-right icon-arrow-right\", \"forward\"], [\"\", \"\", \"\", \"\"], [\"Pan\", \"Left button pans, Right button zooms\\nx/y fixes axis, CTRL fixes aspect\", \"fa fa-arrows icon-move\", \"pan\"], [\"Zoom\", \"Zoom to rectangle\\nx/y fixes axis, CTRL fixes aspect\", \"fa fa-square-o icon-check-empty\", \"zoom\"], [\"\", \"\", \"\", \"\"], [\"Download\", \"Download plot\", \"fa fa-floppy-o icon-save\", \"download\"]];\n",
       "\n",
       "mpl.extensions = [\"eps\", \"jpeg\", \"pdf\", \"png\", \"ps\", \"raw\", \"svg\", \"tif\"];\n",
       "\n",
       "mpl.default_extension = \"png\";/* global mpl */\n",
       "\n",
       "var comm_websocket_adapter = function (comm) {\n",
       "    // Create a \"websocket\"-like object which calls the given IPython comm\n",
       "    // object with the appropriate methods. Currently this is a non binary\n",
       "    // socket, so there is still some room for performance tuning.\n",
       "    var ws = {};\n",
       "\n",
       "    ws.close = function () {\n",
       "        comm.close();\n",
       "    };\n",
       "    ws.send = function (m) {\n",
       "        //console.log('sending', m);\n",
       "        comm.send(m);\n",
       "    };\n",
       "    // Register the callback with on_msg.\n",
       "    comm.on_msg(function (msg) {\n",
       "        //console.log('receiving', msg['content']['data'], msg);\n",
       "        // Pass the mpl event to the overridden (by mpl) onmessage function.\n",
       "        ws.onmessage(msg['content']['data']);\n",
       "    });\n",
       "    return ws;\n",
       "};\n",
       "\n",
       "mpl.mpl_figure_comm = function (comm, msg) {\n",
       "    // This is the function which gets called when the mpl process\n",
       "    // starts-up an IPython Comm through the \"matplotlib\" channel.\n",
       "\n",
       "    var id = msg.content.data.id;\n",
       "    // Get hold of the div created by the display call when the Comm\n",
       "    // socket was opened in Python.\n",
       "    var element = document.getElementById(id);\n",
       "    var ws_proxy = comm_websocket_adapter(comm);\n",
       "\n",
       "    function ondownload(figure, _format) {\n",
       "        window.open(figure.canvas.toDataURL());\n",
       "    }\n",
       "\n",
       "    var fig = new mpl.figure(id, ws_proxy, ondownload, element);\n",
       "\n",
       "    // Call onopen now - mpl needs it, as it is assuming we've passed it a real\n",
       "    // web socket which is closed, not our websocket->open comm proxy.\n",
       "    ws_proxy.onopen();\n",
       "\n",
       "    fig.parent_element = element;\n",
       "    fig.cell_info = mpl.find_output_cell(\"<div id='\" + id + \"'></div>\");\n",
       "    if (!fig.cell_info) {\n",
       "        console.error('Failed to find cell for figure', id, fig);\n",
       "        return;\n",
       "    }\n",
       "    fig.cell_info[0].output_area.element.one(\n",
       "        'cleared',\n",
       "        { fig: fig },\n",
       "        fig._remove_fig_handler\n",
       "    );\n",
       "};\n",
       "\n",
       "mpl.figure.prototype.handle_close = function (fig, msg) {\n",
       "    var width = fig.canvas.width / fig.ratio;\n",
       "    fig.cell_info[0].output_area.element.off(\n",
       "        'cleared',\n",
       "        fig._remove_fig_handler\n",
       "    );\n",
       "\n",
       "    // Update the output cell to use the data from the current canvas.\n",
       "    fig.push_to_output();\n",
       "    var dataURL = fig.canvas.toDataURL();\n",
       "    // Re-enable the keyboard manager in IPython - without this line, in FF,\n",
       "    // the notebook keyboard shortcuts fail.\n",
       "    IPython.keyboard_manager.enable();\n",
       "    fig.parent_element.innerHTML =\n",
       "        '<img src=\"' + dataURL + '\" width=\"' + width + '\">';\n",
       "    fig.close_ws(fig, msg);\n",
       "};\n",
       "\n",
       "mpl.figure.prototype.close_ws = function (fig, msg) {\n",
       "    fig.send_message('closing', msg);\n",
       "    // fig.ws.close()\n",
       "};\n",
       "\n",
       "mpl.figure.prototype.push_to_output = function (_remove_interactive) {\n",
       "    // Turn the data on the canvas into data in the output cell.\n",
       "    var width = this.canvas.width / this.ratio;\n",
       "    var dataURL = this.canvas.toDataURL();\n",
       "    this.cell_info[1]['text/html'] =\n",
       "        '<img src=\"' + dataURL + '\" width=\"' + width + '\">';\n",
       "};\n",
       "\n",
       "mpl.figure.prototype.updated_canvas_event = function () {\n",
       "    // Tell IPython that the notebook contents must change.\n",
       "    IPython.notebook.set_dirty(true);\n",
       "    this.send_message('ack', {});\n",
       "    var fig = this;\n",
       "    // Wait a second, then push the new image to the DOM so\n",
       "    // that it is saved nicely (might be nice to debounce this).\n",
       "    setTimeout(function () {\n",
       "        fig.push_to_output();\n",
       "    }, 1000);\n",
       "};\n",
       "\n",
       "mpl.figure.prototype._init_toolbar = function () {\n",
       "    var fig = this;\n",
       "\n",
       "    var toolbar = document.createElement('div');\n",
       "    toolbar.classList = 'btn-toolbar';\n",
       "    this.root.appendChild(toolbar);\n",
       "\n",
       "    function on_click_closure(name) {\n",
       "        return function (_event) {\n",
       "            return fig.toolbar_button_onclick(name);\n",
       "        };\n",
       "    }\n",
       "\n",
       "    function on_mouseover_closure(tooltip) {\n",
       "        return function (event) {\n",
       "            if (!event.currentTarget.disabled) {\n",
       "                return fig.toolbar_button_onmouseover(tooltip);\n",
       "            }\n",
       "        };\n",
       "    }\n",
       "\n",
       "    fig.buttons = {};\n",
       "    var buttonGroup = document.createElement('div');\n",
       "    buttonGroup.classList = 'btn-group';\n",
       "    var button;\n",
       "    for (var toolbar_ind in mpl.toolbar_items) {\n",
       "        var name = mpl.toolbar_items[toolbar_ind][0];\n",
       "        var tooltip = mpl.toolbar_items[toolbar_ind][1];\n",
       "        var image = mpl.toolbar_items[toolbar_ind][2];\n",
       "        var method_name = mpl.toolbar_items[toolbar_ind][3];\n",
       "\n",
       "        if (!name) {\n",
       "            /* Instead of a spacer, we start a new button group. */\n",
       "            if (buttonGroup.hasChildNodes()) {\n",
       "                toolbar.appendChild(buttonGroup);\n",
       "            }\n",
       "            buttonGroup = document.createElement('div');\n",
       "            buttonGroup.classList = 'btn-group';\n",
       "            continue;\n",
       "        }\n",
       "\n",
       "        button = fig.buttons[name] = document.createElement('button');\n",
       "        button.classList = 'btn btn-default';\n",
       "        button.href = '#';\n",
       "        button.title = name;\n",
       "        button.innerHTML = '<i class=\"fa ' + image + ' fa-lg\"></i>';\n",
       "        button.addEventListener('click', on_click_closure(method_name));\n",
       "        button.addEventListener('mouseover', on_mouseover_closure(tooltip));\n",
       "        buttonGroup.appendChild(button);\n",
       "    }\n",
       "\n",
       "    if (buttonGroup.hasChildNodes()) {\n",
       "        toolbar.appendChild(buttonGroup);\n",
       "    }\n",
       "\n",
       "    // Add the status bar.\n",
       "    var status_bar = document.createElement('span');\n",
       "    status_bar.classList = 'mpl-message pull-right';\n",
       "    toolbar.appendChild(status_bar);\n",
       "    this.message = status_bar;\n",
       "\n",
       "    // Add the close button to the window.\n",
       "    var buttongrp = document.createElement('div');\n",
       "    buttongrp.classList = 'btn-group inline pull-right';\n",
       "    button = document.createElement('button');\n",
       "    button.classList = 'btn btn-mini btn-primary';\n",
       "    button.href = '#';\n",
       "    button.title = 'Stop Interaction';\n",
       "    button.innerHTML = '<i class=\"fa fa-power-off icon-remove icon-large\"></i>';\n",
       "    button.addEventListener('click', function (_evt) {\n",
       "        fig.handle_close(fig, {});\n",
       "    });\n",
       "    button.addEventListener(\n",
       "        'mouseover',\n",
       "        on_mouseover_closure('Stop Interaction')\n",
       "    );\n",
       "    buttongrp.appendChild(button);\n",
       "    var titlebar = this.root.querySelector('.ui-dialog-titlebar');\n",
       "    titlebar.insertBefore(buttongrp, titlebar.firstChild);\n",
       "};\n",
       "\n",
       "mpl.figure.prototype._remove_fig_handler = function (event) {\n",
       "    var fig = event.data.fig;\n",
       "    fig.close_ws(fig, {});\n",
       "};\n",
       "\n",
       "mpl.figure.prototype._root_extra_style = function (el) {\n",
       "    el.style.boxSizing = 'content-box'; // override notebook setting of border-box.\n",
       "};\n",
       "\n",
       "mpl.figure.prototype._canvas_extra_style = function (el) {\n",
       "    // this is important to make the div 'focusable\n",
       "    el.setAttribute('tabindex', 0);\n",
       "    // reach out to IPython and tell the keyboard manager to turn it's self\n",
       "    // off when our div gets focus\n",
       "\n",
       "    // location in version 3\n",
       "    if (IPython.notebook.keyboard_manager) {\n",
       "        IPython.notebook.keyboard_manager.register_events(el);\n",
       "    } else {\n",
       "        // location in version 2\n",
       "        IPython.keyboard_manager.register_events(el);\n",
       "    }\n",
       "};\n",
       "\n",
       "mpl.figure.prototype._key_event_extra = function (event, _name) {\n",
       "    var manager = IPython.notebook.keyboard_manager;\n",
       "    if (!manager) {\n",
       "        manager = IPython.keyboard_manager;\n",
       "    }\n",
       "\n",
       "    // Check for shift+enter\n",
       "    if (event.shiftKey && event.which === 13) {\n",
       "        this.canvas_div.blur();\n",
       "        // select the cell after this one\n",
       "        var index = IPython.notebook.find_cell_index(this.cell_info[0]);\n",
       "        IPython.notebook.select(index + 1);\n",
       "    }\n",
       "};\n",
       "\n",
       "mpl.figure.prototype.handle_save = function (fig, _msg) {\n",
       "    fig.ondownload(fig, null);\n",
       "};\n",
       "\n",
       "mpl.find_output_cell = function (html_output) {\n",
       "    // Return the cell and output element which can be found *uniquely* in the notebook.\n",
       "    // Note - this is a bit hacky, but it is done because the \"notebook_saving.Notebook\"\n",
       "    // IPython event is triggered only after the cells have been serialised, which for\n",
       "    // our purposes (turning an active figure into a static one), is too late.\n",
       "    var cells = IPython.notebook.get_cells();\n",
       "    var ncells = cells.length;\n",
       "    for (var i = 0; i < ncells; i++) {\n",
       "        var cell = cells[i];\n",
       "        if (cell.cell_type === 'code') {\n",
       "            for (var j = 0; j < cell.output_area.outputs.length; j++) {\n",
       "                var data = cell.output_area.outputs[j];\n",
       "                if (data.data) {\n",
       "                    // IPython >= 3 moved mimebundle to data attribute of output\n",
       "                    data = data.data;\n",
       "                }\n",
       "                if (data['text/html'] === html_output) {\n",
       "                    return [cell, data, j];\n",
       "                }\n",
       "            }\n",
       "        }\n",
       "    }\n",
       "};\n",
       "\n",
       "// Register the function which deals with the matplotlib target/channel.\n",
       "// The kernel may be null if the page has been refreshed.\n",
       "if (IPython.notebook.kernel !== null) {\n",
       "    IPython.notebook.kernel.comm_manager.register_target(\n",
       "        'matplotlib',\n",
       "        mpl.mpl_figure_comm\n",
       "    );\n",
       "}\n"
      ],
      "text/plain": [
       "<IPython.core.display.Javascript object>"
      ]
     },
     "metadata": {},
     "output_type": "display_data"
    },
    {
     "data": {
      "text/html": [
       "<img src=\"data:image/png;base64,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\" width=\"600\">"
      ],
      "text/plain": [
       "<IPython.core.display.HTML object>"
      ]
     },
     "metadata": {},
     "output_type": "display_data"
    },
    {
     "data": {
      "text/plain": [
       "Text(0, 0.5, 'Elemts  en arreglo 1D')"
      ]
     },
     "execution_count": 214,
     "metadata": {},
     "output_type": "execute_result"
    }
   ],
   "source": [
    "plt.figure(figsize=(6,6))\n",
    "plt.plot(array1d,'o')\n",
    "plt.grid()\n",
    "plt.xlabel(r'Indice $i$',fontsize=18)\n",
    "plt.ylabel(r'Elemts  en arreglo 1D',fontsize=18)"
   ]
  },
  {
   "cell_type": "code",
   "execution_count": 215,
   "metadata": {},
   "outputs": [
    {
     "data": {
      "text/plain": [
       "7"
      ]
     },
     "execution_count": 215,
     "metadata": {},
     "output_type": "execute_result"
    }
   ],
   "source": [
    "array1d[0]"
   ]
  },
  {
   "cell_type": "code",
   "execution_count": 216,
   "metadata": {},
   "outputs": [
    {
     "data": {
      "text/plain": [
       "(7, 2, 9, 10)"
      ]
     },
     "execution_count": 216,
     "metadata": {},
     "output_type": "execute_result"
    }
   ],
   "source": [
    "array1d[0], array1d[1], array1d[2], array1d[3] #,array1d[4]"
   ]
  },
  {
   "cell_type": "code",
   "execution_count": 217,
   "metadata": {},
   "outputs": [
    {
     "name": "stdout",
     "output_type": "stream",
     "text": [
      "0 7\n",
      "1 2\n",
      "2 9\n",
      "3 10\n"
     ]
    }
   ],
   "source": [
    "for i in range(4):\n",
    "    print(i, array1d[i])\n",
    "#    print('array1d[%s] = %2.1f'%(i, array1d[i]))"
   ]
  },
  {
   "cell_type": "markdown",
   "metadata": {},
   "source": [
    "Se pueden sumar los elementos de un arreglo 1D así:"
   ]
  },
  {
   "cell_type": "code",
   "execution_count": 218,
   "metadata": {},
   "outputs": [
    {
     "data": {
      "text/plain": [
       "28"
      ]
     },
     "execution_count": 218,
     "metadata": {},
     "output_type": "execute_result"
    }
   ],
   "source": [
    "sum(array1d)"
   ]
  },
  {
   "cell_type": "code",
   "execution_count": 220,
   "metadata": {},
   "outputs": [
    {
     "data": {
      "text/plain": [
       "28"
      ]
     },
     "execution_count": 220,
     "metadata": {},
     "output_type": "execute_result"
    }
   ],
   "source": [
    "np.sum(array1d)"
   ]
  },
  {
   "cell_type": "code",
   "execution_count": 228,
   "metadata": {},
   "outputs": [
    {
     "data": {
      "text/plain": [
       "28"
      ]
     },
     "execution_count": 228,
     "metadata": {},
     "output_type": "execute_result"
    }
   ],
   "source": [
    "array1d.sum()"
   ]
  },
  {
   "cell_type": "markdown",
   "metadata": {},
   "source": [
    "Se pueden multiplicar los elementos de un arreglo 1D así:"
   ]
  },
  {
   "cell_type": "code",
   "execution_count": 229,
   "metadata": {},
   "outputs": [
    {
     "data": {
      "text/plain": [
       "1260"
      ]
     },
     "execution_count": 229,
     "metadata": {},
     "output_type": "execute_result"
    }
   ],
   "source": [
    "np.prod(array1d)"
   ]
  },
  {
   "cell_type": "code",
   "execution_count": 230,
   "metadata": {},
   "outputs": [
    {
     "data": {
      "text/plain": [
       "array([ 7,  9, 18, 28])"
      ]
     },
     "execution_count": 230,
     "metadata": {},
     "output_type": "execute_result"
    }
   ],
   "source": [
    "#suma acumulada\n",
    "np.cumsum(array1d)"
   ]
  },
  {
   "cell_type": "code",
   "execution_count": 231,
   "metadata": {},
   "outputs": [
    {
     "data": {
      "text/plain": [
       "array([   7,   14,  126, 1260])"
      ]
     },
     "execution_count": 231,
     "metadata": {},
     "output_type": "execute_result"
    }
   ],
   "source": [
    "#producto acumulado\n",
    "np.cumproduct(array1d)"
   ]
  },
  {
   "cell_type": "markdown",
   "metadata": {},
   "source": [
    "#### 2D array"
   ]
  },
  {
   "cell_type": "code",
   "execution_count": 232,
   "metadata": {},
   "outputs": [
    {
     "data": {
      "text/plain": [
       "array([[5.2, 3. , 4.5],\n",
       "       [9.1, 0.1, 0.3]])"
      ]
     },
     "execution_count": 232,
     "metadata": {},
     "output_type": "execute_result"
    }
   ],
   "source": [
    "array2d = np.array([[5.2, 3.0, 4.5],\n",
    "                   [9.1, 0.1, 0.3]])\n",
    "array2d"
   ]
  },
  {
   "cell_type": "code",
   "execution_count": 234,
   "metadata": {},
   "outputs": [
    {
     "data": {
      "text/plain": [
       "2"
      ]
     },
     "execution_count": 234,
     "metadata": {},
     "output_type": "execute_result"
    }
   ],
   "source": [
    "array2d.ndim"
   ]
  },
  {
   "cell_type": "code",
   "execution_count": 235,
   "metadata": {},
   "outputs": [
    {
     "data": {
      "text/plain": [
       "(2, 3)"
      ]
     },
     "execution_count": 235,
     "metadata": {},
     "output_type": "execute_result"
    }
   ],
   "source": [
    "array2d.shape"
   ]
  },
  {
   "cell_type": "markdown",
   "metadata": {},
   "source": [
    "`array2d` es una matriz, es decir un arreglo bidimensional, requiere dos índices."
   ]
  },
  {
   "cell_type": "code",
   "execution_count": 236,
   "metadata": {},
   "outputs": [
    {
     "data": {
      "text/plain": [
       "(5.2, 3.0, 4.5)"
      ]
     },
     "execution_count": 236,
     "metadata": {},
     "output_type": "execute_result"
    }
   ],
   "source": [
    "#Imprime elementos de fila = 0 contada desde arriba hacia abajo\n",
    "array2d[0,0], array2d[0,1], array2d[0,2]"
   ]
  },
  {
   "cell_type": "code",
   "execution_count": 237,
   "metadata": {},
   "outputs": [
    {
     "data": {
      "text/plain": [
       "(9.1, 0.1, 0.3)"
      ]
     },
     "execution_count": 237,
     "metadata": {},
     "output_type": "execute_result"
    }
   ],
   "source": [
    "#Imprime elementos de fila = 1 contada desde arriba hacia abajo\n",
    "array2d[1,0], array2d[1,1], array2d[1,2]"
   ]
  },
  {
   "cell_type": "code",
   "execution_count": 238,
   "metadata": {},
   "outputs": [
    {
     "ename": "IndexError",
     "evalue": "index 2 is out of bounds for axis 0 with size 2",
     "output_type": "error",
     "traceback": [
      "\u001b[0;31m---------------------------------------------------------------------------\u001b[0m",
      "\u001b[0;31mIndexError\u001b[0m                                Traceback (most recent call last)",
      "\u001b[0;32m<ipython-input-238-116c0af88bd8>\u001b[0m in \u001b[0;36m<module>\u001b[0;34m\u001b[0m\n\u001b[1;32m      1\u001b[0m \u001b[0;31m#La fila = 2 no está definida\u001b[0m\u001b[0;34m\u001b[0m\u001b[0;34m\u001b[0m\u001b[0;34m\u001b[0m\u001b[0m\n\u001b[0;32m----> 2\u001b[0;31m \u001b[0marray2d\u001b[0m\u001b[0;34m[\u001b[0m\u001b[0;36m2\u001b[0m\u001b[0;34m,\u001b[0m\u001b[0;36m0\u001b[0m\u001b[0;34m]\u001b[0m\u001b[0;34m\u001b[0m\u001b[0;34m\u001b[0m\u001b[0m\n\u001b[0m",
      "\u001b[0;31mIndexError\u001b[0m: index 2 is out of bounds for axis 0 with size 2"
     ]
    }
   ],
   "source": [
    "#La fila = 2 no está definida\n",
    "array2d[2,0]"
   ]
  },
  {
   "cell_type": "code",
   "execution_count": 239,
   "metadata": {},
   "outputs": [
    {
     "name": "stdout",
     "output_type": "stream",
     "text": [
      "0 0 5.2\n",
      "0 1 3.0\n",
      "0 2 4.5\n",
      "1 0 9.1\n",
      "1 1 0.1\n",
      "1 2 0.3\n"
     ]
    }
   ],
   "source": [
    "for i in range(2):\n",
    "    for j in range(3):\n",
    "        print(i,j,array2d[i,j])\n",
    "#        print('array2d[%s,%s] = %2.1f'%(i, j, array2d[i, j]))"
   ]
  },
  {
   "cell_type": "markdown",
   "metadata": {},
   "source": [
    "también se puede iterar sobre un arreglo; siempre se realiza sobre axis=0"
   ]
  },
  {
   "cell_type": "code",
   "execution_count": 241,
   "metadata": {},
   "outputs": [
    {
     "name": "stdout",
     "output_type": "stream",
     "text": [
      "[5.2 3.  4.5]\n",
      "[9.1 0.1 0.3]\n"
     ]
    }
   ],
   "source": [
    "for i in array2d:\n",
    "    print(i)"
   ]
  },
  {
   "cell_type": "markdown",
   "metadata": {},
   "source": [
    "Se pueden sumar los elementos de un arreglo 2D así:"
   ]
  },
  {
   "cell_type": "code",
   "execution_count": 242,
   "metadata": {},
   "outputs": [
    {
     "data": {
      "text/plain": [
       "22.2"
      ]
     },
     "execution_count": 242,
     "metadata": {},
     "output_type": "execute_result"
    }
   ],
   "source": [
    "array2d.sum()"
   ]
  },
  {
   "cell_type": "markdown",
   "metadata": {},
   "source": [
    "Se pueden sumar los elementos del `axis=0` de un arreglo 2D así:"
   ]
  },
  {
   "cell_type": "code",
   "execution_count": 243,
   "metadata": {},
   "outputs": [
    {
     "data": {
      "text/plain": [
       "array([14.3,  3.1,  4.8])"
      ]
     },
     "execution_count": 243,
     "metadata": {},
     "output_type": "execute_result"
    }
   ],
   "source": [
    "#Suma elementos sobre axis=0\n",
    "array2d.sum(axis=0)"
   ]
  },
  {
   "cell_type": "markdown",
   "metadata": {},
   "source": [
    "Se pueden sumar los elementos del `axis=1` de un arreglo 2D así:"
   ]
  },
  {
   "cell_type": "code",
   "execution_count": 244,
   "metadata": {},
   "outputs": [
    {
     "data": {
      "text/plain": [
       "array([12.7,  9.5])"
      ]
     },
     "execution_count": 244,
     "metadata": {},
     "output_type": "execute_result"
    }
   ],
   "source": [
    "#Suma elementos sobre axis=1\n",
    "array2d.sum(axis=1)"
   ]
  },
  {
   "cell_type": "markdown",
   "metadata": {},
   "source": [
    "Note que:"
   ]
  },
  {
   "cell_type": "code",
   "execution_count": 245,
   "metadata": {},
   "outputs": [
    {
     "data": {
      "text/plain": [
       "(22.200000000000003, 22.2)"
      ]
     },
     "execution_count": 245,
     "metadata": {},
     "output_type": "execute_result"
    }
   ],
   "source": [
    "array2d.sum(axis=0).sum(), array2d.sum(axis=1).sum() #Es la suma de todos los elementos del arreglo"
   ]
  },
  {
   "cell_type": "markdown",
   "metadata": {},
   "source": [
    "Similarmente:"
   ]
  },
  {
   "cell_type": "code",
   "execution_count": 246,
   "metadata": {},
   "outputs": [
    {
     "data": {
      "text/plain": [
       "(array([47.32,  0.3 ,  1.35]), array([70.2  ,  0.273]))"
      ]
     },
     "execution_count": 246,
     "metadata": {},
     "output_type": "execute_result"
    }
   ],
   "source": [
    "np.prod(array2d,axis=0), np.prod(array2d,axis=1)"
   ]
  },
  {
   "cell_type": "markdown",
   "metadata": {},
   "source": [
    "#### 3D array"
   ]
  },
  {
   "cell_type": "code",
   "execution_count": 247,
   "metadata": {},
   "outputs": [
    {
     "data": {
      "text/plain": [
       "array([[[ 1,  2],\n",
       "        [ 4,  3],\n",
       "        [ 7,  4]],\n",
       "\n",
       "       [[ 2,  3],\n",
       "        [ 9,  8],\n",
       "        [ 7,  5]],\n",
       "\n",
       "       [[ 1,  2],\n",
       "        [ 3,  2],\n",
       "        [ 0,  2]],\n",
       "\n",
       "       [[ 9, 10],\n",
       "        [ 6,  5],\n",
       "        [ 9,  8]]])"
      ]
     },
     "execution_count": 247,
     "metadata": {},
     "output_type": "execute_result"
    }
   ],
   "source": [
    "array3d = np.array([[[1,2], [4,3], [7,4]],\n",
    "                   [[2,3], [9,8], [7,5]],\n",
    "                   [[1,2], [3,2], [0,2]],\n",
    "                   [[9,10], [6,5], [9,8]]])\n",
    "array3d"
   ]
  },
  {
   "cell_type": "code",
   "execution_count": 248,
   "metadata": {},
   "outputs": [
    {
     "data": {
      "text/plain": [
       "(4, 3, 2)"
      ]
     },
     "execution_count": 248,
     "metadata": {},
     "output_type": "execute_result"
    }
   ],
   "source": [
    "array3d.shape"
   ]
  },
  {
   "cell_type": "markdown",
   "metadata": {},
   "source": [
    "`array3d` es una \"paralelepípedo rectangular\", es decir un arreglo tridimensional, requiere tres índices."
   ]
  },
  {
   "cell_type": "code",
   "execution_count": 249,
   "metadata": {},
   "outputs": [
    {
     "data": {
      "text/plain": [
       "9"
      ]
     },
     "execution_count": 249,
     "metadata": {},
     "output_type": "execute_result"
    }
   ],
   "source": [
    "array3d[1,1,0]"
   ]
  },
  {
   "cell_type": "code",
   "execution_count": null,
   "metadata": {},
   "outputs": [],
   "source": [
    "# Se varía axis=0\n",
    "j = 0 \n",
    "k = 0\n",
    "array3d[0,j,k], array3d[1,j,k], array3d[2,j,k], array3d[3,j,k]"
   ]
  },
  {
   "cell_type": "code",
   "execution_count": null,
   "metadata": {},
   "outputs": [],
   "source": [
    "# Se varía axis=0\n",
    "j = 0 \n",
    "k = 1\n",
    "array3d[0,j,k], array3d[1,j,k], array3d[2,j,k], array3d[3,j,k]"
   ]
  },
  {
   "cell_type": "code",
   "execution_count": null,
   "metadata": {},
   "outputs": [],
   "source": [
    "# Se varía axis=0 y se saca de rango\n",
    "j = 0 \n",
    "k = 2\n",
    "array3d[0,j,k], array3d[1,j,k], array3d[2,j,k], array3d[3,j,k]"
   ]
  },
  {
   "cell_type": "code",
   "execution_count": null,
   "metadata": {},
   "outputs": [],
   "source": [
    "# Se varía axis=1\n",
    "i = 0\n",
    "k = 0\n",
    "array3d[i,0,k], array3d[i,1,k], array3d[i,2,k]"
   ]
  },
  {
   "cell_type": "code",
   "execution_count": null,
   "metadata": {},
   "outputs": [],
   "source": [
    "# Se varía axis=1\n",
    "i = 1\n",
    "k = 0\n",
    "array3d[i,0,k], array3d[i,1,k], array3d[i,2,k]"
   ]
  },
  {
   "cell_type": "code",
   "execution_count": null,
   "metadata": {},
   "outputs": [],
   "source": [
    "# Se varía axis=1\n",
    "i = 2\n",
    "k = 0\n",
    "array3d[i,0,k], array3d[i,1,k], array3d[i,2,k]"
   ]
  },
  {
   "cell_type": "code",
   "execution_count": null,
   "metadata": {},
   "outputs": [],
   "source": [
    "# Se varía axis=1\n",
    "i = 3\n",
    "k = 0\n",
    "array3d[i,0,k], array3d[i,1,k], array3d[i,2,k]"
   ]
  },
  {
   "cell_type": "code",
   "execution_count": null,
   "metadata": {},
   "outputs": [],
   "source": [
    "for i in range(4):\n",
    "    for j in range(3):\n",
    "        for k in range(2):\n",
    "            print(i, j, k, array3d[i, j, k])\n",
    "#            print('array3d[%s,%s,%s] = %d'%(i, j, k, array3d[i, j, k]))"
   ]
  },
  {
   "cell_type": "code",
   "execution_count": null,
   "metadata": {},
   "outputs": [],
   "source": [
    "#Comparando los 3 arreglos multidimensionales."
   ]
  },
  {
   "cell_type": "code",
   "execution_count": null,
   "metadata": {},
   "outputs": [],
   "source": [
    "array1d.itemsize, array2d.itemsize, array3d.itemsize # los bits de cada elemento"
   ]
  },
  {
   "cell_type": "code",
   "execution_count": null,
   "metadata": {},
   "outputs": [],
   "source": [
    "array1d.nbytes, array2d.nbytes, array3d.nbytes # número de bytes"
   ]
  },
  {
   "cell_type": "code",
   "execution_count": null,
   "metadata": {},
   "outputs": [],
   "source": [
    "array1d.ndim, array2d.ndim, array3d.ndim # número de dimensiones"
   ]
  },
  {
   "cell_type": "markdown",
   "metadata": {},
   "source": [
    "## Reasignando elementos de arreglo"
   ]
  },
  {
   "cell_type": "code",
   "execution_count": 250,
   "metadata": {},
   "outputs": [
    {
     "data": {
      "text/plain": [
       "array([ 7,  2,  9, 10])"
      ]
     },
     "execution_count": 250,
     "metadata": {},
     "output_type": "execute_result"
    }
   ],
   "source": [
    "array1d"
   ]
  },
  {
   "cell_type": "code",
   "execution_count": 251,
   "metadata": {},
   "outputs": [],
   "source": [
    "array1d[1] = 30."
   ]
  },
  {
   "cell_type": "code",
   "execution_count": 252,
   "metadata": {},
   "outputs": [
    {
     "data": {
      "text/plain": [
       "array([ 7, 30,  9, 10])"
      ]
     },
     "execution_count": 252,
     "metadata": {},
     "output_type": "execute_result"
    }
   ],
   "source": [
    "array1d"
   ]
  },
  {
   "cell_type": "markdown",
   "metadata": {},
   "source": [
    "Se obtiene un error si intentamos asignar un valor de un tipo equivocado a un elemento de un arreglo numpy:"
   ]
  },
  {
   "cell_type": "code",
   "execution_count": 253,
   "metadata": {},
   "outputs": [
    {
     "data": {
      "text/plain": [
       "array([[5.2, 3. , 4.5],\n",
       "       [9.1, 0.1, 0.3]])"
      ]
     },
     "execution_count": 253,
     "metadata": {},
     "output_type": "execute_result"
    }
   ],
   "source": [
    "array2d"
   ]
  },
  {
   "cell_type": "code",
   "execution_count": 254,
   "metadata": {},
   "outputs": [
    {
     "ename": "ValueError",
     "evalue": "could not convert string to float: 'Hola Mundo'",
     "output_type": "error",
     "traceback": [
      "\u001b[0;31m---------------------------------------------------------------------------\u001b[0m",
      "\u001b[0;31mValueError\u001b[0m                                Traceback (most recent call last)",
      "\u001b[0;32m<ipython-input-254-35e6816302f4>\u001b[0m in \u001b[0;36m<module>\u001b[0;34m\u001b[0m\n\u001b[1;32m      1\u001b[0m \u001b[0;31m#Intentando reasignar valor\u001b[0m\u001b[0;34m\u001b[0m\u001b[0;34m\u001b[0m\u001b[0;34m\u001b[0m\u001b[0m\n\u001b[0;32m----> 2\u001b[0;31m \u001b[0marray2d\u001b[0m\u001b[0;34m[\u001b[0m\u001b[0;36m0\u001b[0m\u001b[0;34m,\u001b[0m\u001b[0;36m0\u001b[0m\u001b[0;34m]\u001b[0m \u001b[0;34m=\u001b[0m \u001b[0;34m\"Hola Mundo\"\u001b[0m\u001b[0;34m\u001b[0m\u001b[0;34m\u001b[0m\u001b[0m\n\u001b[0m",
      "\u001b[0;31mValueError\u001b[0m: could not convert string to float: 'Hola Mundo'"
     ]
    }
   ],
   "source": [
    "#Intentando reasignar valor\n",
    "array2d[0,0] = \"Hola Mundo\""
   ]
  },
  {
   "cell_type": "code",
   "execution_count": 255,
   "metadata": {},
   "outputs": [
    {
     "ename": "ValueError",
     "evalue": "setting an array element with a sequence.",
     "output_type": "error",
     "traceback": [
      "\u001b[0;31m---------------------------------------------------------------------------\u001b[0m",
      "\u001b[0;31mTypeError\u001b[0m                                 Traceback (most recent call last)",
      "\u001b[0;31mTypeError\u001b[0m: float() argument must be a string or a number, not 'list'",
      "\nThe above exception was the direct cause of the following exception:\n",
      "\u001b[0;31mValueError\u001b[0m                                Traceback (most recent call last)",
      "\u001b[0;32m<ipython-input-255-f97dca4bd61c>\u001b[0m in \u001b[0;36m<module>\u001b[0;34m\u001b[0m\n\u001b[1;32m      1\u001b[0m \u001b[0;31m#Intentando reasignar valor\u001b[0m\u001b[0;34m\u001b[0m\u001b[0;34m\u001b[0m\u001b[0;34m\u001b[0m\u001b[0m\n\u001b[0;32m----> 2\u001b[0;31m \u001b[0marray2d\u001b[0m\u001b[0;34m[\u001b[0m\u001b[0;36m0\u001b[0m\u001b[0;34m,\u001b[0m\u001b[0;36m0\u001b[0m\u001b[0;34m]\u001b[0m \u001b[0;34m=\u001b[0m \u001b[0;34m[\u001b[0m\u001b[0;36m3\u001b[0m\u001b[0;34m,\u001b[0m \u001b[0;36m5\u001b[0m\u001b[0;34m,\u001b[0m \u001b[0;36m7\u001b[0m\u001b[0;34m]\u001b[0m\u001b[0;34m\u001b[0m\u001b[0;34m\u001b[0m\u001b[0m\n\u001b[0m",
      "\u001b[0;31mValueError\u001b[0m: setting an array element with a sequence."
     ]
    }
   ],
   "source": [
    "#Intentando reasignar valor\n",
    "array2d[0,0] = [3, 5, 7]"
   ]
  },
  {
   "cell_type": "code",
   "execution_count": 256,
   "metadata": {},
   "outputs": [
    {
     "ename": "ValueError",
     "evalue": "setting an array element with a sequence.",
     "output_type": "error",
     "traceback": [
      "\u001b[0;31m---------------------------------------------------------------------------\u001b[0m",
      "\u001b[0;31mTypeError\u001b[0m                                 Traceback (most recent call last)",
      "\u001b[0;31mTypeError\u001b[0m: float() argument must be a string or a number, not 'tuple'",
      "\nThe above exception was the direct cause of the following exception:\n",
      "\u001b[0;31mValueError\u001b[0m                                Traceback (most recent call last)",
      "\u001b[0;32m<ipython-input-256-57bfb3227d2e>\u001b[0m in \u001b[0;36m<module>\u001b[0;34m\u001b[0m\n\u001b[1;32m      1\u001b[0m \u001b[0;31m#Intentando reasignar valor\u001b[0m\u001b[0;34m\u001b[0m\u001b[0;34m\u001b[0m\u001b[0;34m\u001b[0m\u001b[0m\n\u001b[0;32m----> 2\u001b[0;31m \u001b[0marray2d\u001b[0m\u001b[0;34m[\u001b[0m\u001b[0;36m0\u001b[0m\u001b[0;34m,\u001b[0m\u001b[0;36m0\u001b[0m\u001b[0;34m]\u001b[0m \u001b[0;34m=\u001b[0m \u001b[0;34m(\u001b[0m\u001b[0;36m3\u001b[0m\u001b[0;34m,\u001b[0m \u001b[0;36m5\u001b[0m\u001b[0;34m,\u001b[0m \u001b[0;36m7\u001b[0m\u001b[0;34m)\u001b[0m\u001b[0;34m\u001b[0m\u001b[0;34m\u001b[0m\u001b[0m\n\u001b[0m",
      "\u001b[0;31mValueError\u001b[0m: setting an array element with a sequence."
     ]
    }
   ],
   "source": [
    "#Intentando reasignar valor\n",
    "array2d[0,0] = (3, 5, 7)"
   ]
  },
  {
   "cell_type": "markdown",
   "metadata": {},
   "source": [
    "Si lo deseamos, podemos definir explícitamente el tipo de datos de un arreglo cuando lo creamos, usando el argumento `dtype`: "
   ]
  },
  {
   "cell_type": "code",
   "execution_count": 257,
   "metadata": {},
   "outputs": [
    {
     "data": {
      "text/plain": [
       "array([[1.+0.j, 2.+0.j],\n",
       "       [3.+0.j, 4.+0.j]])"
      ]
     },
     "execution_count": 257,
     "metadata": {},
     "output_type": "execute_result"
    }
   ],
   "source": [
    "array2d = np.array([[1, 2], [3, 4]], dtype=complex)\n",
    "array2d"
   ]
  },
  {
   "cell_type": "markdown",
   "metadata": {},
   "source": [
    "Algunos tipos comunes que pueden ser usados con `dtype` son: `int`, `float`, `complex`, `bool`, `object`, etc.\n",
    "\n",
    "Podemos también definir explícitamente el número de bit de los tipos de datos, por ejemplo: `int64`, `int16`, `float64`, `complex64`."
   ]
  },
  {
   "cell_type": "code",
   "execution_count": 258,
   "metadata": {},
   "outputs": [
    {
     "data": {
      "text/plain": [
       "array([[1.+0.j, 2.+0.j],\n",
       "       [3.+0.j, 4.+0.j]], dtype=complex64)"
      ]
     },
     "execution_count": 258,
     "metadata": {},
     "output_type": "execute_result"
    }
   ],
   "source": [
    "array2d = np.array([[1, 2], [3, 4]], dtype=np.complex64)\n",
    "array2d"
   ]
  },
  {
   "cell_type": "code",
   "execution_count": 259,
   "metadata": {},
   "outputs": [
    {
     "data": {
      "text/plain": [
       "array([['a', 'b'],\n",
       "       ['c', 'd']], dtype='<U1')"
      ]
     },
     "execution_count": 259,
     "metadata": {},
     "output_type": "execute_result"
    }
   ],
   "source": [
    "array2d = np.array([['a', 'b'], ['c', 'd']])\n",
    "array2d"
   ]
  },
  {
   "cell_type": "code",
   "execution_count": 260,
   "metadata": {},
   "outputs": [
    {
     "data": {
      "text/plain": [
       "array([['1', 'a b c'],\n",
       "       ['3', '4']], dtype='<U21')"
      ]
     },
     "execution_count": 260,
     "metadata": {},
     "output_type": "execute_result"
    }
   ],
   "source": [
    "array2d = np.array([[1, 'a b c'], [3, 4]])\n",
    "array2d"
   ]
  },
  {
   "cell_type": "code",
   "execution_count": 261,
   "metadata": {},
   "outputs": [
    {
     "name": "stderr",
     "output_type": "stream",
     "text": [
      "<ipython-input-261-96081d16aec7>:1: VisibleDeprecationWarning: Creating an ndarray from ragged nested sequences (which is a list-or-tuple of lists-or-tuples-or ndarrays with different lengths or shapes) is deprecated. If you meant to do this, you must specify 'dtype=object' when creating the ndarray\n",
      "  array2d = np.array([[1, 'a b c'], [3, array1d]])\n"
     ]
    },
    {
     "data": {
      "text/plain": [
       "array([[1, 'a b c'],\n",
       "       [3, array([ 7, 30,  9, 10])]], dtype=object)"
      ]
     },
     "execution_count": 261,
     "metadata": {},
     "output_type": "execute_result"
    }
   ],
   "source": [
    "array2d = np.array([[1, 'a b c'], [3, array1d]])\n",
    "array2d"
   ]
  },
  {
   "cell_type": "code",
   "execution_count": null,
   "metadata": {},
   "outputs": [],
   "source": [
    "array2d = np.array([[1, 'a b c'], [[7,5], 4]])\n",
    "array2d"
   ]
  },
  {
   "cell_type": "markdown",
   "metadata": {},
   "source": [
    "## Corte de índices\n",
    "\n",
    "Corte (slicing) de índices es el nombre para la sintaxis `M[desde:hasta:paso]` para extraer una parte de un arreglo:"
   ]
  },
  {
   "cell_type": "markdown",
   "metadata": {},
   "source": [
    "#### 1D"
   ]
  },
  {
   "cell_type": "code",
   "execution_count": 262,
   "metadata": {},
   "outputs": [
    {
     "data": {
      "text/plain": [
       "array([1, 2, 3, 4, 5])"
      ]
     },
     "execution_count": 262,
     "metadata": {},
     "output_type": "execute_result"
    }
   ],
   "source": [
    "array1d = np.array([1,2,3,4,5])\n",
    "array1d"
   ]
  },
  {
   "cell_type": "code",
   "execution_count": 263,
   "metadata": {},
   "outputs": [
    {
     "data": {
      "text/plain": [
       "array([2, 3])"
      ]
     },
     "execution_count": 263,
     "metadata": {},
     "output_type": "execute_result"
    }
   ],
   "source": [
    "#recordemos\n",
    "inicio = 1\n",
    "final = 3 # end NO es incluido\n",
    "paso = 1 # 1por defecto\n",
    "#paso = 2 \n",
    "array1d[inicio:final:paso]"
   ]
  },
  {
   "cell_type": "markdown",
   "metadata": {},
   "source": [
    "Los cortes de índices son *mutables*: si se les asigna un nuevo valor el arreglo original es modificado:"
   ]
  },
  {
   "cell_type": "code",
   "execution_count": 264,
   "metadata": {},
   "outputs": [
    {
     "data": {
      "text/plain": [
       "array([ 1, -2, -3,  4,  5])"
      ]
     },
     "execution_count": 264,
     "metadata": {},
     "output_type": "execute_result"
    }
   ],
   "source": [
    "array1d[1:3] = [-2,-3]\n",
    "array1d"
   ]
  },
  {
   "cell_type": "markdown",
   "metadata": {},
   "source": [
    "Podemos omitir cualquiera de los tres parámetros en  `M[desde:hasta:paso]`:"
   ]
  },
  {
   "cell_type": "code",
   "execution_count": 265,
   "metadata": {},
   "outputs": [
    {
     "data": {
      "text/plain": [
       "array([ 1, -2, -3,  4,  5])"
      ]
     },
     "execution_count": 265,
     "metadata": {},
     "output_type": "execute_result"
    }
   ],
   "source": [
    "array1d[::] # desde, hasta y paso asumen los valores por defecto"
   ]
  },
  {
   "cell_type": "code",
   "execution_count": 266,
   "metadata": {},
   "outputs": [
    {
     "data": {
      "text/plain": [
       "array([ 1, -3,  5])"
      ]
     },
     "execution_count": 266,
     "metadata": {},
     "output_type": "execute_result"
    }
   ],
   "source": [
    "array1d[::2] # el paso es 2, desde y hasta se asumen desde el comienzo hasta el fin del arreglo"
   ]
  },
  {
   "cell_type": "code",
   "execution_count": 267,
   "metadata": {},
   "outputs": [
    {
     "data": {
      "text/plain": [
       "array([ 1, -2, -3])"
      ]
     },
     "execution_count": 267,
     "metadata": {},
     "output_type": "execute_result"
    }
   ],
   "source": [
    "array1d[:3] # primeros tres elementos"
   ]
  },
  {
   "cell_type": "code",
   "execution_count": 268,
   "metadata": {},
   "outputs": [
    {
     "data": {
      "text/plain": [
       "array([4, 5])"
      ]
     },
     "execution_count": 268,
     "metadata": {},
     "output_type": "execute_result"
    }
   ],
   "source": [
    "array1d[3:] # elementos desde el índice 3"
   ]
  },
  {
   "cell_type": "markdown",
   "metadata": {},
   "source": [
    "Los índices negativos se cuentan desde el fin del arreglo (los índices positivos desde el comienzo):"
   ]
  },
  {
   "cell_type": "code",
   "execution_count": 279,
   "metadata": {},
   "outputs": [],
   "source": [
    "array1d = np.array([1, 2, 3, 4, 5])"
   ]
  },
  {
   "cell_type": "code",
   "execution_count": 280,
   "metadata": {},
   "outputs": [
    {
     "data": {
      "text/plain": [
       "5"
      ]
     },
     "execution_count": 280,
     "metadata": {},
     "output_type": "execute_result"
    }
   ],
   "source": [
    "array1d[-1] # el último elemento del arreglo"
   ]
  },
  {
   "cell_type": "code",
   "execution_count": 281,
   "metadata": {},
   "outputs": [
    {
     "data": {
      "text/plain": [
       "array([3, 4, 5])"
      ]
     },
     "execution_count": 281,
     "metadata": {},
     "output_type": "execute_result"
    }
   ],
   "source": [
    "array1d[-3:] # los últimos 3 elementos"
   ]
  },
  {
   "cell_type": "markdown",
   "metadata": {},
   "source": [
    "#### 2D"
   ]
  },
  {
   "cell_type": "markdown",
   "metadata": {},
   "source": [
    "El corte de índices funciona exactamente del mismo modo para arreglos multidimensionales:"
   ]
  },
  {
   "cell_type": "code",
   "execution_count": 282,
   "metadata": {},
   "outputs": [
    {
     "data": {
      "text/plain": [
       "array([1, 'a b c'], dtype=object)"
      ]
     },
     "execution_count": 282,
     "metadata": {},
     "output_type": "execute_result"
    }
   ],
   "source": [
    "#selecciona fila=0\n",
    "i = 0\n",
    "array2d[i,:]"
   ]
  },
  {
   "cell_type": "code",
   "execution_count": 283,
   "metadata": {},
   "outputs": [
    {
     "data": {
      "text/plain": [
       "array([3, array([ 7, 30,  9, 10])], dtype=object)"
      ]
     },
     "execution_count": 283,
     "metadata": {},
     "output_type": "execute_result"
    }
   ],
   "source": [
    "#selecciona fila=1\n",
    "i = 1\n",
    "array2d[i,:]"
   ]
  },
  {
   "cell_type": "code",
   "execution_count": 284,
   "metadata": {},
   "outputs": [
    {
     "data": {
      "text/plain": [
       "array([1, 3], dtype=object)"
      ]
     },
     "execution_count": 284,
     "metadata": {},
     "output_type": "execute_result"
    }
   ],
   "source": [
    "#selecciona col=0\n",
    "j = 0\n",
    "array2d[:,j]"
   ]
  },
  {
   "cell_type": "code",
   "execution_count": 285,
   "metadata": {},
   "outputs": [
    {
     "data": {
      "text/plain": [
       "array(['a b c', array([ 7, 30,  9, 10])], dtype=object)"
      ]
     },
     "execution_count": 285,
     "metadata": {},
     "output_type": "execute_result"
    }
   ],
   "source": [
    "#selecciona col=1\n",
    "j = 1\n",
    "array2d[:,j]"
   ]
  },
  {
   "cell_type": "code",
   "execution_count": 286,
   "metadata": {},
   "outputs": [
    {
     "ename": "IndexError",
     "evalue": "index 2 is out of bounds for axis 1 with size 2",
     "output_type": "error",
     "traceback": [
      "\u001b[0;31m---------------------------------------------------------------------------\u001b[0m",
      "\u001b[0;31mIndexError\u001b[0m                                Traceback (most recent call last)",
      "\u001b[0;32m<ipython-input-286-2ee10ab5f2d7>\u001b[0m in \u001b[0;36m<module>\u001b[0;34m\u001b[0m\n\u001b[1;32m      1\u001b[0m \u001b[0;31m#selecciona col=2\u001b[0m\u001b[0;34m\u001b[0m\u001b[0;34m\u001b[0m\u001b[0;34m\u001b[0m\u001b[0m\n\u001b[1;32m      2\u001b[0m \u001b[0mj\u001b[0m \u001b[0;34m=\u001b[0m \u001b[0;36m2\u001b[0m\u001b[0;34m\u001b[0m\u001b[0;34m\u001b[0m\u001b[0m\n\u001b[0;32m----> 3\u001b[0;31m \u001b[0marray2d\u001b[0m\u001b[0;34m[\u001b[0m\u001b[0;34m:\u001b[0m\u001b[0;34m,\u001b[0m\u001b[0mj\u001b[0m\u001b[0;34m]\u001b[0m\u001b[0;34m\u001b[0m\u001b[0;34m\u001b[0m\u001b[0m\n\u001b[0m",
      "\u001b[0;31mIndexError\u001b[0m: index 2 is out of bounds for axis 1 with size 2"
     ]
    }
   ],
   "source": [
    "#selecciona col=2\n",
    "j = 2\n",
    "array2d[:,j]"
   ]
  },
  {
   "cell_type": "code",
   "execution_count": 287,
   "metadata": {},
   "outputs": [
    {
     "data": {
      "text/plain": [
       "array([[ 0,  1,  2,  3,  4],\n",
       "       [10, 11, 12, 13, 14],\n",
       "       [20, 21, 22, 23, 24],\n",
       "       [30, 31, 32, 33, 34],\n",
       "       [40, 41, 42, 43, 44]])"
      ]
     },
     "execution_count": 287,
     "metadata": {},
     "output_type": "execute_result"
    }
   ],
   "source": [
    "# Se define matriz con una lista comprimida\n",
    "array2d = np.array([[n+m*10 for n in range(5)] for m in range(5)])\n",
    "array2d"
   ]
  },
  {
   "cell_type": "code",
   "execution_count": 288,
   "metadata": {},
   "outputs": [
    {
     "data": {
      "text/plain": [
       "array([[11, 12, 13],\n",
       "       [21, 22, 23],\n",
       "       [31, 32, 33]])"
      ]
     },
     "execution_count": 288,
     "metadata": {},
     "output_type": "execute_result"
    }
   ],
   "source": [
    "# un bloque parte del arreglo original\n",
    "array2d[1:4, 1:4]"
   ]
  },
  {
   "cell_type": "code",
   "execution_count": 289,
   "metadata": {},
   "outputs": [
    {
     "data": {
      "text/plain": [
       "array([[ 0,  2,  4],\n",
       "       [20, 22, 24],\n",
       "       [40, 42, 44]])"
      ]
     },
     "execution_count": 289,
     "metadata": {},
     "output_type": "execute_result"
    }
   ],
   "source": [
    "# elemento por medio\n",
    "array2d[::2, ::2]"
   ]
  },
  {
   "cell_type": "markdown",
   "metadata": {},
   "source": [
    "#### 3D"
   ]
  },
  {
   "cell_type": "code",
   "execution_count": 290,
   "metadata": {},
   "outputs": [
    {
     "data": {
      "text/plain": [
       "array([[1, 2],\n",
       "       [4, 3],\n",
       "       [7, 4]])"
      ]
     },
     "execution_count": 290,
     "metadata": {},
     "output_type": "execute_result"
    }
   ],
   "source": [
    "#selecciona fila=0\n",
    "i = 0\n",
    "array3d[i,:,:]"
   ]
  },
  {
   "cell_type": "code",
   "execution_count": 291,
   "metadata": {},
   "outputs": [
    {
     "data": {
      "text/plain": [
       "array([[ 1,  2],\n",
       "       [ 2,  3],\n",
       "       [ 1,  2],\n",
       "       [ 9, 10]])"
      ]
     },
     "execution_count": 291,
     "metadata": {},
     "output_type": "execute_result"
    }
   ],
   "source": [
    "#selecciona col=0\n",
    "j = 0\n",
    "array3d[:,j,:]"
   ]
  },
  {
   "cell_type": "code",
   "execution_count": 292,
   "metadata": {},
   "outputs": [
    {
     "data": {
      "text/plain": [
       "array([[1, 4, 7],\n",
       "       [2, 9, 7],\n",
       "       [1, 3, 0],\n",
       "       [9, 6, 9]])"
      ]
     },
     "execution_count": 292,
     "metadata": {},
     "output_type": "execute_result"
    }
   ],
   "source": [
    "#selecciona anch=0\n",
    "k = 0\n",
    "array3d[:,:,k]"
   ]
  },
  {
   "cell_type": "markdown",
   "metadata": {},
   "source": [
    "### Indexado Fancy\n",
    "\n",
    "Se llama indexado fancy cuando una arreglo o una lista es usado en lugar de un índice: "
   ]
  },
  {
   "cell_type": "code",
   "execution_count": 293,
   "metadata": {},
   "outputs": [],
   "source": [
    "array1d = np.array([1, 2, 3, 4, 5])"
   ]
  },
  {
   "cell_type": "code",
   "execution_count": 294,
   "metadata": {},
   "outputs": [
    {
     "data": {
      "text/plain": [
       "(2, 3, 4)"
      ]
     },
     "execution_count": 294,
     "metadata": {},
     "output_type": "execute_result"
    }
   ],
   "source": [
    "array1d[1], array1d[2], array1d[3]"
   ]
  },
  {
   "cell_type": "code",
   "execution_count": 295,
   "metadata": {},
   "outputs": [],
   "source": [
    "indices_fila = [1, 2, 3]"
   ]
  },
  {
   "cell_type": "code",
   "execution_count": 296,
   "metadata": {},
   "outputs": [
    {
     "data": {
      "text/plain": [
       "array([2, 3, 4])"
      ]
     },
     "execution_count": 296,
     "metadata": {},
     "output_type": "execute_result"
    }
   ],
   "source": [
    "array1d[indices_fila]"
   ]
  },
  {
   "cell_type": "code",
   "execution_count": 297,
   "metadata": {},
   "outputs": [
    {
     "data": {
      "text/plain": [
       "array([[10, 11, 12, 13, 14],\n",
       "       [20, 21, 22, 23, 24],\n",
       "       [30, 31, 32, 33, 34]])"
      ]
     },
     "execution_count": 297,
     "metadata": {},
     "output_type": "execute_result"
    }
   ],
   "source": [
    "array2d[indices_fila]"
   ]
  },
  {
   "cell_type": "code",
   "execution_count": 298,
   "metadata": {},
   "outputs": [],
   "source": [
    "indices_col = [1, 2, -1] # recuerde que el índice -1 corresponde al último elemento"
   ]
  },
  {
   "cell_type": "code",
   "execution_count": 299,
   "metadata": {},
   "outputs": [
    {
     "data": {
      "text/plain": [
       "array([2, 3, 5])"
      ]
     },
     "execution_count": 299,
     "metadata": {},
     "output_type": "execute_result"
    }
   ],
   "source": [
    "array1d[indices_col]"
   ]
  },
  {
   "cell_type": "code",
   "execution_count": 300,
   "metadata": {},
   "outputs": [
    {
     "data": {
      "text/plain": [
       "array([[10, 11, 12, 13, 14],\n",
       "       [20, 21, 22, 23, 24],\n",
       "       [40, 41, 42, 43, 44]])"
      ]
     },
     "execution_count": 300,
     "metadata": {},
     "output_type": "execute_result"
    }
   ],
   "source": [
    "array2d[indices_col]"
   ]
  },
  {
   "cell_type": "markdown",
   "metadata": {},
   "source": [
    "Podemos también usar máscaras de índices: Si la máscara de índice es un arreglo `NumPy` con tipo de dato booleano (`bool`), entonces un elemento es seleccionado (True) o no (False) dependiendo del valor de la máscara de índice en la posición de cada elemento: "
   ]
  },
  {
   "cell_type": "code",
   "execution_count": 301,
   "metadata": {},
   "outputs": [
    {
     "data": {
      "text/plain": [
       "array([0, 1, 2, 3, 4])"
      ]
     },
     "execution_count": 301,
     "metadata": {},
     "output_type": "execute_result"
    }
   ],
   "source": [
    "array1d = np.array([n for n in range(5)])\n",
    "array1d"
   ]
  },
  {
   "cell_type": "code",
   "execution_count": 302,
   "metadata": {},
   "outputs": [
    {
     "data": {
      "text/plain": [
       "array([0, 2])"
      ]
     },
     "execution_count": 302,
     "metadata": {},
     "output_type": "execute_result"
    }
   ],
   "source": [
    "masc_filas00 = [0,2]\n",
    "array1d[masc_filas00]"
   ]
  },
  {
   "cell_type": "code",
   "execution_count": 303,
   "metadata": {},
   "outputs": [
    {
     "data": {
      "text/plain": [
       "array([0, 2])"
      ]
     },
     "execution_count": 303,
     "metadata": {},
     "output_type": "execute_result"
    }
   ],
   "source": [
    "# lo mismo\n",
    "masc_fila01 = np.array([True, False, True, False, False])\n",
    "array1d[masc_fila01]"
   ]
  },
  {
   "cell_type": "code",
   "execution_count": 304,
   "metadata": {},
   "outputs": [
    {
     "data": {
      "text/plain": [
       "array([0, 2])"
      ]
     },
     "execution_count": 304,
     "metadata": {},
     "output_type": "execute_result"
    }
   ],
   "source": [
    "# lo mismo\n",
    "masc_fila02 = np.array([1,0,1,0,0], dtype=bool)\n",
    "array1d[masc_fila02]"
   ]
  },
  {
   "cell_type": "markdown",
   "metadata": {},
   "source": [
    "Esta característica es muy útil para seleccionar en forma condicional elementos de un arreglo, usando por ejemplo los operadores de comparación:"
   ]
  },
  {
   "cell_type": "code",
   "execution_count": 305,
   "metadata": {},
   "outputs": [
    {
     "data": {
      "text/plain": [
       "array([0. , 0.5, 1. , 1.5, 2. , 2.5, 3. , 3.5, 4. , 4.5, 5. , 5.5, 6. ,\n",
       "       6.5, 7. , 7.5, 8. , 8.5, 9. , 9.5])"
      ]
     },
     "execution_count": 305,
     "metadata": {},
     "output_type": "execute_result"
    }
   ],
   "source": [
    "array1d = np.arange(0, 10, 0.5)\n",
    "array1d"
   ]
  },
  {
   "cell_type": "code",
   "execution_count": 306,
   "metadata": {},
   "outputs": [
    {
     "data": {
      "text/plain": [
       "array([False, False, False, False, False, False, False, False, False,\n",
       "       False, False,  True,  True,  True,  True, False, False, False,\n",
       "       False, False])"
      ]
     },
     "execution_count": 306,
     "metadata": {},
     "output_type": "execute_result"
    }
   ],
   "source": [
    "#masc = (array1d==1)\n",
    "#masc = (5 < array1d)\n",
    "#masc = (array1d < 1)\n",
    "masc = (5 < array1d) * (array1d < 7.5) #ambas condiciones juntas\n",
    "masc"
   ]
  },
  {
   "cell_type": "code",
   "execution_count": 307,
   "metadata": {},
   "outputs": [
    {
     "data": {
      "text/plain": [
       "array([5.5, 6. , 6.5, 7. ])"
      ]
     },
     "execution_count": 307,
     "metadata": {},
     "output_type": "execute_result"
    }
   ],
   "source": [
    "array1d[masc]"
   ]
  },
  {
   "cell_type": "markdown",
   "metadata": {},
   "source": [
    "## Funciones para extraer información desde arreglos y para crear nuevos arreglos"
   ]
  },
  {
   "cell_type": "markdown",
   "metadata": {},
   "source": [
    "#### np.min y np.max"
   ]
  },
  {
   "cell_type": "code",
   "execution_count": 308,
   "metadata": {},
   "outputs": [
    {
     "data": {
      "text/plain": [
       "(0.0, 0, 0)"
      ]
     },
     "execution_count": 308,
     "metadata": {},
     "output_type": "execute_result"
    }
   ],
   "source": [
    "np.min(array1d), np.min(array2d), np.min(array3d)"
   ]
  },
  {
   "cell_type": "code",
   "execution_count": 310,
   "metadata": {},
   "outputs": [
    {
     "data": {
      "text/plain": [
       "(0.0, 0, 0)"
      ]
     },
     "execution_count": 310,
     "metadata": {},
     "output_type": "execute_result"
    }
   ],
   "source": [
    "#otra forma de hacer lo mismo\n",
    "array1d.min(),array2d.min(),array3d.min()"
   ]
  },
  {
   "cell_type": "code",
   "execution_count": 311,
   "metadata": {},
   "outputs": [
    {
     "data": {
      "text/plain": [
       "(9.5, 44, 10)"
      ]
     },
     "execution_count": 311,
     "metadata": {},
     "output_type": "execute_result"
    }
   ],
   "source": [
    "np.max(array1d), np.max(array2d), np.max(array3d)"
   ]
  },
  {
   "cell_type": "code",
   "execution_count": 312,
   "metadata": {},
   "outputs": [
    {
     "data": {
      "text/plain": [
       "(9.5, 44, 10)"
      ]
     },
     "execution_count": 312,
     "metadata": {},
     "output_type": "execute_result"
    }
   ],
   "source": [
    "#otra forma de hacer lo mismo\n",
    "array1d.max(),array2d.max(),array3d.max()"
   ]
  },
  {
   "cell_type": "markdown",
   "metadata": {},
   "source": [
    "#### mean"
   ]
  },
  {
   "cell_type": "code",
   "execution_count": 313,
   "metadata": {},
   "outputs": [
    {
     "data": {
      "text/plain": [
       "(4.75, 22.0, 4.666666666666667)"
      ]
     },
     "execution_count": 313,
     "metadata": {},
     "output_type": "execute_result"
    }
   ],
   "source": [
    "np.mean(array1d), np.mean(array2d), np.mean(array3d)"
   ]
  },
  {
   "cell_type": "code",
   "execution_count": 314,
   "metadata": {},
   "outputs": [
    {
     "data": {
      "text/plain": [
       "(4.75, 22.0, 4.666666666666667)"
      ]
     },
     "execution_count": 314,
     "metadata": {},
     "output_type": "execute_result"
    }
   ],
   "source": [
    "#otra forma de hacer lo mismo\n",
    "array1d.mean(),array2d.mean(),array3d.mean()"
   ]
  },
  {
   "cell_type": "markdown",
   "metadata": {},
   "source": [
    "#### Desviación estándar y varianza"
   ]
  },
  {
   "cell_type": "code",
   "execution_count": 315,
   "metadata": {},
   "outputs": [
    {
     "data": {
      "text/plain": [
       "(2.883140648667699, 14.212670403551895, 2.9814239699997196)"
      ]
     },
     "execution_count": 315,
     "metadata": {},
     "output_type": "execute_result"
    }
   ],
   "source": [
    "np.std(array1d), np.std(array2d), np.std(array3d)"
   ]
  },
  {
   "cell_type": "code",
   "execution_count": 316,
   "metadata": {},
   "outputs": [
    {
     "data": {
      "text/plain": [
       "(8.3125, 202.0, 8.88888888888889)"
      ]
     },
     "execution_count": 316,
     "metadata": {},
     "output_type": "execute_result"
    }
   ],
   "source": [
    "np.var(array1d), np.var(array2d), np.var(array3d)"
   ]
  },
  {
   "cell_type": "markdown",
   "metadata": {},
   "source": [
    "#### np.where\n",
    "\n",
    "Las máscaras de índices pueden ser convertidas en posiciones de índices usando la función `np.where` (dónde):"
   ]
  },
  {
   "cell_type": "code",
   "execution_count": 318,
   "metadata": {},
   "outputs": [
    {
     "data": {
      "text/plain": [
       "(array([11, 12, 13, 14]),)"
      ]
     },
     "execution_count": 318,
     "metadata": {},
     "output_type": "execute_result"
    }
   ],
   "source": [
    "indices = np.where(masc)\n",
    "indices"
   ]
  },
  {
   "cell_type": "code",
   "execution_count": 319,
   "metadata": {},
   "outputs": [
    {
     "data": {
      "text/plain": [
       "array([5.5, 6. , 6.5, 7. ])"
      ]
     },
     "execution_count": 319,
     "metadata": {},
     "output_type": "execute_result"
    }
   ],
   "source": [
    "array1d[indices] # este indexado es equivalente al indexado fancy x[masc]"
   ]
  },
  {
   "cell_type": "code",
   "execution_count": 320,
   "metadata": {},
   "outputs": [],
   "source": [
    "np.where?"
   ]
  },
  {
   "cell_type": "markdown",
   "metadata": {},
   "source": [
    "#### np.diag\n",
    "\n",
    "Con la función `np.diag` podemos extraer la diagonal y las subdiagonales de un arreglo:"
   ]
  },
  {
   "cell_type": "code",
   "execution_count": 321,
   "metadata": {},
   "outputs": [
    {
     "data": {
      "text/plain": [
       "array([[ 0,  1,  2,  3,  4],\n",
       "       [10, 11, 12, 13, 14],\n",
       "       [20, 21, 22, 23, 24],\n",
       "       [30, 31, 32, 33, 34],\n",
       "       [40, 41, 42, 43, 44]])"
      ]
     },
     "execution_count": 321,
     "metadata": {},
     "output_type": "execute_result"
    }
   ],
   "source": [
    "array2d"
   ]
  },
  {
   "cell_type": "code",
   "execution_count": 322,
   "metadata": {},
   "outputs": [
    {
     "data": {
      "text/plain": [
       "array([ 0, 11, 22, 33, 44])"
      ]
     },
     "execution_count": 322,
     "metadata": {},
     "output_type": "execute_result"
    }
   ],
   "source": [
    "np.diag(array2d)"
   ]
  },
  {
   "cell_type": "code",
   "execution_count": 323,
   "metadata": {},
   "outputs": [
    {
     "data": {
      "text/plain": [
       "array([10, 21, 32, 43])"
      ]
     },
     "execution_count": 323,
     "metadata": {},
     "output_type": "execute_result"
    }
   ],
   "source": [
    "np.diag(array2d, -1)"
   ]
  },
  {
   "cell_type": "markdown",
   "metadata": {},
   "source": [
    "#### np.take\n",
    "\n",
    "La función `np.take` es similar al indexado fancy descrito anteriormente:"
   ]
  },
  {
   "cell_type": "code",
   "execution_count": 324,
   "metadata": {},
   "outputs": [
    {
     "data": {
      "text/plain": [
       "array([-3, -2, -1,  0,  1,  2])"
      ]
     },
     "execution_count": 324,
     "metadata": {},
     "output_type": "execute_result"
    }
   ],
   "source": [
    "array1d = np.arange(-3,3)\n",
    "array1d"
   ]
  },
  {
   "cell_type": "code",
   "execution_count": 325,
   "metadata": {},
   "outputs": [],
   "source": [
    "#np.take?"
   ]
  },
  {
   "cell_type": "code",
   "execution_count": 326,
   "metadata": {},
   "outputs": [
    {
     "data": {
      "text/plain": [
       "array([-2,  0,  2])"
      ]
     },
     "execution_count": 326,
     "metadata": {},
     "output_type": "execute_result"
    }
   ],
   "source": [
    "indices_fila = [1, 3, 5]\n",
    "array1d[indices_fila] # indexado fancy"
   ]
  },
  {
   "cell_type": "code",
   "execution_count": 328,
   "metadata": {},
   "outputs": [
    {
     "data": {
      "text/plain": [
       "array([-2,  0,  2])"
      ]
     },
     "execution_count": 328,
     "metadata": {},
     "output_type": "execute_result"
    }
   ],
   "source": [
    "array1d.take(indices_fila)"
   ]
  },
  {
   "cell_type": "markdown",
   "metadata": {},
   "source": [
    "Pero la función `np.take` también funciona sobre listas y otros objetos:"
   ]
  },
  {
   "cell_type": "code",
   "execution_count": 329,
   "metadata": {},
   "outputs": [
    {
     "data": {
      "text/plain": [
       "array([-2,  0,  2])"
      ]
     },
     "execution_count": 329,
     "metadata": {},
     "output_type": "execute_result"
    }
   ],
   "source": [
    "np.take([-3, -2, -1,  0,  1,  2], indices_fila)"
   ]
  },
  {
   "cell_type": "markdown",
   "metadata": {},
   "source": [
    "También funciona sobre los ejes de un arreglo multidimensional."
   ]
  },
  {
   "cell_type": "code",
   "execution_count": 330,
   "metadata": {},
   "outputs": [
    {
     "data": {
      "text/plain": [
       "array([[ 0,  1,  2,  3,  4],\n",
       "       [10, 11, 12, 13, 14],\n",
       "       [20, 21, 22, 23, 24],\n",
       "       [30, 31, 32, 33, 34],\n",
       "       [40, 41, 42, 43, 44]])"
      ]
     },
     "execution_count": 330,
     "metadata": {},
     "output_type": "execute_result"
    }
   ],
   "source": [
    "array2d"
   ]
  },
  {
   "cell_type": "code",
   "execution_count": 331,
   "metadata": {},
   "outputs": [
    {
     "data": {
      "text/plain": [
       "array([[10, 11, 12, 13, 14],\n",
       "       [30, 31, 32, 33, 34]])"
      ]
     },
     "execution_count": 331,
     "metadata": {},
     "output_type": "execute_result"
    }
   ],
   "source": [
    "np.take(array2d,[1,3],axis=0)"
   ]
  },
  {
   "cell_type": "code",
   "execution_count": 332,
   "metadata": {},
   "outputs": [
    {
     "data": {
      "text/plain": [
       "array([[ 0,  2],\n",
       "       [10, 12],\n",
       "       [20, 22],\n",
       "       [30, 32],\n",
       "       [40, 42]])"
      ]
     },
     "execution_count": 332,
     "metadata": {},
     "output_type": "execute_result"
    }
   ],
   "source": [
    "np.take(array2d,[0,2],axis=1)"
   ]
  },
  {
   "cell_type": "code",
   "execution_count": 333,
   "metadata": {},
   "outputs": [
    {
     "data": {
      "text/plain": [
       "array([ 1,  4, 12, 14])"
      ]
     },
     "execution_count": 333,
     "metadata": {},
     "output_type": "execute_result"
    }
   ],
   "source": [
    "np.take(array2d, [1,4,7,9]) #Es como si hubiera aplanado el arreglo"
   ]
  },
  {
   "cell_type": "code",
   "execution_count": 335,
   "metadata": {},
   "outputs": [
    {
     "data": {
      "text/plain": [
       "array([ 0,  1,  2,  3,  4, 10, 11, 12, 13, 14, 20, 21, 22, 23, 24, 30, 31,\n",
       "       32, 33, 34, 40, 41, 42, 43, 44])"
      ]
     },
     "execution_count": 335,
     "metadata": {},
     "output_type": "execute_result"
    }
   ],
   "source": [
    "array2d_aplanado = array2d.flatten()\n",
    "array2d_aplanado"
   ]
  },
  {
   "cell_type": "code",
   "execution_count": 336,
   "metadata": {},
   "outputs": [
    {
     "data": {
      "text/plain": [
       "array([ 1,  4, 12, 14])"
      ]
     },
     "execution_count": 336,
     "metadata": {},
     "output_type": "execute_result"
    }
   ],
   "source": [
    "array2d_aplanado[[1,4,7,9]]"
   ]
  },
  {
   "cell_type": "markdown",
   "metadata": {},
   "source": [
    "## Más propiedades de los arreglos NumPy"
   ]
  },
  {
   "cell_type": "markdown",
   "metadata": {},
   "source": [
    "#### Usando funciones que generan arreglos\n",
    "\n",
    "En el caso de arreglos más grandes no es práctico inicializar los datos manualmente, usando listas Python explícitas. En su lugar, podemos usar una de las muchas funciones en `numpy` que generan arreglos de diferentes formas. Algunas de los más comunes son:"
   ]
  },
  {
   "cell_type": "markdown",
   "metadata": {},
   "source": [
    "#### np.arange"
   ]
  },
  {
   "cell_type": "code",
   "execution_count": 337,
   "metadata": {},
   "outputs": [
    {
     "data": {
      "text/plain": [
       "array([0, 1, 2, 3, 4, 5, 6, 7, 8, 9])"
      ]
     },
     "execution_count": 337,
     "metadata": {},
     "output_type": "execute_result"
    }
   ],
   "source": [
    "# Se crea un arreglo con valores en un rango\n",
    "x = np.arange(0, 10, 1) # argumentos: desde, hasta (no se incluye!), paso\n",
    "x"
   ]
  },
  {
   "cell_type": "code",
   "execution_count": 338,
   "metadata": {},
   "outputs": [],
   "source": [
    "#np.arange?"
   ]
  },
  {
   "cell_type": "code",
   "execution_count": 339,
   "metadata": {},
   "outputs": [
    {
     "data": {
      "text/plain": [
       "array([-1.00000000e+00, -9.00000000e-01, -8.00000000e-01, -7.00000000e-01,\n",
       "       -6.00000000e-01, -5.00000000e-01, -4.00000000e-01, -3.00000000e-01,\n",
       "       -2.00000000e-01, -1.00000000e-01, -2.22044605e-16,  1.00000000e-01,\n",
       "        2.00000000e-01,  3.00000000e-01,  4.00000000e-01,  5.00000000e-01,\n",
       "        6.00000000e-01,  7.00000000e-01,  8.00000000e-01,  9.00000000e-01])"
      ]
     },
     "execution_count": 339,
     "metadata": {},
     "output_type": "execute_result"
    }
   ],
   "source": [
    "x = np.arange(-1,1,0.1)\n",
    "x"
   ]
  },
  {
   "cell_type": "markdown",
   "metadata": {},
   "source": [
    "#### np.linspace y np.logspace"
   ]
  },
  {
   "cell_type": "code",
   "execution_count": 343,
   "metadata": {},
   "outputs": [
    {
     "data": {
      "text/plain": [
       "array([ 0.,  1.,  2.,  3.,  4.,  5.,  6.,  7.,  8.,  9., 10.])"
      ]
     },
     "execution_count": 343,
     "metadata": {},
     "output_type": "execute_result"
    }
   ],
   "source": [
    "# Usando np.linspace, ambos elementos de los extremos SON incluidos. Formato: (desde, hasta, número de elementos)\n",
    "x = np.linspace(0, 10, 11) \n",
    "x"
   ]
  },
  {
   "cell_type": "code",
   "execution_count": 344,
   "metadata": {},
   "outputs": [
    {
     "data": {
      "text/plain": [
       "array([1.00000000e+00, 2.71828183e+00, 7.38905610e+00, 2.00855369e+01,\n",
       "       5.45981500e+01, 1.48413159e+02, 4.03428793e+02, 1.09663316e+03,\n",
       "       2.98095799e+03, 8.10308393e+03, 2.20264658e+04])"
      ]
     },
     "execution_count": 344,
     "metadata": {},
     "output_type": "execute_result"
    }
   ],
   "source": [
    "# np.logspace también incluye el punto final. Por defecto base=10\n",
    "x = np.logspace(0, 10, 11, base=np.e) \n",
    "#produce np.e elevado a cada valor en np.linspace(0, 10, 11), e.d. np.arra([np.e**0, np.e**1, ..., np.e**10])\n",
    "x"
   ]
  },
  {
   "cell_type": "markdown",
   "metadata": {},
   "source": [
    "#### np.mgrid"
   ]
  },
  {
   "cell_type": "code",
   "execution_count": 345,
   "metadata": {},
   "outputs": [],
   "source": [
    "x, y = np.mgrid[0:5, 0:5] #similar a meshgrid en MATLAB"
   ]
  },
  {
   "cell_type": "code",
   "execution_count": 346,
   "metadata": {},
   "outputs": [
    {
     "data": {
      "text/plain": [
       "array([[0, 0, 0, 0, 0],\n",
       "       [1, 1, 1, 1, 1],\n",
       "       [2, 2, 2, 2, 2],\n",
       "       [3, 3, 3, 3, 3],\n",
       "       [4, 4, 4, 4, 4]])"
      ]
     },
     "execution_count": 346,
     "metadata": {},
     "output_type": "execute_result"
    }
   ],
   "source": [
    "x"
   ]
  },
  {
   "cell_type": "code",
   "execution_count": 347,
   "metadata": {},
   "outputs": [
    {
     "data": {
      "text/plain": [
       "array([[0, 1, 2, 3, 4],\n",
       "       [0, 1, 2, 3, 4],\n",
       "       [0, 1, 2, 3, 4],\n",
       "       [0, 1, 2, 3, 4],\n",
       "       [0, 1, 2, 3, 4]])"
      ]
     },
     "execution_count": 347,
     "metadata": {},
     "output_type": "execute_result"
    }
   ],
   "source": [
    "y"
   ]
  },
  {
   "cell_type": "code",
   "execution_count": null,
   "metadata": {},
   "outputs": [],
   "source": [
    "#np.mgrid?"
   ]
  },
  {
   "cell_type": "markdown",
   "metadata": {},
   "source": [
    "#### Datos aleatorios"
   ]
  },
  {
   "cell_type": "code",
   "execution_count": null,
   "metadata": {},
   "outputs": [],
   "source": [
    "#np.random?"
   ]
  },
  {
   "cell_type": "code",
   "execution_count": null,
   "metadata": {},
   "outputs": [],
   "source": [
    "# números aleatorios con distribución de probabilidad uniforme en [0,1]\n",
    "x = np.random.rand(10)\n",
    "x"
   ]
  },
  {
   "cell_type": "code",
   "execution_count": null,
   "metadata": {},
   "outputs": [],
   "source": [
    "# números aleatorios con distribución normal (gaussiana de media 0 y varianza 1).\n",
    "x = np.random.randn(3,4)\n",
    "x"
   ]
  },
  {
   "cell_type": "code",
   "execution_count": null,
   "metadata": {},
   "outputs": [],
   "source": [
    "# números aleatorios enteros pueden ser obtenido en un rango de 1 10 y cantidad de 15\n",
    "x = np.random.randint(1,10, 15)\n",
    "x"
   ]
  },
  {
   "cell_type": "markdown",
   "metadata": {},
   "source": [
    "#### np.diag"
   ]
  },
  {
   "cell_type": "code",
   "execution_count": null,
   "metadata": {},
   "outputs": [],
   "source": [
    "# una matriz diagonal\n",
    "m = np.diag([1,2,3])\n",
    "m"
   ]
  },
  {
   "cell_type": "code",
   "execution_count": null,
   "metadata": {},
   "outputs": [],
   "source": [
    "#np.diag?"
   ]
  },
  {
   "cell_type": "code",
   "execution_count": null,
   "metadata": {},
   "outputs": [],
   "source": [
    "# diagonal desplazada desde la diagonal principal\n",
    "m = np.diag([1, 2, 3], k=1) \n",
    "m"
   ]
  },
  {
   "cell_type": "code",
   "execution_count": null,
   "metadata": {},
   "outputs": [],
   "source": [
    "# diagonal desplazada desde la diagonal principal\n",
    "m = np.diag([1, 2, 3], k=-1) \n",
    "m"
   ]
  },
  {
   "cell_type": "markdown",
   "metadata": {},
   "source": [
    "#### np.zeros, np.ones y np.empty"
   ]
  },
  {
   "cell_type": "code",
   "execution_count": 348,
   "metadata": {},
   "outputs": [
    {
     "data": {
      "text/plain": [
       "array([[0., 0., 0., 0., 0.],\n",
       "       [0., 0., 0., 0., 0.],\n",
       "       [0., 0., 0., 0., 0.],\n",
       "       [0., 0., 0., 0., 0.]])"
      ]
     },
     "execution_count": 348,
     "metadata": {},
     "output_type": "execute_result"
    }
   ],
   "source": [
    "#Se crea una matriz de forma (4, 5) con todos los elementos nulos \n",
    "m = np.zeros((4, 5))\n",
    "m"
   ]
  },
  {
   "cell_type": "code",
   "execution_count": 349,
   "metadata": {},
   "outputs": [],
   "source": [
    "#np.zeros?"
   ]
  },
  {
   "cell_type": "code",
   "execution_count": 350,
   "metadata": {},
   "outputs": [
    {
     "data": {
      "text/plain": [
       "array([[1., 1., 1.],\n",
       "       [1., 1., 1.],\n",
       "       [1., 1., 1.],\n",
       "       [1., 1., 1.]])"
      ]
     },
     "execution_count": 350,
     "metadata": {},
     "output_type": "execute_result"
    }
   ],
   "source": [
    "#Se crea una matriz de forma (4, 3) con todos los elementos iguales a 1\n",
    "m = np.ones((4, 3))\n",
    "m"
   ]
  },
  {
   "cell_type": "code",
   "execution_count": 351,
   "metadata": {},
   "outputs": [],
   "source": [
    "#np.ones?"
   ]
  },
  {
   "cell_type": "code",
   "execution_count": 352,
   "metadata": {},
   "outputs": [
    {
     "data": {
      "text/plain": [
       "array([[0., 0., 0., 0., 0.],\n",
       "       [0., 0., 0., 0., 0.],\n",
       "       [0., 0., 0., 0., 0.],\n",
       "       [0., 0., 0., 0., 0.]])"
      ]
     },
     "execution_count": 352,
     "metadata": {},
     "output_type": "execute_result"
    }
   ],
   "source": [
    "#Se crea una matriz de forma (4, 5) con todos los elementos vacíos\n",
    "m = np.empty((4, 5))\n",
    "m"
   ]
  },
  {
   "cell_type": "code",
   "execution_count": 353,
   "metadata": {},
   "outputs": [],
   "source": [
    "#np.empty?"
   ]
  },
  {
   "cell_type": "code",
   "execution_count": 354,
   "metadata": {},
   "outputs": [
    {
     "name": "stdout",
     "output_type": "stream",
     "text": [
      "281 ns ± 3.36 ns per loop (mean ± std. dev. of 7 runs, 1000000 loops each)\n"
     ]
    }
   ],
   "source": [
    "%timeit m = np.zeros((4, 5))"
   ]
  },
  {
   "cell_type": "code",
   "execution_count": 355,
   "metadata": {},
   "outputs": [
    {
     "name": "stdout",
     "output_type": "stream",
     "text": [
      "294 ns ± 18.1 ns per loop (mean ± std. dev. of 7 runs, 1000000 loops each)\n"
     ]
    }
   ],
   "source": [
    "%timeit m = np.empty((4, 5))"
   ]
  },
  {
   "cell_type": "code",
   "execution_count": 356,
   "metadata": {},
   "outputs": [
    {
     "name": "stdout",
     "output_type": "stream",
     "text": [
      "1.52 µs ± 77.3 ns per loop (mean ± std. dev. of 7 runs, 1000000 loops each)\n"
     ]
    }
   ],
   "source": [
    "%timeit m = np.ones((4, 5))"
   ]
  },
  {
   "cell_type": "markdown",
   "metadata": {},
   "source": [
    "Ordenar arreglos con la función `np.sort`"
   ]
  },
  {
   "cell_type": "code",
   "execution_count": 357,
   "metadata": {},
   "outputs": [
    {
     "data": {
      "text/plain": [
       "array([1, 2, 3, 4, 5, 6, 7, 8])"
      ]
     },
     "execution_count": 357,
     "metadata": {},
     "output_type": "execute_result"
    }
   ],
   "source": [
    "array1d = np.array([2, 1, 5, 3, 7, 4, 6, 8])\n",
    "np.sort(array1d)"
   ]
  },
  {
   "cell_type": "code",
   "execution_count": 358,
   "metadata": {},
   "outputs": [
    {
     "data": {
      "text/plain": [
       "array([[1, 2],\n",
       "       [3, 2]])"
      ]
     },
     "execution_count": 358,
     "metadata": {},
     "output_type": "execute_result"
    }
   ],
   "source": [
    "array2d = np.array([[1, 2],[3, 2]])\n",
    "array2d"
   ]
  },
  {
   "cell_type": "code",
   "execution_count": 360,
   "metadata": {},
   "outputs": [
    {
     "data": {
      "text/plain": [
       "array([[1, 2],\n",
       "       [2, 3]])"
      ]
     },
     "execution_count": 360,
     "metadata": {},
     "output_type": "execute_result"
    }
   ],
   "source": [
    "np.sort(array2d, axis=1)"
   ]
  },
  {
   "cell_type": "markdown",
   "metadata": {},
   "source": [
    "Alternativas a sort:\n",
    "* `argsort` para ordenar y obtener la lista de los indices ordenados\n",
    "* `lexsort` para ordenar por elementos de un diccionario (keys)\n",
    "* `searchsorted` para buscar en un arreglo ordenado\n",
    "* `partition` para ordenar una parte"
   ]
  },
  {
   "cell_type": "code",
   "execution_count": 361,
   "metadata": {},
   "outputs": [
    {
     "data": {
      "text/plain": [
       "array([1, 0, 3, 5, 2, 6, 4, 7])"
      ]
     },
     "execution_count": 361,
     "metadata": {},
     "output_type": "execute_result"
    }
   ],
   "source": [
    "np.argsort(array1d, 0)"
   ]
  },
  {
   "cell_type": "markdown",
   "metadata": {},
   "source": [
    "juntar con la dos arreglos de mismas dimensiones"
   ]
  },
  {
   "cell_type": "code",
   "execution_count": null,
   "metadata": {},
   "outputs": [],
   "source": [
    "a = np.array([1, 2, 3])\n",
    "b = np.array([4, 5, 6])\n",
    "np.concatenate((a,b))"
   ]
  },
  {
   "cell_type": "code",
   "execution_count": null,
   "metadata": {},
   "outputs": [],
   "source": [
    "x = np.array([[1, 2], [3, 4]])\n",
    "y = np.array([[5, 6]])\n",
    "np.concatenate((x,y), axis=0)"
   ]
  },
  {
   "cell_type": "markdown",
   "metadata": {},
   "source": [
    "Adicionalmente se recomienda revisar `np.hstack` y `np.vstack`"
   ]
  },
  {
   "cell_type": "markdown",
   "metadata": {},
   "source": [
    "flipear(invertir) un arreglo"
   ]
  },
  {
   "cell_type": "code",
   "execution_count": null,
   "metadata": {},
   "outputs": [],
   "source": [
    "np.flip(array1d)"
   ]
  },
  {
   "cell_type": "markdown",
   "metadata": {},
   "source": [
    "## Entrada/Salida desde/hasta archivos\n",
    "\n",
    "\n",
    "### Valores separados por coma (Comma-separated values, CSV)\n",
    "\n",
    "Un formato muy común para archivos de datos es el de valores separados por comas, o formatos relacionados, como por ejemplo TSV (tab-separated values, valores separados por tabs). Para leer datos desde tales archivos a un arreglo `NumPy` podemos usar la función `numpy.genfromtxt`. Por ejemplo, "
   ]
  },
  {
   "cell_type": "code",
   "execution_count": 362,
   "metadata": {},
   "outputs": [
    {
     "name": "stdout",
     "output_type": "stream",
     "text": [
      "1800  1  1    -6.1    -6.1    -6.1 1\r\n",
      "1800  1  2   -15.4   -15.4   -15.4 1\r\n",
      "1800  1  3   -15.0   -15.0   -15.0 1\r\n",
      "1800  1  4   -19.3   -19.3   -19.3 1\r\n",
      "1800  1  5   -16.8   -16.8   -16.8 1\r\n",
      "1800  1  6   -11.4   -11.4   -11.4 1\r\n",
      "1800  1  7    -7.6    -7.6    -7.6 1\r\n",
      "1800  1  8    -7.1    -7.1    -7.1 1\r\n",
      "1800  1  9   -10.1   -10.1   -10.1 1\r\n",
      "1800  1 10    -9.5    -9.5    -9.5 1\r\n"
     ]
    }
   ],
   "source": [
    "!head './datas/stockholm_td_adj.dat' # despliega las primeras líneas del archivo stockholm_td_adj.dat.\n",
    "#Se puede hacer lo mismo con la terminal"
   ]
  },
  {
   "cell_type": "code",
   "execution_count": 363,
   "metadata": {},
   "outputs": [
    {
     "data": {
      "text/plain": [
       "'./datas/stockholm_td_adj.dat'"
      ]
     },
     "execution_count": 363,
     "metadata": {},
     "output_type": "execute_result"
    }
   ],
   "source": [
    "path_data = './datas/stockholm_td_adj.dat'\n",
    "path_data"
   ]
  },
  {
   "cell_type": "markdown",
   "metadata": {},
   "source": [
    "#### np.genfromtxt"
   ]
  },
  {
   "cell_type": "code",
   "execution_count": 364,
   "metadata": {},
   "outputs": [
    {
     "data": {
      "text/plain": [
       "array([[ 1.800e+03,  1.000e+00,  1.000e+00, ..., -6.100e+00, -6.100e+00,\n",
       "         1.000e+00],\n",
       "       [ 1.800e+03,  1.000e+00,  2.000e+00, ..., -1.540e+01, -1.540e+01,\n",
       "         1.000e+00],\n",
       "       [ 1.800e+03,  1.000e+00,  3.000e+00, ..., -1.500e+01, -1.500e+01,\n",
       "         1.000e+00],\n",
       "       ...,\n",
       "       [ 2.011e+03,  1.200e+01,  2.900e+01, ...,  4.200e+00,  4.200e+00,\n",
       "         1.000e+00],\n",
       "       [ 2.011e+03,  1.200e+01,  3.000e+01, ..., -1.000e-01, -1.000e-01,\n",
       "         1.000e+00],\n",
       "       [ 2.011e+03,  1.200e+01,  3.100e+01, ..., -3.300e+00, -3.300e+00,\n",
       "         1.000e+00]])"
      ]
     },
     "execution_count": 364,
     "metadata": {},
     "output_type": "execute_result"
    }
   ],
   "source": [
    "data = np.genfromtxt(path_data)  # asigna los datos del archivo al arreglo data\n",
    "data"
   ]
  },
  {
   "cell_type": "code",
   "execution_count": 365,
   "metadata": {},
   "outputs": [
    {
     "data": {
      "text/plain": [
       "array([1800., 1800., 1800., ..., 2011., 2011., 2011.])"
      ]
     },
     "execution_count": 365,
     "metadata": {},
     "output_type": "execute_result"
    }
   ],
   "source": [
    "data[:,0] #año"
   ]
  },
  {
   "cell_type": "code",
   "execution_count": 366,
   "metadata": {},
   "outputs": [
    {
     "data": {
      "text/plain": [
       "array([ 1.,  1.,  1., ..., 12., 12., 12.])"
      ]
     },
     "execution_count": 366,
     "metadata": {},
     "output_type": "execute_result"
    }
   ],
   "source": [
    "data[:,1] #mes"
   ]
  },
  {
   "cell_type": "code",
   "execution_count": 367,
   "metadata": {},
   "outputs": [
    {
     "data": {
      "text/plain": [
       "array([ 1.,  2.,  3., ..., 29., 30., 31.])"
      ]
     },
     "execution_count": 367,
     "metadata": {},
     "output_type": "execute_result"
    }
   ],
   "source": [
    "data[:,2] #día"
   ]
  },
  {
   "cell_type": "code",
   "execution_count": 368,
   "metadata": {},
   "outputs": [
    {
     "data": {
      "application/javascript": [
       "/* Put everything inside the global mpl namespace */\n",
       "/* global mpl */\n",
       "window.mpl = {};\n",
       "\n",
       "mpl.get_websocket_type = function () {\n",
       "    if (typeof WebSocket !== 'undefined') {\n",
       "        return WebSocket;\n",
       "    } else if (typeof MozWebSocket !== 'undefined') {\n",
       "        return MozWebSocket;\n",
       "    } else {\n",
       "        alert(\n",
       "            'Your browser does not have WebSocket support. ' +\n",
       "                'Please try Chrome, Safari or Firefox ≥ 6. ' +\n",
       "                'Firefox 4 and 5 are also supported but you ' +\n",
       "                'have to enable WebSockets in about:config.'\n",
       "        );\n",
       "    }\n",
       "};\n",
       "\n",
       "mpl.figure = function (figure_id, websocket, ondownload, parent_element) {\n",
       "    this.id = figure_id;\n",
       "\n",
       "    this.ws = websocket;\n",
       "\n",
       "    this.supports_binary = this.ws.binaryType !== undefined;\n",
       "\n",
       "    if (!this.supports_binary) {\n",
       "        var warnings = document.getElementById('mpl-warnings');\n",
       "        if (warnings) {\n",
       "            warnings.style.display = 'block';\n",
       "            warnings.textContent =\n",
       "                'This browser does not support binary websocket messages. ' +\n",
       "                'Performance may be slow.';\n",
       "        }\n",
       "    }\n",
       "\n",
       "    this.imageObj = new Image();\n",
       "\n",
       "    this.context = undefined;\n",
       "    this.message = undefined;\n",
       "    this.canvas = undefined;\n",
       "    this.rubberband_canvas = undefined;\n",
       "    this.rubberband_context = undefined;\n",
       "    this.format_dropdown = undefined;\n",
       "\n",
       "    this.image_mode = 'full';\n",
       "\n",
       "    this.root = document.createElement('div');\n",
       "    this.root.setAttribute('style', 'display: inline-block');\n",
       "    this._root_extra_style(this.root);\n",
       "\n",
       "    parent_element.appendChild(this.root);\n",
       "\n",
       "    this._init_header(this);\n",
       "    this._init_canvas(this);\n",
       "    this._init_toolbar(this);\n",
       "\n",
       "    var fig = this;\n",
       "\n",
       "    this.waiting = false;\n",
       "\n",
       "    this.ws.onopen = function () {\n",
       "        fig.send_message('supports_binary', { value: fig.supports_binary });\n",
       "        fig.send_message('send_image_mode', {});\n",
       "        if (fig.ratio !== 1) {\n",
       "            fig.send_message('set_dpi_ratio', { dpi_ratio: fig.ratio });\n",
       "        }\n",
       "        fig.send_message('refresh', {});\n",
       "    };\n",
       "\n",
       "    this.imageObj.onload = function () {\n",
       "        if (fig.image_mode === 'full') {\n",
       "            // Full images could contain transparency (where diff images\n",
       "            // almost always do), so we need to clear the canvas so that\n",
       "            // there is no ghosting.\n",
       "            fig.context.clearRect(0, 0, fig.canvas.width, fig.canvas.height);\n",
       "        }\n",
       "        fig.context.drawImage(fig.imageObj, 0, 0);\n",
       "    };\n",
       "\n",
       "    this.imageObj.onunload = function () {\n",
       "        fig.ws.close();\n",
       "    };\n",
       "\n",
       "    this.ws.onmessage = this._make_on_message_function(this);\n",
       "\n",
       "    this.ondownload = ondownload;\n",
       "};\n",
       "\n",
       "mpl.figure.prototype._init_header = function () {\n",
       "    var titlebar = document.createElement('div');\n",
       "    titlebar.classList =\n",
       "        'ui-dialog-titlebar ui-widget-header ui-corner-all ui-helper-clearfix';\n",
       "    var titletext = document.createElement('div');\n",
       "    titletext.classList = 'ui-dialog-title';\n",
       "    titletext.setAttribute(\n",
       "        'style',\n",
       "        'width: 100%; text-align: center; padding: 3px;'\n",
       "    );\n",
       "    titlebar.appendChild(titletext);\n",
       "    this.root.appendChild(titlebar);\n",
       "    this.header = titletext;\n",
       "};\n",
       "\n",
       "mpl.figure.prototype._canvas_extra_style = function (_canvas_div) {};\n",
       "\n",
       "mpl.figure.prototype._root_extra_style = function (_canvas_div) {};\n",
       "\n",
       "mpl.figure.prototype._init_canvas = function () {\n",
       "    var fig = this;\n",
       "\n",
       "    var canvas_div = (this.canvas_div = document.createElement('div'));\n",
       "    canvas_div.setAttribute(\n",
       "        'style',\n",
       "        'border: 1px solid #ddd;' +\n",
       "            'box-sizing: content-box;' +\n",
       "            'clear: both;' +\n",
       "            'min-height: 1px;' +\n",
       "            'min-width: 1px;' +\n",
       "            'outline: 0;' +\n",
       "            'overflow: hidden;' +\n",
       "            'position: relative;' +\n",
       "            'resize: both;'\n",
       "    );\n",
       "\n",
       "    function on_keyboard_event_closure(name) {\n",
       "        return function (event) {\n",
       "            return fig.key_event(event, name);\n",
       "        };\n",
       "    }\n",
       "\n",
       "    canvas_div.addEventListener(\n",
       "        'keydown',\n",
       "        on_keyboard_event_closure('key_press')\n",
       "    );\n",
       "    canvas_div.addEventListener(\n",
       "        'keyup',\n",
       "        on_keyboard_event_closure('key_release')\n",
       "    );\n",
       "\n",
       "    this._canvas_extra_style(canvas_div);\n",
       "    this.root.appendChild(canvas_div);\n",
       "\n",
       "    var canvas = (this.canvas = document.createElement('canvas'));\n",
       "    canvas.classList.add('mpl-canvas');\n",
       "    canvas.setAttribute('style', 'box-sizing: content-box;');\n",
       "\n",
       "    this.context = canvas.getContext('2d');\n",
       "\n",
       "    var backingStore =\n",
       "        this.context.backingStorePixelRatio ||\n",
       "        this.context.webkitBackingStorePixelRatio ||\n",
       "        this.context.mozBackingStorePixelRatio ||\n",
       "        this.context.msBackingStorePixelRatio ||\n",
       "        this.context.oBackingStorePixelRatio ||\n",
       "        this.context.backingStorePixelRatio ||\n",
       "        1;\n",
       "\n",
       "    this.ratio = (window.devicePixelRatio || 1) / backingStore;\n",
       "    if (this.ratio !== 1) {\n",
       "        fig.send_message('set_dpi_ratio', { dpi_ratio: this.ratio });\n",
       "    }\n",
       "\n",
       "    var rubberband_canvas = (this.rubberband_canvas = document.createElement(\n",
       "        'canvas'\n",
       "    ));\n",
       "    rubberband_canvas.setAttribute(\n",
       "        'style',\n",
       "        'box-sizing: content-box; position: absolute; left: 0; top: 0; z-index: 1;'\n",
       "    );\n",
       "\n",
       "    var resizeObserver = new ResizeObserver(function (entries) {\n",
       "        var nentries = entries.length;\n",
       "        for (var i = 0; i < nentries; i++) {\n",
       "            var entry = entries[i];\n",
       "            var width, height;\n",
       "            if (entry.contentBoxSize) {\n",
       "                if (entry.contentBoxSize instanceof Array) {\n",
       "                    // Chrome 84 implements new version of spec.\n",
       "                    width = entry.contentBoxSize[0].inlineSize;\n",
       "                    height = entry.contentBoxSize[0].blockSize;\n",
       "                } else {\n",
       "                    // Firefox implements old version of spec.\n",
       "                    width = entry.contentBoxSize.inlineSize;\n",
       "                    height = entry.contentBoxSize.blockSize;\n",
       "                }\n",
       "            } else {\n",
       "                // Chrome <84 implements even older version of spec.\n",
       "                width = entry.contentRect.width;\n",
       "                height = entry.contentRect.height;\n",
       "            }\n",
       "\n",
       "            // Keep the size of the canvas and rubber band canvas in sync with\n",
       "            // the canvas container.\n",
       "            if (entry.devicePixelContentBoxSize) {\n",
       "                // Chrome 84 implements new version of spec.\n",
       "                canvas.setAttribute(\n",
       "                    'width',\n",
       "                    entry.devicePixelContentBoxSize[0].inlineSize\n",
       "                );\n",
       "                canvas.setAttribute(\n",
       "                    'height',\n",
       "                    entry.devicePixelContentBoxSize[0].blockSize\n",
       "                );\n",
       "            } else {\n",
       "                canvas.setAttribute('width', width * fig.ratio);\n",
       "                canvas.setAttribute('height', height * fig.ratio);\n",
       "            }\n",
       "            canvas.setAttribute(\n",
       "                'style',\n",
       "                'width: ' + width + 'px; height: ' + height + 'px;'\n",
       "            );\n",
       "\n",
       "            rubberband_canvas.setAttribute('width', width);\n",
       "            rubberband_canvas.setAttribute('height', height);\n",
       "\n",
       "            // And update the size in Python. We ignore the initial 0/0 size\n",
       "            // that occurs as the element is placed into the DOM, which should\n",
       "            // otherwise not happen due to the minimum size styling.\n",
       "            if (width != 0 && height != 0) {\n",
       "                fig.request_resize(width, height);\n",
       "            }\n",
       "        }\n",
       "    });\n",
       "    resizeObserver.observe(canvas_div);\n",
       "\n",
       "    function on_mouse_event_closure(name) {\n",
       "        return function (event) {\n",
       "            return fig.mouse_event(event, name);\n",
       "        };\n",
       "    }\n",
       "\n",
       "    rubberband_canvas.addEventListener(\n",
       "        'mousedown',\n",
       "        on_mouse_event_closure('button_press')\n",
       "    );\n",
       "    rubberband_canvas.addEventListener(\n",
       "        'mouseup',\n",
       "        on_mouse_event_closure('button_release')\n",
       "    );\n",
       "    // Throttle sequential mouse events to 1 every 20ms.\n",
       "    rubberband_canvas.addEventListener(\n",
       "        'mousemove',\n",
       "        on_mouse_event_closure('motion_notify')\n",
       "    );\n",
       "\n",
       "    rubberband_canvas.addEventListener(\n",
       "        'mouseenter',\n",
       "        on_mouse_event_closure('figure_enter')\n",
       "    );\n",
       "    rubberband_canvas.addEventListener(\n",
       "        'mouseleave',\n",
       "        on_mouse_event_closure('figure_leave')\n",
       "    );\n",
       "\n",
       "    canvas_div.addEventListener('wheel', function (event) {\n",
       "        if (event.deltaY < 0) {\n",
       "            event.step = 1;\n",
       "        } else {\n",
       "            event.step = -1;\n",
       "        }\n",
       "        on_mouse_event_closure('scroll')(event);\n",
       "    });\n",
       "\n",
       "    canvas_div.appendChild(canvas);\n",
       "    canvas_div.appendChild(rubberband_canvas);\n",
       "\n",
       "    this.rubberband_context = rubberband_canvas.getContext('2d');\n",
       "    this.rubberband_context.strokeStyle = '#000000';\n",
       "\n",
       "    this._resize_canvas = function (width, height, forward) {\n",
       "        if (forward) {\n",
       "            canvas_div.style.width = width + 'px';\n",
       "            canvas_div.style.height = height + 'px';\n",
       "        }\n",
       "    };\n",
       "\n",
       "    // Disable right mouse context menu.\n",
       "    this.rubberband_canvas.addEventListener('contextmenu', function (_e) {\n",
       "        event.preventDefault();\n",
       "        return false;\n",
       "    });\n",
       "\n",
       "    function set_focus() {\n",
       "        canvas.focus();\n",
       "        canvas_div.focus();\n",
       "    }\n",
       "\n",
       "    window.setTimeout(set_focus, 100);\n",
       "};\n",
       "\n",
       "mpl.figure.prototype._init_toolbar = function () {\n",
       "    var fig = this;\n",
       "\n",
       "    var toolbar = document.createElement('div');\n",
       "    toolbar.classList = 'mpl-toolbar';\n",
       "    this.root.appendChild(toolbar);\n",
       "\n",
       "    function on_click_closure(name) {\n",
       "        return function (_event) {\n",
       "            return fig.toolbar_button_onclick(name);\n",
       "        };\n",
       "    }\n",
       "\n",
       "    function on_mouseover_closure(tooltip) {\n",
       "        return function (event) {\n",
       "            if (!event.currentTarget.disabled) {\n",
       "                return fig.toolbar_button_onmouseover(tooltip);\n",
       "            }\n",
       "        };\n",
       "    }\n",
       "\n",
       "    fig.buttons = {};\n",
       "    var buttonGroup = document.createElement('div');\n",
       "    buttonGroup.classList = 'mpl-button-group';\n",
       "    for (var toolbar_ind in mpl.toolbar_items) {\n",
       "        var name = mpl.toolbar_items[toolbar_ind][0];\n",
       "        var tooltip = mpl.toolbar_items[toolbar_ind][1];\n",
       "        var image = mpl.toolbar_items[toolbar_ind][2];\n",
       "        var method_name = mpl.toolbar_items[toolbar_ind][3];\n",
       "\n",
       "        if (!name) {\n",
       "            /* Instead of a spacer, we start a new button group. */\n",
       "            if (buttonGroup.hasChildNodes()) {\n",
       "                toolbar.appendChild(buttonGroup);\n",
       "            }\n",
       "            buttonGroup = document.createElement('div');\n",
       "            buttonGroup.classList = 'mpl-button-group';\n",
       "            continue;\n",
       "        }\n",
       "\n",
       "        var button = (fig.buttons[name] = document.createElement('button'));\n",
       "        button.classList = 'mpl-widget';\n",
       "        button.setAttribute('role', 'button');\n",
       "        button.setAttribute('aria-disabled', 'false');\n",
       "        button.addEventListener('click', on_click_closure(method_name));\n",
       "        button.addEventListener('mouseover', on_mouseover_closure(tooltip));\n",
       "\n",
       "        var icon_img = document.createElement('img');\n",
       "        icon_img.src = '_images/' + image + '.png';\n",
       "        icon_img.srcset = '_images/' + image + '_large.png 2x';\n",
       "        icon_img.alt = tooltip;\n",
       "        button.appendChild(icon_img);\n",
       "\n",
       "        buttonGroup.appendChild(button);\n",
       "    }\n",
       "\n",
       "    if (buttonGroup.hasChildNodes()) {\n",
       "        toolbar.appendChild(buttonGroup);\n",
       "    }\n",
       "\n",
       "    var fmt_picker = document.createElement('select');\n",
       "    fmt_picker.classList = 'mpl-widget';\n",
       "    toolbar.appendChild(fmt_picker);\n",
       "    this.format_dropdown = fmt_picker;\n",
       "\n",
       "    for (var ind in mpl.extensions) {\n",
       "        var fmt = mpl.extensions[ind];\n",
       "        var option = document.createElement('option');\n",
       "        option.selected = fmt === mpl.default_extension;\n",
       "        option.innerHTML = fmt;\n",
       "        fmt_picker.appendChild(option);\n",
       "    }\n",
       "\n",
       "    var status_bar = document.createElement('span');\n",
       "    status_bar.classList = 'mpl-message';\n",
       "    toolbar.appendChild(status_bar);\n",
       "    this.message = status_bar;\n",
       "};\n",
       "\n",
       "mpl.figure.prototype.request_resize = function (x_pixels, y_pixels) {\n",
       "    // Request matplotlib to resize the figure. Matplotlib will then trigger a resize in the client,\n",
       "    // which will in turn request a refresh of the image.\n",
       "    this.send_message('resize', { width: x_pixels, height: y_pixels });\n",
       "};\n",
       "\n",
       "mpl.figure.prototype.send_message = function (type, properties) {\n",
       "    properties['type'] = type;\n",
       "    properties['figure_id'] = this.id;\n",
       "    this.ws.send(JSON.stringify(properties));\n",
       "};\n",
       "\n",
       "mpl.figure.prototype.send_draw_message = function () {\n",
       "    if (!this.waiting) {\n",
       "        this.waiting = true;\n",
       "        this.ws.send(JSON.stringify({ type: 'draw', figure_id: this.id }));\n",
       "    }\n",
       "};\n",
       "\n",
       "mpl.figure.prototype.handle_save = function (fig, _msg) {\n",
       "    var format_dropdown = fig.format_dropdown;\n",
       "    var format = format_dropdown.options[format_dropdown.selectedIndex].value;\n",
       "    fig.ondownload(fig, format);\n",
       "};\n",
       "\n",
       "mpl.figure.prototype.handle_resize = function (fig, msg) {\n",
       "    var size = msg['size'];\n",
       "    if (size[0] !== fig.canvas.width || size[1] !== fig.canvas.height) {\n",
       "        fig._resize_canvas(size[0], size[1], msg['forward']);\n",
       "        fig.send_message('refresh', {});\n",
       "    }\n",
       "};\n",
       "\n",
       "mpl.figure.prototype.handle_rubberband = function (fig, msg) {\n",
       "    var x0 = msg['x0'] / fig.ratio;\n",
       "    var y0 = (fig.canvas.height - msg['y0']) / fig.ratio;\n",
       "    var x1 = msg['x1'] / fig.ratio;\n",
       "    var y1 = (fig.canvas.height - msg['y1']) / fig.ratio;\n",
       "    x0 = Math.floor(x0) + 0.5;\n",
       "    y0 = Math.floor(y0) + 0.5;\n",
       "    x1 = Math.floor(x1) + 0.5;\n",
       "    y1 = Math.floor(y1) + 0.5;\n",
       "    var min_x = Math.min(x0, x1);\n",
       "    var min_y = Math.min(y0, y1);\n",
       "    var width = Math.abs(x1 - x0);\n",
       "    var height = Math.abs(y1 - y0);\n",
       "\n",
       "    fig.rubberband_context.clearRect(\n",
       "        0,\n",
       "        0,\n",
       "        fig.canvas.width / fig.ratio,\n",
       "        fig.canvas.height / fig.ratio\n",
       "    );\n",
       "\n",
       "    fig.rubberband_context.strokeRect(min_x, min_y, width, height);\n",
       "};\n",
       "\n",
       "mpl.figure.prototype.handle_figure_label = function (fig, msg) {\n",
       "    // Updates the figure title.\n",
       "    fig.header.textContent = msg['label'];\n",
       "};\n",
       "\n",
       "mpl.figure.prototype.handle_cursor = function (fig, msg) {\n",
       "    var cursor = msg['cursor'];\n",
       "    switch (cursor) {\n",
       "        case 0:\n",
       "            cursor = 'pointer';\n",
       "            break;\n",
       "        case 1:\n",
       "            cursor = 'default';\n",
       "            break;\n",
       "        case 2:\n",
       "            cursor = 'crosshair';\n",
       "            break;\n",
       "        case 3:\n",
       "            cursor = 'move';\n",
       "            break;\n",
       "    }\n",
       "    fig.rubberband_canvas.style.cursor = cursor;\n",
       "};\n",
       "\n",
       "mpl.figure.prototype.handle_message = function (fig, msg) {\n",
       "    fig.message.textContent = msg['message'];\n",
       "};\n",
       "\n",
       "mpl.figure.prototype.handle_draw = function (fig, _msg) {\n",
       "    // Request the server to send over a new figure.\n",
       "    fig.send_draw_message();\n",
       "};\n",
       "\n",
       "mpl.figure.prototype.handle_image_mode = function (fig, msg) {\n",
       "    fig.image_mode = msg['mode'];\n",
       "};\n",
       "\n",
       "mpl.figure.prototype.handle_history_buttons = function (fig, msg) {\n",
       "    for (var key in msg) {\n",
       "        if (!(key in fig.buttons)) {\n",
       "            continue;\n",
       "        }\n",
       "        fig.buttons[key].disabled = !msg[key];\n",
       "        fig.buttons[key].setAttribute('aria-disabled', !msg[key]);\n",
       "    }\n",
       "};\n",
       "\n",
       "mpl.figure.prototype.handle_navigate_mode = function (fig, msg) {\n",
       "    if (msg['mode'] === 'PAN') {\n",
       "        fig.buttons['Pan'].classList.add('active');\n",
       "        fig.buttons['Zoom'].classList.remove('active');\n",
       "    } else if (msg['mode'] === 'ZOOM') {\n",
       "        fig.buttons['Pan'].classList.remove('active');\n",
       "        fig.buttons['Zoom'].classList.add('active');\n",
       "    } else {\n",
       "        fig.buttons['Pan'].classList.remove('active');\n",
       "        fig.buttons['Zoom'].classList.remove('active');\n",
       "    }\n",
       "};\n",
       "\n",
       "mpl.figure.prototype.updated_canvas_event = function () {\n",
       "    // Called whenever the canvas gets updated.\n",
       "    this.send_message('ack', {});\n",
       "};\n",
       "\n",
       "// A function to construct a web socket function for onmessage handling.\n",
       "// Called in the figure constructor.\n",
       "mpl.figure.prototype._make_on_message_function = function (fig) {\n",
       "    return function socket_on_message(evt) {\n",
       "        if (evt.data instanceof Blob) {\n",
       "            /* FIXME: We get \"Resource interpreted as Image but\n",
       "             * transferred with MIME type text/plain:\" errors on\n",
       "             * Chrome.  But how to set the MIME type?  It doesn't seem\n",
       "             * to be part of the websocket stream */\n",
       "            evt.data.type = 'image/png';\n",
       "\n",
       "            /* Free the memory for the previous frames */\n",
       "            if (fig.imageObj.src) {\n",
       "                (window.URL || window.webkitURL).revokeObjectURL(\n",
       "                    fig.imageObj.src\n",
       "                );\n",
       "            }\n",
       "\n",
       "            fig.imageObj.src = (window.URL || window.webkitURL).createObjectURL(\n",
       "                evt.data\n",
       "            );\n",
       "            fig.updated_canvas_event();\n",
       "            fig.waiting = false;\n",
       "            return;\n",
       "        } else if (\n",
       "            typeof evt.data === 'string' &&\n",
       "            evt.data.slice(0, 21) === 'data:image/png;base64'\n",
       "        ) {\n",
       "            fig.imageObj.src = evt.data;\n",
       "            fig.updated_canvas_event();\n",
       "            fig.waiting = false;\n",
       "            return;\n",
       "        }\n",
       "\n",
       "        var msg = JSON.parse(evt.data);\n",
       "        var msg_type = msg['type'];\n",
       "\n",
       "        // Call the  \"handle_{type}\" callback, which takes\n",
       "        // the figure and JSON message as its only arguments.\n",
       "        try {\n",
       "            var callback = fig['handle_' + msg_type];\n",
       "        } catch (e) {\n",
       "            console.log(\n",
       "                \"No handler for the '\" + msg_type + \"' message type: \",\n",
       "                msg\n",
       "            );\n",
       "            return;\n",
       "        }\n",
       "\n",
       "        if (callback) {\n",
       "            try {\n",
       "                // console.log(\"Handling '\" + msg_type + \"' message: \", msg);\n",
       "                callback(fig, msg);\n",
       "            } catch (e) {\n",
       "                console.log(\n",
       "                    \"Exception inside the 'handler_\" + msg_type + \"' callback:\",\n",
       "                    e,\n",
       "                    e.stack,\n",
       "                    msg\n",
       "                );\n",
       "            }\n",
       "        }\n",
       "    };\n",
       "};\n",
       "\n",
       "// from http://stackoverflow.com/questions/1114465/getting-mouse-location-in-canvas\n",
       "mpl.findpos = function (e) {\n",
       "    //this section is from http://www.quirksmode.org/js/events_properties.html\n",
       "    var targ;\n",
       "    if (!e) {\n",
       "        e = window.event;\n",
       "    }\n",
       "    if (e.target) {\n",
       "        targ = e.target;\n",
       "    } else if (e.srcElement) {\n",
       "        targ = e.srcElement;\n",
       "    }\n",
       "    if (targ.nodeType === 3) {\n",
       "        // defeat Safari bug\n",
       "        targ = targ.parentNode;\n",
       "    }\n",
       "\n",
       "    // pageX,Y are the mouse positions relative to the document\n",
       "    var boundingRect = targ.getBoundingClientRect();\n",
       "    var x = e.pageX - (boundingRect.left + document.body.scrollLeft);\n",
       "    var y = e.pageY - (boundingRect.top + document.body.scrollTop);\n",
       "\n",
       "    return { x: x, y: y };\n",
       "};\n",
       "\n",
       "/*\n",
       " * return a copy of an object with only non-object keys\n",
       " * we need this to avoid circular references\n",
       " * http://stackoverflow.com/a/24161582/3208463\n",
       " */\n",
       "function simpleKeys(original) {\n",
       "    return Object.keys(original).reduce(function (obj, key) {\n",
       "        if (typeof original[key] !== 'object') {\n",
       "            obj[key] = original[key];\n",
       "        }\n",
       "        return obj;\n",
       "    }, {});\n",
       "}\n",
       "\n",
       "mpl.figure.prototype.mouse_event = function (event, name) {\n",
       "    var canvas_pos = mpl.findpos(event);\n",
       "\n",
       "    if (name === 'button_press') {\n",
       "        this.canvas.focus();\n",
       "        this.canvas_div.focus();\n",
       "    }\n",
       "\n",
       "    var x = canvas_pos.x * this.ratio;\n",
       "    var y = canvas_pos.y * this.ratio;\n",
       "\n",
       "    this.send_message(name, {\n",
       "        x: x,\n",
       "        y: y,\n",
       "        button: event.button,\n",
       "        step: event.step,\n",
       "        guiEvent: simpleKeys(event),\n",
       "    });\n",
       "\n",
       "    /* This prevents the web browser from automatically changing to\n",
       "     * the text insertion cursor when the button is pressed.  We want\n",
       "     * to control all of the cursor setting manually through the\n",
       "     * 'cursor' event from matplotlib */\n",
       "    event.preventDefault();\n",
       "    return false;\n",
       "};\n",
       "\n",
       "mpl.figure.prototype._key_event_extra = function (_event, _name) {\n",
       "    // Handle any extra behaviour associated with a key event\n",
       "};\n",
       "\n",
       "mpl.figure.prototype.key_event = function (event, name) {\n",
       "    // Prevent repeat events\n",
       "    if (name === 'key_press') {\n",
       "        if (event.which === this._key) {\n",
       "            return;\n",
       "        } else {\n",
       "            this._key = event.which;\n",
       "        }\n",
       "    }\n",
       "    if (name === 'key_release') {\n",
       "        this._key = null;\n",
       "    }\n",
       "\n",
       "    var value = '';\n",
       "    if (event.ctrlKey && event.which !== 17) {\n",
       "        value += 'ctrl+';\n",
       "    }\n",
       "    if (event.altKey && event.which !== 18) {\n",
       "        value += 'alt+';\n",
       "    }\n",
       "    if (event.shiftKey && event.which !== 16) {\n",
       "        value += 'shift+';\n",
       "    }\n",
       "\n",
       "    value += 'k';\n",
       "    value += event.which.toString();\n",
       "\n",
       "    this._key_event_extra(event, name);\n",
       "\n",
       "    this.send_message(name, { key: value, guiEvent: simpleKeys(event) });\n",
       "    return false;\n",
       "};\n",
       "\n",
       "mpl.figure.prototype.toolbar_button_onclick = function (name) {\n",
       "    if (name === 'download') {\n",
       "        this.handle_save(this, null);\n",
       "    } else {\n",
       "        this.send_message('toolbar_button', { name: name });\n",
       "    }\n",
       "};\n",
       "\n",
       "mpl.figure.prototype.toolbar_button_onmouseover = function (tooltip) {\n",
       "    this.message.textContent = tooltip;\n",
       "};\n",
       "mpl.toolbar_items = [[\"Home\", \"Reset original view\", \"fa fa-home icon-home\", \"home\"], [\"Back\", \"Back to previous view\", \"fa fa-arrow-left icon-arrow-left\", \"back\"], [\"Forward\", \"Forward to next view\", \"fa fa-arrow-right icon-arrow-right\", \"forward\"], [\"\", \"\", \"\", \"\"], [\"Pan\", \"Left button pans, Right button zooms\\nx/y fixes axis, CTRL fixes aspect\", \"fa fa-arrows icon-move\", \"pan\"], [\"Zoom\", \"Zoom to rectangle\\nx/y fixes axis, CTRL fixes aspect\", \"fa fa-square-o icon-check-empty\", \"zoom\"], [\"\", \"\", \"\", \"\"], [\"Download\", \"Download plot\", \"fa fa-floppy-o icon-save\", \"download\"]];\n",
       "\n",
       "mpl.extensions = [\"eps\", \"jpeg\", \"pdf\", \"png\", \"ps\", \"raw\", \"svg\", \"tif\"];\n",
       "\n",
       "mpl.default_extension = \"png\";/* global mpl */\n",
       "\n",
       "var comm_websocket_adapter = function (comm) {\n",
       "    // Create a \"websocket\"-like object which calls the given IPython comm\n",
       "    // object with the appropriate methods. Currently this is a non binary\n",
       "    // socket, so there is still some room for performance tuning.\n",
       "    var ws = {};\n",
       "\n",
       "    ws.close = function () {\n",
       "        comm.close();\n",
       "    };\n",
       "    ws.send = function (m) {\n",
       "        //console.log('sending', m);\n",
       "        comm.send(m);\n",
       "    };\n",
       "    // Register the callback with on_msg.\n",
       "    comm.on_msg(function (msg) {\n",
       "        //console.log('receiving', msg['content']['data'], msg);\n",
       "        // Pass the mpl event to the overridden (by mpl) onmessage function.\n",
       "        ws.onmessage(msg['content']['data']);\n",
       "    });\n",
       "    return ws;\n",
       "};\n",
       "\n",
       "mpl.mpl_figure_comm = function (comm, msg) {\n",
       "    // This is the function which gets called when the mpl process\n",
       "    // starts-up an IPython Comm through the \"matplotlib\" channel.\n",
       "\n",
       "    var id = msg.content.data.id;\n",
       "    // Get hold of the div created by the display call when the Comm\n",
       "    // socket was opened in Python.\n",
       "    var element = document.getElementById(id);\n",
       "    var ws_proxy = comm_websocket_adapter(comm);\n",
       "\n",
       "    function ondownload(figure, _format) {\n",
       "        window.open(figure.canvas.toDataURL());\n",
       "    }\n",
       "\n",
       "    var fig = new mpl.figure(id, ws_proxy, ondownload, element);\n",
       "\n",
       "    // Call onopen now - mpl needs it, as it is assuming we've passed it a real\n",
       "    // web socket which is closed, not our websocket->open comm proxy.\n",
       "    ws_proxy.onopen();\n",
       "\n",
       "    fig.parent_element = element;\n",
       "    fig.cell_info = mpl.find_output_cell(\"<div id='\" + id + \"'></div>\");\n",
       "    if (!fig.cell_info) {\n",
       "        console.error('Failed to find cell for figure', id, fig);\n",
       "        return;\n",
       "    }\n",
       "    fig.cell_info[0].output_area.element.one(\n",
       "        'cleared',\n",
       "        { fig: fig },\n",
       "        fig._remove_fig_handler\n",
       "    );\n",
       "};\n",
       "\n",
       "mpl.figure.prototype.handle_close = function (fig, msg) {\n",
       "    var width = fig.canvas.width / fig.ratio;\n",
       "    fig.cell_info[0].output_area.element.off(\n",
       "        'cleared',\n",
       "        fig._remove_fig_handler\n",
       "    );\n",
       "\n",
       "    // Update the output cell to use the data from the current canvas.\n",
       "    fig.push_to_output();\n",
       "    var dataURL = fig.canvas.toDataURL();\n",
       "    // Re-enable the keyboard manager in IPython - without this line, in FF,\n",
       "    // the notebook keyboard shortcuts fail.\n",
       "    IPython.keyboard_manager.enable();\n",
       "    fig.parent_element.innerHTML =\n",
       "        '<img src=\"' + dataURL + '\" width=\"' + width + '\">';\n",
       "    fig.close_ws(fig, msg);\n",
       "};\n",
       "\n",
       "mpl.figure.prototype.close_ws = function (fig, msg) {\n",
       "    fig.send_message('closing', msg);\n",
       "    // fig.ws.close()\n",
       "};\n",
       "\n",
       "mpl.figure.prototype.push_to_output = function (_remove_interactive) {\n",
       "    // Turn the data on the canvas into data in the output cell.\n",
       "    var width = this.canvas.width / this.ratio;\n",
       "    var dataURL = this.canvas.toDataURL();\n",
       "    this.cell_info[1]['text/html'] =\n",
       "        '<img src=\"' + dataURL + '\" width=\"' + width + '\">';\n",
       "};\n",
       "\n",
       "mpl.figure.prototype.updated_canvas_event = function () {\n",
       "    // Tell IPython that the notebook contents must change.\n",
       "    IPython.notebook.set_dirty(true);\n",
       "    this.send_message('ack', {});\n",
       "    var fig = this;\n",
       "    // Wait a second, then push the new image to the DOM so\n",
       "    // that it is saved nicely (might be nice to debounce this).\n",
       "    setTimeout(function () {\n",
       "        fig.push_to_output();\n",
       "    }, 1000);\n",
       "};\n",
       "\n",
       "mpl.figure.prototype._init_toolbar = function () {\n",
       "    var fig = this;\n",
       "\n",
       "    var toolbar = document.createElement('div');\n",
       "    toolbar.classList = 'btn-toolbar';\n",
       "    this.root.appendChild(toolbar);\n",
       "\n",
       "    function on_click_closure(name) {\n",
       "        return function (_event) {\n",
       "            return fig.toolbar_button_onclick(name);\n",
       "        };\n",
       "    }\n",
       "\n",
       "    function on_mouseover_closure(tooltip) {\n",
       "        return function (event) {\n",
       "            if (!event.currentTarget.disabled) {\n",
       "                return fig.toolbar_button_onmouseover(tooltip);\n",
       "            }\n",
       "        };\n",
       "    }\n",
       "\n",
       "    fig.buttons = {};\n",
       "    var buttonGroup = document.createElement('div');\n",
       "    buttonGroup.classList = 'btn-group';\n",
       "    var button;\n",
       "    for (var toolbar_ind in mpl.toolbar_items) {\n",
       "        var name = mpl.toolbar_items[toolbar_ind][0];\n",
       "        var tooltip = mpl.toolbar_items[toolbar_ind][1];\n",
       "        var image = mpl.toolbar_items[toolbar_ind][2];\n",
       "        var method_name = mpl.toolbar_items[toolbar_ind][3];\n",
       "\n",
       "        if (!name) {\n",
       "            /* Instead of a spacer, we start a new button group. */\n",
       "            if (buttonGroup.hasChildNodes()) {\n",
       "                toolbar.appendChild(buttonGroup);\n",
       "            }\n",
       "            buttonGroup = document.createElement('div');\n",
       "            buttonGroup.classList = 'btn-group';\n",
       "            continue;\n",
       "        }\n",
       "\n",
       "        button = fig.buttons[name] = document.createElement('button');\n",
       "        button.classList = 'btn btn-default';\n",
       "        button.href = '#';\n",
       "        button.title = name;\n",
       "        button.innerHTML = '<i class=\"fa ' + image + ' fa-lg\"></i>';\n",
       "        button.addEventListener('click', on_click_closure(method_name));\n",
       "        button.addEventListener('mouseover', on_mouseover_closure(tooltip));\n",
       "        buttonGroup.appendChild(button);\n",
       "    }\n",
       "\n",
       "    if (buttonGroup.hasChildNodes()) {\n",
       "        toolbar.appendChild(buttonGroup);\n",
       "    }\n",
       "\n",
       "    // Add the status bar.\n",
       "    var status_bar = document.createElement('span');\n",
       "    status_bar.classList = 'mpl-message pull-right';\n",
       "    toolbar.appendChild(status_bar);\n",
       "    this.message = status_bar;\n",
       "\n",
       "    // Add the close button to the window.\n",
       "    var buttongrp = document.createElement('div');\n",
       "    buttongrp.classList = 'btn-group inline pull-right';\n",
       "    button = document.createElement('button');\n",
       "    button.classList = 'btn btn-mini btn-primary';\n",
       "    button.href = '#';\n",
       "    button.title = 'Stop Interaction';\n",
       "    button.innerHTML = '<i class=\"fa fa-power-off icon-remove icon-large\"></i>';\n",
       "    button.addEventListener('click', function (_evt) {\n",
       "        fig.handle_close(fig, {});\n",
       "    });\n",
       "    button.addEventListener(\n",
       "        'mouseover',\n",
       "        on_mouseover_closure('Stop Interaction')\n",
       "    );\n",
       "    buttongrp.appendChild(button);\n",
       "    var titlebar = this.root.querySelector('.ui-dialog-titlebar');\n",
       "    titlebar.insertBefore(buttongrp, titlebar.firstChild);\n",
       "};\n",
       "\n",
       "mpl.figure.prototype._remove_fig_handler = function (event) {\n",
       "    var fig = event.data.fig;\n",
       "    fig.close_ws(fig, {});\n",
       "};\n",
       "\n",
       "mpl.figure.prototype._root_extra_style = function (el) {\n",
       "    el.style.boxSizing = 'content-box'; // override notebook setting of border-box.\n",
       "};\n",
       "\n",
       "mpl.figure.prototype._canvas_extra_style = function (el) {\n",
       "    // this is important to make the div 'focusable\n",
       "    el.setAttribute('tabindex', 0);\n",
       "    // reach out to IPython and tell the keyboard manager to turn it's self\n",
       "    // off when our div gets focus\n",
       "\n",
       "    // location in version 3\n",
       "    if (IPython.notebook.keyboard_manager) {\n",
       "        IPython.notebook.keyboard_manager.register_events(el);\n",
       "    } else {\n",
       "        // location in version 2\n",
       "        IPython.keyboard_manager.register_events(el);\n",
       "    }\n",
       "};\n",
       "\n",
       "mpl.figure.prototype._key_event_extra = function (event, _name) {\n",
       "    var manager = IPython.notebook.keyboard_manager;\n",
       "    if (!manager) {\n",
       "        manager = IPython.keyboard_manager;\n",
       "    }\n",
       "\n",
       "    // Check for shift+enter\n",
       "    if (event.shiftKey && event.which === 13) {\n",
       "        this.canvas_div.blur();\n",
       "        // select the cell after this one\n",
       "        var index = IPython.notebook.find_cell_index(this.cell_info[0]);\n",
       "        IPython.notebook.select(index + 1);\n",
       "    }\n",
       "};\n",
       "\n",
       "mpl.figure.prototype.handle_save = function (fig, _msg) {\n",
       "    fig.ondownload(fig, null);\n",
       "};\n",
       "\n",
       "mpl.find_output_cell = function (html_output) {\n",
       "    // Return the cell and output element which can be found *uniquely* in the notebook.\n",
       "    // Note - this is a bit hacky, but it is done because the \"notebook_saving.Notebook\"\n",
       "    // IPython event is triggered only after the cells have been serialised, which for\n",
       "    // our purposes (turning an active figure into a static one), is too late.\n",
       "    var cells = IPython.notebook.get_cells();\n",
       "    var ncells = cells.length;\n",
       "    for (var i = 0; i < ncells; i++) {\n",
       "        var cell = cells[i];\n",
       "        if (cell.cell_type === 'code') {\n",
       "            for (var j = 0; j < cell.output_area.outputs.length; j++) {\n",
       "                var data = cell.output_area.outputs[j];\n",
       "                if (data.data) {\n",
       "                    // IPython >= 3 moved mimebundle to data attribute of output\n",
       "                    data = data.data;\n",
       "                }\n",
       "                if (data['text/html'] === html_output) {\n",
       "                    return [cell, data, j];\n",
       "                }\n",
       "            }\n",
       "        }\n",
       "    }\n",
       "};\n",
       "\n",
       "// Register the function which deals with the matplotlib target/channel.\n",
       "// The kernel may be null if the page has been refreshed.\n",
       "if (IPython.notebook.kernel !== null) {\n",
       "    IPython.notebook.kernel.comm_manager.register_target(\n",
       "        'matplotlib',\n",
       "        mpl.mpl_figure_comm\n",
       "    );\n",
       "}\n"
      ],
      "text/plain": [
       "<IPython.core.display.Javascript object>"
      ]
     },
     "metadata": {},
     "output_type": "display_data"
    },
    {
     "data": {
      "text/html": [
       "<img src=\"data:image/png;base64,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\" width=\"600\">"
      ],
      "text/plain": [
       "<IPython.core.display.HTML object>"
      ]
     },
     "metadata": {},
     "output_type": "display_data"
    }
   ],
   "source": [
    "fig, ax = plt.subplots(figsize=(6,4))\n",
    "ax.plot(data[:,0]+data[:,1]/12.0+data[:,2]/365, data[:,3])\n",
    "#ax.plot(data[:,0]+data[:,1]/12.0+data[:,2]/365, data[:,4])\n",
    "#ax.plot(data[:,0]+data[:,1]/12.0+data[:,2]/365, data[:,5])\n",
    "ax.axis('tight')\n",
    "ax.set_title('Temperaturas en Estocolmo')\n",
    "ax.set_xlabel(u'Año')\n",
    "ax.set_ylabel(u'Temperatura (°C)');"
   ]
  },
  {
   "cell_type": "markdown",
   "metadata": {},
   "source": [
    "### np.savetxt"
   ]
  },
  {
   "cell_type": "markdown",
   "metadata": {},
   "source": [
    "Generamos una matriz con valores aleatorios."
   ]
  },
  {
   "cell_type": "code",
   "execution_count": 369,
   "metadata": {},
   "outputs": [
    {
     "data": {
      "text/plain": [
       "array([[0.46076098, 0.00858847, 0.79355528],\n",
       "       [0.11991769, 0.09026743, 0.74690345],\n",
       "       [0.01091856, 0.7014661 , 0.54462679],\n",
       "       [0.93056799, 0.52684477, 0.53762567]])"
      ]
     },
     "execution_count": 369,
     "metadata": {},
     "output_type": "execute_result"
    }
   ],
   "source": [
    "array2d = np.random.rand(4,3)\n",
    "array2d"
   ]
  },
  {
   "cell_type": "code",
   "execution_count": 370,
   "metadata": {},
   "outputs": [],
   "source": [
    "np.savetxt(\"./datas/array2d_random00.txt\", array2d)"
   ]
  },
  {
   "cell_type": "code",
   "execution_count": 371,
   "metadata": {},
   "outputs": [],
   "source": [
    "#np.savetxt?"
   ]
  },
  {
   "cell_type": "code",
   "execution_count": 372,
   "metadata": {},
   "outputs": [],
   "source": [
    "np.savetxt(fname=\"./datas/array2d_random01.txt\", X=array2d)"
   ]
  },
  {
   "cell_type": "code",
   "execution_count": 373,
   "metadata": {},
   "outputs": [
    {
     "name": "stdout",
     "output_type": "stream",
     "text": [
      "4.607609797598670731e-01 8.588471584378143397e-03 7.935552844564771613e-01\r\n",
      "1.199176868726159473e-01 9.026742802732057314e-02 7.469034539390051464e-01\r\n",
      "1.091855644438688433e-02 7.014661031977940109e-01 5.446267917131781822e-01\r\n",
      "9.305679858702770035e-01 5.268447708297703258e-01 5.376256691868227522e-01\r\n"
     ]
    }
   ],
   "source": [
    "!head \"./datas/array2d_random00.txt\""
   ]
  },
  {
   "cell_type": "code",
   "execution_count": 374,
   "metadata": {},
   "outputs": [
    {
     "name": "stdout",
     "output_type": "stream",
     "text": [
      "4.607609797598670731e-01 8.588471584378143397e-03 7.935552844564771613e-01\r\n",
      "1.199176868726159473e-01 9.026742802732057314e-02 7.469034539390051464e-01\r\n",
      "1.091855644438688433e-02 7.014661031977940109e-01 5.446267917131781822e-01\r\n",
      "9.305679858702770035e-01 5.268447708297703258e-01 5.376256691868227522e-01\r\n"
     ]
    }
   ],
   "source": [
    "!head \"./datas/array2d_random01.txt\""
   ]
  },
  {
   "cell_type": "markdown",
   "metadata": {},
   "source": [
    "#### Cabecera de archivo"
   ]
  },
  {
   "cell_type": "code",
   "execution_count": 375,
   "metadata": {},
   "outputs": [],
   "source": [
    "np.savetxt(\"./datas/array2d_random_with_header.txt\", array2d, header ='Cabecera :D')"
   ]
  },
  {
   "cell_type": "code",
   "execution_count": null,
   "metadata": {},
   "outputs": [],
   "source": [
    "!head \"./datas/array2d_random_with_header.txt\""
   ]
  },
  {
   "cell_type": "markdown",
   "metadata": {},
   "source": [
    "#### Pie de página de archivo"
   ]
  },
  {
   "cell_type": "code",
   "execution_count": null,
   "metadata": {},
   "outputs": [],
   "source": [
    "np.savetxt(\"./datas/array2d_random_with_footer.txt\", array2d, footer ='Pie de página :D')"
   ]
  },
  {
   "cell_type": "code",
   "execution_count": null,
   "metadata": {},
   "outputs": [],
   "source": [
    "!head \"./datas/array2d_random_with_footer.txt\""
   ]
  },
  {
   "cell_type": "markdown",
   "metadata": {},
   "source": [
    "#### Delimitadores"
   ]
  },
  {
   "cell_type": "code",
   "execution_count": 376,
   "metadata": {},
   "outputs": [],
   "source": [
    "np.savetxt(\"./datas/array2d_random_with_delimiter_comma.cvs\", array2d, delimiter =',')"
   ]
  },
  {
   "cell_type": "code",
   "execution_count": 377,
   "metadata": {},
   "outputs": [
    {
     "name": "stdout",
     "output_type": "stream",
     "text": [
      "4.607609797598670731e-01,8.588471584378143397e-03,7.935552844564771613e-01\r\n",
      "1.199176868726159473e-01,9.026742802732057314e-02,7.469034539390051464e-01\r\n",
      "1.091855644438688433e-02,7.014661031977940109e-01,5.446267917131781822e-01\r\n",
      "9.305679858702770035e-01,5.268447708297703258e-01,5.376256691868227522e-01\r\n"
     ]
    }
   ],
   "source": [
    "!head \"./datas/array2d_random_with_delimiter_comma.cvs\""
   ]
  },
  {
   "cell_type": "code",
   "execution_count": 378,
   "metadata": {},
   "outputs": [],
   "source": [
    "np.savetxt(\"./datas/array2d_random_with_delimiter_pointcomma.txt\", array2d, delimiter =';')"
   ]
  },
  {
   "cell_type": "code",
   "execution_count": 379,
   "metadata": {},
   "outputs": [
    {
     "name": "stdout",
     "output_type": "stream",
     "text": [
      "4.607609797598670731e-01;8.588471584378143397e-03;7.935552844564771613e-01\r\n",
      "1.199176868726159473e-01;9.026742802732057314e-02;7.469034539390051464e-01\r\n",
      "1.091855644438688433e-02;7.014661031977940109e-01;5.446267917131781822e-01\r\n",
      "9.305679858702770035e-01;5.268447708297703258e-01;5.376256691868227522e-01\r\n"
     ]
    }
   ],
   "source": [
    "!head \"./datas/array2d_random_with_delimiter_pointcomma.txt\""
   ]
  },
  {
   "cell_type": "markdown",
   "metadata": {},
   "source": [
    "#### Formateo de datos"
   ]
  },
  {
   "cell_type": "code",
   "execution_count": 380,
   "metadata": {},
   "outputs": [],
   "source": [
    "np.savetxt(\"./datas/array2d_random_with_fmt_2.2float.txt\", array2d, fmt ='%2.2f')"
   ]
  },
  {
   "cell_type": "code",
   "execution_count": null,
   "metadata": {},
   "outputs": [],
   "source": [
    "!head \"./datas/array2d_random_with_fmt_2.2float.txt\""
   ]
  },
  {
   "cell_type": "code",
   "execution_count": null,
   "metadata": {},
   "outputs": [],
   "source": [
    "np.savetxt(\"./datas/array2d_random_with_fmt_3.5float.txt\", array2d, fmt ='%3.5f')"
   ]
  },
  {
   "cell_type": "code",
   "execution_count": null,
   "metadata": {},
   "outputs": [],
   "source": [
    "!head \"./datas/array2d_random_with_fmt_3.5float.txt\""
   ]
  },
  {
   "cell_type": "code",
   "execution_count": null,
   "metadata": {},
   "outputs": [],
   "source": [
    "np.savetxt(\"./datas/array2d_random_with_fmt_int.txt\", array2d, fmt ='%d')"
   ]
  },
  {
   "cell_type": "code",
   "execution_count": null,
   "metadata": {},
   "outputs": [],
   "source": [
    "!head \"./datas/array2d_random_with_fmt_int.txt\""
   ]
  },
  {
   "cell_type": "markdown",
   "metadata": {},
   "source": [
    "Para mayor info sobre los formateadores de strings puede consultar [aquí](https://pyformat.info)."
   ]
  },
  {
   "cell_type": "code",
   "execution_count": null,
   "metadata": {},
   "outputs": [],
   "source": [
    "np.savetxt(\"./datas/array3d.txt\", array3d)"
   ]
  },
  {
   "cell_type": "markdown",
   "metadata": {},
   "source": [
    "### El formato de archivo nativo de Numpy\n",
    "\n",
    "Es útil cuando se almacenan arreglos de datos y luego se leen nuevamente con numpy. Use las funciones `numpy.save` y `numpy.load`:"
   ]
  },
  {
   "cell_type": "code",
   "execution_count": null,
   "metadata": {},
   "outputs": [],
   "source": [
    "np.save(\"./datas/array2d_random.npy\", array2d)"
   ]
  },
  {
   "cell_type": "code",
   "execution_count": null,
   "metadata": {},
   "outputs": [],
   "source": [
    "#!file \"./datas/array2d_random.npy\""
   ]
  },
  {
   "cell_type": "code",
   "execution_count": null,
   "metadata": {},
   "outputs": [],
   "source": [
    "np.load(\"./datas/array2d_random.npy\")"
   ]
  },
  {
   "cell_type": "code",
   "execution_count": null,
   "metadata": {},
   "outputs": [],
   "source": [
    "np.save(\"./datas/array3d.npy\", array3d)"
   ]
  },
  {
   "cell_type": "code",
   "execution_count": null,
   "metadata": {},
   "outputs": [],
   "source": [
    "np.load(\"./datas/array3d.npy\")"
   ]
  },
  {
   "cell_type": "code",
   "execution_count": null,
   "metadata": {},
   "outputs": [],
   "source": [
    "!ls -l \"./datas/array2d_random\"*"
   ]
  },
  {
   "cell_type": "markdown",
   "metadata": {},
   "source": [
    "Para mayor info sobre la conveniencia del uso de este formato de archivos puede consultar [aquí](https://towardsdatascience.com/why-you-should-start-using-npy-file-more-often-df2a13cc0161)."
   ]
  },
  {
   "cell_type": "markdown",
   "metadata": {},
   "source": [
    "## Vectorizando funciones\n",
    "\n",
    "Como se ha mencionado en varias ocasiones, para obtener un buen rendimiento deberíamos tratar de evitar realizar bucles sobre los elementos de nuestros vectores y matrices, y en su lugar usar algoritmos vectorizados. El primer paso para convertir un algoritmo escalar a uno vectorizado es asegurarnos de que las funciones que escribamos funcionen con argumentos vectoriales."
   ]
  },
  {
   "cell_type": "code",
   "execution_count": 381,
   "metadata": {},
   "outputs": [],
   "source": [
    "def Theta(x):\n",
    "    \"\"\"\n",
    "    Implementación escalar de la función escalón de Heavyside.\n",
    "    \"\"\"\n",
    "    if x >= 0:\n",
    "        return 1\n",
    "    else:\n",
    "        return 0"
   ]
  },
  {
   "cell_type": "code",
   "execution_count": 382,
   "metadata": {},
   "outputs": [
    {
     "data": {
      "text/plain": [
       "(0, 1, 1)"
      ]
     },
     "execution_count": 382,
     "metadata": {},
     "output_type": "execute_result"
    }
   ],
   "source": [
    "Theta(-3),Theta(0),Theta(6)"
   ]
  },
  {
   "cell_type": "code",
   "execution_count": 383,
   "metadata": {},
   "outputs": [],
   "source": [
    "x = np.array([-3,-2,-1,0,1,2,3])"
   ]
  },
  {
   "cell_type": "code",
   "execution_count": 384,
   "metadata": {},
   "outputs": [
    {
     "ename": "ValueError",
     "evalue": "The truth value of an array with more than one element is ambiguous. Use a.any() or a.all()",
     "output_type": "error",
     "traceback": [
      "\u001b[0;31m---------------------------------------------------------------------------\u001b[0m",
      "\u001b[0;31mValueError\u001b[0m                                Traceback (most recent call last)",
      "\u001b[0;32m<ipython-input-384-c8befc840b55>\u001b[0m in \u001b[0;36m<module>\u001b[0;34m\u001b[0m\n\u001b[0;32m----> 1\u001b[0;31m \u001b[0mTheta\u001b[0m\u001b[0;34m(\u001b[0m\u001b[0mx\u001b[0m\u001b[0;34m)\u001b[0m\u001b[0;34m\u001b[0m\u001b[0;34m\u001b[0m\u001b[0m\n\u001b[0m",
      "\u001b[0;32m<ipython-input-381-b66d808a3fdb>\u001b[0m in \u001b[0;36mTheta\u001b[0;34m(x)\u001b[0m\n\u001b[1;32m      3\u001b[0m     \u001b[0mImplementación\u001b[0m \u001b[0mescalar\u001b[0m \u001b[0mde\u001b[0m \u001b[0mla\u001b[0m \u001b[0mfunción\u001b[0m \u001b[0mescalón\u001b[0m \u001b[0mde\u001b[0m \u001b[0mHeavyside\u001b[0m\u001b[0;34m.\u001b[0m\u001b[0;34m\u001b[0m\u001b[0;34m\u001b[0m\u001b[0m\n\u001b[1;32m      4\u001b[0m     \"\"\"\n\u001b[0;32m----> 5\u001b[0;31m     \u001b[0;32mif\u001b[0m \u001b[0mx\u001b[0m \u001b[0;34m>=\u001b[0m \u001b[0;36m0\u001b[0m\u001b[0;34m:\u001b[0m\u001b[0;34m\u001b[0m\u001b[0;34m\u001b[0m\u001b[0m\n\u001b[0m\u001b[1;32m      6\u001b[0m         \u001b[0;32mreturn\u001b[0m \u001b[0;36m1\u001b[0m\u001b[0;34m\u001b[0m\u001b[0;34m\u001b[0m\u001b[0m\n\u001b[1;32m      7\u001b[0m     \u001b[0;32melse\u001b[0m\u001b[0;34m:\u001b[0m\u001b[0;34m\u001b[0m\u001b[0;34m\u001b[0m\u001b[0m\n",
      "\u001b[0;31mValueError\u001b[0m: The truth value of an array with more than one element is ambiguous. Use a.any() or a.all()"
     ]
    }
   ],
   "source": [
    "Theta(x)"
   ]
  },
  {
   "cell_type": "markdown",
   "metadata": {},
   "source": [
    "Ok, eso no funcionó porque no definimos la función `Theta` de modo que pueda manejar argumentos vectoriales. Para obtener una *versión vectorizada* de Theta podemos usar la función `np.vectorize`. En muchos casos, puede vectorizar automáticamente una función:"
   ]
  },
  {
   "cell_type": "code",
   "execution_count": 385,
   "metadata": {},
   "outputs": [],
   "source": [
    "Theta_vec = np.vectorize(Theta)"
   ]
  },
  {
   "cell_type": "code",
   "execution_count": 386,
   "metadata": {},
   "outputs": [
    {
     "name": "stdout",
     "output_type": "stream",
     "text": [
      "11.8 µs ± 499 ns per loop (mean ± std. dev. of 7 runs, 100000 loops each)\n"
     ]
    }
   ],
   "source": [
    "%timeit Theta_vec(x)"
   ]
  },
  {
   "cell_type": "markdown",
   "metadata": {},
   "source": [
    "Podemos también implementar la función de modo que desde el comienzo acepte un argumento vectorial (esto requiere más esfuerzo, para mejorar el rendimiento):"
   ]
  },
  {
   "cell_type": "code",
   "execution_count": 387,
   "metadata": {},
   "outputs": [],
   "source": [
    "def Theta2(x):\n",
    "    \"\"\"\n",
    "    Implementación preparada para vectores de la función escalón de Heaviside.\n",
    "    \"\"\"\n",
    "    return 1 * (x >= 0)"
   ]
  },
  {
   "cell_type": "code",
   "execution_count": 388,
   "metadata": {},
   "outputs": [
    {
     "data": {
      "text/plain": [
       "(0, 1, 1)"
      ]
     },
     "execution_count": 388,
     "metadata": {},
     "output_type": "execute_result"
    }
   ],
   "source": [
    "Theta2(-3),Theta2(0),Theta2(6)"
   ]
  },
  {
   "cell_type": "code",
   "execution_count": 389,
   "metadata": {},
   "outputs": [
    {
     "name": "stdout",
     "output_type": "stream",
     "text": [
      "1.71 µs ± 32.8 ns per loop (mean ± std. dev. of 7 runs, 1000000 loops each)\n"
     ]
    }
   ],
   "source": [
    "%timeit Theta2(x)"
   ]
  },
  {
   "cell_type": "markdown",
   "metadata": {},
   "source": [
    "## Copy y \"deep copy\"\n",
    "\n",
    "Para alcanzar un alto desempeño, las asignaciones en Python usualmente no copian los objetos involucrados. Esto es importante cuando se pasan objetos a funciones, para así evitar uso excesivo de memoria copiando cuando no es necesario (término técnico: paso por referencia)"
   ]
  },
  {
   "cell_type": "code",
   "execution_count": 390,
   "metadata": {},
   "outputs": [
    {
     "data": {
      "text/plain": [
       "array([[1, 2],\n",
       "       [3, 4]])"
      ]
     },
     "execution_count": 390,
     "metadata": {},
     "output_type": "execute_result"
    }
   ],
   "source": [
    "array2d_original = np.array([[1, 2], [3, 4]])\n",
    "array2d_original"
   ]
  },
  {
   "cell_type": "code",
   "execution_count": 391,
   "metadata": {},
   "outputs": [],
   "source": [
    "# ahora array2d_original apunta al mismo arreglo que array2d_original\n",
    "array2d_copiado = array2d_original "
   ]
  },
  {
   "cell_type": "code",
   "execution_count": 392,
   "metadata": {},
   "outputs": [
    {
     "data": {
      "text/plain": [
       "(4844046496, 4844046496)"
      ]
     },
     "execution_count": 392,
     "metadata": {},
     "output_type": "execute_result"
    }
   ],
   "source": [
    "id(array2d_original),id(array2d_copiado)"
   ]
  },
  {
   "cell_type": "code",
   "execution_count": 393,
   "metadata": {},
   "outputs": [],
   "source": [
    "# cambiar array2d_copiado afecta a array2d_original\n",
    "array2d_copiado[0,0] = 10"
   ]
  },
  {
   "cell_type": "code",
   "execution_count": 394,
   "metadata": {},
   "outputs": [
    {
     "data": {
      "text/plain": [
       "array([[10,  2],\n",
       "       [ 3,  4]])"
      ]
     },
     "execution_count": 394,
     "metadata": {},
     "output_type": "execute_result"
    }
   ],
   "source": [
    "array2d_copiado"
   ]
  },
  {
   "cell_type": "code",
   "execution_count": 395,
   "metadata": {},
   "outputs": [
    {
     "data": {
      "text/plain": [
       "array([[10,  2],\n",
       "       [ 3,  4]])"
      ]
     },
     "execution_count": 395,
     "metadata": {},
     "output_type": "execute_result"
    }
   ],
   "source": [
    "array2d_original"
   ]
  },
  {
   "cell_type": "markdown",
   "metadata": {},
   "source": [
    "Si queremos evitar este comportamiento, para así obtener un nuevo objecto `array2d_copiado` copiado desde `array2d_original`, pero totalmente independiente de `array2d_original`, necesitamos realizar una \"copia profunda\" (\"deep copy\") usando la función `copy`:"
   ]
  },
  {
   "cell_type": "code",
   "execution_count": 396,
   "metadata": {},
   "outputs": [],
   "source": [
    "array2d_copiado2 = np.copy(array2d_original)"
   ]
  },
  {
   "cell_type": "code",
   "execution_count": 397,
   "metadata": {},
   "outputs": [
    {
     "data": {
      "text/plain": [
       "(4844046496, 4843904736)"
      ]
     },
     "execution_count": 397,
     "metadata": {},
     "output_type": "execute_result"
    }
   ],
   "source": [
    "id(array2d_original),id(array2d_copiado2)"
   ]
  },
  {
   "cell_type": "code",
   "execution_count": 398,
   "metadata": {},
   "outputs": [],
   "source": [
    "# cambiar array2d_copiado2 no afecta a array2d_original\n",
    "array2d_copiado2[0,0] = -5"
   ]
  },
  {
   "cell_type": "code",
   "execution_count": 399,
   "metadata": {},
   "outputs": [
    {
     "data": {
      "text/plain": [
       "array([[-5,  2],\n",
       "       [ 3,  4]])"
      ]
     },
     "execution_count": 399,
     "metadata": {},
     "output_type": "execute_result"
    }
   ],
   "source": [
    "array2d_copiado2"
   ]
  },
  {
   "cell_type": "code",
   "execution_count": 400,
   "metadata": {},
   "outputs": [
    {
     "data": {
      "text/plain": [
       "array([[10,  2],\n",
       "       [ 3,  4]])"
      ]
     },
     "execution_count": 400,
     "metadata": {},
     "output_type": "execute_result"
    }
   ],
   "source": [
    "array2d_original"
   ]
  },
  {
   "cell_type": "markdown",
   "metadata": {},
   "source": [
    "## Usando arreglos en sentencias condicionales\n",
    "\n",
    "Cuando se usan arreglos en sentencias condicionales, por ejemplo en sentencias `if` y otras expresiones booleanas, necesitamos usar `np.any` o bien `np.all`, que requiere que todos los elementos de un arreglo se evalúen con `True`:"
   ]
  },
  {
   "cell_type": "code",
   "execution_count": null,
   "metadata": {},
   "outputs": [],
   "source": [
    "array2d = np.array([[1,4], [9,16]])"
   ]
  },
  {
   "cell_type": "code",
   "execution_count": null,
   "metadata": {},
   "outputs": [],
   "source": [
    "if np.any(array2d > 5): # equivalente a (array2d > 5).any():\n",
    "    print(\"Al menos un elemento del arreglo es mayor que 5\")\n",
    "else:\n",
    "    print(\"Ningún elemento del arreglo es mayor que 5\")"
   ]
  },
  {
   "cell_type": "code",
   "execution_count": null,
   "metadata": {},
   "outputs": [],
   "source": [
    "if np.all(array2d > 5): # equivalente a (array2d > 5).all():\n",
    "    print(\"Todos los elementos del arreglo son mayores que 5\")\n",
    "else:\n",
    "    print(\"No todos los elementos del arreglo son mayores que 5\")"
   ]
  },
  {
   "cell_type": "markdown",
   "metadata": {},
   "source": [
    "Versión original en inglés de [J.R. Johansson](http://jrjohansson.github.io/) (robert@riken.jp).\n",
    "\n",
    "Traducido/Adaptado por [G.F. Rubilar](http://google.com/+GuillermoRubilar) con pequeños cambios de Esteban Vöhringer-Martinez.\n",
    "\n",
    "La última versión de estos [Notebooks](http://ipython.org/notebook.html) está disponible en [https://github.com/PythonUdeC/CPC21](https://github.com/PythonUdeC/CPC21).\n",
    "\n",
    "La última versión del original (en inglés) está disponible en [http://github.com/jrjohansson/scientific-python-lectures](http://github.com/jrjohansson/scientific-python-lectures).\n",
    "Los otros notebooks de esta serie están listados en [http://jrjohansson.github.com](http://jrjohansson.github.com)."
   ]
  },
  {
   "cell_type": "markdown",
   "metadata": {},
   "source": [
    "## Lectura adicional\n",
    "\n",
    "* [Numpy](http://numpy.scipy.org)\n",
    "* [Numpy para principiantes](https://numpy.org/doc/stable/user/absolute_beginners.html)\n",
    "* https://docs.scipy.org/doc/numpy-1.15.0/user/quickstart.html\n",
    "* https://numpy.org/doc/stable/user/numpy-for-matlab-users.html - Una guía de Numpy para usuario de MATLAB."
   ]
  },
  {
   "cell_type": "code",
   "execution_count": null,
   "metadata": {},
   "outputs": [],
   "source": []
  }
 ],
 "metadata": {
  "kernelspec": {
   "display_name": "Python 3",
   "language": "python",
   "name": "python3"
  },
  "language_info": {
   "codemirror_mode": {
    "name": "ipython",
    "version": 3
   },
   "file_extension": ".py",
   "mimetype": "text/x-python",
   "name": "python",
   "nbconvert_exporter": "python",
   "pygments_lexer": "ipython3",
   "version": "3.8.5"
  }
 },
 "nbformat": 4,
 "nbformat_minor": 2
}
