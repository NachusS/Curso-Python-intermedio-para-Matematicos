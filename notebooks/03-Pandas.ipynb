{
 "cells": [
  {
   "cell_type": "markdown",
   "id": "8161cc7a-e9d2-4903-8f39-4c87868a9c5f",
   "metadata": {},
   "source": [
    "# Modulo PANDAS:\n",
    "\n",
    "Curso **\"Python para Matemáticos, nivel intermedio\"**. (3. Seccion)\n",
    "Para mayor información visite: http://pandas.pydata.org\n",
    "\n",
    "![Pandas](../images/pandas.png \"Pandas\")"
   ]
  },
  {
   "cell_type": "markdown",
   "id": "315303a8-8290-4789-8faf-79e9c659f192",
   "metadata": {},
   "source": [
    "Nota:\n",
    ">Autor de los Apuntes del curso de Pandas **Alfredo Sánchez Alberca**. [Web: Aprende con Alf](https://aprendeconalf.es/docencia/python/manual/pandas/#atributos-de-una-serie)"
   ]
  },
  {
   "cell_type": "markdown",
   "id": "322cd932-562a-4f23-8a2b-6d459d1cf8f9",
   "metadata": {},
   "source": [
    "# Indice contenido:\n",
    "1. Introducción\n",
    "1. Tipos de datos de Pandas\n",
    "1. La clase de objetos Series"
   ]
  },
  {
   "cell_type": "markdown",
   "id": "2299896e-19f3-4597-9bf1-455583f415c0",
   "metadata": {},
   "source": [
    "## Introducción:\n",
    "\n",
    "Pandas es una librería de Python especializada en el manejo y análisis de estructuras de datos.\n",
    "\n",
    "Las principales características de esta librería son:\n",
    "* Define nuevas estructuras de datos basadas en los arrays de la librería NumPy pero con nuevas funcionalidades.\n",
    "* Permite leer y escribir fácilmente ficheros en formato CSV, Excel y bases de datos SQL.\n",
    "* Permite acceder a los datos mediante índices o nombres para filas y columnas.\n",
    "* Ofrece métodos para reordenar, dividir y combinar conjuntos de datos.\n",
    "* Permite trabajar con series temporales.\n",
    "* Realiza todas estas operaciones de manera muy eficiente.\n"
   ]
  },
  {
   "cell_type": "markdown",
   "id": "25011bf1-f170-432c-8862-c3c07d04873b",
   "metadata": {},
   "source": [
    "## Tipos de datos de Pandas:\n",
    "Pandas dispone de tres estructuras de datos diferentes:\n",
    "\n",
    "* Series: Estructura de una dimensión.\n",
    "* DataFrame: Estructura de dos dimensiones (tablas).\n",
    "* Panel: Estructura de tres dimensiones (cubos).\n",
    "\n",
    "Estas estructuras se construyen a partir de arrays de la librería NumPy, añadiendo nuevas funcionalidades."
   ]
  },
  {
   "cell_type": "markdown",
   "id": "f838c6ea-1708-41b5-b1ee-f574be7b47bc",
   "metadata": {},
   "source": [
    "## La clase de objetos Series:\n",
    "\n",
    "Son estructuras similares a los arrays de **una dimensión**. Son homogéneas, es decir, sus elementos tienen que ser del mismo tipo, y su tamaño es inmutable, es decir, no se puede cambiar, aunque si su contenido.\n",
    "\n",
    "Dispone de un **índice** que asocia un nombre a cada elemento del la serie, a través de la cuál se accede al elemento.\n",
    "\n",
    "Ejemplo. La siguiente serie contiene las asignaturas de un curso.\n",
    "![Series](../images/pandas-series.png)\n"
   ]
  },
  {
   "cell_type": "markdown",
   "id": "fdf62454-6858-4229-9799-5061bc787215",
   "metadata": {},
   "source": [
    "### Creación de series\n",
    "#### Creación de una serie a partir de una lista:\n",
    "`Series(data=lista, index=indices, dtype=tipo)` : \n",
    "\n",
    "Devuelve un objeto de tipo Series con los datos de la lista lista, las filas especificados en la lista indices y el tipo de datos indicado en tipo. Si no se pasa la lista de índices se utilizan como índices los enteros del 0 al $n-1$, donde $n$ es el tamaño de la serie. Si no se pasa el tipo de dato se infiere."
   ]
  },
  {
   "cell_type": "markdown",
   "id": "714816b0-0888-4f95-9250-d50e86872676",
   "metadata": {},
   "source": [
    "Lo primero que tenemos que hacer es importar la libreria:\n",
    "\n",
    "* **import** pandas **as** pd"
   ]
  },
  {
   "cell_type": "code",
   "execution_count": null,
   "id": "a111b9b6-f9f5-4016-b228-5613bd0fce70",
   "metadata": {},
   "outputs": [],
   "source": [
    "import pandas as pd\n",
    "s = pd.Series(['Matemáticas', 'Historia', 'Economía', 'Programación', 'Inglés'], dtype='string')\n",
    "print(s)"
   ]
  },
  {
   "cell_type": "markdown",
   "id": "d661081c-83e8-4c9e-920a-c9403109092f",
   "metadata": {},
   "source": [
    "#### Creación de una serie a partir de un diccionario\n",
    "\n",
    "`Series(data=diccionario, index=indices)`: \n",
    "\n",
    "Devuelve un objeto de tipo Series con los valores del diccionario `diccionario` y las filas especificados en la lista `indices`. Si no se pasa la lista de índices se utilizan como índices las claves del diccionario.\n"
   ]
  },
  {
   "cell_type": "code",
   "execution_count": null,
   "id": "284beb5e-3c3f-4c52-8dba-6b19444d81ba",
   "metadata": {},
   "outputs": [],
   "source": [
    "s = pd.Series({'Matemáticas': 6.0,  'Economía': 4.5, 'Programación': 8.5})\n",
    "print(s)"
   ]
  },
  {
   "cell_type": "markdown",
   "id": "a89135a9-d289-4cae-b53c-7cedc28b795e",
   "metadata": {},
   "source": [
    "### Atributos de una serie\n",
    "Existen varias propiedades o **métodos** para ver las características de los atributos de una serie.\n",
    "\n",
    "* `s.size` : Devuelve el número de elementos de la serie s.\n",
    "\n",
    "* `s.index` : Devuelve una lista con los nombres de las filas del DataFrame s.\n",
    "\n",
    "* `s.dtype` : Devuelve el tipo de datos de los elementos de la serie s."
   ]
  },
  {
   "cell_type": "code",
   "execution_count": null,
   "id": "9d7cb8cc-83e1-444c-97ba-ce747f60fb25",
   "metadata": {},
   "outputs": [],
   "source": [
    "s = pd.Series([1, 2, 2, 3, 3, 3, 4, 4, 4, 4])\n",
    "print(s)"
   ]
  },
  {
   "cell_type": "code",
   "execution_count": null,
   "id": "22ac18e0-b6d5-498b-a16d-05060a873565",
   "metadata": {},
   "outputs": [],
   "source": [
    "# Tamaño de una serie:\n",
    "s.size"
   ]
  },
  {
   "cell_type": "code",
   "execution_count": null,
   "id": "010fe239-5ffa-4518-a0a9-ec12dafb8ad6",
   "metadata": {},
   "outputs": [],
   "source": [
    "# Indices de una serie:\n",
    "s.index"
   ]
  },
  {
   "cell_type": "code",
   "execution_count": null,
   "id": "5281078c-1925-4d3e-b7e4-bbd587745019",
   "metadata": {},
   "outputs": [],
   "source": [
    "# Tipos de datos de una serie:\n",
    "s.dtype"
   ]
  },
  {
   "cell_type": "markdown",
   "id": "3be73adb-c7c4-4b56-94e9-aa5b3d5cd773",
   "metadata": {},
   "source": [
    "### Acceso a los elementos de una serie\n",
    "\n",
    "El acceso a los elementos de un objeto del tipo Series puede ser a través de **posiciones** o través de **índices (nombres)**.\n",
    "\n",
    "#### Acceso por posición:\n",
    "\n",
    "Se realiza de forma similar a como se accede a los elementos de un array.\n",
    "\n",
    "* s[i] : Devuelve el elemento que ocupa la posición i+1 en la serie s.\n",
    "* s[posiciones]: Devuelve otra serie con los elementos que ocupan las posiciones de la lista posiciones.\n",
    "\n",
    "#### Acceso por índice:\n",
    "* s[nombre] : Devuelve el elemento con el nombre nombre en el índice.\n",
    "* s[nombres] : Devuelve otra serie con los elementos correspondientes a los nombres indicadas en la lista nombres en el índice."
   ]
  },
  {
   "cell_type": "code",
   "execution_count": null,
   "id": "b32db942-ffcc-40a4-a4fa-a12bc49be20e",
   "metadata": {},
   "outputs": [],
   "source": [
    "s = pd.Series({'Matemáticas': 6.0,  'Economía': 4.5, 'Programación': 8.5})\n",
    "print(s)"
   ]
  },
  {
   "cell_type": "code",
   "execution_count": null,
   "id": "651bcee3-2ed0-400d-8a84-c79ae5619fa3",
   "metadata": {},
   "outputs": [],
   "source": [
    "# Acceso por posiciones\n",
    "s[1:3]"
   ]
  },
  {
   "cell_type": "code",
   "execution_count": null,
   "id": "38eb5f10-ba8a-4919-ab3a-5f45ae9bd2ca",
   "metadata": {},
   "outputs": [],
   "source": [
    "# Acceso por nombre de índice:\n",
    "s['Economía']"
   ]
  },
  {
   "cell_type": "code",
   "execution_count": null,
   "id": "879ddd45-d4bc-448f-8f2c-8f3dcd8af979",
   "metadata": {},
   "outputs": [],
   "source": [
    "s[['Programación', 'Matemáticas']]"
   ]
  },
  {
   "cell_type": "markdown",
   "id": "cb5201e8-b293-4ec9-80ae-18116372f978",
   "metadata": {},
   "source": [
    "### Resumen descriptivo de una serie\n",
    "Las siguientes métodos permiten resumir varios aspectos de una serie:\n",
    "\n",
    "* `s.count()` : Devuelve el número de elementos que no son nulos ni NaN en la serie s.\n",
    "* `s.sum()` : Devuelve la suma de los datos de la serie s cuando los datos son de un tipo numérico, o la concatenación de ellos cuando son del tipo cadena str.\n",
    "* `s.cumsum()` : Devuelve una serie con la suma acumulada de los datos de la serie s cuando los datos son de un tipo numérico.\n",
    "* `s.value_counts()` : Devuelve una serie con la frecuencia (número de repeticiones) de cada valor de la serie s.\n",
    "* `s.min()` : Devuelve el menor de los datos de la serie s.\n",
    "* `s.max()` : Devuelve el mayor de los datos de la serie s.\n",
    "* `s.mean()` : Devuelve la media de los datos de la serie s cuando los datos son de un tipo numérico.\n",
    "* `s.var()` : Devuelve la varianza de los datos de la serie s cuando los datos son de un tipo numérico.\n",
    "* `s.std()` : Devuelve la desviación típica de los datos de la serie s cuando los datos son de un tipo numérico.\n",
    "* `s.describe()`: Devuelve una serie con un resumen descriptivo que incluye el número de datos, su suma, el mínimo, el máximo, la media, la desviación típica y los cuartiles."
   ]
  },
  {
   "cell_type": "code",
   "execution_count": null,
   "id": "52465c79-1056-4a36-9127-72058e8fee16",
   "metadata": {},
   "outputs": [],
   "source": [
    "# Ejemplos de los métodos:\n",
    "s = pd.Series([1, 1, 1, 1, 2, 2, 2, 3, 3, 4])"
   ]
  },
  {
   "cell_type": "code",
   "execution_count": null,
   "id": "6cfc478a-0939-4218-a10f-b313b25add56",
   "metadata": {},
   "outputs": [],
   "source": [
    "# Tamaño muestral\n",
    "s.count()  "
   ]
  },
  {
   "cell_type": "code",
   "execution_count": null,
   "id": "5fd1d56c-678d-466d-9903-4293b7e212a6",
   "metadata": {},
   "outputs": [],
   "source": [
    "# Suma\n",
    "s.sum()"
   ]
  },
  {
   "cell_type": "code",
   "execution_count": null,
   "id": "112d72cb-8124-4c40-8ed5-533773f883b6",
   "metadata": {},
   "outputs": [],
   "source": [
    "# Suma acumulada\n",
    "s.cumsum()  "
   ]
  },
  {
   "cell_type": "code",
   "execution_count": null,
   "id": "27b3f285-957d-4652-a2a7-4f13b0519309",
   "metadata": {},
   "outputs": [],
   "source": [
    "# Frecuencias absolutas\n",
    "s.value_counts()  "
   ]
  },
  {
   "cell_type": "code",
   "execution_count": null,
   "id": "172c6a5c-0ed2-4aa2-91ec-9987fb75345e",
   "metadata": {},
   "outputs": [],
   "source": [
    "# Frecuencias relativas\n",
    "s.value_counts(normalize=True)  "
   ]
  },
  {
   "cell_type": "code",
   "execution_count": null,
   "id": "ac292493-a0d1-4eaa-aa8d-30d20d94baef",
   "metadata": {},
   "outputs": [],
   "source": [
    "# Mínimo\n",
    "s.min()"
   ]
  },
  {
   "cell_type": "code",
   "execution_count": null,
   "id": "378ddf4f-d7c9-434e-ab33-2163cad230f4",
   "metadata": {},
   "outputs": [],
   "source": [
    "# Máximo\n",
    "s.max()  "
   ]
  },
  {
   "cell_type": "code",
   "execution_count": null,
   "id": "604d1b69-d385-4f8d-b7c3-65e1bd0c81ed",
   "metadata": {},
   "outputs": [],
   "source": [
    "# Media\n",
    "s.mean() "
   ]
  },
  {
   "cell_type": "code",
   "execution_count": null,
   "id": "9e22bf84-6f26-404f-8b4a-fb207d63e49e",
   "metadata": {},
   "outputs": [],
   "source": [
    "# Varianza\n",
    "s.var()"
   ]
  },
  {
   "cell_type": "code",
   "execution_count": null,
   "id": "527c51f2-cf35-44d3-9cc3-6c4912b577da",
   "metadata": {},
   "outputs": [],
   "source": [
    "# Desviación típica\n",
    "s.std()"
   ]
  },
  {
   "cell_type": "code",
   "execution_count": null,
   "id": "10fd7c32-7283-42c2-bf50-740dfcc17152",
   "metadata": {},
   "outputs": [],
   "source": [
    "# Resume descriptivo\n",
    "s.describe()"
   ]
  },
  {
   "cell_type": "markdown",
   "id": "a6ac1ace-e266-4ec4-b4cc-ab1e8e77ebce",
   "metadata": {},
   "source": [
    "### Aplicar operaciones a una serie\n",
    "Los operadores binarios (+, *, /, etc.) pueden utilizarse con una serie, y devuelven otra serie con el resultado de aplicar la operación a cada elemento de la serie."
   ]
  },
  {
   "cell_type": "code",
   "execution_count": null,
   "id": "da632d4e-0bfa-4d08-a89f-de3627146b56",
   "metadata": {},
   "outputs": [],
   "source": [
    "# import pandas as pd\n",
    "s = pd.Series([1, 2, 3, 4])\n",
    "# Multiplicar por 2 todos los elementos de la serie\n",
    "print(s * 2)"
   ]
  },
  {
   "cell_type": "code",
   "execution_count": null,
   "id": "e9f71cdc-9905-4125-a209-ff69b6584298",
   "metadata": {},
   "outputs": [],
   "source": [
    "# Módulo\n",
    "print(s % 2)"
   ]
  },
  {
   "cell_type": "code",
   "execution_count": null,
   "id": "d464fdc3-dfc7-430c-b6e8-ea37bbe8dffb",
   "metadata": {},
   "outputs": [],
   "source": [
    "# Cambiamos los datos de la serie a texto:\n",
    "s = pd.Series(['a', 'b', 'c'])\n",
    "s * 5"
   ]
  },
  {
   "cell_type": "markdown",
   "id": "d6f9ff58-82b0-4a90-a854-743e5d251fae",
   "metadata": {},
   "source": [
    "### Aplicar funciones a una serie\n",
    "También es posible aplicar una función a cada elemento de la serie mediante el siguiente método:\n",
    "\n",
    "* `s.apply(f)` : Devuelve una serie con el resultado de aplicar la función f a cada uno de los elementos de la serie s."
   ]
  },
  {
   "cell_type": "code",
   "execution_count": null,
   "id": "66d72b1d-b013-4b77-9469-0b0e2f49cc01",
   "metadata": {},
   "outputs": [],
   "source": [
    "# Importamos de la libreria math el logaritmo\n",
    "import pandas as pd\n",
    "from math import log\n",
    "s = pd.Series([1, 2, 3, 4])\n",
    "s.apply(log)"
   ]
  },
  {
   "cell_type": "code",
   "execution_count": null,
   "id": "ff160c58-aae3-4eb6-8024-f85d07bf6d46",
   "metadata": {},
   "outputs": [],
   "source": [
    "# Funciones para aplicar a series de tipo texto:\n",
    "s = pd.Series(['a', 'b', 'c'])\n",
    "s.apply(str.upper)"
   ]
  },
  {
   "cell_type": "markdown",
   "id": "ec706d96-c70c-4b7c-b549-fc792d35342f",
   "metadata": {},
   "source": [
    "### Filtrar una serie\n",
    "Para filtrar una serie y quedarse con los valores que cumplen una determinada condición se utiliza el siguiente método:\n",
    "\n",
    "* `s[condicion]` : Devuelve una serie con los elementos de la serie s que se corresponden con el valor True de la lista booleana condicion. condicion debe ser una lista de valores booleanos de la misma longitud que la serie."
   ]
  },
  {
   "cell_type": "code",
   "execution_count": null,
   "id": "794395c4-8dab-4075-995f-d3606df28a1a",
   "metadata": {},
   "outputs": [],
   "source": [
    "# Aplicamos filtro a la siguiente serie:\n",
    "s = pd.Series({'Matemáticas': 6.0,  'Economía': 4.5, 'Programación': 8.5})\n",
    "print(s[s > 5])"
   ]
  },
  {
   "cell_type": "markdown",
   "id": "2ba9c62d-bd30-4892-9616-28e11a99e32e",
   "metadata": {},
   "source": [
    "### Ordenar una serie\n",
    "Para ordenar una serie se utilizan los siguientes métodos:\n",
    "\n",
    "* `s.sort_values(ascending=booleano)` : Devuelve la serie que resulta de ordenar los valores la serie s. Si argumento del parámetro ascending es True el orden es creciente y si es False decreciente.\n",
    "\n",
    "* `df.sort_index(ascending=booleano)` : Devuelve la serie que resulta de ordenar el índice de la serie s. Si el argumento del parámetro ascending es True el orden es creciente y si es False decreciente."
   ]
  },
  {
   "cell_type": "code",
   "execution_count": null,
   "id": "0692b6ac-d242-43af-bd18-3ffbc41d6462",
   "metadata": {},
   "outputs": [],
   "source": [
    "# Ordenación de una serie, por su valor:\n",
    "s = pd.Series({'Matemáticas': 6.0,  'Economía': 4.5, 'Programación': 8.5})\n",
    "print(s.sort_values())"
   ]
  },
  {
   "cell_type": "code",
   "execution_count": null,
   "id": "22d4c76b-5a12-4431-9444-1371be0ecb7e",
   "metadata": {},
   "outputs": [],
   "source": [
    "# Ordenación de la Serie por el índice:\n",
    "print(s.sort_index(ascending = False))"
   ]
  },
  {
   "cell_type": "markdown",
   "id": "faf0e13a-f7fc-421b-8e68-6f97d8909b1f",
   "metadata": {},
   "source": [
    "### Eliminar los dados desconocidos en una serie\n",
    "Los datos desconocidos representan en Pandas por *NaN* y los nulos por *None*. Tanto unos como otros suelen ser un problema a la hora de realizar algunos análisis de datos, por lo que es habitual eliminarlos. Para eliminarlos de una serie se utiliza el siguiente método:\n",
    "\n",
    "* `s.dropna()` : Elimina los datos desconocidos o nulos de la serie s."
   ]
  },
  {
   "cell_type": "code",
   "execution_count": null,
   "id": "16199575-7f2e-472a-a40e-affb8c08ae6d",
   "metadata": {},
   "outputs": [],
   "source": [
    "# Creo serie con elementos acios, NaN y None\n",
    "import pandas as pd\n",
    "import numpy as np\n",
    "s = pd.Series(['a', 'b', None, 'c', np.NaN,  'd'])\n",
    "print(s)"
   ]
  },
  {
   "cell_type": "code",
   "execution_count": null,
   "id": "21d61929-400e-4ccd-8fd1-6bbb76e93b32",
   "metadata": {},
   "outputs": [],
   "source": [
    "# Elimino elementos vacios:\n",
    "print(s.dropna())"
   ]
  },
  {
   "cell_type": "markdown",
   "id": "23255dd3-5c3c-4277-a369-faf8081fe789",
   "metadata": {},
   "source": [
    "## La clase de objetos DataFrame\n",
    "Un objeto del tipo DataFrame define un conjunto de datos estructurado en forma de tabla donde cada columna es un objeto de tipo Series, es decir, todos los datos de una misma columna son del mismo tipo, y las filas son registros que pueden contender datos de distintos tipos.\n",
    "\n",
    "Un DataFrame contiene dos índices, uno para las filas y otro para las columnas, y se puede acceder a sus elementos mediante los nombres de las filas y las columnas.\n",
    "\n",
    "Ejemplo. El siguiente DataFrame contiene información sobre los alumnos de un curso. Cada fila corresponde a un alumno y cada columna a una variable.\n",
    "\n",
    "![DataFrame](../images/pandas-dataframe.png)\n"
   ]
  },
  {
   "cell_type": "markdown",
   "id": "158a78c5-0a8d-4bee-b805-b947be1238c1",
   "metadata": {},
   "source": [
    "### Creación de un DataFrame\n",
    "Creación de un DataFrame a partir de un diccionario de listas\n",
    "Para crear un DataFrame a partir de un diccionario cuyas claves son los nombres de las columnas y los valores son listas con los datos de las columnas se utiliza el método:\n",
    "\n",
    "* `DataFrame(data=diccionario, index=filas, columns=columnas, dtype=tipos)` : Devuelve un objeto del tipo DataFrame cuyas columnas son las listas contenidas en los valores del diccionario diccionario, los nombres de filas indicados en la lista filas, los nombres de columnas indicados en la lista columnas y los tipos indicados en la lista tipos. La lista filas tiene que tener el mismo tamaño que las listas del diccionario, mientras que las listas columnas y tipos tienen que tener el mismo tamaño que el diccionario. Si no se pasa la lista de filas se utilizan como nombres los enteros empezando en 0. Si no se pasa la lista de columnas se utilizan como nombres las claves del diccionario. Si no se pasa la lista de tipos, se infiere.\n",
    " Los valores asociados a las claves del diccionario deben ser listas del mismo tamaño."
   ]
  },
  {
   "cell_type": "code",
   "execution_count": null,
   "id": "58b41e06-7d12-40ac-a042-63fcc9299e0d",
   "metadata": {},
   "outputs": [],
   "source": [
    "import pandas as pd\n",
    "datos = {'nombre':['María', 'Luis', 'Carmen', 'Antonio'],\n",
    "    'edad':[18, 22, 20, 21],\n",
    "    'grado':['Economía', 'Medicina', 'Arquitectura', 'Economía'],\n",
    "    'correo':['maria@gmail.com', 'luis@yahoo.es', 'carmen@gmail.com', 'antonio@gmail.com']\n",
    "    }\n",
    "df = pd.DataFrame(datos)\n",
    "print(df)"
   ]
  },
  {
   "cell_type": "markdown",
   "id": "22d1a9f0-b9b5-446e-a80a-067ede37bad1",
   "metadata": {},
   "source": [
    "### Creación de un DataFrame a partir de una lista de listas\n",
    "Para crear un DataFrame a partir de una lista de listas con los datos de las columnas se utiliza el siguiente método:\n",
    "\n",
    "* `DataFrame(data=listas, index=filas, columns=columnas, dtype=tipos)`: Devuelve un objeto del tipo DataFrame cuyas columnas son los valores de las listas de la lista listas, los nombres de filas indicados en la lista filas, los nombres de columnas indicados en la lista columnas y los tipos indicados en la lista tipos. La lista filas, tiene que tener el mismo tamaño que la lista listas mientras que las listas columnas y tipos tienen que tener el mismo tamaño que las listas anidadas en listas. Si no se pasa la lista de filas o de columnas se utilizan enteros empezando en 0. Si no se pasa la lista de tipos, se infiere.\n",
    "\n",
    " Si las listas anidadas en listas no tienen el mismo tamaño, las listas menores se rellenan con valores NaN."
   ]
  },
  {
   "cell_type": "code",
   "execution_count": null,
   "id": "74d3e8a8-211c-4ddd-89e4-9ad17eaae107",
   "metadata": {},
   "outputs": [],
   "source": [
    "import pandas as pd\n",
    "df = pd.DataFrame([['María', 18], ['Luis', 22], ['Carmen', 20]], columns=['Nombre', 'Edad'])\n",
    "print(df)"
   ]
  },
  {
   "cell_type": "markdown",
   "id": "8fca29b8-fca0-44a0-a033-2a17b7a5fbc7",
   "metadata": {},
   "source": [
    "### Creación de un DataFrame a partir de una lista de diccionarios\n",
    "Para crear un DataFrame a partir de una lista de diccionarios con los datos de las filas, se utiliza el siguiente método:\n",
    "\n",
    "* `DataFrame(data=diccionarios, index=filas, columns=columnas, dtype=tipos)` : Devuelve un objeto del tipo DataFrame cuyas filas contienen los valores de los diccionarios de la lista diccionarios, los nombres de filas indicados en la lista filas, los nombres de columnas indicados en la lista columnas y los tipos indicados en la lista tipos. La lista filas tiene que tener el mismo tamaño que la lista lista. Si no se pasa la lista de filas se utilizan enteros empezando en 0. Si no se pasa la lista de columnas se utilizan las claves de los diccionarios. Si no se pasa la lista de tipos, se infiere.\n",
    "\n",
    " Si los diccionarios no tienen las mismas claves, las claves que no aparecen en el diccionario se rellenan con valores NaN."
   ]
  },
  {
   "cell_type": "markdown",
   "id": "d93757ec-a19f-4daf-a59c-ee5b98a150d7",
   "metadata": {},
   "source": [
    "### Creación de un DataFrame a partir de un array\n",
    "Para crear un DataFrame a partir de un array de NumPy se utiliza el siguiente método:\n",
    "\n",
    "* `DataFrame(data=array, index=filas, columns=columnas, dtype=tipo)` : Devuelde un objeto del tipo DataFrame cuyas filas y columnas son las del array array, los nombres de filas indicados en la lista filas, los nombres de columnas indicados en la lista columnas y el tipo indicado en tipo. La lista filas tiene que tener el mismo tamaño que el número de filas del array y la lista columnas el mismo tamaño que el número de columnas del array. Si no se pasa la lista de filas se utilizan enteros empezando en 0. Si no se pasa la lista de columnas se utilizan las claves de los diccionarios. Si no se pasa la lista de tipos, se infiere."
   ]
  },
  {
   "cell_type": "code",
   "execution_count": null,
   "id": "6647e843-c1da-4dff-a79b-452313158d85",
   "metadata": {},
   "outputs": [],
   "source": [
    "import pandas as pd\n",
    "df = pd.DataFrame(np.random.randn(4, 3), columns=['a', 'b', 'c'])\n",
    "print(df)"
   ]
  },
  {
   "cell_type": "markdown",
   "id": "9278496f-957f-4093-916a-6968441f8b46",
   "metadata": {},
   "source": [
    "### Creación de un DataFrame a partir de un fichero CSV o Excel\n",
    "Dependiendo del tipo de fichero, existen distintas funciones para importar un DataFrame desde un fichero.\n",
    "\n",
    "* `read_csv(fichero.csv, sep=separador, header=n, index_col=m, na_values=no-validos, decimal=separador-decimal)` : Devuelve un objeto del tipo DataFrame con los datos del fichero CSV fichero.csv usando como separador de los datos la cadena separador. Como nombres de columnas se utiliza los valores de la fila n y como nombres de filas los valores de la columna m. Si no se indica m se utilizan como nombres de filas los enteros empezando en 0. Los valores incluídos en la lista no-validos se convierten en NaN. Para los datos numéricos se utiliza como separador de decimales el carácter indicado en separador-decimal.\n",
    "\n",
    "* `read_excel(fichero.xlsx, sheet_name=hoja, header=n, index_col=m, na_values=no-validos, decimal=separador-decimal)` : Devuelve un objeto del tipo DataFrame con los datos de la hoja de cálculo hoja del fichero Excel fichero.xlsx. Como nombres de columnas se utiliza los valores de la fila n y como nombres de filas los valores de la columna m. Si no se indica m se utilizan como nombres de filas los enteros empezando en 0. Los valores incluídos en la lista no-validos se convierten en NaN. Para los datos numéricos se utiliza como separador de decimales el carácter indicado en separador-decimal."
   ]
  },
  {
   "cell_type": "code",
   "execution_count": null,
   "id": "c23311e0-49dd-4d91-ba53-1cc7b19e4487",
   "metadata": {},
   "outputs": [],
   "source": [
    "# Importación del fichero datos-colesteroles.csv\n",
    "df = pd.read_csv(\n",
    "'https://raw.githubusercontent.com/asalber/manual-python/master/datos/colesteroles.csv', sep=';', decimal=',')\n"
   ]
  },
  {
   "cell_type": "code",
   "execution_count": null,
   "id": "2dced031-2e0b-4818-9d41-88fb7beb027b",
   "metadata": {},
   "outputs": [],
   "source": [
    "# extrae los 10 primeros regsiros\n",
    "print(df.head())"
   ]
  },
  {
   "cell_type": "code",
   "execution_count": null,
   "id": "449f8757-1d8f-43ad-a31b-dc43750f5e04",
   "metadata": {},
   "outputs": [],
   "source": [
    "# extrae los 10 ultimos regsiros\n",
    "print(df.tail())"
   ]
  },
  {
   "cell_type": "markdown",
   "id": "1bd35e7b-ec4d-45c2-99c0-250d393b4c05",
   "metadata": {},
   "source": [
    "### Exportación de ficheros\n",
    "También existen funciones para exportar un DataFrame a un fichero con diferentes formatos.\n",
    "\n",
    "* `df.to_csv(fichero.csv, sep=separador, columns=booleano, index=booleano)` : Exporta el DataFrame df al fichero fichero.csv en formato CSV usando como separador de los datos la cadena separador. Si se pasa True al parámetro columns se exporta también la fila con los nombres de columnas y si se pasa True al parámetro index se exporta también la columna con los nombres de las filas.\n",
    "\n",
    "* `df.to_excel(fichero.xlsx, sheet_name = hoja, columns=booleano, index=booleano)` : Exporta el DataFrame df a la hoja de cálculo hoja del fichero fichero.xlsx en formato Excel. Si se pasa True al parámetro columns se exporta también la fila con los nombres de columnas y si se pasa True al parámetro index se exporta también la columna con los nombres de las filas."
   ]
  },
  {
   "cell_type": "markdown",
   "id": "e044e128-c272-41bc-9a9a-0a10ab1a5bc4",
   "metadata": {},
   "source": [
    "### Atributos de un DataFrame\n",
    "Existen varias propiedades o métodos para ver las características de un DataFrame.\n",
    "\n",
    "* `df.info()` : Devuelve información (número de filas, número de columnas, índices, tipo de las columnas y memoria usado) sobre el DataFrame df.\n",
    "\n",
    "* `df.shape` : Devuelve una tupla con el número de filas y columnas del DataFrame df.\n",
    "\n",
    "* `df.size` : Devuelve el número de elementos del DataFrame.\n",
    "\n",
    "* `df.columns` : Devuelve una lista con los nombres de las columnas del DataFrame df.\n",
    "\n",
    "* `df.index` : Devuelve una lista con los nombres de las filas del DataFrame df.\n",
    "\n",
    "* `df.dtypes` : Devuelve una serie con los tipos de datos de las columnas del DataFrame df.\n",
    "\n",
    "* `df.head(n)` : Devuelve las n primeras filas del DataFrame df.\n",
    "\n",
    "* `df.tail(n)` : Devuelve las n últimas filas del DataFrame df."
   ]
  },
  {
   "cell_type": "code",
   "execution_count": null,
   "id": "fe40f2aa-ada5-4753-9d66-0e1f8ffc0e9a",
   "metadata": {},
   "outputs": [],
   "source": [
    "df = pd.read_csv(\n",
    "'https://raw.githubusercontent.com/asalber/manual-python/master/datos/colesterol.csv')\n",
    "df.info()"
   ]
  },
  {
   "cell_type": "code",
   "execution_count": null,
   "id": "097c35a8-e7e9-488a-86d4-936dde482c1d",
   "metadata": {},
   "outputs": [],
   "source": [
    "df.shape"
   ]
  },
  {
   "cell_type": "code",
   "execution_count": null,
   "id": "c0ca0580-3331-4e30-80c7-8a1b1c5bfe9c",
   "metadata": {},
   "outputs": [],
   "source": [
    "df.columns"
   ]
  },
  {
   "cell_type": "code",
   "execution_count": null,
   "id": "e695e2b3-a9b6-471e-b665-26944a1b70f7",
   "metadata": {},
   "outputs": [],
   "source": [
    "df.index"
   ]
  },
  {
   "cell_type": "code",
   "execution_count": null,
   "id": "78450e81-b2c8-4886-a782-ed709c8f5797",
   "metadata": {},
   "outputs": [],
   "source": [
    "df.dtypes"
   ]
  },
  {
   "cell_type": "code",
   "execution_count": null,
   "id": "7f51c784-079f-4fda-b568-cde26d9ee617",
   "metadata": {},
   "outputs": [],
   "source": [
    "df.head(20)"
   ]
  },
  {
   "cell_type": "code",
   "execution_count": null,
   "id": "57303f62-ec8c-40c9-ace4-2c0028c3838a",
   "metadata": {},
   "outputs": [],
   "source": [
    "df.tail(20)"
   ]
  },
  {
   "cell_type": "markdown",
   "id": "b61009a3-a187-4ec2-afac-dd5b7eb80bfc",
   "metadata": {},
   "source": [
    "### Renombrar los nombres de las filas y columnas\n",
    "Para cambiar el nombre de las filas y las columnas de un DataFrame se utiliza el siguiente método:\n",
    "\n",
    "* `df.rename(columns=columnas, index=filas)`: Devuelve el DataFrame que resulta de renombrar las columnas indicadas en las claves del diccionario columnas con sus valores y las filas indicadas en las claves del diccionario filas con sus valores en el DataFrame df."
   ]
  },
  {
   "cell_type": "code",
   "execution_count": null,
   "id": "853f12ba-2cbd-4a77-af8d-7c046760af64",
   "metadata": {},
   "outputs": [],
   "source": [
    "df = pd.read_csv(\n",
    "'https://raw.githubusercontent.com/asalber/manual-python/master/datos/colesterol.csv')\n",
    "print(df.rename(columns={'nombre':'nombre y apellidos', 'altura':'estatura'}, index={0:1000, 1:1001, 2:1002}))"
   ]
  },
  {
   "cell_type": "markdown",
   "id": "b5a9d268-1725-42da-8d09-a537159e3cb5",
   "metadata": {},
   "source": [
    "### Cambiar el índice de un DataFrame\n",
    "Aunque el índice de un DataFrame suele fijarse en la creación del mismo, en ocasiones puede ser necesario cambiar el índice una vez creado el DataFrame. Para ello se utiliza el siguiente método:\n",
    "\n",
    "* `df.set_index(keys = columnas, verify_integrity = bool)`: Devuelve el DataFrame que resulta de eliminar las columnas de la lista columnas y convertirlas en el nuevo índice. El parámetro verify_integrity recibe un booleano (False por defecto) y realiza una comprobación para evitar duplicados en la clave cuando recibe True."
   ]
  },
  {
   "cell_type": "code",
   "execution_count": null,
   "id": "6af2d685-1280-40ab-afc8-2d2be9f79fde",
   "metadata": {},
   "outputs": [],
   "source": [
    "df = pd.read_csv(\n",
    "'https://raw.githubusercontent.com/asalber/manual-python/master/datos/colesterol.csv')\n",
    "\n",
    "print(df.set_index(\"nombre\").head())"
   ]
  },
  {
   "cell_type": "markdown",
   "id": "0bf1e860-5924-4499-acce-cfb7b81feb2f",
   "metadata": {},
   "source": [
    "### Reindexar un DataFrame\n",
    "Para reordenar los índices de las filas y las columnas de un DataFrame, así como añadir o eliminar índices, se utiliza el siguiente método:\n",
    "\n",
    "* `df.reindex(index=filas, columns=columnas, fill_value=relleno)` : Devuelve el DataFrame que resulta de tomar del DataFrame df las filas con nombres en la lista filas y las columnas con nombres en la lista columnas. Si alguno de los nombres indicados en filas o columnas no existía en el DataFrame df, se crean filan o columnas nuevas rellenas con el valor relleno."
   ]
  },
  {
   "cell_type": "code",
   "execution_count": null,
   "id": "dd3702b4-4a65-4981-9953-39c97030578d",
   "metadata": {},
   "outputs": [],
   "source": [
    "df = pd.read_csv('https://raw.githubusercontent.com/asalber/manual-python/master/datos/colesterol.csv')\n",
    "print(df.reindex(index=[4, 3, 1], columns=['nombre', 'tensión', 'colesterol']))"
   ]
  },
  {
   "cell_type": "markdown",
   "id": "a2a95e98-ade7-49af-8be5-0df3ec854bab",
   "metadata": {},
   "source": [
    "### Acceso a los elementos de un DataFrame\n",
    "El acceso a los datos de un DataFrame se puede hacer a través de posiciones o través de los nombres de las filas y columnas.\n",
    "\n",
    "#### **Accesos mediante posiciones**\n",
    "* `df.iloc[i, j]` : Devuelve el elemento que se encuentra en la fila i y la columna j del DataFrame df. Pueden indicarse secuencias de índices para obtener partes del DataFrame.\n",
    "\n",
    "* `df.iloc[filas, columnas]` : Devuelve un DataFrame con los elementos de las filas de la lista filas y de las columnas de la lista columnas.\n",
    "\n",
    "* `df.iloc[i]` : Devuelve una serie con los elementos de la fila i del DataFrame df."
   ]
  },
  {
   "cell_type": "code",
   "execution_count": null,
   "id": "7c946eab-7447-42b9-b02a-73864cb39272",
   "metadata": {},
   "outputs": [],
   "source": [
    "import pandas as pd\n",
    "df = pd.read_csv(\n",
    "'https://raw.githubusercontent.com/asalber/manual-python/master/datos/colesterol.csv')\n",
    "print(df.iloc[1, 3])"
   ]
  },
  {
   "cell_type": "code",
   "execution_count": null,
   "id": "712d582c-c006-4383-8b08-2e140bff74e3",
   "metadata": {},
   "outputs": [],
   "source": [
    "print(df.iloc[1, :2])"
   ]
  },
  {
   "cell_type": "markdown",
   "id": "269cbaf9-71d7-49d8-9797-674d6743e86b",
   "metadata": {},
   "source": [
    "#### **Acceso a los elementos mediante nombres**\n",
    "* `df.loc[fila, columna]` : Devuelve el elemento que se encuentra en la fila con nombre fila y la columna de con nombre columna del DataFrame df.\n",
    "* `df.loc[filas, columnas]` : Devuelve un DataFrame con los elemento que se encuentra en las filas con los nombres de la lista filas y las columnas con los nombres de la lista columnas del DataFrame df.\n",
    "\n",
    "* `df[columna]` : Devuelve una serie con los elementos de la columna de nombre columna del DataFrame df.\n",
    "\n",
    "* `df.columna` : Devuelve una serie con los elementos de la columna de nombre columna del DataFrame df. Es similar al método anterior pero solo funciona cuando el nombre de la columna no tiene espacios en blanco."
   ]
  },
  {
   "cell_type": "code",
   "execution_count": null,
   "id": "427e6fd0-a0fd-44a2-9cd9-8b1541424969",
   "metadata": {},
   "outputs": [],
   "source": [
    "# Carga de datos y acceso mediante nombre:\n",
    "df = pd.read_csv(\n",
    "'https://raw.githubusercontent.com/asalber/manual-python/master/datos/colesterol.csv')\n",
    "print(df.loc[2, 'colesterol'])"
   ]
  },
  {
   "cell_type": "code",
   "execution_count": null,
   "id": "ce64df58-cce2-477f-867f-e7bb6e8c3035",
   "metadata": {},
   "outputs": [],
   "source": [
    "# Acceso Mediante nombre\n",
    "print(df.loc[:3, ('colesterol','peso')])"
   ]
  },
  {
   "cell_type": "code",
   "execution_count": null,
   "id": "32cafd1c-4c20-4420-91cd-39955f25e81e",
   "metadata": {},
   "outputs": [],
   "source": [
    "# Acceso Mediante nombre\n",
    "print(df['colesterol'])"
   ]
  },
  {
   "cell_type": "markdown",
   "id": "0ca51c4f-d564-4081-80b1-a42fefab3788",
   "metadata": {},
   "source": [
    "### Operaciones con las columnas de un DataFrame\n",
    "#### **Añadir columnas a un DataFrame**\n",
    "El procedimiento para añadir una nueva columna a un DataFrame es similar al de añadir un nuevo par a un diccionario, pero pasando los valores de la columna en una lista o serie.\n",
    "\n",
    "* `d[nombre] = lista`: Añade al DataFrame df una nueva columna con el nombre nombre y los valores de la lista lista. La lista debe tener el mismo tamaño que el número de filas de df.\n",
    "\n",
    "* `d[nombre] = serie`: Añade al DataFrame df una nueva columna con el nombre nombre y los valores de la serie serie. Si el tamaño de la serie es menor que el número de filas de df se rellena con valores NaN mientras que si es mayor se recorta."
   ]
  },
  {
   "cell_type": "code",
   "execution_count": null,
   "id": "f02ade4e-ed77-41db-80f1-3570797d8023",
   "metadata": {},
   "outputs": [],
   "source": [
    "# Carga de datos mediante series\n",
    "df = pd.read_csv(\n",
    "'https://raw.githubusercontent.com/asalber/manual-python/master/datos/colesterol.csv')\n",
    "df['diabetes'] = pd.Series([False, False, True, False, True])\n",
    "\n",
    "print(df)"
   ]
  },
  {
   "cell_type": "markdown",
   "id": "92074c35-82e6-4c85-93af-15966cd76be3",
   "metadata": {},
   "source": [
    "### **Operaciones sobre columnas**\n",
    "Puesto que los datos de una misma columna de un DataFrame son del mismo tipo, es fácil aplicar la misma operación a todos los elementos de la columna."
   ]
  },
  {
   "cell_type": "code",
   "execution_count": null,
   "id": "0a613174-9985-4bc7-943e-c19587a42b36",
   "metadata": {},
   "outputs": [],
   "source": [
    "# Carga de Datos y operacion de multiplicacion:\n",
    "df = pd.read_csv(\n",
    "'https://raw.githubusercontent.com/asalber/manual-python/master/datos/colesterol.csv')\n",
    "print(df['altura']*100)"
   ]
  },
  {
   "cell_type": "code",
   "execution_count": null,
   "id": "e6335e47-34a8-4f1d-8ae8-84037b4a9a03",
   "metadata": {},
   "outputs": [],
   "source": [
    "# Seleccion de datos por filtro\n",
    "print(df['sexo']=='M')"
   ]
  },
  {
   "cell_type": "markdown",
   "id": "528e2c7b-c616-4b77-b7c4-8566e88d2766",
   "metadata": {},
   "source": [
    "### **Aplicar funciones a columnas**\n",
    "Para aplicar funciones a todos los elementos de una columna se utiliza el siguiente método:\n",
    "\n",
    "* `df[columna].apply(f)` : Devuelve una serie con los valores que resulta de aplicar la función f a los elementos de la columna con nombre columna del DataFrame df."
   ]
  },
  {
   "cell_type": "code",
   "execution_count": null,
   "id": "6acfec6b-342e-430a-bba3-023f96546df6",
   "metadata": {},
   "outputs": [],
   "source": [
    "# Aplicar el logaritmo al campo altura:\n",
    "import pandas as pd\n",
    "from math import log\n",
    "df = pd.read_csv(\n",
    "'https://raw.githubusercontent.com/asalber/manual-python/master/datos/colesterol.csv')\n",
    "print(df['altura'].apply(log))"
   ]
  },
  {
   "cell_type": "markdown",
   "id": "c444a8d1-76ed-4d8e-be1f-cdcc17dd3c31",
   "metadata": {},
   "source": [
    "#### **Convertir una columna al tipo datetime**\n",
    "A menudo una columna contiene cadenas que representan fechas. Para convertir estas cadenas al tipo datetime se utiliza el siguiente método:\n",
    "\n",
    "* `to_datetime(columna, formato)`: Devuelve la serie que resulta de convertir las cadenas de la columna con el nombre columna en fechas del tipo datetime con el formado especificado en formato. ( Ver librería datetime)"
   ]
  },
  {
   "cell_type": "code",
   "execution_count": null,
   "id": "2c0e313d-bc37-4f43-a089-53bb9d115079",
   "metadata": {},
   "outputs": [],
   "source": [
    "import pandas as pd\n",
    "df = pd.DataFrame({'Name': ['María', 'Carlos', 'Carmen'], 'Nacimiento':['05-03-2000', '20-05-2001', '10-12-1999']})\n",
    "print(pd.to_datetime(df.Nacimiento, format = '%d-%m-%Y'))"
   ]
  },
  {
   "cell_type": "markdown",
   "id": "765e5198-b584-4184-be7a-e81cbabcd0fb",
   "metadata": {},
   "source": [
    "### **Resumen descriptivo de un DataFrame**\n",
    "Al igual que para las series, los siguientes métodos permiten resumir la información de un DataFrame por columnas:\n",
    "\n",
    "* `df.count()` : Devuelve una serie con el número de elementos que no son nulos ni NaN en cada columna del DataFrame df.\n",
    "* `df.sum()` : Devuelve una serie con la suma de los datos de las columnas del DataFrame df cuando los datos son de un tipo numérico, o la concatenación de ellos cuando son del tipo cadena str.\n",
    "* `df.cumsum()` : Devuelve un DataFrame con la suma acumulada de los datos de las columnas del DataFrame df cuando los datos son de un tipo numérico.\n",
    "* `df.min()` : Devuelve una serie con los menores de los datos de las columnas del DataFrame df.\n",
    "* `df.max()` : Devuelve una serie con los mayores de los datos de las columnas del DataFrame df.\n",
    "* `df.mean()` : Devuelve una serie con las medias de los datos de las columnas numéricas del DataFrame df.\n",
    "* `df.var()` : Devuelve una serie con las varianzas de los datos de las columnas numéricas del DataFrame df.\n",
    "* `df.std()` : Devuelve una serie con las desviaciones típicas de los datos de las columnas numéricas del DataFrame df.\n",
    "* `df.cov()` : Devuelve un DataFrame con las covarianzas de los datos de las columnas numéricas del DataFrame df.\n",
    "* `df.corr()` : Devuelve un DataFrame con los coeficientes de correlación de Pearson de los datos de las columnas numéricas del DataFrame df.\n",
    "* `df.describe(include = tipo)` : Devuelve un DataFrame con un resumen estadístico de las columnas del DataFrame df del tipo tipo. Para los datos numéricos (number) se calcula la media, la desviación típica, el mínimo, el máximo y los cuartiles. Para los datos no numéricos (object) se calcula el número de valores, el número de valores distintos, la moda y su frecuencia. Si no se indica el tipo solo se consideran las columnas numéricas."
   ]
  },
  {
   "cell_type": "code",
   "execution_count": null,
   "id": "a84c29ce-5908-42f5-9e04-c99cafe8a7c8",
   "metadata": {},
   "outputs": [],
   "source": [
    "import pandas as pd\n",
    "df = pd.read_csv(\n",
    "'https://raw.githubusercontent.com/asalber/manual-python/master/datos/colesterol.csv')\n",
    "df.head()"
   ]
  },
  {
   "cell_type": "code",
   "execution_count": null,
   "id": "e4714c3d-cfae-4cc2-a358-6f31189e50c9",
   "metadata": {},
   "outputs": [],
   "source": [
    "# Tamaño muestral\n",
    "df.edad.count()"
   ]
  },
  {
   "cell_type": "code",
   "execution_count": null,
   "id": "7aacd2df-3a66-4bf0-9106-c8bc31f34167",
   "metadata": {},
   "outputs": [],
   "source": [
    "# Media\n",
    "print(df.edad.mean())"
   ]
  },
  {
   "cell_type": "code",
   "execution_count": null,
   "id": "45b0519e-0246-4606-a833-9aa437b9010e",
   "metadata": {},
   "outputs": [],
   "source": [
    "# Varianza\n",
    "print(df.edad.var())"
   ]
  },
  {
   "cell_type": "code",
   "execution_count": null,
   "id": "a3375ae0-5f8a-4693-af00-798210b34453",
   "metadata": {},
   "outputs": [],
   "source": [
    "# Desviación típica\n",
    "print(df.edad.std()) "
   ]
  },
  {
   "cell_type": "code",
   "execution_count": null,
   "id": "56c03603-ca5d-4584-8ec2-15f709e01724",
   "metadata": {},
   "outputs": [],
   "source": [
    "# Matriz de covarianzas\n",
    "df.cov()"
   ]
  },
  {
   "cell_type": "code",
   "execution_count": null,
   "id": "a9fb7d30-8539-4c0c-b589-a6bab4a349d2",
   "metadata": {},
   "outputs": [],
   "source": [
    "# Matriz de correlación\n",
    "df.corr()"
   ]
  },
  {
   "cell_type": "code",
   "execution_count": null,
   "id": "59452977-dd2a-402a-9eae-f050765ba14a",
   "metadata": {},
   "outputs": [],
   "source": [
    "# Resumen descriptivo\n",
    "print(df.describe())"
   ]
  },
  {
   "cell_type": "code",
   "execution_count": null,
   "id": "7bbff53a-0c7c-45f0-a4f4-7fffdceea014",
   "metadata": {},
   "outputs": [],
   "source": [
    "print(df.describe(include='object'))"
   ]
  },
  {
   "cell_type": "markdown",
   "id": "2f407495-a4a3-4096-b577-cd800b806ddd",
   "metadata": {},
   "source": [
    "### **Eliminar columnas de un DataFrame**\n",
    "Para eliminar columnas de un DataFrame se utilizan los siguientes métodos:\n",
    "\n",
    "* `del d[nombre]` : Elimina la columna con nombre nombre del DataFrame df.\n",
    "\n",
    "* `df.pop(nombre)` : Elimina la columna con nombre nombre del DataFrame df y la devuelve como una serie."
   ]
  },
  {
   "cell_type": "code",
   "execution_count": null,
   "id": "ac0bf50b-dbb8-4511-87a5-c227507656f9",
   "metadata": {},
   "outputs": [],
   "source": [
    "import pandas as pd\n",
    "df = pd.read_csv('https://raw.githubusercontent.com/asalber/manual-python/master/datos/colesterol.csv')\n",
    "edad = df.pop('edad')\n",
    "print(df)"
   ]
  },
  {
   "cell_type": "code",
   "execution_count": null,
   "id": "be2158bf-b9d8-487b-9c54-875fca21602e",
   "metadata": {},
   "outputs": [],
   "source": [
    "print(edad)"
   ]
  },
  {
   "cell_type": "markdown",
   "id": "776bdb04-888a-495b-95c2-16fa1aa731c4",
   "metadata": {},
   "source": [
    "### **Operaciones con las filas de un DataFrame**\n",
    "#### **Añadir una fila a un DataFrame**\n",
    "Para añadir una fila a un DataFrame se utiliza el siguiente método:\n",
    "\n",
    "* `df.append(serie, ignore_index=True)` : Devuelve el DataFrame que resulta de añadir una fila al DataFrame df con los valores de la serie serie. Los nombres del índice de la serie deben corresponderse con los nombres de las columnas de df. Si no se pasa el parámetro ignore_index entonces debe pasarse el parámetro name a la serie, donde su argumento será el nombre de la nueva fila."
   ]
  },
  {
   "cell_type": "code",
   "execution_count": null,
   "id": "4bf12ffc-4f9d-4353-8d82-e50b2bdf099e",
   "metadata": {},
   "outputs": [],
   "source": [
    "import pandas as pd\n",
    "df = pd.read_csv(\n",
    "'https://raw.githubusercontent.com/asalber/manual-python/master/datos/colesterol.csv')\n",
    "print(df.tail())\n",
    "df = df.append(pd.Series(['Carlos Rivas', 28, 'H', 89.0, 1.78, 245.0], index=['nombre','edad','sexo','peso','altura','colesterol']), ignore_index=True)\n",
    "print(df.tail())"
   ]
  },
  {
   "cell_type": "markdown",
   "id": "04a16be1-d9b5-484a-9b84-98e93d5a4257",
   "metadata": {},
   "source": [
    "#### **Eliminar filas de un DataFrame**\n",
    "Para eliminar filas de un DataFrame se utilizan el siguiente método:\n",
    "\n",
    "* `df.drop(filas)` : Devuelve el DataFrame que resulta de eliminar las filas con los nombres indicados en la lista filas del DataFrame df."
   ]
  },
  {
   "cell_type": "code",
   "execution_count": null,
   "id": "4f30c1b0-2110-49fb-a8ff-5025cfc995d3",
   "metadata": {},
   "outputs": [],
   "source": [
    "import pandas as pd\n",
    "df = pd.read_csv('https://raw.githubusercontent.com/asalber/manual-python/master/datos/colesterol.csv')\n",
    "print(df.drop([1, 3]))"
   ]
  },
  {
   "cell_type": "markdown",
   "id": "9bdb5b77-bda1-40f7-ba44-a42abfb510c1",
   "metadata": {},
   "source": [
    "#### **Filtrar las filas de un DataFrame**\n",
    "Una operación bastante común con un DataFrame es obtener las filas que cumplen una determinada condición.\n",
    "\n",
    "* `df[condicion]` : Devuelve un DataFrame con las filas del DataFrame df que se corresponden con el valor True de la lista booleana condicion. condicion debe ser una lista de valores booleanos de la misma longitud que el número de filas del DataFrame."
   ]
  },
  {
   "cell_type": "code",
   "execution_count": null,
   "id": "092846fd-0e76-4991-b091-19c037956a34",
   "metadata": {},
   "outputs": [],
   "source": [
    "import pandas as pd\n",
    "df = pd.read_csv('https://raw.githubusercontent.com/asalber/manual-python/master/datos/colesterol.csv')\n",
    "print(df[(df['sexo']=='H') & (df['colesterol'] > 260)])"
   ]
  },
  {
   "cell_type": "markdown",
   "id": "21758668-41c2-4599-813e-86b74d2c482b",
   "metadata": {},
   "source": [
    "#### **Ordenar un DataFrame**\n",
    "Para ordenar un DataFrame de acuerdo a los valores de una determinada columna se utilizan los siguientes métodos:\n",
    "\n",
    "* `df.sort_values(columna, ascending=booleano)` : Devuelve el DataFrame que resulta de ordenar las filas del DataFrame df según los valores del la columna con nombre columna. Si argumento del parámetro ascending es True el orden es creciente y si es False decreciente.\n",
    "\n",
    "* `df.sort_index(ascending=booleano)` : Devuelve el DataFrame que resulta de ordenar las filas del DataFrame df según los nombres de las filas. Si el argumento del parámetro ascending es True el orden es creciente y si es False decreciente."
   ]
  },
  {
   "cell_type": "code",
   "execution_count": null,
   "id": "4e4916f2-d32d-47b7-9202-8f37c42dfc6f",
   "metadata": {},
   "outputs": [],
   "source": [
    "import pandas as pd\n",
    "df = pd.read_csv('https://raw.githubusercontent.com/asalber/manual-python/master/datos/colesterol.csv')\n",
    "print(df.sort_values('colesterol'))"
   ]
  },
  {
   "cell_type": "markdown",
   "id": "f2db97c9-f8ef-4cde-866d-fdf61990254b",
   "metadata": {},
   "source": [
    "#### **Eliminar las filas con dados desconocidos en un DataFrame**\n",
    "Para eliminar las filas de un DataFrame que contienen datos desconocidos NaN o nulos None se utiliza el siguiente método:\n",
    "\n",
    "* `s.dropna(subset=columnas)` : Devuelve el DataFrame que resulta de eliminar las filas que contienen algún dato desconocido o nulo en las columnas de la lista columna del DataFrame df. Si no se pasa un argumento al parámetro subset se aplica a todas las columnas del DataFrame."
   ]
  },
  {
   "cell_type": "code",
   "execution_count": null,
   "id": "de959008-03c4-4d72-8852-48d12432d20b",
   "metadata": {},
   "outputs": [],
   "source": [
    "import pandas as pd\n",
    "df = pd.read_csv('https://raw.githubusercontent.com/asalber/manual-python/master/datos/colesterol.csv')\n",
    "print(df.dropna())"
   ]
  },
  {
   "cell_type": "markdown",
   "id": "ffbc7689-4a97-41ab-a389-d061c56c6c99",
   "metadata": {},
   "source": [
    "## **Agrupación de un DataFrame**\n",
    "En muchas aplicaciones es útil agrupar los datos de un DataFrame de acuerdo a los valores de una o varias columnas (categorías), como por ejemplo el sexo o el país.\n",
    "![Agrupacion](../images/pandas-grupos.png)"
   ]
  },
  {
   "cell_type": "markdown",
   "id": "eddc84ce-e9d7-478e-9f7b-3f436b28f6b6",
   "metadata": {},
   "source": [
    "### **Dividir un DataFrame en grupos**\n",
    "Para dividir un DataFrame en grupos se utiliza el siguiente método:\n",
    "\n",
    "* `df.groupby(columnas).groups` : Devuelve un diccionario con cuyas claves son las tuplas que resultan de todas las combinaciones de los valores de las columnas con nombres en la lista columnas, y valores las listas de los nombres de las filas que contienen esos valores en las correspondientes columnas del DataFrame df."
   ]
  },
  {
   "cell_type": "code",
   "execution_count": null,
   "id": "52e72e68-e86a-477d-a4af-d7e5ddad629e",
   "metadata": {},
   "outputs": [],
   "source": [
    "import pandas as pd\n",
    "df = pd.read_csv(\n",
    "'https://raw.githubusercontent.com/asalber/manual-python/master/datos/colesterol.csv')\n",
    "print(df.groupby('sexo').groups)"
   ]
  },
  {
   "cell_type": "code",
   "execution_count": null,
   "id": "6c541ddc-9269-42e1-a6ec-8b41fa00c24f",
   "metadata": {},
   "outputs": [],
   "source": [
    "print(df.groupby(['sexo','edad']).groups)"
   ]
  },
  {
   "cell_type": "markdown",
   "id": "43139a3d-fc4e-44f5-9c72-1853e304b55f",
   "metadata": {},
   "source": [
    "#### **Para obtener un grupo concreto se utiliza el siguiente método:**\n",
    "\n",
    "* `df.groupby(columnas).get_group(valores)` : Devuelve un DataFrame con las filas del DataFrame df que cumplen que las columnas de la lista columnas presentan los valores de la tupla valores. La lista columnas y la tupla valores deben tener el mismo tamaño."
   ]
  },
  {
   "cell_type": "code",
   "execution_count": null,
   "id": "58f537f6-9d9c-45ad-b1e5-251aa35c89bb",
   "metadata": {},
   "outputs": [],
   "source": [
    "import pandas as pd\n",
    "df = pd.read_csv(\n",
    "'https://raw.githubusercontent.com/asalber/manual-python/master/datos/colesterol.csv')\n",
    "\n",
    "print(df.groupby('sexo').get_group('M'))"
   ]
  },
  {
   "cell_type": "markdown",
   "id": "01f0965f-2a88-40c4-8434-fcd3ed752fee",
   "metadata": {},
   "source": [
    "### **Aplicar una función de agregación por grupos**\n",
    "Una vez dividido el DataFame en grupos, es posible aplicar funciones de agregación a cada grupo mediante el siguiente método:\n",
    "\n",
    "* `df.groupby(columnas).agg(funciones)` : Devuelve un DataFrame con el resultado de aplicar las funciones de agregación de la lista funciones a cada uno de los DataFrames que resultan de dividir el DataFrame según las columnas de la lista columnas.\n",
    "\n",
    "Una función de agregación toma como argumento una lista y devuelve una único valor. Algunas de las funciones de agregación más comunes son:\n",
    "\n",
    "* `np.min` : Devuelve el mínimo de una lista de valores.\n",
    "* `np.max` : Devuelve el máximo de una lista de valores.\n",
    "* `np.count_nonzero` : Devuelve el número de valores no nulos de una lista de valores.\n",
    "* `np.sum` : Devuelve la suma de una lista de valores.\n",
    "* `np.mean` : Devuelve la media de una lista de valores.\n",
    "* `np.std` : Devuelve la desviación típica de una lista de valores."
   ]
  },
  {
   "cell_type": "code",
   "execution_count": null,
   "id": "f0bb68db-c56e-4ed9-b0ea-5706bff50ac5",
   "metadata": {},
   "outputs": [],
   "source": [
    "import pandas as pd\n",
    "df = pd.read_csv('https://raw.githubusercontent.com/asalber/manual-python/master/datos/colesterol.csv')\n",
    "print(df.groupby('sexo').agg(np.mean))"
   ]
  },
  {
   "cell_type": "code",
   "execution_count": null,
   "id": "b4206495-cc9a-4d4a-a8a7-89244460a6a3",
   "metadata": {},
   "outputs": [],
   "source": [
    "print(df.groupby('sexo').agg(np.std))"
   ]
  },
  {
   "cell_type": "markdown",
   "id": "5816d0a0-ed5a-4cf2-8a20-fcf47e718864",
   "metadata": {},
   "source": [
    "### **Reestructurar un DataFrame**\n",
    "A menudo la disposición de los datos en un DataFrame no es la adecuada para su tratamiento y es necesario reestructurar el DataFrame. Los datos que contiene un DataFrame pueden organizarse en dos formatos: ancho y largo.\n",
    "![Agru](../images/formatos-dataframe.png)\n",
    "\n",
    "### **Convertir un DataFrame a formato largo**\n",
    "Para convertir un DataFrame de formato ancho a formato largo (columnas a filas) se utiliza el siguiente método:\n",
    "\n",
    "* `df.melt(id_vars=id-columnas, value_vars=columnas, var_name=nombre-columnas, var_value=nombre-valores)` : Devuelve el DataFrame que resulta de convertir el DataFrame df de formato ancho a formato largo. Todas las columnas de lista columnas se reestructuran en dos nuevas columnas con nombres nombre-columnas y nombre-valores que contienen los nombres de las columnas originales y sus valores, respectivamente. Las columnas en la lista id-columnas se mantienen sin reestructurar. Si no se pasa la lista columnas entonces se reestructuran todas las columnas excepto las columnas de la lista id-columnas."
   ]
  },
  {
   "cell_type": "code",
   "execution_count": null,
   "id": "a3c645a0-903a-4ab8-9d97-08c73e5bd6ca",
   "metadata": {},
   "outputs": [],
   "source": [
    "import pandas as pd\n",
    "    datos = {'nombre':['María', 'Luis', 'Carmen'],\n",
    "    'edad':[18, 22, 20],\n",
    "    'Matemáticas':[8.5, 7, 3.5],\n",
    "    'Economía':[8, 6.5, 5],\n",
    "    'Programación':[6.5, 4, 9]}\n",
    "df = pd.DataFrame(datos)\n",
    "df1 = df.melt(id_vars=['nombre', 'edad'], var_name='asignatura', value_name='nota')\n",
    "print(df1)"
   ]
  },
  {
   "cell_type": "markdown",
   "id": "ccaea40f-7a41-46c7-95f4-8613849194f2",
   "metadata": {},
   "source": [
    "### **Convertir un DataFrame a formato ancho**\n",
    "Para convertir un DataFrame de formato largo a formato ancho (filas a columnas) se utiliza el siguiente método:\n",
    "\n",
    "* `df.pivot(index=filas, columns=columna, values=valores)` : Devuelve el DataFrame que resulta de convertir el DataFrame df de formato largo a formato ancho. Se crean tantas columnas nuevas como valores distintos haya en la columna columna. Los nombres de estas nuevas columnas son los valores de la columna columna mientras que sus valores se toman de la columna valores. Los nombres del índice del nuevo DataFrame se toman de los valores de la columna filas."
   ]
  },
  {
   "cell_type": "code",
   "execution_count": null,
   "id": "0533f051-c35f-4425-996c-98f31df61de6",
   "metadata": {},
   "outputs": [],
   "source": [
    "# Continuación del código anterior\n",
    "print(df1.pivot(index='nombre', columns='asignatura', values='nota'))"
   ]
  },
  {
   "cell_type": "markdown",
   "id": "34775be9-dcf8-45d6-aa06-b142a7bafeb7",
   "metadata": {},
   "source": [
    "### **Combinar varios DataFrames**\n",
    "Dos o más DataFrames pueden combinarse en otro DataFrame. La combinación puede ser de varias formas:\n",
    "\n",
    "* **Concatenación**: Combinación de varios DataFrames concatenando sus filas o columnas.\n",
    "* **Mezcla**: Combinación de varios DataFrames usando columnas o índices comunes.\n",
    "\n",
    "#### **Concatenación de DataFrames**.\n",
    "Concatenación de filas. Las filas de los DataFrames se concatenan unas a continuación de las otras para formar el nuevo DataFrame. Para ello es necesario que los DataFrames que se combinen tengan el mismo índice de columnas.\n",
    "![Concat](../images/pandas-concatenacion-filas.png)"
   ]
  },
  {
   "cell_type": "markdown",
   "id": "999f3326-be0a-4cce-8924-d58d573a9d40",
   "metadata": {},
   "source": [
    "#### **Concatenación de columnas**. \n",
    "Las columnas de los DataFrames se concatenan unas a continuación de las otras para formar el nuevo DataFrame. Para ello es necesario que los DataFrames que se combinen tengan el mismo índice de filas.\n",
    "![Concatcolumn](../images/pandas-concatenacion-columnas.png)\n"
   ]
  },
  {
   "cell_type": "markdown",
   "id": "71fd54dc-eadb-4a6d-88a0-cbfb617454af",
   "metadata": {},
   "source": [
    "#### **Para concatenar dos o más DataFrames se utiliza el siguiente método:**\n",
    "\n",
    "* `df.concat(dataframes, axis = eje)`: Devuelve el DataFrame que resulta de concatenar los DataFrames de la lista dataframes. Si eje es 0 (valor por defecto) la concatenación se realiza por filas, y si eje es 1 se realiza por columnas.\n",
    "\n",
    "Si los DataFrames que se concatenan por filas no tienen el mismo índice de columnas, el DataFrame resultante incluirá todas las columnas existentes en los DataFrames y rellenará con valores **NaN** los datos no disponibles. Si los DataFrames que se concatenan por columnas no tienen el mismo índice de filas, el DataFrame resultante incluirá todas las filas existentes en los DataFrames y rellenará con valores NaN los datos no disponibles."
   ]
  },
  {
   "cell_type": "code",
   "execution_count": null,
   "id": "cb726df6-4abd-438d-a8d2-1482f67190bb",
   "metadata": {},
   "outputs": [],
   "source": [
    "# Concatenar dataframes\n",
    "import pandas as pd\n",
    "df1 = pd.DataFrame({\"Nombre\":[\"Carmen\", \"Luis\"], \n",
    "    \"Sexo\":[\"Mujer\", \"Hombre\"], \"Edad\":[22, 18]}).set_index(\"Nombre\")\n",
    "df2 = pd.DataFrame({\"Nombre\":[\"María\", \"Pedro\"], \n",
    "    \"Sexo\":[\"Mujer\", \"Hombre\"], \"Edad\":[25, 30]}).set_index(\"Nombre\")\n",
    "df = pd.concat([df1, df2])\n",
    "print(df)"
   ]
  },
  {
   "cell_type": "code",
   "execution_count": null,
   "id": "043eb9ce-fecd-4b21-8804-030d93e1b848",
   "metadata": {},
   "outputs": [],
   "source": [
    "# Concatenar dataframes\n",
    "import pandas as pd\n",
    "df1 = pd.DataFrame({\"Nombre\":[\"Carmen\", \"Luis\", \"María\"], \n",
    "    Sexo\":[\"Mujer\", \"Hombre\", \"Mujer\"]}).set_index(\"Nombre\")\n",
    "df2 = pd.DataFrame({\"Nombre\":[\"Carmen\", \"Luis\", \"María\"], \n",
    "    \"Edad\":[22, 18, 25]}).set_index(\"Nombre\")\n",
    "df = pd.concat([df1, df2], axis = 1)\n",
    "print(df)"
   ]
  },
  {
   "cell_type": "markdown",
   "id": "65cda8dd-095b-49f3-bc04-25f18af2f57c",
   "metadata": {},
   "source": [
    "#### **Mezcla de DataFrames**\n",
    "La mezcla de DataFrames permite integrar filas de dos DataFrames que contienen información en común en una o varias columnas o índices que se conocen como clave.\n",
    "\n",
    "Para mezclar dos DataFrames se utiliza el siguiente método:\n",
    "\n",
    "* `df.merge(df1, df2, on = clave, how = tipo)`: Devuelve el DataFrame que resulta de mezclar el DataFrame df2 con el DataFrame df1, usando como claves las columnas de la lista clave y siguiendo el método de mezcla indicado por tipo.\n",
    "El tipo de mezcla puede ser\n",
    "\n",
    "* **\"inner\" (por defecto)**: El DataFrame resultante solo contiene las filas cuyos valores en la clave están en los dos DataFrames. Es equivalente a la intersección de conjuntos."
   ]
  },
  {
   "cell_type": "code",
   "execution_count": null,
   "id": "deb8f2b5-7add-4bae-bf8d-101f1f1bef1c",
   "metadata": {},
   "outputs": [],
   "source": [
    "import pandas as pd\n",
    "df1 = pd.DataFrame({\"Nombre\":[\"Carmen\", \"Luis\", \"María\"],  \"Sexo\":[\"Mujer\", \"Hombre\", \"Mujer\"]})\n",
    "df2 = pd.DataFrame({\"Nombre\":[\"María\", \"Pedro\", \"Luis\"], \"Edad\":[25, 30, 18]]})\n",
    "df = pd.merge(df1, df2, on=\"Nombre\")\n",
    "print(df)"
   ]
  },
  {
   "cell_type": "markdown",
   "id": "df3af1ad-a511-4c6b-95f2-bf9692dc44ea",
   "metadata": {},
   "source": [
    "* **\"outer\"**: El DataFrame resultante contiene todas las filas de los dos DataFrames. Si una fila de un DataFrame no puede emparejarse con otra los mismos valores en la clave en el otro DataFrame, la fila se añade igualmente al DataFrame resultante rellenando las columnas del otro DataFrame con el valor NaN. Es equivalente a la unión de conjuntos."
   ]
  },
  {
   "cell_type": "code",
   "execution_count": null,
   "id": "28001163-1da1-47c5-9429-74c8c5fd1e7c",
   "metadata": {},
   "outputs": [],
   "source": [
    "df1 = pd.DataFrame({\"Nombre\":[\"Carmen\", \"Luis\", \"María\"],  \"Sexo\":[\"Mujer\", \"Hombre\", \"Mujer\"]})\n",
    "df2 = pd.DataFrame({\"Nombre\":[\"María\", \"Pedro\", \"Luis\"], \"Edad\":[25, 30, 18]]})\n",
    "df = pd.merge(df1, df2, on=\"Nombre\", how=\"outer\")\n",
    "print(df)"
   ]
  },
  {
   "cell_type": "markdown",
   "id": "7af48ccd-6497-4f1e-9f25-ed310a6ec5f5",
   "metadata": {},
   "source": [
    "* **\"left\"**: El DataFrame resultante contiene todas las filas del primer DataFrame y descarta las filas del segundo DataFrame que no pueden emparejarse con alguna fila del primer DataFrame a través de la clave."
   ]
  },
  {
   "cell_type": "markdown",
   "id": "8e495af8-c089-4cdc-82d6-aa079dd17337",
   "metadata": {},
   "source": [
    "df1 = pd.DataFrame({\"Nombre\":[\"Carmen\", \"Luis\", \"María\"],  \"Sexo\":[\"Mujer\", \"Hombre\", \"Mujer\"]})\n",
    "df2 = pd.DataFrame({\"Nombre\":[\"María\", \"Pedro\", \"Luis\"], \"Edad\":[25, 30, 18]]})\n",
    "df = pd.merge(df1, df2, on=\"Nombre\", how=\"left\")\n",
    "print(df)"
   ]
  },
  {
   "cell_type": "markdown",
   "id": "f5d3ece7-9391-4466-997f-4ed064aeac0d",
   "metadata": {},
   "source": [
    "* **\"right\"**: El DataFrame resultante contiene todas las filas del segundo DataFrame y descarta las filas del primer DataFrame que no pueden emparejarse con alguna fila del segundo DataFrame a través de la clave."
   ]
  },
  {
   "cell_type": "code",
   "execution_count": null,
   "id": "a39a08af-dc06-4872-ace2-f219efcb56ed",
   "metadata": {},
   "outputs": [],
   "source": [
    "import pandas as pd\n",
    "df1 = pd.DataFrame({\"Nombre\":[\"Carmen\", \"Luis\", \"María\"],  \"Sexo\":[\"Mujer\", \"Hombre\", \"Mujer\"]})\n",
    "df2 = pd.DataFrame({\"Nombre\":[\"María\", \"Pedro\", \"Luis\"], \"Edad\":[25, 30, 18]]})\n",
    "df = pd.merge(df1, df2, on=\"Nombre\", how=\"right\")\n",
    "print(df)"
   ]
  },
  {
   "cell_type": "markdown",
   "id": "880a6e0d-0a56-4fa7-9961-9433fb9d2f73",
   "metadata": {},
   "source": [
    "## Utilidades y enlaces de interés:\n",
    "\n",
    "* CheatSheet de Pandas: [Resumen de Comandos](../docs/Pandas_Cheat_Sheet.pdf)"
   ]
  },
  {
   "cell_type": "markdown",
   "id": "49ef4afd-f892-411f-8c72-e3091f8d71c6",
   "metadata": {},
   "source": [
    "## Fin de la sección **\"03-Pandas\"**:\n",
    "--------------------------\n",
    "* **Validado por el Alumno:** \n",
    "* **Fecha:**"
   ]
  },
  {
   "cell_type": "code",
   "execution_count": null,
   "id": "6f3667f3-ff63-4de4-9259-da11119ba2dd",
   "metadata": {},
   "outputs": [],
   "source": []
  }
 ],
 "metadata": {
  "kernelspec": {
   "display_name": "Python 3 (ipykernel)",
   "language": "python",
   "name": "python3"
  },
  "language_info": {
   "codemirror_mode": {
    "name": "ipython",
    "version": 3
   },
   "file_extension": ".py",
   "mimetype": "text/x-python",
   "name": "python",
   "nbconvert_exporter": "python",
   "pygments_lexer": "ipython3",
   "version": "3.9.12"
  }
 },
 "nbformat": 4,
 "nbformat_minor": 5
}
