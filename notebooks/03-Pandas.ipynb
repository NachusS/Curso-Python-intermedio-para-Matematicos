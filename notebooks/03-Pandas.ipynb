{
 "cells": [
  {
   "cell_type": "markdown",
   "metadata": {},
   "source": [
    "# Modulo PANDAS:\n",
    "\n",
    "Curso **\"Python para Matemáticos, nivel intermedio\"**. (3. Seccion)\n",
    "Para mayor información visite: http://pandas.pydata.org\n",
    "\n",
    "![Pandas](../images/pandas.png \"Pandas\")"
   ]
  },
  {
   "cell_type": "markdown",
   "metadata": {},
   "source": [
    "Nota:\n",
    ">Autor de los Apuntes del curso de Pandas **Alfredo Sánchez Alberca**. [Web: Aprende con Alf](https://aprendeconalf.es/docencia/python/manual/pandas/)"
   ]
  },
  {
   "cell_type": "markdown",
   "metadata": {},
   "source": [
    "# Indice contenido:\n",
    "1. Introducción\n",
    "1. Tipos de datos de Pandas\n",
    "1. La clase de objetos Series"
   ]
  },
  {
   "cell_type": "markdown",
   "metadata": {},
   "source": [
    "## Introducción:\n",
    "\n",
    "Pandas es una librería de Python especializada en el manejo y análisis de estructuras de datos.\n",
    "\n",
    "Las principales características de esta librería son:\n",
    "* Define nuevas estructuras de datos basadas en los arrays de la librería NumPy pero con nuevas funcionalidades.\n",
    "* Permite leer y escribir fácilmente ficheros en formato CSV, Excel y bases de datos SQL.\n",
    "* Permite acceder a los datos mediante índices o nombres para filas y columnas.\n",
    "* Ofrece métodos para reordenar, dividir y combinar conjuntos de datos.\n",
    "* Permite trabajar con series temporales.\n",
    "* Realiza todas estas operaciones de manera muy eficiente.\n"
   ]
  },
  {
   "cell_type": "markdown",
   "metadata": {},
   "source": [
    "## Tipos de datos de Pandas:\n",
    "Pandas dispone de tres estructuras de datos diferentes:\n",
    "\n",
    "* Series: Estructura de una dimensión.\n",
    "* DataFrame: Estructura de dos dimensiones (tablas).\n",
    "* Panel: Estructura de tres dimensiones (cubos).\n",
    "\n",
    "Estas estructuras se construyen a partir de arrays de la librería NumPy, añadiendo nuevas funcionalidades."
   ]
  },
  {
   "cell_type": "markdown",
   "metadata": {},
   "source": [
    "## La clase de objetos Series:\n",
    "\n",
    "Son estructuras similares a los arrays de **una dimensión**. Son homogéneas, es decir, sus elementos tienen que ser del mismo tipo, y su tamaño es inmutable, es decir, no se puede cambiar, aunque si su contenido.\n",
    "\n",
    "Dispone de un **índice** que asocia un nombre a cada elemento del la serie, a través de la cuál se accede al elemento.\n",
    "\n",
    "Ejemplo. La siguiente serie contiene las asignaturas de un curso.\n",
    "![Series](../images/pandas-series.png)\n"
   ]
  },
  {
   "cell_type": "markdown",
   "metadata": {},
   "source": [
    "### Creación de series\n",
    "#### Creación de una serie a partir de una lista:\n",
    "`Series(data=lista, index=indices, dtype=tipo)` : \n",
    "\n",
    "Devuelve un objeto de tipo Series con los datos de la lista lista, las filas especificados en la lista indices y el tipo de datos indicado en tipo. Si no se pasa la lista de índices se utilizan como índices los enteros del 0 al $n-1$, donde $n$ es el tamaño de la serie. Si no se pasa el tipo de dato se infiere."
   ]
  },
  {
   "cell_type": "markdown",
   "metadata": {},
   "source": [
    "Lo primero que tenemos que hacer es importar la libreria:\n",
    "\n",
    "* **import** pandas **as** pd"
   ]
  },
  {
   "cell_type": "code",
   "execution_count": null,
   "metadata": {},
   "outputs": [],
   "source": [
    "import pandas as pd\n",
    "s = pd.Series(['Matemáticas', 'Historia', 'Economía', 'Programación', 'Inglés'], dtype='string')\n",
    "print(s)"
   ]
  },
  {
   "cell_type": "markdown",
   "metadata": {},
   "source": [
    "#### Creación de una serie a partir de un diccionario\n",
    "\n",
    "`Series(data=diccionario, index=indices)`: \n",
    "\n",
    "Devuelve un objeto de tipo Series con los valores del diccionario `diccionario` y las filas especificados en la lista `indices`. Si no se pasa la lista de índices se utilizan como índices las claves del diccionario.\n"
   ]
  },
  {
   "cell_type": "code",
   "execution_count": null,
   "metadata": {},
   "outputs": [],
   "source": [
    "s = pd.Series({'Matemáticas': 6.0,  'Economía': 4.5, 'Programación': 8.5})\n",
    "print(s)"
   ]
  },
  {
   "cell_type": "markdown",
   "metadata": {},
   "source": [
    "### Atributos de una serie\n",
    "Existen varias propiedades o **métodos** para ver las características de los atributos de una serie.\n",
    "\n",
    "* `s.size` : Devuelve el número de elementos de la serie s.\n",
    "\n",
    "* `s.index` : Devuelve una lista con los nombres de las filas del DataFrame s.\n",
    "\n",
    "* `s.dtype` : Devuelve el tipo de datos de los elementos de la serie s."
   ]
  },
  {
   "cell_type": "code",
   "execution_count": null,
   "metadata": {},
   "outputs": [],
   "source": [
    "s = pd.Series([1, 2, 2, 3, 3, 3, 4, 4, 4, 4])\n",
    "print(s)"
   ]
  },
  {
   "cell_type": "code",
   "execution_count": null,
   "metadata": {},
   "outputs": [],
   "source": [
    "# Tamaño de una serie:\n",
    "s.size"
   ]
  },
  {
   "cell_type": "code",
   "execution_count": null,
   "metadata": {},
   "outputs": [],
   "source": [
    "# Indices de una serie:\n",
    "s.index"
   ]
  },
  {
   "cell_type": "code",
   "execution_count": null,
   "metadata": {},
   "outputs": [],
   "source": [
    "# Tipos de datos de una serie:\n",
    "s.dtype"
   ]
  },
  {
   "cell_type": "markdown",
   "metadata": {},
   "source": [
    "### Acceso a los elementos de una serie\n",
    "\n",
    "El acceso a los elementos de un objeto del tipo Series puede ser a través de **posiciones** o través de **índices (nombres)**.\n",
    "\n",
    "#### Acceso por posición:\n",
    "\n",
    "Se realiza de forma similar a como se accede a los elementos de un array.\n",
    "\n",
    "* `s[i]` : Devuelve el elemento que ocupa la posición i+1 en la serie s.\n",
    "* `s[posiciones]`: Devuelve otra serie con los elementos que ocupan las posiciones de la lista posiciones.\n",
    "\n",
    "#### Acceso por índice:\n",
    "* `s[nombre]` : Devuelve el elemento con el nombre nombre en el índice.\n",
    "* `s[nombres]` : Devuelve otra serie con los elementos correspondientes a los nombres indicadas en la lista nombres en el índice."
   ]
  },
  {
   "cell_type": "code",
   "execution_count": null,
   "metadata": {},
   "outputs": [],
   "source": [
    "s = pd.Series({'Matemáticas': 6.0,  'Economía': 4.5, 'Programación': 8.5})\n",
    "print(s)"
   ]
  },
  {
   "cell_type": "code",
   "execution_count": null,
   "metadata": {},
   "outputs": [],
   "source": [
    "# Acceso por posiciones\n",
    "s[1:3]"
   ]
  },
  {
   "cell_type": "code",
   "execution_count": null,
   "metadata": {},
   "outputs": [],
   "source": [
    "# Acceso por nombre de índice:\n",
    "s['Economía']"
   ]
  },
  {
   "cell_type": "code",
   "execution_count": null,
   "metadata": {},
   "outputs": [],
   "source": [
    "s[['Programación', 'Matemáticas']]"
   ]
  },
  {
   "cell_type": "markdown",
   "metadata": {},
   "source": [
    "### Resumen descriptivo de una serie\n",
    "Las siguientes métodos permiten resumir varios aspectos de una serie:\n",
    "\n",
    "* `s.count()` : Devuelve el número de elementos que no son nulos ni NaN en la serie s.\n",
    "* `s.sum()` : Devuelve la suma de los datos de la serie s cuando los datos son de un tipo numérico, o la concatenación de ellos cuando son del tipo cadena str.\n",
    "* `s.cumsum()` : Devuelve una serie con la suma acumulada de los datos de la serie s cuando los datos son de un tipo numérico.\n",
    "* `s.value_counts()` : Devuelve una serie con la frecuencia (número de repeticiones) de cada valor de la serie s.\n",
    "* `s.min()` : Devuelve el menor de los datos de la serie s.\n",
    "* `s.max()` : Devuelve el mayor de los datos de la serie s.\n",
    "* `s.mean()` : Devuelve la media de los datos de la serie s cuando los datos son de un tipo numérico.\n",
    "* `s.var()` : Devuelve la varianza de los datos de la serie s cuando los datos son de un tipo numérico.\n",
    "* `s.std()` : Devuelve la desviación típica de los datos de la serie s cuando los datos son de un tipo numérico.\n",
    "* `s.describe()`: Devuelve una serie con un resumen descriptivo que incluye el número de datos, su suma, el mínimo, el máximo, la media, la desviación típica y los cuartiles."
   ]
  },
  {
   "cell_type": "code",
   "execution_count": null,
   "metadata": {},
   "outputs": [],
   "source": [
    "# Ejemplos de los métodos:\n",
    "s = pd.Series([1, 1, 1, 1, 2, 2, 2, 3, 3, 4])"
   ]
  },
  {
   "cell_type": "code",
   "execution_count": null,
   "metadata": {},
   "outputs": [],
   "source": [
    "# Tamaño muestral\n",
    "s.count()  "
   ]
  },
  {
   "cell_type": "code",
   "execution_count": null,
   "metadata": {},
   "outputs": [],
   "source": [
    "# Suma\n",
    "s.sum()"
   ]
  },
  {
   "cell_type": "code",
   "execution_count": null,
   "metadata": {},
   "outputs": [],
   "source": [
    "# Suma acumulada\n",
    "s.cumsum()  "
   ]
  },
  {
   "cell_type": "code",
   "execution_count": null,
   "metadata": {},
   "outputs": [],
   "source": [
    "# Frecuencias absolutas\n",
    "s.value_counts()  "
   ]
  },
  {
   "cell_type": "code",
   "execution_count": null,
   "metadata": {},
   "outputs": [],
   "source": [
    "# Frecuencias relativas\n",
    "s.value_counts(normalize=True)  "
   ]
  },
  {
   "cell_type": "code",
   "execution_count": null,
   "metadata": {},
   "outputs": [],
   "source": [
    "# Mínimo\n",
    "s.min()"
   ]
  },
  {
   "cell_type": "code",
   "execution_count": null,
   "metadata": {},
   "outputs": [],
   "source": [
    "# Máximo\n",
    "s.max()  "
   ]
  },
  {
   "cell_type": "code",
   "execution_count": null,
   "metadata": {},
   "outputs": [],
   "source": [
    "# Media\n",
    "s.mean() "
   ]
  },
  {
   "cell_type": "code",
   "execution_count": null,
   "metadata": {},
   "outputs": [],
   "source": [
    "# Varianza\n",
    "s.var()"
   ]
  },
  {
   "cell_type": "code",
   "execution_count": null,
   "metadata": {},
   "outputs": [],
   "source": [
    "# Desviación típica\n",
    "s.std()"
   ]
  },
  {
   "cell_type": "code",
   "execution_count": null,
   "metadata": {},
   "outputs": [],
   "source": [
    "# Resume descriptivo\n",
    "s.describe()"
   ]
  },
  {
   "cell_type": "markdown",
   "metadata": {},
   "source": [
    "### Aplicar operaciones a una serie\n",
    "Los operadores binarios (+, *, /, etc.) pueden utilizarse con una serie, y devuelven otra serie con el resultado de aplicar la operación a cada elemento de la serie."
   ]
  },
  {
   "cell_type": "code",
   "execution_count": null,
   "metadata": {},
   "outputs": [],
   "source": [
    "# import pandas as pd\n",
    "s = pd.Series([1, 2, 3, 4])\n",
    "# Multiplicar por 2 todos los elementos de la serie\n",
    "print(s * 2)"
   ]
  },
  {
   "cell_type": "code",
   "execution_count": null,
   "metadata": {},
   "outputs": [],
   "source": [
    "# Módulo\n",
    "print(s % 2)"
   ]
  },
  {
   "cell_type": "code",
   "execution_count": null,
   "metadata": {},
   "outputs": [],
   "source": [
    "# Cambiamos los datos de la serie a texto:\n",
    "s = pd.Series(['a', 'b', 'c'])\n",
    "s * 5"
   ]
  },
  {
   "cell_type": "markdown",
   "metadata": {},
   "source": [
    "### Aplicar funciones a una serie\n",
    "También es posible aplicar una función a cada elemento de la serie mediante el siguiente método:\n",
    "\n",
    "* `s.apply(f)` : Devuelve una serie con el resultado de aplicar la función f a cada uno de los elementos de la serie s."
   ]
  },
  {
   "cell_type": "code",
   "execution_count": null,
   "metadata": {},
   "outputs": [],
   "source": [
    "# Importamos de la libreria math el logaritmo\n",
    "import pandas as pd\n",
    "from math import log\n",
    "s = pd.Series([1, 2, 3, 4])\n",
    "s.apply(log)"
   ]
  },
  {
   "cell_type": "code",
   "execution_count": null,
   "metadata": {},
   "outputs": [],
   "source": [
    "# Funciones para aplicar a series de tipo texto:\n",
    "s = pd.Series(['a', 'b', 'c'])\n",
    "s.apply(str.upper)"
   ]
  },
  {
   "cell_type": "markdown",
   "metadata": {},
   "source": [
    "### Filtrar una serie\n",
    "Para filtrar una serie y quedarse con los valores que cumplen una determinada condición se utiliza el siguiente método:\n",
    "\n",
    "* `s[condicion]` : Devuelve una serie con los elementos de la serie s que se corresponden con el valor True de la lista booleana condicion. condicion debe ser una lista de valores booleanos de la misma longitud que la serie."
   ]
  },
  {
   "cell_type": "code",
   "execution_count": null,
   "metadata": {},
   "outputs": [],
   "source": [
    "# Aplicamos filtro a la siguiente serie: (Mascara)\n",
    "s = pd.Series({'Matemáticas': 6.0,  'Economía': 4.5, 'Programación': 8.5})\n",
    "print(s[s > 5])"
   ]
  },
  {
   "cell_type": "markdown",
   "metadata": {},
   "source": [
    "### Ordenar una serie\n",
    "Para ordenar una serie se utilizan los siguientes métodos:\n",
    "\n",
    "* `s.sort_values(ascending=booleano)` : Devuelve la serie que resulta de ordenar los valores la serie s. Si argumento del parámetro ascending es True el orden es creciente y si es False decreciente.\n",
    "\n",
    "* `df.sort_index(ascending=booleano)` : Devuelve la serie que resulta de ordenar el índice de la serie s. Si el argumento del parámetro ascending es True el orden es creciente y si es False decreciente."
   ]
  },
  {
   "cell_type": "code",
   "execution_count": null,
   "metadata": {},
   "outputs": [],
   "source": [
    "# Ordenación de una serie, por su valor:\n",
    "s = pd.Series({'Matemáticas': 6.0,  'Economía': 4.5, 'Programación': 8.5})\n",
    "print(s.sort_values())"
   ]
  },
  {
   "cell_type": "code",
   "execution_count": null,
   "metadata": {},
   "outputs": [],
   "source": [
    "# Ordenación de la Serie por el índice:\n",
    "print(s.sort_index(ascending = False))"
   ]
  },
  {
   "cell_type": "markdown",
   "metadata": {},
   "source": [
    "### Eliminar los dados desconocidos en una serie\n",
    "Los datos desconocidos representan en Pandas por *NaN* y los nulos por *None*. Tanto unos como otros suelen ser un problema a la hora de realizar algunos análisis de datos, por lo que es habitual eliminarlos. Para eliminarlos de una serie se utiliza el siguiente método:\n",
    "\n",
    "* `s.dropna()` : Elimina los datos desconocidos o nulos de la serie s."
   ]
  },
  {
   "cell_type": "code",
   "execution_count": null,
   "metadata": {},
   "outputs": [],
   "source": [
    "# Creo serie con elementos acios, NaN y None\n",
    "import pandas as pd\n",
    "import numpy as np\n",
    "s = pd.Series(['a', 'b', None, 'c', np.NaN,  'd'])\n",
    "print(s)"
   ]
  },
  {
   "cell_type": "code",
   "execution_count": null,
   "metadata": {},
   "outputs": [],
   "source": [
    "# Elimino elementos vacios:\n",
    "print(s.dropna())"
   ]
  },
  {
   "cell_type": "markdown",
   "metadata": {},
   "source": [
    "## La clase de objetos DataFrame\n",
    "Un **objeto** del tipo **DataFrame** define un conjunto de datos estructurado en forma de tabla donde cada columna es un objeto de tipo Series, es decir, todos los datos de una misma columna son del mismo tipo, y las filas son registros que pueden contender datos de distintos tipos.\n",
    "\n",
    "Un DataFrame contiene dos índices, uno para las filas y otro para las columnas, y se puede acceder a sus elementos mediante los nombres de las filas y las columnas.\n",
    "\n",
    "Ejemplo. El siguiente DataFrame contiene información sobre los alumnos de un curso. Cada fila corresponde a un alumno y cada columna a una variable.\n",
    "\n",
    "![DataFrame](../images/pandas-dataframe.png)\n"
   ]
  },
  {
   "cell_type": "markdown",
   "metadata": {},
   "source": [
    "### Creación de un DataFrame\n",
    "Creación de un DataFrame a partir de un diccionario de listas\n",
    "Para crear un DataFrame a partir de un diccionario cuyas claves son los nombres de las columnas y los valores son listas con los datos de las columnas se utiliza el método:\n",
    "\n",
    "* `DataFrame(data=diccionario, index=filas, columns=columnas, dtype=tipos)` : Devuelve un objeto del tipo DataFrame cuyas columnas son las listas contenidas en los valores del diccionario diccionario, los nombres de filas indicados en la lista filas, los nombres de columnas indicados en la lista columnas y los tipos indicados en la lista tipos. La lista filas tiene que tener el mismo tamaño que las listas del diccionario, mientras que las listas columnas y tipos tienen que tener el mismo tamaño que el diccionario. Si no se pasa la lista de filas se utilizan como nombres los enteros empezando en 0. Si no se pasa la lista de columnas se utilizan como nombres las claves del diccionario. Si no se pasa la lista de tipos, se infiere.\n",
    " Los valores asociados a las claves del diccionario deben ser listas del mismo tamaño."
   ]
  },
  {
   "cell_type": "code",
   "execution_count": null,
   "metadata": {},
   "outputs": [],
   "source": [
    "import pandas as pd\n",
    "datos = {'nombre':['María', 'Luis', 'Carmen', 'Antonio'],\n",
    "    'edad':[18, 22, 20, 21],\n",
    "    'grado':['Economía', 'Medicina', 'Arquitectura', 'Economía'],\n",
    "    'correo':['maria@gmail.com', 'luis@yahoo.es', 'carmen@gmail.com', 'antonio@gmail.com']\n",
    "    }\n",
    "df = pd.DataFrame(datos)\n",
    "print(df)"
   ]
  },
  {
   "cell_type": "markdown",
   "metadata": {},
   "source": [
    "### Creación de un DataFrame a partir de una lista de listas\n",
    "Para crear un DataFrame a partir de una lista de listas con los datos de las columnas se utiliza el siguiente método:\n",
    "\n",
    "* `DataFrame(data=listas, index=filas, columns=columnas, dtype=tipos)`: Devuelve un objeto del tipo DataFrame cuyas columnas son los valores de las listas de la lista listas, los nombres de filas indicados en la lista filas, los nombres de columnas indicados en la lista columnas y los tipos indicados en la lista tipos. La lista filas, tiene que tener el mismo tamaño que la lista listas mientras que las listas columnas y tipos tienen que tener el mismo tamaño que las listas anidadas en listas. Si no se pasa la lista de filas o de columnas se utilizan enteros empezando en 0. Si no se pasa la lista de tipos, se infiere.\n",
    "\n",
    " Si las listas anidadas en listas no tienen el mismo tamaño, las listas menores se rellenan con valores NaN."
   ]
  },
  {
   "cell_type": "code",
   "execution_count": null,
   "metadata": {},
   "outputs": [],
   "source": [
    "import pandas as pd\n",
    "df = pd.DataFrame([['María', 18], ['Luis', 22], ['Carmen', 20]], columns=['Nombre', 'Edad'])\n",
    "print(df)"
   ]
  },
  {
   "cell_type": "markdown",
   "metadata": {},
   "source": [
    "### Creación de un DataFrame a partir de una lista de diccionarios\n",
    "Para crear un DataFrame a partir de una lista de diccionarios con los datos de las filas, se utiliza el siguiente método:\n",
    "\n",
    "* `DataFrame(data=diccionarios, index=filas, columns=columnas, dtype=tipos)` : Devuelve un objeto del tipo DataFrame cuyas filas contienen los valores de los diccionarios de la lista diccionarios, los nombres de filas indicados en la lista filas, los nombres de columnas indicados en la lista columnas y los tipos indicados en la lista tipos. La lista filas tiene que tener el mismo tamaño que la lista lista. Si no se pasa la lista de filas se utilizan enteros empezando en 0. Si no se pasa la lista de columnas se utilizan las claves de los diccionarios. Si no se pasa la lista de tipos, se infiere.\n",
    "\n",
    " Si los diccionarios no tienen las mismas claves, las claves que no aparecen en el diccionario se rellenan con valores NaN."
   ]
  },
  {
   "cell_type": "markdown",
   "metadata": {},
   "source": [
    "### Creación de un DataFrame a partir de un array\n",
    "Para crear un DataFrame a partir de un array de NumPy se utiliza el siguiente método:\n",
    "\n",
    "* `DataFrame(data=array, index=filas, columns=columnas, dtype=tipo)` : Devuelde un objeto del tipo DataFrame cuyas filas y columnas son las del array array, los nombres de filas indicados en la lista filas, los nombres de columnas indicados en la lista columnas y el tipo indicado en tipo. La lista filas tiene que tener el mismo tamaño que el número de filas del array y la lista columnas el mismo tamaño que el número de columnas del array. Si no se pasa la lista de filas se utilizan enteros empezando en 0. Si no se pasa la lista de columnas se utilizan las claves de los diccionarios. Si no se pasa la lista de tipos, se infiere."
   ]
  },
  {
   "cell_type": "code",
   "execution_count": null,
   "metadata": {},
   "outputs": [],
   "source": [
    "import pandas as pd\n",
    "df = pd.DataFrame(np.random.randn(4, 3), columns=['a', 'b', 'c'])\n",
    "print(df)"
   ]
  },
  {
   "cell_type": "markdown",
   "metadata": {},
   "source": [
    "### Creación de un DataFrame a partir de un fichero CSV o Excel\n",
    "Dependiendo del tipo de fichero, existen distintas funciones para importar un DataFrame desde un fichero.\n",
    "\n",
    "* `read_csv(fichero.csv, sep=separador, header=n, index_col=m, na_values=no-validos, decimal=separador-decimal)` : Devuelve un objeto del tipo DataFrame con los datos del fichero CSV fichero.csv usando como separador de los datos la cadena separador. Como nombres de columnas se utiliza los valores de la fila n y como nombres de filas los valores de la columna m. Si no se indica m se utilizan como nombres de filas los enteros empezando en 0. Los valores incluídos en la lista no-validos se convierten en NaN. Para los datos numéricos se utiliza como separador de decimales el carácter indicado en separador-decimal.\n",
    "\n",
    "* `read_excel(fichero.xlsx, sheet_name=hoja, header=n, index_col=m, na_values=no-validos, decimal=separador-decimal)` : Devuelve un objeto del tipo DataFrame con los datos de la hoja de cálculo hoja del fichero Excel fichero.xlsx. Como nombres de columnas se utiliza los valores de la fila n y como nombres de filas los valores de la columna m. Si no se indica m se utilizan como nombres de filas los enteros empezando en 0. Los valores incluídos en la lista no-validos se convierten en NaN. Para los datos numéricos se utiliza como separador de decimales el carácter indicado en separador-decimal."
   ]
  },
  {
   "cell_type": "code",
   "execution_count": null,
   "metadata": {},
   "outputs": [],
   "source": [
    "# Importación del fichero datos-colesteroles.csv\n",
    "df = pd.read_csv(\n",
    "'https://raw.githubusercontent.com/asalber/manual-python/master/datos/colesteroles.csv', sep=';', decimal=',')\n"
   ]
  },
  {
   "cell_type": "code",
   "execution_count": null,
   "metadata": {},
   "outputs": [],
   "source": [
    "# extrae los 10 primeros regsiros\n",
    "print(df.head())"
   ]
  },
  {
   "cell_type": "code",
   "execution_count": null,
   "metadata": {},
   "outputs": [],
   "source": [
    "# extrae los 10 ultimos regsiros\n",
    "print(df.tail())"
   ]
  },
  {
   "cell_type": "markdown",
   "metadata": {},
   "source": [
    "### Exportación de ficheros\n",
    "También existen funciones para exportar un DataFrame a un fichero con diferentes formatos.\n",
    "\n",
    "* `df.to_csv(fichero.csv, sep=separador, columns=booleano, index=booleano)` : Exporta el DataFrame df al fichero fichero.csv en formato CSV usando como separador de los datos la cadena separador. Si se pasa True al parámetro columns se exporta también la fila con los nombres de columnas y si se pasa True al parámetro index se exporta también la columna con los nombres de las filas.\n",
    "\n",
    "* `df.to_excel(fichero.xlsx, sheet_name = hoja, columns=booleano, index=booleano)` : Exporta el DataFrame df a la hoja de cálculo hoja del fichero fichero.xlsx en formato Excel. Si se pasa True al parámetro columns se exporta también la fila con los nombres de columnas y si se pasa True al parámetro index se exporta también la columna con los nombres de las filas."
   ]
  },
  {
   "cell_type": "markdown",
   "metadata": {},
   "source": [
    "### Atributos de un DataFrame\n",
    "Existen varias propiedades o métodos para ver las características de un DataFrame.\n",
    "\n",
    "* `df.info()` : Devuelve información (número de filas, número de columnas, índices, tipo de las columnas y memoria usado) sobre el DataFrame df.\n",
    "\n",
    "* `df.shape` : Devuelve una tupla con el número de filas y columnas del DataFrame df.\n",
    "\n",
    "* `df.size` : Devuelve el número de elementos del DataFrame.\n",
    "\n",
    "* `df.columns` : Devuelve una lista con los nombres de las columnas del DataFrame df.\n",
    "\n",
    "* `df.index` : Devuelve una lista con los nombres de las filas del DataFrame df.\n",
    "\n",
    "* `df.dtypes` : Devuelve una serie con los tipos de datos de las columnas del DataFrame df.\n",
    "\n",
    "* `df.head(n)` : Devuelve las n primeras filas del DataFrame df.\n",
    "\n",
    "* `df.tail(n)` : Devuelve las n últimas filas del DataFrame df."
   ]
  },
  {
   "cell_type": "code",
   "execution_count": null,
   "metadata": {},
   "outputs": [],
   "source": [
    "df = pd.read_csv(\n",
    "'https://raw.githubusercontent.com/asalber/manual-python/master/datos/colesterol.csv')\n",
    "df.info()"
   ]
  },
  {
   "cell_type": "code",
   "execution_count": null,
   "metadata": {},
   "outputs": [],
   "source": [
    "df.shape"
   ]
  },
  {
   "cell_type": "code",
   "execution_count": null,
   "metadata": {},
   "outputs": [],
   "source": [
    "df.columns"
   ]
  },
  {
   "cell_type": "code",
   "execution_count": null,
   "metadata": {},
   "outputs": [],
   "source": [
    "df.index"
   ]
  },
  {
   "cell_type": "code",
   "execution_count": null,
   "metadata": {},
   "outputs": [],
   "source": [
    "df.dtypes"
   ]
  },
  {
   "cell_type": "code",
   "execution_count": null,
   "metadata": {},
   "outputs": [],
   "source": [
    "df.head(20)"
   ]
  },
  {
   "cell_type": "code",
   "execution_count": null,
   "metadata": {},
   "outputs": [],
   "source": [
    "df.tail(20)"
   ]
  },
  {
   "cell_type": "markdown",
   "metadata": {},
   "source": [
    "### Renombrar los nombres de las filas y columnas\n",
    "Para cambiar el nombre de las filas y las columnas de un DataFrame se utiliza el siguiente método:\n",
    "\n",
    "* `df.rename(columns=columnas, index=filas)`: Devuelve el DataFrame que resulta de renombrar las columnas indicadas en las claves del diccionario columnas con sus valores y las filas indicadas en las claves del diccionario filas con sus valores en el DataFrame df."
   ]
  },
  {
   "cell_type": "code",
   "execution_count": null,
   "metadata": {},
   "outputs": [],
   "source": [
    "df = pd.read_csv(\n",
    "'https://raw.githubusercontent.com/asalber/manual-python/master/datos/colesterol.csv')\n",
    "print(df.rename(columns={'nombre':'nombre y apellidos', 'altura':'estatura'}, index={0:1000, 1:1001, 2:1002}))"
   ]
  },
  {
   "cell_type": "markdown",
   "metadata": {},
   "source": [
    "### Cambiar el índice de un DataFrame\n",
    "Aunque el índice de un DataFrame suele fijarse en la creación del mismo, en ocasiones puede ser necesario cambiar el índice una vez creado el DataFrame. Para ello se utiliza el siguiente método:\n",
    "\n",
    "* `df.set_index(keys = columnas, verify_integrity = bool)`: Devuelve el DataFrame que resulta de eliminar las columnas de la lista columnas y convertirlas en el nuevo índice. El parámetro verify_integrity recibe un booleano (False por defecto) y realiza una comprobación para evitar duplicados en la clave cuando recibe True."
   ]
  },
  {
   "cell_type": "code",
   "execution_count": null,
   "metadata": {},
   "outputs": [],
   "source": [
    "df = pd.read_csv(\n",
    "'https://raw.githubusercontent.com/asalber/manual-python/master/datos/colesterol.csv')\n",
    "\n",
    "print(df.set_index(\"nombre\").head())"
   ]
  },
  {
   "cell_type": "markdown",
   "metadata": {},
   "source": [
    "### Reindexar un DataFrame\n",
    "Para reordenar los índices de las filas y las columnas de un DataFrame, así como añadir o eliminar índices, se utiliza el siguiente método:\n",
    "\n",
    "* `df.reindex(index=filas, columns=columnas, fill_value=relleno)` : Devuelve el DataFrame que resulta de tomar del DataFrame df las filas con nombres en la lista filas y las columnas con nombres en la lista columnas. Si alguno de los nombres indicados en filas o columnas no existía en el DataFrame df, se crean filan o columnas nuevas rellenas con el valor relleno."
   ]
  },
  {
   "cell_type": "code",
   "execution_count": null,
   "metadata": {},
   "outputs": [],
   "source": [
    "df = pd.read_csv('https://raw.githubusercontent.com/asalber/manual-python/master/datos/colesterol.csv')\n",
    "print(df.reindex(index=[4, 3, 1], columns=['nombre', 'tensión', 'colesterol']))"
   ]
  },
  {
   "cell_type": "markdown",
   "metadata": {},
   "source": [
    "### Acceso a los elementos de un DataFrame\n",
    "El acceso a los datos de un DataFrame se puede hacer a través de posiciones o través de los nombres de las filas y columnas.\n",
    "\n",
    "#### **Accesos mediante posiciones**\n",
    "* `df.iloc[i, j]` : Devuelve el elemento que se encuentra en la fila i y la columna j del DataFrame df. Pueden indicarse secuencias de índices para obtener partes del DataFrame.\n",
    "\n",
    "* `df.iloc[filas, columnas]` : Devuelve un DataFrame con los elementos de las filas de la lista filas y de las columnas de la lista columnas.\n",
    "\n",
    "* `df.iloc[i]` : Devuelve una serie con los elementos de la fila i del DataFrame df."
   ]
  },
  {
   "cell_type": "code",
   "execution_count": null,
   "metadata": {},
   "outputs": [],
   "source": [
    "import pandas as pd\n",
    "df = pd.read_csv(\n",
    "'https://raw.githubusercontent.com/asalber/manual-python/master/datos/colesterol.csv')\n",
    "print(df.iloc[1, 3])"
   ]
  },
  {
   "cell_type": "code",
   "execution_count": null,
   "metadata": {},
   "outputs": [],
   "source": [
    "print(df.iloc[1, :2])"
   ]
  },
  {
   "cell_type": "markdown",
   "metadata": {},
   "source": [
    "#### **Acceso a los elementos mediante nombres**\n",
    "* `df.loc[fila, columna]` : Devuelve el elemento que se encuentra en la fila con nombre fila y la columna de con nombre columna del DataFrame df.\n",
    "* `df.loc[filas, columnas]` : Devuelve un DataFrame con los elemento que se encuentra en las filas con los nombres de la lista filas y las columnas con los nombres de la lista columnas del DataFrame df.\n",
    "\n",
    "* `df[columna]` : Devuelve una serie con los elementos de la columna de nombre columna del DataFrame df.\n",
    "\n",
    "* `df.columna` : Devuelve una serie con los elementos de la columna de nombre columna del DataFrame df. Es similar al método anterior pero solo funciona cuando el nombre de la columna no tiene espacios en blanco."
   ]
  },
  {
   "cell_type": "code",
   "execution_count": null,
   "metadata": {},
   "outputs": [],
   "source": [
    "# Carga de datos y acceso mediante nombre:\n",
    "df = pd.read_csv(\n",
    "'https://raw.githubusercontent.com/asalber/manual-python/master/datos/colesterol.csv')\n",
    "print(df.loc[2, 'colesterol'])"
   ]
  },
  {
   "cell_type": "code",
   "execution_count": null,
   "metadata": {},
   "outputs": [],
   "source": [
    "# Acceso Mediante nombre\n",
    "print(df.loc[:3, ('colesterol','peso')])"
   ]
  },
  {
   "cell_type": "code",
   "execution_count": null,
   "metadata": {},
   "outputs": [],
   "source": [
    "# Acceso Mediante nombre\n",
    "print(df['colesterol'])"
   ]
  },
  {
   "cell_type": "markdown",
   "metadata": {},
   "source": [
    "### Operaciones con las columnas de un DataFrame\n",
    "#### **Añadir columnas a un DataFrame**\n",
    "El procedimiento para añadir una nueva columna a un DataFrame es similar al de añadir un nuevo par a un diccionario, pero pasando los valores de la columna en una lista o serie.\n",
    "\n",
    "* `d[nombre] = lista`: Añade al DataFrame df una nueva columna con el nombre nombre y los valores de la lista lista. La lista debe tener el mismo tamaño que el número de filas de df.\n",
    "\n",
    "* `d[nombre] = serie`: Añade al DataFrame df una nueva columna con el nombre nombre y los valores de la serie serie. Si el tamaño de la serie es menor que el número de filas de df se rellena con valores NaN mientras que si es mayor se recorta."
   ]
  },
  {
   "cell_type": "code",
   "execution_count": null,
   "metadata": {},
   "outputs": [],
   "source": [
    "# Carga de datos mediante series\n",
    "df = pd.read_csv(\n",
    "'https://raw.githubusercontent.com/asalber/manual-python/master/datos/colesterol.csv')\n",
    "df['diabetes'] = pd.Series([False, False, True, False, True])\n",
    "\n",
    "print(df)"
   ]
  },
  {
   "cell_type": "markdown",
   "metadata": {},
   "source": [
    "### **Operaciones sobre columnas**\n",
    "Puesto que los datos de una misma columna de un DataFrame son del mismo tipo, es fácil aplicar la misma operación a todos los elementos de la columna."
   ]
  },
  {
   "cell_type": "code",
   "execution_count": null,
   "metadata": {},
   "outputs": [],
   "source": [
    "# Carga de Datos y operacion de multiplicacion:\n",
    "df = pd.read_csv(\n",
    "'https://raw.githubusercontent.com/asalber/manual-python/master/datos/colesterol.csv')\n",
    "print(df['altura']*100)"
   ]
  },
  {
   "cell_type": "code",
   "execution_count": null,
   "metadata": {},
   "outputs": [],
   "source": [
    "# Seleccion de datos por filtro\n",
    "print(df['sexo']=='M')"
   ]
  },
  {
   "cell_type": "markdown",
   "metadata": {},
   "source": [
    "### **Aplicar funciones a columnas**\n",
    "Para aplicar funciones a todos los elementos de una columna se utiliza el siguiente método:\n",
    "\n",
    "* `df[columna].apply(f)` : Devuelve una serie con los valores que resulta de aplicar la función f a los elementos de la columna con nombre columna del DataFrame df."
   ]
  },
  {
   "cell_type": "code",
   "execution_count": null,
   "metadata": {},
   "outputs": [],
   "source": [
    "# Aplicar el logaritmo al campo altura:\n",
    "import pandas as pd\n",
    "from math import log\n",
    "df = pd.read_csv(\n",
    "'https://raw.githubusercontent.com/asalber/manual-python/master/datos/colesterol.csv')\n",
    "print(df['altura'].apply(log))"
   ]
  },
  {
   "cell_type": "markdown",
   "metadata": {},
   "source": [
    "#### **Convertir una columna al tipo datetime**\n",
    "A menudo una columna contiene cadenas que representan fechas. Para convertir estas cadenas al tipo datetime se utiliza el siguiente método:\n",
    "\n",
    "* `to_datetime(columna, formato)`: Devuelve la serie que resulta de convertir las cadenas de la columna con el nombre columna en fechas del tipo datetime con el formado especificado en formato. ( Ver librería datetime)"
   ]
  },
  {
   "cell_type": "code",
   "execution_count": null,
   "metadata": {},
   "outputs": [],
   "source": [
    "import pandas as pd\n",
    "df = pd.DataFrame({'Name': ['María', 'Carlos', 'Carmen'], 'Nacimiento':['05-03-2000', '20-05-2001', '10-12-1999']})\n",
    "print(pd.to_datetime(df.Nacimiento, format = '%d-%m-%Y'))"
   ]
  },
  {
   "cell_type": "markdown",
   "metadata": {},
   "source": [
    "### **Resumen descriptivo de un DataFrame**\n",
    "Al igual que para las series, los siguientes métodos permiten resumir la información de un DataFrame por columnas:\n",
    "\n",
    "* `df.count()` : Devuelve una serie con el número de elementos que no son nulos ni NaN en cada columna del DataFrame df.\n",
    "* `df.sum()` : Devuelve una serie con la suma de los datos de las columnas del DataFrame df cuando los datos son de un tipo numérico, o la concatenación de ellos cuando son del tipo cadena str.\n",
    "* `df.cumsum()` : Devuelve un DataFrame con la suma acumulada de los datos de las columnas del DataFrame df cuando los datos son de un tipo numérico.\n",
    "* `df.min()` : Devuelve una serie con los menores de los datos de las columnas del DataFrame df.\n",
    "* `df.max()` : Devuelve una serie con los mayores de los datos de las columnas del DataFrame df.\n",
    "* `df.mean()` : Devuelve una serie con las medias de los datos de las columnas numéricas del DataFrame df.\n",
    "* `df.var()` : Devuelve una serie con las varianzas de los datos de las columnas numéricas del DataFrame df.\n",
    "* `df.std()` : Devuelve una serie con las desviaciones típicas de los datos de las columnas numéricas del DataFrame df.\n",
    "* `df.cov()` : Devuelve un DataFrame con las covarianzas de los datos de las columnas numéricas del DataFrame df.\n",
    "* `df.corr()` : Devuelve un DataFrame con los coeficientes de correlación de Pearson de los datos de las columnas numéricas del DataFrame df.\n",
    "* `df.describe(include = tipo)` : Devuelve un DataFrame con un resumen estadístico de las columnas del DataFrame df del tipo tipo. Para los datos numéricos (number) se calcula la media, la desviación típica, el mínimo, el máximo y los cuartiles. Para los datos no numéricos (object) se calcula el número de valores, el número de valores distintos, la moda y su frecuencia. Si no se indica el tipo solo se consideran las columnas numéricas."
   ]
  },
  {
   "cell_type": "code",
   "execution_count": null,
   "metadata": {},
   "outputs": [],
   "source": [
    "import pandas as pd\n",
    "df = pd.read_csv(\n",
    "'https://raw.githubusercontent.com/asalber/manual-python/master/datos/colesterol.csv')\n",
    "df.head()"
   ]
  },
  {
   "cell_type": "code",
   "execution_count": null,
   "metadata": {},
   "outputs": [],
   "source": [
    "# Tamaño muestral\n",
    "df.edad.count()"
   ]
  },
  {
   "cell_type": "code",
   "execution_count": null,
   "metadata": {},
   "outputs": [],
   "source": [
    "# Media\n",
    "print(df.edad.mean())"
   ]
  },
  {
   "cell_type": "code",
   "execution_count": null,
   "metadata": {},
   "outputs": [],
   "source": [
    "# Varianza\n",
    "print(df.edad.var())"
   ]
  },
  {
   "cell_type": "code",
   "execution_count": null,
   "metadata": {},
   "outputs": [],
   "source": [
    "# Desviación típica\n",
    "print(df.edad.std()) "
   ]
  },
  {
   "cell_type": "code",
   "execution_count": null,
   "metadata": {},
   "outputs": [],
   "source": [
    "# Matriz de covarianzas\n",
    "df.cov()"
   ]
  },
  {
   "cell_type": "code",
   "execution_count": null,
   "metadata": {},
   "outputs": [],
   "source": [
    "# Matriz de correlación\n",
    "df.corr()"
   ]
  },
  {
   "cell_type": "code",
   "execution_count": null,
   "metadata": {},
   "outputs": [],
   "source": [
    "# Resumen descriptivo\n",
    "print(df.describe())"
   ]
  },
  {
   "cell_type": "code",
   "execution_count": null,
   "metadata": {},
   "outputs": [],
   "source": [
    "print(df.describe(include='object'))"
   ]
  },
  {
   "cell_type": "markdown",
   "metadata": {},
   "source": [
    "### **Eliminar columnas de un DataFrame**\n",
    "Para eliminar columnas de un DataFrame se utilizan los siguientes métodos:\n",
    "\n",
    "* `del d[nombre]` : Elimina la columna con nombre nombre del DataFrame df.\n",
    "\n",
    "* `df.pop(nombre)` : Elimina la columna con nombre nombre del DataFrame df y la devuelve como una serie."
   ]
  },
  {
   "cell_type": "code",
   "execution_count": null,
   "metadata": {},
   "outputs": [],
   "source": [
    "import pandas as pd\n",
    "df = pd.read_csv('https://raw.githubusercontent.com/asalber/manual-python/master/datos/colesterol.csv')\n",
    "edad = df.pop('edad')\n",
    "print(df)"
   ]
  },
  {
   "cell_type": "code",
   "execution_count": null,
   "metadata": {},
   "outputs": [],
   "source": [
    "print(edad)"
   ]
  },
  {
   "cell_type": "markdown",
   "metadata": {},
   "source": [
    "### **Operaciones con las filas de un DataFrame**\n",
    "#### **Añadir una fila a un DataFrame**\n",
    "Para añadir una fila a un DataFrame se utiliza el siguiente método:\n",
    "\n",
    "* `df.append(serie, ignore_index=True)` : Devuelve el DataFrame que resulta de añadir una fila al DataFrame df con los valores de la serie serie. Los nombres del índice de la serie deben corresponderse con los nombres de las columnas de df. Si no se pasa el parámetro ignore_index entonces debe pasarse el parámetro name a la serie, donde su argumento será el nombre de la nueva fila."
   ]
  },
  {
   "cell_type": "code",
   "execution_count": null,
   "metadata": {},
   "outputs": [],
   "source": [
    "import pandas as pd\n",
    "df = pd.read_csv(\n",
    "'https://raw.githubusercontent.com/asalber/manual-python/master/datos/colesterol.csv')\n",
    "print(df.tail())\n",
    "df = df.append(pd.Series(['Carlos Rivas', 28, 'H', 89.0, 1.78, 245.0], index=['nombre','edad','sexo','peso','altura','colesterol']), ignore_index=True)\n",
    "print(df.tail())"
   ]
  },
  {
   "cell_type": "markdown",
   "metadata": {},
   "source": [
    "#### **Eliminar filas de un DataFrame**\n",
    "Para eliminar filas de un DataFrame se utilizan el siguiente método:\n",
    "\n",
    "* `df.drop(filas)` : Devuelve el DataFrame que resulta de eliminar las filas con los nombres indicados en la lista filas del DataFrame df."
   ]
  },
  {
   "cell_type": "code",
   "execution_count": null,
   "metadata": {},
   "outputs": [],
   "source": [
    "import pandas as pd\n",
    "df = pd.read_csv('https://raw.githubusercontent.com/asalber/manual-python/master/datos/colesterol.csv')\n",
    "print(df.drop([1, 3]))"
   ]
  },
  {
   "cell_type": "markdown",
   "metadata": {},
   "source": [
    "#### **Filtrar las filas de un DataFrame**\n",
    "Una operación bastante común con un DataFrame es obtener las filas que cumplen una determinada condición.\n",
    "\n",
    "* `df[condicion]` : Devuelve un DataFrame con las filas del DataFrame df que se corresponden con el valor True de la lista booleana condicion. condicion debe ser una lista de valores booleanos de la misma longitud que el número de filas del DataFrame."
   ]
  },
  {
   "cell_type": "code",
   "execution_count": null,
   "metadata": {},
   "outputs": [],
   "source": [
    "import pandas as pd\n",
    "df = pd.read_csv('https://raw.githubusercontent.com/asalber/manual-python/master/datos/colesterol.csv')\n",
    "print(df[(df['sexo']=='H') & (df['colesterol'] > 260)])"
   ]
  },
  {
   "cell_type": "markdown",
   "metadata": {},
   "source": [
    "#### **Ordenar un DataFrame**\n",
    "Para ordenar un DataFrame de acuerdo a los valores de una determinada columna se utilizan los siguientes métodos:\n",
    "\n",
    "* `df.sort_values(columna, ascending=booleano)` : Devuelve el DataFrame que resulta de ordenar las filas del DataFrame df según los valores del la columna con nombre columna. Si argumento del parámetro ascending es True el orden es creciente y si es False decreciente.\n",
    "\n",
    "* `df.sort_index(ascending=booleano)` : Devuelve el DataFrame que resulta de ordenar las filas del DataFrame df según los nombres de las filas. Si el argumento del parámetro ascending es True el orden es creciente y si es False decreciente."
   ]
  },
  {
   "cell_type": "code",
   "execution_count": null,
   "metadata": {},
   "outputs": [],
   "source": [
    "import pandas as pd\n",
    "df = pd.read_csv('https://raw.githubusercontent.com/asalber/manual-python/master/datos/colesterol.csv')\n",
    "print(df.sort_values('colesterol'))"
   ]
  },
  {
   "cell_type": "markdown",
   "metadata": {},
   "source": [
    "#### **Eliminar las filas con dados desconocidos en un DataFrame**\n",
    "Para eliminar las filas de un DataFrame que contienen datos desconocidos NaN o nulos None se utiliza el siguiente método:\n",
    "\n",
    "* `s.dropna(subset=columnas)` : Devuelve el DataFrame que resulta de eliminar las filas que contienen algún dato desconocido o nulo en las columnas de la lista columna del DataFrame df. Si no se pasa un argumento al parámetro subset se aplica a todas las columnas del DataFrame."
   ]
  },
  {
   "cell_type": "code",
   "execution_count": null,
   "metadata": {},
   "outputs": [],
   "source": [
    "import pandas as pd\n",
    "df = pd.read_csv('https://raw.githubusercontent.com/asalber/manual-python/master/datos/colesterol.csv')\n",
    "print(df.dropna())"
   ]
  },
  {
   "cell_type": "markdown",
   "metadata": {},
   "source": [
    "## **Agrupación de un DataFrame**\n",
    "En muchas aplicaciones es útil agrupar los datos de un DataFrame de acuerdo a los valores de una o varias columnas (categorías), como por ejemplo el sexo o el país.\n",
    "![Agrupacion](../images/pandas-grupos.png)"
   ]
  },
  {
   "cell_type": "markdown",
   "metadata": {},
   "source": [
    "### **Dividir un DataFrame en grupos**\n",
    "Para dividir un DataFrame en grupos se utiliza el siguiente método:\n",
    "\n",
    "* `df.groupby(columnas).groups` : Devuelve un diccionario con cuyas claves son las tuplas que resultan de todas las combinaciones de los valores de las columnas con nombres en la lista columnas, y valores las listas de los nombres de las filas que contienen esos valores en las correspondientes columnas del DataFrame df."
   ]
  },
  {
   "cell_type": "code",
   "execution_count": null,
   "metadata": {},
   "outputs": [],
   "source": [
    "import pandas as pd\n",
    "df = pd.read_csv(\n",
    "'https://raw.githubusercontent.com/asalber/manual-python/master/datos/colesterol.csv')\n",
    "print(df.groupby('sexo').groups)"
   ]
  },
  {
   "cell_type": "code",
   "execution_count": null,
   "metadata": {},
   "outputs": [],
   "source": [
    "print(df.groupby(['sexo','edad']).groups)"
   ]
  },
  {
   "cell_type": "markdown",
   "metadata": {},
   "source": [
    "#### **Para obtener un grupo concreto se utiliza el siguiente método:**\n",
    "\n",
    "* `df.groupby(columnas).get_group(valores)` : Devuelve un DataFrame con las filas del DataFrame df que cumplen que las columnas de la lista columnas presentan los valores de la tupla valores. La lista columnas y la tupla valores deben tener el mismo tamaño."
   ]
  },
  {
   "cell_type": "code",
   "execution_count": null,
   "metadata": {},
   "outputs": [],
   "source": [
    "import pandas as pd\n",
    "df = pd.read_csv(\n",
    "'https://raw.githubusercontent.com/asalber/manual-python/master/datos/colesterol.csv')\n",
    "\n",
    "print(df.groupby('sexo').get_group('M'))"
   ]
  },
  {
   "cell_type": "markdown",
   "metadata": {},
   "source": [
    "### **Aplicar una función de agregación por grupos**\n",
    "Una vez dividido el DataFame en grupos, es posible aplicar funciones de agregación a cada grupo mediante el siguiente método:\n",
    "\n",
    "* `df.groupby(columnas).agg(funciones)` : Devuelve un DataFrame con el resultado de aplicar las funciones de agregación de la lista funciones a cada uno de los DataFrames que resultan de dividir el DataFrame según las columnas de la lista columnas.\n",
    "\n",
    "Una función de agregación toma como argumento una lista y devuelve una único valor. Algunas de las funciones de agregación más comunes son:\n",
    "\n",
    "* `np.min` : Devuelve el mínimo de una lista de valores.\n",
    "* `np.max` : Devuelve el máximo de una lista de valores.\n",
    "* `np.count_nonzero` : Devuelve el número de valores no nulos de una lista de valores.\n",
    "* `np.sum` : Devuelve la suma de una lista de valores.\n",
    "* `np.mean` : Devuelve la media de una lista de valores.\n",
    "* `np.std` : Devuelve la desviación típica de una lista de valores."
   ]
  },
  {
   "cell_type": "code",
   "execution_count": null,
   "metadata": {},
   "outputs": [],
   "source": [
    "import pandas as pd\n",
    "df = pd.read_csv('https://raw.githubusercontent.com/asalber/manual-python/master/datos/colesterol.csv')\n",
    "print(df.groupby('sexo').agg(np.mean))"
   ]
  },
  {
   "cell_type": "code",
   "execution_count": null,
   "metadata": {},
   "outputs": [],
   "source": [
    "print(df.groupby('sexo').agg(np.std))"
   ]
  },
  {
   "cell_type": "markdown",
   "metadata": {},
   "source": [
    "### **Reestructurar un DataFrame**\n",
    "A menudo la disposición de los datos en un DataFrame no es la adecuada para su tratamiento y es necesario reestructurar el DataFrame. Los datos que contiene un DataFrame pueden organizarse en dos formatos: ancho y largo.\n",
    "![Agru](../images/formatos-dataframe.png)\n",
    "\n",
    "### **Convertir un DataFrame a formato largo**\n",
    "Para convertir un DataFrame de formato ancho a formato largo (columnas a filas) se utiliza el siguiente método:\n",
    "\n",
    "* `df.melt(id_vars=id-columnas, value_vars=columnas, var_name=nombre-columnas, var_value=nombre-valores)` : Devuelve el DataFrame que resulta de convertir el DataFrame df de formato ancho a formato largo. Todas las columnas de lista columnas se reestructuran en dos nuevas columnas con nombres nombre-columnas y nombre-valores que contienen los nombres de las columnas originales y sus valores, respectivamente. Las columnas en la lista id-columnas se mantienen sin reestructurar. Si no se pasa la lista columnas entonces se reestructuran todas las columnas excepto las columnas de la lista id-columnas."
   ]
  },
  {
   "cell_type": "code",
   "execution_count": null,
   "metadata": {},
   "outputs": [],
   "source": [
    "import pandas as pd\n",
    "\n",
    "datos = {'nombre':['María', 'Luis', 'Carmen'], \n",
    "         'edad':[18, 22, 20], \n",
    "         'Matemáticas':[8.5, 7, 3.5], \n",
    "         'Economía':[8, 6.5, 5],\n",
    "         'Programación':[6.5, 4, 9]}\n",
    "df = pd.DataFrame(datos)\n",
    "df1 = df.melt(id_vars=['nombre', 'edad'], var_name='asignatura', value_name='nota')\n",
    "print(df1)"
   ]
  },
  {
   "cell_type": "markdown",
   "metadata": {},
   "source": [
    "### **Convertir un DataFrame a formato ancho**\n",
    "Para convertir un DataFrame de formato largo a formato ancho (filas a columnas) se utiliza el siguiente método:\n",
    "\n",
    "* `df.pivot(index=filas, columns=columna, values=valores)` : Devuelve el DataFrame que resulta de convertir el DataFrame df de formato largo a formato ancho. Se crean tantas columnas nuevas como valores distintos haya en la columna columna. Los nombres de estas nuevas columnas son los valores de la columna columna mientras que sus valores se toman de la columna valores. Los nombres del índice del nuevo DataFrame se toman de los valores de la columna filas."
   ]
  },
  {
   "cell_type": "code",
   "execution_count": null,
   "metadata": {},
   "outputs": [],
   "source": [
    "# Continuación del código anterior\n",
    "print(df1.pivot(index='nombre', columns='asignatura', values='nota'))"
   ]
  },
  {
   "cell_type": "markdown",
   "metadata": {},
   "source": [
    "### **Combinar varios DataFrames**\n",
    "Dos o más DataFrames pueden combinarse en otro DataFrame. La combinación puede ser de varias formas:\n",
    "\n",
    "* **Concatenación**: Combinación de varios DataFrames concatenando sus filas o columnas.\n",
    "* **Mezcla**: Combinación de varios DataFrames usando columnas o índices comunes.\n",
    "\n",
    "#### **Concatenación de DataFrames**.\n",
    "Concatenación de filas. Las filas de los DataFrames se concatenan unas a continuación de las otras para formar el nuevo DataFrame. Para ello es necesario que los DataFrames que se combinen tengan el mismo índice de columnas.\n",
    "![Concat](../images/pandas-concatenacion-filas.png)"
   ]
  },
  {
   "cell_type": "markdown",
   "metadata": {},
   "source": [
    "#### **Concatenación de columnas**. \n",
    "Las columnas de los DataFrames se concatenan unas a continuación de las otras para formar el nuevo DataFrame. Para ello es necesario que los DataFrames que se combinen tengan el mismo índice de filas.\n",
    "![Concatcolumn](../images/pandas-concatenacion-columnas.png)\n"
   ]
  },
  {
   "cell_type": "markdown",
   "metadata": {},
   "source": [
    "#### **Para concatenar dos o más DataFrames se utiliza el siguiente método:**\n",
    "\n",
    "* `df.concat(dataframes, axis = eje)`: Devuelve el DataFrame que resulta de concatenar los DataFrames de la lista dataframes. Si eje es 0 (valor por defecto) la concatenación se realiza por filas, y si eje es 1 se realiza por columnas.\n",
    "\n",
    "Si los DataFrames que se concatenan por filas no tienen el mismo índice de columnas, el DataFrame resultante incluirá todas las columnas existentes en los DataFrames y rellenará con valores **NaN** los datos no disponibles. Si los DataFrames que se concatenan por columnas no tienen el mismo índice de filas, el DataFrame resultante incluirá todas las filas existentes en los DataFrames y rellenará con valores NaN los datos no disponibles."
   ]
  },
  {
   "cell_type": "code",
   "execution_count": null,
   "metadata": {},
   "outputs": [],
   "source": [
    "# Concatenar dataframes\n",
    "import pandas as pd\n",
    "df1 = pd.DataFrame({\"Nombre\":[\"Carmen\", \"Luis\"], \n",
    "    \"Sexo\":[\"Mujer\", \"Hombre\"], \"Edad\":[22, 18]}).set_index(\"Nombre\")\n",
    "df2 = pd.DataFrame({\"Nombre\":[\"María\", \"Pedro\"], \n",
    "    \"Sexo\":[\"Mujer\", \"Hombre\"], \"Edad\":[25, 30]}).set_index(\"Nombre\")\n",
    "df = pd.concat([df1, df2])\n",
    "print(df)"
   ]
  },
  {
   "cell_type": "code",
   "execution_count": null,
   "metadata": {},
   "outputs": [],
   "source": [
    "# Concatenar dataframes\n",
    "import pandas as pd\n",
    "\n",
    "df1 = pd.DataFrame({\"Nombre\":[\"Carmen\", \"Luis\", \"María\"], \"Sexo\":[\"Mujer\", \"Hombre\", \"Mujer\"]}).set_index(\"Nombre\")\n",
    "df2 = pd.DataFrame({\"Nombre\":[\"Carmen\", \"Luis\", \"María\"], \"Edad\":[22, 18, 25]}).set_index(\"Nombre\")\n",
    "df = pd.concat([df1, df2], axis = 1)\n",
    "print(df)"
   ]
  },
  {
   "cell_type": "markdown",
   "metadata": {},
   "source": [
    "#### **Mezcla de DataFrames**\n",
    "La mezcla de DataFrames permite integrar filas de dos DataFrames que contienen información en común en una o varias columnas o índices que se conocen como clave.\n",
    "\n",
    "Para mezclar dos DataFrames se utiliza el siguiente método:\n",
    "\n",
    "* `df.merge(df1, df2, on = clave, how = tipo)`: Devuelve el DataFrame que resulta de mezclar el DataFrame df2 con el DataFrame df1, usando como claves las columnas de la lista clave y siguiendo el método de mezcla indicado por tipo.\n",
    "El tipo de mezcla puede ser\n",
    "\n",
    "* **\"inner\" (por defecto)**: El DataFrame resultante solo contiene las filas cuyos valores en la clave están en los dos DataFrames. Es equivalente a la intersección de conjuntos."
   ]
  },
  {
   "cell_type": "code",
   "execution_count": null,
   "metadata": {},
   "outputs": [],
   "source": [
    "import pandas as pd\n",
    "df1 = pd.DataFrame({\"Nombre\":[\"Carmen\", \"Luis\", \"María\"],  \"Sexo\":[\"Mujer\", \"Hombre\", \"Mujer\"]})\n",
    "df2 = pd.DataFrame({\"Nombre\":[\"María\", \"Pedro\", \"Luis\"], \"Edad\":[25, 30, 18]})\n",
    "df = pd.merge(df1, df2, on=\"Nombre\")\n",
    "print(df)"
   ]
  },
  {
   "cell_type": "markdown",
   "metadata": {},
   "source": [
    "* **\"outer\"**: El DataFrame resultante contiene todas las filas de los dos DataFrames. Si una fila de un DataFrame no puede emparejarse con otra los mismos valores en la clave en el otro DataFrame, la fila se añade igualmente al DataFrame resultante rellenando las columnas del otro DataFrame con el valor NaN. Es equivalente a la unión de conjuntos."
   ]
  },
  {
   "cell_type": "code",
   "execution_count": null,
   "metadata": {},
   "outputs": [],
   "source": [
    "df1 = pd.DataFrame({\"Nombre\":[\"Carmen\", \"Luis\", \"María\"],  \"Sexo\":[\"Mujer\", \"Hombre\", \"Mujer\"]})\n",
    "df2 = pd.DataFrame({\"Nombre\":[\"María\", \"Pedro\", \"Luis\"], \"Edad\":[25, 30, 18]})\n",
    "df = pd.merge(df1, df2, on=\"Nombre\", how=\"outer\")\n",
    "print(df)"
   ]
  },
  {
   "cell_type": "markdown",
   "metadata": {},
   "source": [
    "* **\"left\"**: El DataFrame resultante contiene todas las filas del primer DataFrame y descarta las filas del segundo DataFrame que no pueden emparejarse con alguna fila del primer DataFrame a través de la clave."
   ]
  },
  {
   "cell_type": "markdown",
   "metadata": {},
   "source": [
    "df1 = pd.DataFrame({\"Nombre\":[\"Carmen\", \"Luis\", \"María\"],  \"Sexo\":[\"Mujer\", \"Hombre\", \"Mujer\"]})\n",
    "df2 = pd.DataFrame({\"Nombre\":[\"María\", \"Pedro\", \"Luis\"], \"Edad\":[25, 30, 18]]})\n",
    "df = pd.merge(df1, df2, on=\"Nombre\", how=\"left\")\n",
    "print(df)"
   ]
  },
  {
   "cell_type": "markdown",
   "metadata": {},
   "source": [
    "* **\"right\"**: El DataFrame resultante contiene todas las filas del segundo DataFrame y descarta las filas del primer DataFrame que no pueden emparejarse con alguna fila del segundo DataFrame a través de la clave."
   ]
  },
  {
   "cell_type": "code",
   "execution_count": null,
   "metadata": {},
   "outputs": [],
   "source": [
    "import pandas as pd\n",
    "df1 = pd.DataFrame({\"Nombre\":[\"Carmen\", \"Luis\", \"María\"],  \"Sexo\":[\"Mujer\", \"Hombre\", \"Mujer\"]})\n",
    "df2 = pd.DataFrame({\"Nombre\":[\"María\", \"Pedro\", \"Luis\"], \"Edad\":[25, 30, 18]})\n",
    "df = pd.merge(df1, df2, on=\"Nombre\", how=\"right\")\n",
    "print(df)"
   ]
  },
  {
   "cell_type": "markdown",
   "metadata": {},
   "source": [
    "## Utilidades y enlaces de interés:\n",
    "\n",
    "* CheatSheet de Pandas: [Resumen de Comandos](../docs/Pandas_Cheat_Sheet.pdf)"
   ]
  },
  {
   "cell_type": "markdown",
   "metadata": {},
   "source": [
    "## Fin de la sección **\"03-Pandas\"**:\n",
    "--------------------------\n",
    "* **Validado por el Alumno:** \n",
    "* **Fecha:**"
   ]
  },
  {
   "cell_type": "code",
   "execution_count": null,
   "metadata": {},
   "outputs": [],
   "source": []
  }
 ],
 "metadata": {
  "kernelspec": {
   "display_name": "Python 3",
   "language": "python",
   "name": "python3"
  },
  "language_info": {
   "codemirror_mode": {
    "name": "ipython",
    "version": 3
   },
   "file_extension": ".py",
   "mimetype": "text/x-python",
   "name": "python",
   "nbconvert_exporter": "python",
   "pygments_lexer": "ipython3",
   "version": "3.8.3"
  }
 },
 "nbformat": 4,
 "nbformat_minor": 5
}
