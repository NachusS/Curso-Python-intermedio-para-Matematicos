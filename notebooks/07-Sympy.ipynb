{
 "cells": [
  {
   "cell_type": "markdown",
   "metadata": {},
   "source": [
    "# Introducción a la Computación Científica con Python\n",
    "\n",
    "Adaptado a partir de la versión original en inglés de [J.R. Johansson](http://jrjohansson.github.io/) (robert@riken.jp), por [G.F. Rubilar](https://gfrubi.github.io).\n",
    "\n",
    "La última versión del original (en inglés) está disponible en [http://github.com/jrjohansson/scientific-python-lectures](http://github.com/jrjohansson/scientific-python-lectures)."
   ]
  },
  {
   "cell_type": "markdown",
   "metadata": {},
   "source": [
    "## SymPy"
   ]
  },
  {
   "cell_type": "markdown",
   "metadata": {},
   "source": [
    "# Introducción\n",
    "\n",
    "[SymPy](http://sympy.org/en/index.html) es un módulo de matemática simbólica para Pytho. Tiene el objetivo de ofrecer un \"sistema de álgebra computacional\" (CAS) completo. SymPy está escrito completamente en Python.\n",
    "\n",
    "Para comenzar a usar SymPy en un programa Python o en un notebook, importamos el módulo `sympy`:"
   ]
  },
  {
   "cell_type": "code",
   "execution_count": 1,
   "metadata": {},
   "outputs": [],
   "source": [
    "import sympy as sp"
   ]
  },
  {
   "cell_type": "markdown",
   "metadata": {},
   "source": [
    "Para que los resultados sean formateados en $\\LaTeX$ podemos usar:"
   ]
  },
  {
   "cell_type": "markdown",
   "metadata": {},
   "source": [
    "## Variables simbólicas\n",
    "\n",
    "En SymPy, los objetos fundamentales con los que trabajaremos son *símbolos* para las variables con las que deseamos realizar operaciones. Podemos crear un nuevo símbolo usando la clase `Symbol`:"
   ]
  },
  {
   "cell_type": "code",
   "execution_count": 2,
   "metadata": {},
   "outputs": [],
   "source": [
    "x = sp.Symbol('x')"
   ]
  },
  {
   "cell_type": "code",
   "execution_count": 3,
   "metadata": {},
   "outputs": [
    {
     "output_type": "execute_result",
     "data": {
      "text/plain": [
       "(x + pi)**2"
      ],
      "text/latex": "$\\displaystyle \\left(x + \\pi\\right)^{2}$"
     },
     "metadata": {},
     "execution_count": 3
    }
   ],
   "source": [
    "(sp.pi + x)**2"
   ]
  },
  {
   "cell_type": "markdown",
   "metadata": {},
   "source": [
    "También podemos definir varios símbolos simultáneamente, usando la función `symbols`:"
   ]
  },
  {
   "cell_type": "code",
   "execution_count": 4,
   "metadata": {},
   "outputs": [],
   "source": [
    "a, b, c = sp.symbols(\"a, b, c\")"
   ]
  },
  {
   "cell_type": "code",
   "execution_count": 5,
   "metadata": {},
   "outputs": [
    {
     "output_type": "execute_result",
     "data": {
      "text/plain": [
       "sympy.core.symbol.Symbol"
      ]
     },
     "metadata": {},
     "execution_count": 5
    }
   ],
   "source": [
    "type(a)"
   ]
  },
  {
   "cell_type": "markdown",
   "metadata": {},
   "source": [
    "Podemos agregar algunas propiedades a los símbolos cuando son creados:"
   ]
  },
  {
   "cell_type": "code",
   "execution_count": 6,
   "metadata": {},
   "outputs": [],
   "source": [
    "x = sp.Symbol('x', real=True)"
   ]
  },
  {
   "cell_type": "code",
   "execution_count": 7,
   "metadata": {},
   "outputs": [
    {
     "output_type": "execute_result",
     "data": {
      "text/plain": [
       "False"
      ]
     },
     "metadata": {},
     "execution_count": 7
    }
   ],
   "source": [
    "x.is_imaginary"
   ]
  },
  {
   "cell_type": "code",
   "execution_count": 8,
   "metadata": {},
   "outputs": [],
   "source": [
    "x = sp.Symbol('x', positive=True)"
   ]
  },
  {
   "cell_type": "code",
   "execution_count": 9,
   "metadata": {},
   "outputs": [
    {
     "output_type": "execute_result",
     "data": {
      "text/plain": [
       "True"
      ],
      "text/latex": "$\\displaystyle \\text{True}$"
     },
     "metadata": {},
     "execution_count": 9
    }
   ],
   "source": [
    "x > 0"
   ]
  },
  {
   "cell_type": "markdown",
   "metadata": {},
   "source": [
    "### Números complejos\n",
    "\n",
    "La unidad imaginaria es denotada por `I` en SymPy. "
   ]
  },
  {
   "cell_type": "code",
   "execution_count": 10,
   "metadata": {},
   "outputs": [
    {
     "output_type": "execute_result",
     "data": {
      "text/plain": [
       "2 + 3*I"
      ],
      "text/latex": "$\\displaystyle 2 + 3 i$"
     },
     "metadata": {},
     "execution_count": 10
    }
   ],
   "source": [
    "2+3*sp.I"
   ]
  },
  {
   "cell_type": "code",
   "execution_count": 11,
   "metadata": {},
   "outputs": [
    {
     "output_type": "execute_result",
     "data": {
      "text/plain": [
       "-1"
      ],
      "text/latex": "$\\displaystyle -1$"
     },
     "metadata": {},
     "execution_count": 11
    }
   ],
   "source": [
    "sp.I**2"
   ]
  },
  {
   "cell_type": "code",
   "execution_count": 12,
   "metadata": {},
   "outputs": [
    {
     "output_type": "execute_result",
     "data": {
      "text/plain": [
       "(I*x + 1)**2"
      ],
      "text/latex": "$\\displaystyle \\left(i x + 1\\right)^{2}$"
     },
     "metadata": {},
     "execution_count": 12
    }
   ],
   "source": [
    "(x*sp.I + 1)**2"
   ]
  },
  {
   "cell_type": "markdown",
   "metadata": {},
   "source": [
    "### Números racionales\n",
    "\n",
    "Existen tres tipos distintos de números en SymPy: `Real`, `Rational`, `Integer`: "
   ]
  },
  {
   "cell_type": "code",
   "execution_count": 13,
   "metadata": {},
   "outputs": [],
   "source": [
    "r1 = sp.Rational(4,5)\n",
    "r2 = sp.Rational(5,4)"
   ]
  },
  {
   "cell_type": "code",
   "execution_count": 14,
   "metadata": {},
   "outputs": [
    {
     "output_type": "execute_result",
     "data": {
      "text/plain": [
       "4/5"
      ],
      "text/latex": "$\\displaystyle \\frac{4}{5}$"
     },
     "metadata": {},
     "execution_count": 14
    }
   ],
   "source": [
    "r1"
   ]
  },
  {
   "cell_type": "code",
   "execution_count": 15,
   "metadata": {},
   "outputs": [
    {
     "output_type": "execute_result",
     "data": {
      "text/plain": [
       "41/20"
      ],
      "text/latex": "$\\displaystyle \\frac{41}{20}$"
     },
     "metadata": {},
     "execution_count": 15
    }
   ],
   "source": [
    "r1 + r2"
   ]
  },
  {
   "cell_type": "code",
   "execution_count": 16,
   "metadata": {},
   "outputs": [
    {
     "output_type": "execute_result",
     "data": {
      "text/plain": [
       "16/25"
      ],
      "text/latex": "$\\displaystyle \\frac{16}{25}$"
     },
     "metadata": {},
     "execution_count": 16
    }
   ],
   "source": [
    "r1/r2"
   ]
  },
  {
   "cell_type": "markdown",
   "metadata": {},
   "source": [
    "### Evaluación numérica\n",
    "\n",
    "SymPy usa una biblioteca para trabajar con números con precisión arbitraria, y tiene expresiones SymPy  predefinidas para varias constantes matemáticas, tales como: `pi`, `e` y `oo` para el infinito.\n",
    "\n",
    "Para evaluar numéricamente una expresión podemos usar la función `evalf` (o bien `N`). Éstas usan un argumento `n` que especifíca el número de cifras significativas."
   ]
  },
  {
   "cell_type": "code",
   "execution_count": 17,
   "metadata": {},
   "outputs": [
    {
     "output_type": "execute_result",
     "data": {
      "text/plain": [
       "3.1415926535897932384626433832795028841971693993751"
      ],
      "text/latex": "$\\displaystyle 3.1415926535897932384626433832795028841971693993751$"
     },
     "metadata": {},
     "execution_count": 17
    }
   ],
   "source": [
    "sp.pi.evalf(n=50)"
   ]
  },
  {
   "cell_type": "code",
   "execution_count": 18,
   "metadata": {},
   "outputs": [
    {
     "output_type": "execute_result",
     "data": {
      "text/plain": [
       "(x + pi)**2"
      ],
      "text/latex": "$\\displaystyle \\left(x + \\pi\\right)^{2}$"
     },
     "metadata": {},
     "execution_count": 18
    }
   ],
   "source": [
    "y = (x + sp.pi)**2\n",
    "y"
   ]
  },
  {
   "cell_type": "code",
   "execution_count": 19,
   "metadata": {},
   "outputs": [
    {
     "output_type": "execute_result",
     "data": {
      "text/plain": [
       "9.8696*(0.31831*x + 1)**2"
      ],
      "text/latex": "$\\displaystyle 9.8696 \\left(0.31831 x + 1\\right)^{2}$"
     },
     "metadata": {},
     "execution_count": 19
    }
   ],
   "source": [
    "sp.N(y, 5) # equivalente a evalf"
   ]
  },
  {
   "cell_type": "markdown",
   "metadata": {},
   "source": [
    "Cuando evaluamos numéricamente expresiones a menudo deseamos substituir un símbolo por un valor numérico. En SymPy hacemos esto usando la función `subs`:"
   ]
  },
  {
   "cell_type": "code",
   "execution_count": 20,
   "metadata": {},
   "outputs": [
    {
     "output_type": "execute_result",
     "data": {
      "text/plain": [
       "(1.5 + pi)**2"
      ],
      "text/latex": "$\\displaystyle \\left(1.5 + \\pi\\right)^{2}$"
     },
     "metadata": {},
     "execution_count": 20
    }
   ],
   "source": [
    "y.subs(x, 1.5)"
   ]
  },
  {
   "cell_type": "markdown",
   "metadata": {},
   "source": [
    "La función `subs` también puede ser usada para substituir símbolos y expresiones:"
   ]
  },
  {
   "cell_type": "code",
   "execution_count": 21,
   "metadata": {},
   "outputs": [
    {
     "output_type": "execute_result",
     "data": {
      "text/plain": [
       "(a + 2*pi)**2"
      ],
      "text/latex": "$\\displaystyle \\left(a + 2 \\pi\\right)^{2}$"
     },
     "metadata": {},
     "execution_count": 21
    }
   ],
   "source": [
    "y.subs(x, a+sp.pi)"
   ]
  },
  {
   "cell_type": "markdown",
   "metadata": {},
   "source": [
    "## Manipulaciones algebráicas\n",
    "\n",
    "Uno de los usos principales de un sistema de cálculo simbólico es realizar manipulaciones algebráicas de expresiones. Por ejemplo, si queremos expandir un producto, factorizar una expresión, o simplificar un resultado. En esta sección presentamos las funciones para realizar estas operaciones básicas en SymPy."
   ]
  },
  {
   "cell_type": "markdown",
   "metadata": {},
   "source": [
    "### Expand y factor\n",
    "\n",
    "Primeros pasos en la manipulación algebráica"
   ]
  },
  {
   "cell_type": "code",
   "execution_count": 22,
   "metadata": {},
   "outputs": [
    {
     "output_type": "execute_result",
     "data": {
      "text/plain": [
       "(x + 1)*(x + 2)*(x + 3)"
      ],
      "text/latex": "$\\displaystyle \\left(x + 1\\right) \\left(x + 2\\right) \\left(x + 3\\right)$"
     },
     "metadata": {},
     "execution_count": 22
    }
   ],
   "source": [
    "(x+1)*(x+2)*(x+3)"
   ]
  },
  {
   "cell_type": "code",
   "execution_count": 23,
   "metadata": {},
   "outputs": [
    {
     "output_type": "execute_result",
     "data": {
      "text/plain": [
       "x**3 + 6*x**2 + 11*x + 6"
      ],
      "text/latex": "$\\displaystyle x^{3} + 6 x^{2} + 11 x + 6$"
     },
     "metadata": {},
     "execution_count": 23
    }
   ],
   "source": [
    "sp.expand((x+1)*(x+2)*(x+3))"
   ]
  },
  {
   "cell_type": "markdown",
   "metadata": {},
   "source": [
    "La función `expand` acepta varios argumentos con los que se puede indicar qué tipo de expansión deseamos realizar. Por ejemplo, para expandir expresiones trigonométricas, usamos el argumento clave `trig=True`:"
   ]
  },
  {
   "cell_type": "code",
   "execution_count": 24,
   "metadata": {},
   "outputs": [
    {
     "output_type": "execute_result",
     "data": {
      "text/plain": [
       "sin(a + b)"
      ],
      "text/latex": "$\\displaystyle \\sin{\\left(a + b \\right)}$"
     },
     "metadata": {},
     "execution_count": 24
    }
   ],
   "source": [
    "sp.sin(a+b)"
   ]
  },
  {
   "cell_type": "code",
   "execution_count": 25,
   "metadata": {},
   "outputs": [
    {
     "output_type": "execute_result",
     "data": {
      "text/plain": [
       "sin(a)*cos(b) + sin(b)*cos(a)"
      ],
      "text/latex": "$\\displaystyle \\sin{\\left(a \\right)} \\cos{\\left(b \\right)} + \\sin{\\left(b \\right)} \\cos{\\left(a \\right)}$"
     },
     "metadata": {},
     "execution_count": 25
    }
   ],
   "source": [
    "sp.expand(sp.sin(a+b), trig=True)"
   ]
  },
  {
   "cell_type": "markdown",
   "metadata": {},
   "source": [
    "Ver `help(expand)` para una descripción detallada de los distintos tipos de expansiones que la función `expand` puede realizar."
   ]
  },
  {
   "cell_type": "markdown",
   "metadata": {},
   "source": [
    "También podemos factorizar expresiones, usando la función `factor` de SymPy: "
   ]
  },
  {
   "cell_type": "code",
   "execution_count": 26,
   "metadata": {},
   "outputs": [
    {
     "output_type": "execute_result",
     "data": {
      "text/plain": [
       "(x + 1)*(x + 2)*(x + 3)"
      ],
      "text/latex": "$\\displaystyle \\left(x + 1\\right) \\left(x + 2\\right) \\left(x + 3\\right)$"
     },
     "metadata": {},
     "execution_count": 26
    }
   ],
   "source": [
    "sp.factor(x**3 + 6*x**2 + 11*x + 6)"
   ]
  },
  {
   "cell_type": "markdown",
   "metadata": {},
   "source": [
    "### Simplify\n",
    "\n",
    "La función `simplify` intenta simplificar una expresión usando distinta técnicas. Existen también alternativas más específicas a la función `simplify`: `trigsimp`, `powsimp`, `logcombine`, etc. \n",
    "\n",
    "El uso básico de estas funciones en el siguiente:"
   ]
  },
  {
   "cell_type": "code",
   "execution_count": 27,
   "metadata": {},
   "outputs": [
    {
     "output_type": "execute_result",
     "data": {
      "text/plain": [
       "x**2 - 1"
      ],
      "text/latex": "$\\displaystyle x^{2} - 1$"
     },
     "metadata": {},
     "execution_count": 27
    }
   ],
   "source": [
    "# simplify expande un producto\n",
    "sp.simplify((x+1)*(x-1))"
   ]
  },
  {
   "cell_type": "code",
   "execution_count": 28,
   "metadata": {},
   "outputs": [
    {
     "output_type": "execute_result",
     "data": {
      "text/plain": [
       "1"
      ],
      "text/latex": "$\\displaystyle 1$"
     },
     "metadata": {},
     "execution_count": 28
    }
   ],
   "source": [
    "# simplify usa identidades trigonometricas\n",
    "sp.simplify(sp.sin(a)**2 + sp.cos(a)**2)"
   ]
  },
  {
   "cell_type": "code",
   "execution_count": 29,
   "metadata": {},
   "outputs": [
    {
     "output_type": "execute_result",
     "data": {
      "text/plain": [
       "tan(x)"
      ],
      "text/latex": "$\\displaystyle \\tan{\\left(x \\right)}$"
     },
     "metadata": {},
     "execution_count": 29
    }
   ],
   "source": [
    "sp.simplify(sp.sin(x)/sp.cos(x))"
   ]
  },
  {
   "cell_type": "markdown",
   "metadata": {},
   "source": [
    "## apart and together\n",
    "\n",
    "Podemos también manipular expresiones simbólicas que involucran fracciones usando las funciones `apart` y `together`. La primera de estas funciones separa una fracción en sus correspondientes fracciones parciales; la segunda hace todo lo contrario."
   ]
  },
  {
   "cell_type": "code",
   "execution_count": 30,
   "metadata": {},
   "outputs": [],
   "source": [
    "f1 = 1/((a+1)*(a+2))"
   ]
  },
  {
   "cell_type": "code",
   "execution_count": 31,
   "metadata": {},
   "outputs": [
    {
     "output_type": "execute_result",
     "data": {
      "text/plain": [
       "1/((a + 1)*(a + 2))"
      ],
      "text/latex": "$\\displaystyle \\frac{1}{\\left(a + 1\\right) \\left(a + 2\\right)}$"
     },
     "metadata": {},
     "execution_count": 31
    }
   ],
   "source": [
    "f1"
   ]
  },
  {
   "cell_type": "code",
   "execution_count": 32,
   "metadata": {},
   "outputs": [
    {
     "output_type": "execute_result",
     "data": {
      "text/plain": [
       "-1/(a + 2) + 1/(a + 1)"
      ],
      "text/latex": "$\\displaystyle - \\frac{1}{a + 2} + \\frac{1}{a + 1}$"
     },
     "metadata": {},
     "execution_count": 32
    }
   ],
   "source": [
    "sp.apart(f1)"
   ]
  },
  {
   "cell_type": "code",
   "execution_count": 33,
   "metadata": {},
   "outputs": [],
   "source": [
    "f2 = 1/(a+2) + 1/(a+3)"
   ]
  },
  {
   "cell_type": "code",
   "execution_count": 34,
   "metadata": {},
   "outputs": [
    {
     "output_type": "execute_result",
     "data": {
      "text/plain": [
       "1/(a + 3) + 1/(a + 2)"
      ],
      "text/latex": "$\\displaystyle \\frac{1}{a + 3} + \\frac{1}{a + 2}$"
     },
     "metadata": {},
     "execution_count": 34
    }
   ],
   "source": [
    "f2"
   ]
  },
  {
   "cell_type": "code",
   "execution_count": 35,
   "metadata": {},
   "outputs": [
    {
     "output_type": "execute_result",
     "data": {
      "text/plain": [
       "(2*a + 5)/((a + 2)*(a + 3))"
      ],
      "text/latex": "$\\displaystyle \\frac{2 a + 5}{\\left(a + 2\\right) \\left(a + 3\\right)}$"
     },
     "metadata": {},
     "execution_count": 35
    }
   ],
   "source": [
    "sp.together(f2)"
   ]
  },
  {
   "cell_type": "markdown",
   "metadata": {},
   "source": [
    "### Sumas y productos\n",
    "\n",
    "Podemos evaluar sumatorias y productos usando las funciones `Sum` y `Product`"
   ]
  },
  {
   "cell_type": "code",
   "execution_count": 36,
   "metadata": {},
   "outputs": [],
   "source": [
    "n = sp.Symbol(\"n\", integer=True)"
   ]
  },
  {
   "cell_type": "code",
   "execution_count": 37,
   "metadata": {},
   "outputs": [
    {
     "output_type": "execute_result",
     "data": {
      "text/plain": [
       "Sum(n**(-2), (n, 1, 10))"
      ],
      "text/latex": "$\\displaystyle \\sum_{n=1}^{10} \\frac{1}{n^{2}}$"
     },
     "metadata": {},
     "execution_count": 37
    }
   ],
   "source": [
    "suma = sp.Sum(1/n**2, (n, 1, 10))\n",
    "suma"
   ]
  },
  {
   "cell_type": "code",
   "execution_count": 38,
   "metadata": {},
   "outputs": [
    {
     "output_type": "execute_result",
     "data": {
      "text/plain": [
       "1968329/1270080"
      ],
      "text/latex": "$\\displaystyle \\frac{1968329}{1270080}$"
     },
     "metadata": {},
     "execution_count": 38
    }
   ],
   "source": [
    "suma.doit()"
   ]
  },
  {
   "cell_type": "code",
   "execution_count": 39,
   "metadata": {},
   "outputs": [
    {
     "output_type": "execute_result",
     "data": {
      "text/plain": [
       "1.54976773116654"
      ],
      "text/latex": "$\\displaystyle 1.54976773116654$"
     },
     "metadata": {},
     "execution_count": 39
    }
   ],
   "source": [
    "suma.evalf()"
   ]
  },
  {
   "cell_type": "code",
   "execution_count": 40,
   "metadata": {},
   "outputs": [
    {
     "output_type": "execute_result",
     "data": {
      "text/plain": [
       "Sum(n**(-2), (n, 1, oo))"
      ],
      "text/latex": "$\\displaystyle \\sum_{n=1}^{\\infty} \\frac{1}{n^{2}}$"
     },
     "metadata": {},
     "execution_count": 40
    }
   ],
   "source": [
    "suma2 = sp.Sum(1/n**2, (n, 1, sp.oo))\n",
    "suma2"
   ]
  },
  {
   "cell_type": "code",
   "execution_count": 41,
   "metadata": {},
   "outputs": [
    {
     "output_type": "execute_result",
     "data": {
      "text/plain": [
       "1.64493406684823"
      ],
      "text/latex": "$\\displaystyle 1.64493406684823$"
     },
     "metadata": {},
     "execution_count": 41
    }
   ],
   "source": [
    "suma2.evalf()"
   ]
  },
  {
   "cell_type": "code",
   "execution_count": 42,
   "metadata": {},
   "outputs": [
    {
     "output_type": "execute_result",
     "data": {
      "text/plain": [
       "Sum(x**n/factorial(n), (n, 0, oo))"
      ],
      "text/latex": "$\\displaystyle \\sum_{n=0}^{\\infty} \\frac{x^{n}}{n!}$"
     },
     "metadata": {},
     "execution_count": 42
    }
   ],
   "source": [
    "suma3 = sp.Sum(x**n/(sp.factorial(n)),(n,0,sp.oo))\n",
    "suma3"
   ]
  },
  {
   "cell_type": "code",
   "execution_count": 43,
   "metadata": {},
   "outputs": [
    {
     "output_type": "execute_result",
     "data": {
      "text/plain": [
       "exp(x)"
      ],
      "text/latex": "$\\displaystyle e^{x}$"
     },
     "metadata": {},
     "execution_count": 43
    }
   ],
   "source": [
    "suma3.doit()"
   ]
  },
  {
   "cell_type": "markdown",
   "metadata": {},
   "source": [
    "Productos funcionan de manera similar:"
   ]
  },
  {
   "cell_type": "code",
   "execution_count": 44,
   "metadata": {},
   "outputs": [
    {
     "output_type": "execute_result",
     "data": {
      "text/plain": [
       "Product(n, (n, 1, 10))"
      ],
      "text/latex": "$\\displaystyle \\prod_{n=1}^{10} n$"
     },
     "metadata": {},
     "execution_count": 44
    }
   ],
   "source": [
    "producto = sp.Product(n, (n, 1, 10)) # 10!\n",
    "producto"
   ]
  },
  {
   "cell_type": "code",
   "execution_count": 45,
   "metadata": {},
   "outputs": [
    {
     "output_type": "execute_result",
     "data": {
      "text/plain": [
       "3628800"
      ],
      "text/latex": "$\\displaystyle 3628800$"
     },
     "metadata": {},
     "execution_count": 45
    }
   ],
   "source": [
    "producto.doit()"
   ]
  },
  {
   "cell_type": "code",
   "execution_count": 46,
   "metadata": {},
   "outputs": [
    {
     "output_type": "execute_result",
     "data": {
      "text/plain": [
       "3628800.00000000"
      ],
      "text/latex": "$\\displaystyle 3628800.0$"
     },
     "metadata": {},
     "execution_count": 46
    }
   ],
   "source": [
    "producto.evalf()"
   ]
  },
  {
   "cell_type": "markdown",
   "metadata": {},
   "source": [
    "### Límites\n",
    "\n",
    "SymPy permite evaluar límites usando la función `limit`. Por ejemplo, "
   ]
  },
  {
   "cell_type": "code",
   "execution_count": 47,
   "metadata": {},
   "outputs": [
    {
     "output_type": "execute_result",
     "data": {
      "text/plain": [
       "1"
      ],
      "text/latex": "$\\displaystyle 1$"
     },
     "metadata": {},
     "execution_count": 47
    }
   ],
   "source": [
    "sp.limit(sp.sin(x)/x, x, 0)"
   ]
  },
  {
   "cell_type": "markdown",
   "metadata": {},
   "source": [
    "También es posible calcular límites \"por la derecha\" y \"por la izquierda\" usando el argumento opcional `dir`:"
   ]
  },
  {
   "cell_type": "code",
   "execution_count": 48,
   "metadata": {},
   "outputs": [
    {
     "output_type": "execute_result",
     "data": {
      "text/plain": [
       "oo"
      ],
      "text/latex": "$\\displaystyle \\infty$"
     },
     "metadata": {},
     "execution_count": 48
    }
   ],
   "source": [
    "sp.limit(1/x, x, 0, dir=\"+\")"
   ]
  },
  {
   "cell_type": "code",
   "execution_count": 49,
   "metadata": {
    "scrolled": true
   },
   "outputs": [
    {
     "output_type": "execute_result",
     "data": {
      "text/plain": [
       "-oo"
      ],
      "text/latex": "$\\displaystyle -\\infty$"
     },
     "metadata": {},
     "execution_count": 49
    }
   ],
   "source": [
    "sp.limit(1/x, x, 0, dir=\"-\")"
   ]
  },
  {
   "cell_type": "markdown",
   "metadata": {},
   "source": [
    "## Cálculo\n",
    "\n",
    "Además de realizar manipulaciones algebráicas, SimPy puede realizar operaciones de cálculo, tales como derivar y derivar expresiones."
   ]
  },
  {
   "cell_type": "markdown",
   "metadata": {},
   "source": [
    "### Derivación\n",
    "\n",
    "Derviar es usualmente algo simple. Usamos la función `diff`. El primer argumento es una expresión que será derivada, y el segundo argumento es el símbolo respecto al cual se realizará la derivada:"
   ]
  },
  {
   "cell_type": "code",
   "execution_count": 50,
   "metadata": {},
   "outputs": [
    {
     "output_type": "execute_result",
     "data": {
      "text/plain": [
       "(x + pi)**4"
      ],
      "text/latex": "$\\displaystyle \\left(x + \\pi\\right)^{4}$"
     },
     "metadata": {},
     "execution_count": 50
    }
   ],
   "source": [
    "y**2"
   ]
  },
  {
   "cell_type": "code",
   "execution_count": 51,
   "metadata": {},
   "outputs": [
    {
     "output_type": "execute_result",
     "data": {
      "text/plain": [
       "4*(x + pi)**3"
      ],
      "text/latex": "$\\displaystyle 4 \\left(x + \\pi\\right)^{3}$"
     },
     "metadata": {},
     "execution_count": 51
    }
   ],
   "source": [
    "sp.diff(y**2, x)"
   ]
  },
  {
   "cell_type": "markdown",
   "metadata": {},
   "source": [
    "Para calcular derivadas de orden superior podemos usar:"
   ]
  },
  {
   "cell_type": "code",
   "execution_count": 52,
   "metadata": {},
   "outputs": [
    {
     "output_type": "execute_result",
     "data": {
      "text/plain": [
       "12*(x + pi)**2"
      ],
      "text/latex": "$\\displaystyle 12 \\left(x + \\pi\\right)^{2}$"
     },
     "metadata": {},
     "execution_count": 52
    }
   ],
   "source": [
    "sp.diff(y**2, x, x)"
   ]
  },
  {
   "cell_type": "markdown",
   "metadata": {},
   "source": [
    "o bien"
   ]
  },
  {
   "cell_type": "code",
   "execution_count": 53,
   "metadata": {},
   "outputs": [
    {
     "output_type": "execute_result",
     "data": {
      "text/plain": [
       "12*(x + pi)**2"
      ],
      "text/latex": "$\\displaystyle 12 \\left(x + \\pi\\right)^{2}$"
     },
     "metadata": {},
     "execution_count": 53
    }
   ],
   "source": [
    "sp.diff(y**2, x, 2) # hace lo mismo"
   ]
  },
  {
   "cell_type": "markdown",
   "metadata": {},
   "source": [
    "Podemos calcular la derivada de una expresión que depende de más de una variable:"
   ]
  },
  {
   "cell_type": "code",
   "execution_count": 54,
   "metadata": {},
   "outputs": [],
   "source": [
    "x, y, z = sp.symbols(\"x,y,z\")"
   ]
  },
  {
   "cell_type": "code",
   "execution_count": 55,
   "metadata": {},
   "outputs": [],
   "source": [
    "f = sp.sin(x*y) + sp.cos(y*z)"
   ]
  },
  {
   "cell_type": "markdown",
   "metadata": {},
   "source": [
    "Entonces, la dervidada \n",
    "\n",
    "$$\n",
    "\\frac{\\partial^3f}{\\partial x\\partial y^2},\n",
    "$$\n",
    "puede calcularse como"
   ]
  },
  {
   "cell_type": "code",
   "execution_count": 56,
   "metadata": {},
   "outputs": [
    {
     "output_type": "execute_result",
     "data": {
      "text/plain": [
       "-x*(x*y*cos(x*y) + 2*sin(x*y))"
      ],
      "text/latex": "$\\displaystyle - x \\left(x y \\cos{\\left(x y \\right)} + 2 \\sin{\\left(x y \\right)}\\right)$"
     },
     "metadata": {},
     "execution_count": 56
    }
   ],
   "source": [
    "sp.diff(f, x, 1, y, 2)"
   ]
  },
  {
   "cell_type": "markdown",
   "metadata": {},
   "source": [
    "### Integración\n",
    "\n",
    "La integración se realiza de forma similar:"
   ]
  },
  {
   "cell_type": "code",
   "execution_count": 57,
   "metadata": {},
   "outputs": [],
   "source": [
    "f = x*sp.sin(x)"
   ]
  },
  {
   "cell_type": "code",
   "execution_count": 58,
   "metadata": {},
   "outputs": [
    {
     "output_type": "execute_result",
     "data": {
      "text/plain": [
       "-x*cos(x) + sin(x)"
      ],
      "text/latex": "$\\displaystyle - x \\cos{\\left(x \\right)} + \\sin{\\left(x \\right)}$"
     },
     "metadata": {},
     "execution_count": 58
    }
   ],
   "source": [
    "sp.integrate(f, x)"
   ]
  },
  {
   "cell_type": "markdown",
   "metadata": {},
   "source": [
    "También podemos evaluar integrales definidas, agregando la información de los límites de integración:"
   ]
  },
  {
   "cell_type": "code",
   "execution_count": 59,
   "metadata": {},
   "outputs": [
    {
     "output_type": "execute_result",
     "data": {
      "text/plain": [
       "2*pi"
      ],
      "text/latex": "$\\displaystyle 2 \\pi$"
     },
     "metadata": {},
     "execution_count": 59
    }
   ],
   "source": [
    "sp.integrate(f, (x, -sp.pi, sp.pi))"
   ]
  },
  {
   "cell_type": "markdown",
   "metadata": {},
   "source": [
    "Esto incluye el caso en que los límites son infinitos"
   ]
  },
  {
   "cell_type": "code",
   "execution_count": 60,
   "metadata": {},
   "outputs": [
    {
     "output_type": "execute_result",
     "data": {
      "text/plain": [
       "sqrt(pi)"
      ],
      "text/latex": "$\\displaystyle \\sqrt{\\pi}$"
     },
     "metadata": {},
     "execution_count": 60
    }
   ],
   "source": [
    "sp.integrate(sp.exp(-x**2), (x, -sp.oo, sp.oo))"
   ]
  },
  {
   "cell_type": "code",
   "execution_count": 61,
   "metadata": {},
   "outputs": [
    {
     "output_type": "execute_result",
     "data": {
      "text/plain": [
       "Piecewise((x**(n + 1)/(n + 1), Ne(n, -1)), (log(x), True))"
      ],
      "text/latex": "$\\displaystyle \\begin{cases} \\frac{x^{n + 1}}{n + 1} & \\text{for}\\: n \\neq -1 \\\\\\log{\\left(x \\right)} & \\text{otherwise} \\end{cases}$"
     },
     "metadata": {},
     "execution_count": 61
    }
   ],
   "source": [
    "n = sp.Symbol('n', int=True)\n",
    "resultado = sp.integrate(x**n,x)\n",
    "resultado"
   ]
  },
  {
   "cell_type": "markdown",
   "metadata": {},
   "source": [
    "# Series\n",
    "\n",
    "SymPy puede realizar expansiones en series de una expresión, usando la función `series`:"
   ]
  },
  {
   "cell_type": "markdown",
   "metadata": {},
   "source": [
    "## Series de Fourier"
   ]
  },
  {
   "cell_type": "code",
   "execution_count": 62,
   "metadata": {},
   "outputs": [
    {
     "output_type": "execute_result",
     "data": {
      "text/plain": [
       "FourierSeries(Heaviside(x), (x, -pi, pi), (1/2, SeqFormula(Piecewise((pi, Eq(_n, 0)), (sin(_n*pi)/_n, True))*cos(_n*x)/pi, (_n, 1, oo)), SeqFormula((-Piecewise((0, Eq(_n, 0)), (-1/_n, True)) + Piecewise((0, Eq(_n, 0)), (-cos(_n*pi)/_n, True)))*sin(_n*x)/pi, (_n, 1, oo))))"
      ],
      "text/latex": "$\\displaystyle \\frac{2 \\sin{\\left(x \\right)}}{\\pi} + \\frac{2 \\sin{\\left(3 x \\right)}}{3 \\pi} + \\frac{1}{2} + \\ldots$"
     },
     "metadata": {},
     "execution_count": 62
    }
   ],
   "source": [
    "sp.fourier_series(sp.Heaviside(x))"
   ]
  },
  {
   "cell_type": "code",
   "execution_count": 63,
   "metadata": {},
   "outputs": [
    {
     "output_type": "execute_result",
     "data": {
      "text/plain": [
       "2*sin(x)/pi + 2*sin(3*x)/(3*pi) + 2*sin(5*x)/(5*pi) + 2*sin(7*x)/(7*pi) + 2*sin(9*x)/(9*pi) + 2*sin(11*x)/(11*pi) + 2*sin(13*x)/(13*pi) + 2*sin(15*x)/(15*pi) + 2*sin(17*x)/(17*pi) + 1/2"
      ],
      "text/latex": "$\\displaystyle \\frac{2 \\sin{\\left(x \\right)}}{\\pi} + \\frac{2 \\sin{\\left(3 x \\right)}}{3 \\pi} + \\frac{2 \\sin{\\left(5 x \\right)}}{5 \\pi} + \\frac{2 \\sin{\\left(7 x \\right)}}{7 \\pi} + \\frac{2 \\sin{\\left(9 x \\right)}}{9 \\pi} + \\frac{2 \\sin{\\left(11 x \\right)}}{11 \\pi} + \\frac{2 \\sin{\\left(13 x \\right)}}{13 \\pi} + \\frac{2 \\sin{\\left(15 x \\right)}}{15 \\pi} + \\frac{2 \\sin{\\left(17 x \\right)}}{17 \\pi} + \\frac{1}{2}$"
     },
     "metadata": {},
     "execution_count": 63
    }
   ],
   "source": [
    "sp.fourier_series(sp.Heaviside(x)).truncate(10)"
   ]
  },
  {
   "cell_type": "markdown",
   "metadata": {},
   "source": [
    "### Transformada de Fourier"
   ]
  },
  {
   "cell_type": "code",
   "execution_count": 64,
   "metadata": {},
   "outputs": [
    {
     "output_type": "execute_result",
     "data": {
      "text/plain": [
       "DiracDelta(-a + x)"
      ],
      "text/latex": "$\\displaystyle \\delta\\left(- a + x\\right)$"
     },
     "metadata": {},
     "execution_count": 64
    }
   ],
   "source": [
    "f = sp.DiracDelta(x-a)\n",
    "f"
   ]
  },
  {
   "cell_type": "code",
   "execution_count": 65,
   "metadata": {},
   "outputs": [
    {
     "output_type": "execute_result",
     "data": {
      "text/plain": [
       "exp(-2*I*pi*a*k)"
      ],
      "text/latex": "$\\displaystyle e^{- 2 i \\pi a k}$"
     },
     "metadata": {},
     "execution_count": 65
    }
   ],
   "source": [
    "k = sp.Symbol('k', real=True)\n",
    "sp.fourier_transform(f,x,k)"
   ]
  },
  {
   "cell_type": "code",
   "execution_count": 66,
   "metadata": {},
   "outputs": [
    {
     "output_type": "execute_result",
     "data": {
      "text/plain": [
       "1 + x + x**2/2 + x**3/6 + x**4/24 + x**5/120 + O(x**6)"
      ],
      "text/latex": "$\\displaystyle 1 + x + \\frac{x^{2}}{2} + \\frac{x^{3}}{6} + \\frac{x^{4}}{24} + \\frac{x^{5}}{120} + O\\left(x^{6}\\right)$"
     },
     "metadata": {},
     "execution_count": 66
    }
   ],
   "source": [
    "sp.series(sp.exp(x), x)"
   ]
  },
  {
   "cell_type": "markdown",
   "metadata": {},
   "source": [
    "Por defecto, la expansión se realiza en torno a cero ($x=0$), pero podemos también expandir en torno a otro valor, incluyéndolo en los argumentos de la función:"
   ]
  },
  {
   "cell_type": "code",
   "execution_count": 67,
   "metadata": {},
   "outputs": [
    {
     "output_type": "execute_result",
     "data": {
      "text/plain": [
       "E + E*(x - 1) + E*(x - 1)**2/2 + E*(x - 1)**3/6 + E*(x - 1)**4/24 + E*(x - 1)**5/120 + O((x - 1)**6, (x, 1))"
      ],
      "text/latex": "$\\displaystyle e + e \\left(x - 1\\right) + \\frac{e \\left(x - 1\\right)^{2}}{2} + \\frac{e \\left(x - 1\\right)^{3}}{6} + \\frac{e \\left(x - 1\\right)^{4}}{24} + \\frac{e \\left(x - 1\\right)^{5}}{120} + O\\left(\\left(x - 1\\right)^{6}; x\\rightarrow 1\\right)$"
     },
     "metadata": {},
     "execution_count": 67
    }
   ],
   "source": [
    "sp.series(sp.exp(x), x, 1)"
   ]
  },
  {
   "cell_type": "markdown",
   "metadata": {},
   "source": [
    "Además podemos definir explícitamente el orden hasta el que se realiza la expansión:"
   ]
  },
  {
   "cell_type": "code",
   "execution_count": 68,
   "metadata": {},
   "outputs": [
    {
     "output_type": "execute_result",
     "data": {
      "text/plain": [
       "1 + x + x**2/2 + x**3/6 + x**4/24 + x**5/120 + x**6/720 + x**7/5040 + x**8/40320 + x**9/362880 + O(x**10)"
      ],
      "text/latex": "$\\displaystyle 1 + x + \\frac{x^{2}}{2} + \\frac{x^{3}}{6} + \\frac{x^{4}}{24} + \\frac{x^{5}}{120} + \\frac{x^{6}}{720} + \\frac{x^{7}}{5040} + \\frac{x^{8}}{40320} + \\frac{x^{9}}{362880} + O\\left(x^{10}\\right)$"
     },
     "metadata": {},
     "execution_count": 68
    }
   ],
   "source": [
    "sp.series(sp.exp(x), x, 0, 10)"
   ]
  },
  {
   "cell_type": "markdown",
   "metadata": {},
   "source": [
    "La función `series` define un tipo especial de objeto en SymPy (sympy.core.add.Add) que incluye la información del orden hasta el que se ha realizado la expansión. Esto es útil para llevar el registro de estos órdenes en un cálculo:"
   ]
  },
  {
   "cell_type": "code",
   "execution_count": 69,
   "metadata": {},
   "outputs": [
    {
     "output_type": "execute_result",
     "data": {
      "text/plain": [
       "1 - x**2/2 + x**4/24 + O(x**5)"
      ],
      "text/latex": "$\\displaystyle 1 - \\frac{x^{2}}{2} + \\frac{x^{4}}{24} + O\\left(x^{5}\\right)$"
     },
     "metadata": {},
     "execution_count": 69
    }
   ],
   "source": [
    "s1 = sp.cos(x).series(x, 0, 5)\n",
    "s1"
   ]
  },
  {
   "cell_type": "code",
   "execution_count": 70,
   "metadata": {},
   "outputs": [
    {
     "output_type": "execute_result",
     "data": {
      "text/plain": [
       "x + O(x**2)"
      ],
      "text/latex": "$\\displaystyle x + O\\left(x^{2}\\right)$"
     },
     "metadata": {},
     "execution_count": 70
    }
   ],
   "source": [
    "s2 = sp.sin(x).series(x, 0, 2)\n",
    "s2"
   ]
  },
  {
   "cell_type": "code",
   "execution_count": 71,
   "metadata": {},
   "outputs": [
    {
     "output_type": "execute_result",
     "data": {
      "text/plain": [
       "x + O(x**2)"
      ],
      "text/latex": "$\\displaystyle x + O\\left(x^{2}\\right)$"
     },
     "metadata": {},
     "execution_count": 71
    }
   ],
   "source": [
    "sp.expand(s1 * s2)"
   ]
  },
  {
   "cell_type": "markdown",
   "metadata": {},
   "source": [
    "Si queremos eliminar la información del orden de expansión y sólo quedarnos con los términos calculados, podemos usar el método `removeO`:"
   ]
  },
  {
   "cell_type": "code",
   "execution_count": 72,
   "metadata": {},
   "outputs": [
    {
     "output_type": "execute_result",
     "data": {
      "text/plain": [
       "x**4/24 - x**2/2 + 1"
      ],
      "text/latex": "$\\displaystyle \\frac{x^{4}}{24} - \\frac{x^{2}}{2} + 1$"
     },
     "metadata": {},
     "execution_count": 72
    }
   ],
   "source": [
    "s1.removeO()"
   ]
  },
  {
   "cell_type": "markdown",
   "metadata": {},
   "source": [
    "## Funciones especiales\n",
    "\n",
    "Ver [documentación](https://docs.sympy.org/latest/modules/functions/special.html)"
   ]
  },
  {
   "cell_type": "markdown",
   "metadata": {},
   "source": [
    "### Polinomios de Legendre"
   ]
  },
  {
   "cell_type": "code",
   "execution_count": 73,
   "metadata": {},
   "outputs": [
    {
     "output_type": "execute_result",
     "data": {
      "text/plain": [
       "x"
      ],
      "text/latex": "$\\displaystyle x$"
     },
     "metadata": {},
     "execution_count": 73
    }
   ],
   "source": [
    "sp.legendre(1,x)"
   ]
  },
  {
   "cell_type": "code",
   "execution_count": 74,
   "metadata": {},
   "outputs": [
    {
     "output_type": "display_data",
     "data": {
      "text/plain": "1",
      "text/latex": "$\\displaystyle 1$"
     },
     "metadata": {}
    },
    {
     "output_type": "display_data",
     "data": {
      "text/plain": "x",
      "text/latex": "$\\displaystyle x$"
     },
     "metadata": {}
    },
    {
     "output_type": "display_data",
     "data": {
      "text/plain": "3*x**2/2 - 1/2",
      "text/latex": "$\\displaystyle \\frac{3 x^{2}}{2} - \\frac{1}{2}$"
     },
     "metadata": {}
    },
    {
     "output_type": "display_data",
     "data": {
      "text/plain": "5*x**3/2 - 3*x/2",
      "text/latex": "$\\displaystyle \\frac{5 x^{3}}{2} - \\frac{3 x}{2}$"
     },
     "metadata": {}
    },
    {
     "output_type": "display_data",
     "data": {
      "text/plain": "35*x**4/8 - 15*x**2/4 + 3/8",
      "text/latex": "$\\displaystyle \\frac{35 x^{4}}{8} - \\frac{15 x^{2}}{4} + \\frac{3}{8}$"
     },
     "metadata": {}
    },
    {
     "output_type": "display_data",
     "data": {
      "text/plain": "63*x**5/8 - 35*x**3/4 + 15*x/8",
      "text/latex": "$\\displaystyle \\frac{63 x^{5}}{8} - \\frac{35 x^{3}}{4} + \\frac{15 x}{8}$"
     },
     "metadata": {}
    },
    {
     "output_type": "display_data",
     "data": {
      "text/plain": "231*x**6/16 - 315*x**4/16 + 105*x**2/16 - 5/16",
      "text/latex": "$\\displaystyle \\frac{231 x^{6}}{16} - \\frac{315 x^{4}}{16} + \\frac{105 x^{2}}{16} - \\frac{5}{16}$"
     },
     "metadata": {}
    },
    {
     "output_type": "display_data",
     "data": {
      "text/plain": "429*x**7/16 - 693*x**5/16 + 315*x**3/16 - 35*x/16",
      "text/latex": "$\\displaystyle \\frac{429 x^{7}}{16} - \\frac{693 x^{5}}{16} + \\frac{315 x^{3}}{16} - \\frac{35 x}{16}$"
     },
     "metadata": {}
    },
    {
     "output_type": "display_data",
     "data": {
      "text/plain": "6435*x**8/128 - 3003*x**6/32 + 3465*x**4/64 - 315*x**2/32 + 35/128",
      "text/latex": "$\\displaystyle \\frac{6435 x^{8}}{128} - \\frac{3003 x^{6}}{32} + \\frac{3465 x^{4}}{64} - \\frac{315 x^{2}}{32} + \\frac{35}{128}$"
     },
     "metadata": {}
    },
    {
     "output_type": "display_data",
     "data": {
      "text/plain": "12155*x**9/128 - 6435*x**7/32 + 9009*x**5/64 - 1155*x**3/32 + 315*x/128",
      "text/latex": "$\\displaystyle \\frac{12155 x^{9}}{128} - \\frac{6435 x^{7}}{32} + \\frac{9009 x^{5}}{64} - \\frac{1155 x^{3}}{32} + \\frac{315 x}{128}$"
     },
     "metadata": {}
    }
   ],
   "source": [
    "for n in range(10):\n",
    "    display(sp.legendre(n,x))"
   ]
  },
  {
   "cell_type": "code",
   "execution_count": 75,
   "metadata": {},
   "outputs": [
    {
     "output_type": "execute_result",
     "data": {
      "text/plain": [
       "besselj(1, x)"
      ],
      "text/latex": "$\\displaystyle J_{1}\\left(x\\right)$"
     },
     "metadata": {},
     "execution_count": 75
    }
   ],
   "source": [
    "J1 = sp.besselj(1,x)\n",
    "J1"
   ]
  },
  {
   "cell_type": "code",
   "execution_count": 76,
   "metadata": {},
   "outputs": [
    {
     "output_type": "execute_result",
     "data": {
      "text/plain": [
       "x/2 - x**3/16 + x**5/384 - x**7/18432 + x**9/1474560 + O(x**10)"
      ],
      "text/latex": "$\\displaystyle \\frac{x}{2} - \\frac{x^{3}}{16} + \\frac{x^{5}}{384} - \\frac{x^{7}}{18432} + \\frac{x^{9}}{1474560} + O\\left(x^{10}\\right)$"
     },
     "metadata": {},
     "execution_count": 76
    }
   ],
   "source": [
    "J1.series(x,0,10)"
   ]
  },
  {
   "cell_type": "code",
   "execution_count": 77,
   "metadata": {},
   "outputs": [
    {
     "output_type": "execute_result",
     "data": {
      "text/plain": [
       "besselj(0, x)/2 - besselj(2, x)/2"
      ],
      "text/latex": "$\\displaystyle \\frac{J_{0}\\left(x\\right)}{2} - \\frac{J_{2}\\left(x\\right)}{2}$"
     },
     "metadata": {},
     "execution_count": 77
    }
   ],
   "source": [
    "J1.diff(x)"
   ]
  },
  {
   "cell_type": "code",
   "execution_count": 78,
   "metadata": {},
   "outputs": [
    {
     "output_type": "display_data",
     "data": {
      "text/plain": "<Figure size 432x288 with 1 Axes>",
      "image/svg+xml": "<?xml version=\"1.0\" encoding=\"utf-8\" standalone=\"no\"?>\n<!DOCTYPE svg PUBLIC \"-//W3C//DTD SVG 1.1//EN\"\n  \"http://www.w3.org/Graphics/SVG/1.1/DTD/svg11.dtd\">\n<!-- Created with matplotlib (https://matplotlib.org/) -->\n<svg height=\"288.921094pt\" version=\"1.1\" viewBox=\"0 0 427.102557 288.921094\" width=\"427.102557pt\" xmlns=\"http://www.w3.org/2000/svg\" xmlns:xlink=\"http://www.w3.org/1999/xlink\">\n <metadata>\n  <rdf:RDF xmlns:cc=\"http://creativecommons.org/ns#\" xmlns:dc=\"http://purl.org/dc/elements/1.1/\" xmlns:rdf=\"http://www.w3.org/1999/02/22-rdf-syntax-ns#\">\n   <cc:Work>\n    <dc:type rdf:resource=\"http://purl.org/dc/dcmitype/StillImage\"/>\n    <dc:date>2021-01-22T09:59:40.224725</dc:date>\n    <dc:format>image/svg+xml</dc:format>\n    <dc:creator>\n     <cc:Agent>\n      <dc:title>Matplotlib v3.3.2, https://matplotlib.org/</dc:title>\n     </cc:Agent>\n    </dc:creator>\n   </cc:Work>\n  </rdf:RDF>\n </metadata>\n <defs>\n  <style type=\"text/css\">*{stroke-linecap:butt;stroke-linejoin:round;}</style>\n </defs>\n <g id=\"figure_1\">\n  <g id=\"patch_1\">\n   <path d=\"M 0 288.921094 \nL 427.102557 288.921094 \nL 427.102557 0 \nL 0 0 \nz\n\" style=\"fill:none;\"/>\n  </g>\n  <g id=\"axes_1\">\n   <g id=\"patch_2\">\n    <path d=\"M 7.2 281.721094 \nL 416.943182 281.721094 \nL 416.943182 15.821094 \nL 7.2 15.821094 \nz\n\" style=\"fill:#ffffff;\"/>\n   </g>\n   <g id=\"matplotlib.axis_1\">\n    <g id=\"xtick_1\">\n     <g id=\"line2d_1\">\n      <defs>\n       <path d=\"M 0 0 \nL 0 3.5 \n\" id=\"ma0d81f0bfc\" style=\"stroke:#000000;stroke-width:0.8;\"/>\n      </defs>\n      <g>\n       <use style=\"stroke:#000000;stroke-width:0.8;\" x=\"25.82469\" xlink:href=\"#ma0d81f0bfc\" y=\"148.768154\"/>\n      </g>\n     </g>\n     <g id=\"text_1\">\n      <!-- −10.0 -->\n      <g transform=\"translate(10.502034 163.366591)scale(0.1 -0.1)\">\n       <defs>\n        <path d=\"M 10.59375 35.5 \nL 73.1875 35.5 \nL 73.1875 27.203125 \nL 10.59375 27.203125 \nz\n\" id=\"DejaVuSans-8722\"/>\n        <path d=\"M 12.40625 8.296875 \nL 28.515625 8.296875 \nL 28.515625 63.921875 \nL 10.984375 60.40625 \nL 10.984375 69.390625 \nL 28.421875 72.90625 \nL 38.28125 72.90625 \nL 38.28125 8.296875 \nL 54.390625 8.296875 \nL 54.390625 0 \nL 12.40625 0 \nz\n\" id=\"DejaVuSans-49\"/>\n        <path d=\"M 31.78125 66.40625 \nQ 24.171875 66.40625 20.328125 58.90625 \nQ 16.5 51.421875 16.5 36.375 \nQ 16.5 21.390625 20.328125 13.890625 \nQ 24.171875 6.390625 31.78125 6.390625 \nQ 39.453125 6.390625 43.28125 13.890625 \nQ 47.125 21.390625 47.125 36.375 \nQ 47.125 51.421875 43.28125 58.90625 \nQ 39.453125 66.40625 31.78125 66.40625 \nz\nM 31.78125 74.21875 \nQ 44.046875 74.21875 50.515625 64.515625 \nQ 56.984375 54.828125 56.984375 36.375 \nQ 56.984375 17.96875 50.515625 8.265625 \nQ 44.046875 -1.421875 31.78125 -1.421875 \nQ 19.53125 -1.421875 13.0625 8.265625 \nQ 6.59375 17.96875 6.59375 36.375 \nQ 6.59375 54.828125 13.0625 64.515625 \nQ 19.53125 74.21875 31.78125 74.21875 \nz\n\" id=\"DejaVuSans-48\"/>\n        <path d=\"M 10.6875 12.40625 \nL 21 12.40625 \nL 21 0 \nL 10.6875 0 \nz\n\" id=\"DejaVuSans-46\"/>\n       </defs>\n       <use xlink:href=\"#DejaVuSans-8722\"/>\n       <use x=\"83.789062\" xlink:href=\"#DejaVuSans-49\"/>\n       <use x=\"147.412109\" xlink:href=\"#DejaVuSans-48\"/>\n       <use x=\"211.035156\" xlink:href=\"#DejaVuSans-46\"/>\n       <use x=\"242.822266\" xlink:href=\"#DejaVuSans-48\"/>\n      </g>\n     </g>\n    </g>\n    <g id=\"xtick_2\">\n     <g id=\"line2d_2\">\n      <g>\n       <use style=\"stroke:#000000;stroke-width:0.8;\" x=\"72.386415\" xlink:href=\"#ma0d81f0bfc\" y=\"148.768154\"/>\n      </g>\n     </g>\n     <g id=\"text_2\">\n      <!-- −7.5 -->\n      <g transform=\"translate(60.245009 163.366591)scale(0.1 -0.1)\">\n       <defs>\n        <path d=\"M 8.203125 72.90625 \nL 55.078125 72.90625 \nL 55.078125 68.703125 \nL 28.609375 0 \nL 18.3125 0 \nL 43.21875 64.59375 \nL 8.203125 64.59375 \nz\n\" id=\"DejaVuSans-55\"/>\n        <path d=\"M 10.796875 72.90625 \nL 49.515625 72.90625 \nL 49.515625 64.59375 \nL 19.828125 64.59375 \nL 19.828125 46.734375 \nQ 21.96875 47.46875 24.109375 47.828125 \nQ 26.265625 48.1875 28.421875 48.1875 \nQ 40.625 48.1875 47.75 41.5 \nQ 54.890625 34.8125 54.890625 23.390625 \nQ 54.890625 11.625 47.5625 5.09375 \nQ 40.234375 -1.421875 26.90625 -1.421875 \nQ 22.3125 -1.421875 17.546875 -0.640625 \nQ 12.796875 0.140625 7.71875 1.703125 \nL 7.71875 11.625 \nQ 12.109375 9.234375 16.796875 8.0625 \nQ 21.484375 6.890625 26.703125 6.890625 \nQ 35.15625 6.890625 40.078125 11.328125 \nQ 45.015625 15.765625 45.015625 23.390625 \nQ 45.015625 31 40.078125 35.4375 \nQ 35.15625 39.890625 26.703125 39.890625 \nQ 22.75 39.890625 18.8125 39.015625 \nQ 14.890625 38.140625 10.796875 36.28125 \nz\n\" id=\"DejaVuSans-53\"/>\n       </defs>\n       <use xlink:href=\"#DejaVuSans-8722\"/>\n       <use x=\"83.789062\" xlink:href=\"#DejaVuSans-55\"/>\n       <use x=\"147.412109\" xlink:href=\"#DejaVuSans-46\"/>\n       <use x=\"179.199219\" xlink:href=\"#DejaVuSans-53\"/>\n      </g>\n     </g>\n    </g>\n    <g id=\"xtick_3\">\n     <g id=\"line2d_3\">\n      <g>\n       <use style=\"stroke:#000000;stroke-width:0.8;\" x=\"118.94814\" xlink:href=\"#ma0d81f0bfc\" y=\"148.768154\"/>\n      </g>\n     </g>\n     <g id=\"text_3\">\n      <!-- −5.0 -->\n      <g transform=\"translate(106.806734 163.366591)scale(0.1 -0.1)\">\n       <use xlink:href=\"#DejaVuSans-8722\"/>\n       <use x=\"83.789062\" xlink:href=\"#DejaVuSans-53\"/>\n       <use x=\"147.412109\" xlink:href=\"#DejaVuSans-46\"/>\n       <use x=\"179.199219\" xlink:href=\"#DejaVuSans-48\"/>\n      </g>\n     </g>\n    </g>\n    <g id=\"xtick_4\">\n     <g id=\"line2d_4\">\n      <g>\n       <use style=\"stroke:#000000;stroke-width:0.8;\" x=\"165.509866\" xlink:href=\"#ma0d81f0bfc\" y=\"148.768154\"/>\n      </g>\n     </g>\n     <g id=\"text_4\">\n      <!-- −2.5 -->\n      <g transform=\"translate(153.368459 163.366591)scale(0.1 -0.1)\">\n       <defs>\n        <path d=\"M 19.1875 8.296875 \nL 53.609375 8.296875 \nL 53.609375 0 \nL 7.328125 0 \nL 7.328125 8.296875 \nQ 12.9375 14.109375 22.625 23.890625 \nQ 32.328125 33.6875 34.8125 36.53125 \nQ 39.546875 41.84375 41.421875 45.53125 \nQ 43.3125 49.21875 43.3125 52.78125 \nQ 43.3125 58.59375 39.234375 62.25 \nQ 35.15625 65.921875 28.609375 65.921875 \nQ 23.96875 65.921875 18.8125 64.3125 \nQ 13.671875 62.703125 7.8125 59.421875 \nL 7.8125 69.390625 \nQ 13.765625 71.78125 18.9375 73 \nQ 24.125 74.21875 28.421875 74.21875 \nQ 39.75 74.21875 46.484375 68.546875 \nQ 53.21875 62.890625 53.21875 53.421875 \nQ 53.21875 48.921875 51.53125 44.890625 \nQ 49.859375 40.875 45.40625 35.40625 \nQ 44.1875 33.984375 37.640625 27.21875 \nQ 31.109375 20.453125 19.1875 8.296875 \nz\n\" id=\"DejaVuSans-50\"/>\n       </defs>\n       <use xlink:href=\"#DejaVuSans-8722\"/>\n       <use x=\"83.789062\" xlink:href=\"#DejaVuSans-50\"/>\n       <use x=\"147.412109\" xlink:href=\"#DejaVuSans-46\"/>\n       <use x=\"179.199219\" xlink:href=\"#DejaVuSans-53\"/>\n      </g>\n     </g>\n    </g>\n    <g id=\"xtick_5\">\n     <g id=\"line2d_5\">\n      <g>\n       <use style=\"stroke:#000000;stroke-width:0.8;\" x=\"212.071591\" xlink:href=\"#ma0d81f0bfc\" y=\"148.768154\"/>\n      </g>\n     </g>\n     <g id=\"text_5\">\n      <!-- 0.0 -->\n      <g transform=\"translate(204.120028 163.366591)scale(0.1 -0.1)\">\n       <use xlink:href=\"#DejaVuSans-48\"/>\n       <use x=\"63.623047\" xlink:href=\"#DejaVuSans-46\"/>\n       <use x=\"95.410156\" xlink:href=\"#DejaVuSans-48\"/>\n      </g>\n     </g>\n    </g>\n    <g id=\"xtick_6\">\n     <g id=\"line2d_6\">\n      <g>\n       <use style=\"stroke:#000000;stroke-width:0.8;\" x=\"258.633316\" xlink:href=\"#ma0d81f0bfc\" y=\"148.768154\"/>\n      </g>\n     </g>\n     <g id=\"text_6\">\n      <!-- 2.5 -->\n      <g transform=\"translate(250.681754 163.366591)scale(0.1 -0.1)\">\n       <use xlink:href=\"#DejaVuSans-50\"/>\n       <use x=\"63.623047\" xlink:href=\"#DejaVuSans-46\"/>\n       <use x=\"95.410156\" xlink:href=\"#DejaVuSans-53\"/>\n      </g>\n     </g>\n    </g>\n    <g id=\"xtick_7\">\n     <g id=\"line2d_7\">\n      <g>\n       <use style=\"stroke:#000000;stroke-width:0.8;\" x=\"305.195041\" xlink:href=\"#ma0d81f0bfc\" y=\"148.768154\"/>\n      </g>\n     </g>\n     <g id=\"text_7\">\n      <!-- 5.0 -->\n      <g transform=\"translate(297.243479 163.366591)scale(0.1 -0.1)\">\n       <use xlink:href=\"#DejaVuSans-53\"/>\n       <use x=\"63.623047\" xlink:href=\"#DejaVuSans-46\"/>\n       <use x=\"95.410156\" xlink:href=\"#DejaVuSans-48\"/>\n      </g>\n     </g>\n    </g>\n    <g id=\"xtick_8\">\n     <g id=\"line2d_8\">\n      <g>\n       <use style=\"stroke:#000000;stroke-width:0.8;\" x=\"351.756767\" xlink:href=\"#ma0d81f0bfc\" y=\"148.768154\"/>\n      </g>\n     </g>\n     <g id=\"text_8\">\n      <!-- 7.5 -->\n      <g transform=\"translate(343.805204 163.366591)scale(0.1 -0.1)\">\n       <use xlink:href=\"#DejaVuSans-55\"/>\n       <use x=\"63.623047\" xlink:href=\"#DejaVuSans-46\"/>\n       <use x=\"95.410156\" xlink:href=\"#DejaVuSans-53\"/>\n      </g>\n     </g>\n    </g>\n    <g id=\"xtick_9\">\n     <g id=\"line2d_9\">\n      <g>\n       <use style=\"stroke:#000000;stroke-width:0.8;\" x=\"398.318492\" xlink:href=\"#ma0d81f0bfc\" y=\"148.768154\"/>\n      </g>\n     </g>\n     <g id=\"text_9\">\n      <!-- 10.0 -->\n      <g transform=\"translate(387.185679 163.366591)scale(0.1 -0.1)\">\n       <use xlink:href=\"#DejaVuSans-49\"/>\n       <use x=\"63.623047\" xlink:href=\"#DejaVuSans-48\"/>\n       <use x=\"127.246094\" xlink:href=\"#DejaVuSans-46\"/>\n       <use x=\"159.033203\" xlink:href=\"#DejaVuSans-48\"/>\n      </g>\n     </g>\n    </g>\n    <g id=\"text_10\">\n     <!-- x -->\n     <g transform=\"translate(413.983807 177.044716)scale(0.1 -0.1)\">\n      <defs>\n       <path d=\"M 54.890625 54.6875 \nL 35.109375 28.078125 \nL 55.90625 0 \nL 45.3125 0 \nL 29.390625 21.484375 \nL 13.484375 0 \nL 2.875 0 \nL 24.125 28.609375 \nL 4.6875 54.6875 \nL 15.28125 54.6875 \nL 29.78125 35.203125 \nL 44.28125 54.6875 \nz\n\" id=\"DejaVuSans-120\"/>\n      </defs>\n      <use xlink:href=\"#DejaVuSans-120\"/>\n     </g>\n    </g>\n   </g>\n   <g id=\"matplotlib.axis_2\">\n    <g id=\"ytick_1\">\n     <g id=\"line2d_10\">\n      <defs>\n       <path d=\"M 0 0 \nL -3.5 0 \n\" id=\"m8d53768dcb\" style=\"stroke:#000000;stroke-width:0.8;\"/>\n      </defs>\n      <g>\n       <use style=\"stroke:#000000;stroke-width:0.8;\" x=\"212.071591\" xlink:href=\"#m8d53768dcb\" y=\"273.426705\"/>\n      </g>\n     </g>\n     <g id=\"text_11\">\n      <!-- −0.6 -->\n      <g transform=\"translate(180.788778 277.225924)scale(0.1 -0.1)\">\n       <defs>\n        <path d=\"M 33.015625 40.375 \nQ 26.375 40.375 22.484375 35.828125 \nQ 18.609375 31.296875 18.609375 23.390625 \nQ 18.609375 15.53125 22.484375 10.953125 \nQ 26.375 6.390625 33.015625 6.390625 \nQ 39.65625 6.390625 43.53125 10.953125 \nQ 47.40625 15.53125 47.40625 23.390625 \nQ 47.40625 31.296875 43.53125 35.828125 \nQ 39.65625 40.375 33.015625 40.375 \nz\nM 52.59375 71.296875 \nL 52.59375 62.3125 \nQ 48.875 64.0625 45.09375 64.984375 \nQ 41.3125 65.921875 37.59375 65.921875 \nQ 27.828125 65.921875 22.671875 59.328125 \nQ 17.53125 52.734375 16.796875 39.40625 \nQ 19.671875 43.65625 24.015625 45.921875 \nQ 28.375 48.1875 33.59375 48.1875 \nQ 44.578125 48.1875 50.953125 41.515625 \nQ 57.328125 34.859375 57.328125 23.390625 \nQ 57.328125 12.15625 50.6875 5.359375 \nQ 44.046875 -1.421875 33.015625 -1.421875 \nQ 20.359375 -1.421875 13.671875 8.265625 \nQ 6.984375 17.96875 6.984375 36.375 \nQ 6.984375 53.65625 15.1875 63.9375 \nQ 23.390625 74.21875 37.203125 74.21875 \nQ 40.921875 74.21875 44.703125 73.484375 \nQ 48.484375 72.75 52.59375 71.296875 \nz\n\" id=\"DejaVuSans-54\"/>\n       </defs>\n       <use xlink:href=\"#DejaVuSans-8722\"/>\n       <use x=\"83.789062\" xlink:href=\"#DejaVuSans-48\"/>\n       <use x=\"147.412109\" xlink:href=\"#DejaVuSans-46\"/>\n       <use x=\"179.199219\" xlink:href=\"#DejaVuSans-54\"/>\n      </g>\n     </g>\n    </g>\n    <g id=\"ytick_2\">\n     <g id=\"line2d_11\">\n      <g>\n       <use style=\"stroke:#000000;stroke-width:0.8;\" x=\"212.071591\" xlink:href=\"#m8d53768dcb\" y=\"231.873854\"/>\n      </g>\n     </g>\n     <g id=\"text_12\">\n      <!-- −0.4 -->\n      <g transform=\"translate(180.788778 235.673073)scale(0.1 -0.1)\">\n       <defs>\n        <path d=\"M 37.796875 64.3125 \nL 12.890625 25.390625 \nL 37.796875 25.390625 \nz\nM 35.203125 72.90625 \nL 47.609375 72.90625 \nL 47.609375 25.390625 \nL 58.015625 25.390625 \nL 58.015625 17.1875 \nL 47.609375 17.1875 \nL 47.609375 0 \nL 37.796875 0 \nL 37.796875 17.1875 \nL 4.890625 17.1875 \nL 4.890625 26.703125 \nz\n\" id=\"DejaVuSans-52\"/>\n       </defs>\n       <use xlink:href=\"#DejaVuSans-8722\"/>\n       <use x=\"83.789062\" xlink:href=\"#DejaVuSans-48\"/>\n       <use x=\"147.412109\" xlink:href=\"#DejaVuSans-46\"/>\n       <use x=\"179.199219\" xlink:href=\"#DejaVuSans-52\"/>\n      </g>\n     </g>\n    </g>\n    <g id=\"ytick_3\">\n     <g id=\"line2d_12\">\n      <g>\n       <use style=\"stroke:#000000;stroke-width:0.8;\" x=\"212.071591\" xlink:href=\"#m8d53768dcb\" y=\"190.321004\"/>\n      </g>\n     </g>\n     <g id=\"text_13\">\n      <!-- −0.2 -->\n      <g transform=\"translate(180.788778 194.120223)scale(0.1 -0.1)\">\n       <use xlink:href=\"#DejaVuSans-8722\"/>\n       <use x=\"83.789062\" xlink:href=\"#DejaVuSans-48\"/>\n       <use x=\"147.412109\" xlink:href=\"#DejaVuSans-46\"/>\n       <use x=\"179.199219\" xlink:href=\"#DejaVuSans-50\"/>\n      </g>\n     </g>\n    </g>\n    <g id=\"ytick_4\">\n     <g id=\"line2d_13\">\n      <g>\n       <use style=\"stroke:#000000;stroke-width:0.8;\" x=\"212.071591\" xlink:href=\"#m8d53768dcb\" y=\"148.768154\"/>\n      </g>\n     </g>\n     <g id=\"text_14\">\n      <!-- 0.0 -->\n      <g transform=\"translate(189.168466 152.567372)scale(0.1 -0.1)\">\n       <use xlink:href=\"#DejaVuSans-48\"/>\n       <use x=\"63.623047\" xlink:href=\"#DejaVuSans-46\"/>\n       <use x=\"95.410156\" xlink:href=\"#DejaVuSans-48\"/>\n      </g>\n     </g>\n    </g>\n    <g id=\"ytick_5\">\n     <g id=\"line2d_14\">\n      <g>\n       <use style=\"stroke:#000000;stroke-width:0.8;\" x=\"212.071591\" xlink:href=\"#m8d53768dcb\" y=\"107.215303\"/>\n      </g>\n     </g>\n     <g id=\"text_15\">\n      <!-- 0.2 -->\n      <g transform=\"translate(189.168466 111.014522)scale(0.1 -0.1)\">\n       <use xlink:href=\"#DejaVuSans-48\"/>\n       <use x=\"63.623047\" xlink:href=\"#DejaVuSans-46\"/>\n       <use x=\"95.410156\" xlink:href=\"#DejaVuSans-50\"/>\n      </g>\n     </g>\n    </g>\n    <g id=\"ytick_6\">\n     <g id=\"line2d_15\">\n      <g>\n       <use style=\"stroke:#000000;stroke-width:0.8;\" x=\"212.071591\" xlink:href=\"#m8d53768dcb\" y=\"65.662453\"/>\n      </g>\n     </g>\n     <g id=\"text_16\">\n      <!-- 0.4 -->\n      <g transform=\"translate(189.168466 69.461672)scale(0.1 -0.1)\">\n       <use xlink:href=\"#DejaVuSans-48\"/>\n       <use x=\"63.623047\" xlink:href=\"#DejaVuSans-46\"/>\n       <use x=\"95.410156\" xlink:href=\"#DejaVuSans-52\"/>\n      </g>\n     </g>\n    </g>\n    <g id=\"ytick_7\">\n     <g id=\"line2d_16\">\n      <g>\n       <use style=\"stroke:#000000;stroke-width:0.8;\" x=\"212.071591\" xlink:href=\"#m8d53768dcb\" y=\"24.109602\"/>\n      </g>\n     </g>\n     <g id=\"text_17\">\n      <!-- 0.6 -->\n      <g transform=\"translate(189.168466 27.908821)scale(0.1 -0.1)\">\n       <use xlink:href=\"#DejaVuSans-48\"/>\n       <use x=\"63.623047\" xlink:href=\"#DejaVuSans-46\"/>\n       <use x=\"95.410156\" xlink:href=\"#DejaVuSans-54\"/>\n      </g>\n     </g>\n    </g>\n    <g id=\"text_18\">\n     <!-- f(x) -->\n     <g transform=\"translate(174.709091 24.442187)rotate(-90)scale(0.1 -0.1)\">\n      <defs>\n       <path d=\"M 37.109375 75.984375 \nL 37.109375 68.5 \nL 28.515625 68.5 \nQ 23.6875 68.5 21.796875 66.546875 \nQ 19.921875 64.59375 19.921875 59.515625 \nL 19.921875 54.6875 \nL 34.71875 54.6875 \nL 34.71875 47.703125 \nL 19.921875 47.703125 \nL 19.921875 0 \nL 10.890625 0 \nL 10.890625 47.703125 \nL 2.296875 47.703125 \nL 2.296875 54.6875 \nL 10.890625 54.6875 \nL 10.890625 58.5 \nQ 10.890625 67.625 15.140625 71.796875 \nQ 19.390625 75.984375 28.609375 75.984375 \nz\n\" id=\"DejaVuSans-102\"/>\n       <path d=\"M 31 75.875 \nQ 24.46875 64.65625 21.28125 53.65625 \nQ 18.109375 42.671875 18.109375 31.390625 \nQ 18.109375 20.125 21.3125 9.0625 \nQ 24.515625 -2 31 -13.1875 \nL 23.1875 -13.1875 \nQ 15.875 -1.703125 12.234375 9.375 \nQ 8.59375 20.453125 8.59375 31.390625 \nQ 8.59375 42.28125 12.203125 53.3125 \nQ 15.828125 64.359375 23.1875 75.875 \nz\n\" id=\"DejaVuSans-40\"/>\n       <path d=\"M 8.015625 75.875 \nL 15.828125 75.875 \nQ 23.140625 64.359375 26.78125 53.3125 \nQ 30.421875 42.28125 30.421875 31.390625 \nQ 30.421875 20.453125 26.78125 9.375 \nQ 23.140625 -1.703125 15.828125 -13.1875 \nL 8.015625 -13.1875 \nQ 14.5 -2 17.703125 9.0625 \nQ 20.90625 20.125 20.90625 31.390625 \nQ 20.90625 42.671875 17.703125 53.65625 \nQ 14.5 64.65625 8.015625 75.875 \nz\n\" id=\"DejaVuSans-41\"/>\n      </defs>\n      <use xlink:href=\"#DejaVuSans-102\"/>\n      <use x=\"35.205078\" xlink:href=\"#DejaVuSans-40\"/>\n      <use x=\"74.21875\" xlink:href=\"#DejaVuSans-120\"/>\n      <use x=\"133.398438\" xlink:href=\"#DejaVuSans-41\"/>\n     </g>\n    </g>\n   </g>\n   <g id=\"LineCollection_1\">\n    <path clip-path=\"url(#pc874e2d128)\" d=\"M 25.82469 157.800236 \nL 31.242719 172.558922 \n\" style=\"fill:none;stroke:#1f77b4;stroke-width:1.5;\"/>\n    <path clip-path=\"url(#pc874e2d128)\" d=\"M 31.242719 172.558922 \nL 37.179154 186.896274 \n\" style=\"fill:none;stroke:#1f77b4;stroke-width:1.5;\"/>\n    <path clip-path=\"url(#pc874e2d128)\" d=\"M 37.179154 186.896274 \nL 43.235074 198.042448 \n\" style=\"fill:none;stroke:#1f77b4;stroke-width:1.5;\"/>\n    <path clip-path=\"url(#pc874e2d128)\" d=\"M 43.235074 198.042448 \nL 49.341754 204.431015 \n\" style=\"fill:none;stroke:#1f77b4;stroke-width:1.5;\"/>\n    <path clip-path=\"url(#pc874e2d128)\" d=\"M 49.341754 204.431015 \nL 54.093071 205.467986 \n\" style=\"fill:none;stroke:#1f77b4;stroke-width:1.5;\"/>\n    <path clip-path=\"url(#pc874e2d128)\" d=\"M 54.093071 205.467986 \nL 59.431579 202.287033 \n\" style=\"fill:none;stroke:#1f77b4;stroke-width:1.5;\"/>\n    <path clip-path=\"url(#pc874e2d128)\" d=\"M 59.431579 202.287033 \nL 64.28723 195.482566 \n\" style=\"fill:none;stroke:#1f77b4;stroke-width:1.5;\"/>\n    <path clip-path=\"url(#pc874e2d128)\" d=\"M 64.28723 195.482566 \nL 70.066831 183.011451 \n\" style=\"fill:none;stroke:#1f77b4;stroke-width:1.5;\"/>\n    <path clip-path=\"url(#pc874e2d128)\" d=\"M 70.066831 183.011451 \nL 74.527215 170.722024 \n\" style=\"fill:none;stroke:#1f77b4;stroke-width:1.5;\"/>\n    <path clip-path=\"url(#pc874e2d128)\" d=\"M 74.527215 170.722024 \nL 79.413907 155.382839 \n\" style=\"fill:none;stroke:#1f77b4;stroke-width:1.5;\"/>\n    <path clip-path=\"url(#pc874e2d128)\" d=\"M 79.413907 155.382839 \nL 84.271305 139.114458 \n\" style=\"fill:none;stroke:#1f77b4;stroke-width:1.5;\"/>\n    <path clip-path=\"url(#pc874e2d128)\" d=\"M 84.271305 139.114458 \nL 89.762347 120.80509 \n\" style=\"fill:none;stroke:#1f77b4;stroke-width:1.5;\"/>\n    <path clip-path=\"url(#pc874e2d128)\" d=\"M 89.762347 120.80509 \nL 94.164516 107.188224 \n\" style=\"fill:none;stroke:#1f77b4;stroke-width:1.5;\"/>\n    <path clip-path=\"url(#pc874e2d128)\" d=\"M 94.164516 107.188224 \nL 98.460307 95.61025 \n\" style=\"fill:none;stroke:#1f77b4;stroke-width:1.5;\"/>\n    <path clip-path=\"url(#pc874e2d128)\" d=\"M 98.460307 95.61025 \nL 102.867828 86.17548 \n\" style=\"fill:none;stroke:#1f77b4;stroke-width:1.5;\"/>\n    <path clip-path=\"url(#pc874e2d128)\" d=\"M 102.867828 86.17548 \nL 107.426609 79.652037 \n\" style=\"fill:none;stroke:#1f77b4;stroke-width:1.5;\"/>\n    <path clip-path=\"url(#pc874e2d128)\" d=\"M 107.426609 79.652037 \nL 110.675756 77.292996 \n\" style=\"fill:none;stroke:#1f77b4;stroke-width:1.5;\"/>\n    <path clip-path=\"url(#pc874e2d128)\" d=\"M 110.675756 77.292996 \nL 113.402971 76.894999 \n\" style=\"fill:none;stroke:#1f77b4;stroke-width:1.5;\"/>\n    <path clip-path=\"url(#pc874e2d128)\" d=\"M 113.402971 76.894999 \nL 116.793232 78.484872 \n\" style=\"fill:none;stroke:#1f77b4;stroke-width:1.5;\"/>\n    <path clip-path=\"url(#pc874e2d128)\" d=\"M 116.793232 78.484872 \nL 119.903404 81.995139 \n\" style=\"fill:none;stroke:#1f77b4;stroke-width:1.5;\"/>\n    <path clip-path=\"url(#pc874e2d128)\" d=\"M 119.903404 81.995139 \nL 123.578714 88.630069 \n\" style=\"fill:none;stroke:#1f77b4;stroke-width:1.5;\"/>\n    <path clip-path=\"url(#pc874e2d128)\" d=\"M 123.578714 88.630069 \nL 127.385504 98.19925 \n\" style=\"fill:none;stroke:#1f77b4;stroke-width:1.5;\"/>\n    <path clip-path=\"url(#pc874e2d128)\" d=\"M 127.385504 98.19925 \nL 134.115843 120.993704 \n\" style=\"fill:none;stroke:#1f77b4;stroke-width:1.5;\"/>\n    <path clip-path=\"url(#pc874e2d128)\" d=\"M 134.115843 120.993704 \nL 140.034513 145.760355 \n\" style=\"fill:none;stroke:#1f77b4;stroke-width:1.5;\"/>\n    <path clip-path=\"url(#pc874e2d128)\" d=\"M 140.034513 145.760355 \nL 145.523525 170.941242 \n\" style=\"fill:none;stroke:#1f77b4;stroke-width:1.5;\"/>\n    <path clip-path=\"url(#pc874e2d128)\" d=\"M 145.523525 170.941242 \nL 152.65215 203.869837 \n\" style=\"fill:none;stroke:#1f77b4;stroke-width:1.5;\"/>\n    <path clip-path=\"url(#pc874e2d128)\" d=\"M 152.65215 203.869837 \nL 159.332407 231.685399 \n\" style=\"fill:none;stroke:#1f77b4;stroke-width:1.5;\"/>\n    <path clip-path=\"url(#pc874e2d128)\" d=\"M 159.332407 231.685399 \nL 165.386442 251.704706 \n\" style=\"fill:none;stroke:#1f77b4;stroke-width:1.5;\"/>\n    <path clip-path=\"url(#pc874e2d128)\" d=\"M 165.386442 251.704706 \nL 169.236581 260.937918 \n\" style=\"fill:none;stroke:#1f77b4;stroke-width:1.5;\"/>\n    <path clip-path=\"url(#pc874e2d128)\" d=\"M 169.236581 260.937918 \nL 172.532884 266.322459 \n\" style=\"fill:none;stroke:#1f77b4;stroke-width:1.5;\"/>\n    <path clip-path=\"url(#pc874e2d128)\" d=\"M 172.532884 266.322459 \nL 175.41462 268.974845 \n\" style=\"fill:none;stroke:#1f77b4;stroke-width:1.5;\"/>\n    <path clip-path=\"url(#pc874e2d128)\" d=\"M 175.41462 268.974845 \nL 178.223949 269.63473 \n\" style=\"fill:none;stroke:#1f77b4;stroke-width:1.5;\"/>\n    <path clip-path=\"url(#pc874e2d128)\" d=\"M 178.223949 269.63473 \nL 181.475059 267.976331 \n\" style=\"fill:none;stroke:#1f77b4;stroke-width:1.5;\"/>\n    <path clip-path=\"url(#pc874e2d128)\" d=\"M 181.475059 267.976331 \nL 184.384049 264.290622 \n\" style=\"fill:none;stroke:#1f77b4;stroke-width:1.5;\"/>\n    <path clip-path=\"url(#pc874e2d128)\" d=\"M 184.384049 264.290622 \nL 187.256667 258.65382 \n\" style=\"fill:none;stroke:#1f77b4;stroke-width:1.5;\"/>\n    <path clip-path=\"url(#pc874e2d128)\" d=\"M 187.256667 258.65382 \nL 189.739493 252.244732 \n\" style=\"fill:none;stroke:#1f77b4;stroke-width:1.5;\"/>\n    <path clip-path=\"url(#pc874e2d128)\" d=\"M 189.739493 252.244732 \nL 194.749524 235.307716 \n\" style=\"fill:none;stroke:#1f77b4;stroke-width:1.5;\"/>\n    <path clip-path=\"url(#pc874e2d128)\" d=\"M 194.749524 235.307716 \nL 201.217577 206.7741 \n\" style=\"fill:none;stroke:#1f77b4;stroke-width:1.5;\"/>\n    <path clip-path=\"url(#pc874e2d128)\" d=\"M 201.217577 206.7741 \nL 206.764755 178.068486 \n\" style=\"fill:none;stroke:#1f77b4;stroke-width:1.5;\"/>\n    <path clip-path=\"url(#pc874e2d128)\" d=\"M 206.764755 178.068486 \nL 212.50187 146.368365 \n\" style=\"fill:none;stroke:#1f77b4;stroke-width:1.5;\"/>\n    <path clip-path=\"url(#pc874e2d128)\" d=\"M 212.50187 146.368365 \nL 217.802604 117.179376 \n\" style=\"fill:none;stroke:#1f77b4;stroke-width:1.5;\"/>\n    <path clip-path=\"url(#pc874e2d128)\" d=\"M 217.802604 117.179376 \nL 223.19572 89.447582 \n\" style=\"fill:none;stroke:#1f77b4;stroke-width:1.5;\"/>\n    <path clip-path=\"url(#pc874e2d128)\" d=\"M 223.19572 89.447582 \nL 228.336206 66.427228 \n\" style=\"fill:none;stroke:#1f77b4;stroke-width:1.5;\"/>\n    <path clip-path=\"url(#pc874e2d128)\" d=\"M 228.336206 66.427228 \nL 231.408951 54.806333 \n\" style=\"fill:none;stroke:#1f77b4;stroke-width:1.5;\"/>\n    <path clip-path=\"url(#pc874e2d128)\" d=\"M 231.408951 54.806333 \nL 234.448286 45.164316 \n\" style=\"fill:none;stroke:#1f77b4;stroke-width:1.5;\"/>\n    <path clip-path=\"url(#pc874e2d128)\" d=\"M 234.448286 45.164316 \nL 237.06919 38.466319 \n\" style=\"fill:none;stroke:#1f77b4;stroke-width:1.5;\"/>\n    <path clip-path=\"url(#pc874e2d128)\" d=\"M 237.06919 38.466319 \nL 239.668134 33.394143 \n\" style=\"fill:none;stroke:#1f77b4;stroke-width:1.5;\"/>\n    <path clip-path=\"url(#pc874e2d128)\" d=\"M 239.668134 33.394143 \nL 242.901788 29.353826 \n\" style=\"fill:none;stroke:#1f77b4;stroke-width:1.5;\"/>\n    <path clip-path=\"url(#pc874e2d128)\" d=\"M 242.901788 29.353826 \nL 245.868291 27.907457 \n\" style=\"fill:none;stroke:#1f77b4;stroke-width:1.5;\"/>\n    <path clip-path=\"url(#pc874e2d128)\" d=\"M 245.868291 27.907457 \nL 248.56456 28.470132 \n\" style=\"fill:none;stroke:#1f77b4;stroke-width:1.5;\"/>\n    <path clip-path=\"url(#pc874e2d128)\" d=\"M 248.56456 28.470132 \nL 251.142056 30.649548 \n\" style=\"fill:none;stroke:#1f77b4;stroke-width:1.5;\"/>\n    <path clip-path=\"url(#pc874e2d128)\" d=\"M 251.142056 30.649548 \nL 253.852524 34.612669 \n\" style=\"fill:none;stroke:#1f77b4;stroke-width:1.5;\"/>\n    <path clip-path=\"url(#pc874e2d128)\" d=\"M 253.852524 34.612669 \nL 256.372144 39.755686 \n\" style=\"fill:none;stroke:#1f77b4;stroke-width:1.5;\"/>\n    <path clip-path=\"url(#pc874e2d128)\" d=\"M 256.372144 39.755686 \nL 259.625949 48.320086 \n\" style=\"fill:none;stroke:#1f77b4;stroke-width:1.5;\"/>\n    <path clip-path=\"url(#pc874e2d128)\" d=\"M 259.625949 48.320086 \nL 262.605979 57.8697 \n\" style=\"fill:none;stroke:#1f77b4;stroke-width:1.5;\"/>\n    <path clip-path=\"url(#pc874e2d128)\" d=\"M 262.605979 57.8697 \nL 268.976958 82.670274 \n\" style=\"fill:none;stroke:#1f77b4;stroke-width:1.5;\"/>\n    <path clip-path=\"url(#pc874e2d128)\" d=\"M 268.976958 82.670274 \nL 275.657217 112.749536 \n\" style=\"fill:none;stroke:#1f77b4;stroke-width:1.5;\"/>\n    <path clip-path=\"url(#pc874e2d128)\" d=\"M 275.657217 112.749536 \nL 282.807668 145.933448 \n\" style=\"fill:none;stroke:#1f77b4;stroke-width:1.5;\"/>\n    <path clip-path=\"url(#pc874e2d128)\" d=\"M 282.807668 145.933448 \nL 289.577212 174.789789 \n\" style=\"fill:none;stroke:#1f77b4;stroke-width:1.5;\"/>\n    <path clip-path=\"url(#pc874e2d128)\" d=\"M 289.577212 174.789789 \nL 296.51987 198.653427 \n\" style=\"fill:none;stroke:#1f77b4;stroke-width:1.5;\"/>\n    <path clip-path=\"url(#pc874e2d128)\" d=\"M 296.51987 198.653427 \nL 299.624763 206.791244 \n\" style=\"fill:none;stroke:#1f77b4;stroke-width:1.5;\"/>\n    <path clip-path=\"url(#pc874e2d128)\" d=\"M 299.624763 206.791244 \nL 302.528708 212.781669 \n\" style=\"fill:none;stroke:#1f77b4;stroke-width:1.5;\"/>\n    <path clip-path=\"url(#pc874e2d128)\" d=\"M 302.528708 212.781669 \nL 305.383943 217.05997 \n\" style=\"fill:none;stroke:#1f77b4;stroke-width:1.5;\"/>\n    <path clip-path=\"url(#pc874e2d128)\" d=\"M 305.383943 217.05997 \nL 308.872973 220.054178 \n\" style=\"fill:none;stroke:#1f77b4;stroke-width:1.5;\"/>\n    <path clip-path=\"url(#pc874e2d128)\" d=\"M 308.872973 220.054178 \nL 311.501098 220.679036 \n\" style=\"fill:none;stroke:#1f77b4;stroke-width:1.5;\"/>\n    <path clip-path=\"url(#pc874e2d128)\" d=\"M 311.501098 220.679036 \nL 314.553315 219.678307 \n\" style=\"fill:none;stroke:#1f77b4;stroke-width:1.5;\"/>\n    <path clip-path=\"url(#pc874e2d128)\" d=\"M 314.553315 219.678307 \nL 319.657926 214.080944 \n\" style=\"fill:none;stroke:#1f77b4;stroke-width:1.5;\"/>\n    <path clip-path=\"url(#pc874e2d128)\" d=\"M 319.657926 214.080944 \nL 325.536325 202.283104 \n\" style=\"fill:none;stroke:#1f77b4;stroke-width:1.5;\"/>\n    <path clip-path=\"url(#pc874e2d128)\" d=\"M 325.536325 202.283104 \nL 331.980266 184.332226 \n\" style=\"fill:none;stroke:#1f77b4;stroke-width:1.5;\"/>\n    <path clip-path=\"url(#pc874e2d128)\" d=\"M 331.980266 184.332226 \nL 339.105978 161.012463 \n\" style=\"fill:none;stroke:#1f77b4;stroke-width:1.5;\"/>\n    <path clip-path=\"url(#pc874e2d128)\" d=\"M 339.105978 161.012463 \nL 345.142223 140.803238 \n\" style=\"fill:none;stroke:#1f77b4;stroke-width:1.5;\"/>\n    <path clip-path=\"url(#pc874e2d128)\" d=\"M 345.142223 140.803238 \nL 350.390582 124.542348 \n\" style=\"fill:none;stroke:#1f77b4;stroke-width:1.5;\"/>\n    <path clip-path=\"url(#pc874e2d128)\" d=\"M 350.390582 124.542348 \nL 356.499369 108.767141 \n\" style=\"fill:none;stroke:#1f77b4;stroke-width:1.5;\"/>\n    <path clip-path=\"url(#pc874e2d128)\" d=\"M 356.499369 108.767141 \nL 361.856844 98.814977 \n\" style=\"fill:none;stroke:#1f77b4;stroke-width:1.5;\"/>\n    <path clip-path=\"url(#pc874e2d128)\" d=\"M 361.856844 98.814977 \nL 367.101454 93.255419 \n\" style=\"fill:none;stroke:#1f77b4;stroke-width:1.5;\"/>\n    <path clip-path=\"url(#pc874e2d128)\" d=\"M 367.101454 93.255419 \nL 372.09131 92.072211 \n\" style=\"fill:none;stroke:#1f77b4;stroke-width:1.5;\"/>\n    <path clip-path=\"url(#pc874e2d128)\" d=\"M 372.09131 92.072211 \nL 378.593375 96.441739 \n\" style=\"fill:none;stroke:#1f77b4;stroke-width:1.5;\"/>\n    <path clip-path=\"url(#pc874e2d128)\" d=\"M 378.593375 96.441739 \nL 383.951199 104.567639 \n\" style=\"fill:none;stroke:#1f77b4;stroke-width:1.5;\"/>\n    <path clip-path=\"url(#pc874e2d128)\" d=\"M 383.951199 104.567639 \nL 391.731231 121.95546 \n\" style=\"fill:none;stroke:#1f77b4;stroke-width:1.5;\"/>\n    <path clip-path=\"url(#pc874e2d128)\" d=\"M 391.731231 121.95546 \nL 398.318492 139.736071 \n\" style=\"fill:none;stroke:#1f77b4;stroke-width:1.5;\"/>\n   </g>\n   <g id=\"patch_3\">\n    <path d=\"M 212.071591 281.721094 \nL 212.071591 15.821094 \n\" style=\"fill:none;stroke:#000000;stroke-linecap:square;stroke-linejoin:miter;stroke-width:0.8;\"/>\n   </g>\n   <g id=\"patch_4\">\n    <path d=\"M 416.943182 281.721094 \nL 416.943182 15.821094 \n\" style=\"fill:none;\"/>\n   </g>\n   <g id=\"patch_5\">\n    <path d=\"M 7.2 148.768154 \nL 416.943182 148.768154 \n\" style=\"fill:none;stroke:#000000;stroke-linecap:square;stroke-linejoin:miter;stroke-width:0.8;\"/>\n   </g>\n   <g id=\"patch_6\">\n    <path d=\"M 7.2 15.821094 \nL 416.943182 15.821094 \n\" style=\"fill:none;\"/>\n   </g>\n  </g>\n </g>\n <defs>\n  <clipPath id=\"pc874e2d128\">\n   <rect height=\"265.9\" width=\"409.743182\" x=\"7.2\" y=\"15.821094\"/>\n  </clipPath>\n </defs>\n</svg>\n",
      "image/png": "[encoded data removed]"
     },
     "metadata": {
      "needs_background": "light"
     }
    },
    {
     "output_type": "execute_result",
     "data": {
      "text/plain": [
       "<sympy.plotting.plot.Plot at 0x7f4d8b770af0>"
      ]
     },
     "metadata": {},
     "execution_count": 78
    }
   ],
   "source": [
    "sp.plot(J1)"
   ]
  },
  {
   "cell_type": "code",
   "execution_count": 79,
   "metadata": {},
   "outputs": [],
   "source": [
    "th, ph = sp.symbols('theta, varphi', real=True, positive=True)"
   ]
  },
  {
   "cell_type": "code",
   "execution_count": 80,
   "metadata": {},
   "outputs": [
    {
     "output_type": "execute_result",
     "data": {
      "text/plain": [
       "Ynm(1, 1, theta, varphi)"
      ],
      "text/latex": "$\\displaystyle Y_{1}^{1}\\left(\\theta,\\varphi\\right)$"
     },
     "metadata": {},
     "execution_count": 80
    }
   ],
   "source": [
    "sp.Ynm(1,1,th,ph)"
   ]
  },
  {
   "cell_type": "code",
   "execution_count": 81,
   "metadata": {},
   "outputs": [
    {
     "output_type": "execute_result",
     "data": {
      "text/plain": [
       "exp(-2*I*varphi)*Ynm(1, 1, theta, varphi)"
      ],
      "text/latex": "$\\displaystyle e^{- 2 i \\varphi} Y_{1}^{1}\\left(\\theta,\\varphi\\right)$"
     },
     "metadata": {},
     "execution_count": 81
    }
   ],
   "source": [
    "sp.Ynm(1,1,th,-ph)"
   ]
  },
  {
   "cell_type": "code",
   "execution_count": 82,
   "metadata": {},
   "outputs": [
    {
     "output_type": "execute_result",
     "data": {
      "text/plain": [
       "-sqrt(6)*exp(I*varphi)*sin(theta)/(4*sqrt(pi))"
      ],
      "text/latex": "$\\displaystyle - \\frac{\\sqrt{6} e^{i \\varphi} \\sin{\\left(\\theta \\right)}}{4 \\sqrt{\\pi}}$"
     },
     "metadata": {},
     "execution_count": 82
    }
   ],
   "source": [
    "sp.Ynm(1,1,th,ph).expand(func=True)"
   ]
  },
  {
   "cell_type": "code",
   "execution_count": 83,
   "metadata": {},
   "outputs": [
    {
     "output_type": "execute_result",
     "data": {
      "text/plain": [
       "Heaviside(x)"
      ],
      "text/latex": "$\\displaystyle \\theta\\left(x\\right)$"
     },
     "metadata": {},
     "execution_count": 83
    }
   ],
   "source": [
    "H = sp.Heaviside(x)\n",
    "H"
   ]
  },
  {
   "cell_type": "code",
   "execution_count": 84,
   "metadata": {
    "scrolled": true
   },
   "outputs": [
    {
     "output_type": "display_data",
     "data": {
      "text/plain": "<Figure size 432x288 with 1 Axes>",
      "image/svg+xml": "<?xml version=\"1.0\" encoding=\"utf-8\" standalone=\"no\"?>\n<!DOCTYPE svg PUBLIC \"-//W3C//DTD SVG 1.1//EN\"\n  \"http://www.w3.org/Graphics/SVG/1.1/DTD/svg11.dtd\">\n<!-- Created with matplotlib (https://matplotlib.org/) -->\n<svg height=\"287.034451pt\" version=\"1.1\" viewBox=\"0 0 427.102557 287.034451\" width=\"427.102557pt\" xmlns=\"http://www.w3.org/2000/svg\" xmlns:xlink=\"http://www.w3.org/1999/xlink\">\n <metadata>\n  <rdf:RDF xmlns:cc=\"http://creativecommons.org/ns#\" xmlns:dc=\"http://purl.org/dc/elements/1.1/\" xmlns:rdf=\"http://www.w3.org/1999/02/22-rdf-syntax-ns#\">\n   <cc:Work>\n    <dc:type rdf:resource=\"http://purl.org/dc/dcmitype/StillImage\"/>\n    <dc:date>2021-01-22T09:59:40.511299</dc:date>\n    <dc:format>image/svg+xml</dc:format>\n    <dc:creator>\n     <cc:Agent>\n      <dc:title>Matplotlib v3.3.2, https://matplotlib.org/</dc:title>\n     </cc:Agent>\n    </dc:creator>\n   </cc:Work>\n  </rdf:RDF>\n </metadata>\n <defs>\n  <style type=\"text/css\">*{stroke-linecap:butt;stroke-linejoin:round;}</style>\n </defs>\n <g id=\"figure_1\">\n  <g id=\"patch_1\">\n   <path d=\"M 0 287.034451 \nL 427.102557 287.034451 \nL 427.102557 0 \nL 0 0 \nz\n\" style=\"fill:none;\"/>\n  </g>\n  <g id=\"axes_1\">\n   <g id=\"patch_2\">\n    <path d=\"M 7.2 260.60473 \nL 416.943182 260.60473 \nL 416.943182 15.821094 \nL 7.2 15.821094 \nz\n\" style=\"fill:#ffffff;\"/>\n   </g>\n   <g id=\"matplotlib.axis_1\">\n    <g id=\"xtick_1\">\n     <g id=\"line2d_1\">\n      <defs>\n       <path d=\"M 0 0 \nL 0 3.5 \n\" id=\"mba26d94217\" style=\"stroke:#000000;stroke-width:0.8;\"/>\n      </defs>\n      <g>\n       <use style=\"stroke:#000000;stroke-width:0.8;\" x=\"25.82469\" xlink:href=\"#mba26d94217\" y=\"249.478201\"/>\n      </g>\n     </g>\n     <g id=\"text_1\">\n      <!-- −10.0 -->\n      <g transform=\"translate(10.502034 264.076639)scale(0.1 -0.1)\">\n       <defs>\n        <path d=\"M 10.59375 35.5 \nL 73.1875 35.5 \nL 73.1875 27.203125 \nL 10.59375 27.203125 \nz\n\" id=\"DejaVuSans-8722\"/>\n        <path d=\"M 12.40625 8.296875 \nL 28.515625 8.296875 \nL 28.515625 63.921875 \nL 10.984375 60.40625 \nL 10.984375 69.390625 \nL 28.421875 72.90625 \nL 38.28125 72.90625 \nL 38.28125 8.296875 \nL 54.390625 8.296875 \nL 54.390625 0 \nL 12.40625 0 \nz\n\" id=\"DejaVuSans-49\"/>\n        <path d=\"M 31.78125 66.40625 \nQ 24.171875 66.40625 20.328125 58.90625 \nQ 16.5 51.421875 16.5 36.375 \nQ 16.5 21.390625 20.328125 13.890625 \nQ 24.171875 6.390625 31.78125 6.390625 \nQ 39.453125 6.390625 43.28125 13.890625 \nQ 47.125 21.390625 47.125 36.375 \nQ 47.125 51.421875 43.28125 58.90625 \nQ 39.453125 66.40625 31.78125 66.40625 \nz\nM 31.78125 74.21875 \nQ 44.046875 74.21875 50.515625 64.515625 \nQ 56.984375 54.828125 56.984375 36.375 \nQ 56.984375 17.96875 50.515625 8.265625 \nQ 44.046875 -1.421875 31.78125 -1.421875 \nQ 19.53125 -1.421875 13.0625 8.265625 \nQ 6.59375 17.96875 6.59375 36.375 \nQ 6.59375 54.828125 13.0625 64.515625 \nQ 19.53125 74.21875 31.78125 74.21875 \nz\n\" id=\"DejaVuSans-48\"/>\n        <path d=\"M 10.6875 12.40625 \nL 21 12.40625 \nL 21 0 \nL 10.6875 0 \nz\n\" id=\"DejaVuSans-46\"/>\n       </defs>\n       <use xlink:href=\"#DejaVuSans-8722\"/>\n       <use x=\"83.789062\" xlink:href=\"#DejaVuSans-49\"/>\n       <use x=\"147.412109\" xlink:href=\"#DejaVuSans-48\"/>\n       <use x=\"211.035156\" xlink:href=\"#DejaVuSans-46\"/>\n       <use x=\"242.822266\" xlink:href=\"#DejaVuSans-48\"/>\n      </g>\n     </g>\n    </g>\n    <g id=\"xtick_2\">\n     <g id=\"line2d_2\">\n      <g>\n       <use style=\"stroke:#000000;stroke-width:0.8;\" x=\"72.386415\" xlink:href=\"#mba26d94217\" y=\"249.478201\"/>\n      </g>\n     </g>\n     <g id=\"text_2\">\n      <!-- −7.5 -->\n      <g transform=\"translate(60.245009 264.076639)scale(0.1 -0.1)\">\n       <defs>\n        <path d=\"M 8.203125 72.90625 \nL 55.078125 72.90625 \nL 55.078125 68.703125 \nL 28.609375 0 \nL 18.3125 0 \nL 43.21875 64.59375 \nL 8.203125 64.59375 \nz\n\" id=\"DejaVuSans-55\"/>\n        <path d=\"M 10.796875 72.90625 \nL 49.515625 72.90625 \nL 49.515625 64.59375 \nL 19.828125 64.59375 \nL 19.828125 46.734375 \nQ 21.96875 47.46875 24.109375 47.828125 \nQ 26.265625 48.1875 28.421875 48.1875 \nQ 40.625 48.1875 47.75 41.5 \nQ 54.890625 34.8125 54.890625 23.390625 \nQ 54.890625 11.625 47.5625 5.09375 \nQ 40.234375 -1.421875 26.90625 -1.421875 \nQ 22.3125 -1.421875 17.546875 -0.640625 \nQ 12.796875 0.140625 7.71875 1.703125 \nL 7.71875 11.625 \nQ 12.109375 9.234375 16.796875 8.0625 \nQ 21.484375 6.890625 26.703125 6.890625 \nQ 35.15625 6.890625 40.078125 11.328125 \nQ 45.015625 15.765625 45.015625 23.390625 \nQ 45.015625 31 40.078125 35.4375 \nQ 35.15625 39.890625 26.703125 39.890625 \nQ 22.75 39.890625 18.8125 39.015625 \nQ 14.890625 38.140625 10.796875 36.28125 \nz\n\" id=\"DejaVuSans-53\"/>\n       </defs>\n       <use xlink:href=\"#DejaVuSans-8722\"/>\n       <use x=\"83.789062\" xlink:href=\"#DejaVuSans-55\"/>\n       <use x=\"147.412109\" xlink:href=\"#DejaVuSans-46\"/>\n       <use x=\"179.199219\" xlink:href=\"#DejaVuSans-53\"/>\n      </g>\n     </g>\n    </g>\n    <g id=\"xtick_3\">\n     <g id=\"line2d_3\">\n      <g>\n       <use style=\"stroke:#000000;stroke-width:0.8;\" x=\"118.94814\" xlink:href=\"#mba26d94217\" y=\"249.478201\"/>\n      </g>\n     </g>\n     <g id=\"text_3\">\n      <!-- −5.0 -->\n      <g transform=\"translate(106.806734 264.076639)scale(0.1 -0.1)\">\n       <use xlink:href=\"#DejaVuSans-8722\"/>\n       <use x=\"83.789062\" xlink:href=\"#DejaVuSans-53\"/>\n       <use x=\"147.412109\" xlink:href=\"#DejaVuSans-46\"/>\n       <use x=\"179.199219\" xlink:href=\"#DejaVuSans-48\"/>\n      </g>\n     </g>\n    </g>\n    <g id=\"xtick_4\">\n     <g id=\"line2d_4\">\n      <g>\n       <use style=\"stroke:#000000;stroke-width:0.8;\" x=\"165.509866\" xlink:href=\"#mba26d94217\" y=\"249.478201\"/>\n      </g>\n     </g>\n     <g id=\"text_4\">\n      <!-- −2.5 -->\n      <g transform=\"translate(153.368459 264.076639)scale(0.1 -0.1)\">\n       <defs>\n        <path d=\"M 19.1875 8.296875 \nL 53.609375 8.296875 \nL 53.609375 0 \nL 7.328125 0 \nL 7.328125 8.296875 \nQ 12.9375 14.109375 22.625 23.890625 \nQ 32.328125 33.6875 34.8125 36.53125 \nQ 39.546875 41.84375 41.421875 45.53125 \nQ 43.3125 49.21875 43.3125 52.78125 \nQ 43.3125 58.59375 39.234375 62.25 \nQ 35.15625 65.921875 28.609375 65.921875 \nQ 23.96875 65.921875 18.8125 64.3125 \nQ 13.671875 62.703125 7.8125 59.421875 \nL 7.8125 69.390625 \nQ 13.765625 71.78125 18.9375 73 \nQ 24.125 74.21875 28.421875 74.21875 \nQ 39.75 74.21875 46.484375 68.546875 \nQ 53.21875 62.890625 53.21875 53.421875 \nQ 53.21875 48.921875 51.53125 44.890625 \nQ 49.859375 40.875 45.40625 35.40625 \nQ 44.1875 33.984375 37.640625 27.21875 \nQ 31.109375 20.453125 19.1875 8.296875 \nz\n\" id=\"DejaVuSans-50\"/>\n       </defs>\n       <use xlink:href=\"#DejaVuSans-8722\"/>\n       <use x=\"83.789062\" xlink:href=\"#DejaVuSans-50\"/>\n       <use x=\"147.412109\" xlink:href=\"#DejaVuSans-46\"/>\n       <use x=\"179.199219\" xlink:href=\"#DejaVuSans-53\"/>\n      </g>\n     </g>\n    </g>\n    <g id=\"xtick_5\">\n     <g id=\"line2d_5\">\n      <g>\n       <use style=\"stroke:#000000;stroke-width:0.8;\" x=\"212.071591\" xlink:href=\"#mba26d94217\" y=\"249.478201\"/>\n      </g>\n     </g>\n     <g id=\"text_5\">\n      <!-- 0.0 -->\n      <g transform=\"translate(204.120028 264.076639)scale(0.1 -0.1)\">\n       <use xlink:href=\"#DejaVuSans-48\"/>\n       <use x=\"63.623047\" xlink:href=\"#DejaVuSans-46\"/>\n       <use x=\"95.410156\" xlink:href=\"#DejaVuSans-48\"/>\n      </g>\n     </g>\n    </g>\n    <g id=\"xtick_6\">\n     <g id=\"line2d_6\">\n      <g>\n       <use style=\"stroke:#000000;stroke-width:0.8;\" x=\"258.633316\" xlink:href=\"#mba26d94217\" y=\"249.478201\"/>\n      </g>\n     </g>\n     <g id=\"text_6\">\n      <!-- 2.5 -->\n      <g transform=\"translate(250.681754 264.076639)scale(0.1 -0.1)\">\n       <use xlink:href=\"#DejaVuSans-50\"/>\n       <use x=\"63.623047\" xlink:href=\"#DejaVuSans-46\"/>\n       <use x=\"95.410156\" xlink:href=\"#DejaVuSans-53\"/>\n      </g>\n     </g>\n    </g>\n    <g id=\"xtick_7\">\n     <g id=\"line2d_7\">\n      <g>\n       <use style=\"stroke:#000000;stroke-width:0.8;\" x=\"305.195041\" xlink:href=\"#mba26d94217\" y=\"249.478201\"/>\n      </g>\n     </g>\n     <g id=\"text_7\">\n      <!-- 5.0 -->\n      <g transform=\"translate(297.243479 264.076639)scale(0.1 -0.1)\">\n       <use xlink:href=\"#DejaVuSans-53\"/>\n       <use x=\"63.623047\" xlink:href=\"#DejaVuSans-46\"/>\n       <use x=\"95.410156\" xlink:href=\"#DejaVuSans-48\"/>\n      </g>\n     </g>\n    </g>\n    <g id=\"xtick_8\">\n     <g id=\"line2d_8\">\n      <g>\n       <use style=\"stroke:#000000;stroke-width:0.8;\" x=\"351.756767\" xlink:href=\"#mba26d94217\" y=\"249.478201\"/>\n      </g>\n     </g>\n     <g id=\"text_8\">\n      <!-- 7.5 -->\n      <g transform=\"translate(343.805204 264.076639)scale(0.1 -0.1)\">\n       <use xlink:href=\"#DejaVuSans-55\"/>\n       <use x=\"63.623047\" xlink:href=\"#DejaVuSans-46\"/>\n       <use x=\"95.410156\" xlink:href=\"#DejaVuSans-53\"/>\n      </g>\n     </g>\n    </g>\n    <g id=\"xtick_9\">\n     <g id=\"line2d_9\">\n      <g>\n       <use style=\"stroke:#000000;stroke-width:0.8;\" x=\"398.318492\" xlink:href=\"#mba26d94217\" y=\"249.478201\"/>\n      </g>\n     </g>\n     <g id=\"text_9\">\n      <!-- 10.0 -->\n      <g transform=\"translate(387.185679 264.076639)scale(0.1 -0.1)\">\n       <use xlink:href=\"#DejaVuSans-49\"/>\n       <use x=\"63.623047\" xlink:href=\"#DejaVuSans-48\"/>\n       <use x=\"127.246094\" xlink:href=\"#DejaVuSans-46\"/>\n       <use x=\"159.033203\" xlink:href=\"#DejaVuSans-48\"/>\n      </g>\n     </g>\n    </g>\n    <g id=\"text_10\">\n     <!-- x -->\n     <g transform=\"translate(413.983807 277.754764)scale(0.1 -0.1)\">\n      <defs>\n       <path d=\"M 54.890625 54.6875 \nL 35.109375 28.078125 \nL 55.90625 0 \nL 45.3125 0 \nL 29.390625 21.484375 \nL 13.484375 0 \nL 2.875 0 \nL 24.125 28.609375 \nL 4.6875 54.6875 \nL 15.28125 54.6875 \nL 29.78125 35.203125 \nL 44.28125 54.6875 \nz\n\" id=\"DejaVuSans-120\"/>\n      </defs>\n      <use xlink:href=\"#DejaVuSans-120\"/>\n     </g>\n    </g>\n   </g>\n   <g id=\"matplotlib.axis_2\">\n    <g id=\"ytick_1\">\n     <g id=\"line2d_10\">\n      <defs>\n       <path d=\"M 0 0 \nL -3.5 0 \n\" id=\"m2009e36f57\" style=\"stroke:#000000;stroke-width:0.8;\"/>\n      </defs>\n      <g>\n       <use style=\"stroke:#000000;stroke-width:0.8;\" x=\"212.071591\" xlink:href=\"#m2009e36f57\" y=\"249.478201\"/>\n      </g>\n     </g>\n     <g id=\"text_11\">\n      <!-- 0.0 -->\n      <g transform=\"translate(189.168466 253.27742)scale(0.1 -0.1)\">\n       <use xlink:href=\"#DejaVuSans-48\"/>\n       <use x=\"63.623047\" xlink:href=\"#DejaVuSans-46\"/>\n       <use x=\"95.410156\" xlink:href=\"#DejaVuSans-48\"/>\n      </g>\n     </g>\n    </g>\n    <g id=\"ytick_2\">\n     <g id=\"line2d_11\">\n      <g>\n       <use style=\"stroke:#000000;stroke-width:0.8;\" x=\"212.071591\" xlink:href=\"#m2009e36f57\" y=\"204.972085\"/>\n      </g>\n     </g>\n     <g id=\"text_12\">\n      <!-- 0.2 -->\n      <g transform=\"translate(189.168466 208.771304)scale(0.1 -0.1)\">\n       <use xlink:href=\"#DejaVuSans-48\"/>\n       <use x=\"63.623047\" xlink:href=\"#DejaVuSans-46\"/>\n       <use x=\"95.410156\" xlink:href=\"#DejaVuSans-50\"/>\n      </g>\n     </g>\n    </g>\n    <g id=\"ytick_3\">\n     <g id=\"line2d_12\">\n      <g>\n       <use style=\"stroke:#000000;stroke-width:0.8;\" x=\"212.071591\" xlink:href=\"#m2009e36f57\" y=\"160.46597\"/>\n      </g>\n     </g>\n     <g id=\"text_13\">\n      <!-- 0.4 -->\n      <g transform=\"translate(189.168466 164.265189)scale(0.1 -0.1)\">\n       <defs>\n        <path d=\"M 37.796875 64.3125 \nL 12.890625 25.390625 \nL 37.796875 25.390625 \nz\nM 35.203125 72.90625 \nL 47.609375 72.90625 \nL 47.609375 25.390625 \nL 58.015625 25.390625 \nL 58.015625 17.1875 \nL 47.609375 17.1875 \nL 47.609375 0 \nL 37.796875 0 \nL 37.796875 17.1875 \nL 4.890625 17.1875 \nL 4.890625 26.703125 \nz\n\" id=\"DejaVuSans-52\"/>\n       </defs>\n       <use xlink:href=\"#DejaVuSans-48\"/>\n       <use x=\"63.623047\" xlink:href=\"#DejaVuSans-46\"/>\n       <use x=\"95.410156\" xlink:href=\"#DejaVuSans-52\"/>\n      </g>\n     </g>\n    </g>\n    <g id=\"ytick_4\">\n     <g id=\"line2d_13\">\n      <g>\n       <use style=\"stroke:#000000;stroke-width:0.8;\" x=\"212.071591\" xlink:href=\"#m2009e36f57\" y=\"115.959854\"/>\n      </g>\n     </g>\n     <g id=\"text_14\">\n      <!-- 0.6 -->\n      <g transform=\"translate(189.168466 119.759073)scale(0.1 -0.1)\">\n       <defs>\n        <path d=\"M 33.015625 40.375 \nQ 26.375 40.375 22.484375 35.828125 \nQ 18.609375 31.296875 18.609375 23.390625 \nQ 18.609375 15.53125 22.484375 10.953125 \nQ 26.375 6.390625 33.015625 6.390625 \nQ 39.65625 6.390625 43.53125 10.953125 \nQ 47.40625 15.53125 47.40625 23.390625 \nQ 47.40625 31.296875 43.53125 35.828125 \nQ 39.65625 40.375 33.015625 40.375 \nz\nM 52.59375 71.296875 \nL 52.59375 62.3125 \nQ 48.875 64.0625 45.09375 64.984375 \nQ 41.3125 65.921875 37.59375 65.921875 \nQ 27.828125 65.921875 22.671875 59.328125 \nQ 17.53125 52.734375 16.796875 39.40625 \nQ 19.671875 43.65625 24.015625 45.921875 \nQ 28.375 48.1875 33.59375 48.1875 \nQ 44.578125 48.1875 50.953125 41.515625 \nQ 57.328125 34.859375 57.328125 23.390625 \nQ 57.328125 12.15625 50.6875 5.359375 \nQ 44.046875 -1.421875 33.015625 -1.421875 \nQ 20.359375 -1.421875 13.671875 8.265625 \nQ 6.984375 17.96875 6.984375 36.375 \nQ 6.984375 53.65625 15.1875 63.9375 \nQ 23.390625 74.21875 37.203125 74.21875 \nQ 40.921875 74.21875 44.703125 73.484375 \nQ 48.484375 72.75 52.59375 71.296875 \nz\n\" id=\"DejaVuSans-54\"/>\n       </defs>\n       <use xlink:href=\"#DejaVuSans-48\"/>\n       <use x=\"63.623047\" xlink:href=\"#DejaVuSans-46\"/>\n       <use x=\"95.410156\" xlink:href=\"#DejaVuSans-54\"/>\n      </g>\n     </g>\n    </g>\n    <g id=\"ytick_5\">\n     <g id=\"line2d_14\">\n      <g>\n       <use style=\"stroke:#000000;stroke-width:0.8;\" x=\"212.071591\" xlink:href=\"#m2009e36f57\" y=\"71.453738\"/>\n      </g>\n     </g>\n     <g id=\"text_15\">\n      <!-- 0.8 -->\n      <g transform=\"translate(189.168466 75.252957)scale(0.1 -0.1)\">\n       <defs>\n        <path d=\"M 31.78125 34.625 \nQ 24.75 34.625 20.71875 30.859375 \nQ 16.703125 27.09375 16.703125 20.515625 \nQ 16.703125 13.921875 20.71875 10.15625 \nQ 24.75 6.390625 31.78125 6.390625 \nQ 38.8125 6.390625 42.859375 10.171875 \nQ 46.921875 13.96875 46.921875 20.515625 \nQ 46.921875 27.09375 42.890625 30.859375 \nQ 38.875 34.625 31.78125 34.625 \nz\nM 21.921875 38.8125 \nQ 15.578125 40.375 12.03125 44.71875 \nQ 8.5 49.078125 8.5 55.328125 \nQ 8.5 64.0625 14.71875 69.140625 \nQ 20.953125 74.21875 31.78125 74.21875 \nQ 42.671875 74.21875 48.875 69.140625 \nQ 55.078125 64.0625 55.078125 55.328125 \nQ 55.078125 49.078125 51.53125 44.71875 \nQ 48 40.375 41.703125 38.8125 \nQ 48.828125 37.15625 52.796875 32.3125 \nQ 56.78125 27.484375 56.78125 20.515625 \nQ 56.78125 9.90625 50.3125 4.234375 \nQ 43.84375 -1.421875 31.78125 -1.421875 \nQ 19.734375 -1.421875 13.25 4.234375 \nQ 6.78125 9.90625 6.78125 20.515625 \nQ 6.78125 27.484375 10.78125 32.3125 \nQ 14.796875 37.15625 21.921875 38.8125 \nz\nM 18.3125 54.390625 \nQ 18.3125 48.734375 21.84375 45.5625 \nQ 25.390625 42.390625 31.78125 42.390625 \nQ 38.140625 42.390625 41.71875 45.5625 \nQ 45.3125 48.734375 45.3125 54.390625 \nQ 45.3125 60.0625 41.71875 63.234375 \nQ 38.140625 66.40625 31.78125 66.40625 \nQ 25.390625 66.40625 21.84375 63.234375 \nQ 18.3125 60.0625 18.3125 54.390625 \nz\n\" id=\"DejaVuSans-56\"/>\n       </defs>\n       <use xlink:href=\"#DejaVuSans-48\"/>\n       <use x=\"63.623047\" xlink:href=\"#DejaVuSans-46\"/>\n       <use x=\"95.410156\" xlink:href=\"#DejaVuSans-56\"/>\n      </g>\n     </g>\n    </g>\n    <g id=\"ytick_6\">\n     <g id=\"line2d_15\">\n      <g>\n       <use style=\"stroke:#000000;stroke-width:0.8;\" x=\"212.071591\" xlink:href=\"#m2009e36f57\" y=\"26.947623\"/>\n      </g>\n     </g>\n     <g id=\"text_16\">\n      <!-- 1.0 -->\n      <g transform=\"translate(189.168466 30.746841)scale(0.1 -0.1)\">\n       <use xlink:href=\"#DejaVuSans-49\"/>\n       <use x=\"63.623047\" xlink:href=\"#DejaVuSans-46\"/>\n       <use x=\"95.410156\" xlink:href=\"#DejaVuSans-48\"/>\n      </g>\n     </g>\n    </g>\n    <g id=\"text_17\">\n     <!-- f(x) -->\n     <g transform=\"translate(183.088778 24.442187)rotate(-90)scale(0.1 -0.1)\">\n      <defs>\n       <path d=\"M 37.109375 75.984375 \nL 37.109375 68.5 \nL 28.515625 68.5 \nQ 23.6875 68.5 21.796875 66.546875 \nQ 19.921875 64.59375 19.921875 59.515625 \nL 19.921875 54.6875 \nL 34.71875 54.6875 \nL 34.71875 47.703125 \nL 19.921875 47.703125 \nL 19.921875 0 \nL 10.890625 0 \nL 10.890625 47.703125 \nL 2.296875 47.703125 \nL 2.296875 54.6875 \nL 10.890625 54.6875 \nL 10.890625 58.5 \nQ 10.890625 67.625 15.140625 71.796875 \nQ 19.390625 75.984375 28.609375 75.984375 \nz\n\" id=\"DejaVuSans-102\"/>\n       <path d=\"M 31 75.875 \nQ 24.46875 64.65625 21.28125 53.65625 \nQ 18.109375 42.671875 18.109375 31.390625 \nQ 18.109375 20.125 21.3125 9.0625 \nQ 24.515625 -2 31 -13.1875 \nL 23.1875 -13.1875 \nQ 15.875 -1.703125 12.234375 9.375 \nQ 8.59375 20.453125 8.59375 31.390625 \nQ 8.59375 42.28125 12.203125 53.3125 \nQ 15.828125 64.359375 23.1875 75.875 \nz\n\" id=\"DejaVuSans-40\"/>\n       <path d=\"M 8.015625 75.875 \nL 15.828125 75.875 \nQ 23.140625 64.359375 26.78125 53.3125 \nQ 30.421875 42.28125 30.421875 31.390625 \nQ 30.421875 20.453125 26.78125 9.375 \nQ 23.140625 -1.703125 15.828125 -13.1875 \nL 8.015625 -13.1875 \nQ 14.5 -2 17.703125 9.0625 \nQ 20.90625 20.125 20.90625 31.390625 \nQ 20.90625 42.671875 17.703125 53.65625 \nQ 14.5 64.65625 8.015625 75.875 \nz\n\" id=\"DejaVuSans-41\"/>\n      </defs>\n      <use xlink:href=\"#DejaVuSans-102\"/>\n      <use x=\"35.205078\" xlink:href=\"#DejaVuSans-40\"/>\n      <use x=\"74.21875\" xlink:href=\"#DejaVuSans-120\"/>\n      <use x=\"133.398438\" xlink:href=\"#DejaVuSans-41\"/>\n     </g>\n    </g>\n   </g>\n   <g id=\"LineCollection_1\">\n    <path clip-path=\"url(#p19015e354e)\" d=\"M 25.82469 249.478201 \nL 31.167918 249.478201 \n\" style=\"fill:none;stroke:#1f77b4;stroke-width:1.5;\"/>\n    <path clip-path=\"url(#p19015e354e)\" d=\"M 31.167918 249.478201 \nL 36.690097 249.478201 \n\" style=\"fill:none;stroke:#1f77b4;stroke-width:1.5;\"/>\n    <path clip-path=\"url(#p19015e354e)\" d=\"M 36.690097 249.478201 \nL 42.29878 249.478201 \n\" style=\"fill:none;stroke:#1f77b4;stroke-width:1.5;\"/>\n    <path clip-path=\"url(#p19015e354e)\" d=\"M 42.29878 249.478201 \nL 47.368812 249.478201 \n\" style=\"fill:none;stroke:#1f77b4;stroke-width:1.5;\"/>\n    <path clip-path=\"url(#p19015e354e)\" d=\"M 47.368812 249.478201 \nL 54.755312 249.478201 \n\" style=\"fill:none;stroke:#1f77b4;stroke-width:1.5;\"/>\n    <path clip-path=\"url(#p19015e354e)\" d=\"M 54.755312 249.478201 \nL 61.015722 249.478201 \n\" style=\"fill:none;stroke:#1f77b4;stroke-width:1.5;\"/>\n    <path clip-path=\"url(#p19015e354e)\" d=\"M 61.015722 249.478201 \nL 67.490068 249.478201 \n\" style=\"fill:none;stroke:#1f77b4;stroke-width:1.5;\"/>\n    <path clip-path=\"url(#p19015e354e)\" d=\"M 67.490068 249.478201 \nL 72.981766 249.478201 \n\" style=\"fill:none;stroke:#1f77b4;stroke-width:1.5;\"/>\n    <path clip-path=\"url(#p19015e354e)\" d=\"M 72.981766 249.478201 \nL 79.255595 249.478201 \n\" style=\"fill:none;stroke:#1f77b4;stroke-width:1.5;\"/>\n    <path clip-path=\"url(#p19015e354e)\" d=\"M 79.255595 249.478201 \nL 85.66512 249.478201 \n\" style=\"fill:none;stroke:#1f77b4;stroke-width:1.5;\"/>\n    <path clip-path=\"url(#p19015e354e)\" d=\"M 85.66512 249.478201 \nL 91.520368 249.478201 \n\" style=\"fill:none;stroke:#1f77b4;stroke-width:1.5;\"/>\n    <path clip-path=\"url(#p19015e354e)\" d=\"M 91.520368 249.478201 \nL 97.44627 249.478201 \n\" style=\"fill:none;stroke:#1f77b4;stroke-width:1.5;\"/>\n    <path clip-path=\"url(#p19015e354e)\" d=\"M 97.44627 249.478201 \nL 103.149703 249.478201 \n\" style=\"fill:none;stroke:#1f77b4;stroke-width:1.5;\"/>\n    <path clip-path=\"url(#p19015e354e)\" d=\"M 103.149703 249.478201 \nL 109.558959 249.478201 \n\" style=\"fill:none;stroke:#1f77b4;stroke-width:1.5;\"/>\n    <path clip-path=\"url(#p19015e354e)\" d=\"M 109.558959 249.478201 \nL 115.613851 249.478201 \n\" style=\"fill:none;stroke:#1f77b4;stroke-width:1.5;\"/>\n    <path clip-path=\"url(#p19015e354e)\" d=\"M 115.613851 249.478201 \nL 120.579975 249.478201 \n\" style=\"fill:none;stroke:#1f77b4;stroke-width:1.5;\"/>\n    <path clip-path=\"url(#p19015e354e)\" d=\"M 120.579975 249.478201 \nL 124.668796 249.478201 \n\" style=\"fill:none;stroke:#1f77b4;stroke-width:1.5;\"/>\n    <path clip-path=\"url(#p19015e354e)\" d=\"M 124.668796 249.478201 \nL 129.570158 249.478201 \n\" style=\"fill:none;stroke:#1f77b4;stroke-width:1.5;\"/>\n    <path clip-path=\"url(#p19015e354e)\" d=\"M 129.570158 249.478201 \nL 134.24278 249.478201 \n\" style=\"fill:none;stroke:#1f77b4;stroke-width:1.5;\"/>\n    <path clip-path=\"url(#p19015e354e)\" d=\"M 134.24278 249.478201 \nL 139.394693 249.478201 \n\" style=\"fill:none;stroke:#1f77b4;stroke-width:1.5;\"/>\n    <path clip-path=\"url(#p19015e354e)\" d=\"M 139.394693 249.478201 \nL 143.51457 249.478201 \n\" style=\"fill:none;stroke:#1f77b4;stroke-width:1.5;\"/>\n    <path clip-path=\"url(#p19015e354e)\" d=\"M 143.51457 249.478201 \nL 147.985029 249.478201 \n\" style=\"fill:none;stroke:#1f77b4;stroke-width:1.5;\"/>\n    <path clip-path=\"url(#p19015e354e)\" d=\"M 147.985029 249.478201 \nL 152.321698 249.478201 \n\" style=\"fill:none;stroke:#1f77b4;stroke-width:1.5;\"/>\n    <path clip-path=\"url(#p19015e354e)\" d=\"M 152.321698 249.478201 \nL 156.879689 249.478201 \n\" style=\"fill:none;stroke:#1f77b4;stroke-width:1.5;\"/>\n    <path clip-path=\"url(#p19015e354e)\" d=\"M 156.879689 249.478201 \nL 162.68634 249.478201 \n\" style=\"fill:none;stroke:#1f77b4;stroke-width:1.5;\"/>\n    <path clip-path=\"url(#p19015e354e)\" d=\"M 162.68634 249.478201 \nL 167.66441 249.478201 \n\" style=\"fill:none;stroke:#1f77b4;stroke-width:1.5;\"/>\n    <path clip-path=\"url(#p19015e354e)\" d=\"M 167.66441 249.478201 \nL 172.876627 249.478201 \n\" style=\"fill:none;stroke:#1f77b4;stroke-width:1.5;\"/>\n    <path clip-path=\"url(#p19015e354e)\" d=\"M 172.876627 249.478201 \nL 177.831642 249.478201 \n\" style=\"fill:none;stroke:#1f77b4;stroke-width:1.5;\"/>\n    <path clip-path=\"url(#p19015e354e)\" d=\"M 177.831642 249.478201 \nL 182.701154 249.478201 \n\" style=\"fill:none;stroke:#1f77b4;stroke-width:1.5;\"/>\n    <path clip-path=\"url(#p19015e354e)\" d=\"M 182.701154 249.478201 \nL 187.739356 249.478201 \n\" style=\"fill:none;stroke:#1f77b4;stroke-width:1.5;\"/>\n    <path clip-path=\"url(#p19015e354e)\" d=\"M 187.739356 249.478201 \nL 193.414558 249.478201 \n\" style=\"fill:none;stroke:#1f77b4;stroke-width:1.5;\"/>\n    <path clip-path=\"url(#p19015e354e)\" d=\"M 193.414558 249.478201 \nL 199.176776 249.478201 \n\" style=\"fill:none;stroke:#1f77b4;stroke-width:1.5;\"/>\n    <path clip-path=\"url(#p19015e354e)\" d=\"M 199.176776 249.478201 \nL 205.031812 249.478201 \n\" style=\"fill:none;stroke:#1f77b4;stroke-width:1.5;\"/>\n    <path clip-path=\"url(#p19015e354e)\" d=\"M 205.031812 249.478201 \nL 211.395822 249.478201 \n\" style=\"fill:none;stroke:#1f77b4;stroke-width:1.5;\"/>\n    <path clip-path=\"url(#p19015e354e)\" d=\"M 211.395822 249.478201 \nL 212.057363 249.478201 \n\" style=\"fill:none;stroke:#1f77b4;stroke-width:1.5;\"/>\n    <path clip-path=\"url(#p19015e354e)\" d=\"M 212.057363 249.478201 \nL 212.102588 26.947623 \n\" style=\"fill:none;stroke:#1f77b4;stroke-width:1.5;\"/>\n    <path clip-path=\"url(#p19015e354e)\" d=\"M 212.102588 26.947623 \nL 212.154008 26.947623 \n\" style=\"fill:none;stroke:#1f77b4;stroke-width:1.5;\"/>\n    <path clip-path=\"url(#p19015e354e)\" d=\"M 212.154008 26.947623 \nL 212.235824 26.947623 \n\" style=\"fill:none;stroke:#1f77b4;stroke-width:1.5;\"/>\n    <path clip-path=\"url(#p19015e354e)\" d=\"M 212.235824 26.947623 \nL 212.432523 26.947623 \n\" style=\"fill:none;stroke:#1f77b4;stroke-width:1.5;\"/>\n    <path clip-path=\"url(#p19015e354e)\" d=\"M 212.432523 26.947623 \nL 212.765877 26.947623 \n\" style=\"fill:none;stroke:#1f77b4;stroke-width:1.5;\"/>\n    <path clip-path=\"url(#p19015e354e)\" d=\"M 212.765877 26.947623 \nL 214.373884 26.947623 \n\" style=\"fill:none;stroke:#1f77b4;stroke-width:1.5;\"/>\n    <path clip-path=\"url(#p19015e354e)\" d=\"M 214.373884 26.947623 \nL 217.253045 26.947623 \n\" style=\"fill:none;stroke:#1f77b4;stroke-width:1.5;\"/>\n    <path clip-path=\"url(#p19015e354e)\" d=\"M 217.253045 26.947623 \nL 222.844802 26.947623 \n\" style=\"fill:none;stroke:#1f77b4;stroke-width:1.5;\"/>\n    <path clip-path=\"url(#p19015e354e)\" d=\"M 222.844802 26.947623 \nL 228.878255 26.947623 \n\" style=\"fill:none;stroke:#1f77b4;stroke-width:1.5;\"/>\n    <path clip-path=\"url(#p19015e354e)\" d=\"M 228.878255 26.947623 \nL 236.142376 26.947623 \n\" style=\"fill:none;stroke:#1f77b4;stroke-width:1.5;\"/>\n    <path clip-path=\"url(#p19015e354e)\" d=\"M 236.142376 26.947623 \nL 242.85512 26.947623 \n\" style=\"fill:none;stroke:#1f77b4;stroke-width:1.5;\"/>\n    <path clip-path=\"url(#p19015e354e)\" d=\"M 242.85512 26.947623 \nL 249.335565 26.947623 \n\" style=\"fill:none;stroke:#1f77b4;stroke-width:1.5;\"/>\n    <path clip-path=\"url(#p19015e354e)\" d=\"M 249.335565 26.947623 \nL 254.425141 26.947623 \n\" style=\"fill:none;stroke:#1f77b4;stroke-width:1.5;\"/>\n    <path clip-path=\"url(#p19015e354e)\" d=\"M 254.425141 26.947623 \nL 259.798851 26.947623 \n\" style=\"fill:none;stroke:#1f77b4;stroke-width:1.5;\"/>\n    <path clip-path=\"url(#p19015e354e)\" d=\"M 259.798851 26.947623 \nL 265.480863 26.947623 \n\" style=\"fill:none;stroke:#1f77b4;stroke-width:1.5;\"/>\n    <path clip-path=\"url(#p19015e354e)\" d=\"M 265.480863 26.947623 \nL 271.532291 26.947623 \n\" style=\"fill:none;stroke:#1f77b4;stroke-width:1.5;\"/>\n    <path clip-path=\"url(#p19015e354e)\" d=\"M 271.532291 26.947623 \nL 275.658656 26.947623 \n\" style=\"fill:none;stroke:#1f77b4;stroke-width:1.5;\"/>\n    <path clip-path=\"url(#p19015e354e)\" d=\"M 275.658656 26.947623 \nL 280.545845 26.947623 \n\" style=\"fill:none;stroke:#1f77b4;stroke-width:1.5;\"/>\n    <path clip-path=\"url(#p19015e354e)\" d=\"M 280.545845 26.947623 \nL 285.615754 26.947623 \n\" style=\"fill:none;stroke:#1f77b4;stroke-width:1.5;\"/>\n    <path clip-path=\"url(#p19015e354e)\" d=\"M 285.615754 26.947623 \nL 290.706843 26.947623 \n\" style=\"fill:none;stroke:#1f77b4;stroke-width:1.5;\"/>\n    <path clip-path=\"url(#p19015e354e)\" d=\"M 290.706843 26.947623 \nL 298.386929 26.947623 \n\" style=\"fill:none;stroke:#1f77b4;stroke-width:1.5;\"/>\n    <path clip-path=\"url(#p19015e354e)\" d=\"M 298.386929 26.947623 \nL 305.511329 26.947623 \n\" style=\"fill:none;stroke:#1f77b4;stroke-width:1.5;\"/>\n    <path clip-path=\"url(#p19015e354e)\" d=\"M 305.511329 26.947623 \nL 312.043918 26.947623 \n\" style=\"fill:none;stroke:#1f77b4;stroke-width:1.5;\"/>\n    <path clip-path=\"url(#p19015e354e)\" d=\"M 312.043918 26.947623 \nL 319.236906 26.947623 \n\" style=\"fill:none;stroke:#1f77b4;stroke-width:1.5;\"/>\n    <path clip-path=\"url(#p19015e354e)\" d=\"M 319.236906 26.947623 \nL 325.91572 26.947623 \n\" style=\"fill:none;stroke:#1f77b4;stroke-width:1.5;\"/>\n    <path clip-path=\"url(#p19015e354e)\" d=\"M 325.91572 26.947623 \nL 332.190905 26.947623 \n\" style=\"fill:none;stroke:#1f77b4;stroke-width:1.5;\"/>\n    <path clip-path=\"url(#p19015e354e)\" d=\"M 332.190905 26.947623 \nL 338.252251 26.947623 \n\" style=\"fill:none;stroke:#1f77b4;stroke-width:1.5;\"/>\n    <path clip-path=\"url(#p19015e354e)\" d=\"M 338.252251 26.947623 \nL 343.680701 26.947623 \n\" style=\"fill:none;stroke:#1f77b4;stroke-width:1.5;\"/>\n    <path clip-path=\"url(#p19015e354e)\" d=\"M 343.680701 26.947623 \nL 351.241359 26.947623 \n\" style=\"fill:none;stroke:#1f77b4;stroke-width:1.5;\"/>\n    <path clip-path=\"url(#p19015e354e)\" d=\"M 351.241359 26.947623 \nL 357.704669 26.947623 \n\" style=\"fill:none;stroke:#1f77b4;stroke-width:1.5;\"/>\n    <path clip-path=\"url(#p19015e354e)\" d=\"M 357.704669 26.947623 \nL 365.377895 26.947623 \n\" style=\"fill:none;stroke:#1f77b4;stroke-width:1.5;\"/>\n    <path clip-path=\"url(#p19015e354e)\" d=\"M 365.377895 26.947623 \nL 372.999346 26.947623 \n\" style=\"fill:none;stroke:#1f77b4;stroke-width:1.5;\"/>\n    <path clip-path=\"url(#p19015e354e)\" d=\"M 372.999346 26.947623 \nL 379.581369 26.947623 \n\" style=\"fill:none;stroke:#1f77b4;stroke-width:1.5;\"/>\n    <path clip-path=\"url(#p19015e354e)\" d=\"M 379.581369 26.947623 \nL 386.749478 26.947623 \n\" style=\"fill:none;stroke:#1f77b4;stroke-width:1.5;\"/>\n    <path clip-path=\"url(#p19015e354e)\" d=\"M 386.749478 26.947623 \nL 392.313678 26.947623 \n\" style=\"fill:none;stroke:#1f77b4;stroke-width:1.5;\"/>\n    <path clip-path=\"url(#p19015e354e)\" d=\"M 392.313678 26.947623 \nL 398.318492 26.947623 \n\" style=\"fill:none;stroke:#1f77b4;stroke-width:1.5;\"/>\n   </g>\n   <g id=\"patch_3\">\n    <path d=\"M 212.071591 260.60473 \nL 212.071591 15.821094 \n\" style=\"fill:none;stroke:#000000;stroke-linecap:square;stroke-linejoin:miter;stroke-width:0.8;\"/>\n   </g>\n   <g id=\"patch_4\">\n    <path d=\"M 416.943182 260.60473 \nL 416.943182 15.821094 \n\" style=\"fill:none;\"/>\n   </g>\n   <g id=\"patch_5\">\n    <path d=\"M 7.2 249.478201 \nL 416.943182 249.478201 \n\" style=\"fill:none;stroke:#000000;stroke-linecap:square;stroke-linejoin:miter;stroke-width:0.8;\"/>\n   </g>\n   <g id=\"patch_6\">\n    <path d=\"M 7.2 15.821094 \nL 416.943182 15.821094 \n\" style=\"fill:none;\"/>\n   </g>\n  </g>\n </g>\n <defs>\n  <clipPath id=\"p19015e354e\">\n   <rect height=\"244.783636\" width=\"409.743182\" x=\"7.2\" y=\"15.821094\"/>\n  </clipPath>\n </defs>\n</svg>\n",
      "image/png": "[encoded data removed]"
     },
     "metadata": {
      "needs_background": "light"
     }
    },
    {
     "output_type": "execute_result",
     "data": {
      "text/plain": [
       "<sympy.plotting.plot.Plot at 0x7f4d8b72cdf0>"
      ]
     },
     "metadata": {},
     "execution_count": 84
    }
   ],
   "source": [
    "sp.plot(H)"
   ]
  },
  {
   "cell_type": "code",
   "execution_count": 85,
   "metadata": {},
   "outputs": [
    {
     "output_type": "execute_result",
     "data": {
      "text/plain": [
       "DiracDelta(x)"
      ],
      "text/latex": "$\\displaystyle \\delta\\left(x\\right)$"
     },
     "metadata": {},
     "execution_count": 85
    }
   ],
   "source": [
    "sp.diff(H,x)"
   ]
  },
  {
   "cell_type": "markdown",
   "metadata": {},
   "source": [
    "## Álgebra lineal"
   ]
  },
  {
   "cell_type": "markdown",
   "metadata": {},
   "source": [
    "### Matrices\n",
    "\n",
    "En SymPy podemos usar la clase `Matrix` para definir matrices:"
   ]
  },
  {
   "cell_type": "code",
   "execution_count": 86,
   "metadata": {},
   "outputs": [],
   "source": [
    "v1, v2 = sp.symbols(\"v_1, v_2\")\n",
    "alpha, beta =  sp.symbols('alpha, beta', real=True)"
   ]
  },
  {
   "cell_type": "code",
   "execution_count": 87,
   "metadata": {},
   "outputs": [
    {
     "output_type": "execute_result",
     "data": {
      "text/plain": [
       "Matrix([\n",
       "[I*alpha,    beta],\n",
       "[  -beta, I*alpha]])"
      ],
      "text/latex": "$\\displaystyle \\left[\\begin{matrix}i \\alpha & \\beta\\\\- \\beta & i \\alpha\\end{matrix}\\right]$"
     },
     "metadata": {},
     "execution_count": 87
    }
   ],
   "source": [
    "A = sp.Matrix([[sp.I*alpha, beta],[-beta, sp.I*alpha]])\n",
    "A"
   ]
  },
  {
   "cell_type": "code",
   "execution_count": 88,
   "metadata": {},
   "outputs": [
    {
     "output_type": "execute_result",
     "data": {
      "text/plain": [
       "Matrix([\n",
       "[v_1],\n",
       "[v_2]])"
      ],
      "text/latex": "$\\displaystyle \\left[\\begin{matrix}v_{1}\\\\v_{2}\\end{matrix}\\right]$"
     },
     "metadata": {},
     "execution_count": 88
    }
   ],
   "source": [
    "v = sp.Matrix([[v1], [v2]])\n",
    "v"
   ]
  },
  {
   "cell_type": "markdown",
   "metadata": {},
   "source": [
    "La clase `Matrix` nos permite realizar las usuales operaciones matriciales:"
   ]
  },
  {
   "cell_type": "code",
   "execution_count": 89,
   "metadata": {},
   "outputs": [
    {
     "output_type": "execute_result",
     "data": {
      "text/plain": [
       "Matrix([\n",
       "[-alpha**2 - beta**2,      2*I*alpha*beta],\n",
       "[    -2*I*alpha*beta, -alpha**2 - beta**2]])"
      ],
      "text/latex": "$\\displaystyle \\left[\\begin{matrix}- \\alpha^{2} - \\beta^{2} & 2 i \\alpha \\beta\\\\- 2 i \\alpha \\beta & - \\alpha^{2} - \\beta^{2}\\end{matrix}\\right]$"
     },
     "metadata": {},
     "execution_count": 89
    }
   ],
   "source": [
    "A**2 # note la diferencia con lo que hace si A fuese un arreglo de Numpy"
   ]
  },
  {
   "cell_type": "code",
   "execution_count": 90,
   "metadata": {},
   "outputs": [
    {
     "output_type": "execute_result",
     "data": {
      "text/plain": [
       "Matrix([\n",
       "[I*alpha*v_1 + beta*v_2],\n",
       "[I*alpha*v_2 - beta*v_1]])"
      ],
      "text/latex": "$\\displaystyle \\left[\\begin{matrix}i \\alpha v_{1} + \\beta v_{2}\\\\i \\alpha v_{2} - \\beta v_{1}\\end{matrix}\\right]$"
     },
     "metadata": {},
     "execution_count": 90
    }
   ],
   "source": [
    "A * v"
   ]
  },
  {
   "cell_type": "code",
   "execution_count": 91,
   "metadata": {},
   "outputs": [
    {
     "output_type": "execute_result",
     "data": {
      "text/plain": [
       "-alpha**2 + beta**2"
      ],
      "text/latex": "$\\displaystyle - \\alpha^{2} + \\beta^{2}$"
     },
     "metadata": {},
     "execution_count": 91
    }
   ],
   "source": [
    "sp.det(A)"
   ]
  },
  {
   "cell_type": "code",
   "execution_count": 92,
   "metadata": {},
   "outputs": [
    {
     "output_type": "execute_result",
     "data": {
      "text/plain": [
       "-alpha**2 + beta**2"
      ],
      "text/latex": "$\\displaystyle - \\alpha^{2} + \\beta^{2}$"
     },
     "metadata": {},
     "execution_count": 92
    }
   ],
   "source": [
    "A.det()"
   ]
  },
  {
   "cell_type": "code",
   "execution_count": 93,
   "metadata": {},
   "outputs": [
    {
     "output_type": "execute_result",
     "data": {
      "text/plain": [
       "Matrix([\n",
       "[I*alpha/(-alpha**2 + beta**2),     beta/(alpha**2 - beta**2)],\n",
       "[   beta/(-alpha**2 + beta**2), I*alpha/(-alpha**2 + beta**2)]])"
      ],
      "text/latex": "$\\displaystyle \\left[\\begin{matrix}\\frac{i \\alpha}{- \\alpha^{2} + \\beta^{2}} & \\frac{\\beta}{\\alpha^{2} - \\beta^{2}}\\\\\\frac{\\beta}{- \\alpha^{2} + \\beta^{2}} & \\frac{i \\alpha}{- \\alpha^{2} + \\beta^{2}}\\end{matrix}\\right]$"
     },
     "metadata": {},
     "execution_count": 93
    }
   ],
   "source": [
    "A.inv()"
   ]
  },
  {
   "cell_type": "code",
   "execution_count": 94,
   "metadata": {},
   "outputs": [
    {
     "output_type": "execute_result",
     "data": {
      "text/plain": [
       "Matrix([\n",
       "[     exp(I*alpha - I*beta)/2 + exp(I*alpha + I*beta)/2, I*exp(I*alpha - I*beta)/2 - I*exp(I*alpha + I*beta)/2],\n",
       "[-I*exp(I*alpha - I*beta)/2 + I*exp(I*alpha + I*beta)/2,     exp(I*alpha - I*beta)/2 + exp(I*alpha + I*beta)/2]])"
      ],
      "text/latex": "$\\displaystyle \\left[\\begin{matrix}\\frac{e^{i \\alpha - i \\beta}}{2} + \\frac{e^{i \\alpha + i \\beta}}{2} & \\frac{i e^{i \\alpha - i \\beta}}{2} - \\frac{i e^{i \\alpha + i \\beta}}{2}\\\\- \\frac{i e^{i \\alpha - i \\beta}}{2} + \\frac{i e^{i \\alpha + i \\beta}}{2} & \\frac{e^{i \\alpha - i \\beta}}{2} + \\frac{e^{i \\alpha + i \\beta}}{2}\\end{matrix}\\right]$"
     },
     "metadata": {},
     "execution_count": 94
    }
   ],
   "source": [
    "sp.exp(A)"
   ]
  },
  {
   "cell_type": "markdown",
   "metadata": {},
   "source": [
    "## Solución de (sistemas de) ecuaciones\n",
    "\n",
    "Podemos solucionar (sistemas de) ecuaciones por medio de la función `solve`:"
   ]
  },
  {
   "cell_type": "code",
   "execution_count": 95,
   "metadata": {},
   "outputs": [
    {
     "output_type": "execute_result",
     "data": {
      "text/plain": [
       "[-1, 1]"
      ]
     },
     "metadata": {},
     "execution_count": 95
    }
   ],
   "source": [
    "sp.solve(x**2 - 1, x)"
   ]
  },
  {
   "cell_type": "code",
   "execution_count": 96,
   "metadata": {},
   "outputs": [
    {
     "output_type": "execute_result",
     "data": {
      "text/plain": [
       "[-I*sqrt(-1/2 + sqrt(5)/2),\n",
       " I*sqrt(-1/2 + sqrt(5)/2),\n",
       " -sqrt(1/2 + sqrt(5)/2),\n",
       " sqrt(1/2 + sqrt(5)/2)]"
      ]
     },
     "metadata": {},
     "execution_count": 96
    }
   ],
   "source": [
    "sp.solve(x**4 - x**2 - 1, x)"
   ]
  },
  {
   "cell_type": "markdown",
   "metadata": {},
   "source": [
    "### Sistemas de ecuaciones:"
   ]
  },
  {
   "cell_type": "code",
   "execution_count": 97,
   "metadata": {},
   "outputs": [
    {
     "output_type": "execute_result",
     "data": {
      "text/plain": [
       "{x: 1, y: 0}"
      ]
     },
     "metadata": {},
     "execution_count": 97
    }
   ],
   "source": [
    "sp.solve([x + y - 1, x - y - 1], [x,y])"
   ]
  },
  {
   "cell_type": "code",
   "execution_count": 98,
   "metadata": {},
   "outputs": [
    {
     "output_type": "execute_result",
     "data": {
      "text/plain": [
       "{x: a/2 + c/2, y: a/2 - c/2}"
      ]
     },
     "metadata": {},
     "execution_count": 98
    }
   ],
   "source": [
    "sp.solve([x + y - a, x - y - c], [x,y])"
   ]
  },
  {
   "cell_type": "code",
   "execution_count": 99,
   "metadata": {},
   "outputs": [
    {
     "output_type": "execute_result",
     "data": {
      "text/plain": [
       "[pi/2, 3*pi/2]"
      ]
     },
     "metadata": {},
     "execution_count": 99
    }
   ],
   "source": [
    "sp.solve(sp.cos(x),x)"
   ]
  },
  {
   "cell_type": "markdown",
   "metadata": {},
   "source": [
    "# Ecuaciones diferenciales"
   ]
  },
  {
   "cell_type": "code",
   "execution_count": 100,
   "metadata": {},
   "outputs": [],
   "source": [
    "y = sp.Function('y')(x)"
   ]
  },
  {
   "cell_type": "code",
   "execution_count": 101,
   "metadata": {},
   "outputs": [
    {
     "output_type": "execute_result",
     "data": {
      "text/plain": [
       "y(x) + Derivative(y(x), (x, 2))"
      ],
      "text/latex": "$\\displaystyle y{\\left(x \\right)} + \\frac{d^{2}}{d x^{2}} y{\\left(x \\right)}$"
     },
     "metadata": {},
     "execution_count": 101
    }
   ],
   "source": [
    "eq = y.diff(x,2)+y\n",
    "eq"
   ]
  },
  {
   "cell_type": "code",
   "execution_count": 102,
   "metadata": {},
   "outputs": [
    {
     "output_type": "execute_result",
     "data": {
      "text/plain": [
       "Eq(y(x), C1*sin(x) + C2*cos(x))"
      ],
      "text/latex": "$\\displaystyle y{\\left(x \\right)} = C_{1} \\sin{\\left(x \\right)} + C_{2} \\cos{\\left(x \\right)}$"
     },
     "metadata": {},
     "execution_count": 102
    }
   ],
   "source": [
    "sp.dsolve(eq)"
   ]
  },
  {
   "source": [
    "Sympy cuenta con un submódulo de Física, donde podemos encontrar objetos y funciones útiles en ésa área. Por ejemplo, las matrices de Pauli están contenidas en los objetos `msigma`"
   ],
   "cell_type": "markdown",
   "metadata": {}
  },
  {
   "cell_type": "code",
   "execution_count": 103,
   "metadata": {},
   "outputs": [],
   "source": [
    "from sympy import physics"
   ]
  },
  {
   "cell_type": "code",
   "execution_count": 105,
   "metadata": {},
   "outputs": [],
   "source": [
    "s1 = physics.matrices.msigma(1)\n",
    "s2 = physics.matrices.msigma(2)\n",
    "s3 = physics.matrices.msigma(3)"
   ]
  },
  {
   "cell_type": "code",
   "execution_count": 106,
   "metadata": {},
   "outputs": [
    {
     "output_type": "execute_result",
     "data": {
      "text/plain": [
       "Matrix([\n",
       "[0, 1],\n",
       "[1, 0]])"
      ],
      "text/latex": "$\\displaystyle \\left[\\begin{matrix}0 & 1\\\\1 & 0\\end{matrix}\\right]$"
     },
     "metadata": {},
     "execution_count": 106
    }
   ],
   "source": [
    "s1"
   ]
  },
  {
   "cell_type": "code",
   "execution_count": 107,
   "metadata": {},
   "outputs": [
    {
     "output_type": "execute_result",
     "data": {
      "text/plain": [
       "Matrix([\n",
       "[0, -I],\n",
       "[I,  0]])"
      ],
      "text/latex": "$\\displaystyle \\left[\\begin{matrix}0 & - i\\\\i & 0\\end{matrix}\\right]$"
     },
     "metadata": {},
     "execution_count": 107
    }
   ],
   "source": [
    "s2"
   ]
  },
  {
   "cell_type": "code",
   "execution_count": 108,
   "metadata": {},
   "outputs": [
    {
     "output_type": "execute_result",
     "data": {
      "text/plain": [
       "Matrix([\n",
       "[1,  0],\n",
       "[0, -1]])"
      ],
      "text/latex": "$\\displaystyle \\left[\\begin{matrix}1 & 0\\\\0 & -1\\end{matrix}\\right]$"
     },
     "metadata": {},
     "execution_count": 108
    }
   ],
   "source": [
    "s3"
   ]
  },
  {
   "cell_type": "code",
   "execution_count": 121,
   "metadata": {},
   "outputs": [],
   "source": [
    "a, b, c = sp.symbols('a,b,c', real=True)\n",
    "r = sp.Symbol('r', positive=True)"
   ]
  },
  {
   "cell_type": "code",
   "execution_count": 127,
   "metadata": {},
   "outputs": [
    {
     "output_type": "execute_result",
     "data": {
      "text/plain": [
       "Matrix([\n",
       "[-(-a - I*b)*(a - I*b)*exp(-sqrt(-a**2 - b**2 - c**2))/(2*(c + sqrt(a**2 + b**2 + c**2))*sqrt(a**2 + b**2 + c**2)) - (a - I*b)*(a + I*b)*exp(sqrt(-a**2 - b**2 - c**2))/(2*(c - sqrt(a**2 + b**2 + c**2))*sqrt(a**2 + b**2 + c**2)), -(a - I*b)*(a**2 + b**2)*exp(sqrt(-a**2 - b**2 - c**2))/((c - sqrt(a**2 + b**2 + c**2))*(2*a**2 + 2*b**2 + 2*c**2 + 2*c*sqrt(a**2 + b**2 + c**2))) - (a - I*b)*(a**2 + b**2 + 2*c**2 + 2*c*sqrt(a**2 + b**2 + c**2))*exp(-sqrt(-a**2 - b**2 - c**2))/((c + sqrt(a**2 + b**2 + c**2))*(2*a**2 + 2*b**2 + 2*c**2 + 2*c*sqrt(a**2 + b**2 + c**2)))],\n",
       "[                                                                                   (-a - I*b)*exp(-sqrt(-a**2 - b**2 - c**2))/(2*sqrt(a**2 + b**2 + c**2)) + (a + I*b)*exp(sqrt(-a**2 - b**2 - c**2))/(2*sqrt(a**2 + b**2 + c**2)),                                                                                        (a**2 + b**2)*exp(sqrt(-a**2 - b**2 - c**2))/(2*a**2 + 2*b**2 + 2*c**2 + 2*c*sqrt(a**2 + b**2 + c**2)) + (a**2 + b**2 + 2*c**2 + 2*c*sqrt(a**2 + b**2 + c**2))*exp(-sqrt(-a**2 - b**2 - c**2))/(2*a**2 + 2*b**2 + 2*c**2 + 2*c*sqrt(a**2 + b**2 + c**2))]])"
      ],
      "text/latex": "$\\displaystyle \\left[\\begin{matrix}- \\frac{\\left(- a - i b\\right) \\left(a - i b\\right) e^{- \\sqrt{- a^{2} - b^{2} - c^{2}}}}{2 \\left(c + \\sqrt{a^{2} + b^{2} + c^{2}}\\right) \\sqrt{a^{2} + b^{2} + c^{2}}} - \\frac{\\left(a - i b\\right) \\left(a + i b\\right) e^{\\sqrt{- a^{2} - b^{2} - c^{2}}}}{2 \\left(c - \\sqrt{a^{2} + b^{2} + c^{2}}\\right) \\sqrt{a^{2} + b^{2} + c^{2}}} & - \\frac{\\left(a - i b\\right) \\left(a^{2} + b^{2}\\right) e^{\\sqrt{- a^{2} - b^{2} - c^{2}}}}{\\left(c - \\sqrt{a^{2} + b^{2} + c^{2}}\\right) \\left(2 a^{2} + 2 b^{2} + 2 c^{2} + 2 c \\sqrt{a^{2} + b^{2} + c^{2}}\\right)} - \\frac{\\left(a - i b\\right) \\left(a^{2} + b^{2} + 2 c^{2} + 2 c \\sqrt{a^{2} + b^{2} + c^{2}}\\right) e^{- \\sqrt{- a^{2} - b^{2} - c^{2}}}}{\\left(c + \\sqrt{a^{2} + b^{2} + c^{2}}\\right) \\left(2 a^{2} + 2 b^{2} + 2 c^{2} + 2 c \\sqrt{a^{2} + b^{2} + c^{2}}\\right)}\\\\\\frac{\\left(- a - i b\\right) e^{- \\sqrt{- a^{2} - b^{2} - c^{2}}}}{2 \\sqrt{a^{2} + b^{2} + c^{2}}} + \\frac{\\left(a + i b\\right) e^{\\sqrt{- a^{2} - b^{2} - c^{2}}}}{2 \\sqrt{a^{2} + b^{2} + c^{2}}} & \\frac{\\left(a^{2} + b^{2}\\right) e^{\\sqrt{- a^{2} - b^{2} - c^{2}}}}{2 a^{2} + 2 b^{2} + 2 c^{2} + 2 c \\sqrt{a^{2} + b^{2} + c^{2}}} + \\frac{\\left(a^{2} + b^{2} + 2 c^{2} + 2 c \\sqrt{a^{2} + b^{2} + c^{2}}\\right) e^{- \\sqrt{- a^{2} - b^{2} - c^{2}}}}{2 a^{2} + 2 b^{2} + 2 c^{2} + 2 c \\sqrt{a^{2} + b^{2} + c^{2}}}\\end{matrix}\\right]$"
     },
     "metadata": {},
     "execution_count": 127
    }
   ],
   "source": [
    "M = sp.factor(sp.exp(sp.I*(a*s1+b*s2+c*s3)))\n",
    "M"
   ]
  },
  {
   "cell_type": "code",
   "execution_count": 131,
   "metadata": {},
   "outputs": [
    {
     "output_type": "execute_result",
     "data": {
      "text/plain": [
       "Matrix([\n",
       "[-(-a - I*b)*(a - I*b)*exp(-I*r)/(2*r*(c + r)) - (a - I*b)*(a + I*b)*exp(I*r)/(2*r*(c - r)), -(a - I*b)*(c**2 + 2*c*r + r**2)*exp(-I*r)/((c + r)*(2*c*r + 2*r**2)) - (a - I*b)*(-c**2 + r**2)*exp(I*r)/((c - r)*(2*c*r + 2*r**2))],\n",
       "[                                     (-a - I*b)*exp(-I*r)/(2*r) + (a + I*b)*exp(I*r)/(2*r),                                          (-c**2 + r**2)*exp(I*r)/(2*c*r + 2*r**2) + (c**2 + 2*c*r + r**2)*exp(-I*r)/(2*c*r + 2*r**2)]])"
      ],
      "text/latex": "$\\displaystyle \\left[\\begin{matrix}- \\frac{\\left(- a - i b\\right) \\left(a - i b\\right) e^{- i r}}{2 r \\left(c + r\\right)} - \\frac{\\left(a - i b\\right) \\left(a + i b\\right) e^{i r}}{2 r \\left(c - r\\right)} & - \\frac{\\left(a - i b\\right) \\left(c^{2} + 2 c r + r^{2}\\right) e^{- i r}}{\\left(c + r\\right) \\left(2 c r + 2 r^{2}\\right)} - \\frac{\\left(a - i b\\right) \\left(- c^{2} + r^{2}\\right) e^{i r}}{\\left(c - r\\right) \\left(2 c r + 2 r^{2}\\right)}\\\\\\frac{\\left(- a - i b\\right) e^{- i r}}{2 r} + \\frac{\\left(a + i b\\right) e^{i r}}{2 r} & \\frac{\\left(- c^{2} + r^{2}\\right) e^{i r}}{2 c r + 2 r^{2}} + \\frac{\\left(c^{2} + 2 c r + r^{2}\\right) e^{- i r}}{2 c r + 2 r^{2}}\\end{matrix}\\right]$"
     },
     "metadata": {},
     "execution_count": 131
    }
   ],
   "source": [
    "sp.factor(M.subs(a**2,r**2-b**2-c**2))"
   ]
  },
  {
   "cell_type": "markdown",
   "metadata": {},
   "source": [
    "## Lectura adicional\n",
    "\n",
    "* http://sympy.org/en/index.html - The SymPy projects web page.\n",
    "* https://github.com/sympy/sympy - The source code of SymPy.\n",
    "* http://live.sympy.org - Online version of SymPy for testing and demonstrations.\n"
   ]
  }
 ],
 "metadata": {
  "kernelspec": {
   "display_name": "Python 3",
   "language": "python",
   "name": "python3"
  },
  "language_info": {
   "codemirror_mode": {
    "name": "ipython",
    "version": 3
   },
   "file_extension": ".py",
   "mimetype": "text/x-python",
   "name": "python",
   "nbconvert_exporter": "python",
   "pygments_lexer": "ipython3",
   "version": "3.8.5-final"
  }
 },
 "nbformat": 4,
 "nbformat_minor": 1
}