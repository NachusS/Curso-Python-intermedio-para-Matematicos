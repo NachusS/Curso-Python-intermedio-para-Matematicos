{
 "cells": [
  {
   "cell_type": "markdown",
   "metadata": {},
   "source": [
    "# Introducción a la Computación Científica con Python"
   ]
  },
  {
   "cell_type": "markdown",
   "metadata": {},
   "source": [
    "## SymPy ![sympy](../images/simpy-logo-small.png)\n",
    "\n",
    "Acceso a la [documentación oficial](https://simpy.readthedocs.io/en/latest/)\n",
    "\n",
    "[Traducción del Tutorial de la documentación oficial](https://docs.sympy.org/latest/tutorials/intro-tutorial/intro.html)"
   ]
  },
  {
   "cell_type": "markdown",
   "metadata": {},
   "source": [
    "# Introducción\n",
    "\n",
    "[SymPy](http://sympy.org/en/index.html) es un módulo de matemática simbólica para Python. Tiene el objetivo de ofrecer un \"sistema de álgebra computacional\" (CAS) completo. SymPy está escrito completamente en Python.\n",
    "\n",
    "Para comenzar a usar SymPy en un programa Python o en un notebook, importamos el módulo `sympy`:"
   ]
  },
  {
   "cell_type": "code",
   "execution_count": 1,
   "metadata": {},
   "outputs": [
    {
     "name": "stdout",
     "output_type": "stream",
     "text": [
      "la versión de sympy utilizada para este notebook ha sido 1.7.3 = 1.10.1\n"
     ]
    }
   ],
   "source": [
    "import sympy as sp\n",
    "\n",
    "print(\"la versión de sympy utilizada para este notebook ha sido 1.10.1 = %s\" % (sp.__version__))"
   ]
  },
  {
   "cell_type": "markdown",
   "metadata": {},
   "source": [
    "# **¿Qué es la computación simbólica?**\n",
    "\n",
    "La computación simbólica se ocupa de la computación matemática de objetos simbólicos. Esto significa que los objetos matemáticos se representan de forma exacta, no aproximada, y las expresiones matemáticas con variables no evaluadas se dejan en forma simbólica.\n",
    "\n",
    "Tomemos un ejemplo. Digamos que queríamos usar las funciones integradas de Python para calcular raíces cuadradas. Podríamos hacer algo como esto:"
   ]
  },
  {
   "cell_type": "code",
   "execution_count": 1,
   "metadata": {},
   "outputs": [
    {
     "data": {
      "text/plain": [
       "3.0"
      ]
     },
     "execution_count": 1,
     "metadata": {},
     "output_type": "execute_result"
    }
   ],
   "source": [
    "# Raiz cuadrada de 9\n",
    "import math\n",
    "math.sqrt(9)"
   ]
  },
  {
   "cell_type": "markdown",
   "metadata": {},
   "source": [
    "9 es un cuadrado perfecto, así que la respuesta exacta es, 3. Pero supongamos que calculamos la raíz cuadrada de un número que no es un cuadrado perfecto."
   ]
  },
  {
   "cell_type": "code",
   "execution_count": 2,
   "metadata": {},
   "outputs": [
    {
     "data": {
      "text/plain": [
       "2.8284271247461903"
      ]
     },
     "execution_count": 2,
     "metadata": {},
     "output_type": "execute_result"
    }
   ],
   "source": [
    "math.sqrt(8)"
   ]
  },
  {
   "cell_type": "markdown",
   "metadata": {},
   "source": [
    "Aquí tenemos un resultado aproximado. 2,82842712475 no es la raíz cuadrada exacta de 8 (de hecho, la raíz cuadrada real de 8 no se puede representar con un decimal finito, ya que es un número irracional). Si todo lo que nos importara fuera la forma decimal de la raíz cuadrada de 8, estaríamos bien hecho.\n",
    "\n",
    "Pero supongamos que queremos ir más allá. Recordar que $\\sqrt{ 8 } = \\sqrt{ 4*2 } = 2 \\sqrt{ 2 }$\n",
    ". Tendríamos dificultades para deducir esto del resultado anterior. Aquí es donde entra en juego el cálculo simbólico. Con un sistema de cálculo simbólico como SymPy, las raíces cuadradas de los números que no son cuadrados perfectos no se evalúan de forma predeterminada."
   ]
  },
  {
   "cell_type": "code",
   "execution_count": 5,
   "metadata": {},
   "outputs": [
    {
     "data": {
      "text/latex": [
       "$\\displaystyle \\sqrt{3}$"
      ],
      "text/plain": [
       "sqrt(3)"
      ]
     },
     "execution_count": 5,
     "metadata": {},
     "output_type": "execute_result"
    }
   ],
   "source": [
    "import sympy as sp\n",
    "sp.sqrt(3)"
   ]
  },
  {
   "cell_type": "markdown",
   "metadata": {},
   "source": [
    "Además, y aquí es donde empezamos a ver el poder real de la computación simbólica, los resultados simbólicos pueden simplificarse simbólicamente."
   ]
  },
  {
   "cell_type": "code",
   "execution_count": 6,
   "metadata": {},
   "outputs": [
    {
     "data": {
      "text/latex": [
       "$\\displaystyle 2 \\sqrt{2}$"
      ],
      "text/plain": [
       "2*sqrt(2)"
      ]
     },
     "execution_count": 6,
     "metadata": {},
     "output_type": "execute_result"
    }
   ],
   "source": [
    "sp.sqrt(8)"
   ]
  },
  {
   "cell_type": "markdown",
   "metadata": {},
   "source": [
    "### **Un ejemplo más interesante**\n",
    "\n",
    "El ejemplo anterior comienza a mostrar cómo podemos manipular números irracionales exactamente usando SymPy. Pero es mucho más poderoso que eso. Los sistemas de cómputo simbólico (que, por cierto, también se denominan sistemas de álgebra computacional o simplemente CAS), como SymPy, son capaces de calcular expresiones simbólicas con variables.\n",
    "\n",
    "Como veremos más adelante, en SymPy las variables se definen mediante símbolos. A diferencia de muchos sistemas de manipulación simbólica, las variables en SymPy deben definirse antes de usarse (la razón de esto se discutirá en la siguiente sección).\n",
    "\n",
    "Definamos una expresión simbólica, representando la expresión matemática $x + 2y$\n",
    "."
   ]
  },
  {
   "cell_type": "code",
   "execution_count": 18,
   "metadata": {},
   "outputs": [
    {
     "data": {
      "text/latex": [
       "$\\displaystyle x + 2 y$"
      ],
      "text/plain": [
       "x + 2*y"
      ]
     },
     "execution_count": 18,
     "metadata": {},
     "output_type": "execute_result"
    }
   ],
   "source": [
    "#from sympy import symbols\n",
    "x, y = sp.symbols('x y')\n",
    "expr = x + 2*y\n",
    "expr"
   ]
  },
  {
   "cell_type": "markdown",
   "metadata": {},
   "source": [
    "Tenga en cuenta que escribimos x + 2*y tal como lo haríamos si `x`e `y` fueran variables ordinarias de Python. Pero en este caso, en lugar de evaluar algo, **la expresión** sigue siendo $x + 2y$. Ahora vamos a jugar con él:"
   ]
  },
  {
   "cell_type": "code",
   "execution_count": 19,
   "metadata": {},
   "outputs": [
    {
     "data": {
      "text/latex": [
       "$\\displaystyle x + 2 y + 1$"
      ],
      "text/plain": [
       "x + 2*y + 1"
      ]
     },
     "execution_count": 19,
     "metadata": {},
     "output_type": "execute_result"
    }
   ],
   "source": [
    "expr + 1"
   ]
  },
  {
   "cell_type": "code",
   "execution_count": 20,
   "metadata": {},
   "outputs": [
    {
     "data": {
      "text/latex": [
       "$\\displaystyle 2 y$"
      ],
      "text/plain": [
       "2*y"
      ]
     },
     "execution_count": 20,
     "metadata": {},
     "output_type": "execute_result"
    }
   ],
   "source": [
    "expr - x"
   ]
  },
  {
   "cell_type": "markdown",
   "metadata": {},
   "source": [
    "En el ejemplo anterior. Cuando escribimos expr - x, no obtuvimos `x + 2*y - x`, sino solo `2*y`. La x y la -x se cancelaron automáticamente. Esto es similar a cómo $\\sqrt(8)$ se convirtió automáticamente en $2*\\sqrt{ 2 }$ arriba. Sin embargo, este no es siempre el caso en SymPy:"
   ]
  },
  {
   "cell_type": "code",
   "execution_count": 23,
   "metadata": {},
   "outputs": [
    {
     "data": {
      "text/latex": [
       "$\\displaystyle x + 2 y$"
      ],
      "text/plain": [
       "x + 2*y"
      ]
     },
     "execution_count": 23,
     "metadata": {},
     "output_type": "execute_result"
    }
   ],
   "source": [
    "expr"
   ]
  },
  {
   "cell_type": "code",
   "execution_count": 24,
   "metadata": {},
   "outputs": [
    {
     "data": {
      "text/latex": [
       "$\\displaystyle x \\left(x + 2 y\\right)$"
      ],
      "text/plain": [
       "x*(x + 2*y)"
      ]
     },
     "execution_count": 24,
     "metadata": {},
     "output_type": "execute_result"
    }
   ],
   "source": [
    "x*expr"
   ]
  },
  {
   "cell_type": "markdown",
   "metadata": {},
   "source": [
    "Aquí, podríamos haber esperado transformar $x(x + 2y)$, a $(x^2 + 2xy)$ pero en cambio vemos que la expresión se quedó en el primer paso. Este es un tema común en SymPy. Aparte de simplificaciones obvias como $x - x = 0$ y $\\sqrt{ 8 } = 2 \\sqrt{ 2 }$, la mayoría de las simplificaciones no se realizan automáticamente. Esto se debe a que podríamos preferir la forma factorizada $x(x + 2y)$, o podríamos preferir la forma expandida $(x^2 + 2xy). Ambas formas son útiles en diferentes circunstancias. En SymPy hay funciones para pasar de un formulario a otro."
   ]
  },
  {
   "cell_type": "code",
   "execution_count": 26,
   "metadata": {},
   "outputs": [
    {
     "data": {
      "text/latex": [
       "$\\displaystyle x^{2} + 2 x y$"
      ],
      "text/plain": [
       "x**2 + 2*x*y"
      ]
     },
     "execution_count": 26,
     "metadata": {},
     "output_type": "execute_result"
    }
   ],
   "source": [
    "from sympy import expand, factor\n",
    "expanded_expr = expand(x*expr)\n",
    "expanded_expr"
   ]
  },
  {
   "cell_type": "code",
   "execution_count": 27,
   "metadata": {},
   "outputs": [
    {
     "data": {
      "text/latex": [
       "$\\displaystyle x \\left(x + 2 y\\right)$"
      ],
      "text/plain": [
       "x*(x + 2*y)"
      ]
     },
     "execution_count": 27,
     "metadata": {},
     "output_type": "execute_result"
    }
   ],
   "source": [
    "factor(expanded_expr)"
   ]
  },
  {
   "cell_type": "markdown",
   "metadata": {},
   "source": [
    "# **El poder de la computación simbólica**\n",
    "El poder real de un sistema de cálculo simbólico como SymPy es la capacidad de realizar todo tipo de cálculos de forma simbólica. SymPy puede **simplificar expresiones**, **calcular derivada**s, **integrales** y **límites**, **resolver ecuaciones**, trabajar con **matrices** y mucho, mucho más, y hacerlo todo simbólicamente. \n",
    "\n",
    "Incluye módulos para **graficar, imprimir** (como resultados impresos bonitos en 2D de fórmulas matemáticas o $LaTex$, generación de código, **física**, **estadística**, **combinatori**a, teoría de números, **geometría**, **lógica** y más. Aquí hay una pequeña muestra del tipo de poder simbólico del que es capaz SymPy."
   ]
  },
  {
   "cell_type": "code",
   "execution_count": 28,
   "metadata": {},
   "outputs": [],
   "source": [
    "# Importamos los simbolos que vamos a utilizar:\n",
    "from sympy import *\n",
    "x, t, z, nu = symbols('x t z nu')"
   ]
  },
  {
   "cell_type": "markdown",
   "metadata": {},
   "source": [
    "Esto hará que todos los ejemplos posteriores se impriman con caracteres Unicode."
   ]
  },
  {
   "cell_type": "code",
   "execution_count": 33,
   "metadata": {},
   "outputs": [],
   "source": [
    "# init_printing(use_unicode=True)"
   ]
  },
  {
   "cell_type": "markdown",
   "metadata": {},
   "source": [
    "### **Ejemplos varios**:\n",
    "\n",
    "* La derivada de $sin(x)e^x$"
   ]
  },
  {
   "cell_type": "code",
   "execution_count": 38,
   "metadata": {},
   "outputs": [
    {
     "data": {
      "image/png": "[encoded data removed]",
      "text/latex": [
       "$\\displaystyle e^{x} \\sin{\\left(x \\right)} + e^{x} \\cos{\\left(x \\right)}$"
      ],
      "text/plain": [
       " x           x       \n",
       "ℯ ⋅sin(x) + ℯ ⋅cos(x)"
      ]
     },
     "execution_count": 38,
     "metadata": {},
     "output_type": "execute_result"
    }
   ],
   "source": [
    "diff(sin(x)*exp(x), x)"
   ]
  },
  {
   "cell_type": "markdown",
   "metadata": {},
   "source": [
    "* La Integral:\n",
    "\n",
    "\\begin{equation} \\int (e^x sin(x) + e^x cos(x)) \\cdot dx \\end{equation}"
   ]
  },
  {
   "cell_type": "code",
   "execution_count": 39,
   "metadata": {},
   "outputs": [
    {
     "data": {
      "image/png": "[encoded data removed]",
      "text/latex": [
       "$\\displaystyle e^{x} \\sin{\\left(x \\right)}$"
      ],
      "text/plain": [
       " x       \n",
       "ℯ ⋅sin(x)"
      ]
     },
     "execution_count": 39,
     "metadata": {},
     "output_type": "execute_result"
    }
   ],
   "source": [
    "integrate(exp(x)*sin(x) + exp(x)*cos(x), x)"
   ]
  },
  {
   "cell_type": "markdown",
   "metadata": {},
   "source": [
    "Aplicar:\n",
    "* La siguiente integral:\n",
    "\n",
    "\\begin{equation} \\int_{-\\infty}^{\\infty} sin(x^2) \\cdot dx \\end{equation}"
   ]
  },
  {
   "cell_type": "code",
   "execution_count": 43,
   "metadata": {},
   "outputs": [
    {
     "data": {
      "image/png": "[encoded data removed]",
      "text/latex": [
       "$\\displaystyle \\frac{\\sqrt{2} \\sqrt{\\pi}}{2}$"
      ],
      "text/plain": [
       "√2⋅√π\n",
       "─────\n",
       "  2  "
      ]
     },
     "execution_count": 43,
     "metadata": {},
     "output_type": "execute_result"
    }
   ],
   "source": [
    "integrate(sin(x**2), (x, -oo, oo))"
   ]
  },
  {
   "cell_type": "markdown",
   "metadata": {},
   "source": [
    "* Encuentra el límite de:  \n",
    "$\\lim_{x \\to 0} \\left(\\frac{sin(x)}{x}\\right)$"
   ]
  },
  {
   "cell_type": "code",
   "execution_count": 44,
   "metadata": {},
   "outputs": [
    {
     "data": {
      "image/png": "[encoded data removed]",
      "text/latex": [
       "$\\displaystyle 1$"
      ],
      "text/plain": [
       "1"
      ]
     },
     "execution_count": 44,
     "metadata": {},
     "output_type": "execute_result"
    }
   ],
   "source": [
    "limit(sin(x)/x, x, 0)"
   ]
  },
  {
   "cell_type": "markdown",
   "metadata": {},
   "source": [
    "* Resuelve la siguiente ecuación $x^2 - 2 = 0$"
   ]
  },
  {
   "cell_type": "code",
   "execution_count": 45,
   "metadata": {},
   "outputs": [
    {
     "data": {
      "image/png": "[encoded data removed]",
      "text/latex": [
       "$\\displaystyle \\left[ - \\sqrt{2}, \\  \\sqrt{2}\\right]$"
      ],
      "text/plain": [
       "[-√2, √2]"
      ]
     },
     "execution_count": 45,
     "metadata": {},
     "output_type": "execute_result"
    }
   ],
   "source": [
    "solve(x**2 - 2, x)"
   ]
  },
  {
   "cell_type": "markdown",
   "metadata": {},
   "source": [
    "* Resuelve la siguiente ecuación diferencial: $y^\" - y = e^t$"
   ]
  },
  {
   "cell_type": "code",
   "execution_count": 46,
   "metadata": {},
   "outputs": [
    {
     "data": {
      "image/png": "[encoded data removed]",
      "text/latex": [
       "$\\displaystyle y{\\left(t \\right)} = C_{2} e^{- t} + \\left(C_{1} + \\frac{t}{2}\\right) e^{t}$"
      ],
      "text/plain": [
       "           -t   ⎛     t⎞  t\n",
       "y(t) = C₂⋅ℯ   + ⎜C₁ + ─⎟⋅ℯ \n",
       "                ⎝     2⎠   "
      ]
     },
     "execution_count": 46,
     "metadata": {},
     "output_type": "execute_result"
    }
   ],
   "source": [
    "y = Function('y')\n",
    "dsolve(Eq(y(t).diff(t, t) - y(t), exp(t)), y(t))"
   ]
  },
  {
   "cell_type": "markdown",
   "metadata": {},
   "source": [
    "* Encuentra los eigenvalues de:\n",
    "\n",
    "\\begin{equation}\n",
    "\\begin{bmatrix}\n",
    "1 & 2 \\\\\n",
    "2 & 2 \n",
    "\\end{bmatrix}\n",
    "\\end{equation}"
   ]
  },
  {
   "cell_type": "code",
   "execution_count": 47,
   "metadata": {},
   "outputs": [
    {
     "data": {
      "image/png": "[encoded data removed]",
      "text/latex": [
       "$\\displaystyle \\left\\{ \\frac{3}{2} - \\frac{\\sqrt{17}}{2} : 1, \\  \\frac{3}{2} + \\frac{\\sqrt{17}}{2} : 1\\right\\}$"
      ],
      "text/plain": [
       "⎧3   √17     3   √17   ⎫\n",
       "⎨─ - ───: 1, ─ + ───: 1⎬\n",
       "⎩2    2      2    2    ⎭"
      ]
     },
     "execution_count": 47,
     "metadata": {},
     "output_type": "execute_result"
    }
   ],
   "source": [
    "Matrix([[1, 2], [2, 2]]).eigenvals()"
   ]
  },
  {
   "cell_type": "markdown",
   "metadata": {},
   "source": [
    "## **Variables simbólicas**\n",
    "\n",
    "En SymPy, los objetos fundamentales con los que trabajaremos son *símbolos* para las variables con las que deseamos realizar operaciones. Podemos crear un nuevo símbolo usando la clase `Symbol`:"
   ]
  },
  {
   "cell_type": "code",
   "execution_count": 49,
   "metadata": {},
   "outputs": [
    {
     "data": {
      "image/png": "[encoded data removed]",
      "text/latex": [
       "$\\displaystyle x$"
      ],
      "text/plain": [
       "x"
      ]
     },
     "execution_count": 49,
     "metadata": {},
     "output_type": "execute_result"
    }
   ],
   "source": [
    "x = sp.Symbol('x')\n",
    "x"
   ]
  },
  {
   "cell_type": "code",
   "execution_count": 50,
   "metadata": {},
   "outputs": [
    {
     "data": {
      "image/png": "[encoded data removed]",
      "text/latex": [
       "$\\displaystyle \\left(x + \\pi\\right)^{2}$"
      ],
      "text/plain": [
       "       2\n",
       "(x + π) "
      ]
     },
     "execution_count": 50,
     "metadata": {},
     "output_type": "execute_result"
    }
   ],
   "source": [
    "(sp.pi + x)**2"
   ]
  },
  {
   "cell_type": "markdown",
   "metadata": {},
   "source": [
    "También podemos definir varios símbolos simultáneamente, usando la función `symbols`:"
   ]
  },
  {
   "cell_type": "code",
   "execution_count": 51,
   "metadata": {},
   "outputs": [],
   "source": [
    "a, b, c = sp.symbols(\"a, b, c\")"
   ]
  },
  {
   "cell_type": "code",
   "execution_count": 52,
   "metadata": {},
   "outputs": [
    {
     "data": {
      "text/plain": [
       "sympy.core.symbol.Symbol"
      ]
     },
     "execution_count": 52,
     "metadata": {},
     "output_type": "execute_result"
    }
   ],
   "source": [
    "type(a)"
   ]
  },
  {
   "cell_type": "markdown",
   "metadata": {},
   "source": [
    "Podemos agregar algunas propiedades a los símbolos cuando son creados:"
   ]
  },
  {
   "cell_type": "code",
   "execution_count": 54,
   "metadata": {},
   "outputs": [
    {
     "data": {
      "image/png": "[encoded data removed]",
      "text/latex": [
       "$\\displaystyle x$"
      ],
      "text/plain": [
       "x"
      ]
     },
     "execution_count": 54,
     "metadata": {},
     "output_type": "execute_result"
    }
   ],
   "source": [
    "x = sp.Symbol('x', real=True)\n",
    "x"
   ]
  },
  {
   "cell_type": "code",
   "execution_count": 55,
   "metadata": {},
   "outputs": [
    {
     "data": {
      "text/plain": [
       "False"
      ]
     },
     "execution_count": 55,
     "metadata": {},
     "output_type": "execute_result"
    }
   ],
   "source": [
    "x.is_imaginary"
   ]
  },
  {
   "cell_type": "code",
   "execution_count": 56,
   "metadata": {},
   "outputs": [
    {
     "data": {
      "image/png": "[encoded data removed]",
      "text/latex": [
       "$\\displaystyle x$"
      ],
      "text/plain": [
       "x"
      ]
     },
     "execution_count": 56,
     "metadata": {},
     "output_type": "execute_result"
    }
   ],
   "source": [
    "x = sp.Symbol('x', positive=True)\n",
    "x"
   ]
  },
  {
   "cell_type": "code",
   "execution_count": 57,
   "metadata": {},
   "outputs": [
    {
     "data": {
      "text/latex": [
       "$\\displaystyle \\text{True}$"
      ],
      "text/plain": [
       "True"
      ]
     },
     "execution_count": 57,
     "metadata": {},
     "output_type": "execute_result"
    }
   ],
   "source": [
    "x > 0"
   ]
  },
  {
   "cell_type": "markdown",
   "metadata": {},
   "source": [
    "### **Números complejos**\n",
    "\n",
    "La unidad imaginaria es denotada por `I` en SymPy. "
   ]
  },
  {
   "cell_type": "code",
   "execution_count": 58,
   "metadata": {},
   "outputs": [
    {
     "data": {
      "image/png": "[encoded data removed]",
      "text/latex": [
       "$\\displaystyle 2 + 3 i$"
      ],
      "text/plain": [
       "2 + 3⋅ⅈ"
      ]
     },
     "execution_count": 58,
     "metadata": {},
     "output_type": "execute_result"
    }
   ],
   "source": [
    "2+3*sp.I"
   ]
  },
  {
   "cell_type": "code",
   "execution_count": 59,
   "metadata": {},
   "outputs": [
    {
     "data": {
      "image/png": "[encoded data removed]",
      "text/latex": [
       "$\\displaystyle -1$"
      ],
      "text/plain": [
       "-1"
      ]
     },
     "execution_count": 59,
     "metadata": {},
     "output_type": "execute_result"
    }
   ],
   "source": [
    "sp.I**2"
   ]
  },
  {
   "cell_type": "code",
   "execution_count": 60,
   "metadata": {},
   "outputs": [
    {
     "data": {
      "image/png": "[encoded data removed]",
      "text/latex": [
       "$\\displaystyle \\left(i x + 1\\right)^{2}$"
      ],
      "text/plain": [
       "         2\n",
       "(ⅈ⋅x + 1) "
      ]
     },
     "execution_count": 60,
     "metadata": {},
     "output_type": "execute_result"
    }
   ],
   "source": [
    "(x*sp.I + 1)**2"
   ]
  },
  {
   "cell_type": "markdown",
   "metadata": {},
   "source": [
    "### **Números racionales**\n",
    "\n",
    "Existen tres tipos distintos de números en SymPy: `Real`, `Rational`, `Integer`: "
   ]
  },
  {
   "cell_type": "code",
   "execution_count": 61,
   "metadata": {},
   "outputs": [],
   "source": [
    "r1 = sp.Rational(4,5)\n",
    "r2 = sp.Rational(5,4)"
   ]
  },
  {
   "cell_type": "code",
   "execution_count": 62,
   "metadata": {},
   "outputs": [
    {
     "data": {
      "image/png": "[encoded data removed]",
      "text/latex": [
       "$\\displaystyle \\frac{4}{5}$"
      ],
      "text/plain": [
       "4/5"
      ]
     },
     "execution_count": 62,
     "metadata": {},
     "output_type": "execute_result"
    }
   ],
   "source": [
    "r1"
   ]
  },
  {
   "cell_type": "code",
   "execution_count": 63,
   "metadata": {},
   "outputs": [
    {
     "data": {
      "image/png": "[encoded data removed]",
      "text/latex": [
       "$\\displaystyle \\frac{41}{20}$"
      ],
      "text/plain": [
       "41\n",
       "──\n",
       "20"
      ]
     },
     "execution_count": 63,
     "metadata": {},
     "output_type": "execute_result"
    }
   ],
   "source": [
    "r1 + r2"
   ]
  },
  {
   "cell_type": "code",
   "execution_count": 64,
   "metadata": {},
   "outputs": [
    {
     "data": {
      "image/png": "[encoded data removed]",
      "text/latex": [
       "$\\displaystyle \\frac{16}{25}$"
      ],
      "text/plain": [
       "16\n",
       "──\n",
       "25"
      ]
     },
     "execution_count": 64,
     "metadata": {},
     "output_type": "execute_result"
    }
   ],
   "source": [
    "r1/r2"
   ]
  },
  {
   "cell_type": "markdown",
   "metadata": {},
   "source": [
    "### **Evaluación numérica**\n",
    "\n",
    "SymPy usa una biblioteca para trabajar con números con precisión arbitraria, y tiene expresiones SymPy  predefinidas para varias constantes matemáticas, tales como: `pi`, `e` y `oo` para el infinito $\\infty$.\n",
    "\n",
    "Para evaluar numéricamente una expresión podemos usar la función `evalf` (o bien `N`). Éstas usan un argumento `n` que especifíca el número de cifras significativas."
   ]
  },
  {
   "cell_type": "code",
   "execution_count": 66,
   "metadata": {},
   "outputs": [
    {
     "data": {
      "image/png": "[encoded data removed]",
      "text/latex": [
       "$\\displaystyle 3.141592653589793238462643383279502884197169399375105820974944592307816406286208998628034825342117067982148086513282306647093844609550582231725359408128481117450284102701938521105559644622948954930381964428810975665933446128475648233786783165271201909145648566923460348610454326648213393607260249141273724587006606315588174881520920962829254091715364367892590360011330530548820466521384146951941511609433057270365759591953092186117381932611793105118548074462379962749567351885752724891227938183011949129833673362440656643086021394946395224737190702179860943702770539217176293176752384674818467669405132000568127145263560827785771342757789609173637178721468440901224953430146549585371050792279689258923542019956112129021960864034418159813629774771309960518707211349999998372978049951059731732816096318595024459455346908302642522308253344685035261931188171010003137838752886587533208381420617177669147303598253490428755468731159562863882353787593751957781857780532171226806613001927876611195909216420199$"
      ],
      "text/plain": [
       "3.141592653589793238462643383279502884197169399375105820974944592307816406286208998628034825342117067982148086513282306647093844609550582231725359408128481117450284\n",
       "10270193852110555964462294895493038196442881097566593344612847564823378678316527120190914564856692346034861045432664821339360726024914127372458700660631558817488152\n",
       "09209628292540917153643678925903600113305305488204665213841469519415116094330572703657595919530921861173819326117931051185480744623799627495673518857527248912279381\n",
       "83011949129833673362440656643086021394946395224737190702179860943702770539217176293176752384674818467669405132000568127145263560827785771342757789609173637178721468\n",
       "44090122495343014654958537105079227968925892354201995611212902196086403441815981362977477130996051870721134999999837297804995105973173281609631859502445945534690830\n",
       "26425223082533446850352619311881710100031378387528865875332083814206171776691473035982534904287554687311595628638823537875937519577818577805321712268066130019278766\n",
       "11195909216420199"
      ]
     },
     "execution_count": 66,
     "metadata": {},
     "output_type": "execute_result"
    }
   ],
   "source": [
    "sp.pi.evalf(n=1000)"
   ]
  },
  {
   "cell_type": "code",
   "execution_count": 67,
   "metadata": {},
   "outputs": [
    {
     "data": {
      "image/png": "[encoded data removed]",
      "text/latex": [
       "$\\displaystyle \\left(x + \\pi\\right)^{2}$"
      ],
      "text/plain": [
       "       2\n",
       "(x + π) "
      ]
     },
     "execution_count": 67,
     "metadata": {},
     "output_type": "execute_result"
    }
   ],
   "source": [
    "y = (x + sp.pi)**2\n",
    "y"
   ]
  },
  {
   "cell_type": "code",
   "execution_count": 75,
   "metadata": {},
   "outputs": [
    {
     "data": {
      "image/png": "[encoded data removed]",
      "text/latex": [
       "$\\displaystyle 9.8696 \\left(0.31831 x + 1\\right)^{2}$"
      ],
      "text/plain": [
       "                      2\n",
       "9.8696⋅(0.31831⋅x + 1) "
      ]
     },
     "execution_count": 75,
     "metadata": {},
     "output_type": "execute_result"
    }
   ],
   "source": [
    "sp.N(y, 5) # equivalente a evalf"
   ]
  },
  {
   "cell_type": "markdown",
   "metadata": {},
   "source": [
    "Cuando evaluamos numéricamente expresiones a menudo deseamos **substituir un símbolo** por un **valor numérico**. En SymPy hacemos esto usando la función `subs`:"
   ]
  },
  {
   "cell_type": "code",
   "execution_count": 76,
   "metadata": {},
   "outputs": [
    {
     "data": {
      "image/png": "[encoded data removed]",
      "text/latex": [
       "$\\displaystyle \\left(1.5 + \\pi\\right)^{2}$"
      ],
      "text/plain": [
       "         2\n",
       "(1.5 + π) "
      ]
     },
     "execution_count": 76,
     "metadata": {},
     "output_type": "execute_result"
    }
   ],
   "source": [
    "y.subs(x, 1.5)"
   ]
  },
  {
   "cell_type": "markdown",
   "metadata": {},
   "source": [
    "La función `subs` también puede ser usada para substituir símbolos y expresiones:"
   ]
  },
  {
   "cell_type": "code",
   "execution_count": 77,
   "metadata": {},
   "outputs": [
    {
     "data": {
      "image/png": "[encoded data removed]",
      "text/latex": [
       "$\\displaystyle \\left(a + 2 \\pi\\right)^{2}$"
      ],
      "text/plain": [
       "         2\n",
       "(a + 2⋅π) "
      ]
     },
     "execution_count": 77,
     "metadata": {},
     "output_type": "execute_result"
    }
   ],
   "source": [
    "y.subs(x, a+sp.pi)"
   ]
  },
  {
   "cell_type": "markdown",
   "metadata": {},
   "source": [
    "## **Manipulaciones algebráicas**\n",
    "\n",
    "Uno de los usos principales de un sistema de cálculo simbólico es realizar manipulaciones algebráicas de expresiones. Por ejemplo, si queremos expandir un producto, factorizar una expresión, o simplificar un resultado. En esta sección presentamos las funciones para realizar estas operaciones básicas en SymPy."
   ]
  },
  {
   "cell_type": "markdown",
   "metadata": {},
   "source": [
    "### **Expand y factor**\n",
    "\n",
    "Primeros pasos en la manipulación algebráica"
   ]
  },
  {
   "cell_type": "code",
   "execution_count": 78,
   "metadata": {},
   "outputs": [
    {
     "data": {
      "image/png": "[encoded data removed]",
      "text/latex": [
       "$\\displaystyle \\left(x + 1\\right) \\left(x + 2\\right) \\left(x + 3\\right)$"
      ],
      "text/plain": [
       "(x + 1)⋅(x + 2)⋅(x + 3)"
      ]
     },
     "execution_count": 78,
     "metadata": {},
     "output_type": "execute_result"
    }
   ],
   "source": [
    "(x+1)*(x+2)*(x+3)"
   ]
  },
  {
   "cell_type": "code",
   "execution_count": 79,
   "metadata": {},
   "outputs": [
    {
     "data": {
      "image/png": "[encoded data removed]",
      "text/latex": [
       "$\\displaystyle x^{3} + 6 x^{2} + 11 x + 6$"
      ],
      "text/plain": [
       " 3      2           \n",
       "x  + 6⋅x  + 11⋅x + 6"
      ]
     },
     "execution_count": 79,
     "metadata": {},
     "output_type": "execute_result"
    }
   ],
   "source": [
    "sp.expand((x+1)*(x+2)*(x+3))"
   ]
  },
  {
   "cell_type": "markdown",
   "metadata": {},
   "source": [
    "La función `expand` acepta varios argumentos con los que se puede indicar qué tipo de expansión deseamos realizar. Por ejemplo, para expandir expresiones trigonométricas, usamos el argumento clave `trig=True`:"
   ]
  },
  {
   "cell_type": "code",
   "execution_count": 80,
   "metadata": {},
   "outputs": [
    {
     "data": {
      "image/png": "[encoded data removed]",
      "text/latex": [
       "$\\displaystyle \\sin{\\left(a + b \\right)}$"
      ],
      "text/plain": [
       "sin(a + b)"
      ]
     },
     "execution_count": 80,
     "metadata": {},
     "output_type": "execute_result"
    }
   ],
   "source": [
    "sp.sin(a+b)"
   ]
  },
  {
   "cell_type": "code",
   "execution_count": 81,
   "metadata": {},
   "outputs": [
    {
     "data": {
      "image/png": "[encoded data removed]",
      "text/latex": [
       "$\\displaystyle \\sin{\\left(a \\right)} \\cos{\\left(b \\right)} + \\sin{\\left(b \\right)} \\cos{\\left(a \\right)}$"
      ],
      "text/plain": [
       "sin(a)⋅cos(b) + sin(b)⋅cos(a)"
      ]
     },
     "execution_count": 81,
     "metadata": {},
     "output_type": "execute_result"
    }
   ],
   "source": [
    "sp.expand(sp.sin(a+b), trig=True)"
   ]
  },
  {
   "cell_type": "markdown",
   "metadata": {},
   "source": [
    "Ver `help(expand)` para una descripción detallada de los distintos tipos de expansiones que la función `expand` puede realizar."
   ]
  },
  {
   "cell_type": "markdown",
   "metadata": {},
   "source": [
    "También podemos factorizar expresiones, usando la función `factor` de SymPy: "
   ]
  },
  {
   "cell_type": "code",
   "execution_count": 82,
   "metadata": {},
   "outputs": [
    {
     "data": {
      "image/png": "[encoded data removed]",
      "text/latex": [
       "$\\displaystyle \\left(x + 1\\right) \\left(x + 2\\right) \\left(x + 3\\right)$"
      ],
      "text/plain": [
       "(x + 1)⋅(x + 2)⋅(x + 3)"
      ]
     },
     "execution_count": 82,
     "metadata": {},
     "output_type": "execute_result"
    }
   ],
   "source": [
    "sp.factor(x**3 + 6*x**2 + 11*x + 6)"
   ]
  },
  {
   "cell_type": "markdown",
   "metadata": {},
   "source": [
    "### **Simplify**\n",
    "\n",
    "La función `simplify` intenta simplificar una expresión usando distinta técnicas. Existen también alternativas más específicas a la función `simplify`: `trigsimp`, `powsimp`, `logcombine`, etc. \n",
    "\n",
    "El uso básico de estas funciones en el siguiente:"
   ]
  },
  {
   "cell_type": "code",
   "execution_count": 83,
   "metadata": {},
   "outputs": [
    {
     "data": {
      "image/png": "[encoded data removed]",
      "text/latex": [
       "$\\displaystyle x^{2} - 1$"
      ],
      "text/plain": [
       " 2    \n",
       "x  - 1"
      ]
     },
     "execution_count": 83,
     "metadata": {},
     "output_type": "execute_result"
    }
   ],
   "source": [
    "# simplify expande un producto\n",
    "sp.simplify((x+1)*(x-1))"
   ]
  },
  {
   "cell_type": "code",
   "execution_count": 84,
   "metadata": {},
   "outputs": [
    {
     "data": {
      "image/png": "[encoded data removed]",
      "text/latex": [
       "$\\displaystyle 1$"
      ],
      "text/plain": [
       "1"
      ]
     },
     "execution_count": 84,
     "metadata": {},
     "output_type": "execute_result"
    }
   ],
   "source": [
    "# simplify usa identidades trigonometricas\n",
    "sp.simplify(sp.sin(a)**2 + sp.cos(a)**2)"
   ]
  },
  {
   "cell_type": "code",
   "execution_count": 85,
   "metadata": {},
   "outputs": [
    {
     "data": {
      "image/png": "[encoded data removed]",
      "text/latex": [
       "$\\displaystyle \\tan{\\left(x \\right)}$"
      ],
      "text/plain": [
       "tan(x)"
      ]
     },
     "execution_count": 85,
     "metadata": {},
     "output_type": "execute_result"
    }
   ],
   "source": [
    "sp.simplify(sp.sin(x)/sp.cos(x))"
   ]
  },
  {
   "cell_type": "markdown",
   "metadata": {},
   "source": [
    "## **apart y together**\n",
    "\n",
    "Podemos también manipular expresiones simbólicas que involucran fracciones usando las funciones `apart` y `together`. La primera de estas funciones separa una fracción en sus correspondientes fracciones parciales; la segunda hace todo lo contrario."
   ]
  },
  {
   "cell_type": "code",
   "execution_count": 86,
   "metadata": {},
   "outputs": [],
   "source": [
    "f1 = 1/((a+1)*(a+2))"
   ]
  },
  {
   "cell_type": "code",
   "execution_count": 87,
   "metadata": {},
   "outputs": [
    {
     "data": {
      "image/png": "[encoded data removed]",
      "text/latex": [
       "$\\displaystyle \\frac{1}{\\left(a + 1\\right) \\left(a + 2\\right)}$"
      ],
      "text/plain": [
       "       1       \n",
       "───────────────\n",
       "(a + 1)⋅(a + 2)"
      ]
     },
     "execution_count": 87,
     "metadata": {},
     "output_type": "execute_result"
    }
   ],
   "source": [
    "f1"
   ]
  },
  {
   "cell_type": "code",
   "execution_count": 88,
   "metadata": {},
   "outputs": [
    {
     "data": {
      "image/png": "[encoded data removed]",
      "text/latex": [
       "$\\displaystyle - \\frac{1}{a + 2} + \\frac{1}{a + 1}$"
      ],
      "text/plain": [
       "    1       1  \n",
       "- ───── + ─────\n",
       "  a + 2   a + 1"
      ]
     },
     "execution_count": 88,
     "metadata": {},
     "output_type": "execute_result"
    }
   ],
   "source": [
    "sp.apart(f1)"
   ]
  },
  {
   "cell_type": "code",
   "execution_count": 89,
   "metadata": {},
   "outputs": [],
   "source": [
    "f2 = 1/(a+2) + 1/(a+3)"
   ]
  },
  {
   "cell_type": "code",
   "execution_count": 90,
   "metadata": {},
   "outputs": [
    {
     "data": {
      "image/png": "[encoded data removed]",
      "text/latex": [
       "$\\displaystyle \\frac{1}{a + 3} + \\frac{1}{a + 2}$"
      ],
      "text/plain": [
       "  1       1  \n",
       "───── + ─────\n",
       "a + 3   a + 2"
      ]
     },
     "execution_count": 90,
     "metadata": {},
     "output_type": "execute_result"
    }
   ],
   "source": [
    "f2"
   ]
  },
  {
   "cell_type": "code",
   "execution_count": 91,
   "metadata": {},
   "outputs": [
    {
     "data": {
      "image/png": "[encoded data removed]",
      "text/latex": [
       "$\\displaystyle \\frac{2 a + 5}{\\left(a + 2\\right) \\left(a + 3\\right)}$"
      ],
      "text/plain": [
       "    2⋅a + 5    \n",
       "───────────────\n",
       "(a + 2)⋅(a + 3)"
      ]
     },
     "execution_count": 91,
     "metadata": {},
     "output_type": "execute_result"
    }
   ],
   "source": [
    "sp.together(f2)"
   ]
  },
  {
   "cell_type": "markdown",
   "metadata": {},
   "source": [
    "### **Sumas y productos**\n",
    "\n",
    "Podemos evaluar sumatorias y productos usando las funciones `Sum` y `Product`"
   ]
  },
  {
   "cell_type": "code",
   "execution_count": 38,
   "metadata": {},
   "outputs": [],
   "source": [
    "n = sp.Symbol(\"n\", integer=True)"
   ]
  },
  {
   "cell_type": "code",
   "execution_count": 39,
   "metadata": {},
   "outputs": [
    {
     "data": {
      "text/latex": [
       "$\\displaystyle \\sum_{n=1}^{10} \\frac{1}{n^{2}}$"
      ],
      "text/plain": [
       "Sum(n**(-2), (n, 1, 10))"
      ]
     },
     "execution_count": 39,
     "metadata": {},
     "output_type": "execute_result"
    }
   ],
   "source": [
    "suma = sp.Sum(1/n**2, (n, 1, 10))\n",
    "suma"
   ]
  },
  {
   "cell_type": "code",
   "execution_count": 40,
   "metadata": {},
   "outputs": [
    {
     "data": {
      "text/latex": [
       "$\\displaystyle \\frac{1968329}{1270080}$"
      ],
      "text/plain": [
       "1968329/1270080"
      ]
     },
     "execution_count": 40,
     "metadata": {},
     "output_type": "execute_result"
    }
   ],
   "source": [
    "suma.doit()"
   ]
  },
  {
   "cell_type": "code",
   "execution_count": 41,
   "metadata": {},
   "outputs": [
    {
     "data": {
      "text/latex": [
       "$\\displaystyle 1.54976773116654$"
      ],
      "text/plain": [
       "1.54976773116654"
      ]
     },
     "execution_count": 41,
     "metadata": {},
     "output_type": "execute_result"
    }
   ],
   "source": [
    "suma.evalf()"
   ]
  },
  {
   "cell_type": "code",
   "execution_count": 42,
   "metadata": {},
   "outputs": [
    {
     "data": {
      "text/latex": [
       "$\\displaystyle \\sum_{n=1}^{\\infty} \\frac{1}{n^{2}}$"
      ],
      "text/plain": [
       "Sum(n**(-2), (n, 1, oo))"
      ]
     },
     "execution_count": 42,
     "metadata": {},
     "output_type": "execute_result"
    }
   ],
   "source": [
    "suma2 = sp.Sum(1/n**2, (n, 1, sp.oo))\n",
    "suma2"
   ]
  },
  {
   "cell_type": "code",
   "execution_count": 43,
   "metadata": {},
   "outputs": [
    {
     "data": {
      "text/latex": [
       "$\\displaystyle 1.64493406684823$"
      ],
      "text/plain": [
       "1.64493406684823"
      ]
     },
     "execution_count": 43,
     "metadata": {},
     "output_type": "execute_result"
    }
   ],
   "source": [
    "suma2.evalf()"
   ]
  },
  {
   "cell_type": "code",
   "execution_count": 44,
   "metadata": {},
   "outputs": [
    {
     "data": {
      "text/latex": [
       "$\\displaystyle \\sum_{n=0}^{\\infty} \\frac{x^{n}}{n!}$"
      ],
      "text/plain": [
       "Sum(x**n/factorial(n), (n, 0, oo))"
      ]
     },
     "execution_count": 44,
     "metadata": {},
     "output_type": "execute_result"
    }
   ],
   "source": [
    "suma3 = sp.Sum(x**n/(sp.factorial(n)),(n,0,sp.oo))\n",
    "suma3"
   ]
  },
  {
   "cell_type": "code",
   "execution_count": 45,
   "metadata": {},
   "outputs": [
    {
     "data": {
      "text/latex": [
       "$\\displaystyle e^{x}$"
      ],
      "text/plain": [
       "exp(x)"
      ]
     },
     "execution_count": 45,
     "metadata": {},
     "output_type": "execute_result"
    }
   ],
   "source": [
    "suma3.doit()"
   ]
  },
  {
   "cell_type": "markdown",
   "metadata": {},
   "source": [
    "**Productos** funcionan de manera similar:"
   ]
  },
  {
   "cell_type": "code",
   "execution_count": 46,
   "metadata": {},
   "outputs": [
    {
     "data": {
      "text/latex": [
       "$\\displaystyle \\prod_{n=1}^{10} n$"
      ],
      "text/plain": [
       "Product(n, (n, 1, 10))"
      ]
     },
     "execution_count": 46,
     "metadata": {},
     "output_type": "execute_result"
    }
   ],
   "source": [
    "producto = sp.Product(n, (n, 1, 10)) # 10!\n",
    "producto"
   ]
  },
  {
   "cell_type": "code",
   "execution_count": 47,
   "metadata": {},
   "outputs": [
    {
     "data": {
      "text/latex": [
       "$\\displaystyle 3628800$"
      ],
      "text/plain": [
       "3628800"
      ]
     },
     "execution_count": 47,
     "metadata": {},
     "output_type": "execute_result"
    }
   ],
   "source": [
    "producto.doit()"
   ]
  },
  {
   "cell_type": "code",
   "execution_count": 48,
   "metadata": {},
   "outputs": [
    {
     "data": {
      "text/latex": [
       "$\\displaystyle 3628800.0$"
      ],
      "text/plain": [
       "3628800.00000000"
      ]
     },
     "execution_count": 48,
     "metadata": {},
     "output_type": "execute_result"
    }
   ],
   "source": [
    "producto.evalf()"
   ]
  },
  {
   "cell_type": "markdown",
   "metadata": {},
   "source": [
    "### **Límites**\n",
    "\n",
    "SymPy permite evaluar límites usando la función `limit`. Por ejemplo, "
   ]
  },
  {
   "cell_type": "code",
   "execution_count": 49,
   "metadata": {},
   "outputs": [
    {
     "data": {
      "text/latex": [
       "$\\displaystyle 1$"
      ],
      "text/plain": [
       "1"
      ]
     },
     "execution_count": 49,
     "metadata": {},
     "output_type": "execute_result"
    }
   ],
   "source": [
    "sp.limit(sp.sin(x)/x, x, 0)"
   ]
  },
  {
   "cell_type": "markdown",
   "metadata": {},
   "source": [
    "También es posible calcular límites \"por la derecha\" y \"por la izquierda\" usando el argumento opcional `dir`:"
   ]
  },
  {
   "cell_type": "code",
   "execution_count": 50,
   "metadata": {},
   "outputs": [
    {
     "data": {
      "text/latex": [
       "$\\displaystyle \\infty$"
      ],
      "text/plain": [
       "oo"
      ]
     },
     "execution_count": 50,
     "metadata": {},
     "output_type": "execute_result"
    }
   ],
   "source": [
    "sp.limit(1/x, x, 0, dir=\"+\")"
   ]
  },
  {
   "cell_type": "code",
   "execution_count": 51,
   "metadata": {
    "scrolled": true
   },
   "outputs": [
    {
     "data": {
      "text/latex": [
       "$\\displaystyle -\\infty$"
      ],
      "text/plain": [
       "-oo"
      ]
     },
     "execution_count": 51,
     "metadata": {},
     "output_type": "execute_result"
    }
   ],
   "source": [
    "sp.limit(1/x, x, 0, dir=\"-\")"
   ]
  },
  {
   "cell_type": "markdown",
   "metadata": {},
   "source": [
    "## **Cálculo**\n",
    "\n",
    "Además de realizar manipulaciones algebráicas, SimPy puede realizar operaciones de cálculo, tales como derivar y derivar expresiones."
   ]
  },
  {
   "cell_type": "markdown",
   "metadata": {},
   "source": [
    "### **Derivación**\n",
    "\n",
    "Derivar es usualmente algo simple. Usamos la función `diff`. El primer argumento es una expresión que será derivada, y el segundo argumento es el símbolo respecto al cual se realizará la derivada:"
   ]
  },
  {
   "cell_type": "code",
   "execution_count": 53,
   "metadata": {},
   "outputs": [
    {
     "data": {
      "text/latex": [
       "$\\displaystyle \\left(x + \\pi\\right)^{4}$"
      ],
      "text/plain": [
       "(x + pi)**4"
      ]
     },
     "execution_count": 53,
     "metadata": {},
     "output_type": "execute_result"
    }
   ],
   "source": [
    "y**2"
   ]
  },
  {
   "cell_type": "code",
   "execution_count": 54,
   "metadata": {},
   "outputs": [
    {
     "data": {
      "text/latex": [
       "$\\displaystyle 4 \\left(x + \\pi\\right)^{3}$"
      ],
      "text/plain": [
       "4*(x + pi)**3"
      ]
     },
     "execution_count": 54,
     "metadata": {},
     "output_type": "execute_result"
    }
   ],
   "source": [
    "sp.diff(y**2, x)"
   ]
  },
  {
   "cell_type": "markdown",
   "metadata": {},
   "source": [
    "Para calcular derivadas de orden superior podemos usar:"
   ]
  },
  {
   "cell_type": "code",
   "execution_count": 55,
   "metadata": {},
   "outputs": [
    {
     "data": {
      "text/latex": [
       "$\\displaystyle 12 \\left(x + \\pi\\right)^{2}$"
      ],
      "text/plain": [
       "12*(x + pi)**2"
      ]
     },
     "execution_count": 55,
     "metadata": {},
     "output_type": "execute_result"
    }
   ],
   "source": [
    "sp.diff(y**2, x, x)"
   ]
  },
  {
   "cell_type": "markdown",
   "metadata": {},
   "source": [
    "o bien"
   ]
  },
  {
   "cell_type": "code",
   "execution_count": 56,
   "metadata": {},
   "outputs": [
    {
     "data": {
      "text/latex": [
       "$\\displaystyle 12 \\left(x + \\pi\\right)^{2}$"
      ],
      "text/plain": [
       "12*(x + pi)**2"
      ]
     },
     "execution_count": 56,
     "metadata": {},
     "output_type": "execute_result"
    }
   ],
   "source": [
    "sp.diff(y**2, x, 2) # hace lo mismo"
   ]
  },
  {
   "cell_type": "markdown",
   "metadata": {},
   "source": [
    "Podemos calcular la derivada de una expresión que depende de más de una variable:"
   ]
  },
  {
   "cell_type": "code",
   "execution_count": 57,
   "metadata": {},
   "outputs": [],
   "source": [
    "x, y, z = sp.symbols(\"x,y,z\")"
   ]
  },
  {
   "cell_type": "code",
   "execution_count": 58,
   "metadata": {},
   "outputs": [],
   "source": [
    "f = sp.sin(x*y) + sp.cos(y*z)"
   ]
  },
  {
   "cell_type": "markdown",
   "metadata": {},
   "source": [
    "Entonces, la dervidada \n",
    "\n",
    "$$\n",
    "\\frac{\\partial^3f}{\\partial x\\partial y^2},\n",
    "$$\n",
    "puede calcularse como"
   ]
  },
  {
   "cell_type": "code",
   "execution_count": 59,
   "metadata": {},
   "outputs": [
    {
     "data": {
      "text/latex": [
       "$\\displaystyle - x \\left(x y \\cos{\\left(x y \\right)} + 2 \\sin{\\left(x y \\right)}\\right)$"
      ],
      "text/plain": [
       "-x*(x*y*cos(x*y) + 2*sin(x*y))"
      ]
     },
     "execution_count": 59,
     "metadata": {},
     "output_type": "execute_result"
    }
   ],
   "source": [
    "sp.diff(f, x, 1, y, 2)"
   ]
  },
  {
   "cell_type": "markdown",
   "metadata": {},
   "source": [
    "### **Integración**\n",
    "\n",
    "La integración se realiza de forma similar:"
   ]
  },
  {
   "cell_type": "code",
   "execution_count": 60,
   "metadata": {},
   "outputs": [],
   "source": [
    "f = x*sp.sin(x)"
   ]
  },
  {
   "cell_type": "code",
   "execution_count": 61,
   "metadata": {},
   "outputs": [
    {
     "data": {
      "text/latex": [
       "$\\displaystyle - x \\cos{\\left(x \\right)} + \\sin{\\left(x \\right)}$"
      ],
      "text/plain": [
       "-x*cos(x) + sin(x)"
      ]
     },
     "execution_count": 61,
     "metadata": {},
     "output_type": "execute_result"
    }
   ],
   "source": [
    "sp.integrate(f, x)"
   ]
  },
  {
   "cell_type": "markdown",
   "metadata": {},
   "source": [
    "También podemos evaluar integrales definidas, agregando la información de los límites de integración:"
   ]
  },
  {
   "cell_type": "code",
   "execution_count": 62,
   "metadata": {},
   "outputs": [
    {
     "data": {
      "text/latex": [
       "$\\displaystyle 2 \\pi$"
      ],
      "text/plain": [
       "2*pi"
      ]
     },
     "execution_count": 62,
     "metadata": {},
     "output_type": "execute_result"
    }
   ],
   "source": [
    "sp.integrate(f, (x, -sp.pi, sp.pi))"
   ]
  },
  {
   "cell_type": "markdown",
   "metadata": {},
   "source": [
    "Esto incluye el caso en que los límites son infinitos"
   ]
  },
  {
   "cell_type": "code",
   "execution_count": 63,
   "metadata": {},
   "outputs": [
    {
     "data": {
      "text/latex": [
       "$\\displaystyle \\sqrt{\\pi}$"
      ],
      "text/plain": [
       "sqrt(pi)"
      ]
     },
     "execution_count": 63,
     "metadata": {},
     "output_type": "execute_result"
    }
   ],
   "source": [
    "sp.integrate(sp.exp(-x**2), (x, -sp.oo, sp.oo))"
   ]
  },
  {
   "cell_type": "code",
   "execution_count": 64,
   "metadata": {},
   "outputs": [
    {
     "data": {
      "text/latex": [
       "$\\displaystyle \\begin{cases} \\frac{x^{n + 1}}{n + 1} & \\text{for}\\: n \\neq -1 \\\\\\log{\\left(x \\right)} & \\text{otherwise} \\end{cases}$"
      ],
      "text/plain": [
       "Piecewise((x**(n + 1)/(n + 1), Ne(n, -1)), (log(x), True))"
      ]
     },
     "execution_count": 64,
     "metadata": {},
     "output_type": "execute_result"
    }
   ],
   "source": [
    "n = sp.Symbol('n', int=True)\n",
    "resultado = sp.integrate(x**n,x)\n",
    "resultado"
   ]
  },
  {
   "cell_type": "markdown",
   "metadata": {},
   "source": [
    "# **Series**\n",
    "\n",
    "SymPy puede realizar expansiones en series de una expresión, usando la función `series`:"
   ]
  },
  {
   "cell_type": "markdown",
   "metadata": {},
   "source": [
    "## Series de Fourier"
   ]
  },
  {
   "cell_type": "code",
   "execution_count": 65,
   "metadata": {},
   "outputs": [
    {
     "data": {
      "text/latex": [
       "$\\displaystyle \\frac{2 \\sin{\\left(x \\right)}}{\\pi} + \\frac{2 \\sin{\\left(3 x \\right)}}{3 \\pi} + \\frac{1}{2} + \\ldots$"
      ],
      "text/plain": [
       "FourierSeries(Heaviside(x), (x, -pi, pi), (1/2, SeqFormula(Piecewise((pi, Eq(_n, 0)), (sin(_n*pi)/_n, True))*cos(_n*x)/pi, (_n, 1, oo)), SeqFormula((-Piecewise((0, Eq(_n, 0)), (-1/_n, True)) + Piecewise((0, Eq(_n, 0)), (-cos(_n*pi)/_n, True)))*sin(_n*x)/pi, (_n, 1, oo))))"
      ]
     },
     "execution_count": 65,
     "metadata": {},
     "output_type": "execute_result"
    }
   ],
   "source": [
    "sp.fourier_series(sp.Heaviside(x))"
   ]
  },
  {
   "cell_type": "code",
   "execution_count": 66,
   "metadata": {},
   "outputs": [
    {
     "data": {
      "text/latex": [
       "$\\displaystyle \\frac{2 \\sin{\\left(x \\right)}}{\\pi} + \\frac{2 \\sin{\\left(3 x \\right)}}{3 \\pi} + \\frac{2 \\sin{\\left(5 x \\right)}}{5 \\pi} + \\frac{2 \\sin{\\left(7 x \\right)}}{7 \\pi} + \\frac{2 \\sin{\\left(9 x \\right)}}{9 \\pi} + \\frac{2 \\sin{\\left(11 x \\right)}}{11 \\pi} + \\frac{2 \\sin{\\left(13 x \\right)}}{13 \\pi} + \\frac{2 \\sin{\\left(15 x \\right)}}{15 \\pi} + \\frac{2 \\sin{\\left(17 x \\right)}}{17 \\pi} + \\frac{1}{2}$"
      ],
      "text/plain": [
       "2*sin(x)/pi + 2*sin(3*x)/(3*pi) + 2*sin(5*x)/(5*pi) + 2*sin(7*x)/(7*pi) + 2*sin(9*x)/(9*pi) + 2*sin(11*x)/(11*pi) + 2*sin(13*x)/(13*pi) + 2*sin(15*x)/(15*pi) + 2*sin(17*x)/(17*pi) + 1/2"
      ]
     },
     "execution_count": 66,
     "metadata": {},
     "output_type": "execute_result"
    }
   ],
   "source": [
    "sp.fourier_series(sp.Heaviside(x)).truncate(10)"
   ]
  },
  {
   "cell_type": "markdown",
   "metadata": {},
   "source": [
    "### **Transformada de Fourier**"
   ]
  },
  {
   "cell_type": "code",
   "execution_count": 67,
   "metadata": {},
   "outputs": [
    {
     "data": {
      "text/latex": [
       "$\\displaystyle \\delta\\left(- a + x\\right)$"
      ],
      "text/plain": [
       "DiracDelta(-a + x)"
      ]
     },
     "execution_count": 67,
     "metadata": {},
     "output_type": "execute_result"
    }
   ],
   "source": [
    "f = sp.DiracDelta(x-a)\n",
    "f"
   ]
  },
  {
   "cell_type": "code",
   "execution_count": 68,
   "metadata": {},
   "outputs": [
    {
     "data": {
      "text/latex": [
       "$\\displaystyle e^{- 2 i \\pi a k}$"
      ],
      "text/plain": [
       "exp(-2*I*pi*a*k)"
      ]
     },
     "execution_count": 68,
     "metadata": {},
     "output_type": "execute_result"
    }
   ],
   "source": [
    "k = sp.Symbol('k', real=True)\n",
    "sp.fourier_transform(f,x,k)"
   ]
  },
  {
   "cell_type": "code",
   "execution_count": 69,
   "metadata": {},
   "outputs": [
    {
     "data": {
      "text/latex": [
       "$\\displaystyle 1 + x + \\frac{x^{2}}{2} + \\frac{x^{3}}{6} + \\frac{x^{4}}{24} + \\frac{x^{5}}{120} + O\\left(x^{6}\\right)$"
      ],
      "text/plain": [
       "1 + x + x**2/2 + x**3/6 + x**4/24 + x**5/120 + O(x**6)"
      ]
     },
     "execution_count": 69,
     "metadata": {},
     "output_type": "execute_result"
    }
   ],
   "source": [
    "sp.series(sp.exp(x), x)"
   ]
  },
  {
   "cell_type": "markdown",
   "metadata": {},
   "source": [
    "Por defecto, la expansión se realiza en torno a cero ($x=0$), pero podemos también expandir en torno a otro valor, incluyéndolo en los argumentos de la función:"
   ]
  },
  {
   "cell_type": "code",
   "execution_count": 70,
   "metadata": {},
   "outputs": [
    {
     "data": {
      "text/latex": [
       "$\\displaystyle e + e \\left(x - 1\\right) + \\frac{e \\left(x - 1\\right)^{2}}{2} + \\frac{e \\left(x - 1\\right)^{3}}{6} + \\frac{e \\left(x - 1\\right)^{4}}{24} + \\frac{e \\left(x - 1\\right)^{5}}{120} + O\\left(\\left(x - 1\\right)^{6}; x\\rightarrow 1\\right)$"
      ],
      "text/plain": [
       "E + E*(x - 1) + E*(x - 1)**2/2 + E*(x - 1)**3/6 + E*(x - 1)**4/24 + E*(x - 1)**5/120 + O((x - 1)**6, (x, 1))"
      ]
     },
     "execution_count": 70,
     "metadata": {},
     "output_type": "execute_result"
    }
   ],
   "source": [
    "sp.series(sp.exp(x), x, 1)"
   ]
  },
  {
   "cell_type": "markdown",
   "metadata": {},
   "source": [
    "Además podemos definir explícitamente el orden hasta el que se realiza la expansión:"
   ]
  },
  {
   "cell_type": "code",
   "execution_count": 71,
   "metadata": {},
   "outputs": [
    {
     "data": {
      "text/latex": [
       "$\\displaystyle 1 + x + \\frac{x^{2}}{2} + \\frac{x^{3}}{6} + \\frac{x^{4}}{24} + \\frac{x^{5}}{120} + \\frac{x^{6}}{720} + \\frac{x^{7}}{5040} + \\frac{x^{8}}{40320} + \\frac{x^{9}}{362880} + O\\left(x^{10}\\right)$"
      ],
      "text/plain": [
       "1 + x + x**2/2 + x**3/6 + x**4/24 + x**5/120 + x**6/720 + x**7/5040 + x**8/40320 + x**9/362880 + O(x**10)"
      ]
     },
     "execution_count": 71,
     "metadata": {},
     "output_type": "execute_result"
    }
   ],
   "source": [
    "sp.series(sp.exp(x), x, 0, 10)"
   ]
  },
  {
   "cell_type": "markdown",
   "metadata": {},
   "source": [
    "La función `series` define un tipo especial de objeto en SymPy (sympy.core.add.Add) que incluye la información del orden hasta el que se ha realizado la expansión. Esto es útil para llevar el registro de estos órdenes en un cálculo:"
   ]
  },
  {
   "cell_type": "code",
   "execution_count": 72,
   "metadata": {},
   "outputs": [
    {
     "data": {
      "text/latex": [
       "$\\displaystyle 1 - \\frac{x^{2}}{2} + \\frac{x^{4}}{24} + O\\left(x^{5}\\right)$"
      ],
      "text/plain": [
       "1 - x**2/2 + x**4/24 + O(x**5)"
      ]
     },
     "execution_count": 72,
     "metadata": {},
     "output_type": "execute_result"
    }
   ],
   "source": [
    "s1 = sp.cos(x).series(x, 0, 5)\n",
    "s1"
   ]
  },
  {
   "cell_type": "code",
   "execution_count": 73,
   "metadata": {},
   "outputs": [
    {
     "data": {
      "text/latex": [
       "$\\displaystyle x + O\\left(x^{2}\\right)$"
      ],
      "text/plain": [
       "x + O(x**2)"
      ]
     },
     "execution_count": 73,
     "metadata": {},
     "output_type": "execute_result"
    }
   ],
   "source": [
    "s2 = sp.sin(x).series(x, 0, 2)\n",
    "s2"
   ]
  },
  {
   "cell_type": "code",
   "execution_count": 74,
   "metadata": {},
   "outputs": [
    {
     "data": {
      "text/latex": [
       "$\\displaystyle x + O\\left(x^{2}\\right)$"
      ],
      "text/plain": [
       "x + O(x**2)"
      ]
     },
     "execution_count": 74,
     "metadata": {},
     "output_type": "execute_result"
    }
   ],
   "source": [
    "sp.expand(s1 * s2)"
   ]
  },
  {
   "cell_type": "markdown",
   "metadata": {},
   "source": [
    "Si queremos eliminar la información del orden de expansión y sólo quedarnos con los términos calculados, podemos usar el método `removeO`:"
   ]
  },
  {
   "cell_type": "code",
   "execution_count": 75,
   "metadata": {},
   "outputs": [
    {
     "data": {
      "text/latex": [
       "$\\displaystyle \\frac{x^{4}}{24} - \\frac{x^{2}}{2} + 1$"
      ],
      "text/plain": [
       "x**4/24 - x**2/2 + 1"
      ]
     },
     "execution_count": 75,
     "metadata": {},
     "output_type": "execute_result"
    }
   ],
   "source": [
    "s1.removeO()"
   ]
  },
  {
   "cell_type": "markdown",
   "metadata": {},
   "source": [
    "## **Funciones especiales**\n",
    "\n",
    "Ver [documentación](https://docs.sympy.org/latest/modules/functions/special.html)"
   ]
  },
  {
   "cell_type": "markdown",
   "metadata": {},
   "source": [
    "### Polinomios de Legendre"
   ]
  },
  {
   "cell_type": "code",
   "execution_count": 76,
   "metadata": {},
   "outputs": [
    {
     "data": {
      "text/latex": [
       "$\\displaystyle x$"
      ],
      "text/plain": [
       "x"
      ]
     },
     "execution_count": 76,
     "metadata": {},
     "output_type": "execute_result"
    }
   ],
   "source": [
    "sp.legendre(1,x)"
   ]
  },
  {
   "cell_type": "code",
   "execution_count": 77,
   "metadata": {},
   "outputs": [
    {
     "data": {
      "text/latex": [
       "$\\displaystyle 1$"
      ],
      "text/plain": [
       "1"
      ]
     },
     "metadata": {},
     "output_type": "display_data"
    },
    {
     "data": {
      "text/latex": [
       "$\\displaystyle x$"
      ],
      "text/plain": [
       "x"
      ]
     },
     "metadata": {},
     "output_type": "display_data"
    },
    {
     "data": {
      "text/latex": [
       "$\\displaystyle \\frac{3 x^{2}}{2} - \\frac{1}{2}$"
      ],
      "text/plain": [
       "3*x**2/2 - 1/2"
      ]
     },
     "metadata": {},
     "output_type": "display_data"
    },
    {
     "data": {
      "text/latex": [
       "$\\displaystyle \\frac{5 x^{3}}{2} - \\frac{3 x}{2}$"
      ],
      "text/plain": [
       "5*x**3/2 - 3*x/2"
      ]
     },
     "metadata": {},
     "output_type": "display_data"
    },
    {
     "data": {
      "text/latex": [
       "$\\displaystyle \\frac{35 x^{4}}{8} - \\frac{15 x^{2}}{4} + \\frac{3}{8}$"
      ],
      "text/plain": [
       "35*x**4/8 - 15*x**2/4 + 3/8"
      ]
     },
     "metadata": {},
     "output_type": "display_data"
    },
    {
     "data": {
      "text/latex": [
       "$\\displaystyle \\frac{63 x^{5}}{8} - \\frac{35 x^{3}}{4} + \\frac{15 x}{8}$"
      ],
      "text/plain": [
       "63*x**5/8 - 35*x**3/4 + 15*x/8"
      ]
     },
     "metadata": {},
     "output_type": "display_data"
    },
    {
     "data": {
      "text/latex": [
       "$\\displaystyle \\frac{231 x^{6}}{16} - \\frac{315 x^{4}}{16} + \\frac{105 x^{2}}{16} - \\frac{5}{16}$"
      ],
      "text/plain": [
       "231*x**6/16 - 315*x**4/16 + 105*x**2/16 - 5/16"
      ]
     },
     "metadata": {},
     "output_type": "display_data"
    },
    {
     "data": {
      "text/latex": [
       "$\\displaystyle \\frac{429 x^{7}}{16} - \\frac{693 x^{5}}{16} + \\frac{315 x^{3}}{16} - \\frac{35 x}{16}$"
      ],
      "text/plain": [
       "429*x**7/16 - 693*x**5/16 + 315*x**3/16 - 35*x/16"
      ]
     },
     "metadata": {},
     "output_type": "display_data"
    },
    {
     "data": {
      "text/latex": [
       "$\\displaystyle \\frac{6435 x^{8}}{128} - \\frac{3003 x^{6}}{32} + \\frac{3465 x^{4}}{64} - \\frac{315 x^{2}}{32} + \\frac{35}{128}$"
      ],
      "text/plain": [
       "6435*x**8/128 - 3003*x**6/32 + 3465*x**4/64 - 315*x**2/32 + 35/128"
      ]
     },
     "metadata": {},
     "output_type": "display_data"
    },
    {
     "data": {
      "text/latex": [
       "$\\displaystyle \\frac{12155 x^{9}}{128} - \\frac{6435 x^{7}}{32} + \\frac{9009 x^{5}}{64} - \\frac{1155 x^{3}}{32} + \\frac{315 x}{128}$"
      ],
      "text/plain": [
       "12155*x**9/128 - 6435*x**7/32 + 9009*x**5/64 - 1155*x**3/32 + 315*x/128"
      ]
     },
     "metadata": {},
     "output_type": "display_data"
    }
   ],
   "source": [
    "for n in range(10):\n",
    "    display(sp.legendre(n,x))"
   ]
  },
  {
   "cell_type": "code",
   "execution_count": 78,
   "metadata": {},
   "outputs": [
    {
     "data": {
      "text/latex": [
       "$\\displaystyle J_{1}\\left(x\\right)$"
      ],
      "text/plain": [
       "besselj(1, x)"
      ]
     },
     "execution_count": 78,
     "metadata": {},
     "output_type": "execute_result"
    }
   ],
   "source": [
    "J1 = sp.besselj(1,x)\n",
    "J1"
   ]
  },
  {
   "cell_type": "code",
   "execution_count": 79,
   "metadata": {},
   "outputs": [
    {
     "data": {
      "text/latex": [
       "$\\displaystyle \\frac{x}{2} - \\frac{x^{3}}{16} + \\frac{x^{5}}{384} - \\frac{x^{7}}{18432} + \\frac{x^{9}}{1474560} + O\\left(x^{10}\\right)$"
      ],
      "text/plain": [
       "x/2 - x**3/16 + x**5/384 - x**7/18432 + x**9/1474560 + O(x**10)"
      ]
     },
     "execution_count": 79,
     "metadata": {},
     "output_type": "execute_result"
    }
   ],
   "source": [
    "J1.series(x,0,10)"
   ]
  },
  {
   "cell_type": "code",
   "execution_count": 80,
   "metadata": {},
   "outputs": [
    {
     "data": {
      "text/latex": [
       "$\\displaystyle \\frac{J_{0}\\left(x\\right)}{2} - \\frac{J_{2}\\left(x\\right)}{2}$"
      ],
      "text/plain": [
       "besselj(0, x)/2 - besselj(2, x)/2"
      ]
     },
     "execution_count": 80,
     "metadata": {},
     "output_type": "execute_result"
    }
   ],
   "source": [
    "J1.diff(x)"
   ]
  },
  {
   "cell_type": "code",
   "execution_count": 81,
   "metadata": {},
   "outputs": [
    {
     "data": {
      "image/png": "[encoded data removed]",
      "text/plain": [
       "<Figure size 432x288 with 1 Axes>"
      ]
     },
     "metadata": {
      "needs_background": "light"
     },
     "output_type": "display_data"
    },
    {
     "data": {
      "text/plain": [
       "<sympy.plotting.plot.Plot at 0x7fc25658d430>"
      ]
     },
     "execution_count": 81,
     "metadata": {},
     "output_type": "execute_result"
    }
   ],
   "source": [
    "sp.plot(J1)"
   ]
  },
  {
   "cell_type": "code",
   "execution_count": 82,
   "metadata": {},
   "outputs": [],
   "source": [
    "th, ph = sp.symbols('theta, varphi', real=True, positive=True)"
   ]
  },
  {
   "cell_type": "code",
   "execution_count": 83,
   "metadata": {},
   "outputs": [
    {
     "data": {
      "text/latex": [
       "$\\displaystyle Y_{1}^{1}\\left(\\theta,\\varphi\\right)$"
      ],
      "text/plain": [
       "Ynm(1, 1, theta, varphi)"
      ]
     },
     "execution_count": 83,
     "metadata": {},
     "output_type": "execute_result"
    }
   ],
   "source": [
    "sp.Ynm(1,1,th,ph)"
   ]
  },
  {
   "cell_type": "code",
   "execution_count": 84,
   "metadata": {},
   "outputs": [
    {
     "data": {
      "text/latex": [
       "$\\displaystyle e^{- 2 i \\varphi} Y_{1}^{1}\\left(\\theta,\\varphi\\right)$"
      ],
      "text/plain": [
       "exp(-2*I*varphi)*Ynm(1, 1, theta, varphi)"
      ]
     },
     "execution_count": 84,
     "metadata": {},
     "output_type": "execute_result"
    }
   ],
   "source": [
    "sp.Ynm(1,1,th,-ph)"
   ]
  },
  {
   "cell_type": "code",
   "execution_count": 85,
   "metadata": {},
   "outputs": [
    {
     "data": {
      "text/latex": [
       "$\\displaystyle - \\frac{\\sqrt{6} e^{i \\varphi} \\sin{\\left(\\theta \\right)}}{4 \\sqrt{\\pi}}$"
      ],
      "text/plain": [
       "-sqrt(6)*exp(I*varphi)*sin(theta)/(4*sqrt(pi))"
      ]
     },
     "execution_count": 85,
     "metadata": {},
     "output_type": "execute_result"
    }
   ],
   "source": [
    "sp.Ynm(1,1,th,ph).expand(func=True)"
   ]
  },
  {
   "cell_type": "code",
   "execution_count": 86,
   "metadata": {},
   "outputs": [
    {
     "data": {
      "text/latex": [
       "$\\displaystyle \\theta\\left(x\\right)$"
      ],
      "text/plain": [
       "Heaviside(x)"
      ]
     },
     "execution_count": 86,
     "metadata": {},
     "output_type": "execute_result"
    }
   ],
   "source": [
    "H = sp.Heaviside(x)\n",
    "H"
   ]
  },
  {
   "cell_type": "code",
   "execution_count": 87,
   "metadata": {
    "scrolled": true
   },
   "outputs": [
    {
     "data": {
      "image/png": "[encoded data removed]",
      "text/plain": [
       "<Figure size 432x288 with 1 Axes>"
      ]
     },
     "metadata": {
      "needs_background": "light"
     },
     "output_type": "display_data"
    },
    {
     "data": {
      "text/plain": [
       "<sympy.plotting.plot.Plot at 0x7fc25643b340>"
      ]
     },
     "execution_count": 87,
     "metadata": {},
     "output_type": "execute_result"
    }
   ],
   "source": [
    "sp.plot(H)"
   ]
  },
  {
   "cell_type": "code",
   "execution_count": 88,
   "metadata": {},
   "outputs": [
    {
     "data": {
      "text/latex": [
       "$\\displaystyle \\delta\\left(x\\right)$"
      ],
      "text/plain": [
       "DiracDelta(x)"
      ]
     },
     "execution_count": 88,
     "metadata": {},
     "output_type": "execute_result"
    }
   ],
   "source": [
    "sp.diff(H,x)"
   ]
  },
  {
   "cell_type": "markdown",
   "metadata": {},
   "source": [
    "## **Álgebra lineal**"
   ]
  },
  {
   "cell_type": "markdown",
   "metadata": {},
   "source": [
    "### **Matrices**\n",
    "\n",
    "En SymPy podemos usar la clase `Matrix` para definir matrices:"
   ]
  },
  {
   "cell_type": "code",
   "execution_count": 89,
   "metadata": {},
   "outputs": [],
   "source": [
    "v1, v2 = sp.symbols(\"v_1, v_2\")\n",
    "alpha, beta =  sp.symbols('alpha, beta', real=True)"
   ]
  },
  {
   "cell_type": "code",
   "execution_count": 90,
   "metadata": {},
   "outputs": [
    {
     "data": {
      "text/latex": [
       "$\\displaystyle \\left[\\begin{matrix}i \\alpha & \\beta\\\\- \\beta & i \\alpha\\end{matrix}\\right]$"
      ],
      "text/plain": [
       "Matrix([\n",
       "[I*alpha,    beta],\n",
       "[  -beta, I*alpha]])"
      ]
     },
     "execution_count": 90,
     "metadata": {},
     "output_type": "execute_result"
    }
   ],
   "source": [
    "A = sp.Matrix([[sp.I*alpha, beta],[-beta, sp.I*alpha]])\n",
    "A"
   ]
  },
  {
   "cell_type": "code",
   "execution_count": 91,
   "metadata": {},
   "outputs": [
    {
     "data": {
      "text/latex": [
       "$\\displaystyle \\left[\\begin{matrix}v_{1}\\\\v_{2}\\end{matrix}\\right]$"
      ],
      "text/plain": [
       "Matrix([\n",
       "[v_1],\n",
       "[v_2]])"
      ]
     },
     "execution_count": 91,
     "metadata": {},
     "output_type": "execute_result"
    }
   ],
   "source": [
    "v = sp.Matrix([[v1], [v2]])\n",
    "v"
   ]
  },
  {
   "cell_type": "markdown",
   "metadata": {},
   "source": [
    "La clase `Matrix` nos permite realizar las usuales operaciones matriciales:"
   ]
  },
  {
   "cell_type": "code",
   "execution_count": 92,
   "metadata": {},
   "outputs": [
    {
     "data": {
      "text/latex": [
       "$\\displaystyle \\left[\\begin{matrix}- \\alpha^{2} - \\beta^{2} & 2 i \\alpha \\beta\\\\- 2 i \\alpha \\beta & - \\alpha^{2} - \\beta^{2}\\end{matrix}\\right]$"
      ],
      "text/plain": [
       "Matrix([\n",
       "[-alpha**2 - beta**2,      2*I*alpha*beta],\n",
       "[    -2*I*alpha*beta, -alpha**2 - beta**2]])"
      ]
     },
     "execution_count": 92,
     "metadata": {},
     "output_type": "execute_result"
    }
   ],
   "source": [
    "A**2 # note la diferencia con lo que hace si A fuese un arreglo de Numpy"
   ]
  },
  {
   "cell_type": "code",
   "execution_count": 93,
   "metadata": {},
   "outputs": [
    {
     "data": {
      "text/latex": [
       "$\\displaystyle \\left[\\begin{matrix}i \\alpha v_{1} + \\beta v_{2}\\\\i \\alpha v_{2} - \\beta v_{1}\\end{matrix}\\right]$"
      ],
      "text/plain": [
       "Matrix([\n",
       "[I*alpha*v_1 + beta*v_2],\n",
       "[I*alpha*v_2 - beta*v_1]])"
      ]
     },
     "execution_count": 93,
     "metadata": {},
     "output_type": "execute_result"
    }
   ],
   "source": [
    "A * v"
   ]
  },
  {
   "cell_type": "code",
   "execution_count": 94,
   "metadata": {},
   "outputs": [
    {
     "data": {
      "text/latex": [
       "$\\displaystyle - \\alpha^{2} + \\beta^{2}$"
      ],
      "text/plain": [
       "-alpha**2 + beta**2"
      ]
     },
     "execution_count": 94,
     "metadata": {},
     "output_type": "execute_result"
    }
   ],
   "source": [
    "sp.det(A)"
   ]
  },
  {
   "cell_type": "code",
   "execution_count": 95,
   "metadata": {},
   "outputs": [
    {
     "data": {
      "text/latex": [
       "$\\displaystyle - \\alpha^{2} + \\beta^{2}$"
      ],
      "text/plain": [
       "-alpha**2 + beta**2"
      ]
     },
     "execution_count": 95,
     "metadata": {},
     "output_type": "execute_result"
    }
   ],
   "source": [
    "A.det()"
   ]
  },
  {
   "cell_type": "code",
   "execution_count": 96,
   "metadata": {},
   "outputs": [
    {
     "data": {
      "text/latex": [
       "$\\displaystyle \\left[\\begin{matrix}- \\frac{i \\alpha}{\\alpha^{2} - \\beta^{2}} & \\frac{\\beta}{\\alpha^{2} - \\beta^{2}}\\\\\\frac{\\beta}{- \\alpha^{2} + \\beta^{2}} & \\frac{i \\alpha}{- \\alpha^{2} + \\beta^{2}}\\end{matrix}\\right]$"
      ],
      "text/plain": [
       "Matrix([\n",
       "[-I*alpha/(alpha**2 - beta**2),     beta/(alpha**2 - beta**2)],\n",
       "[   beta/(-alpha**2 + beta**2), I*alpha/(-alpha**2 + beta**2)]])"
      ]
     },
     "execution_count": 96,
     "metadata": {},
     "output_type": "execute_result"
    }
   ],
   "source": [
    "A.inv()"
   ]
  },
  {
   "cell_type": "code",
   "execution_count": 97,
   "metadata": {},
   "outputs": [
    {
     "data": {
      "text/latex": [
       "$\\displaystyle \\left[\\begin{matrix}\\frac{e^{i \\alpha - i \\beta}}{2} + \\frac{e^{i \\alpha + i \\beta}}{2} & \\frac{i e^{i \\alpha - i \\beta}}{2} - \\frac{i e^{i \\alpha + i \\beta}}{2}\\\\- \\frac{i e^{i \\alpha - i \\beta}}{2} + \\frac{i e^{i \\alpha + i \\beta}}{2} & \\frac{e^{i \\alpha - i \\beta}}{2} + \\frac{e^{i \\alpha + i \\beta}}{2}\\end{matrix}\\right]$"
      ],
      "text/plain": [
       "Matrix([\n",
       "[     exp(I*alpha - I*beta)/2 + exp(I*alpha + I*beta)/2, I*exp(I*alpha - I*beta)/2 - I*exp(I*alpha + I*beta)/2],\n",
       "[-I*exp(I*alpha - I*beta)/2 + I*exp(I*alpha + I*beta)/2,     exp(I*alpha - I*beta)/2 + exp(I*alpha + I*beta)/2]])"
      ]
     },
     "execution_count": 97,
     "metadata": {},
     "output_type": "execute_result"
    }
   ],
   "source": [
    "sp.exp(A)"
   ]
  },
  {
   "cell_type": "markdown",
   "metadata": {},
   "source": [
    "## **Solución de (sistemas de) ecuaciones**\n",
    "\n",
    "Podemos solucionar (sistemas de) ecuaciones por medio de la función `solve`:"
   ]
  },
  {
   "cell_type": "code",
   "execution_count": 98,
   "metadata": {},
   "outputs": [
    {
     "data": {
      "text/plain": [
       "[-1, 1]"
      ]
     },
     "execution_count": 98,
     "metadata": {},
     "output_type": "execute_result"
    }
   ],
   "source": [
    "sp.solve(x**2 - 1, x)"
   ]
  },
  {
   "cell_type": "code",
   "execution_count": 99,
   "metadata": {},
   "outputs": [
    {
     "data": {
      "text/plain": [
       "[-I*sqrt(-1/2 + sqrt(5)/2),\n",
       " I*sqrt(-1/2 + sqrt(5)/2),\n",
       " -sqrt(1/2 + sqrt(5)/2),\n",
       " sqrt(1/2 + sqrt(5)/2)]"
      ]
     },
     "execution_count": 99,
     "metadata": {},
     "output_type": "execute_result"
    }
   ],
   "source": [
    "sp.solve(x**4 - x**2 - 1, x)"
   ]
  },
  {
   "cell_type": "markdown",
   "metadata": {},
   "source": [
    "### **Sistemas de ecuaciones:**"
   ]
  },
  {
   "cell_type": "code",
   "execution_count": 100,
   "metadata": {},
   "outputs": [
    {
     "data": {
      "text/plain": [
       "{x: 1, y: 0}"
      ]
     },
     "execution_count": 100,
     "metadata": {},
     "output_type": "execute_result"
    }
   ],
   "source": [
    "sp.solve([x + y - 1, x - y - 1], [x,y])"
   ]
  },
  {
   "cell_type": "code",
   "execution_count": 101,
   "metadata": {},
   "outputs": [
    {
     "data": {
      "text/plain": [
       "{x: a/2 + c/2, y: a/2 - c/2}"
      ]
     },
     "execution_count": 101,
     "metadata": {},
     "output_type": "execute_result"
    }
   ],
   "source": [
    "sp.solve([x + y - a, x - y - c], [x,y])"
   ]
  },
  {
   "cell_type": "code",
   "execution_count": 102,
   "metadata": {},
   "outputs": [
    {
     "data": {
      "text/plain": [
       "[pi/2, 3*pi/2]"
      ]
     },
     "execution_count": 102,
     "metadata": {},
     "output_type": "execute_result"
    }
   ],
   "source": [
    "sp.solve(sp.cos(x),x)"
   ]
  },
  {
   "cell_type": "markdown",
   "metadata": {},
   "source": [
    "# **Ecuaciones diferenciales**"
   ]
  },
  {
   "cell_type": "code",
   "execution_count": 103,
   "metadata": {},
   "outputs": [],
   "source": [
    "y = sp.Function('y')(x)"
   ]
  },
  {
   "cell_type": "code",
   "execution_count": 104,
   "metadata": {},
   "outputs": [
    {
     "data": {
      "text/latex": [
       "$\\displaystyle y{\\left(x \\right)} + \\frac{d^{2}}{d x^{2}} y{\\left(x \\right)}$"
      ],
      "text/plain": [
       "y(x) + Derivative(y(x), (x, 2))"
      ]
     },
     "execution_count": 104,
     "metadata": {},
     "output_type": "execute_result"
    }
   ],
   "source": [
    "eq = y.diff(x,2)+y\n",
    "eq"
   ]
  },
  {
   "cell_type": "code",
   "execution_count": 105,
   "metadata": {},
   "outputs": [
    {
     "data": {
      "text/latex": [
       "$\\displaystyle y{\\left(x \\right)} = C_{1} \\sin{\\left(x \\right)} + C_{2} \\cos{\\left(x \\right)}$"
      ],
      "text/plain": [
       "Eq(y(x), C1*sin(x) + C2*cos(x))"
      ]
     },
     "execution_count": 105,
     "metadata": {},
     "output_type": "execute_result"
    }
   ],
   "source": [
    "sp.dsolve(eq)"
   ]
  },
  {
   "cell_type": "markdown",
   "metadata": {},
   "source": [
    "# Modulo para Física (Physics)\n",
    "Sympy cuenta con un submódulo de Física, donde podemos encontrar objetos y funciones útiles en ésa área. Por ejemplo, las matrices de Pauli están contenidas en los objetos `msigma`"
   ]
  },
  {
   "cell_type": "code",
   "execution_count": 106,
   "metadata": {},
   "outputs": [],
   "source": [
    "from sympy import physics"
   ]
  },
  {
   "cell_type": "code",
   "execution_count": 107,
   "metadata": {},
   "outputs": [],
   "source": [
    "s1 = physics.matrices.msigma(1)\n",
    "s2 = physics.matrices.msigma(2)\n",
    "s3 = physics.matrices.msigma(3)"
   ]
  },
  {
   "cell_type": "code",
   "execution_count": 108,
   "metadata": {},
   "outputs": [
    {
     "data": {
      "text/latex": [
       "$\\displaystyle \\left[\\begin{matrix}0 & 1\\\\1 & 0\\end{matrix}\\right]$"
      ],
      "text/plain": [
       "Matrix([\n",
       "[0, 1],\n",
       "[1, 0]])"
      ]
     },
     "execution_count": 108,
     "metadata": {},
     "output_type": "execute_result"
    }
   ],
   "source": [
    "s1"
   ]
  },
  {
   "cell_type": "code",
   "execution_count": 109,
   "metadata": {},
   "outputs": [
    {
     "data": {
      "text/latex": [
       "$\\displaystyle \\left[\\begin{matrix}0 & - i\\\\i & 0\\end{matrix}\\right]$"
      ],
      "text/plain": [
       "Matrix([\n",
       "[0, -I],\n",
       "[I,  0]])"
      ]
     },
     "execution_count": 109,
     "metadata": {},
     "output_type": "execute_result"
    }
   ],
   "source": [
    "s2"
   ]
  },
  {
   "cell_type": "code",
   "execution_count": 110,
   "metadata": {},
   "outputs": [
    {
     "data": {
      "text/latex": [
       "$\\displaystyle \\left[\\begin{matrix}1 & 0\\\\0 & -1\\end{matrix}\\right]$"
      ],
      "text/plain": [
       "Matrix([\n",
       "[1,  0],\n",
       "[0, -1]])"
      ]
     },
     "execution_count": 110,
     "metadata": {},
     "output_type": "execute_result"
    }
   ],
   "source": [
    "s3"
   ]
  },
  {
   "cell_type": "code",
   "execution_count": 111,
   "metadata": {},
   "outputs": [],
   "source": [
    "a, b, c = sp.symbols('a,b,c', real=True)\n",
    "r = sp.Symbol('r', positive=True)"
   ]
  },
  {
   "cell_type": "code",
   "execution_count": 112,
   "metadata": {},
   "outputs": [
    {
     "data": {
      "text/latex": [
       "$\\displaystyle \\left[\\begin{matrix}- \\frac{\\left(- a - i b\\right) \\left(a - i b\\right) e^{- \\sqrt{- a^{2} - b^{2} - c^{2}}}}{2 \\left(c + \\sqrt{a^{2} + b^{2} + c^{2}}\\right) \\sqrt{a^{2} + b^{2} + c^{2}}} - \\frac{\\left(a - i b\\right) \\left(a + i b\\right) e^{\\sqrt{- a^{2} - b^{2} - c^{2}}}}{2 \\left(c - \\sqrt{a^{2} + b^{2} + c^{2}}\\right) \\sqrt{a^{2} + b^{2} + c^{2}}} & - \\frac{\\left(a - i b\\right) \\left(a^{2} + b^{2}\\right) e^{\\sqrt{- a^{2} - b^{2} - c^{2}}}}{\\left(c - \\sqrt{a^{2} + b^{2} + c^{2}}\\right) \\left(2 a^{2} + 2 b^{2} + 2 c^{2} + 2 c \\sqrt{a^{2} + b^{2} + c^{2}}\\right)} - \\frac{\\left(a - i b\\right) \\left(a^{2} + b^{2} + 2 c^{2} + 2 c \\sqrt{a^{2} + b^{2} + c^{2}}\\right) e^{- \\sqrt{- a^{2} - b^{2} - c^{2}}}}{\\left(c + \\sqrt{a^{2} + b^{2} + c^{2}}\\right) \\left(2 a^{2} + 2 b^{2} + 2 c^{2} + 2 c \\sqrt{a^{2} + b^{2} + c^{2}}\\right)}\\\\\\frac{\\left(- a - i b\\right) e^{- \\sqrt{- a^{2} - b^{2} - c^{2}}}}{2 \\sqrt{a^{2} + b^{2} + c^{2}}} + \\frac{\\left(a + i b\\right) e^{\\sqrt{- a^{2} - b^{2} - c^{2}}}}{2 \\sqrt{a^{2} + b^{2} + c^{2}}} & \\frac{\\left(a^{2} + b^{2}\\right) e^{\\sqrt{- a^{2} - b^{2} - c^{2}}}}{2 a^{2} + 2 b^{2} + 2 c^{2} + 2 c \\sqrt{a^{2} + b^{2} + c^{2}}} + \\frac{\\left(a^{2} + b^{2} + 2 c^{2} + 2 c \\sqrt{a^{2} + b^{2} + c^{2}}\\right) e^{- \\sqrt{- a^{2} - b^{2} - c^{2}}}}{2 a^{2} + 2 b^{2} + 2 c^{2} + 2 c \\sqrt{a^{2} + b^{2} + c^{2}}}\\end{matrix}\\right]$"
      ],
      "text/plain": [
       "Matrix([\n",
       "[-(-a - I*b)*(a - I*b)*exp(-sqrt(-a**2 - b**2 - c**2))/(2*(c + sqrt(a**2 + b**2 + c**2))*sqrt(a**2 + b**2 + c**2)) - (a - I*b)*(a + I*b)*exp(sqrt(-a**2 - b**2 - c**2))/(2*(c - sqrt(a**2 + b**2 + c**2))*sqrt(a**2 + b**2 + c**2)), -(a - I*b)*(a**2 + b**2)*exp(sqrt(-a**2 - b**2 - c**2))/((c - sqrt(a**2 + b**2 + c**2))*(2*a**2 + 2*b**2 + 2*c**2 + 2*c*sqrt(a**2 + b**2 + c**2))) - (a - I*b)*(a**2 + b**2 + 2*c**2 + 2*c*sqrt(a**2 + b**2 + c**2))*exp(-sqrt(-a**2 - b**2 - c**2))/((c + sqrt(a**2 + b**2 + c**2))*(2*a**2 + 2*b**2 + 2*c**2 + 2*c*sqrt(a**2 + b**2 + c**2)))],\n",
       "[                                                                                   (-a - I*b)*exp(-sqrt(-a**2 - b**2 - c**2))/(2*sqrt(a**2 + b**2 + c**2)) + (a + I*b)*exp(sqrt(-a**2 - b**2 - c**2))/(2*sqrt(a**2 + b**2 + c**2)),                                                                                        (a**2 + b**2)*exp(sqrt(-a**2 - b**2 - c**2))/(2*a**2 + 2*b**2 + 2*c**2 + 2*c*sqrt(a**2 + b**2 + c**2)) + (a**2 + b**2 + 2*c**2 + 2*c*sqrt(a**2 + b**2 + c**2))*exp(-sqrt(-a**2 - b**2 - c**2))/(2*a**2 + 2*b**2 + 2*c**2 + 2*c*sqrt(a**2 + b**2 + c**2))]])"
      ]
     },
     "execution_count": 112,
     "metadata": {},
     "output_type": "execute_result"
    }
   ],
   "source": [
    "M = sp.factor(sp.exp(sp.I*(a*s1+b*s2+c*s3)))\n",
    "M"
   ]
  },
  {
   "cell_type": "code",
   "execution_count": 131,
   "metadata": {},
   "outputs": [
    {
     "data": {
      "text/latex": [
       "$\\displaystyle \\left[\\begin{matrix}- \\frac{\\left(- a - i b\\right) \\left(a - i b\\right) e^{- i r}}{2 r \\left(c + r\\right)} - \\frac{\\left(a - i b\\right) \\left(a + i b\\right) e^{i r}}{2 r \\left(c - r\\right)} & - \\frac{\\left(a - i b\\right) \\left(c^{2} + 2 c r + r^{2}\\right) e^{- i r}}{\\left(c + r\\right) \\left(2 c r + 2 r^{2}\\right)} - \\frac{\\left(a - i b\\right) \\left(- c^{2} + r^{2}\\right) e^{i r}}{\\left(c - r\\right) \\left(2 c r + 2 r^{2}\\right)}\\\\\\frac{\\left(- a - i b\\right) e^{- i r}}{2 r} + \\frac{\\left(a + i b\\right) e^{i r}}{2 r} & \\frac{\\left(- c^{2} + r^{2}\\right) e^{i r}}{2 c r + 2 r^{2}} + \\frac{\\left(c^{2} + 2 c r + r^{2}\\right) e^{- i r}}{2 c r + 2 r^{2}}\\end{matrix}\\right]$"
      ],
      "text/plain": [
       "Matrix([\n",
       "[-(-a - I*b)*(a - I*b)*exp(-I*r)/(2*r*(c + r)) - (a - I*b)*(a + I*b)*exp(I*r)/(2*r*(c - r)), -(a - I*b)*(c**2 + 2*c*r + r**2)*exp(-I*r)/((c + r)*(2*c*r + 2*r**2)) - (a - I*b)*(-c**2 + r**2)*exp(I*r)/((c - r)*(2*c*r + 2*r**2))],\n",
       "[                                     (-a - I*b)*exp(-I*r)/(2*r) + (a + I*b)*exp(I*r)/(2*r),                                          (-c**2 + r**2)*exp(I*r)/(2*c*r + 2*r**2) + (c**2 + 2*c*r + r**2)*exp(-I*r)/(2*c*r + 2*r**2)]])"
      ]
     },
     "execution_count": 131,
     "metadata": {},
     "output_type": "execute_result"
    }
   ],
   "source": [
    "sp.factor(M.subs(a**2,r**2-b**2-c**2))"
   ]
  },
  {
   "cell_type": "markdown",
   "metadata": {},
   "source": [
    "## Lectura adicional\n",
    "\n",
    "* http://sympy.org/en/index.html - The SymPy projects web page.\n",
    "* https://github.com/sympy/sympy - The source code of SymPy.\n",
    "* http://live.sympy.org - Online version of SymPy for testing and demonstrations.\n"
   ]
  },
  {
   "cell_type": "markdown",
   "metadata": {},
   "source": [
    "**Nota autor original del Notebook:**\n",
    "\n",
    ">Adaptado a partir de la versión original en inglés de [J.R. Johansson](http://jrjohansson.github.io/) (robert@riken.jp), por [G.F. Rubilar](https://gfrubi.github.io).\n",
    "La última versión del original (en inglés) está disponible en [http://github.com/jrjohansson/scientific-python-lectures](http://github.com/jrjohansson/scientific-python-lectures)."
   ]
  },
  {
   "cell_type": "markdown",
   "metadata": {},
   "source": [
    "## Fin de la sección **\"Simpy\"**:\n",
    "--------------------------\n",
    "* **Validado por el Alumno:** \n",
    "* **Fecha:**"
   ]
  },
  {
   "cell_type": "code",
   "execution_count": null,
   "metadata": {},
   "outputs": [],
   "source": []
  }
 ],
 "metadata": {
  "kernelspec": {
   "display_name": "Python 3 (ipykernel)",
   "language": "python",
   "name": "python3"
  },
  "language_info": {
   "codemirror_mode": {
    "name": "ipython",
    "version": 3
   },
   "file_extension": ".py",
   "mimetype": "text/x-python",
   "name": "python",
   "nbconvert_exporter": "python",
   "pygments_lexer": "ipython3",
   "version": "3.9.12"
  }
 },
 "nbformat": 4,
 "nbformat_minor": 4
}
